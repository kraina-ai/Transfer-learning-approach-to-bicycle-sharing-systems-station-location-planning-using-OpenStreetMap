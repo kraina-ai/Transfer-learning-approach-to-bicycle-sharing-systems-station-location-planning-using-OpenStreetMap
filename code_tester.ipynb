{
 "cells": [
  {
   "cell_type": "markdown",
   "metadata": {},
   "source": [
    "## Initialize DB"
   ]
  },
  {
   "cell_type": "code",
   "execution_count": 1,
   "metadata": {},
   "outputs": [],
   "source": [
    "from db_connector.db_seeder import init_db"
   ]
  },
  {
   "cell_type": "code",
   "execution_count": 3,
   "metadata": {},
   "outputs": [],
   "source": [
    "init_db()"
   ]
  },
  {
   "cell_type": "markdown",
   "metadata": {},
   "source": [
    "## Run single city model"
   ]
  },
  {
   "cell_type": "code",
   "execution_count": 1,
   "metadata": {},
   "outputs": [],
   "source": [
    "from prediction_model.classifiers import OneCityClassifier"
   ]
  },
  {
   "cell_type": "code",
   "execution_count": 2,
   "metadata": {},
   "outputs": [
    {
     "name": "stdout",
     "output_type": "stream",
     "text": [
      "Hex cache size: 56967\n"
     ]
    }
   ],
   "source": [
    "clf = OneCityClassifier(1)"
   ]
  },
  {
   "cell_type": "code",
   "execution_count": 3,
   "metadata": {},
   "outputs": [
    {
     "name": "stdout",
     "output_type": "stream",
     "text": [
      "predict_and_save_data 1\n",
      "Hex cache size: 56967\n"
     ]
    },
    {
     "name": "stderr",
     "output_type": "stream",
     "text": [
      "Loading prediction hexes: 100%|██████████| 56967/56967 [00:00<00:00, 1456443.97it/s]\n",
      "Embedding neighbours hexes [Prediction data]: 100%|██████████| 56967/56967 [00:11<00:00, 4937.92it/s]\n",
      "56967it [00:00, 903028.84it/s]\n",
      "Loading station hexes: 100%|██████████| 292/292 [00:00<00:00, 1021465.19it/s]\n",
      "Loading non-station hexes: 100%|██████████| 730/730 [00:00<00:00, 1167750.54it/s]"
     ]
    },
    {
     "name": "stdout",
     "output_type": "stream",
     "text": [
      "Iteration - 0\n"
     ]
    },
    {
     "name": "stderr",
     "output_type": "stream",
     "text": [
      "\n",
      "Embedding neighbours hexes [Training data]: 100%|██████████| 1022/1022 [00:00<00:00, 4807.04it/s]\n",
      "1022it [00:00, 936138.61it/s]\n",
      "Loading station hexes: 100%|██████████| 292/292 [00:00<00:00, 1147832.02it/s]\n",
      "Loading non-station hexes: 100%|██████████| 730/730 [00:00<00:00, 947645.29it/s]"
     ]
    },
    {
     "name": "stdout",
     "output_type": "stream",
     "text": [
      "[00:28:05] WARNING: ../src/learner.cc:1095: Starting in XGBoost 1.3.0, the default evaluation metric used with the objective 'binary:logistic' was changed from 'error' to 'logloss'. Explicitly set eval_metric if you'd like to restore the old behavior.\n",
      "Iteration - 1\n"
     ]
    },
    {
     "name": "stderr",
     "output_type": "stream",
     "text": [
      "\n",
      "Embedding neighbours hexes [Training data]: 100%|██████████| 1022/1022 [00:00<00:00, 4324.89it/s]\n",
      "1022it [00:00, 830893.33it/s]\n",
      "Loading station hexes: 100%|██████████| 292/292 [00:00<00:00, 1468509.31it/s]\n",
      "Loading non-station hexes: 100%|██████████| 730/730 [00:00<00:00, 1359006.62it/s]"
     ]
    },
    {
     "name": "stdout",
     "output_type": "stream",
     "text": [
      "[00:28:06] WARNING: ../src/learner.cc:1095: Starting in XGBoost 1.3.0, the default evaluation metric used with the objective 'binary:logistic' was changed from 'error' to 'logloss'. Explicitly set eval_metric if you'd like to restore the old behavior.\n",
      "Iteration - 2\n"
     ]
    },
    {
     "name": "stderr",
     "output_type": "stream",
     "text": [
      "\n",
      "Embedding neighbours hexes [Training data]: 100%|██████████| 1022/1022 [00:00<00:00, 4243.90it/s]\n",
      "1022it [00:00, 947519.60it/s]\n",
      "Loading station hexes: 100%|██████████| 292/292 [00:00<00:00, 1458019.96it/s]\n",
      "Loading non-station hexes: 100%|██████████| 730/730 [00:00<00:00, 912076.83it/s]"
     ]
    },
    {
     "name": "stdout",
     "output_type": "stream",
     "text": [
      "[00:28:08] WARNING: ../src/learner.cc:1095: Starting in XGBoost 1.3.0, the default evaluation metric used with the objective 'binary:logistic' was changed from 'error' to 'logloss'. Explicitly set eval_metric if you'd like to restore the old behavior.\n",
      "Iteration - 3\n"
     ]
    },
    {
     "name": "stderr",
     "output_type": "stream",
     "text": [
      "\n",
      "Embedding neighbours hexes [Training data]: 100%|██████████| 1022/1022 [00:00<00:00, 4199.09it/s]\n",
      "1022it [00:00, 761516.91it/s]\n",
      "Loading station hexes: 100%|██████████| 292/292 [00:00<00:00, 1244651.19it/s]\n",
      "Loading non-station hexes: 100%|██████████| 730/730 [00:00<00:00, 971396.55it/s]"
     ]
    },
    {
     "name": "stdout",
     "output_type": "stream",
     "text": [
      "[00:28:09] WARNING: ../src/learner.cc:1095: Starting in XGBoost 1.3.0, the default evaluation metric used with the objective 'binary:logistic' was changed from 'error' to 'logloss'. Explicitly set eval_metric if you'd like to restore the old behavior.\n",
      "Iteration - 4\n"
     ]
    },
    {
     "name": "stderr",
     "output_type": "stream",
     "text": [
      "\n",
      "Embedding neighbours hexes [Training data]: 100%|██████████| 1022/1022 [00:00<00:00, 4622.07it/s]\n",
      "1022it [00:00, 892479.43it/s]\n",
      "Loading station hexes: 100%|██████████| 292/292 [00:00<00:00, 1036156.32it/s]\n",
      "Loading non-station hexes: 100%|██████████| 730/730 [00:00<00:00, 1508296.51it/s]"
     ]
    },
    {
     "name": "stdout",
     "output_type": "stream",
     "text": [
      "[00:28:10] WARNING: ../src/learner.cc:1095: Starting in XGBoost 1.3.0, the default evaluation metric used with the objective 'binary:logistic' was changed from 'error' to 'logloss'. Explicitly set eval_metric if you'd like to restore the old behavior.\n",
      "Iteration - 5\n"
     ]
    },
    {
     "name": "stderr",
     "output_type": "stream",
     "text": [
      "\n",
      "Embedding neighbours hexes [Training data]: 100%|██████████| 1022/1022 [00:00<00:00, 4349.15it/s]\n",
      "1022it [00:00, 864578.19it/s]\n",
      "Loading station hexes: 100%|██████████| 292/292 [00:00<00:00, 1249731.40it/s]\n",
      "Loading non-station hexes: 100%|██████████| 730/730 [00:00<00:00, 1083454.32it/s]"
     ]
    },
    {
     "name": "stdout",
     "output_type": "stream",
     "text": [
      "[00:28:12] WARNING: ../src/learner.cc:1095: Starting in XGBoost 1.3.0, the default evaluation metric used with the objective 'binary:logistic' was changed from 'error' to 'logloss'. Explicitly set eval_metric if you'd like to restore the old behavior.\n",
      "Iteration - 6\n"
     ]
    },
    {
     "name": "stderr",
     "output_type": "stream",
     "text": [
      "\n",
      "Embedding neighbours hexes [Training data]: 100%|██████████| 1022/1022 [00:00<00:00, 3582.80it/s]\n",
      "1022it [00:00, 612368.38it/s]\n",
      "Loading station hexes: 100%|██████████| 292/292 [00:00<00:00, 1029190.56it/s]\n",
      "Loading non-station hexes: 100%|██████████| 730/730 [00:00<00:00, 1522546.95it/s]"
     ]
    },
    {
     "name": "stdout",
     "output_type": "stream",
     "text": [
      "[00:28:13] WARNING: ../src/learner.cc:1095: Starting in XGBoost 1.3.0, the default evaluation metric used with the objective 'binary:logistic' was changed from 'error' to 'logloss'. Explicitly set eval_metric if you'd like to restore the old behavior.\n",
      "Iteration - 7\n"
     ]
    },
    {
     "name": "stderr",
     "output_type": "stream",
     "text": [
      "\n",
      "Embedding neighbours hexes [Training data]: 100%|██████████| 1022/1022 [00:00<00:00, 4093.28it/s]\n",
      "1022it [00:00, 471104.37it/s]\n",
      "Loading station hexes: 100%|██████████| 292/292 [00:00<00:00, 469968.06it/s]\n",
      "Loading non-station hexes: 100%|██████████| 730/730 [00:00<00:00, 1115425.11it/s]"
     ]
    },
    {
     "name": "stdout",
     "output_type": "stream",
     "text": [
      "[00:28:14] WARNING: ../src/learner.cc:1095: Starting in XGBoost 1.3.0, the default evaluation metric used with the objective 'binary:logistic' was changed from 'error' to 'logloss'. Explicitly set eval_metric if you'd like to restore the old behavior.\n",
      "Iteration - 8\n"
     ]
    },
    {
     "name": "stderr",
     "output_type": "stream",
     "text": [
      "\n",
      "Embedding neighbours hexes [Training data]: 100%|██████████| 1022/1022 [00:00<00:00, 4232.53it/s]\n",
      "1022it [00:00, 924429.31it/s]\n",
      "Loading station hexes: 100%|██████████| 292/292 [00:00<00:00, 1332684.19it/s]\n",
      "Loading non-station hexes: 100%|██████████| 730/730 [00:00<00:00, 682684.93it/s]"
     ]
    },
    {
     "name": "stdout",
     "output_type": "stream",
     "text": [
      "[00:28:15] WARNING: ../src/learner.cc:1095: Starting in XGBoost 1.3.0, the default evaluation metric used with the objective 'binary:logistic' was changed from 'error' to 'logloss'. Explicitly set eval_metric if you'd like to restore the old behavior.\n",
      "Iteration - 9\n"
     ]
    },
    {
     "name": "stderr",
     "output_type": "stream",
     "text": [
      "\n",
      "Embedding neighbours hexes [Training data]: 100%|██████████| 1022/1022 [00:00<00:00, 4272.68it/s]\n",
      "1022it [00:00, 923035.89it/s]\n",
      "Loading station hexes: 100%|██████████| 292/292 [00:00<00:00, 1273115.14it/s]\n",
      "Loading non-station hexes: 100%|██████████| 730/730 [00:00<00:00, 1261055.16it/s]"
     ]
    },
    {
     "name": "stdout",
     "output_type": "stream",
     "text": [
      "[00:28:16] WARNING: ../src/learner.cc:1095: Starting in XGBoost 1.3.0, the default evaluation metric used with the objective 'binary:logistic' was changed from 'error' to 'logloss'. Explicitly set eval_metric if you'd like to restore the old behavior.\n",
      "Iteration - 10\n"
     ]
    },
    {
     "name": "stderr",
     "output_type": "stream",
     "text": [
      "\n",
      "Embedding neighbours hexes [Training data]: 100%|██████████| 1022/1022 [00:00<00:00, 4408.10it/s]\n",
      "1022it [00:00, 823233.86it/s]\n",
      "Loading station hexes: 100%|██████████| 292/292 [00:00<00:00, 1023171.90it/s]\n",
      "Loading non-station hexes: 100%|██████████| 730/730 [00:00<00:00, 1352403.67it/s]"
     ]
    },
    {
     "name": "stdout",
     "output_type": "stream",
     "text": [
      "[00:28:17] WARNING: ../src/learner.cc:1095: Starting in XGBoost 1.3.0, the default evaluation metric used with the objective 'binary:logistic' was changed from 'error' to 'logloss'. Explicitly set eval_metric if you'd like to restore the old behavior.\n",
      "Iteration - 11\n"
     ]
    },
    {
     "name": "stderr",
     "output_type": "stream",
     "text": [
      "\n",
      "Embedding neighbours hexes [Training data]: 100%|██████████| 1022/1022 [00:00<00:00, 4186.34it/s]\n",
      "1022it [00:00, 939421.15it/s]\n",
      "Loading station hexes: 100%|██████████| 292/292 [00:00<00:00, 1396507.15it/s]\n",
      "Loading non-station hexes: 100%|██████████| 730/730 [00:00<00:00, 1451797.97it/s]"
     ]
    },
    {
     "name": "stdout",
     "output_type": "stream",
     "text": [
      "[00:28:19] WARNING: ../src/learner.cc:1095: Starting in XGBoost 1.3.0, the default evaluation metric used with the objective 'binary:logistic' was changed from 'error' to 'logloss'. Explicitly set eval_metric if you'd like to restore the old behavior.\n",
      "Iteration - 12\n"
     ]
    },
    {
     "name": "stderr",
     "output_type": "stream",
     "text": [
      "\n",
      "Embedding neighbours hexes [Training data]: 100%|██████████| 1022/1022 [00:00<00:00, 4335.26it/s]\n",
      "1022it [00:00, 577783.89it/s]\n",
      "Loading station hexes: 100%|██████████| 292/292 [00:00<00:00, 1205449.57it/s]\n",
      "Loading non-station hexes: 100%|██████████| 730/730 [00:00<00:00, 628585.90it/s]"
     ]
    },
    {
     "name": "stdout",
     "output_type": "stream",
     "text": [
      "[00:28:20] WARNING: ../src/learner.cc:1095: Starting in XGBoost 1.3.0, the default evaluation metric used with the objective 'binary:logistic' was changed from 'error' to 'logloss'. Explicitly set eval_metric if you'd like to restore the old behavior.\n",
      "Iteration - 13\n"
     ]
    },
    {
     "name": "stderr",
     "output_type": "stream",
     "text": [
      "\n",
      "Embedding neighbours hexes [Training data]: 100%|██████████| 1022/1022 [00:00<00:00, 4808.76it/s]\n",
      "1022it [00:00, 535554.56it/s]\n",
      "Loading station hexes: 100%|██████████| 292/292 [00:00<00:00, 1407743.41it/s]\n",
      "Loading non-station hexes: 100%|██████████| 730/730 [00:00<00:00, 1086915.84it/s]"
     ]
    },
    {
     "name": "stdout",
     "output_type": "stream",
     "text": [
      "[00:28:21] WARNING: ../src/learner.cc:1095: Starting in XGBoost 1.3.0, the default evaluation metric used with the objective 'binary:logistic' was changed from 'error' to 'logloss'. Explicitly set eval_metric if you'd like to restore the old behavior.\n",
      "Iteration - 14\n"
     ]
    },
    {
     "name": "stderr",
     "output_type": "stream",
     "text": [
      "\n",
      "Embedding neighbours hexes [Training data]: 100%|██████████| 1022/1022 [00:00<00:00, 4060.32it/s]\n",
      "1022it [00:00, 1047807.06it/s]\n",
      "Loading station hexes: 100%|██████████| 292/292 [00:00<00:00, 983724.31it/s]\n",
      "Loading non-station hexes: 100%|██████████| 730/730 [00:00<00:00, 731972.73it/s]"
     ]
    },
    {
     "name": "stdout",
     "output_type": "stream",
     "text": [
      "[00:28:22] WARNING: ../src/learner.cc:1095: Starting in XGBoost 1.3.0, the default evaluation metric used with the objective 'binary:logistic' was changed from 'error' to 'logloss'. Explicitly set eval_metric if you'd like to restore the old behavior.\n",
      "Iteration - 15\n"
     ]
    },
    {
     "name": "stderr",
     "output_type": "stream",
     "text": [
      "\n",
      "Embedding neighbours hexes [Training data]: 100%|██████████| 1022/1022 [00:00<00:00, 4079.93it/s]\n",
      "1022it [00:00, 402798.22it/s]\n",
      "Loading station hexes: 100%|██████████| 292/292 [00:00<00:00, 1232129.55it/s]\n",
      "Loading non-station hexes: 100%|██████████| 730/730 [00:00<00:00, 1478436.47it/s]"
     ]
    },
    {
     "name": "stdout",
     "output_type": "stream",
     "text": [
      "[00:28:23] WARNING: ../src/learner.cc:1095: Starting in XGBoost 1.3.0, the default evaluation metric used with the objective 'binary:logistic' was changed from 'error' to 'logloss'. Explicitly set eval_metric if you'd like to restore the old behavior.\n",
      "Iteration - 16\n"
     ]
    },
    {
     "name": "stderr",
     "output_type": "stream",
     "text": [
      "\n",
      "Embedding neighbours hexes [Training data]: 100%|██████████| 1022/1022 [00:00<00:00, 4235.16it/s]\n",
      "1022it [00:00, 756677.61it/s]\n",
      "Loading station hexes: 100%|██████████| 292/292 [00:00<00:00, 1101381.99it/s]\n",
      "Loading non-station hexes: 100%|██████████| 730/730 [00:00<00:00, 795283.62it/s]"
     ]
    },
    {
     "name": "stdout",
     "output_type": "stream",
     "text": [
      "[00:28:24] WARNING: ../src/learner.cc:1095: Starting in XGBoost 1.3.0, the default evaluation metric used with the objective 'binary:logistic' was changed from 'error' to 'logloss'. Explicitly set eval_metric if you'd like to restore the old behavior.\n",
      "Iteration - 17\n"
     ]
    },
    {
     "name": "stderr",
     "output_type": "stream",
     "text": [
      "\n",
      "Embedding neighbours hexes [Training data]: 100%|██████████| 1022/1022 [00:00<00:00, 4481.05it/s]\n",
      "1022it [00:00, 635048.69it/s]\n",
      "Loading station hexes: 100%|██████████| 292/292 [00:00<00:00, 1221073.55it/s]\n",
      "Loading non-station hexes: 100%|██████████| 730/730 [00:00<00:00, 1610648.04it/s]"
     ]
    },
    {
     "name": "stdout",
     "output_type": "stream",
     "text": [
      "[00:28:26] WARNING: ../src/learner.cc:1095: Starting in XGBoost 1.3.0, the default evaluation metric used with the objective 'binary:logistic' was changed from 'error' to 'logloss'. Explicitly set eval_metric if you'd like to restore the old behavior.\n",
      "Iteration - 18\n"
     ]
    },
    {
     "name": "stderr",
     "output_type": "stream",
     "text": [
      "\n",
      "Embedding neighbours hexes [Training data]: 100%|██████████| 1022/1022 [00:00<00:00, 3872.95it/s]\n",
      "1022it [00:00, 948148.35it/s]\n",
      "Loading station hexes: 100%|██████████| 292/292 [00:00<00:00, 1434118.00it/s]\n",
      "Loading non-station hexes: 100%|██████████| 730/730 [00:00<00:00, 1271529.04it/s]"
     ]
    },
    {
     "name": "stdout",
     "output_type": "stream",
     "text": [
      "[00:28:27] WARNING: ../src/learner.cc:1095: Starting in XGBoost 1.3.0, the default evaluation metric used with the objective 'binary:logistic' was changed from 'error' to 'logloss'. Explicitly set eval_metric if you'd like to restore the old behavior.\n",
      "Iteration - 19\n"
     ]
    },
    {
     "name": "stderr",
     "output_type": "stream",
     "text": [
      "\n",
      "Embedding neighbours hexes [Training data]: 100%|██████████| 1022/1022 [00:00<00:00, 4608.63it/s]\n",
      "1022it [00:00, 501823.78it/s]\n",
      "Loading station hexes: 100%|██████████| 292/292 [00:00<00:00, 1289196.60it/s]\n",
      "Loading non-station hexes: 100%|██████████| 730/730 [00:00<00:00, 1310720.00it/s]"
     ]
    },
    {
     "name": "stdout",
     "output_type": "stream",
     "text": [
      "[00:28:28] WARNING: ../src/learner.cc:1095: Starting in XGBoost 1.3.0, the default evaluation metric used with the objective 'binary:logistic' was changed from 'error' to 'logloss'. Explicitly set eval_metric if you'd like to restore the old behavior.\n",
      "Iteration - 20\n"
     ]
    },
    {
     "name": "stderr",
     "output_type": "stream",
     "text": [
      "\n",
      "Embedding neighbours hexes [Training data]: 100%|██████████| 1022/1022 [00:00<00:00, 4753.71it/s]\n",
      "1022it [00:00, 550761.75it/s]\n",
      "Loading station hexes: 100%|██████████| 292/292 [00:00<00:00, 911262.48it/s]\n",
      "Loading non-station hexes: 100%|██████████| 730/730 [00:00<00:00, 750635.43it/s]"
     ]
    },
    {
     "name": "stdout",
     "output_type": "stream",
     "text": [
      "[00:28:30] WARNING: ../src/learner.cc:1095: Starting in XGBoost 1.3.0, the default evaluation metric used with the objective 'binary:logistic' was changed from 'error' to 'logloss'. Explicitly set eval_metric if you'd like to restore the old behavior.\n",
      "Iteration - 21\n"
     ]
    },
    {
     "name": "stderr",
     "output_type": "stream",
     "text": [
      "\n",
      "Embedding neighbours hexes [Training data]: 100%|██████████| 1022/1022 [00:00<00:00, 4936.36it/s]\n",
      "1022it [00:00, 628714.97it/s]\n",
      "Loading station hexes: 100%|██████████| 292/292 [00:00<00:00, 1230891.22it/s]\n",
      "Loading non-station hexes: 100%|██████████| 730/730 [00:00<00:00, 767763.77it/s]"
     ]
    },
    {
     "name": "stdout",
     "output_type": "stream",
     "text": [
      "[00:28:31] WARNING: ../src/learner.cc:1095: Starting in XGBoost 1.3.0, the default evaluation metric used with the objective 'binary:logistic' was changed from 'error' to 'logloss'. Explicitly set eval_metric if you'd like to restore the old behavior.\n",
      "Iteration - 22\n"
     ]
    },
    {
     "name": "stderr",
     "output_type": "stream",
     "text": [
      "\n",
      "Embedding neighbours hexes [Training data]: 100%|██████████| 1022/1022 [00:00<00:00, 4536.62it/s]\n",
      "1022it [00:00, 844979.04it/s]\n",
      "Loading station hexes: 100%|██████████| 292/292 [00:00<00:00, 653192.94it/s]\n",
      "Loading non-station hexes: 100%|██████████| 730/730 [00:00<00:00, 1174019.14it/s]"
     ]
    },
    {
     "name": "stdout",
     "output_type": "stream",
     "text": [
      "[00:28:32] WARNING: ../src/learner.cc:1095: Starting in XGBoost 1.3.0, the default evaluation metric used with the objective 'binary:logistic' was changed from 'error' to 'logloss'. Explicitly set eval_metric if you'd like to restore the old behavior.\n",
      "Iteration - 23\n"
     ]
    },
    {
     "name": "stderr",
     "output_type": "stream",
     "text": [
      "\n",
      "Embedding neighbours hexes [Training data]: 100%|██████████| 1022/1022 [00:00<00:00, 4884.78it/s]\n",
      "1022it [00:00, 795431.19it/s]\n",
      "Loading station hexes: 100%|██████████| 292/292 [00:00<00:00, 1043217.01it/s]\n",
      "Loading non-station hexes: 100%|██████████| 730/730 [00:00<00:00, 1406450.12it/s]"
     ]
    },
    {
     "name": "stdout",
     "output_type": "stream",
     "text": [
      "[00:28:33] WARNING: ../src/learner.cc:1095: Starting in XGBoost 1.3.0, the default evaluation metric used with the objective 'binary:logistic' was changed from 'error' to 'logloss'. Explicitly set eval_metric if you'd like to restore the old behavior.\n",
      "Iteration - 24\n"
     ]
    },
    {
     "name": "stderr",
     "output_type": "stream",
     "text": [
      "\n",
      "Embedding neighbours hexes [Training data]: 100%|██████████| 1022/1022 [00:00<00:00, 4447.38it/s]\n",
      "1022it [00:00, 1226488.89it/s]\n",
      "Loading station hexes: 100%|██████████| 292/292 [00:00<00:00, 938495.61it/s]\n",
      "Loading non-station hexes: 100%|██████████| 730/730 [00:00<00:00, 1153670.66it/s]"
     ]
    },
    {
     "name": "stdout",
     "output_type": "stream",
     "text": [
      "[00:28:35] WARNING: ../src/learner.cc:1095: Starting in XGBoost 1.3.0, the default evaluation metric used with the objective 'binary:logistic' was changed from 'error' to 'logloss'. Explicitly set eval_metric if you'd like to restore the old behavior.\n",
      "Iteration - 25\n"
     ]
    },
    {
     "name": "stderr",
     "output_type": "stream",
     "text": [
      "\n",
      "Embedding neighbours hexes [Training data]: 100%|██████████| 1022/1022 [00:00<00:00, 4703.25it/s]\n",
      "1022it [00:00, 946055.77it/s]\n",
      "Loading station hexes: 100%|██████████| 292/292 [00:00<00:00, 1170876.45it/s]\n",
      "Loading non-station hexes: 100%|██████████| 730/730 [00:00<00:00, 1181722.08it/s]"
     ]
    },
    {
     "name": "stdout",
     "output_type": "stream",
     "text": [
      "[00:28:36] WARNING: ../src/learner.cc:1095: Starting in XGBoost 1.3.0, the default evaluation metric used with the objective 'binary:logistic' was changed from 'error' to 'logloss'. Explicitly set eval_metric if you'd like to restore the old behavior.\n",
      "Iteration - 26\n"
     ]
    },
    {
     "name": "stderr",
     "output_type": "stream",
     "text": [
      "\n",
      "Embedding neighbours hexes [Training data]: 100%|██████████| 1022/1022 [00:00<00:00, 3920.38it/s]\n",
      "1022it [00:00, 650072.59it/s]\n",
      "Loading station hexes: 100%|██████████| 292/292 [00:00<00:00, 1228422.03it/s]\n",
      "Loading non-station hexes: 100%|██████████| 730/730 [00:00<00:00, 1473456.17it/s]"
     ]
    },
    {
     "name": "stdout",
     "output_type": "stream",
     "text": [
      "[00:28:37] WARNING: ../src/learner.cc:1095: Starting in XGBoost 1.3.0, the default evaluation metric used with the objective 'binary:logistic' was changed from 'error' to 'logloss'. Explicitly set eval_metric if you'd like to restore the old behavior.\n",
      "Iteration - 27\n"
     ]
    },
    {
     "name": "stderr",
     "output_type": "stream",
     "text": [
      "\n",
      "Embedding neighbours hexes [Training data]: 100%|██████████| 1022/1022 [00:00<00:00, 4704.04it/s]\n",
      "1022it [00:00, 961763.22it/s]\n",
      "Loading station hexes: 100%|██████████| 292/292 [00:00<00:00, 1148908.79it/s]\n",
      "Loading non-station hexes: 100%|██████████| 730/730 [00:00<00:00, 732673.35it/s]"
     ]
    },
    {
     "name": "stdout",
     "output_type": "stream",
     "text": [
      "[00:28:39] WARNING: ../src/learner.cc:1095: Starting in XGBoost 1.3.0, the default evaluation metric used with the objective 'binary:logistic' was changed from 'error' to 'logloss'. Explicitly set eval_metric if you'd like to restore the old behavior.\n",
      "Iteration - 28\n"
     ]
    },
    {
     "name": "stderr",
     "output_type": "stream",
     "text": [
      "\n",
      "Embedding neighbours hexes [Training data]: 100%|██████████| 1022/1022 [00:00<00:00, 4758.95it/s]\n",
      "1022it [00:00, 887858.05it/s]\n",
      "Loading station hexes: 100%|██████████| 292/292 [00:00<00:00, 1297390.64it/s]\n",
      "Loading non-station hexes: 100%|██████████| 730/730 [00:00<00:00, 1055079.92it/s]"
     ]
    },
    {
     "name": "stdout",
     "output_type": "stream",
     "text": [
      "[00:28:40] WARNING: ../src/learner.cc:1095: Starting in XGBoost 1.3.0, the default evaluation metric used with the objective 'binary:logistic' was changed from 'error' to 'logloss'. Explicitly set eval_metric if you'd like to restore the old behavior.\n",
      "Iteration - 29\n"
     ]
    },
    {
     "name": "stderr",
     "output_type": "stream",
     "text": [
      "\n",
      "Embedding neighbours hexes [Training data]: 100%|██████████| 1022/1022 [00:00<00:00, 4139.49it/s]\n",
      "1022it [00:00, 734254.66it/s]\n",
      "Loading station hexes: 100%|██████████| 292/292 [00:00<00:00, 1164198.45it/s]\n",
      "Loading non-station hexes: 100%|██████████| 730/730 [00:00<00:00, 1363849.41it/s]"
     ]
    },
    {
     "name": "stdout",
     "output_type": "stream",
     "text": [
      "[00:28:41] WARNING: ../src/learner.cc:1095: Starting in XGBoost 1.3.0, the default evaluation metric used with the objective 'binary:logistic' was changed from 'error' to 'logloss'. Explicitly set eval_metric if you'd like to restore the old behavior.\n",
      "Iteration - 30\n"
     ]
    },
    {
     "name": "stderr",
     "output_type": "stream",
     "text": [
      "\n",
      "Embedding neighbours hexes [Training data]: 100%|██████████| 1022/1022 [00:00<00:00, 4360.86it/s]\n",
      "1022it [00:00, 427077.68it/s]\n",
      "Loading station hexes: 100%|██████████| 292/292 [00:00<00:00, 1064063.22it/s]\n",
      "Loading non-station hexes: 100%|██████████| 730/730 [00:00<00:00, 1090399.54it/s]"
     ]
    },
    {
     "name": "stdout",
     "output_type": "stream",
     "text": [
      "[00:28:42] WARNING: ../src/learner.cc:1095: Starting in XGBoost 1.3.0, the default evaluation metric used with the objective 'binary:logistic' was changed from 'error' to 'logloss'. Explicitly set eval_metric if you'd like to restore the old behavior.\n",
      "Iteration - 31\n"
     ]
    },
    {
     "name": "stderr",
     "output_type": "stream",
     "text": [
      "\n",
      "Embedding neighbours hexes [Training data]: 100%|██████████| 1022/1022 [00:00<00:00, 4428.50it/s]\n",
      "1022it [00:00, 838696.67it/s]\n",
      "Loading station hexes: 100%|██████████| 292/292 [00:00<00:00, 821970.99it/s]\n",
      "Loading non-station hexes: 100%|██████████| 730/730 [00:00<00:00, 759385.40it/s]"
     ]
    },
    {
     "name": "stdout",
     "output_type": "stream",
     "text": [
      "[00:28:43] WARNING: ../src/learner.cc:1095: Starting in XGBoost 1.3.0, the default evaluation metric used with the objective 'binary:logistic' was changed from 'error' to 'logloss'. Explicitly set eval_metric if you'd like to restore the old behavior.\n",
      "Iteration - 32\n"
     ]
    },
    {
     "name": "stderr",
     "output_type": "stream",
     "text": [
      "\n",
      "Embedding neighbours hexes [Training data]: 100%|██████████| 1022/1022 [00:00<00:00, 4260.81it/s]\n",
      "1022it [00:00, 749926.29it/s]\n",
      "Loading station hexes: 100%|██████████| 292/292 [00:00<00:00, 961331.84it/s]\n",
      "Loading non-station hexes: 100%|██████████| 730/730 [00:00<00:00, 1400019.17it/s]"
     ]
    },
    {
     "name": "stdout",
     "output_type": "stream",
     "text": [
      "[00:28:44] WARNING: ../src/learner.cc:1095: Starting in XGBoost 1.3.0, the default evaluation metric used with the objective 'binary:logistic' was changed from 'error' to 'logloss'. Explicitly set eval_metric if you'd like to restore the old behavior.\n",
      "Iteration - 33\n"
     ]
    },
    {
     "name": "stderr",
     "output_type": "stream",
     "text": [
      "\n",
      "Embedding neighbours hexes [Training data]: 100%|██████████| 1022/1022 [00:00<00:00, 4229.79it/s]\n",
      "1022it [00:00, 1001771.14it/s]\n",
      "Loading station hexes: 100%|██████████| 292/292 [00:00<00:00, 1359308.29it/s]\n",
      "Loading non-station hexes: 100%|██████████| 730/730 [00:00<00:00, 766035.01it/s]"
     ]
    },
    {
     "name": "stdout",
     "output_type": "stream",
     "text": [
      "[00:28:46] WARNING: ../src/learner.cc:1095: Starting in XGBoost 1.3.0, the default evaluation metric used with the objective 'binary:logistic' was changed from 'error' to 'logloss'. Explicitly set eval_metric if you'd like to restore the old behavior.\n",
      "Iteration - 34\n"
     ]
    },
    {
     "name": "stderr",
     "output_type": "stream",
     "text": [
      "\n",
      "Embedding neighbours hexes [Training data]: 100%|██████████| 1022/1022 [00:00<00:00, 4269.11it/s]\n",
      "1022it [00:00, 866150.47it/s]\n",
      "Loading station hexes: 100%|██████████| 292/292 [00:00<00:00, 1409363.37it/s]\n",
      "Loading non-station hexes: 100%|██████████| 730/730 [00:00<00:00, 1280034.25it/s]"
     ]
    },
    {
     "name": "stdout",
     "output_type": "stream",
     "text": [
      "[00:28:47] WARNING: ../src/learner.cc:1095: Starting in XGBoost 1.3.0, the default evaluation metric used with the objective 'binary:logistic' was changed from 'error' to 'logloss'. Explicitly set eval_metric if you'd like to restore the old behavior.\n",
      "Iteration - 35\n"
     ]
    },
    {
     "name": "stderr",
     "output_type": "stream",
     "text": [
      "\n",
      "Embedding neighbours hexes [Training data]: 100%|██████████| 1022/1022 [00:00<00:00, 4606.26it/s]\n",
      "1022it [00:00, 501412.88it/s]\n",
      "Loading station hexes: 100%|██████████| 292/292 [00:00<00:00, 818674.31it/s]\n",
      "Loading non-station hexes: 100%|██████████| 730/730 [00:00<00:00, 1432775.82it/s]"
     ]
    },
    {
     "name": "stdout",
     "output_type": "stream",
     "text": [
      "[00:28:49] WARNING: ../src/learner.cc:1095: Starting in XGBoost 1.3.0, the default evaluation metric used with the objective 'binary:logistic' was changed from 'error' to 'logloss'. Explicitly set eval_metric if you'd like to restore the old behavior.\n",
      "Iteration - 36\n"
     ]
    },
    {
     "name": "stderr",
     "output_type": "stream",
     "text": [
      "\n",
      "Embedding neighbours hexes [Training data]: 100%|██████████| 1022/1022 [00:00<00:00, 4511.00it/s]\n",
      "1022it [00:00, 899219.36it/s]\n",
      "Loading station hexes: 100%|██████████| 292/292 [00:00<00:00, 1270473.83it/s]\n",
      "Loading non-station hexes: 100%|██████████| 730/730 [00:00<00:00, 1252287.08it/s]"
     ]
    },
    {
     "name": "stdout",
     "output_type": "stream",
     "text": [
      "[00:28:50] WARNING: ../src/learner.cc:1095: Starting in XGBoost 1.3.0, the default evaluation metric used with the objective 'binary:logistic' was changed from 'error' to 'logloss'. Explicitly set eval_metric if you'd like to restore the old behavior.\n",
      "Iteration - 37\n"
     ]
    },
    {
     "name": "stderr",
     "output_type": "stream",
     "text": [
      "\n",
      "Embedding neighbours hexes [Training data]: 100%|██████████| 1022/1022 [00:00<00:00, 3615.42it/s]\n",
      "1022it [00:00, 601963.02it/s]\n",
      "Loading station hexes: 100%|██████████| 292/292 [00:00<00:00, 547490.73it/s]\n",
      "Loading non-station hexes: 100%|██████████| 730/730 [00:00<00:00, 733199.69it/s]"
     ]
    },
    {
     "name": "stdout",
     "output_type": "stream",
     "text": [
      "[00:28:51] WARNING: ../src/learner.cc:1095: Starting in XGBoost 1.3.0, the default evaluation metric used with the objective 'binary:logistic' was changed from 'error' to 'logloss'. Explicitly set eval_metric if you'd like to restore the old behavior.\n",
      "Iteration - 38\n"
     ]
    },
    {
     "name": "stderr",
     "output_type": "stream",
     "text": [
      "\n",
      "Embedding neighbours hexes [Training data]: 100%|██████████| 1022/1022 [00:00<00:00, 4683.54it/s]\n",
      "1022it [00:00, 537839.23it/s]\n",
      "Loading station hexes: 100%|██████████| 292/292 [00:00<00:00, 476922.42it/s]\n",
      "Loading non-station hexes: 100%|██████████| 730/730 [00:00<00:00, 1235610.14it/s]"
     ]
    },
    {
     "name": "stdout",
     "output_type": "stream",
     "text": [
      "[00:28:53] WARNING: ../src/learner.cc:1095: Starting in XGBoost 1.3.0, the default evaluation metric used with the objective 'binary:logistic' was changed from 'error' to 'logloss'. Explicitly set eval_metric if you'd like to restore the old behavior.\n",
      "Iteration - 39\n"
     ]
    },
    {
     "name": "stderr",
     "output_type": "stream",
     "text": [
      "\n",
      "Embedding neighbours hexes [Training data]: 100%|██████████| 1022/1022 [00:00<00:00, 4259.86it/s]\n",
      "1022it [00:00, 767516.33it/s]\n",
      "Loading station hexes: 100%|██████████| 292/292 [00:00<00:00, 1344387.23it/s]\n",
      "Loading non-station hexes: 100%|██████████| 730/730 [00:00<00:00, 1661335.82it/s]"
     ]
    },
    {
     "name": "stdout",
     "output_type": "stream",
     "text": [
      "[00:28:54] WARNING: ../src/learner.cc:1095: Starting in XGBoost 1.3.0, the default evaluation metric used with the objective 'binary:logistic' was changed from 'error' to 'logloss'. Explicitly set eval_metric if you'd like to restore the old behavior.\n",
      "Iteration - 40\n"
     ]
    },
    {
     "name": "stderr",
     "output_type": "stream",
     "text": [
      "\n",
      "Embedding neighbours hexes [Training data]: 100%|██████████| 1022/1022 [00:00<00:00, 3839.89it/s]\n",
      "1022it [00:00, 590112.70it/s]\n",
      "Loading station hexes: 100%|██████████| 292/292 [00:00<00:00, 1168641.95it/s]\n",
      "Loading non-station hexes: 100%|██████████| 730/730 [00:00<00:00, 1413592.76it/s]"
     ]
    },
    {
     "name": "stdout",
     "output_type": "stream",
     "text": [
      "[00:28:56] WARNING: ../src/learner.cc:1095: Starting in XGBoost 1.3.0, the default evaluation metric used with the objective 'binary:logistic' was changed from 'error' to 'logloss'. Explicitly set eval_metric if you'd like to restore the old behavior.\n",
      "Iteration - 41\n"
     ]
    },
    {
     "name": "stderr",
     "output_type": "stream",
     "text": [
      "\n",
      "Embedding neighbours hexes [Training data]: 100%|██████████| 1022/1022 [00:00<00:00, 4722.43it/s]\n",
      "1022it [00:00, 927028.26it/s]\n",
      "Loading station hexes: 100%|██████████| 292/292 [00:00<00:00, 1228422.03it/s]\n",
      "Loading non-station hexes: 100%|██████████| 730/730 [00:00<00:00, 1482732.16it/s]"
     ]
    },
    {
     "name": "stdout",
     "output_type": "stream",
     "text": [
      "[00:28:58] WARNING: ../src/learner.cc:1095: Starting in XGBoost 1.3.0, the default evaluation metric used with the objective 'binary:logistic' was changed from 'error' to 'logloss'. Explicitly set eval_metric if you'd like to restore the old behavior.\n",
      "Iteration - 42\n"
     ]
    },
    {
     "name": "stderr",
     "output_type": "stream",
     "text": [
      "\n",
      "Embedding neighbours hexes [Training data]: 100%|██████████| 1022/1022 [00:00<00:00, 3237.98it/s]\n",
      "1022it [00:00, 450696.95it/s]\n",
      "Loading station hexes: 100%|██████████| 292/292 [00:00<00:00, 1189064.82it/s]\n",
      "Loading non-station hexes: 100%|██████████| 730/730 [00:00<00:00, 1097827.87it/s]"
     ]
    },
    {
     "name": "stdout",
     "output_type": "stream",
     "text": [
      "[00:29:00] WARNING: ../src/learner.cc:1095: Starting in XGBoost 1.3.0, the default evaluation metric used with the objective 'binary:logistic' was changed from 'error' to 'logloss'. Explicitly set eval_metric if you'd like to restore the old behavior.\n",
      "Iteration - 43\n"
     ]
    },
    {
     "name": "stderr",
     "output_type": "stream",
     "text": [
      "\n",
      "Embedding neighbours hexes [Training data]: 100%|██████████| 1022/1022 [00:00<00:00, 4621.23it/s]\n",
      "1022it [00:00, 1070574.10it/s]\n",
      "Loading station hexes: 100%|██████████| 292/292 [00:00<00:00, 887490.41it/s]\n",
      "Loading non-station hexes: 100%|██████████| 730/730 [00:00<00:00, 661162.15it/s]"
     ]
    },
    {
     "name": "stdout",
     "output_type": "stream",
     "text": [
      "[00:29:02] WARNING: ../src/learner.cc:1095: Starting in XGBoost 1.3.0, the default evaluation metric used with the objective 'binary:logistic' was changed from 'error' to 'logloss'. Explicitly set eval_metric if you'd like to restore the old behavior.\n",
      "Iteration - 44\n"
     ]
    },
    {
     "name": "stderr",
     "output_type": "stream",
     "text": [
      "\n",
      "Embedding neighbours hexes [Training data]: 100%|██████████| 1022/1022 [00:00<00:00, 4125.68it/s]\n",
      "1022it [00:00, 532428.11it/s]\n",
      "Loading station hexes: 100%|██████████| 292/292 [00:00<00:00, 1156503.09it/s]\n",
      "Loading non-station hexes: 100%|██████████| 730/730 [00:00<00:00, 737793.23it/s]"
     ]
    },
    {
     "name": "stdout",
     "output_type": "stream",
     "text": [
      "[00:29:04] WARNING: ../src/learner.cc:1095: Starting in XGBoost 1.3.0, the default evaluation metric used with the objective 'binary:logistic' was changed from 'error' to 'logloss'. Explicitly set eval_metric if you'd like to restore the old behavior.\n",
      "Iteration - 45\n"
     ]
    },
    {
     "name": "stderr",
     "output_type": "stream",
     "text": [
      "\n",
      "Embedding neighbours hexes [Training data]: 100%|██████████| 1022/1022 [00:00<00:00, 3906.45it/s]\n",
      "1022it [00:00, 869664.98it/s]\n",
      "Loading station hexes: 100%|██████████| 292/292 [00:00<00:00, 1435799.26it/s]\n",
      "Loading non-station hexes: 100%|██████████| 730/730 [00:00<00:00, 985148.62it/s]"
     ]
    },
    {
     "name": "stdout",
     "output_type": "stream",
     "text": [
      "[00:29:06] WARNING: ../src/learner.cc:1095: Starting in XGBoost 1.3.0, the default evaluation metric used with the objective 'binary:logistic' was changed from 'error' to 'logloss'. Explicitly set eval_metric if you'd like to restore the old behavior.\n",
      "Iteration - 46\n"
     ]
    },
    {
     "name": "stderr",
     "output_type": "stream",
     "text": [
      "\n",
      "Embedding neighbours hexes [Training data]: 100%|██████████| 1022/1022 [00:00<00:00, 4322.85it/s]\n",
      "1022it [00:00, 652944.20it/s]\n",
      "Loading station hexes: 100%|██████████| 292/292 [00:00<00:00, 952361.41it/s]\n",
      "Loading non-station hexes: 100%|██████████| 730/730 [00:00<00:00, 1717241.68it/s]"
     ]
    },
    {
     "name": "stdout",
     "output_type": "stream",
     "text": [
      "[00:29:07] WARNING: ../src/learner.cc:1095: Starting in XGBoost 1.3.0, the default evaluation metric used with the objective 'binary:logistic' was changed from 'error' to 'logloss'. Explicitly set eval_metric if you'd like to restore the old behavior.\n",
      "Iteration - 47\n"
     ]
    },
    {
     "name": "stderr",
     "output_type": "stream",
     "text": [
      "\n",
      "Embedding neighbours hexes [Training data]: 100%|██████████| 1022/1022 [00:00<00:00, 4251.29it/s]\n",
      "1022it [00:00, 943764.57it/s]\n",
      "Loading station hexes: 100%|██████████| 292/292 [00:00<00:00, 1139290.02it/s]\n",
      "Loading non-station hexes: 100%|██████████| 730/730 [00:00<00:00, 550295.10it/s]"
     ]
    },
    {
     "name": "stdout",
     "output_type": "stream",
     "text": [
      "[00:29:08] WARNING: ../src/learner.cc:1095: Starting in XGBoost 1.3.0, the default evaluation metric used with the objective 'binary:logistic' was changed from 'error' to 'logloss'. Explicitly set eval_metric if you'd like to restore the old behavior.\n",
      "Iteration - 48\n"
     ]
    },
    {
     "name": "stderr",
     "output_type": "stream",
     "text": [
      "\n",
      "Embedding neighbours hexes [Training data]: 100%|██████████| 1022/1022 [00:00<00:00, 4065.37it/s]\n",
      "1022it [00:00, 1037159.13it/s]\n",
      "Loading station hexes: 100%|██████████| 292/292 [00:00<00:00, 1297390.64it/s]\n",
      "Loading non-station hexes: 100%|██████████| 730/730 [00:00<00:00, 1358403.69it/s]"
     ]
    },
    {
     "name": "stdout",
     "output_type": "stream",
     "text": [
      "[00:29:10] WARNING: ../src/learner.cc:1095: Starting in XGBoost 1.3.0, the default evaluation metric used with the objective 'binary:logistic' was changed from 'error' to 'logloss'. Explicitly set eval_metric if you'd like to restore the old behavior.\n",
      "Iteration - 49\n"
     ]
    },
    {
     "name": "stderr",
     "output_type": "stream",
     "text": [
      "\n",
      "Embedding neighbours hexes [Training data]: 100%|██████████| 1022/1022 [00:00<00:00, 3771.91it/s]\n",
      "1022it [00:00, 534219.68it/s]\n",
      "Loading station hexes: 100%|██████████| 292/292 [00:00<00:00, 1261314.90it/s]\n",
      "Loading non-station hexes: 100%|██████████| 730/730 [00:00<00:00, 911262.48it/s]"
     ]
    },
    {
     "name": "stdout",
     "output_type": "stream",
     "text": [
      "[00:29:11] WARNING: ../src/learner.cc:1095: Starting in XGBoost 1.3.0, the default evaluation metric used with the objective 'binary:logistic' was changed from 'error' to 'logloss'. Explicitly set eval_metric if you'd like to restore the old behavior.\n",
      "Iteration - 50\n"
     ]
    },
    {
     "name": "stderr",
     "output_type": "stream",
     "text": [
      "\n",
      "Embedding neighbours hexes [Training data]: 100%|██████████| 1022/1022 [00:00<00:00, 4570.50it/s]\n",
      "1022it [00:00, 471570.81it/s]\n",
      "Loading station hexes: 100%|██████████| 292/292 [00:00<00:00, 1354797.31it/s]\n",
      "Loading non-station hexes: 100%|██████████| 730/730 [00:00<00:00, 990887.35it/s]"
     ]
    },
    {
     "name": "stdout",
     "output_type": "stream",
     "text": [
      "[00:29:13] WARNING: ../src/learner.cc:1095: Starting in XGBoost 1.3.0, the default evaluation metric used with the objective 'binary:logistic' was changed from 'error' to 'logloss'. Explicitly set eval_metric if you'd like to restore the old behavior.\n",
      "Iteration - 51\n"
     ]
    },
    {
     "name": "stderr",
     "output_type": "stream",
     "text": [
      "\n",
      "Embedding neighbours hexes [Training data]: 100%|██████████| 1022/1022 [00:00<00:00, 3657.93it/s]\n",
      "1022it [00:00, 534486.12it/s]\n",
      "Loading station hexes: 100%|██████████| 292/292 [00:00<00:00, 883648.46it/s]\n",
      "Loading non-station hexes: 100%|██████████| 730/730 [00:00<00:00, 1328347.90it/s]"
     ]
    },
    {
     "name": "stdout",
     "output_type": "stream",
     "text": [
      "[00:29:16] WARNING: ../src/learner.cc:1095: Starting in XGBoost 1.3.0, the default evaluation metric used with the objective 'binary:logistic' was changed from 'error' to 'logloss'. Explicitly set eval_metric if you'd like to restore the old behavior.\n",
      "Iteration - 52\n"
     ]
    },
    {
     "name": "stderr",
     "output_type": "stream",
     "text": [
      "\n",
      "Embedding neighbours hexes [Training data]: 100%|██████████| 1022/1022 [00:00<00:00, 3437.31it/s]\n",
      "1022it [00:00, 692724.42it/s]\n",
      "Loading station hexes: 100%|██████████| 292/292 [00:00<00:00, 1189064.82it/s]\n",
      "Loading non-station hexes: 100%|██████████| 730/730 [00:00<00:00, 664750.74it/s]"
     ]
    },
    {
     "name": "stdout",
     "output_type": "stream",
     "text": [
      "[00:29:23] WARNING: ../src/learner.cc:1095: Starting in XGBoost 1.3.0, the default evaluation metric used with the objective 'binary:logistic' was changed from 'error' to 'logloss'. Explicitly set eval_metric if you'd like to restore the old behavior.\n",
      "Iteration - 53\n"
     ]
    },
    {
     "name": "stderr",
     "output_type": "stream",
     "text": [
      "\n",
      "Embedding neighbours hexes [Training data]: 100%|██████████| 1022/1022 [00:00<00:00, 3427.65it/s]\n",
      "1022it [00:00, 836568.83it/s]\n",
      "Loading station hexes: 100%|██████████| 292/292 [00:00<00:00, 922241.54it/s]\n",
      "Loading non-station hexes: 100%|██████████| 730/730 [00:00<00:00, 1524062.68it/s]"
     ]
    },
    {
     "name": "stdout",
     "output_type": "stream",
     "text": [
      "[00:29:25] WARNING: ../src/learner.cc:1095: Starting in XGBoost 1.3.0, the default evaluation metric used with the objective 'binary:logistic' was changed from 'error' to 'logloss'. Explicitly set eval_metric if you'd like to restore the old behavior.\n",
      "Iteration - 54\n"
     ]
    },
    {
     "name": "stderr",
     "output_type": "stream",
     "text": [
      "\n",
      "Embedding neighbours hexes [Training data]: 100%|██████████| 1022/1022 [00:00<00:00, 4508.57it/s]\n",
      "1022it [00:00, 418856.62it/s]\n",
      "Loading station hexes: 100%|██████████| 292/292 [00:00<00:00, 1200722.32it/s]\n",
      "Loading non-station hexes: 100%|██████████| 730/730 [00:00<00:00, 1740671.93it/s]"
     ]
    },
    {
     "name": "stdout",
     "output_type": "stream",
     "text": [
      "[00:29:27] WARNING: ../src/learner.cc:1095: Starting in XGBoost 1.3.0, the default evaluation metric used with the objective 'binary:logistic' was changed from 'error' to 'logloss'. Explicitly set eval_metric if you'd like to restore the old behavior.\n",
      "Iteration - 55\n"
     ]
    },
    {
     "name": "stderr",
     "output_type": "stream",
     "text": [
      "\n",
      "Embedding neighbours hexes [Training data]: 100%|██████████| 1022/1022 [00:00<00:00, 4253.86it/s]\n",
      "1022it [00:00, 973116.61it/s]\n",
      "Loading station hexes: 100%|██████████| 292/292 [00:00<00:00, 1109363.01it/s]\n",
      "Loading non-station hexes: 100%|██████████| 730/730 [00:00<00:00, 1324899.14it/s]"
     ]
    },
    {
     "name": "stdout",
     "output_type": "stream",
     "text": [
      "[00:29:28] WARNING: ../src/learner.cc:1095: Starting in XGBoost 1.3.0, the default evaluation metric used with the objective 'binary:logistic' was changed from 'error' to 'logloss'. Explicitly set eval_metric if you'd like to restore the old behavior.\n",
      "Iteration - 56\n"
     ]
    },
    {
     "name": "stderr",
     "output_type": "stream",
     "text": [
      "\n",
      "Embedding neighbours hexes [Training data]: 100%|██████████| 1022/1022 [00:00<00:00, 4745.42it/s]\n",
      "1022it [00:00, 558875.97it/s]\n",
      "Loading station hexes: 100%|██████████| 292/292 [00:00<00:00, 1253568.85it/s]\n",
      "Loading non-station hexes: 100%|██████████| 730/730 [00:00<00:00, 1887695.39it/s]"
     ]
    },
    {
     "name": "stdout",
     "output_type": "stream",
     "text": [
      "[00:29:30] WARNING: ../src/learner.cc:1095: Starting in XGBoost 1.3.0, the default evaluation metric used with the objective 'binary:logistic' was changed from 'error' to 'logloss'. Explicitly set eval_metric if you'd like to restore the old behavior.\n",
      "Iteration - 57\n"
     ]
    },
    {
     "name": "stderr",
     "output_type": "stream",
     "text": [
      "\n",
      "Embedding neighbours hexes [Training data]: 100%|██████████| 1022/1022 [00:00<00:00, 4113.35it/s]\n",
      "1022it [00:00, 1054768.38it/s]\n",
      "Loading station hexes: 100%|██████████| 292/292 [00:00<00:00, 1253568.85it/s]\n",
      "Loading non-station hexes: 100%|██████████| 730/730 [00:00<00:00, 868115.09it/s]"
     ]
    },
    {
     "name": "stdout",
     "output_type": "stream",
     "text": [
      "[00:29:31] WARNING: ../src/learner.cc:1095: Starting in XGBoost 1.3.0, the default evaluation metric used with the objective 'binary:logistic' was changed from 'error' to 'logloss'. Explicitly set eval_metric if you'd like to restore the old behavior.\n",
      "Iteration - 58\n"
     ]
    },
    {
     "name": "stderr",
     "output_type": "stream",
     "text": [
      "\n",
      "Embedding neighbours hexes [Training data]: 100%|██████████| 1022/1022 [00:00<00:00, 4453.21it/s]\n",
      "1022it [00:00, 830732.30it/s]\n",
      "Loading station hexes: 100%|██████████| 292/292 [00:00<00:00, 899880.06it/s]\n",
      "Loading non-station hexes: 100%|██████████| 730/730 [00:00<00:00, 1530920.96it/s]"
     ]
    },
    {
     "name": "stdout",
     "output_type": "stream",
     "text": [
      "[00:29:32] WARNING: ../src/learner.cc:1095: Starting in XGBoost 1.3.0, the default evaluation metric used with the objective 'binary:logistic' was changed from 'error' to 'logloss'. Explicitly set eval_metric if you'd like to restore the old behavior.\n",
      "Iteration - 59\n"
     ]
    },
    {
     "name": "stderr",
     "output_type": "stream",
     "text": [
      "\n",
      "Embedding neighbours hexes [Training data]: 100%|██████████| 1022/1022 [00:00<00:00, 2464.26it/s]\n",
      "1022it [00:00, 744197.69it/s]\n",
      "Loading station hexes: 100%|██████████| 292/292 [00:00<00:00, 1348829.04it/s]\n",
      "Loading non-station hexes: 100%|██████████| 730/730 [00:00<00:00, 1220343.53it/s]"
     ]
    },
    {
     "name": "stdout",
     "output_type": "stream",
     "text": [
      "[00:29:34] WARNING: ../src/learner.cc:1095: Starting in XGBoost 1.3.0, the default evaluation metric used with the objective 'binary:logistic' was changed from 'error' to 'logloss'. Explicitly set eval_metric if you'd like to restore the old behavior.\n",
      "Iteration - 60\n"
     ]
    },
    {
     "name": "stderr",
     "output_type": "stream",
     "text": [
      "\n",
      "Embedding neighbours hexes [Training data]: 100%|██████████| 1022/1022 [00:00<00:00, 3904.50it/s]\n",
      "1022it [00:00, 846146.60it/s]\n",
      "Loading station hexes: 100%|██████████| 292/292 [00:00<00:00, 1204264.28it/s]\n",
      "Loading non-station hexes: 100%|██████████| 730/730 [00:00<00:00, 726933.03it/s]"
     ]
    },
    {
     "name": "stdout",
     "output_type": "stream",
     "text": [
      "[00:29:35] WARNING: ../src/learner.cc:1095: Starting in XGBoost 1.3.0, the default evaluation metric used with the objective 'binary:logistic' was changed from 'error' to 'logloss'. Explicitly set eval_metric if you'd like to restore the old behavior.\n",
      "Iteration - 61\n"
     ]
    },
    {
     "name": "stderr",
     "output_type": "stream",
     "text": [
      "\n",
      "Embedding neighbours hexes [Training data]: 100%|██████████| 1022/1022 [00:00<00:00, 3893.44it/s]\n",
      "1022it [00:00, 732873.77it/s]\n",
      "Loading station hexes: 100%|██████████| 292/292 [00:00<00:00, 927128.51it/s]\n",
      "Loading non-station hexes: 100%|██████████| 730/730 [00:00<00:00, 807447.76it/s]"
     ]
    },
    {
     "name": "stdout",
     "output_type": "stream",
     "text": [
      "[00:29:37] WARNING: ../src/learner.cc:1095: Starting in XGBoost 1.3.0, the default evaluation metric used with the objective 'binary:logistic' was changed from 'error' to 'logloss'. Explicitly set eval_metric if you'd like to restore the old behavior.\n",
      "Iteration - 62\n"
     ]
    },
    {
     "name": "stderr",
     "output_type": "stream",
     "text": [
      "\n",
      "Embedding neighbours hexes [Training data]: 100%|██████████| 1022/1022 [00:00<00:00, 4515.83it/s]\n",
      "1022it [00:00, 591496.99it/s]\n",
      "Loading station hexes: 100%|██████████| 292/292 [00:00<00:00, 1283791.16it/s]\n",
      "Loading non-station hexes: 100%|██████████| 730/730 [00:00<00:00, 1153670.66it/s]"
     ]
    },
    {
     "name": "stdout",
     "output_type": "stream",
     "text": [
      "[00:29:38] WARNING: ../src/learner.cc:1095: Starting in XGBoost 1.3.0, the default evaluation metric used with the objective 'binary:logistic' was changed from 'error' to 'logloss'. Explicitly set eval_metric if you'd like to restore the old behavior.\n",
      "Iteration - 63\n"
     ]
    },
    {
     "name": "stderr",
     "output_type": "stream",
     "text": [
      "\n",
      "Embedding neighbours hexes [Training data]: 100%|██████████| 1022/1022 [00:00<00:00, 4865.43it/s]\n",
      "1022it [00:00, 713359.74it/s]\n",
      "Loading station hexes: 100%|██████████| 292/292 [00:00<00:00, 1258722.27it/s]\n",
      "Loading non-station hexes: 100%|██████████| 730/730 [00:00<00:00, 1338802.76it/s]"
     ]
    },
    {
     "name": "stdout",
     "output_type": "stream",
     "text": [
      "[00:29:39] WARNING: ../src/learner.cc:1095: Starting in XGBoost 1.3.0, the default evaluation metric used with the objective 'binary:logistic' was changed from 'error' to 'logloss'. Explicitly set eval_metric if you'd like to restore the old behavior.\n",
      "Iteration - 64\n"
     ]
    },
    {
     "name": "stderr",
     "output_type": "stream",
     "text": [
      "\n",
      "Embedding neighbours hexes [Training data]: 100%|██████████| 1022/1022 [00:00<00:00, 4398.87it/s]\n",
      "1022it [00:00, 722010.90it/s]\n",
      "Loading station hexes: 100%|██████████| 292/292 [00:00<00:00, 826408.08it/s]\n",
      "Loading non-station hexes: 100%|██████████| 730/730 [00:00<00:00, 739039.81it/s]"
     ]
    },
    {
     "name": "stdout",
     "output_type": "stream",
     "text": [
      "[00:29:40] WARNING: ../src/learner.cc:1095: Starting in XGBoost 1.3.0, the default evaluation metric used with the objective 'binary:logistic' was changed from 'error' to 'logloss'. Explicitly set eval_metric if you'd like to restore the old behavior.\n",
      "Iteration - 65\n"
     ]
    },
    {
     "name": "stderr",
     "output_type": "stream",
     "text": [
      "\n",
      "Embedding neighbours hexes [Training data]: 100%|██████████| 1022/1022 [00:00<00:00, 4298.92it/s]\n",
      "1022it [00:00, 879117.86it/s]\n",
      "Loading station hexes: 100%|██████████| 292/292 [00:00<00:00, 794767.53it/s]\n",
      "Loading non-station hexes: 100%|██████████| 730/730 [00:00<00:00, 1274174.75it/s]"
     ]
    },
    {
     "name": "stdout",
     "output_type": "stream",
     "text": [
      "[00:29:41] WARNING: ../src/learner.cc:1095: Starting in XGBoost 1.3.0, the default evaluation metric used with the objective 'binary:logistic' was changed from 'error' to 'logloss'. Explicitly set eval_metric if you'd like to restore the old behavior.\n",
      "Iteration - 66\n"
     ]
    },
    {
     "name": "stderr",
     "output_type": "stream",
     "text": [
      "\n",
      "Embedding neighbours hexes [Training data]: 100%|██████████| 1022/1022 [00:00<00:00, 4219.53it/s]\n",
      "1022it [00:00, 499310.27it/s]\n",
      "Loading station hexes: 100%|██████████| 292/292 [00:00<00:00, 1296017.74it/s]\n",
      "Loading non-station hexes: 100%|██████████| 730/730 [00:00<00:00, 1110973.12it/s]"
     ]
    },
    {
     "name": "stdout",
     "output_type": "stream",
     "text": [
      "[00:29:42] WARNING: ../src/learner.cc:1095: Starting in XGBoost 1.3.0, the default evaluation metric used with the objective 'binary:logistic' was changed from 'error' to 'logloss'. Explicitly set eval_metric if you'd like to restore the old behavior.\n",
      "Iteration - 67\n"
     ]
    },
    {
     "name": "stderr",
     "output_type": "stream",
     "text": [
      "\n",
      "Embedding neighbours hexes [Training data]: 100%|██████████| 1022/1022 [00:00<00:00, 3474.74it/s]\n",
      "1022it [00:00, 842487.95it/s]\n",
      "Loading station hexes: 100%|██████████| 292/292 [00:00<00:00, 1061297.03it/s]\n",
      "Loading non-station hexes: 100%|██████████| 730/730 [00:00<00:00, 755264.41it/s]"
     ]
    },
    {
     "name": "stdout",
     "output_type": "stream",
     "text": [
      "[00:29:45] WARNING: ../src/learner.cc:1095: Starting in XGBoost 1.3.0, the default evaluation metric used with the objective 'binary:logistic' was changed from 'error' to 'logloss'. Explicitly set eval_metric if you'd like to restore the old behavior.\n",
      "Iteration - 68\n"
     ]
    },
    {
     "name": "stderr",
     "output_type": "stream",
     "text": [
      "\n",
      "Embedding neighbours hexes [Training data]: 100%|██████████| 1022/1022 [00:00<00:00, 3451.21it/s]\n",
      "1022it [00:00, 577861.78it/s]\n",
      "Loading station hexes: 100%|██████████| 292/292 [00:00<00:00, 1215016.63it/s]\n",
      "Loading non-station hexes: 100%|██████████| 730/730 [00:00<00:00, 783280.10it/s]"
     ]
    },
    {
     "name": "stdout",
     "output_type": "stream",
     "text": [
      "[00:29:47] WARNING: ../src/learner.cc:1095: Starting in XGBoost 1.3.0, the default evaluation metric used with the objective 'binary:logistic' was changed from 'error' to 'logloss'. Explicitly set eval_metric if you'd like to restore the old behavior.\n",
      "Iteration - 69\n"
     ]
    },
    {
     "name": "stderr",
     "output_type": "stream",
     "text": [
      "\n",
      "Embedding neighbours hexes [Training data]: 100%|██████████| 1022/1022 [00:00<00:00, 4910.49it/s]\n",
      "1022it [00:00, 984289.02it/s]\n",
      "Loading station hexes: 100%|██████████| 292/292 [00:00<00:00, 1269157.27it/s]\n",
      "Loading non-station hexes: 100%|██████████| 730/730 [00:00<00:00, 925587.04it/s]"
     ]
    },
    {
     "name": "stdout",
     "output_type": "stream",
     "text": [
      "[00:29:48] WARNING: ../src/learner.cc:1095: Starting in XGBoost 1.3.0, the default evaluation metric used with the objective 'binary:logistic' was changed from 'error' to 'logloss'. Explicitly set eval_metric if you'd like to restore the old behavior.\n",
      "Iteration - 70\n"
     ]
    },
    {
     "name": "stderr",
     "output_type": "stream",
     "text": [
      "\n",
      "Embedding neighbours hexes [Training data]: 100%|██████████| 1022/1022 [00:00<00:00, 4481.33it/s]\n",
      "1022it [00:00, 516206.49it/s]\n",
      "Loading station hexes: 100%|██████████| 292/292 [00:00<00:00, 1153236.13it/s]\n",
      "Loading non-station hexes: 100%|██████████| 730/730 [00:00<00:00, 1064618.19it/s]"
     ]
    },
    {
     "name": "stdout",
     "output_type": "stream",
     "text": [
      "[00:29:49] WARNING: ../src/learner.cc:1095: Starting in XGBoost 1.3.0, the default evaluation metric used with the objective 'binary:logistic' was changed from 'error' to 'logloss'. Explicitly set eval_metric if you'd like to restore the old behavior.\n",
      "Iteration - 71\n"
     ]
    },
    {
     "name": "stderr",
     "output_type": "stream",
     "text": [
      "\n",
      "Embedding neighbours hexes [Training data]: 100%|██████████| 1022/1022 [00:00<00:00, 4662.86it/s]\n",
      "1022it [00:00, 769997.97it/s]\n",
      "Loading station hexes: 100%|██████████| 292/292 [00:00<00:00, 1113397.06it/s]\n",
      "Loading non-station hexes: 100%|██████████| 730/730 [00:00<00:00, 868607.64it/s]"
     ]
    },
    {
     "name": "stdout",
     "output_type": "stream",
     "text": [
      "[00:29:51] WARNING: ../src/learner.cc:1095: Starting in XGBoost 1.3.0, the default evaluation metric used with the objective 'binary:logistic' was changed from 'error' to 'logloss'. Explicitly set eval_metric if you'd like to restore the old behavior.\n",
      "Iteration - 72\n"
     ]
    },
    {
     "name": "stderr",
     "output_type": "stream",
     "text": [
      "\n",
      "Embedding neighbours hexes [Training data]: 100%|██████████| 1022/1022 [00:00<00:00, 3622.84it/s]\n",
      "1022it [00:00, 570175.40it/s]\n",
      "Loading station hexes: 100%|██████████| 292/292 [00:00<00:00, 623910.73it/s]\n",
      "Loading non-station hexes: 100%|██████████| 730/730 [00:00<00:00, 706307.25it/s]"
     ]
    },
    {
     "name": "stdout",
     "output_type": "stream",
     "text": [
      "[00:29:53] WARNING: ../src/learner.cc:1095: Starting in XGBoost 1.3.0, the default evaluation metric used with the objective 'binary:logistic' was changed from 'error' to 'logloss'. Explicitly set eval_metric if you'd like to restore the old behavior.\n",
      "Iteration - 73\n"
     ]
    },
    {
     "name": "stderr",
     "output_type": "stream",
     "text": [
      "\n",
      "Embedding neighbours hexes [Training data]: 100%|██████████| 1022/1022 [00:00<00:00, 4506.95it/s]\n",
      "1022it [00:00, 780513.24it/s]\n",
      "Loading station hexes: 100%|██████████| 292/292 [00:00<00:00, 1435799.26it/s]\n",
      "Loading non-station hexes: 100%|██████████| 730/730 [00:00<00:00, 1625181.49it/s]"
     ]
    },
    {
     "name": "stdout",
     "output_type": "stream",
     "text": [
      "[00:29:54] WARNING: ../src/learner.cc:1095: Starting in XGBoost 1.3.0, the default evaluation metric used with the objective 'binary:logistic' was changed from 'error' to 'logloss'. Explicitly set eval_metric if you'd like to restore the old behavior.\n",
      "Iteration - 74\n"
     ]
    },
    {
     "name": "stderr",
     "output_type": "stream",
     "text": [
      "\n",
      "Embedding neighbours hexes [Training data]: 100%|██████████| 1022/1022 [00:00<00:00, 4027.70it/s]\n",
      "1022it [00:00, 992953.14it/s]\n",
      "Loading station hexes: 100%|██████████| 292/292 [00:00<00:00, 1337048.87it/s]\n",
      "Loading non-station hexes: 100%|██████████| 730/730 [00:00<00:00, 613964.69it/s]"
     ]
    },
    {
     "name": "stdout",
     "output_type": "stream",
     "text": [
      "[00:29:55] WARNING: ../src/learner.cc:1095: Starting in XGBoost 1.3.0, the default evaluation metric used with the objective 'binary:logistic' was changed from 'error' to 'logloss'. Explicitly set eval_metric if you'd like to restore the old behavior.\n",
      "Iteration - 75\n"
     ]
    },
    {
     "name": "stderr",
     "output_type": "stream",
     "text": [
      "\n",
      "Embedding neighbours hexes [Training data]: 100%|██████████| 1022/1022 [00:00<00:00, 4646.93it/s]\n",
      "1022it [00:00, 736905.40it/s]\n",
      "Loading station hexes: 100%|██████████| 292/292 [00:00<00:00, 1242126.54it/s]\n",
      "Loading non-station hexes: 100%|██████████| 730/730 [00:00<00:00, 1309598.77it/s]"
     ]
    },
    {
     "name": "stdout",
     "output_type": "stream",
     "text": [
      "[00:29:57] WARNING: ../src/learner.cc:1095: Starting in XGBoost 1.3.0, the default evaluation metric used with the objective 'binary:logistic' was changed from 'error' to 'logloss'. Explicitly set eval_metric if you'd like to restore the old behavior.\n",
      "Iteration - 76\n"
     ]
    },
    {
     "name": "stderr",
     "output_type": "stream",
     "text": [
      "\n",
      "Embedding neighbours hexes [Training data]: 100%|██████████| 1022/1022 [00:00<00:00, 4131.08it/s]\n",
      "1022it [00:00, 531174.56it/s]\n",
      "Loading station hexes: 100%|██████████| 292/292 [00:00<00:00, 927830.88it/s]\n",
      "Loading non-station hexes: 100%|██████████| 730/730 [00:00<00:00, 1200722.32it/s]"
     ]
    },
    {
     "name": "stdout",
     "output_type": "stream",
     "text": [
      "[00:29:58] WARNING: ../src/learner.cc:1095: Starting in XGBoost 1.3.0, the default evaluation metric used with the objective 'binary:logistic' was changed from 'error' to 'logloss'. Explicitly set eval_metric if you'd like to restore the old behavior.\n",
      "Iteration - 77\n"
     ]
    },
    {
     "name": "stderr",
     "output_type": "stream",
     "text": [
      "\n",
      "Embedding neighbours hexes [Training data]: 100%|██████████| 1022/1022 [00:00<00:00, 4606.93it/s]\n",
      "1022it [00:00, 888226.00it/s]\n",
      "Loading station hexes: 100%|██████████| 292/292 [00:00<00:00, 1322609.90it/s]\n",
      "Loading non-station hexes: 100%|██████████| 730/730 [00:00<00:00, 1456632.69it/s]"
     ]
    },
    {
     "name": "stdout",
     "output_type": "stream",
     "text": [
      "[00:29:59] WARNING: ../src/learner.cc:1095: Starting in XGBoost 1.3.0, the default evaluation metric used with the objective 'binary:logistic' was changed from 'error' to 'logloss'. Explicitly set eval_metric if you'd like to restore the old behavior.\n",
      "Iteration - 78\n"
     ]
    },
    {
     "name": "stderr",
     "output_type": "stream",
     "text": [
      "\n",
      "Embedding neighbours hexes [Training data]: 100%|██████████| 1022/1022 [00:00<00:00, 4456.01it/s]\n",
      "1022it [00:00, 618643.19it/s]\n",
      "Loading station hexes: 100%|██████████| 292/292 [00:00<00:00, 1134015.53it/s]\n",
      "Loading non-station hexes: 100%|██████████| 730/730 [00:00<00:00, 1191841.93it/s]"
     ]
    },
    {
     "name": "stdout",
     "output_type": "stream",
     "text": [
      "[00:30:01] WARNING: ../src/learner.cc:1095: Starting in XGBoost 1.3.0, the default evaluation metric used with the objective 'binary:logistic' was changed from 'error' to 'logloss'. Explicitly set eval_metric if you'd like to restore the old behavior.\n",
      "Iteration - 79\n"
     ]
    },
    {
     "name": "stderr",
     "output_type": "stream",
     "text": [
      "\n",
      "Embedding neighbours hexes [Training data]: 100%|██████████| 1022/1022 [00:00<00:00, 4644.36it/s]\n",
      "1022it [00:00, 957894.68it/s]\n",
      "Loading station hexes: 100%|██████████| 292/292 [00:00<00:00, 1037033.67it/s]\n",
      "Loading non-station hexes: 100%|██████████| 730/730 [00:00<00:00, 1465697.42it/s]"
     ]
    },
    {
     "name": "stdout",
     "output_type": "stream",
     "text": [
      "[00:30:02] WARNING: ../src/learner.cc:1095: Starting in XGBoost 1.3.0, the default evaluation metric used with the objective 'binary:logistic' was changed from 'error' to 'logloss'. Explicitly set eval_metric if you'd like to restore the old behavior.\n",
      "Iteration - 80\n"
     ]
    },
    {
     "name": "stderr",
     "output_type": "stream",
     "text": [
      "\n",
      "Embedding neighbours hexes [Training data]: 100%|██████████| 1022/1022 [00:00<00:00, 4914.15it/s]\n",
      "1022it [00:00, 981584.31it/s]\n",
      "Loading station hexes: 100%|██████████| 292/292 [00:00<00:00, 1020613.97it/s]\n",
      "Loading non-station hexes: 100%|██████████| 730/730 [00:00<00:00, 1538614.03it/s]"
     ]
    },
    {
     "name": "stdout",
     "output_type": "stream",
     "text": [
      "[00:30:03] WARNING: ../src/learner.cc:1095: Starting in XGBoost 1.3.0, the default evaluation metric used with the objective 'binary:logistic' was changed from 'error' to 'logloss'. Explicitly set eval_metric if you'd like to restore the old behavior.\n",
      "Iteration - 81\n"
     ]
    },
    {
     "name": "stderr",
     "output_type": "stream",
     "text": [
      "\n",
      "Embedding neighbours hexes [Training data]: 100%|██████████| 1022/1022 [00:00<00:00, 4735.14it/s]\n",
      "1022it [00:00, 875526.69it/s]\n",
      "Loading station hexes: 100%|██████████| 292/292 [00:00<00:00, 1409363.37it/s]\n",
      "Loading non-station hexes: 100%|██████████| 730/730 [00:00<00:00, 865416.03it/s]"
     ]
    },
    {
     "name": "stdout",
     "output_type": "stream",
     "text": [
      "[00:30:04] WARNING: ../src/learner.cc:1095: Starting in XGBoost 1.3.0, the default evaluation metric used with the objective 'binary:logistic' was changed from 'error' to 'logloss'. Explicitly set eval_metric if you'd like to restore the old behavior.\n",
      "Iteration - 82\n"
     ]
    },
    {
     "name": "stderr",
     "output_type": "stream",
     "text": [
      "\n",
      "Embedding neighbours hexes [Training data]: 100%|██████████| 1022/1022 [00:00<00:00, 4851.40it/s]\n",
      "1022it [00:00, 1071644.67it/s]\n",
      "Loading station hexes: 100%|██████████| 292/292 [00:00<00:00, 1025742.69it/s]\n",
      "Loading non-station hexes: 100%|██████████| 730/730 [00:00<00:00, 1694433.82it/s]"
     ]
    },
    {
     "name": "stdout",
     "output_type": "stream",
     "text": [
      "[00:30:05] WARNING: ../src/learner.cc:1095: Starting in XGBoost 1.3.0, the default evaluation metric used with the objective 'binary:logistic' was changed from 'error' to 'logloss'. Explicitly set eval_metric if you'd like to restore the old behavior.\n",
      "Iteration - 83\n"
     ]
    },
    {
     "name": "stderr",
     "output_type": "stream",
     "text": [
      "\n",
      "Embedding neighbours hexes [Training data]: 100%|██████████| 1022/1022 [00:00<00:00, 4430.76it/s]\n",
      "1022it [00:00, 630564.68it/s]\n",
      "Loading station hexes: 100%|██████████| 292/292 [00:00<00:00, 1331235.62it/s]\n",
      "Loading non-station hexes: 100%|██████████| 730/730 [00:00<00:00, 1035455.50it/s]"
     ]
    },
    {
     "name": "stdout",
     "output_type": "stream",
     "text": [
      "[00:30:06] WARNING: ../src/learner.cc:1095: Starting in XGBoost 1.3.0, the default evaluation metric used with the objective 'binary:logistic' was changed from 'error' to 'logloss'. Explicitly set eval_metric if you'd like to restore the old behavior.\n",
      "Iteration - 84\n"
     ]
    },
    {
     "name": "stderr",
     "output_type": "stream",
     "text": [
      "\n",
      "Embedding neighbours hexes [Training data]: 100%|██████████| 1022/1022 [00:00<00:00, 4441.26it/s]\n",
      "1022it [00:00, 853730.07it/s]\n",
      "Loading station hexes: 100%|██████████| 292/292 [00:00<00:00, 614519.20it/s]\n",
      "Loading non-station hexes: 100%|██████████| 730/730 [00:00<00:00, 1487775.47it/s]"
     ]
    },
    {
     "name": "stdout",
     "output_type": "stream",
     "text": [
      "[00:30:08] WARNING: ../src/learner.cc:1095: Starting in XGBoost 1.3.0, the default evaluation metric used with the objective 'binary:logistic' was changed from 'error' to 'logloss'. Explicitly set eval_metric if you'd like to restore the old behavior.\n",
      "Iteration - 85\n"
     ]
    },
    {
     "name": "stderr",
     "output_type": "stream",
     "text": [
      "\n",
      "Embedding neighbours hexes [Training data]: 100%|██████████| 1022/1022 [00:00<00:00, 4199.06it/s]\n",
      "1022it [00:00, 821026.37it/s]\n",
      "Loading station hexes: 100%|██████████| 292/292 [00:00<00:00, 1235859.50it/s]\n",
      "Loading non-station hexes: 100%|██████████| 730/730 [00:00<00:00, 1565358.85it/s]"
     ]
    },
    {
     "name": "stdout",
     "output_type": "stream",
     "text": [
      "[00:30:09] WARNING: ../src/learner.cc:1095: Starting in XGBoost 1.3.0, the default evaluation metric used with the objective 'binary:logistic' was changed from 'error' to 'logloss'. Explicitly set eval_metric if you'd like to restore the old behavior.\n",
      "Iteration - 86\n"
     ]
    },
    {
     "name": "stderr",
     "output_type": "stream",
     "text": [
      "\n",
      "Embedding neighbours hexes [Training data]: 100%|██████████| 1022/1022 [00:00<00:00, 4339.80it/s]\n",
      "1022it [00:00, 544534.89it/s]\n",
      "Loading station hexes: 100%|██████████| 292/292 [00:00<00:00, 1332684.19it/s]\n",
      "Loading non-station hexes: 100%|██████████| 730/730 [00:00<00:00, 1558982.65it/s]"
     ]
    },
    {
     "name": "stdout",
     "output_type": "stream",
     "text": [
      "[00:30:10] WARNING: ../src/learner.cc:1095: Starting in XGBoost 1.3.0, the default evaluation metric used with the objective 'binary:logistic' was changed from 'error' to 'logloss'. Explicitly set eval_metric if you'd like to restore the old behavior.\n",
      "Iteration - 87\n"
     ]
    },
    {
     "name": "stderr",
     "output_type": "stream",
     "text": [
      "\n",
      "Embedding neighbours hexes [Training data]: 100%|██████████| 1022/1022 [00:00<00:00, 4409.05it/s]\n",
      "1022it [00:00, 694295.22it/s]\n",
      "Loading station hexes: 100%|██████████| 292/292 [00:00<00:00, 1331235.62it/s]\n",
      "Loading non-station hexes: 100%|██████████| 730/730 [00:00<00:00, 1315789.39it/s]"
     ]
    },
    {
     "name": "stdout",
     "output_type": "stream",
     "text": [
      "[00:30:12] WARNING: ../src/learner.cc:1095: Starting in XGBoost 1.3.0, the default evaluation metric used with the objective 'binary:logistic' was changed from 'error' to 'logloss'. Explicitly set eval_metric if you'd like to restore the old behavior.\n",
      "Iteration - 88\n"
     ]
    },
    {
     "name": "stderr",
     "output_type": "stream",
     "text": [
      "\n",
      "Embedding neighbours hexes [Training data]: 100%|██████████| 1022/1022 [00:00<00:00, 4678.22it/s]\n",
      "1022it [00:00, 908365.90it/s]\n",
      "Loading station hexes: 100%|██████████| 292/292 [00:00<00:00, 639215.43it/s]\n",
      "Loading non-station hexes: 100%|██████████| 730/730 [00:00<00:00, 1516514.08it/s]"
     ]
    },
    {
     "name": "stdout",
     "output_type": "stream",
     "text": [
      "[00:30:13] WARNING: ../src/learner.cc:1095: Starting in XGBoost 1.3.0, the default evaluation metric used with the objective 'binary:logistic' was changed from 'error' to 'logloss'. Explicitly set eval_metric if you'd like to restore the old behavior.\n",
      "Iteration - 89\n"
     ]
    },
    {
     "name": "stderr",
     "output_type": "stream",
     "text": [
      "\n",
      "Embedding neighbours hexes [Training data]: 100%|██████████| 1022/1022 [00:00<00:00, 4028.04it/s]\n",
      "1022it [00:00, 572689.20it/s]\n",
      "Loading station hexes: 100%|██████████| 292/292 [00:00<00:00, 905870.39it/s]\n",
      "Loading non-station hexes: 100%|██████████| 730/730 [00:00<00:00, 844879.12it/s]"
     ]
    },
    {
     "name": "stdout",
     "output_type": "stream",
     "text": [
      "[00:30:15] WARNING: ../src/learner.cc:1095: Starting in XGBoost 1.3.0, the default evaluation metric used with the objective 'binary:logistic' was changed from 'error' to 'logloss'. Explicitly set eval_metric if you'd like to restore the old behavior.\n",
      "Iteration - 90\n"
     ]
    },
    {
     "name": "stderr",
     "output_type": "stream",
     "text": [
      "\n",
      "Embedding neighbours hexes [Training data]: 100%|██████████| 1022/1022 [00:00<00:00, 4209.73it/s]\n",
      "1022it [00:00, 932473.07it/s]\n",
      "Loading station hexes: 100%|██████████| 292/292 [00:00<00:00, 1387017.86it/s]\n",
      "Loading non-station hexes: 100%|██████████| 730/730 [00:00<00:00, 1613193.85it/s]"
     ]
    },
    {
     "name": "stdout",
     "output_type": "stream",
     "text": [
      "[00:30:16] WARNING: ../src/learner.cc:1095: Starting in XGBoost 1.3.0, the default evaluation metric used with the objective 'binary:logistic' was changed from 'error' to 'logloss'. Explicitly set eval_metric if you'd like to restore the old behavior.\n",
      "Iteration - 91\n"
     ]
    },
    {
     "name": "stderr",
     "output_type": "stream",
     "text": [
      "\n",
      "Embedding neighbours hexes [Training data]: 100%|██████████| 1022/1022 [00:00<00:00, 4635.59it/s]\n",
      "1022it [00:00, 929641.88it/s]\n",
      "Loading station hexes: 100%|██████████| 292/292 [00:00<00:00, 1278430.86it/s]\n",
      "Loading non-station hexes: 100%|██████████| 730/730 [00:00<00:00, 1797910.70it/s]"
     ]
    },
    {
     "name": "stdout",
     "output_type": "stream",
     "text": [
      "[00:30:17] WARNING: ../src/learner.cc:1095: Starting in XGBoost 1.3.0, the default evaluation metric used with the objective 'binary:logistic' was changed from 'error' to 'logloss'. Explicitly set eval_metric if you'd like to restore the old behavior.\n",
      "Iteration - 92\n"
     ]
    },
    {
     "name": "stderr",
     "output_type": "stream",
     "text": [
      "\n",
      "Embedding neighbours hexes [Training data]: 100%|██████████| 1022/1022 [00:00<00:00, 4266.82it/s]\n",
      "1022it [00:00, 813083.97it/s]\n",
      "Loading station hexes: 100%|██████████| 292/292 [00:00<00:00, 1240868.05it/s]\n",
      "Loading non-station hexes: 100%|██████████| 730/730 [00:00<00:00, 1671311.09it/s]"
     ]
    },
    {
     "name": "stdout",
     "output_type": "stream",
     "text": [
      "[00:30:19] WARNING: ../src/learner.cc:1095: Starting in XGBoost 1.3.0, the default evaluation metric used with the objective 'binary:logistic' was changed from 'error' to 'logloss'. Explicitly set eval_metric if you'd like to restore the old behavior.\n",
      "Iteration - 93\n"
     ]
    },
    {
     "name": "stderr",
     "output_type": "stream",
     "text": [
      "\n",
      "Embedding neighbours hexes [Training data]: 100%|██████████| 1022/1022 [00:00<00:00, 4586.07it/s]\n",
      "1022it [00:00, 983160.25it/s]\n",
      "Loading station hexes: 100%|██████████| 292/292 [00:00<00:00, 1300145.19it/s]\n",
      "Loading non-station hexes: 100%|██████████| 730/730 [00:00<00:00, 1151501.29it/s]"
     ]
    },
    {
     "name": "stdout",
     "output_type": "stream",
     "text": [
      "[00:30:20] WARNING: ../src/learner.cc:1095: Starting in XGBoost 1.3.0, the default evaluation metric used with the objective 'binary:logistic' was changed from 'error' to 'logloss'. Explicitly set eval_metric if you'd like to restore the old behavior.\n",
      "Iteration - 94\n"
     ]
    },
    {
     "name": "stderr",
     "output_type": "stream",
     "text": [
      "\n",
      "Embedding neighbours hexes [Training data]: 100%|██████████| 1022/1022 [00:00<00:00, 4422.05it/s]\n",
      "1022it [00:00, 1030427.57it/s]\n",
      "Loading station hexes: 100%|██████████| 292/292 [00:00<00:00, 1399699.16it/s]\n",
      "Loading non-station hexes: 100%|██████████| 730/730 [00:00<00:00, 1468509.31it/s]"
     ]
    },
    {
     "name": "stdout",
     "output_type": "stream",
     "text": [
      "[00:30:21] WARNING: ../src/learner.cc:1095: Starting in XGBoost 1.3.0, the default evaluation metric used with the objective 'binary:logistic' was changed from 'error' to 'logloss'. Explicitly set eval_metric if you'd like to restore the old behavior.\n",
      "Iteration - 95\n"
     ]
    },
    {
     "name": "stderr",
     "output_type": "stream",
     "text": [
      "\n",
      "Embedding neighbours hexes [Training data]: 100%|██████████| 1022/1022 [00:00<00:00, 4531.66it/s]\n",
      "1022it [00:00, 804689.07it/s]\n",
      "Loading station hexes: 100%|██████████| 292/292 [00:00<00:00, 820869.15it/s]\n",
      "Loading non-station hexes: 100%|██████████| 730/730 [00:00<00:00, 1229161.75it/s]"
     ]
    },
    {
     "name": "stdout",
     "output_type": "stream",
     "text": [
      "[00:30:23] WARNING: ../src/learner.cc:1095: Starting in XGBoost 1.3.0, the default evaluation metric used with the objective 'binary:logistic' was changed from 'error' to 'logloss'. Explicitly set eval_metric if you'd like to restore the old behavior.\n",
      "Iteration - 96\n"
     ]
    },
    {
     "name": "stderr",
     "output_type": "stream",
     "text": [
      "\n",
      "Embedding neighbours hexes [Training data]: 100%|██████████| 1022/1022 [00:00<00:00, 4298.06it/s]\n",
      "1022it [00:00, 792783.19it/s]\n",
      "Loading station hexes: 100%|██████████| 292/292 [00:00<00:00, 654239.73it/s]\n",
      "Loading non-station hexes: 100%|██████████| 730/730 [00:00<00:00, 1287028.97it/s]"
     ]
    },
    {
     "name": "stdout",
     "output_type": "stream",
     "text": [
      "[00:30:24] WARNING: ../src/learner.cc:1095: Starting in XGBoost 1.3.0, the default evaluation metric used with the objective 'binary:logistic' was changed from 'error' to 'logloss'. Explicitly set eval_metric if you'd like to restore the old behavior.\n",
      "Iteration - 97\n"
     ]
    },
    {
     "name": "stderr",
     "output_type": "stream",
     "text": [
      "\n",
      "Embedding neighbours hexes [Training data]: 100%|██████████| 1022/1022 [00:00<00:00, 4284.38it/s]\n",
      "1022it [00:00, 913787.83it/s]\n",
      "Loading station hexes: 100%|██████████| 292/292 [00:00<00:00, 1111376.38it/s]\n",
      "Loading non-station hexes: 100%|██████████| 730/730 [00:00<00:00, 1639979.60it/s]"
     ]
    },
    {
     "name": "stdout",
     "output_type": "stream",
     "text": [
      "[00:30:25] WARNING: ../src/learner.cc:1095: Starting in XGBoost 1.3.0, the default evaluation metric used with the objective 'binary:logistic' was changed from 'error' to 'logloss'. Explicitly set eval_metric if you'd like to restore the old behavior.\n",
      "Iteration - 98\n"
     ]
    },
    {
     "name": "stderr",
     "output_type": "stream",
     "text": [
      "\n",
      "Embedding neighbours hexes [Training data]: 100%|██████████| 1022/1022 [00:00<00:00, 4544.57it/s]\n",
      "1022it [00:00, 881830.63it/s]\n",
      "Loading station hexes: 100%|██████████| 292/292 [00:00<00:00, 560520.26it/s]\n",
      "Loading non-station hexes: 100%|██████████| 730/730 [00:00<00:00, 743526.45it/s]"
     ]
    },
    {
     "name": "stdout",
     "output_type": "stream",
     "text": [
      "[00:30:26] WARNING: ../src/learner.cc:1095: Starting in XGBoost 1.3.0, the default evaluation metric used with the objective 'binary:logistic' was changed from 'error' to 'logloss'. Explicitly set eval_metric if you'd like to restore the old behavior.\n",
      "Iteration - 99\n"
     ]
    },
    {
     "name": "stderr",
     "output_type": "stream",
     "text": [
      "\n",
      "Embedding neighbours hexes [Training data]: 100%|██████████| 1022/1022 [00:00<00:00, 4393.18it/s]\n",
      "1022it [00:00, 552322.99it/s]\n"
     ]
    },
    {
     "name": "stdout",
     "output_type": "stream",
     "text": [
      "[00:30:28] WARNING: ../src/learner.cc:1095: Starting in XGBoost 1.3.0, the default evaluation metric used with the objective 'binary:logistic' was changed from 'error' to 'logloss'. Explicitly set eval_metric if you'd like to restore the old behavior.\n"
     ]
    }
   ],
   "source": [
    "clf.predict_and_save_data(1, 100)"
   ]
  },
  {
   "cell_type": "markdown",
   "metadata": {},
   "source": [
    "## Run all single cities crossover"
   ]
  },
  {
   "cell_type": "code",
   "execution_count": 1,
   "metadata": {},
   "outputs": [],
   "source": [
    "from prediction_model.classifiers import OneCityClassifier\n",
    "from db_connector.models import PredictionResult"
   ]
  },
  {
   "cell_type": "code",
   "execution_count": 2,
   "metadata": {},
   "outputs": [
    {
     "name": "stdout",
     "output_type": "stream",
     "text": [
      "Skipping pair 1 - 1\n",
      "Skipping pair 1 - 2\n",
      "Skipping pair 1 - 3\n",
      "Skipping pair 1 - 4\n",
      "Skipping pair 1 - 5\n",
      "Skipping pair 1 - 6\n",
      "Skipping pair 1 - 7\n",
      "Skipping pair 1 - 8\n",
      "Skipping pair 1 - 9\n",
      "Skipping pair 1 - 10\n",
      "Skipping pair 1 - 11\n",
      "Skipping pair 1 - 12\n",
      "Skipping pair 1 - 13\n",
      "Skipping pair 1 - 14\n",
      "Skipping pair 1 - 15\n",
      "Skipping pair 1 - 16\n",
      "Skipping pair 1 - 17\n",
      "Skipping pair 1 - 18\n",
      "Skipping pair 1 - 19\n",
      "Skipping pair 1 - 20\n",
      "Skipping pair 1 - 21\n",
      "Skipping pair 1 - 22\n",
      "Skipping pair 1 - 23\n",
      "Skipping pair 1 - 24\n",
      "Skipping pair 1 - 25\n",
      "Skipping pair 1 - 26\n",
      "Skipping pair 1 - 27\n",
      "Skipping pair 1 - 28\n",
      "Skipping pair 1 - 29\n",
      "Skipping pair 1 - 30\n",
      "Skipping pair 1 - 31\n",
      "Skipping pair 1 - 32\n",
      "Skipping pair 1 - 33\n",
      "Skipping pair 1 - 34\n",
      "Skipping pair 2 - 1\n",
      "Skipping pair 2 - 2\n",
      "Skipping pair 2 - 3\n",
      "Skipping pair 2 - 4\n",
      "Skipping pair 2 - 5\n",
      "Skipping pair 2 - 6\n",
      "Skipping pair 2 - 7\n",
      "Skipping pair 2 - 8\n",
      "Skipping pair 2 - 9\n",
      "Skipping pair 2 - 10\n",
      "Skipping pair 2 - 11\n",
      "Skipping pair 2 - 12\n",
      "Skipping pair 2 - 13\n",
      "Skipping pair 2 - 14\n",
      "Skipping pair 2 - 15\n",
      "Skipping pair 2 - 16\n",
      "Skipping pair 2 - 17\n",
      "Skipping pair 2 - 18\n",
      "Skipping pair 2 - 19\n",
      "Skipping pair 2 - 20\n",
      "Skipping pair 2 - 21\n",
      "Skipping pair 2 - 22\n",
      "Skipping pair 2 - 23\n",
      "Skipping pair 2 - 24\n",
      "Skipping pair 2 - 25\n",
      "Skipping pair 2 - 26\n",
      "Skipping pair 2 - 27\n",
      "Skipping pair 2 - 28\n",
      "Skipping pair 2 - 29\n",
      "Skipping pair 2 - 30\n",
      "Skipping pair 2 - 31\n",
      "Skipping pair 2 - 32\n",
      "Skipping pair 2 - 33\n",
      "Skipping pair 2 - 34\n",
      "Skipping pair 3 - 1\n",
      "Skipping pair 3 - 2\n",
      "Skipping pair 3 - 3\n",
      "Skipping pair 3 - 4\n",
      "Skipping pair 3 - 5\n",
      "Skipping pair 3 - 6\n",
      "Skipping pair 3 - 7\n",
      "Skipping pair 3 - 8\n",
      "Skipping pair 3 - 9\n",
      "Skipping pair 3 - 10\n",
      "Skipping pair 3 - 11\n",
      "Skipping pair 3 - 12\n",
      "Skipping pair 3 - 13\n",
      "Skipping pair 3 - 14\n",
      "Skipping pair 3 - 15\n",
      "Skipping pair 3 - 16\n",
      "Skipping pair 3 - 17\n",
      "Skipping pair 3 - 18\n",
      "Skipping pair 3 - 19\n",
      "Skipping pair 3 - 20\n",
      "Skipping pair 3 - 21\n",
      "Skipping pair 3 - 22\n",
      "Skipping pair 3 - 23\n",
      "Skipping pair 3 - 24\n",
      "Skipping pair 3 - 25\n",
      "Skipping pair 3 - 26\n",
      "Skipping pair 3 - 27\n",
      "Skipping pair 3 - 28\n",
      "Skipping pair 3 - 29\n",
      "Skipping pair 3 - 30\n",
      "Skipping pair 3 - 31\n",
      "Skipping pair 3 - 32\n",
      "Skipping pair 3 - 33\n",
      "Skipping pair 3 - 34\n",
      "Skipping pair 4 - 1\n",
      "Skipping pair 4 - 2\n",
      "Skipping pair 4 - 3\n",
      "Skipping pair 4 - 4\n",
      "Skipping pair 4 - 5\n",
      "Skipping pair 4 - 6\n",
      "Skipping pair 4 - 7\n",
      "Skipping pair 4 - 8\n",
      "Skipping pair 4 - 9\n",
      "Skipping pair 4 - 10\n",
      "Skipping pair 4 - 11\n",
      "Skipping pair 4 - 12\n",
      "Skipping pair 4 - 13\n",
      "Skipping pair 4 - 14\n",
      "Skipping pair 4 - 15\n",
      "Skipping pair 4 - 16\n",
      "Skipping pair 4 - 17\n",
      "Skipping pair 4 - 18\n",
      "Skipping pair 4 - 19\n",
      "Skipping pair 4 - 20\n",
      "Skipping pair 4 - 21\n",
      "Skipping pair 4 - 22\n",
      "Skipping pair 4 - 23\n",
      "Skipping pair 4 - 24\n",
      "Skipping pair 4 - 25\n",
      "Skipping pair 4 - 26\n",
      "Skipping pair 4 - 27\n",
      "Skipping pair 4 - 28\n",
      "Skipping pair 4 - 29\n",
      "Skipping pair 4 - 30\n",
      "Skipping pair 4 - 31\n",
      "Skipping pair 4 - 32\n",
      "Skipping pair 4 - 33\n",
      "Skipping pair 4 - 34\n",
      "Skipping pair 5 - 1\n",
      "Skipping pair 5 - 2\n",
      "Skipping pair 5 - 3\n",
      "Skipping pair 5 - 4\n",
      "Skipping pair 5 - 5\n",
      "Skipping pair 5 - 6\n",
      "Skipping pair 5 - 7\n",
      "Skipping pair 5 - 8\n",
      "Skipping pair 5 - 9\n",
      "Skipping pair 5 - 10\n",
      "Skipping pair 5 - 11\n",
      "Skipping pair 5 - 12\n",
      "Skipping pair 5 - 13\n",
      "Skipping pair 5 - 14\n",
      "Skipping pair 5 - 15\n",
      "Skipping pair 5 - 16\n",
      "Skipping pair 5 - 17\n",
      "Skipping pair 5 - 18\n",
      "Skipping pair 5 - 19\n",
      "Hex cache size: 143284 / 143284 / 0\n",
      "Hex cache size: 437895 / 437895 / 0\n"
     ]
    },
    {
     "name": "stderr",
     "output_type": "stream",
     "text": [
      "Embedding neighbours hexes [Prediction data]: 100%|██████████| 294611/294611 [00:58<00:00, 4997.79it/s]\n",
      "Generating predictions [Bordeaux] (area_id: 20): 100%|██████████| 20/20 [00:02<00:00,  6.85it/s]\n",
      "Saving results to DB [Bordeaux] (area_id: 20): 100%|██████████| 295/295 [00:18<00:00, 15.85it/s]\n"
     ]
    },
    {
     "name": "stdout",
     "output_type": "stream",
     "text": [
      "Hex cache size: 437895 / 437895 / 1\n",
      "Hex cache size: 474654 / 474654 / 1\n"
     ]
    },
    {
     "name": "stderr",
     "output_type": "stream",
     "text": [
      "Embedding neighbours hexes [Prediction data]: 100%|██████████| 36759/36759 [00:07<00:00, 4884.23it/s]\n",
      "Generating predictions [Bordeaux] (area_id: 21): 100%|██████████| 20/20 [00:00<00:00, 29.90it/s]\n",
      "Saving results to DB [Bordeaux] (area_id: 21): 100%|██████████| 37/37 [00:02<00:00, 15.90it/s]\n"
     ]
    },
    {
     "name": "stdout",
     "output_type": "stream",
     "text": [
      "Hex cache size: 474654 / 474654 / 2\n",
      "Hex cache size: 528474 / 528474 / 2\n"
     ]
    },
    {
     "name": "stderr",
     "output_type": "stream",
     "text": [
      "Embedding neighbours hexes [Prediction data]: 100%|██████████| 53820/53820 [00:10<00:00, 4929.76it/s]\n",
      "Generating predictions [Bordeaux] (area_id: 22): 100%|██████████| 20/20 [00:00<00:00, 24.80it/s]\n",
      "Saving results to DB [Bordeaux] (area_id: 22): 100%|██████████| 54/54 [00:03<00:00, 15.73it/s]\n"
     ]
    },
    {
     "name": "stdout",
     "output_type": "stream",
     "text": [
      "Hex cache size: 528474 / 528474 / 3\n",
      "Hex cache size: 664062 / 664062 / 3\n"
     ]
    },
    {
     "name": "stderr",
     "output_type": "stream",
     "text": [
      "Embedding neighbours hexes [Prediction data]: 100%|██████████| 135588/135588 [00:27<00:00, 5005.76it/s]\n",
      "Generating predictions [Bordeaux] (area_id: 23): 100%|██████████| 20/20 [00:01<00:00, 12.94it/s]\n",
      "Saving results to DB [Bordeaux] (area_id: 23): 100%|██████████| 136/136 [00:08<00:00, 16.08it/s]\n"
     ]
    },
    {
     "name": "stdout",
     "output_type": "stream",
     "text": [
      "Hex cache size: 664062 / 664062 / 4\n",
      "Hex cache size: 928746 / 928746 / 4\n"
     ]
    },
    {
     "name": "stderr",
     "output_type": "stream",
     "text": [
      "Embedding neighbours hexes [Prediction data]: 100%|██████████| 264684/264684 [00:52<00:00, 5016.93it/s]\n",
      "Generating predictions [Bordeaux] (area_id: 24): 100%|██████████| 20/20 [00:02<00:00,  7.32it/s]\n",
      "Saving results to DB [Bordeaux] (area_id: 24): 100%|██████████| 265/265 [00:20<00:00, 13.18it/s]\n"
     ]
    },
    {
     "name": "stdout",
     "output_type": "stream",
     "text": [
      "Hex cache size: 928746 / 928746 / 5\n",
      "Hex cache size: 1033877 / 1033877 / 5\n"
     ]
    },
    {
     "name": "stderr",
     "output_type": "stream",
     "text": [
      "Embedding neighbours hexes [Prediction data]: 100%|██████████| 105131/105131 [00:23<00:00, 4473.99it/s]\n",
      "Generating predictions [Bordeaux] (area_id: 25): 100%|██████████| 20/20 [00:01<00:00, 13.14it/s]\n",
      "Saving results to DB [Bordeaux] (area_id: 25): 100%|██████████| 106/106 [00:07<00:00, 15.06it/s]\n"
     ]
    },
    {
     "name": "stdout",
     "output_type": "stream",
     "text": [
      "Hex cache size: 1033877 / 1033877 / 6\n",
      "Hex cache size: 1185198 / 1185198 / 6\n"
     ]
    },
    {
     "name": "stderr",
     "output_type": "stream",
     "text": [
      "Embedding neighbours hexes [Prediction data]: 100%|██████████| 151321/151321 [00:32<00:00, 4694.35it/s]\n",
      "Generating predictions [Bordeaux] (area_id: 26): 100%|██████████| 20/20 [00:02<00:00,  7.74it/s]\n",
      "Saving results to DB [Bordeaux] (area_id: 26): 100%|██████████| 152/152 [00:10<00:00, 14.90it/s]\n"
     ]
    },
    {
     "name": "stdout",
     "output_type": "stream",
     "text": [
      "Hex cache size: 1185198 / 1185198 / 7\n",
      "Hex cache size: 1233430 / 1233430 / 7\n"
     ]
    },
    {
     "name": "stderr",
     "output_type": "stream",
     "text": [
      "Embedding neighbours hexes [Prediction data]: 100%|██████████| 48232/48232 [00:10<00:00, 4577.32it/s]\n",
      "Generating predictions [Bordeaux] (area_id: 27): 100%|██████████| 20/20 [00:00<00:00, 24.92it/s]\n",
      "Saving results to DB [Bordeaux] (area_id: 27): 100%|██████████| 49/49 [00:02<00:00, 16.70it/s]\n"
     ]
    },
    {
     "name": "stdout",
     "output_type": "stream",
     "text": [
      "Hex cache size: 1233430 / 1233430 / 8\n",
      "Hex cache size: 1285882 / 1285882 / 8\n"
     ]
    },
    {
     "name": "stderr",
     "output_type": "stream",
     "text": [
      "Embedding neighbours hexes [Prediction data]: 100%|██████████| 52452/52452 [00:11<00:00, 4598.80it/s]\n",
      "Generating predictions [Bordeaux] (area_id: 28): 100%|██████████| 20/20 [00:01<00:00, 19.83it/s]\n",
      "Saving results to DB [Bordeaux] (area_id: 28): 100%|██████████| 53/53 [00:03<00:00, 13.50it/s]\n"
     ]
    },
    {
     "name": "stdout",
     "output_type": "stream",
     "text": [
      "Hex cache size: 1285882 / 1285882 / 9\n",
      "Hex cache size: 1319156 / 1319156 / 9\n"
     ]
    },
    {
     "name": "stderr",
     "output_type": "stream",
     "text": [
      "Embedding neighbours hexes [Prediction data]: 100%|██████████| 33274/33274 [00:06<00:00, 4763.24it/s]\n",
      "Generating predictions [Bordeaux] (area_id: 29): 100%|██████████| 20/20 [00:00<00:00, 26.68it/s]\n",
      "Saving results to DB [Bordeaux] (area_id: 29): 100%|██████████| 34/34 [00:02<00:00, 15.17it/s]\n"
     ]
    },
    {
     "name": "stdout",
     "output_type": "stream",
     "text": [
      "Hex cache size: 1319156 / 1319156 / 10\n",
      "Hex cache size: 1368203 / 1368203 / 10\n"
     ]
    },
    {
     "name": "stderr",
     "output_type": "stream",
     "text": [
      "Embedding neighbours hexes [Prediction data]: 100%|██████████| 49047/49047 [00:10<00:00, 4609.30it/s]\n",
      "Generating predictions [Bordeaux] (area_id: 30): 100%|██████████| 20/20 [00:00<00:00, 24.69it/s]\n",
      "Saving results to DB [Bordeaux] (area_id: 30): 100%|██████████| 50/50 [00:03<00:00, 14.10it/s]\n"
     ]
    },
    {
     "name": "stdout",
     "output_type": "stream",
     "text": [
      "Hex cache size: 1368203 / 1368203 / 11\n",
      "Hex cache size: 1541640 / 1541640 / 11\n"
     ]
    },
    {
     "name": "stderr",
     "output_type": "stream",
     "text": [
      "Embedding neighbours hexes [Prediction data]: 100%|██████████| 173437/173437 [00:35<00:00, 4874.02it/s]\n",
      "Generating predictions [Bordeaux] (area_id: 31): 100%|██████████| 20/20 [00:01<00:00, 10.23it/s]\n",
      "Saving results to DB [Bordeaux] (area_id: 31): 100%|██████████| 174/174 [00:11<00:00, 15.03it/s]\n"
     ]
    },
    {
     "name": "stdout",
     "output_type": "stream",
     "text": [
      "Hex cache size: 1541640 / 1541640 / 12\n",
      "Hex cache size: 1668198 / 1668198 / 12\n"
     ]
    },
    {
     "name": "stderr",
     "output_type": "stream",
     "text": [
      "Embedding neighbours hexes [Prediction data]: 100%|██████████| 126558/126558 [00:27<00:00, 4555.96it/s]\n",
      "Generating predictions [Bordeaux] (area_id: 32): 100%|██████████| 20/20 [00:01<00:00, 11.35it/s]\n",
      "Saving results to DB [Bordeaux] (area_id: 32): 100%|██████████| 127/127 [00:09<00:00, 13.50it/s]\n"
     ]
    },
    {
     "name": "stdout",
     "output_type": "stream",
     "text": [
      "Hex cache size: 1668198 / 1668198 / 13\n",
      "Hex cache size: 1700425 / 1700425 / 13\n"
     ]
    },
    {
     "name": "stderr",
     "output_type": "stream",
     "text": [
      "Embedding neighbours hexes [Prediction data]: 100%|██████████| 32227/32227 [00:08<00:00, 3894.51it/s]\n",
      "Generating predictions [Bordeaux] (area_id: 33): 100%|██████████| 20/20 [00:00<00:00, 22.26it/s]\n",
      "Saving results to DB [Bordeaux] (area_id: 33): 100%|██████████| 33/33 [00:02<00:00, 13.08it/s]\n"
     ]
    },
    {
     "name": "stdout",
     "output_type": "stream",
     "text": [
      "Hex cache size: 1700425 / 1700425 / 14\n",
      "Hex cache size: 1770628 / 1770628 / 14\n"
     ]
    },
    {
     "name": "stderr",
     "output_type": "stream",
     "text": [
      "Embedding neighbours hexes [Prediction data]: 100%|██████████| 70203/70203 [00:17<00:00, 3962.51it/s]\n",
      "Generating predictions [Bordeaux] (area_id: 34): 100%|██████████| 20/20 [00:01<00:00, 18.95it/s]\n",
      "Saving results to DB [Bordeaux] (area_id: 34): 100%|██████████| 71/71 [00:04<00:00, 15.66it/s]\n"
     ]
    },
    {
     "name": "stdout",
     "output_type": "stream",
     "text": [
      "Hex cache size: 1840821 / 1840821 / 15\n",
      "Hex cache size: 1897788 / 1897788 / 15\n"
     ]
    },
    {
     "name": "stderr",
     "output_type": "stream",
     "text": [
      "Embedding neighbours hexes [Prediction data]: 100%|██████████| 56967/56967 [00:12<00:00, 4524.86it/s]\n",
      "Generating predictions [Brno] (area_id: 1): 100%|██████████| 20/20 [00:15<00:00,  1.27it/s]\n",
      "Saving results to DB [Brno] (area_id: 1): 100%|██████████| 57/57 [00:03<00:00, 14.48it/s]\n"
     ]
    },
    {
     "name": "stdout",
     "output_type": "stream",
     "text": [
      "Hex cache size: 1897788 / 1897788 / 16\n",
      "Hex cache size: 1940224 / 1940224 / 16\n"
     ]
    },
    {
     "name": "stderr",
     "output_type": "stream",
     "text": [
      "Embedding neighbours hexes [Prediction data]: 100%|██████████| 42436/42436 [00:09<00:00, 4448.23it/s]\n",
      "Generating predictions [Brno] (area_id: 2): 100%|██████████| 20/20 [00:01<00:00, 18.95it/s]\n",
      "Saving results to DB [Brno] (area_id: 2): 100%|██████████| 43/43 [00:03<00:00, 13.65it/s]\n"
     ]
    },
    {
     "name": "stdout",
     "output_type": "stream",
     "text": [
      "Hex cache size: 1940224 / 1940224 / 17\n",
      "Hex cache size: 2063213 / 2063213 / 17\n"
     ]
    },
    {
     "name": "stderr",
     "output_type": "stream",
     "text": [
      "Embedding neighbours hexes [Prediction data]: 100%|██████████| 122989/122989 [00:26<00:00, 4610.36it/s]\n",
      "Generating predictions [Brno] (area_id: 3): 100%|██████████| 20/20 [00:01<00:00, 10.86it/s]\n",
      "Saving results to DB [Brno] (area_id: 3): 100%|██████████| 123/123 [00:08<00:00, 13.86it/s]\n"
     ]
    },
    {
     "name": "stdout",
     "output_type": "stream",
     "text": [
      "Hex cache size: 2063213 / 2063213 / 18\n",
      "Hex cache size: 2116687 / 2116687 / 18\n"
     ]
    },
    {
     "name": "stderr",
     "output_type": "stream",
     "text": [
      "Embedding neighbours hexes [Prediction data]: 100%|██████████| 53474/53474 [00:12<00:00, 4240.36it/s]\n",
      "Generating predictions [Brno] (area_id: 4): 100%|██████████| 20/20 [00:01<00:00, 16.71it/s]\n",
      "Saving results to DB [Brno] (area_id: 4): 100%|██████████| 54/54 [00:05<00:00, 10.27it/s]\n"
     ]
    },
    {
     "name": "stdout",
     "output_type": "stream",
     "text": [
      "Hex cache size: 2116687 / 2116687 / 19\n",
      "Hex cache size: 2116687 / 2116687 / 19\n"
     ]
    },
    {
     "name": "stderr",
     "output_type": "stream",
     "text": [
      "Embedding neighbours hexes [Prediction data]: 100%|██████████| 143284/143284 [00:33<00:00, 4298.71it/s]\n",
      "Generating predictions [Brno] (area_id: 5): 100%|██████████| 20/20 [00:02<00:00,  9.43it/s]\n",
      "Saving results to DB [Brno] (area_id: 5): 100%|██████████| 144/144 [00:10<00:00, 13.68it/s]\n"
     ]
    },
    {
     "name": "stdout",
     "output_type": "stream",
     "text": [
      "Hex cache size: 2116687 / 2116687 / 20\n",
      "Hex cache size: 2116687 / 2116687 / 20\n"
     ]
    },
    {
     "name": "stderr",
     "output_type": "stream",
     "text": [
      "Embedding neighbours hexes [Prediction data]: 100%|██████████| 70193/70193 [00:17<00:00, 4113.59it/s]\n",
      "Generating predictions [Brno] (area_id: 6): 100%|██████████| 20/20 [00:01<00:00, 14.79it/s]\n",
      "Saving results to DB [Brno] (area_id: 6): 100%|██████████| 71/71 [00:05<00:00, 13.87it/s]\n"
     ]
    },
    {
     "name": "stdout",
     "output_type": "stream",
     "text": [
      "Hex cache size: 2116687 / 2116687 / 21\n",
      "Hex cache size: 2200406 / 2200406 / 21\n"
     ]
    },
    {
     "name": "stderr",
     "output_type": "stream",
     "text": [
      "Embedding neighbours hexes [Prediction data]: 100%|██████████| 83719/83719 [00:19<00:00, 4318.20it/s]\n",
      "Generating predictions [Brno] (area_id: 7): 100%|██████████| 20/20 [00:01<00:00, 12.59it/s]\n",
      "Saving results to DB [Brno] (area_id: 7): 100%|██████████| 84/84 [00:06<00:00, 13.04it/s]\n"
     ]
    },
    {
     "name": "stdout",
     "output_type": "stream",
     "text": [
      "Hex cache size: 2200406 / 2200406 / 22\n",
      "Hex cache size: 2250185 / 2250185 / 22\n"
     ]
    },
    {
     "name": "stderr",
     "output_type": "stream",
     "text": [
      "Embedding neighbours hexes [Prediction data]: 100%|██████████| 49779/49779 [00:12<00:00, 3922.29it/s]\n",
      "Generating predictions [Brno] (area_id: 8): 100%|██████████| 20/20 [00:01<00:00, 18.18it/s]\n",
      "Saving results to DB [Brno] (area_id: 8): 100%|██████████| 50/50 [00:03<00:00, 13.28it/s]\n"
     ]
    },
    {
     "name": "stdout",
     "output_type": "stream",
     "text": [
      "Hex cache size: 2250185 / 2250185 / 23\n",
      "Hex cache size: 2309905 / 2309905 / 23\n"
     ]
    },
    {
     "name": "stderr",
     "output_type": "stream",
     "text": [
      "Embedding neighbours hexes [Prediction data]: 100%|██████████| 59720/59720 [00:15<00:00, 3856.04it/s]\n",
      "Generating predictions [Brno] (area_id: 9): 100%|██████████| 20/20 [00:01<00:00, 17.98it/s]\n",
      "Saving results to DB [Brno] (area_id: 9): 100%|██████████| 60/60 [00:04<00:00, 13.45it/s]\n"
     ]
    },
    {
     "name": "stdout",
     "output_type": "stream",
     "text": [
      "Hex cache size: 2309905 / 2309905 / 24\n",
      "Hex cache size: 2374735 / 2374735 / 24\n"
     ]
    },
    {
     "name": "stderr",
     "output_type": "stream",
     "text": [
      "Embedding neighbours hexes [Prediction data]: 100%|██████████| 64830/64830 [00:16<00:00, 3927.49it/s]\n",
      "Generating predictions [Brno] (area_id: 10): 100%|██████████| 20/20 [00:01<00:00, 14.08it/s]\n",
      "Saving results to DB [Brno] (area_id: 10): 100%|██████████| 65/65 [00:04<00:00, 13.80it/s]\n"
     ]
    },
    {
     "name": "stdout",
     "output_type": "stream",
     "text": [
      "Hex cache size: 2374735 / 2374735 / 25\n",
      "Hex cache size: 2433952 / 2433952 / 25\n"
     ]
    },
    {
     "name": "stderr",
     "output_type": "stream",
     "text": [
      "Embedding neighbours hexes [Prediction data]: 100%|██████████| 59217/59217 [00:15<00:00, 3874.48it/s]\n",
      "Generating predictions [Brno] (area_id: 11): 100%|██████████| 20/20 [00:01<00:00, 16.99it/s]\n",
      "Saving results to DB [Brno] (area_id: 11): 100%|██████████| 60/60 [00:04<00:00, 13.38it/s]\n"
     ]
    },
    {
     "name": "stdout",
     "output_type": "stream",
     "text": [
      "Hex cache size: 2433952 / 2433952 / 26\n",
      "Hex cache size: 2586338 / 2586338 / 26\n"
     ]
    },
    {
     "name": "stderr",
     "output_type": "stream",
     "text": [
      "Embedding neighbours hexes [Prediction data]: 100%|██████████| 152386/152386 [00:33<00:00, 4546.65it/s]\n",
      "Generating predictions [Brno] (area_id: 12): 100%|██████████| 20/20 [00:01<00:00, 11.32it/s]\n",
      "Saving results to DB [Brno] (area_id: 12): 100%|██████████| 153/153 [00:09<00:00, 16.57it/s]\n"
     ]
    },
    {
     "name": "stdout",
     "output_type": "stream",
     "text": [
      "Hex cache size: 2586338 / 2586338 / 27\n",
      "Hex cache size: 2745069 / 2745069 / 27\n"
     ]
    },
    {
     "name": "stderr",
     "output_type": "stream",
     "text": [
      "Embedding neighbours hexes [Prediction data]: 100%|██████████| 158731/158731 [00:32<00:00, 4914.19it/s]\n",
      "Generating predictions [Brno] (area_id: 13): 100%|██████████| 20/20 [00:01<00:00, 11.18it/s]\n",
      "Saving results to DB [Brno] (area_id: 13): 100%|██████████| 159/159 [00:09<00:00, 16.09it/s]\n"
     ]
    },
    {
     "name": "stdout",
     "output_type": "stream",
     "text": [
      "Hex cache size: 2745069 / 2745069 / 28\n",
      "Hex cache size: 2855299 / 2855299 / 28\n"
     ]
    },
    {
     "name": "stderr",
     "output_type": "stream",
     "text": [
      "Embedding neighbours hexes [Prediction data]: 100%|██████████| 110230/110230 [00:22<00:00, 4944.12it/s]\n",
      "Generating predictions [Brno] (area_id: 14): 100%|██████████| 20/20 [00:01<00:00, 14.14it/s]\n",
      "Saving results to DB [Brno] (area_id: 14): 100%|██████████| 111/111 [00:06<00:00, 16.77it/s]\n"
     ]
    },
    {
     "name": "stdout",
     "output_type": "stream",
     "text": [
      "Hex cache size: 2855299 / 2855299 / 29\n",
      "Hex cache size: 2976310 / 2976310 / 29\n"
     ]
    },
    {
     "name": "stderr",
     "output_type": "stream",
     "text": [
      "Embedding neighbours hexes [Prediction data]: 100%|██████████| 121011/121011 [00:23<00:00, 5100.15it/s]\n",
      "Generating predictions [Brno] (area_id: 15): 100%|██████████| 20/20 [00:01<00:00, 13.10it/s]\n",
      "Saving results to DB [Brno] (area_id: 15): 100%|██████████| 122/122 [00:07<00:00, 16.64it/s]\n"
     ]
    },
    {
     "name": "stdout",
     "output_type": "stream",
     "text": [
      "Hex cache size: 2976310 / 2976310 / 30\n",
      "Hex cache size: 3034365 / 3034365 / 30\n"
     ]
    },
    {
     "name": "stderr",
     "output_type": "stream",
     "text": [
      "Embedding neighbours hexes [Prediction data]: 100%|██████████| 58055/58055 [00:12<00:00, 4487.75it/s]\n",
      "Generating predictions [Brno] (area_id: 16): 100%|██████████| 20/20 [00:00<00:00, 22.69it/s]\n",
      "Saving results to DB [Brno] (area_id: 16): 100%|██████████| 59/59 [00:03<00:00, 16.12it/s]\n"
     ]
    },
    {
     "name": "stdout",
     "output_type": "stream",
     "text": [
      "Hex cache size: 3034365 / 3034365 / 31\n",
      "Hex cache size: 3063917 / 3063917 / 31\n"
     ]
    },
    {
     "name": "stderr",
     "output_type": "stream",
     "text": [
      "Embedding neighbours hexes [Prediction data]: 100%|██████████| 29552/29552 [00:05<00:00, 4955.60it/s]\n",
      "Generating predictions [Brno] (area_id: 17): 100%|██████████| 20/20 [00:00<00:00, 34.96it/s]\n",
      "Saving results to DB [Brno] (area_id: 17): 100%|██████████| 30/30 [00:01<00:00, 16.47it/s]\n"
     ]
    },
    {
     "name": "stdout",
     "output_type": "stream",
     "text": [
      "Hex cache size: 3063917 / 3063917 / 32\n",
      "Hex cache size: 3126529 / 3126529 / 32\n"
     ]
    },
    {
     "name": "stderr",
     "output_type": "stream",
     "text": [
      "Embedding neighbours hexes [Prediction data]: 100%|██████████| 62612/62612 [00:12<00:00, 5030.12it/s]\n",
      "Generating predictions [Brno] (area_id: 18): 100%|██████████| 20/20 [00:00<00:00, 20.98it/s]\n",
      "Saving results to DB [Brno] (area_id: 18): 100%|██████████| 63/63 [00:03<00:00, 16.55it/s]\n"
     ]
    },
    {
     "name": "stdout",
     "output_type": "stream",
     "text": [
      "Hex cache size: 3126529 / 3126529 / 33\n",
      "Hex cache size: 3504771 / 3504771 / 33\n"
     ]
    },
    {
     "name": "stderr",
     "output_type": "stream",
     "text": [
      "Embedding neighbours hexes [Prediction data]: 100%|██████████| 378242/378242 [01:14<00:00, 5051.07it/s]\n",
      "Generating predictions [Brno] (area_id: 19): 100%|██████████| 20/20 [00:03<00:00,  5.19it/s]\n",
      "Saving results to DB [Brno] (area_id: 19): 100%|██████████| 379/379 [00:26<00:00, 14.38it/s]\n"
     ]
    },
    {
     "name": "stdout",
     "output_type": "stream",
     "text": [
      "Hex cache size: 3504771 / 3504771 / 34\n",
      "Hex cache size: 3504771 / 3504771 / 34\n"
     ]
    },
    {
     "name": "stderr",
     "output_type": "stream",
     "text": [
      "Generating predictions [Brno] (area_id: 20): 100%|██████████| 20/20 [00:03<00:00,  6.55it/s]\n",
      "Saving results to DB [Brno] (area_id: 20): 100%|██████████| 295/295 [00:18<00:00, 16.06it/s]\n"
     ]
    },
    {
     "name": "stdout",
     "output_type": "stream",
     "text": [
      "Hex cache size: 3504771 / 3504771 / 34\n",
      "Hex cache size: 3504771 / 3504771 / 34\n"
     ]
    },
    {
     "name": "stderr",
     "output_type": "stream",
     "text": [
      "Generating predictions [Brno] (area_id: 21): 100%|██████████| 20/20 [00:00<00:00, 31.23it/s]\n",
      "Saving results to DB [Brno] (area_id: 21): 100%|██████████| 37/37 [00:02<00:00, 15.42it/s]\n"
     ]
    },
    {
     "name": "stdout",
     "output_type": "stream",
     "text": [
      "Hex cache size: 3504771 / 3504771 / 34\n",
      "Hex cache size: 3504771 / 3504771 / 34\n"
     ]
    },
    {
     "name": "stderr",
     "output_type": "stream",
     "text": [
      "Generating predictions [Brno] (area_id: 22): 100%|██████████| 20/20 [00:00<00:00, 24.22it/s]\n",
      "Saving results to DB [Brno] (area_id: 22): 100%|██████████| 54/54 [00:05<00:00, 10.40it/s]\n"
     ]
    },
    {
     "name": "stdout",
     "output_type": "stream",
     "text": [
      "Hex cache size: 3504771 / 3504771 / 34\n",
      "Hex cache size: 3504771 / 3504771 / 34\n"
     ]
    },
    {
     "name": "stderr",
     "output_type": "stream",
     "text": [
      "Generating predictions [Brno] (area_id: 23): 100%|██████████| 20/20 [00:01<00:00, 12.79it/s]\n",
      "Saving results to DB [Brno] (area_id: 23): 100%|██████████| 136/136 [00:08<00:00, 15.80it/s]\n"
     ]
    },
    {
     "name": "stdout",
     "output_type": "stream",
     "text": [
      "Hex cache size: 3504771 / 3504771 / 34\n",
      "Hex cache size: 3504771 / 3504771 / 34\n"
     ]
    },
    {
     "name": "stderr",
     "output_type": "stream",
     "text": [
      "Generating predictions [Brno] (area_id: 24): 100%|██████████| 20/20 [00:02<00:00,  6.78it/s]\n",
      "Saving results to DB [Brno] (area_id: 24): 100%|██████████| 265/265 [00:16<00:00, 16.45it/s]\n"
     ]
    },
    {
     "name": "stdout",
     "output_type": "stream",
     "text": [
      "Hex cache size: 3504771 / 3504771 / 34\n",
      "Hex cache size: 3504771 / 3504771 / 34\n"
     ]
    },
    {
     "name": "stderr",
     "output_type": "stream",
     "text": [
      "Generating predictions [Brno] (area_id: 25): 100%|██████████| 20/20 [00:01<00:00, 14.42it/s]\n",
      "Saving results to DB [Brno] (area_id: 25): 100%|██████████| 106/106 [00:06<00:00, 15.38it/s]\n"
     ]
    },
    {
     "name": "stdout",
     "output_type": "stream",
     "text": [
      "Hex cache size: 3504771 / 3504771 / 34\n",
      "Hex cache size: 3504771 / 3504771 / 34\n"
     ]
    },
    {
     "name": "stderr",
     "output_type": "stream",
     "text": [
      "Generating predictions [Brno] (area_id: 26): 100%|██████████| 20/20 [00:01<00:00, 10.89it/s]\n",
      "Saving results to DB [Brno] (area_id: 26): 100%|██████████| 152/152 [00:09<00:00, 15.67it/s]\n"
     ]
    },
    {
     "name": "stdout",
     "output_type": "stream",
     "text": [
      "Hex cache size: 3504771 / 3504771 / 34\n",
      "Hex cache size: 3504771 / 3504771 / 34\n"
     ]
    },
    {
     "name": "stderr",
     "output_type": "stream",
     "text": [
      "Generating predictions [Brno] (area_id: 27): 100%|██████████| 20/20 [00:00<00:00, 25.04it/s]\n",
      "Saving results to DB [Brno] (area_id: 27): 100%|██████████| 49/49 [00:08<00:00,  5.57it/s]\n"
     ]
    },
    {
     "name": "stdout",
     "output_type": "stream",
     "text": [
      "Hex cache size: 3504771 / 3504771 / 34\n",
      "Hex cache size: 3504771 / 3504771 / 34\n"
     ]
    },
    {
     "name": "stderr",
     "output_type": "stream",
     "text": [
      "Generating predictions [Brno] (area_id: 28): 100%|██████████| 20/20 [00:00<00:00, 24.10it/s]\n",
      "Saving results to DB [Brno] (area_id: 28): 100%|██████████| 53/53 [00:03<00:00, 17.01it/s]\n"
     ]
    },
    {
     "name": "stdout",
     "output_type": "stream",
     "text": [
      "Hex cache size: 3504771 / 3504771 / 34\n",
      "Hex cache size: 3504771 / 3504771 / 34\n"
     ]
    },
    {
     "name": "stderr",
     "output_type": "stream",
     "text": [
      "Generating predictions [Brno] (area_id: 29): 100%|██████████| 20/20 [00:00<00:00, 33.25it/s]\n",
      "Saving results to DB [Brno] (area_id: 29): 100%|██████████| 34/34 [00:02<00:00, 15.89it/s]\n"
     ]
    },
    {
     "name": "stdout",
     "output_type": "stream",
     "text": [
      "Hex cache size: 3504771 / 3504771 / 34\n",
      "Hex cache size: 3504771 / 3504771 / 34\n"
     ]
    },
    {
     "name": "stderr",
     "output_type": "stream",
     "text": [
      "Generating predictions [Brno] (area_id: 30): 100%|██████████| 20/20 [00:00<00:00, 26.01it/s]\n",
      "Saving results to DB [Brno] (area_id: 30): 100%|██████████| 50/50 [00:03<00:00, 16.06it/s]\n"
     ]
    },
    {
     "name": "stdout",
     "output_type": "stream",
     "text": [
      "Hex cache size: 3504771 / 3504771 / 34\n",
      "Hex cache size: 3504771 / 3504771 / 34\n"
     ]
    },
    {
     "name": "stderr",
     "output_type": "stream",
     "text": [
      "Generating predictions [Brno] (area_id: 31): 100%|██████████| 20/20 [00:01<00:00, 10.13it/s]\n",
      "Saving results to DB [Brno] (area_id: 31): 100%|██████████| 174/174 [00:10<00:00, 15.86it/s]\n"
     ]
    },
    {
     "name": "stdout",
     "output_type": "stream",
     "text": [
      "Hex cache size: 3504771 / 3504771 / 34\n",
      "Hex cache size: 3504771 / 3504771 / 34\n"
     ]
    },
    {
     "name": "stderr",
     "output_type": "stream",
     "text": [
      "Generating predictions [Brno] (area_id: 32): 100%|██████████| 20/20 [00:01<00:00, 12.63it/s]\n",
      "Saving results to DB [Brno] (area_id: 32): 100%|██████████| 127/127 [00:07<00:00, 16.24it/s]\n"
     ]
    },
    {
     "name": "stdout",
     "output_type": "stream",
     "text": [
      "Hex cache size: 3504771 / 3504771 / 34\n",
      "Hex cache size: 3504771 / 3504771 / 34\n"
     ]
    },
    {
     "name": "stderr",
     "output_type": "stream",
     "text": [
      "Generating predictions [Brno] (area_id: 33): 100%|██████████| 20/20 [00:00<00:00, 34.34it/s]\n",
      "Saving results to DB [Brno] (area_id: 33): 100%|██████████| 33/33 [00:01<00:00, 16.84it/s]\n"
     ]
    },
    {
     "name": "stdout",
     "output_type": "stream",
     "text": [
      "Hex cache size: 3504771 / 3504771 / 34\n",
      "Hex cache size: 3504771 / 3504771 / 34\n"
     ]
    },
    {
     "name": "stderr",
     "output_type": "stream",
     "text": [
      "Generating predictions [Brno] (area_id: 34): 100%|██████████| 20/20 [00:00<00:00, 20.35it/s]\n",
      "Saving results to DB [Brno] (area_id: 34): 100%|██████████| 71/71 [00:04<00:00, 16.54it/s]\n"
     ]
    },
    {
     "name": "stdout",
     "output_type": "stream",
     "text": [
      "Hex cache size: 3504771 / 3504771 / 34\n",
      "Hex cache size: 3504771 / 3504771 / 34\n"
     ]
    },
    {
     "name": "stderr",
     "output_type": "stream",
     "text": [
      "Generating predictions [Bruxelles] (area_id: 1): 100%|██████████| 20/20 [00:27<00:00,  1.37s/it]\n",
      "Saving results to DB [Bruxelles] (area_id: 1): 100%|██████████| 57/57 [00:03<00:00, 15.92it/s]\n"
     ]
    },
    {
     "name": "stdout",
     "output_type": "stream",
     "text": [
      "Hex cache size: 3504771 / 3504771 / 34\n",
      "Hex cache size: 3504771 / 3504771 / 34\n"
     ]
    },
    {
     "name": "stderr",
     "output_type": "stream",
     "text": [
      "Generating predictions [Bruxelles] (area_id: 2): 100%|██████████| 20/20 [00:00<00:00, 21.13it/s]\n",
      "Saving results to DB [Bruxelles] (area_id: 2): 100%|██████████| 43/43 [00:02<00:00, 15.83it/s]\n"
     ]
    },
    {
     "name": "stdout",
     "output_type": "stream",
     "text": [
      "Hex cache size: 3504771 / 3504771 / 34\n",
      "Hex cache size: 3504771 / 3504771 / 34\n"
     ]
    },
    {
     "name": "stderr",
     "output_type": "stream",
     "text": [
      "Generating predictions [Bruxelles] (area_id: 3): 100%|██████████| 20/20 [00:01<00:00, 11.85it/s]\n",
      "Saving results to DB [Bruxelles] (area_id: 3): 100%|██████████| 123/123 [00:07<00:00, 16.69it/s]\n"
     ]
    },
    {
     "name": "stdout",
     "output_type": "stream",
     "text": [
      "Hex cache size: 3504771 / 3504771 / 34\n",
      "Hex cache size: 3504771 / 3504771 / 34\n"
     ]
    },
    {
     "name": "stderr",
     "output_type": "stream",
     "text": [
      "Generating predictions [Bruxelles] (area_id: 4): 100%|██████████| 20/20 [00:01<00:00, 19.59it/s]\n",
      "Saving results to DB [Bruxelles] (area_id: 4): 100%|██████████| 54/54 [00:03<00:00, 16.25it/s]\n"
     ]
    },
    {
     "name": "stdout",
     "output_type": "stream",
     "text": [
      "Hex cache size: 3504771 / 3504771 / 34\n",
      "Hex cache size: 3504771 / 3504771 / 34\n"
     ]
    },
    {
     "name": "stderr",
     "output_type": "stream",
     "text": [
      "Generating predictions [Bruxelles] (area_id: 5): 100%|██████████| 20/20 [00:01<00:00, 10.01it/s]\n",
      "Saving results to DB [Bruxelles] (area_id: 5): 100%|██████████| 144/144 [00:09<00:00, 15.88it/s]\n"
     ]
    },
    {
     "name": "stdout",
     "output_type": "stream",
     "text": [
      "Hex cache size: 3504771 / 3504771 / 34\n",
      "Hex cache size: 3504771 / 3504771 / 34\n"
     ]
    },
    {
     "name": "stderr",
     "output_type": "stream",
     "text": [
      "Generating predictions [Bruxelles] (area_id: 6): 100%|██████████| 20/20 [00:01<00:00, 16.38it/s]\n",
      "Saving results to DB [Bruxelles] (area_id: 6): 100%|██████████| 71/71 [00:04<00:00, 16.18it/s]\n"
     ]
    },
    {
     "name": "stdout",
     "output_type": "stream",
     "text": [
      "Hex cache size: 3504771 / 3504771 / 34\n",
      "Hex cache size: 3504771 / 3504771 / 34\n"
     ]
    },
    {
     "name": "stderr",
     "output_type": "stream",
     "text": [
      "Generating predictions [Bruxelles] (area_id: 7): 100%|██████████| 20/20 [00:01<00:00, 13.72it/s]\n",
      "Saving results to DB [Bruxelles] (area_id: 7): 100%|██████████| 84/84 [00:05<00:00, 15.84it/s]\n"
     ]
    },
    {
     "name": "stdout",
     "output_type": "stream",
     "text": [
      "Hex cache size: 3504771 / 3504771 / 34\n",
      "Hex cache size: 3504771 / 3504771 / 34\n"
     ]
    },
    {
     "name": "stderr",
     "output_type": "stream",
     "text": [
      "Generating predictions [Bruxelles] (area_id: 8): 100%|██████████| 20/20 [00:01<00:00, 19.73it/s]\n",
      "Saving results to DB [Bruxelles] (area_id: 8): 100%|██████████| 50/50 [00:03<00:00, 15.05it/s]\n"
     ]
    },
    {
     "name": "stdout",
     "output_type": "stream",
     "text": [
      "Hex cache size: 3504771 / 3504771 / 34\n",
      "Hex cache size: 3504771 / 3504771 / 34\n"
     ]
    },
    {
     "name": "stderr",
     "output_type": "stream",
     "text": [
      "Generating predictions [Bruxelles] (area_id: 9): 100%|██████████| 20/20 [00:01<00:00, 16.90it/s]\n",
      "Saving results to DB [Bruxelles] (area_id: 9): 100%|██████████| 60/60 [00:03<00:00, 15.79it/s]\n"
     ]
    },
    {
     "name": "stdout",
     "output_type": "stream",
     "text": [
      "Hex cache size: 3504771 / 3504771 / 34\n",
      "Hex cache size: 3504771 / 3504771 / 34\n"
     ]
    },
    {
     "name": "stderr",
     "output_type": "stream",
     "text": [
      "Generating predictions [Bruxelles] (area_id: 10): 100%|██████████| 20/20 [00:01<00:00, 17.03it/s]\n",
      "Saving results to DB [Bruxelles] (area_id: 10): 100%|██████████| 65/65 [00:04<00:00, 15.21it/s]\n"
     ]
    },
    {
     "name": "stdout",
     "output_type": "stream",
     "text": [
      "Hex cache size: 3504771 / 3504771 / 34\n",
      "Hex cache size: 3504771 / 3504771 / 34\n"
     ]
    },
    {
     "name": "stderr",
     "output_type": "stream",
     "text": [
      "Generating predictions [Bruxelles] (area_id: 11): 100%|██████████| 20/20 [00:01<00:00, 17.87it/s]\n",
      "Saving results to DB [Bruxelles] (area_id: 11): 100%|██████████| 60/60 [00:03<00:00, 16.11it/s]\n"
     ]
    },
    {
     "name": "stdout",
     "output_type": "stream",
     "text": [
      "Hex cache size: 3504771 / 3504771 / 34\n",
      "Hex cache size: 3504771 / 3504771 / 34\n"
     ]
    },
    {
     "name": "stderr",
     "output_type": "stream",
     "text": [
      "Generating predictions [Bruxelles] (area_id: 12): 100%|██████████| 20/20 [00:01<00:00, 10.11it/s]\n",
      "Saving results to DB [Bruxelles] (area_id: 12): 100%|██████████| 153/153 [00:09<00:00, 15.76it/s]\n"
     ]
    },
    {
     "name": "stdout",
     "output_type": "stream",
     "text": [
      "Hex cache size: 3504771 / 3504771 / 34\n",
      "Hex cache size: 3504771 / 3504771 / 34\n"
     ]
    },
    {
     "name": "stderr",
     "output_type": "stream",
     "text": [
      "Generating predictions [Bruxelles] (area_id: 13): 100%|██████████| 20/20 [00:02<00:00,  9.38it/s]\n",
      "Saving results to DB [Bruxelles] (area_id: 13): 100%|██████████| 159/159 [00:12<00:00, 12.74it/s]\n"
     ]
    },
    {
     "name": "stdout",
     "output_type": "stream",
     "text": [
      "Hex cache size: 3504771 / 3504771 / 34\n",
      "Hex cache size: 3504771 / 3504771 / 34\n"
     ]
    },
    {
     "name": "stderr",
     "output_type": "stream",
     "text": [
      "Generating predictions [Bruxelles] (area_id: 14): 100%|██████████| 20/20 [00:01<00:00, 12.46it/s]\n",
      "Saving results to DB [Bruxelles] (area_id: 14): 100%|██████████| 111/111 [00:07<00:00, 15.40it/s]\n"
     ]
    },
    {
     "name": "stdout",
     "output_type": "stream",
     "text": [
      "Hex cache size: 3504771 / 3504771 / 34\n",
      "Hex cache size: 3504771 / 3504771 / 34\n"
     ]
    },
    {
     "name": "stderr",
     "output_type": "stream",
     "text": [
      "Generating predictions [Bruxelles] (area_id: 15): 100%|██████████| 20/20 [00:01<00:00, 11.26it/s]\n",
      "Saving results to DB [Bruxelles] (area_id: 15): 100%|██████████| 122/122 [00:07<00:00, 15.49it/s]\n"
     ]
    },
    {
     "name": "stdout",
     "output_type": "stream",
     "text": [
      "Hex cache size: 3504771 / 3504771 / 34\n",
      "Hex cache size: 3504771 / 3504771 / 34\n"
     ]
    },
    {
     "name": "stderr",
     "output_type": "stream",
     "text": [
      "Generating predictions [Bruxelles] (area_id: 16): 100%|██████████| 20/20 [00:01<00:00, 18.47it/s]\n",
      "Saving results to DB [Bruxelles] (area_id: 16): 100%|██████████| 59/59 [00:03<00:00, 15.85it/s]\n"
     ]
    },
    {
     "name": "stdout",
     "output_type": "stream",
     "text": [
      "Hex cache size: 3504771 / 3504771 / 34\n",
      "Hex cache size: 3504771 / 3504771 / 34\n"
     ]
    },
    {
     "name": "stderr",
     "output_type": "stream",
     "text": [
      "Generating predictions [Bruxelles] (area_id: 17): 100%|██████████| 20/20 [00:00<00:00, 25.67it/s]\n",
      "Saving results to DB [Bruxelles] (area_id: 17): 100%|██████████| 30/30 [00:01<00:00, 15.80it/s]\n"
     ]
    },
    {
     "name": "stdout",
     "output_type": "stream",
     "text": [
      "Hex cache size: 3504771 / 3504771 / 34\n",
      "Hex cache size: 3504771 / 3504771 / 34\n"
     ]
    },
    {
     "name": "stderr",
     "output_type": "stream",
     "text": [
      "Generating predictions [Bruxelles] (area_id: 18): 100%|██████████| 20/20 [00:01<00:00, 18.17it/s]\n",
      "Saving results to DB [Bruxelles] (area_id: 18): 100%|██████████| 63/63 [00:03<00:00, 15.86it/s]\n"
     ]
    },
    {
     "name": "stdout",
     "output_type": "stream",
     "text": [
      "Hex cache size: 3504771 / 3504771 / 34\n",
      "Hex cache size: 3504771 / 3504771 / 34\n"
     ]
    },
    {
     "name": "stderr",
     "output_type": "stream",
     "text": [
      "Generating predictions [Bruxelles] (area_id: 19): 100%|██████████| 20/20 [00:04<00:00,  4.66it/s]\n",
      "Saving results to DB [Bruxelles] (area_id: 19): 100%|██████████| 379/379 [00:30<00:00, 12.34it/s]\n"
     ]
    },
    {
     "name": "stdout",
     "output_type": "stream",
     "text": [
      "Hex cache size: 3504771 / 3504771 / 34\n",
      "Hex cache size: 3504771 / 3504771 / 34\n"
     ]
    },
    {
     "name": "stderr",
     "output_type": "stream",
     "text": [
      "Generating predictions [Bruxelles] (area_id: 20): 100%|██████████| 20/20 [00:03<00:00,  5.66it/s]\n",
      "Saving results to DB [Bruxelles] (area_id: 20): 100%|██████████| 295/295 [00:19<00:00, 15.14it/s]\n"
     ]
    },
    {
     "name": "stdout",
     "output_type": "stream",
     "text": [
      "Hex cache size: 3504771 / 3504771 / 34\n",
      "Hex cache size: 3504771 / 3504771 / 34\n"
     ]
    },
    {
     "name": "stderr",
     "output_type": "stream",
     "text": [
      "Generating predictions [Bruxelles] (area_id: 21): 100%|██████████| 20/20 [00:00<00:00, 23.60it/s]\n",
      "Saving results to DB [Bruxelles] (area_id: 21): 100%|██████████| 37/37 [00:02<00:00, 15.28it/s]\n"
     ]
    },
    {
     "name": "stdout",
     "output_type": "stream",
     "text": [
      "Hex cache size: 3504771 / 3504771 / 34\n",
      "Hex cache size: 3504771 / 3504771 / 34\n"
     ]
    },
    {
     "name": "stderr",
     "output_type": "stream",
     "text": [
      "Generating predictions [Bruxelles] (area_id: 22): 100%|██████████| 20/20 [00:01<00:00, 18.63it/s]\n",
      "Saving results to DB [Bruxelles] (area_id: 22): 100%|██████████| 54/54 [00:03<00:00, 15.17it/s]\n"
     ]
    },
    {
     "name": "stdout",
     "output_type": "stream",
     "text": [
      "Hex cache size: 3504771 / 3504771 / 34\n",
      "Hex cache size: 3504771 / 3504771 / 34\n"
     ]
    },
    {
     "name": "stderr",
     "output_type": "stream",
     "text": [
      "Generating predictions [Bruxelles] (area_id: 23): 100%|██████████| 20/20 [00:01<00:00, 10.85it/s]\n",
      "Saving results to DB [Bruxelles] (area_id: 23): 100%|██████████| 136/136 [00:09<00:00, 15.04it/s]\n"
     ]
    },
    {
     "name": "stdout",
     "output_type": "stream",
     "text": [
      "Hex cache size: 3504771 / 3504771 / 34\n",
      "Hex cache size: 3504771 / 3504771 / 34\n"
     ]
    },
    {
     "name": "stderr",
     "output_type": "stream",
     "text": [
      "Generating predictions [Bruxelles] (area_id: 24): 100%|██████████| 20/20 [00:03<00:00,  6.12it/s]\n",
      "Saving results to DB [Bruxelles] (area_id: 24): 100%|██████████| 265/265 [00:17<00:00, 15.37it/s]\n"
     ]
    },
    {
     "name": "stdout",
     "output_type": "stream",
     "text": [
      "Hex cache size: 3504771 / 3504771 / 34\n",
      "Hex cache size: 3504771 / 3504771 / 34\n"
     ]
    },
    {
     "name": "stderr",
     "output_type": "stream",
     "text": [
      "Generating predictions [Bruxelles] (area_id: 25): 100%|██████████| 20/20 [00:01<00:00, 12.79it/s]\n",
      "Saving results to DB [Bruxelles] (area_id: 25): 100%|██████████| 106/106 [00:06<00:00, 15.50it/s]\n"
     ]
    },
    {
     "name": "stdout",
     "output_type": "stream",
     "text": [
      "Hex cache size: 3504771 / 3504771 / 34\n",
      "Hex cache size: 3504771 / 3504771 / 34\n"
     ]
    },
    {
     "name": "stderr",
     "output_type": "stream",
     "text": [
      "Generating predictions [Bruxelles] (area_id: 26): 100%|██████████| 20/20 [00:01<00:00, 10.04it/s]\n",
      "Saving results to DB [Bruxelles] (area_id: 26): 100%|██████████| 152/152 [00:09<00:00, 15.25it/s]\n"
     ]
    },
    {
     "name": "stdout",
     "output_type": "stream",
     "text": [
      "Hex cache size: 3504771 / 3504771 / 34\n",
      "Hex cache size: 3504771 / 3504771 / 34\n"
     ]
    },
    {
     "name": "stderr",
     "output_type": "stream",
     "text": [
      "Generating predictions [Bruxelles] (area_id: 27): 100%|██████████| 20/20 [00:00<00:00, 20.02it/s]\n",
      "Saving results to DB [Bruxelles] (area_id: 27): 100%|██████████| 49/49 [00:03<00:00, 15.52it/s]\n"
     ]
    },
    {
     "name": "stdout",
     "output_type": "stream",
     "text": [
      "Hex cache size: 3504771 / 3504771 / 34\n",
      "Hex cache size: 3504771 / 3504771 / 34\n"
     ]
    },
    {
     "name": "stderr",
     "output_type": "stream",
     "text": [
      "Generating predictions [Bruxelles] (area_id: 28): 100%|██████████| 20/20 [00:00<00:00, 20.56it/s]\n",
      "Saving results to DB [Bruxelles] (area_id: 28): 100%|██████████| 53/53 [00:03<00:00, 15.79it/s]\n"
     ]
    },
    {
     "name": "stdout",
     "output_type": "stream",
     "text": [
      "Hex cache size: 3504771 / 3504771 / 34\n",
      "Hex cache size: 3504771 / 3504771 / 34\n"
     ]
    },
    {
     "name": "stderr",
     "output_type": "stream",
     "text": [
      "Generating predictions [Bruxelles] (area_id: 29): 100%|██████████| 20/20 [00:00<00:00, 25.16it/s]\n",
      "Saving results to DB [Bruxelles] (area_id: 29): 100%|██████████| 34/34 [00:02<00:00, 15.11it/s]\n"
     ]
    },
    {
     "name": "stdout",
     "output_type": "stream",
     "text": [
      "Hex cache size: 3504771 / 3504771 / 34\n",
      "Hex cache size: 3504771 / 3504771 / 34\n"
     ]
    },
    {
     "name": "stderr",
     "output_type": "stream",
     "text": [
      "Generating predictions [Bruxelles] (area_id: 30): 100%|██████████| 20/20 [00:00<00:00, 20.91it/s]\n",
      "Saving results to DB [Bruxelles] (area_id: 30): 100%|██████████| 50/50 [00:03<00:00, 15.11it/s]\n"
     ]
    },
    {
     "name": "stdout",
     "output_type": "stream",
     "text": [
      "Hex cache size: 3504771 / 3504771 / 34\n",
      "Hex cache size: 3504771 / 3504771 / 34\n"
     ]
    },
    {
     "name": "stderr",
     "output_type": "stream",
     "text": [
      "Generating predictions [Bruxelles] (area_id: 31): 100%|██████████| 20/20 [00:02<00:00,  8.86it/s]\n",
      "Saving results to DB [Bruxelles] (area_id: 31): 100%|██████████| 174/174 [00:11<00:00, 14.55it/s]\n"
     ]
    },
    {
     "name": "stdout",
     "output_type": "stream",
     "text": [
      "Hex cache size: 3504771 / 3504771 / 34\n",
      "Hex cache size: 3504771 / 3504771 / 34\n"
     ]
    },
    {
     "name": "stderr",
     "output_type": "stream",
     "text": [
      "Generating predictions [Bruxelles] (area_id: 32): 100%|██████████| 20/20 [00:01<00:00, 11.44it/s]\n",
      "Saving results to DB [Bruxelles] (area_id: 32): 100%|██████████| 127/127 [00:08<00:00, 14.84it/s]\n"
     ]
    },
    {
     "name": "stdout",
     "output_type": "stream",
     "text": [
      "Hex cache size: 3504771 / 3504771 / 34\n",
      "Hex cache size: 3504771 / 3504771 / 34\n"
     ]
    },
    {
     "name": "stderr",
     "output_type": "stream",
     "text": [
      "Generating predictions [Bruxelles] (area_id: 33): 100%|██████████| 20/20 [00:00<00:00, 25.15it/s]\n",
      "Saving results to DB [Bruxelles] (area_id: 33): 100%|██████████| 33/33 [00:02<00:00, 15.60it/s]\n"
     ]
    },
    {
     "name": "stdout",
     "output_type": "stream",
     "text": [
      "Hex cache size: 3504771 / 3504771 / 34\n",
      "Hex cache size: 3504771 / 3504771 / 34\n"
     ]
    },
    {
     "name": "stderr",
     "output_type": "stream",
     "text": [
      "Generating predictions [Bruxelles] (area_id: 34): 100%|██████████| 20/20 [00:01<00:00, 15.03it/s]\n",
      "Saving results to DB [Bruxelles] (area_id: 34): 100%|██████████| 71/71 [00:04<00:00, 15.78it/s]\n"
     ]
    },
    {
     "name": "stdout",
     "output_type": "stream",
     "text": [
      "Hex cache size: 3504771 / 3504771 / 34\n",
      "Hex cache size: 3504771 / 3504771 / 34\n"
     ]
    },
    {
     "name": "stderr",
     "output_type": "stream",
     "text": [
      "Generating predictions [Budapest] (area_id: 1): 100%|██████████| 20/20 [00:22<00:00,  1.12s/it]\n",
      "Saving results to DB [Budapest] (area_id: 1): 100%|██████████| 57/57 [00:03<00:00, 15.50it/s]\n"
     ]
    },
    {
     "name": "stdout",
     "output_type": "stream",
     "text": [
      "Hex cache size: 3504771 / 3504771 / 34\n",
      "Hex cache size: 3504771 / 3504771 / 34\n"
     ]
    },
    {
     "name": "stderr",
     "output_type": "stream",
     "text": [
      "Generating predictions [Budapest] (area_id: 2): 100%|██████████| 20/20 [00:00<00:00, 21.97it/s]\n",
      "Saving results to DB [Budapest] (area_id: 2): 100%|██████████| 43/43 [00:02<00:00, 15.93it/s]\n"
     ]
    },
    {
     "name": "stdout",
     "output_type": "stream",
     "text": [
      "Hex cache size: 3504771 / 3504771 / 34\n",
      "Hex cache size: 3504771 / 3504771 / 34\n"
     ]
    },
    {
     "name": "stderr",
     "output_type": "stream",
     "text": [
      "Generating predictions [Budapest] (area_id: 3): 100%|██████████| 20/20 [00:01<00:00, 13.53it/s]\n",
      "Saving results to DB [Budapest] (area_id: 3): 100%|██████████| 123/123 [00:07<00:00, 15.77it/s]\n"
     ]
    },
    {
     "name": "stdout",
     "output_type": "stream",
     "text": [
      "Hex cache size: 3504771 / 3504771 / 34\n",
      "Hex cache size: 3504771 / 3504771 / 34\n"
     ]
    },
    {
     "name": "stderr",
     "output_type": "stream",
     "text": [
      "Generating predictions [Budapest] (area_id: 4): 100%|██████████| 20/20 [00:00<00:00, 20.87it/s]\n",
      "Saving results to DB [Budapest] (area_id: 4): 100%|██████████| 54/54 [00:03<00:00, 14.34it/s]\n"
     ]
    },
    {
     "name": "stdout",
     "output_type": "stream",
     "text": [
      "Hex cache size: 3504771 / 3504771 / 34\n",
      "Hex cache size: 3504771 / 3504771 / 34\n"
     ]
    },
    {
     "name": "stderr",
     "output_type": "stream",
     "text": [
      "Generating predictions [Budapest] (area_id: 5): 100%|██████████| 20/20 [00:01<00:00, 12.38it/s]\n",
      "Saving results to DB [Budapest] (area_id: 5): 100%|██████████| 144/144 [00:10<00:00, 14.32it/s]\n"
     ]
    },
    {
     "name": "stdout",
     "output_type": "stream",
     "text": [
      "Hex cache size: 3504771 / 3504771 / 34\n",
      "Hex cache size: 3504771 / 3504771 / 34\n"
     ]
    },
    {
     "name": "stderr",
     "output_type": "stream",
     "text": [
      "Generating predictions [Budapest] (area_id: 6): 100%|██████████| 20/20 [00:01<00:00, 15.72it/s]\n",
      "Saving results to DB [Budapest] (area_id: 6): 100%|██████████| 71/71 [00:12<00:00,  5.67it/s]\n"
     ]
    },
    {
     "name": "stdout",
     "output_type": "stream",
     "text": [
      "Hex cache size: 3504771 / 3504771 / 34\n",
      "Hex cache size: 3504771 / 3504771 / 34\n"
     ]
    },
    {
     "name": "stderr",
     "output_type": "stream",
     "text": [
      "Generating predictions [Budapest] (area_id: 7): 100%|██████████| 20/20 [00:01<00:00, 12.24it/s]\n",
      "Saving results to DB [Budapest] (area_id: 7): 100%|██████████| 84/84 [00:06<00:00, 13.28it/s]\n"
     ]
    },
    {
     "name": "stdout",
     "output_type": "stream",
     "text": [
      "Hex cache size: 3504771 / 3504771 / 34\n",
      "Hex cache size: 3504771 / 3504771 / 34\n"
     ]
    },
    {
     "name": "stderr",
     "output_type": "stream",
     "text": [
      "Generating predictions [Budapest] (area_id: 8): 100%|██████████| 20/20 [00:01<00:00, 17.99it/s]\n",
      "Saving results to DB [Budapest] (area_id: 8): 100%|██████████| 50/50 [00:03<00:00, 14.34it/s]\n"
     ]
    },
    {
     "name": "stdout",
     "output_type": "stream",
     "text": [
      "Hex cache size: 3504771 / 3504771 / 34\n",
      "Hex cache size: 3504771 / 3504771 / 34\n"
     ]
    },
    {
     "name": "stderr",
     "output_type": "stream",
     "text": [
      "Generating predictions [Budapest] (area_id: 9): 100%|██████████| 20/20 [00:00<00:00, 20.70it/s]\n",
      "Saving results to DB [Budapest] (area_id: 9): 100%|██████████| 60/60 [00:04<00:00, 13.57it/s]\n"
     ]
    },
    {
     "name": "stdout",
     "output_type": "stream",
     "text": [
      "Hex cache size: 3504771 / 3504771 / 34\n",
      "Hex cache size: 3504771 / 3504771 / 34\n"
     ]
    },
    {
     "name": "stderr",
     "output_type": "stream",
     "text": [
      "Generating predictions [Budapest] (area_id: 10): 100%|██████████| 20/20 [00:01<00:00, 18.01it/s]\n",
      "Saving results to DB [Budapest] (area_id: 10): 100%|██████████| 65/65 [00:04<00:00, 14.70it/s]\n"
     ]
    },
    {
     "name": "stdout",
     "output_type": "stream",
     "text": [
      "Hex cache size: 3504771 / 3504771 / 34\n",
      "Hex cache size: 3504771 / 3504771 / 34\n"
     ]
    },
    {
     "name": "stderr",
     "output_type": "stream",
     "text": [
      "Generating predictions [Budapest] (area_id: 11): 100%|██████████| 20/20 [00:00<00:00, 21.67it/s]\n",
      "Saving results to DB [Budapest] (area_id: 11): 100%|██████████| 60/60 [00:07<00:00,  8.51it/s]\n"
     ]
    },
    {
     "name": "stdout",
     "output_type": "stream",
     "text": [
      "Hex cache size: 3504771 / 3504771 / 34\n",
      "Hex cache size: 3504771 / 3504771 / 34\n"
     ]
    },
    {
     "name": "stderr",
     "output_type": "stream",
     "text": [
      "Generating predictions [Budapest] (area_id: 12): 100%|██████████| 20/20 [00:01<00:00, 11.25it/s]\n",
      "Saving results to DB [Budapest] (area_id: 12): 100%|██████████| 153/153 [00:10<00:00, 14.00it/s]\n"
     ]
    },
    {
     "name": "stdout",
     "output_type": "stream",
     "text": [
      "Hex cache size: 3504771 / 3504771 / 34\n",
      "Hex cache size: 3504771 / 3504771 / 34\n"
     ]
    },
    {
     "name": "stderr",
     "output_type": "stream",
     "text": [
      "Generating predictions [Budapest] (area_id: 13): 100%|██████████| 20/20 [00:02<00:00,  8.43it/s]\n",
      "Saving results to DB [Budapest] (area_id: 13): 100%|██████████| 159/159 [00:12<00:00, 12.71it/s]\n"
     ]
    },
    {
     "name": "stdout",
     "output_type": "stream",
     "text": [
      "Hex cache size: 3504771 / 3504771 / 34\n",
      "Hex cache size: 3504771 / 3504771 / 34\n"
     ]
    },
    {
     "name": "stderr",
     "output_type": "stream",
     "text": [
      "Generating predictions [Budapest] (area_id: 14): 100%|██████████| 20/20 [00:01<00:00, 10.48it/s]\n",
      "Saving results to DB [Budapest] (area_id: 14): 100%|██████████| 111/111 [00:08<00:00, 12.54it/s]\n"
     ]
    },
    {
     "name": "stdout",
     "output_type": "stream",
     "text": [
      "Hex cache size: 3504771 / 3504771 / 34\n",
      "Hex cache size: 3504771 / 3504771 / 34\n"
     ]
    },
    {
     "name": "stderr",
     "output_type": "stream",
     "text": [
      "Generating predictions [Budapest] (area_id: 15): 100%|██████████| 20/20 [00:02<00:00,  9.63it/s]\n",
      "Saving results to DB [Budapest] (area_id: 15): 100%|██████████| 122/122 [00:09<00:00, 13.24it/s]\n"
     ]
    },
    {
     "name": "stdout",
     "output_type": "stream",
     "text": [
      "Hex cache size: 3504771 / 3504771 / 34\n",
      "Hex cache size: 3504771 / 3504771 / 34\n"
     ]
    },
    {
     "name": "stderr",
     "output_type": "stream",
     "text": [
      "Generating predictions [Budapest] (area_id: 16): 100%|██████████| 20/20 [00:01<00:00, 16.33it/s]\n",
      "Saving results to DB [Budapest] (area_id: 16): 100%|██████████| 59/59 [00:04<00:00, 12.74it/s]\n"
     ]
    },
    {
     "name": "stdout",
     "output_type": "stream",
     "text": [
      "Hex cache size: 3504771 / 3504771 / 34\n",
      "Hex cache size: 3504771 / 3504771 / 34\n"
     ]
    },
    {
     "name": "stderr",
     "output_type": "stream",
     "text": [
      "Generating predictions [Budapest] (area_id: 17): 100%|██████████| 20/20 [00:00<00:00, 21.46it/s]\n",
      "Saving results to DB [Budapest] (area_id: 17): 100%|██████████| 30/30 [00:02<00:00, 13.46it/s]\n"
     ]
    },
    {
     "name": "stdout",
     "output_type": "stream",
     "text": [
      "Hex cache size: 3504771 / 3504771 / 34\n",
      "Hex cache size: 3504771 / 3504771 / 34\n"
     ]
    },
    {
     "name": "stderr",
     "output_type": "stream",
     "text": [
      "Generating predictions [Budapest] (area_id: 18): 100%|██████████| 20/20 [00:01<00:00, 15.95it/s]\n",
      "Saving results to DB [Budapest] (area_id: 18): 100%|██████████| 63/63 [00:05<00:00, 10.74it/s]\n"
     ]
    },
    {
     "name": "stdout",
     "output_type": "stream",
     "text": [
      "Hex cache size: 3504771 / 3504771 / 34\n",
      "Hex cache size: 3504771 / 3504771 / 34\n"
     ]
    },
    {
     "name": "stderr",
     "output_type": "stream",
     "text": [
      "Generating predictions [Budapest] (area_id: 19): 100%|██████████| 20/20 [00:04<00:00,  4.24it/s]\n",
      "Saving results to DB [Budapest] (area_id: 19): 100%|██████████| 379/379 [00:30<00:00, 12.28it/s]\n"
     ]
    },
    {
     "name": "stdout",
     "output_type": "stream",
     "text": [
      "Hex cache size: 3504771 / 3504771 / 34\n",
      "Hex cache size: 3504771 / 3504771 / 34\n"
     ]
    },
    {
     "name": "stderr",
     "output_type": "stream",
     "text": [
      "Generating predictions [Budapest] (area_id: 20): 100%|██████████| 20/20 [00:03<00:00,  5.35it/s]\n",
      "Saving results to DB [Budapest] (area_id: 20): 100%|██████████| 295/295 [00:24<00:00, 12.17it/s]\n"
     ]
    },
    {
     "name": "stdout",
     "output_type": "stream",
     "text": [
      "Hex cache size: 3504771 / 3504771 / 34\n",
      "Hex cache size: 3504771 / 3504771 / 34\n"
     ]
    },
    {
     "name": "stderr",
     "output_type": "stream",
     "text": [
      "Generating predictions [Budapest] (area_id: 21): 100%|██████████| 20/20 [00:00<00:00, 21.01it/s]\n",
      "Saving results to DB [Budapest] (area_id: 21): 100%|██████████| 37/37 [00:02<00:00, 12.78it/s]\n"
     ]
    },
    {
     "name": "stdout",
     "output_type": "stream",
     "text": [
      "Hex cache size: 3504771 / 3504771 / 34\n",
      "Hex cache size: 3504771 / 3504771 / 34\n"
     ]
    },
    {
     "name": "stderr",
     "output_type": "stream",
     "text": [
      "Generating predictions [Budapest] (area_id: 22): 100%|██████████| 20/20 [00:01<00:00, 17.40it/s]\n",
      "Saving results to DB [Budapest] (area_id: 22): 100%|██████████| 54/54 [00:04<00:00, 13.16it/s]\n"
     ]
    },
    {
     "name": "stdout",
     "output_type": "stream",
     "text": [
      "Hex cache size: 3504771 / 3504771 / 34\n",
      "Hex cache size: 3504771 / 3504771 / 34\n"
     ]
    },
    {
     "name": "stderr",
     "output_type": "stream",
     "text": [
      "Generating predictions [Budapest] (area_id: 23): 100%|██████████| 20/20 [00:02<00:00,  9.73it/s]\n",
      "Saving results to DB [Budapest] (area_id: 23): 100%|██████████| 136/136 [00:10<00:00, 13.04it/s]\n"
     ]
    },
    {
     "name": "stdout",
     "output_type": "stream",
     "text": [
      "Hex cache size: 3504771 / 3504771 / 34\n",
      "Hex cache size: 3504771 / 3504771 / 34\n"
     ]
    },
    {
     "name": "stderr",
     "output_type": "stream",
     "text": [
      "Generating predictions [Budapest] (area_id: 24): 100%|██████████| 20/20 [00:03<00:00,  5.64it/s]\n",
      "Saving results to DB [Budapest] (area_id: 24): 100%|██████████| 265/265 [00:20<00:00, 12.73it/s]\n"
     ]
    },
    {
     "name": "stdout",
     "output_type": "stream",
     "text": [
      "Hex cache size: 3504771 / 3504771 / 34\n",
      "Hex cache size: 3504771 / 3504771 / 34\n"
     ]
    },
    {
     "name": "stderr",
     "output_type": "stream",
     "text": [
      "Generating predictions [Budapest] (area_id: 25): 100%|██████████| 20/20 [00:01<00:00, 11.42it/s]\n",
      "Saving results to DB [Budapest] (area_id: 25): 100%|██████████| 106/106 [00:08<00:00, 13.06it/s]\n"
     ]
    },
    {
     "name": "stdout",
     "output_type": "stream",
     "text": [
      "Hex cache size: 3504771 / 3504771 / 34\n",
      "Hex cache size: 3504771 / 3504771 / 34\n"
     ]
    },
    {
     "name": "stderr",
     "output_type": "stream",
     "text": [
      "Generating predictions [Budapest] (area_id: 26): 100%|██████████| 20/20 [00:02<00:00,  7.80it/s]\n",
      "Saving results to DB [Budapest] (area_id: 26): 100%|██████████| 152/152 [00:11<00:00, 12.71it/s]\n"
     ]
    },
    {
     "name": "stdout",
     "output_type": "stream",
     "text": [
      "Hex cache size: 3504771 / 3504771 / 34\n",
      "Hex cache size: 3504771 / 3504771 / 34\n"
     ]
    },
    {
     "name": "stderr",
     "output_type": "stream",
     "text": [
      "Generating predictions [Budapest] (area_id: 27): 100%|██████████| 20/20 [00:01<00:00, 17.93it/s]\n",
      "Saving results to DB [Budapest] (area_id: 27): 100%|██████████| 49/49 [00:03<00:00, 12.66it/s]\n"
     ]
    },
    {
     "name": "stdout",
     "output_type": "stream",
     "text": [
      "Hex cache size: 3504771 / 3504771 / 34\n",
      "Hex cache size: 3504771 / 3504771 / 34\n"
     ]
    },
    {
     "name": "stderr",
     "output_type": "stream",
     "text": [
      "Generating predictions [Budapest] (area_id: 28): 100%|██████████| 20/20 [00:01<00:00, 16.50it/s]\n",
      "Saving results to DB [Budapest] (area_id: 28): 100%|██████████| 53/53 [00:04<00:00, 12.94it/s]\n"
     ]
    },
    {
     "name": "stdout",
     "output_type": "stream",
     "text": [
      "Hex cache size: 3504771 / 3504771 / 34\n",
      "Hex cache size: 3504771 / 3504771 / 34\n"
     ]
    },
    {
     "name": "stderr",
     "output_type": "stream",
     "text": [
      "Generating predictions [Budapest] (area_id: 29): 100%|██████████| 20/20 [00:00<00:00, 21.00it/s]\n",
      "Saving results to DB [Budapest] (area_id: 29): 100%|██████████| 34/34 [00:02<00:00, 14.04it/s]\n"
     ]
    },
    {
     "name": "stdout",
     "output_type": "stream",
     "text": [
      "Hex cache size: 3504771 / 3504771 / 34\n",
      "Hex cache size: 3504771 / 3504771 / 34\n"
     ]
    },
    {
     "name": "stderr",
     "output_type": "stream",
     "text": [
      "Generating predictions [Budapest] (area_id: 30): 100%|██████████| 20/20 [00:01<00:00, 17.91it/s]\n",
      "Saving results to DB [Budapest] (area_id: 30): 100%|██████████| 50/50 [00:03<00:00, 12.85it/s]\n"
     ]
    },
    {
     "name": "stdout",
     "output_type": "stream",
     "text": [
      "Hex cache size: 3504771 / 3504771 / 34\n",
      "Hex cache size: 3504771 / 3504771 / 34\n"
     ]
    },
    {
     "name": "stderr",
     "output_type": "stream",
     "text": [
      "Generating predictions [Budapest] (area_id: 31): 100%|██████████| 20/20 [00:02<00:00,  7.54it/s]\n",
      "Saving results to DB [Budapest] (area_id: 31): 100%|██████████| 174/174 [00:13<00:00, 12.90it/s]\n"
     ]
    },
    {
     "name": "stdout",
     "output_type": "stream",
     "text": [
      "Hex cache size: 3504771 / 3504771 / 34\n",
      "Hex cache size: 3504771 / 3504771 / 34\n"
     ]
    },
    {
     "name": "stderr",
     "output_type": "stream",
     "text": [
      "Generating predictions [Budapest] (area_id: 32): 100%|██████████| 20/20 [00:01<00:00, 10.24it/s]\n",
      "Saving results to DB [Budapest] (area_id: 32): 100%|██████████| 127/127 [00:09<00:00, 12.94it/s]\n"
     ]
    },
    {
     "name": "stdout",
     "output_type": "stream",
     "text": [
      "Hex cache size: 3504771 / 3504771 / 34\n",
      "Hex cache size: 3504771 / 3504771 / 34\n"
     ]
    },
    {
     "name": "stderr",
     "output_type": "stream",
     "text": [
      "Generating predictions [Budapest] (area_id: 33): 100%|██████████| 20/20 [00:00<00:00, 22.17it/s]\n",
      "Saving results to DB [Budapest] (area_id: 33): 100%|██████████| 33/33 [00:02<00:00, 12.62it/s]\n"
     ]
    },
    {
     "name": "stdout",
     "output_type": "stream",
     "text": [
      "Hex cache size: 3504771 / 3504771 / 34\n",
      "Hex cache size: 3504771 / 3504771 / 34\n"
     ]
    },
    {
     "name": "stderr",
     "output_type": "stream",
     "text": [
      "Generating predictions [Budapest] (area_id: 34): 100%|██████████| 20/20 [00:01<00:00, 13.85it/s]\n",
      "Saving results to DB [Budapest] (area_id: 34): 100%|██████████| 71/71 [00:05<00:00, 13.37it/s]\n"
     ]
    },
    {
     "name": "stdout",
     "output_type": "stream",
     "text": [
      "Hex cache size: 3504771 / 3504771 / 34\n",
      "Hex cache size: 3504771 / 3504771 / 34\n"
     ]
    },
    {
     "name": "stderr",
     "output_type": "stream",
     "text": [
      "Generating predictions [Cardiff] (area_id: 1): 100%|██████████| 20/20 [00:35<00:00,  1.78s/it]\n",
      "Saving results to DB [Cardiff] (area_id: 1): 100%|██████████| 57/57 [00:08<00:00,  6.63it/s]\n"
     ]
    },
    {
     "name": "stdout",
     "output_type": "stream",
     "text": [
      "Hex cache size: 3504771 / 3504771 / 34\n",
      "Hex cache size: 3504771 / 3504771 / 34\n"
     ]
    },
    {
     "name": "stderr",
     "output_type": "stream",
     "text": [
      "Generating predictions [Cardiff] (area_id: 2): 100%|██████████| 20/20 [00:00<00:00, 21.15it/s]\n",
      "Saving results to DB [Cardiff] (area_id: 2): 100%|██████████| 43/43 [00:03<00:00, 13.61it/s]\n"
     ]
    },
    {
     "name": "stdout",
     "output_type": "stream",
     "text": [
      "Hex cache size: 3504771 / 3504771 / 34\n",
      "Hex cache size: 3504771 / 3504771 / 34\n"
     ]
    },
    {
     "name": "stderr",
     "output_type": "stream",
     "text": [
      "Generating predictions [Cardiff] (area_id: 3): 100%|██████████| 20/20 [00:01<00:00, 16.38it/s]\n",
      "Saving results to DB [Cardiff] (area_id: 3): 100%|██████████| 123/123 [00:09<00:00, 12.90it/s]\n"
     ]
    },
    {
     "name": "stdout",
     "output_type": "stream",
     "text": [
      "Hex cache size: 3504771 / 3504771 / 34\n",
      "Hex cache size: 3504771 / 3504771 / 34\n"
     ]
    },
    {
     "name": "stderr",
     "output_type": "stream",
     "text": [
      "Generating predictions [Cardiff] (area_id: 4): 100%|██████████| 20/20 [00:00<00:00, 22.76it/s]\n",
      "Saving results to DB [Cardiff] (area_id: 4): 100%|██████████| 54/54 [00:04<00:00, 11.74it/s]\n"
     ]
    },
    {
     "name": "stdout",
     "output_type": "stream",
     "text": [
      "Hex cache size: 3504771 / 3504771 / 34\n",
      "Hex cache size: 3504771 / 3504771 / 34\n"
     ]
    },
    {
     "name": "stderr",
     "output_type": "stream",
     "text": [
      "Generating predictions [Cardiff] (area_id: 5): 100%|██████████| 20/20 [00:01<00:00, 12.96it/s]\n",
      "Saving results to DB [Cardiff] (area_id: 5): 100%|██████████| 144/144 [00:11<00:00, 12.69it/s]\n"
     ]
    },
    {
     "name": "stdout",
     "output_type": "stream",
     "text": [
      "Hex cache size: 3504771 / 3504771 / 34\n",
      "Hex cache size: 3504771 / 3504771 / 34\n"
     ]
    },
    {
     "name": "stderr",
     "output_type": "stream",
     "text": [
      "Generating predictions [Cardiff] (area_id: 6): 100%|██████████| 20/20 [00:00<00:00, 20.05it/s]\n",
      "Saving results to DB [Cardiff] (area_id: 6): 100%|██████████| 71/71 [00:05<00:00, 14.16it/s]\n"
     ]
    },
    {
     "name": "stdout",
     "output_type": "stream",
     "text": [
      "Hex cache size: 3504771 / 3504771 / 34\n",
      "Hex cache size: 3504771 / 3504771 / 34\n"
     ]
    },
    {
     "name": "stderr",
     "output_type": "stream",
     "text": [
      "Generating predictions [Cardiff] (area_id: 7): 100%|██████████| 20/20 [00:00<00:00, 21.39it/s]\n",
      "Saving results to DB [Cardiff] (area_id: 7): 100%|██████████| 84/84 [00:05<00:00, 14.74it/s]\n"
     ]
    },
    {
     "name": "stdout",
     "output_type": "stream",
     "text": [
      "Hex cache size: 3504771 / 3504771 / 34\n",
      "Hex cache size: 3504771 / 3504771 / 34\n"
     ]
    },
    {
     "name": "stderr",
     "output_type": "stream",
     "text": [
      "Generating predictions [Cardiff] (area_id: 8): 100%|██████████| 20/20 [00:00<00:00, 33.19it/s]\n",
      "Saving results to DB [Cardiff] (area_id: 8): 100%|██████████| 50/50 [00:03<00:00, 15.62it/s]\n"
     ]
    },
    {
     "name": "stdout",
     "output_type": "stream",
     "text": [
      "Hex cache size: 3504771 / 3504771 / 34\n",
      "Hex cache size: 3504771 / 3504771 / 34\n"
     ]
    },
    {
     "name": "stderr",
     "output_type": "stream",
     "text": [
      "Generating predictions [Cardiff] (area_id: 9): 100%|██████████| 20/20 [00:00<00:00, 29.06it/s]\n",
      "Saving results to DB [Cardiff] (area_id: 9): 100%|██████████| 60/60 [00:04<00:00, 14.14it/s]\n"
     ]
    },
    {
     "name": "stdout",
     "output_type": "stream",
     "text": [
      "Hex cache size: 3504771 / 3504771 / 34\n",
      "Hex cache size: 3504771 / 3504771 / 34\n"
     ]
    },
    {
     "name": "stderr",
     "output_type": "stream",
     "text": [
      "Generating predictions [Cardiff] (area_id: 10): 100%|██████████| 20/20 [00:00<00:00, 22.74it/s]\n",
      "Saving results to DB [Cardiff] (area_id: 10): 100%|██████████| 65/65 [00:06<00:00, 10.81it/s]\n"
     ]
    },
    {
     "name": "stdout",
     "output_type": "stream",
     "text": [
      "Hex cache size: 3504771 / 3504771 / 34\n",
      "Hex cache size: 3504771 / 3504771 / 34\n"
     ]
    },
    {
     "name": "stderr",
     "output_type": "stream",
     "text": [
      "Generating predictions [Cardiff] (area_id: 11): 100%|██████████| 20/20 [00:00<00:00, 26.12it/s]\n",
      "Saving results to DB [Cardiff] (area_id: 11): 100%|██████████| 60/60 [00:04<00:00, 14.57it/s]\n"
     ]
    },
    {
     "name": "stdout",
     "output_type": "stream",
     "text": [
      "Hex cache size: 3504771 / 3504771 / 34\n",
      "Hex cache size: 3504771 / 3504771 / 34\n"
     ]
    },
    {
     "name": "stderr",
     "output_type": "stream",
     "text": [
      "Generating predictions [Cardiff] (area_id: 12): 100%|██████████| 20/20 [00:01<00:00, 16.23it/s]\n",
      "Saving results to DB [Cardiff] (area_id: 12): 100%|██████████| 153/153 [00:10<00:00, 15.20it/s]\n"
     ]
    },
    {
     "name": "stdout",
     "output_type": "stream",
     "text": [
      "Hex cache size: 3504771 / 3504771 / 34\n",
      "Hex cache size: 3504771 / 3504771 / 34\n"
     ]
    },
    {
     "name": "stderr",
     "output_type": "stream",
     "text": [
      "Generating predictions [Cardiff] (area_id: 13): 100%|██████████| 20/20 [00:01<00:00, 12.18it/s]\n",
      "Saving results to DB [Cardiff] (area_id: 13): 100%|██████████| 159/159 [00:10<00:00, 14.70it/s]\n"
     ]
    },
    {
     "name": "stdout",
     "output_type": "stream",
     "text": [
      "Hex cache size: 3504771 / 3504771 / 34\n",
      "Hex cache size: 3504771 / 3504771 / 34\n"
     ]
    },
    {
     "name": "stderr",
     "output_type": "stream",
     "text": [
      "Generating predictions [Cardiff] (area_id: 14): 100%|██████████| 20/20 [00:00<00:00, 20.84it/s]\n",
      "Saving results to DB [Cardiff] (area_id: 14): 100%|██████████| 111/111 [00:07<00:00, 14.76it/s]\n"
     ]
    },
    {
     "name": "stdout",
     "output_type": "stream",
     "text": [
      "Hex cache size: 3504771 / 3504771 / 34\n",
      "Hex cache size: 3504771 / 3504771 / 34\n"
     ]
    },
    {
     "name": "stderr",
     "output_type": "stream",
     "text": [
      "Generating predictions [Cardiff] (area_id: 15): 100%|██████████| 20/20 [00:01<00:00, 16.27it/s]\n",
      "Saving results to DB [Cardiff] (area_id: 15): 100%|██████████| 122/122 [00:08<00:00, 15.23it/s]\n"
     ]
    },
    {
     "name": "stdout",
     "output_type": "stream",
     "text": [
      "Hex cache size: 3504771 / 3504771 / 34\n",
      "Hex cache size: 3504771 / 3504771 / 34\n"
     ]
    },
    {
     "name": "stderr",
     "output_type": "stream",
     "text": [
      "Generating predictions [Cardiff] (area_id: 16): 100%|██████████| 20/20 [00:00<00:00, 27.53it/s]\n",
      "Saving results to DB [Cardiff] (area_id: 16): 100%|██████████| 59/59 [00:03<00:00, 14.78it/s]\n"
     ]
    },
    {
     "name": "stdout",
     "output_type": "stream",
     "text": [
      "Hex cache size: 3504771 / 3504771 / 34\n",
      "Hex cache size: 3504771 / 3504771 / 34\n"
     ]
    },
    {
     "name": "stderr",
     "output_type": "stream",
     "text": [
      "Generating predictions [Cardiff] (area_id: 17): 100%|██████████| 20/20 [00:00<00:00, 43.24it/s]\n",
      "Saving results to DB [Cardiff] (area_id: 17): 100%|██████████| 30/30 [00:01<00:00, 15.44it/s]\n"
     ]
    },
    {
     "name": "stdout",
     "output_type": "stream",
     "text": [
      "Hex cache size: 3504771 / 3504771 / 34\n",
      "Hex cache size: 3504771 / 3504771 / 34\n"
     ]
    },
    {
     "name": "stderr",
     "output_type": "stream",
     "text": [
      "Generating predictions [Cardiff] (area_id: 18): 100%|██████████| 20/20 [00:00<00:00, 21.25it/s]\n",
      "Saving results to DB [Cardiff] (area_id: 18): 100%|██████████| 63/63 [00:04<00:00, 12.84it/s]\n"
     ]
    },
    {
     "name": "stdout",
     "output_type": "stream",
     "text": [
      "Hex cache size: 3504771 / 3504771 / 34\n",
      "Hex cache size: 3504771 / 3504771 / 34\n"
     ]
    },
    {
     "name": "stderr",
     "output_type": "stream",
     "text": [
      "Generating predictions [Cardiff] (area_id: 19): 100%|██████████| 20/20 [00:04<00:00,  4.87it/s]\n",
      "Saving results to DB [Cardiff] (area_id: 19): 100%|██████████| 379/379 [00:31<00:00, 11.90it/s]\n"
     ]
    },
    {
     "name": "stdout",
     "output_type": "stream",
     "text": [
      "Hex cache size: 3504771 / 3504771 / 34\n",
      "Hex cache size: 3504771 / 3504771 / 34\n"
     ]
    },
    {
     "name": "stderr",
     "output_type": "stream",
     "text": [
      "Generating predictions [Cardiff] (area_id: 20): 100%|██████████| 20/20 [00:02<00:00,  8.08it/s]\n",
      "Saving results to DB [Cardiff] (area_id: 20): 100%|██████████| 295/295 [00:25<00:00, 11.76it/s]\n"
     ]
    },
    {
     "name": "stdout",
     "output_type": "stream",
     "text": [
      "Hex cache size: 3504771 / 3504771 / 34\n",
      "Hex cache size: 3504771 / 3504771 / 34\n"
     ]
    },
    {
     "name": "stderr",
     "output_type": "stream",
     "text": [
      "Generating predictions [Cardiff] (area_id: 21): 100%|██████████| 20/20 [00:00<00:00, 26.66it/s]\n",
      "Saving results to DB [Cardiff] (area_id: 21): 100%|██████████| 37/37 [00:02<00:00, 12.72it/s]\n"
     ]
    },
    {
     "name": "stdout",
     "output_type": "stream",
     "text": [
      "Hex cache size: 3504771 / 3504771 / 34\n",
      "Hex cache size: 3504771 / 3504771 / 34\n"
     ]
    },
    {
     "name": "stderr",
     "output_type": "stream",
     "text": [
      "Generating predictions [Cardiff] (area_id: 22): 100%|██████████| 20/20 [00:00<00:00, 23.09it/s]\n",
      "Saving results to DB [Cardiff] (area_id: 22): 100%|██████████| 54/54 [00:04<00:00, 12.80it/s]\n"
     ]
    },
    {
     "name": "stdout",
     "output_type": "stream",
     "text": [
      "Hex cache size: 3504771 / 3504771 / 34\n",
      "Hex cache size: 3504771 / 3504771 / 34\n"
     ]
    },
    {
     "name": "stderr",
     "output_type": "stream",
     "text": [
      "Generating predictions [Cardiff] (area_id: 23): 100%|██████████| 20/20 [00:01<00:00, 12.88it/s]\n",
      "Saving results to DB [Cardiff] (area_id: 23): 100%|██████████| 136/136 [00:10<00:00, 12.48it/s]\n"
     ]
    },
    {
     "name": "stdout",
     "output_type": "stream",
     "text": [
      "Hex cache size: 3504771 / 3504771 / 34\n",
      "Hex cache size: 3504771 / 3504771 / 34\n"
     ]
    },
    {
     "name": "stderr",
     "output_type": "stream",
     "text": [
      "Generating predictions [Cardiff] (area_id: 24): 100%|██████████| 20/20 [00:02<00:00,  7.51it/s]\n",
      "Saving results to DB [Cardiff] (area_id: 24): 100%|██████████| 265/265 [00:22<00:00, 11.88it/s]\n"
     ]
    },
    {
     "name": "stdout",
     "output_type": "stream",
     "text": [
      "Hex cache size: 3504771 / 3504771 / 34\n",
      "Hex cache size: 3504771 / 3504771 / 34\n"
     ]
    },
    {
     "name": "stderr",
     "output_type": "stream",
     "text": [
      "Generating predictions [Cardiff] (area_id: 25): 100%|██████████| 20/20 [00:01<00:00, 15.79it/s]\n",
      "Saving results to DB [Cardiff] (area_id: 25): 100%|██████████| 106/106 [00:08<00:00, 12.51it/s]\n"
     ]
    },
    {
     "name": "stdout",
     "output_type": "stream",
     "text": [
      "Hex cache size: 3504771 / 3504771 / 34\n",
      "Hex cache size: 3504771 / 3504771 / 34\n"
     ]
    },
    {
     "name": "stderr",
     "output_type": "stream",
     "text": [
      "Generating predictions [Cardiff] (area_id: 26): 100%|██████████| 20/20 [00:01<00:00, 13.41it/s]\n",
      "Saving results to DB [Cardiff] (area_id: 26): 100%|██████████| 152/152 [00:12<00:00, 12.12it/s]\n"
     ]
    },
    {
     "name": "stdout",
     "output_type": "stream",
     "text": [
      "Hex cache size: 3504771 / 3504771 / 34\n",
      "Hex cache size: 3504771 / 3504771 / 34\n"
     ]
    },
    {
     "name": "stderr",
     "output_type": "stream",
     "text": [
      "Generating predictions [Cardiff] (area_id: 27): 100%|██████████| 20/20 [00:00<00:00, 22.11it/s]\n",
      "Saving results to DB [Cardiff] (area_id: 27): 100%|██████████| 49/49 [00:03<00:00, 13.35it/s]\n"
     ]
    },
    {
     "name": "stdout",
     "output_type": "stream",
     "text": [
      "Hex cache size: 3504771 / 3504771 / 34\n",
      "Hex cache size: 3504771 / 3504771 / 34\n"
     ]
    },
    {
     "name": "stderr",
     "output_type": "stream",
     "text": [
      "Generating predictions [Cardiff] (area_id: 28): 100%|██████████| 20/20 [00:00<00:00, 24.62it/s]\n",
      "Saving results to DB [Cardiff] (area_id: 28): 100%|██████████| 53/53 [00:04<00:00, 12.95it/s]\n"
     ]
    },
    {
     "name": "stdout",
     "output_type": "stream",
     "text": [
      "Hex cache size: 3504771 / 3504771 / 34\n",
      "Hex cache size: 3504771 / 3504771 / 34\n"
     ]
    },
    {
     "name": "stderr",
     "output_type": "stream",
     "text": [
      "Generating predictions [Cardiff] (area_id: 29): 100%|██████████| 20/20 [00:00<00:00, 23.66it/s]\n",
      "Saving results to DB [Cardiff] (area_id: 29): 100%|██████████| 34/34 [00:03<00:00,  9.91it/s]\n"
     ]
    },
    {
     "name": "stdout",
     "output_type": "stream",
     "text": [
      "Hex cache size: 3504771 / 3504771 / 34\n",
      "Hex cache size: 3504771 / 3504771 / 34\n"
     ]
    },
    {
     "name": "stderr",
     "output_type": "stream",
     "text": [
      "Generating predictions [Cardiff] (area_id: 30): 100%|██████████| 20/20 [00:00<00:00, 26.12it/s]\n",
      "Saving results to DB [Cardiff] (area_id: 30): 100%|██████████| 50/50 [00:03<00:00, 13.06it/s]\n"
     ]
    },
    {
     "name": "stdout",
     "output_type": "stream",
     "text": [
      "Hex cache size: 3504771 / 3504771 / 34\n",
      "Hex cache size: 3504771 / 3504771 / 34\n"
     ]
    },
    {
     "name": "stderr",
     "output_type": "stream",
     "text": [
      "Generating predictions [Cardiff] (area_id: 31): 100%|██████████| 20/20 [00:02<00:00,  9.98it/s]\n",
      "Saving results to DB [Cardiff] (area_id: 31): 100%|██████████| 174/174 [00:13<00:00, 13.08it/s]\n"
     ]
    },
    {
     "name": "stdout",
     "output_type": "stream",
     "text": [
      "Hex cache size: 3504771 / 3504771 / 34\n",
      "Hex cache size: 3504771 / 3504771 / 34\n"
     ]
    },
    {
     "name": "stderr",
     "output_type": "stream",
     "text": [
      "Generating predictions [Cardiff] (area_id: 32): 100%|██████████| 20/20 [00:01<00:00, 15.53it/s]\n",
      "Saving results to DB [Cardiff] (area_id: 32): 100%|██████████| 127/127 [00:10<00:00, 12.48it/s]\n"
     ]
    },
    {
     "name": "stdout",
     "output_type": "stream",
     "text": [
      "Hex cache size: 3504771 / 3504771 / 34\n",
      "Hex cache size: 3504771 / 3504771 / 34\n"
     ]
    },
    {
     "name": "stderr",
     "output_type": "stream",
     "text": [
      "Generating predictions [Cardiff] (area_id: 33): 100%|██████████| 20/20 [00:00<00:00, 27.09it/s]\n",
      "Saving results to DB [Cardiff] (area_id: 33): 100%|██████████| 33/33 [00:02<00:00, 11.40it/s]\n"
     ]
    },
    {
     "name": "stdout",
     "output_type": "stream",
     "text": [
      "Hex cache size: 3504771 / 3504771 / 34\n",
      "Hex cache size: 3504771 / 3504771 / 34\n"
     ]
    },
    {
     "name": "stderr",
     "output_type": "stream",
     "text": [
      "Generating predictions [Cardiff] (area_id: 34): 100%|██████████| 20/20 [00:01<00:00, 19.64it/s]\n",
      "Saving results to DB [Cardiff] (area_id: 34): 100%|██████████| 71/71 [00:05<00:00, 13.35it/s]\n"
     ]
    },
    {
     "name": "stdout",
     "output_type": "stream",
     "text": [
      "Hex cache size: 3504771 / 3504771 / 34\n",
      "Hex cache size: 3504771 / 3504771 / 34\n"
     ]
    },
    {
     "name": "stderr",
     "output_type": "stream",
     "text": [
      "Generating predictions [Dublin] (area_id: 1): 100%|██████████| 20/20 [02:02<00:00,  6.12s/it]\n",
      "Saving results to DB [Dublin] (area_id: 1): 100%|██████████| 57/57 [00:04<00:00, 12.45it/s]\n"
     ]
    },
    {
     "name": "stdout",
     "output_type": "stream",
     "text": [
      "Hex cache size: 3504771 / 3504771 / 34\n",
      "Hex cache size: 3504771 / 3504771 / 34\n"
     ]
    },
    {
     "name": "stderr",
     "output_type": "stream",
     "text": [
      "Generating predictions [Dublin] (area_id: 2): 100%|██████████| 20/20 [00:01<00:00, 14.44it/s]\n",
      "Saving results to DB [Dublin] (area_id: 2): 100%|██████████| 43/43 [00:03<00:00, 13.60it/s]\n"
     ]
    },
    {
     "name": "stdout",
     "output_type": "stream",
     "text": [
      "Hex cache size: 3504771 / 3504771 / 34\n",
      "Hex cache size: 3504771 / 3504771 / 34\n"
     ]
    },
    {
     "name": "stderr",
     "output_type": "stream",
     "text": [
      "Generating predictions [Dublin] (area_id: 3): 100%|██████████| 20/20 [00:02<00:00,  8.96it/s]\n",
      "Saving results to DB [Dublin] (area_id: 3): 100%|██████████| 123/123 [00:10<00:00, 11.88it/s]\n"
     ]
    },
    {
     "name": "stdout",
     "output_type": "stream",
     "text": [
      "Hex cache size: 3504771 / 3504771 / 34\n",
      "Hex cache size: 3504771 / 3504771 / 34\n"
     ]
    },
    {
     "name": "stderr",
     "output_type": "stream",
     "text": [
      "Generating predictions [Dublin] (area_id: 4): 100%|██████████| 20/20 [00:01<00:00, 16.13it/s]\n",
      "Saving results to DB [Dublin] (area_id: 4): 100%|██████████| 54/54 [00:04<00:00, 12.98it/s]\n"
     ]
    },
    {
     "name": "stdout",
     "output_type": "stream",
     "text": [
      "Hex cache size: 3504771 / 3504771 / 34\n",
      "Hex cache size: 3504771 / 3504771 / 34\n"
     ]
    },
    {
     "name": "stderr",
     "output_type": "stream",
     "text": [
      "Generating predictions [Dublin] (area_id: 5): 100%|██████████| 20/20 [00:02<00:00,  8.56it/s]\n",
      "Saving results to DB [Dublin] (area_id: 5): 100%|██████████| 144/144 [00:10<00:00, 13.09it/s]\n"
     ]
    },
    {
     "name": "stdout",
     "output_type": "stream",
     "text": [
      "Hex cache size: 3504771 / 3504771 / 34\n",
      "Hex cache size: 3504771 / 3504771 / 34\n"
     ]
    },
    {
     "name": "stderr",
     "output_type": "stream",
     "text": [
      "Generating predictions [Dublin] (area_id: 6): 100%|██████████| 20/20 [00:01<00:00, 12.75it/s]\n",
      "Saving results to DB [Dublin] (area_id: 6): 100%|██████████| 71/71 [00:05<00:00, 12.59it/s]\n"
     ]
    },
    {
     "name": "stdout",
     "output_type": "stream",
     "text": [
      "Hex cache size: 3504771 / 3504771 / 34\n",
      "Hex cache size: 3504771 / 3504771 / 34\n"
     ]
    },
    {
     "name": "stderr",
     "output_type": "stream",
     "text": [
      "Generating predictions [Dublin] (area_id: 7): 100%|██████████| 20/20 [00:02<00:00,  9.98it/s]\n",
      "Saving results to DB [Dublin] (area_id: 7): 100%|██████████| 84/84 [00:07<00:00, 11.70it/s]\n"
     ]
    },
    {
     "name": "stdout",
     "output_type": "stream",
     "text": [
      "Hex cache size: 3504771 / 3504771 / 34\n",
      "Hex cache size: 3504771 / 3504771 / 34\n"
     ]
    },
    {
     "name": "stderr",
     "output_type": "stream",
     "text": [
      "Generating predictions [Dublin] (area_id: 8): 100%|██████████| 20/20 [00:01<00:00, 14.55it/s]\n",
      "Saving results to DB [Dublin] (area_id: 8): 100%|██████████| 50/50 [00:04<00:00, 12.35it/s]\n"
     ]
    },
    {
     "name": "stdout",
     "output_type": "stream",
     "text": [
      "Hex cache size: 3504771 / 3504771 / 34\n",
      "Hex cache size: 3504771 / 3504771 / 34\n"
     ]
    },
    {
     "name": "stderr",
     "output_type": "stream",
     "text": [
      "Generating predictions [Dublin] (area_id: 9): 100%|██████████| 20/20 [00:01<00:00, 15.29it/s]\n",
      "Saving results to DB [Dublin] (area_id: 9): 100%|██████████| 60/60 [00:04<00:00, 13.41it/s]\n"
     ]
    },
    {
     "name": "stdout",
     "output_type": "stream",
     "text": [
      "Hex cache size: 3504771 / 3504771 / 34\n",
      "Hex cache size: 3504771 / 3504771 / 34\n"
     ]
    },
    {
     "name": "stderr",
     "output_type": "stream",
     "text": [
      "Generating predictions [Dublin] (area_id: 10): 100%|██████████| 20/20 [00:01<00:00, 14.14it/s]\n",
      "Saving results to DB [Dublin] (area_id: 10): 100%|██████████| 65/65 [00:05<00:00, 12.73it/s]\n"
     ]
    },
    {
     "name": "stdout",
     "output_type": "stream",
     "text": [
      "Hex cache size: 3504771 / 3504771 / 34\n",
      "Hex cache size: 3504771 / 3504771 / 34\n"
     ]
    },
    {
     "name": "stderr",
     "output_type": "stream",
     "text": [
      "Generating predictions [Dublin] (area_id: 11): 100%|██████████| 20/20 [00:01<00:00, 15.09it/s]\n",
      "Saving results to DB [Dublin] (area_id: 11): 100%|██████████| 60/60 [00:04<00:00, 13.02it/s]\n"
     ]
    },
    {
     "name": "stdout",
     "output_type": "stream",
     "text": [
      "Hex cache size: 3504771 / 3504771 / 34\n",
      "Hex cache size: 3504771 / 3504771 / 34\n"
     ]
    },
    {
     "name": "stderr",
     "output_type": "stream",
     "text": [
      "Generating predictions [Dublin] (area_id: 12): 100%|██████████| 20/20 [00:02<00:00,  8.47it/s]\n",
      "Saving results to DB [Dublin] (area_id: 12): 100%|██████████| 153/153 [00:14<00:00, 10.41it/s]\n"
     ]
    },
    {
     "name": "stdout",
     "output_type": "stream",
     "text": [
      "Hex cache size: 3504771 / 3504771 / 34\n",
      "Hex cache size: 3504771 / 3504771 / 34\n"
     ]
    },
    {
     "name": "stderr",
     "output_type": "stream",
     "text": [
      "Generating predictions [Dublin] (area_id: 13): 100%|██████████| 20/20 [00:02<00:00,  7.41it/s]\n",
      "Saving results to DB [Dublin] (area_id: 13): 100%|██████████| 159/159 [00:12<00:00, 13.03it/s]\n"
     ]
    },
    {
     "name": "stdout",
     "output_type": "stream",
     "text": [
      "Hex cache size: 3504771 / 3504771 / 34\n",
      "Hex cache size: 3504771 / 3504771 / 34\n"
     ]
    },
    {
     "name": "stderr",
     "output_type": "stream",
     "text": [
      "Generating predictions [Dublin] (area_id: 14): 100%|██████████| 20/20 [00:02<00:00,  9.79it/s]\n",
      "Saving results to DB [Dublin] (area_id: 14): 100%|██████████| 111/111 [00:08<00:00, 12.46it/s]\n"
     ]
    },
    {
     "name": "stdout",
     "output_type": "stream",
     "text": [
      "Hex cache size: 3504771 / 3504771 / 34\n",
      "Hex cache size: 3504771 / 3504771 / 34\n"
     ]
    },
    {
     "name": "stderr",
     "output_type": "stream",
     "text": [
      "Generating predictions [Dublin] (area_id: 15): 100%|██████████| 20/20 [00:02<00:00,  9.01it/s]\n",
      "Saving results to DB [Dublin] (area_id: 15): 100%|██████████| 122/122 [00:09<00:00, 13.00it/s]\n"
     ]
    },
    {
     "name": "stdout",
     "output_type": "stream",
     "text": [
      "Hex cache size: 3504771 / 3504771 / 34\n",
      "Hex cache size: 3504771 / 3504771 / 34\n"
     ]
    },
    {
     "name": "stderr",
     "output_type": "stream",
     "text": [
      "Generating predictions [Dublin] (area_id: 16): 100%|██████████| 20/20 [00:01<00:00, 15.05it/s]\n",
      "Saving results to DB [Dublin] (area_id: 16): 100%|██████████| 59/59 [00:04<00:00, 12.93it/s]\n"
     ]
    },
    {
     "name": "stdout",
     "output_type": "stream",
     "text": [
      "Hex cache size: 3504771 / 3504771 / 34\n",
      "Hex cache size: 3504771 / 3504771 / 34\n"
     ]
    },
    {
     "name": "stderr",
     "output_type": "stream",
     "text": [
      "Generating predictions [Dublin] (area_id: 17): 100%|██████████| 20/20 [00:00<00:00, 20.34it/s]\n",
      "Saving results to DB [Dublin] (area_id: 17): 100%|██████████| 30/30 [00:02<00:00, 13.62it/s]\n"
     ]
    },
    {
     "name": "stdout",
     "output_type": "stream",
     "text": [
      "Hex cache size: 3504771 / 3504771 / 34\n",
      "Hex cache size: 3504771 / 3504771 / 34\n"
     ]
    },
    {
     "name": "stderr",
     "output_type": "stream",
     "text": [
      "Generating predictions [Dublin] (area_id: 18): 100%|██████████| 20/20 [00:01<00:00, 14.28it/s]\n",
      "Saving results to DB [Dublin] (area_id: 18): 100%|██████████| 63/63 [00:04<00:00, 12.62it/s]\n"
     ]
    },
    {
     "name": "stdout",
     "output_type": "stream",
     "text": [
      "Hex cache size: 3504771 / 3504771 / 34\n",
      "Hex cache size: 3504771 / 3504771 / 34\n"
     ]
    },
    {
     "name": "stderr",
     "output_type": "stream",
     "text": [
      "Generating predictions [Dublin] (area_id: 19): 100%|██████████| 20/20 [00:05<00:00,  3.71it/s]\n",
      "Saving results to DB [Dublin] (area_id: 19): 100%|██████████| 379/379 [00:30<00:00, 12.50it/s]\n"
     ]
    },
    {
     "name": "stdout",
     "output_type": "stream",
     "text": [
      "Hex cache size: 3504771 / 3504771 / 34\n",
      "Hex cache size: 3504771 / 3504771 / 34\n"
     ]
    },
    {
     "name": "stderr",
     "output_type": "stream",
     "text": [
      "Generating predictions [Dublin] (area_id: 20): 100%|██████████| 20/20 [00:04<00:00,  4.98it/s]\n",
      "Saving results to DB [Dublin] (area_id: 20): 100%|██████████| 295/295 [00:26<00:00, 11.10it/s]\n"
     ]
    },
    {
     "name": "stdout",
     "output_type": "stream",
     "text": [
      "Hex cache size: 3504771 / 3504771 / 34\n",
      "Hex cache size: 3504771 / 3504771 / 34\n"
     ]
    },
    {
     "name": "stderr",
     "output_type": "stream",
     "text": [
      "Generating predictions [Dublin] (area_id: 21): 100%|██████████| 20/20 [00:00<00:00, 20.04it/s]\n",
      "Saving results to DB [Dublin] (area_id: 21): 100%|██████████| 37/37 [00:02<00:00, 13.11it/s]\n"
     ]
    },
    {
     "name": "stdout",
     "output_type": "stream",
     "text": [
      "Hex cache size: 3504771 / 3504771 / 34\n",
      "Hex cache size: 3504771 / 3504771 / 34\n"
     ]
    },
    {
     "name": "stderr",
     "output_type": "stream",
     "text": [
      "Generating predictions [Dublin] (area_id: 22): 100%|██████████| 20/20 [00:01<00:00, 16.34it/s]\n",
      "Saving results to DB [Dublin] (area_id: 22): 100%|██████████| 54/54 [00:04<00:00, 12.98it/s]\n"
     ]
    },
    {
     "name": "stdout",
     "output_type": "stream",
     "text": [
      "Hex cache size: 3504771 / 3504771 / 34\n",
      "Hex cache size: 3504771 / 3504771 / 34\n"
     ]
    },
    {
     "name": "stderr",
     "output_type": "stream",
     "text": [
      "Generating predictions [Dublin] (area_id: 23): 100%|██████████| 20/20 [00:02<00:00,  9.29it/s]\n",
      "Saving results to DB [Dublin] (area_id: 23): 100%|██████████| 136/136 [00:11<00:00, 12.30it/s]\n"
     ]
    },
    {
     "name": "stdout",
     "output_type": "stream",
     "text": [
      "Hex cache size: 3504771 / 3504771 / 34\n",
      "Hex cache size: 3504771 / 3504771 / 34\n"
     ]
    },
    {
     "name": "stderr",
     "output_type": "stream",
     "text": [
      "Generating predictions [Dublin] (area_id: 24): 100%|██████████| 20/20 [00:03<00:00,  5.02it/s]\n",
      "Saving results to DB [Dublin] (area_id: 24): 100%|██████████| 265/265 [00:26<00:00, 10.00it/s]\n"
     ]
    },
    {
     "name": "stdout",
     "output_type": "stream",
     "text": [
      "Hex cache size: 3504771 / 3504771 / 34\n",
      "Hex cache size: 3504771 / 3504771 / 34\n"
     ]
    },
    {
     "name": "stderr",
     "output_type": "stream",
     "text": [
      "Generating predictions [Dublin] (area_id: 25): 100%|██████████| 20/20 [00:01<00:00, 10.97it/s]\n",
      "Saving results to DB [Dublin] (area_id: 25): 100%|██████████| 106/106 [00:07<00:00, 13.38it/s]\n"
     ]
    },
    {
     "name": "stdout",
     "output_type": "stream",
     "text": [
      "Hex cache size: 3504771 / 3504771 / 34\n",
      "Hex cache size: 3504771 / 3504771 / 34\n"
     ]
    },
    {
     "name": "stderr",
     "output_type": "stream",
     "text": [
      "Generating predictions [Dublin] (area_id: 26): 100%|██████████| 20/20 [00:02<00:00,  8.33it/s]\n",
      "Saving results to DB [Dublin] (area_id: 26): 100%|██████████| 152/152 [00:11<00:00, 12.95it/s]\n"
     ]
    },
    {
     "name": "stdout",
     "output_type": "stream",
     "text": [
      "Hex cache size: 3504771 / 3504771 / 34\n",
      "Hex cache size: 3504771 / 3504771 / 34\n"
     ]
    },
    {
     "name": "stderr",
     "output_type": "stream",
     "text": [
      "Generating predictions [Dublin] (area_id: 27): 100%|██████████| 20/20 [00:01<00:00, 16.88it/s]\n",
      "Saving results to DB [Dublin] (area_id: 27): 100%|██████████| 49/49 [00:03<00:00, 12.52it/s]\n"
     ]
    },
    {
     "name": "stdout",
     "output_type": "stream",
     "text": [
      "Hex cache size: 3504771 / 3504771 / 34\n",
      "Hex cache size: 3504771 / 3504771 / 34\n"
     ]
    },
    {
     "name": "stderr",
     "output_type": "stream",
     "text": [
      "Generating predictions [Dublin] (area_id: 28): 100%|██████████| 20/20 [00:01<00:00, 17.01it/s]\n",
      "Saving results to DB [Dublin] (area_id: 28): 100%|██████████| 53/53 [00:04<00:00, 12.24it/s]\n"
     ]
    },
    {
     "name": "stdout",
     "output_type": "stream",
     "text": [
      "Hex cache size: 3504771 / 3504771 / 34\n",
      "Hex cache size: 3504771 / 3504771 / 34\n"
     ]
    },
    {
     "name": "stderr",
     "output_type": "stream",
     "text": [
      "Generating predictions [Dublin] (area_id: 29): 100%|██████████| 20/20 [00:01<00:00, 19.47it/s]\n",
      "Saving results to DB [Dublin] (area_id: 29): 100%|██████████| 34/34 [00:02<00:00, 13.56it/s]\n"
     ]
    },
    {
     "name": "stdout",
     "output_type": "stream",
     "text": [
      "Hex cache size: 3504771 / 3504771 / 34\n",
      "Hex cache size: 3504771 / 3504771 / 34\n"
     ]
    },
    {
     "name": "stderr",
     "output_type": "stream",
     "text": [
      "Generating predictions [Dublin] (area_id: 30): 100%|██████████| 20/20 [00:01<00:00, 16.61it/s]\n",
      "Saving results to DB [Dublin] (area_id: 30): 100%|██████████| 50/50 [00:03<00:00, 13.76it/s]\n"
     ]
    },
    {
     "name": "stdout",
     "output_type": "stream",
     "text": [
      "Hex cache size: 3504771 / 3504771 / 34\n",
      "Hex cache size: 3504771 / 3504771 / 34\n"
     ]
    },
    {
     "name": "stderr",
     "output_type": "stream",
     "text": [
      "Generating predictions [Dublin] (area_id: 31): 100%|██████████| 20/20 [00:02<00:00,  7.59it/s]\n",
      "Saving results to DB [Dublin] (area_id: 31): 100%|██████████| 174/174 [00:13<00:00, 12.91it/s]\n"
     ]
    },
    {
     "name": "stdout",
     "output_type": "stream",
     "text": [
      "Hex cache size: 3504771 / 3504771 / 34\n",
      "Hex cache size: 3504771 / 3504771 / 34\n"
     ]
    },
    {
     "name": "stderr",
     "output_type": "stream",
     "text": [
      "Generating predictions [Dublin] (area_id: 32): 100%|██████████| 20/20 [00:02<00:00,  9.66it/s]\n",
      "Saving results to DB [Dublin] (area_id: 32): 100%|██████████| 127/127 [00:09<00:00, 13.41it/s]\n"
     ]
    },
    {
     "name": "stdout",
     "output_type": "stream",
     "text": [
      "Hex cache size: 3504771 / 3504771 / 34\n",
      "Hex cache size: 3504771 / 3504771 / 34\n"
     ]
    },
    {
     "name": "stderr",
     "output_type": "stream",
     "text": [
      "Generating predictions [Dublin] (area_id: 33): 100%|██████████| 20/20 [00:00<00:00, 21.54it/s]\n",
      "Saving results to DB [Dublin] (area_id: 33): 100%|██████████| 33/33 [00:02<00:00, 13.72it/s]\n"
     ]
    },
    {
     "name": "stdout",
     "output_type": "stream",
     "text": [
      "Hex cache size: 3504771 / 3504771 / 34\n",
      "Hex cache size: 3504771 / 3504771 / 34\n"
     ]
    },
    {
     "name": "stderr",
     "output_type": "stream",
     "text": [
      "Generating predictions [Dublin] (area_id: 34): 100%|██████████| 20/20 [00:01<00:00, 14.00it/s]\n",
      "Saving results to DB [Dublin] (area_id: 34): 100%|██████████| 71/71 [00:05<00:00, 12.59it/s]\n"
     ]
    },
    {
     "name": "stdout",
     "output_type": "stream",
     "text": [
      "Hex cache size: 3504771 / 3504771 / 34\n",
      "Hex cache size: 3504771 / 3504771 / 34\n"
     ]
    },
    {
     "name": "stderr",
     "output_type": "stream",
     "text": [
      "Generating predictions [Gothenburg] (area_id: 1): 100%|██████████| 20/20 [00:35<00:00,  1.75s/it]\n",
      "Saving results to DB [Gothenburg] (area_id: 1): 100%|██████████| 57/57 [00:04<00:00, 13.89it/s]\n"
     ]
    },
    {
     "name": "stdout",
     "output_type": "stream",
     "text": [
      "Hex cache size: 3504771 / 3504771 / 34\n",
      "Hex cache size: 3504771 / 3504771 / 34\n"
     ]
    },
    {
     "name": "stderr",
     "output_type": "stream",
     "text": [
      "Generating predictions [Gothenburg] (area_id: 2): 100%|██████████| 20/20 [00:01<00:00, 19.95it/s]\n",
      "Saving results to DB [Gothenburg] (area_id: 2): 100%|██████████| 43/43 [00:03<00:00, 13.72it/s]\n"
     ]
    },
    {
     "name": "stdout",
     "output_type": "stream",
     "text": [
      "Hex cache size: 3504771 / 3504771 / 34\n",
      "Hex cache size: 3504771 / 3504771 / 34\n"
     ]
    },
    {
     "name": "stderr",
     "output_type": "stream",
     "text": [
      "Generating predictions [Gothenburg] (area_id: 3): 100%|██████████| 20/20 [00:01<00:00, 11.10it/s]\n",
      "Saving results to DB [Gothenburg] (area_id: 3): 100%|██████████| 123/123 [00:09<00:00, 13.15it/s]\n"
     ]
    },
    {
     "name": "stdout",
     "output_type": "stream",
     "text": [
      "Hex cache size: 3504771 / 3504771 / 34\n",
      "Hex cache size: 3504771 / 3504771 / 34\n"
     ]
    },
    {
     "name": "stderr",
     "output_type": "stream",
     "text": [
      "Generating predictions [Gothenburg] (area_id: 4): 100%|██████████| 20/20 [00:01<00:00, 17.40it/s]\n",
      "Saving results to DB [Gothenburg] (area_id: 4): 100%|██████████| 54/54 [00:04<00:00, 12.12it/s]\n"
     ]
    },
    {
     "name": "stdout",
     "output_type": "stream",
     "text": [
      "Hex cache size: 3504771 / 3504771 / 34\n",
      "Hex cache size: 3504771 / 3504771 / 34\n"
     ]
    },
    {
     "name": "stderr",
     "output_type": "stream",
     "text": [
      "Generating predictions [Gothenburg] (area_id: 5): 100%|██████████| 20/20 [00:02<00:00,  9.36it/s]\n",
      "Saving results to DB [Gothenburg] (area_id: 5): 100%|██████████| 144/144 [00:11<00:00, 12.87it/s]\n"
     ]
    },
    {
     "name": "stdout",
     "output_type": "stream",
     "text": [
      "Hex cache size: 3504771 / 3504771 / 34\n",
      "Hex cache size: 3504771 / 3504771 / 34\n"
     ]
    },
    {
     "name": "stderr",
     "output_type": "stream",
     "text": [
      "Generating predictions [Gothenburg] (area_id: 6): 100%|██████████| 20/20 [00:01<00:00, 16.99it/s]\n",
      "Saving results to DB [Gothenburg] (area_id: 6): 100%|██████████| 71/71 [00:05<00:00, 13.67it/s]\n"
     ]
    },
    {
     "name": "stdout",
     "output_type": "stream",
     "text": [
      "Hex cache size: 3504771 / 3504771 / 34\n",
      "Hex cache size: 3504771 / 3504771 / 34\n"
     ]
    },
    {
     "name": "stderr",
     "output_type": "stream",
     "text": [
      "Generating predictions [Gothenburg] (area_id: 7): 100%|██████████| 20/20 [00:01<00:00, 13.90it/s]\n",
      "Saving results to DB [Gothenburg] (area_id: 7): 100%|██████████| 84/84 [00:06<00:00, 13.15it/s]\n"
     ]
    },
    {
     "name": "stdout",
     "output_type": "stream",
     "text": [
      "Hex cache size: 3504771 / 3504771 / 34\n",
      "Hex cache size: 3504771 / 3504771 / 34\n"
     ]
    },
    {
     "name": "stderr",
     "output_type": "stream",
     "text": [
      "Generating predictions [Gothenburg] (area_id: 8): 100%|██████████| 20/20 [00:01<00:00, 19.76it/s]\n",
      "Saving results to DB [Gothenburg] (area_id: 8): 100%|██████████| 50/50 [00:03<00:00, 12.78it/s]\n"
     ]
    },
    {
     "name": "stdout",
     "output_type": "stream",
     "text": [
      "Hex cache size: 3504771 / 3504771 / 34\n",
      "Hex cache size: 3504771 / 3504771 / 34\n"
     ]
    },
    {
     "name": "stderr",
     "output_type": "stream",
     "text": [
      "Generating predictions [Gothenburg] (area_id: 9): 100%|██████████| 20/20 [00:01<00:00, 17.38it/s]\n",
      "Saving results to DB [Gothenburg] (area_id: 9): 100%|██████████| 60/60 [00:04<00:00, 13.53it/s]\n"
     ]
    },
    {
     "name": "stdout",
     "output_type": "stream",
     "text": [
      "Hex cache size: 3504771 / 3504771 / 34\n",
      "Hex cache size: 3504771 / 3504771 / 34\n"
     ]
    },
    {
     "name": "stderr",
     "output_type": "stream",
     "text": [
      "Generating predictions [Gothenburg] (area_id: 10): 100%|██████████| 20/20 [00:01<00:00, 15.08it/s]\n",
      "Saving results to DB [Gothenburg] (area_id: 10): 100%|██████████| 65/65 [00:04<00:00, 13.10it/s]\n"
     ]
    },
    {
     "name": "stdout",
     "output_type": "stream",
     "text": [
      "Hex cache size: 3504771 / 3504771 / 34\n",
      "Hex cache size: 3504771 / 3504771 / 34\n"
     ]
    },
    {
     "name": "stderr",
     "output_type": "stream",
     "text": [
      "Generating predictions [Gothenburg] (area_id: 11): 100%|██████████| 20/20 [00:01<00:00, 17.12it/s]\n",
      "Saving results to DB [Gothenburg] (area_id: 11): 100%|██████████| 60/60 [00:04<00:00, 12.72it/s]\n"
     ]
    },
    {
     "name": "stdout",
     "output_type": "stream",
     "text": [
      "Hex cache size: 3504771 / 3504771 / 34\n",
      "Hex cache size: 3504771 / 3504771 / 34\n"
     ]
    },
    {
     "name": "stderr",
     "output_type": "stream",
     "text": [
      "Generating predictions [Gothenburg] (area_id: 12): 100%|██████████| 20/20 [00:02<00:00,  9.26it/s]\n",
      "Saving results to DB [Gothenburg] (area_id: 12): 100%|██████████| 153/153 [00:11<00:00, 13.52it/s]\n"
     ]
    },
    {
     "name": "stdout",
     "output_type": "stream",
     "text": [
      "Hex cache size: 3504771 / 3504771 / 34\n",
      "Hex cache size: 3504771 / 3504771 / 34\n"
     ]
    },
    {
     "name": "stderr",
     "output_type": "stream",
     "text": [
      "Generating predictions [Gothenburg] (area_id: 13): 100%|██████████| 20/20 [00:02<00:00,  8.39it/s]\n",
      "Saving results to DB [Gothenburg] (area_id: 13): 100%|██████████| 159/159 [00:14<00:00, 11.15it/s]\n"
     ]
    },
    {
     "name": "stdout",
     "output_type": "stream",
     "text": [
      "Hex cache size: 3504771 / 3504771 / 34\n",
      "Hex cache size: 3504771 / 3504771 / 34\n"
     ]
    },
    {
     "name": "stderr",
     "output_type": "stream",
     "text": [
      "Generating predictions [Gothenburg] (area_id: 14): 100%|██████████| 20/20 [00:01<00:00, 11.81it/s]\n",
      "Saving results to DB [Gothenburg] (area_id: 14): 100%|██████████| 111/111 [00:08<00:00, 12.62it/s]\n"
     ]
    },
    {
     "name": "stdout",
     "output_type": "stream",
     "text": [
      "Hex cache size: 3504771 / 3504771 / 34\n",
      "Hex cache size: 3504771 / 3504771 / 34\n"
     ]
    },
    {
     "name": "stderr",
     "output_type": "stream",
     "text": [
      "Generating predictions [Gothenburg] (area_id: 15): 100%|██████████| 20/20 [00:01<00:00, 10.69it/s]\n",
      "Saving results to DB [Gothenburg] (area_id: 15): 100%|██████████| 122/122 [00:09<00:00, 13.50it/s]\n"
     ]
    },
    {
     "name": "stdout",
     "output_type": "stream",
     "text": [
      "Hex cache size: 3504771 / 3504771 / 34\n",
      "Hex cache size: 3504771 / 3504771 / 34\n"
     ]
    },
    {
     "name": "stderr",
     "output_type": "stream",
     "text": [
      "Generating predictions [Gothenburg] (area_id: 16): 100%|██████████| 20/20 [00:01<00:00, 16.19it/s]\n",
      "Saving results to DB [Gothenburg] (area_id: 16): 100%|██████████| 59/59 [00:04<00:00, 13.31it/s]\n"
     ]
    },
    {
     "name": "stdout",
     "output_type": "stream",
     "text": [
      "Hex cache size: 3504771 / 3504771 / 34\n",
      "Hex cache size: 3504771 / 3504771 / 34\n"
     ]
    },
    {
     "name": "stderr",
     "output_type": "stream",
     "text": [
      "Generating predictions [Gothenburg] (area_id: 17): 100%|██████████| 20/20 [00:00<00:00, 25.33it/s]\n",
      "Saving results to DB [Gothenburg] (area_id: 17): 100%|██████████| 30/30 [00:02<00:00, 13.45it/s]\n"
     ]
    },
    {
     "name": "stdout",
     "output_type": "stream",
     "text": [
      "Hex cache size: 3504771 / 3504771 / 34\n",
      "Hex cache size: 3504771 / 3504771 / 34\n"
     ]
    },
    {
     "name": "stderr",
     "output_type": "stream",
     "text": [
      "Generating predictions [Gothenburg] (area_id: 18): 100%|██████████| 20/20 [00:01<00:00, 15.15it/s]\n",
      "Saving results to DB [Gothenburg] (area_id: 18): 100%|██████████| 63/63 [00:05<00:00, 12.58it/s]\n"
     ]
    },
    {
     "name": "stdout",
     "output_type": "stream",
     "text": [
      "Hex cache size: 3504771 / 3504771 / 34\n",
      "Hex cache size: 3504771 / 3504771 / 34\n"
     ]
    },
    {
     "name": "stderr",
     "output_type": "stream",
     "text": [
      "Generating predictions [Gothenburg] (area_id: 19): 100%|██████████| 20/20 [00:04<00:00,  4.03it/s]\n",
      "Saving results to DB [Gothenburg] (area_id: 19): 100%|██████████| 379/379 [00:30<00:00, 12.49it/s]\n"
     ]
    },
    {
     "name": "stdout",
     "output_type": "stream",
     "text": [
      "Hex cache size: 3504771 / 3504771 / 34\n",
      "Hex cache size: 3504771 / 3504771 / 34\n"
     ]
    },
    {
     "name": "stderr",
     "output_type": "stream",
     "text": [
      "Generating predictions [Gothenburg] (area_id: 20): 100%|██████████| 20/20 [00:03<00:00,  5.58it/s]\n",
      "Saving results to DB [Gothenburg] (area_id: 20): 100%|██████████| 295/295 [00:21<00:00, 13.48it/s]\n"
     ]
    },
    {
     "name": "stdout",
     "output_type": "stream",
     "text": [
      "Hex cache size: 3504771 / 3504771 / 34\n",
      "Hex cache size: 3504771 / 3504771 / 34\n"
     ]
    },
    {
     "name": "stderr",
     "output_type": "stream",
     "text": [
      "Generating predictions [Gothenburg] (area_id: 21): 100%|██████████| 20/20 [00:00<00:00, 30.08it/s]\n",
      "Saving results to DB [Gothenburg] (area_id: 21): 100%|██████████| 37/37 [00:02<00:00, 15.44it/s]\n"
     ]
    },
    {
     "name": "stdout",
     "output_type": "stream",
     "text": [
      "Hex cache size: 3504771 / 3504771 / 34\n",
      "Hex cache size: 3504771 / 3504771 / 34\n"
     ]
    },
    {
     "name": "stderr",
     "output_type": "stream",
     "text": [
      "Generating predictions [Gothenburg] (area_id: 22): 100%|██████████| 20/20 [00:00<00:00, 24.07it/s]\n",
      "Saving results to DB [Gothenburg] (area_id: 22): 100%|██████████| 54/54 [00:03<00:00, 14.89it/s]\n"
     ]
    },
    {
     "name": "stdout",
     "output_type": "stream",
     "text": [
      "Hex cache size: 3504771 / 3504771 / 34\n",
      "Hex cache size: 3504771 / 3504771 / 34\n"
     ]
    },
    {
     "name": "stderr",
     "output_type": "stream",
     "text": [
      "Generating predictions [Gothenburg] (area_id: 23): 100%|██████████| 20/20 [00:01<00:00, 13.38it/s]\n",
      "Saving results to DB [Gothenburg] (area_id: 23): 100%|██████████| 136/136 [00:09<00:00, 15.07it/s]\n"
     ]
    },
    {
     "name": "stdout",
     "output_type": "stream",
     "text": [
      "Hex cache size: 3504771 / 3504771 / 34\n",
      "Hex cache size: 3504771 / 3504771 / 34\n"
     ]
    },
    {
     "name": "stderr",
     "output_type": "stream",
     "text": [
      "Generating predictions [Gothenburg] (area_id: 24): 100%|██████████| 20/20 [00:02<00:00,  7.17it/s]\n",
      "Saving results to DB [Gothenburg] (area_id: 24): 100%|██████████| 265/265 [00:18<00:00, 14.65it/s]\n"
     ]
    },
    {
     "name": "stdout",
     "output_type": "stream",
     "text": [
      "Hex cache size: 3504771 / 3504771 / 34\n",
      "Hex cache size: 3504771 / 3504771 / 34\n"
     ]
    },
    {
     "name": "stderr",
     "output_type": "stream",
     "text": [
      "Generating predictions [Gothenburg] (area_id: 25): 100%|██████████| 20/20 [00:01<00:00, 15.59it/s]\n",
      "Saving results to DB [Gothenburg] (area_id: 25): 100%|██████████| 106/106 [00:07<00:00, 14.89it/s]\n"
     ]
    },
    {
     "name": "stdout",
     "output_type": "stream",
     "text": [
      "Hex cache size: 3504771 / 3504771 / 34\n",
      "Hex cache size: 3504771 / 3504771 / 34\n"
     ]
    },
    {
     "name": "stderr",
     "output_type": "stream",
     "text": [
      "Generating predictions [Gothenburg] (area_id: 26): 100%|██████████| 20/20 [00:01<00:00, 12.62it/s]\n",
      "Saving results to DB [Gothenburg] (area_id: 26): 100%|██████████| 152/152 [00:10<00:00, 14.96it/s]\n"
     ]
    },
    {
     "name": "stdout",
     "output_type": "stream",
     "text": [
      "Hex cache size: 3504771 / 3504771 / 34\n",
      "Hex cache size: 3504771 / 3504771 / 34\n"
     ]
    },
    {
     "name": "stderr",
     "output_type": "stream",
     "text": [
      "Generating predictions [Gothenburg] (area_id: 27): 100%|██████████| 20/20 [00:00<00:00, 25.87it/s]\n",
      "Saving results to DB [Gothenburg] (area_id: 27): 100%|██████████| 49/49 [00:03<00:00, 14.66it/s]\n"
     ]
    },
    {
     "name": "stdout",
     "output_type": "stream",
     "text": [
      "Hex cache size: 3504771 / 3504771 / 34\n",
      "Hex cache size: 3504771 / 3504771 / 34\n"
     ]
    },
    {
     "name": "stderr",
     "output_type": "stream",
     "text": [
      "Generating predictions [Gothenburg] (area_id: 28): 100%|██████████| 20/20 [00:00<00:00, 25.38it/s]\n",
      "Saving results to DB [Gothenburg] (area_id: 28): 100%|██████████| 53/53 [00:03<00:00, 14.79it/s]\n"
     ]
    },
    {
     "name": "stdout",
     "output_type": "stream",
     "text": [
      "Hex cache size: 3504771 / 3504771 / 34\n",
      "Hex cache size: 3504771 / 3504771 / 34\n"
     ]
    },
    {
     "name": "stderr",
     "output_type": "stream",
     "text": [
      "Generating predictions [Gothenburg] (area_id: 29): 100%|██████████| 20/20 [00:00<00:00, 28.62it/s]\n",
      "Saving results to DB [Gothenburg] (area_id: 29): 100%|██████████| 34/34 [00:02<00:00, 15.01it/s]\n"
     ]
    },
    {
     "name": "stdout",
     "output_type": "stream",
     "text": [
      "Hex cache size: 3504771 / 3504771 / 34\n",
      "Hex cache size: 3504771 / 3504771 / 34\n"
     ]
    },
    {
     "name": "stderr",
     "output_type": "stream",
     "text": [
      "Generating predictions [Gothenburg] (area_id: 30): 100%|██████████| 20/20 [00:00<00:00, 26.40it/s]\n",
      "Saving results to DB [Gothenburg] (area_id: 30): 100%|██████████| 50/50 [00:03<00:00, 15.72it/s]\n"
     ]
    },
    {
     "name": "stdout",
     "output_type": "stream",
     "text": [
      "Hex cache size: 3504771 / 3504771 / 34\n",
      "Hex cache size: 3504771 / 3504771 / 34\n"
     ]
    },
    {
     "name": "stderr",
     "output_type": "stream",
     "text": [
      "Generating predictions [Gothenburg] (area_id: 31): 100%|██████████| 20/20 [00:01<00:00, 10.63it/s]\n",
      "Saving results to DB [Gothenburg] (area_id: 31): 100%|██████████| 174/174 [00:11<00:00, 15.39it/s]\n"
     ]
    },
    {
     "name": "stdout",
     "output_type": "stream",
     "text": [
      "Hex cache size: 3504771 / 3504771 / 34\n",
      "Hex cache size: 3504771 / 3504771 / 34\n"
     ]
    },
    {
     "name": "stderr",
     "output_type": "stream",
     "text": [
      "Generating predictions [Gothenburg] (area_id: 32): 100%|██████████| 20/20 [00:01<00:00, 14.59it/s]\n",
      "Saving results to DB [Gothenburg] (area_id: 32): 100%|██████████| 127/127 [00:09<00:00, 14.11it/s]\n"
     ]
    },
    {
     "name": "stdout",
     "output_type": "stream",
     "text": [
      "Hex cache size: 3504771 / 3504771 / 34\n",
      "Hex cache size: 3504771 / 3504771 / 34\n"
     ]
    },
    {
     "name": "stderr",
     "output_type": "stream",
     "text": [
      "Generating predictions [Gothenburg] (area_id: 33): 100%|██████████| 20/20 [00:00<00:00, 32.57it/s]\n",
      "Saving results to DB [Gothenburg] (area_id: 33): 100%|██████████| 33/33 [00:02<00:00, 15.43it/s]\n"
     ]
    },
    {
     "name": "stdout",
     "output_type": "stream",
     "text": [
      "Hex cache size: 3504771 / 3504771 / 34\n",
      "Hex cache size: 3504771 / 3504771 / 34\n"
     ]
    },
    {
     "name": "stderr",
     "output_type": "stream",
     "text": [
      "Generating predictions [Gothenburg] (area_id: 34): 100%|██████████| 20/20 [00:01<00:00, 19.75it/s]\n",
      "Saving results to DB [Gothenburg] (area_id: 34): 100%|██████████| 71/71 [00:04<00:00, 14.43it/s]\n"
     ]
    },
    {
     "name": "stdout",
     "output_type": "stream",
     "text": [
      "Hex cache size: 3504771 / 3504771 / 34\n",
      "Hex cache size: 3504771 / 3504771 / 34\n"
     ]
    },
    {
     "name": "stderr",
     "output_type": "stream",
     "text": [
      "Generating predictions [Helsinki] (area_id: 1): 100%|██████████| 20/20 [00:26<00:00,  1.33s/it]\n",
      "Saving results to DB [Helsinki] (area_id: 1): 100%|██████████| 57/57 [00:03<00:00, 14.95it/s]\n"
     ]
    },
    {
     "name": "stdout",
     "output_type": "stream",
     "text": [
      "Hex cache size: 3504771 / 3504771 / 34\n",
      "Hex cache size: 3504771 / 3504771 / 34\n"
     ]
    },
    {
     "name": "stderr",
     "output_type": "stream",
     "text": [
      "Generating predictions [Helsinki] (area_id: 2): 100%|██████████| 20/20 [00:00<00:00, 22.30it/s]\n",
      "Saving results to DB [Helsinki] (area_id: 2): 100%|██████████| 43/43 [00:02<00:00, 16.37it/s]\n"
     ]
    },
    {
     "name": "stdout",
     "output_type": "stream",
     "text": [
      "Hex cache size: 3504771 / 3504771 / 34\n",
      "Hex cache size: 3504771 / 3504771 / 34\n"
     ]
    },
    {
     "name": "stderr",
     "output_type": "stream",
     "text": [
      "Generating predictions [Helsinki] (area_id: 3): 100%|██████████| 20/20 [00:01<00:00, 11.86it/s]\n",
      "Saving results to DB [Helsinki] (area_id: 3): 100%|██████████| 123/123 [00:07<00:00, 15.43it/s]\n"
     ]
    },
    {
     "name": "stdout",
     "output_type": "stream",
     "text": [
      "Hex cache size: 3504771 / 3504771 / 34\n",
      "Hex cache size: 3504771 / 3504771 / 34\n"
     ]
    },
    {
     "name": "stderr",
     "output_type": "stream",
     "text": [
      "Generating predictions [Helsinki] (area_id: 4): 100%|██████████| 20/20 [00:00<00:00, 20.04it/s]\n",
      "Saving results to DB [Helsinki] (area_id: 4): 100%|██████████| 54/54 [00:03<00:00, 15.07it/s]\n"
     ]
    },
    {
     "name": "stdout",
     "output_type": "stream",
     "text": [
      "Hex cache size: 3504771 / 3504771 / 34\n",
      "Hex cache size: 3504771 / 3504771 / 34\n"
     ]
    },
    {
     "name": "stderr",
     "output_type": "stream",
     "text": [
      "Generating predictions [Helsinki] (area_id: 5): 100%|██████████| 20/20 [00:01<00:00, 10.64it/s]\n",
      "Saving results to DB [Helsinki] (area_id: 5): 100%|██████████| 144/144 [00:09<00:00, 14.59it/s]\n"
     ]
    },
    {
     "name": "stdout",
     "output_type": "stream",
     "text": [
      "Hex cache size: 3504771 / 3504771 / 34\n",
      "Hex cache size: 3504771 / 3504771 / 34\n"
     ]
    },
    {
     "name": "stderr",
     "output_type": "stream",
     "text": [
      "Generating predictions [Helsinki] (area_id: 6): 100%|██████████| 20/20 [00:01<00:00, 17.03it/s]\n",
      "Saving results to DB [Helsinki] (area_id: 6): 100%|██████████| 71/71 [00:04<00:00, 14.98it/s]\n"
     ]
    },
    {
     "name": "stdout",
     "output_type": "stream",
     "text": [
      "Hex cache size: 3504771 / 3504771 / 34\n",
      "Hex cache size: 3504771 / 3504771 / 34\n"
     ]
    },
    {
     "name": "stderr",
     "output_type": "stream",
     "text": [
      "Generating predictions [Helsinki] (area_id: 7): 100%|██████████| 20/20 [00:01<00:00, 15.31it/s]\n",
      "Saving results to DB [Helsinki] (area_id: 7): 100%|██████████| 84/84 [00:05<00:00, 14.90it/s]\n"
     ]
    },
    {
     "name": "stdout",
     "output_type": "stream",
     "text": [
      "Hex cache size: 3504771 / 3504771 / 34\n",
      "Hex cache size: 3504771 / 3504771 / 34\n"
     ]
    },
    {
     "name": "stderr",
     "output_type": "stream",
     "text": [
      "Generating predictions [Helsinki] (area_id: 8): 100%|██████████| 20/20 [00:00<00:00, 20.38it/s]\n",
      "Saving results to DB [Helsinki] (area_id: 8): 100%|██████████| 50/50 [00:03<00:00, 15.07it/s]\n"
     ]
    },
    {
     "name": "stdout",
     "output_type": "stream",
     "text": [
      "Hex cache size: 3504771 / 3504771 / 34\n",
      "Hex cache size: 3504771 / 3504771 / 34\n"
     ]
    },
    {
     "name": "stderr",
     "output_type": "stream",
     "text": [
      "Generating predictions [Helsinki] (area_id: 9): 100%|██████████| 20/20 [00:01<00:00, 17.92it/s]\n",
      "Saving results to DB [Helsinki] (area_id: 9): 100%|██████████| 60/60 [00:04<00:00, 14.79it/s]\n"
     ]
    },
    {
     "name": "stdout",
     "output_type": "stream",
     "text": [
      "Hex cache size: 3504771 / 3504771 / 34\n",
      "Hex cache size: 3504771 / 3504771 / 34\n"
     ]
    },
    {
     "name": "stderr",
     "output_type": "stream",
     "text": [
      "Generating predictions [Helsinki] (area_id: 10): 100%|██████████| 20/20 [00:01<00:00, 17.61it/s]\n",
      "Saving results to DB [Helsinki] (area_id: 10): 100%|██████████| 65/65 [00:04<00:00, 14.81it/s]\n"
     ]
    },
    {
     "name": "stdout",
     "output_type": "stream",
     "text": [
      "Hex cache size: 3504771 / 3504771 / 34\n",
      "Hex cache size: 3504771 / 3504771 / 34\n"
     ]
    },
    {
     "name": "stderr",
     "output_type": "stream",
     "text": [
      "Generating predictions [Helsinki] (area_id: 11): 100%|██████████| 20/20 [00:01<00:00, 18.26it/s]\n",
      "Saving results to DB [Helsinki] (area_id: 11): 100%|██████████| 60/60 [00:03<00:00, 15.09it/s]\n"
     ]
    },
    {
     "name": "stdout",
     "output_type": "stream",
     "text": [
      "Hex cache size: 3504771 / 3504771 / 34\n",
      "Hex cache size: 3504771 / 3504771 / 34\n"
     ]
    },
    {
     "name": "stderr",
     "output_type": "stream",
     "text": [
      "Generating predictions [Helsinki] (area_id: 12): 100%|██████████| 20/20 [00:01<00:00, 10.29it/s]\n",
      "Saving results to DB [Helsinki] (area_id: 12): 100%|██████████| 153/153 [00:10<00:00, 15.15it/s]\n"
     ]
    },
    {
     "name": "stdout",
     "output_type": "stream",
     "text": [
      "Hex cache size: 3504771 / 3504771 / 34\n",
      "Hex cache size: 3504771 / 3504771 / 34\n"
     ]
    },
    {
     "name": "stderr",
     "output_type": "stream",
     "text": [
      "Generating predictions [Helsinki] (area_id: 13): 100%|██████████| 20/20 [00:02<00:00,  9.47it/s]\n",
      "Saving results to DB [Helsinki] (area_id: 13): 100%|██████████| 159/159 [00:10<00:00, 14.88it/s]\n"
     ]
    },
    {
     "name": "stdout",
     "output_type": "stream",
     "text": [
      "Hex cache size: 3504771 / 3504771 / 34\n",
      "Hex cache size: 3504771 / 3504771 / 34\n"
     ]
    },
    {
     "name": "stderr",
     "output_type": "stream",
     "text": [
      "Generating predictions [Helsinki] (area_id: 14): 100%|██████████| 20/20 [00:01<00:00, 12.11it/s]\n",
      "Saving results to DB [Helsinki] (area_id: 14): 100%|██████████| 111/111 [00:07<00:00, 15.58it/s]\n"
     ]
    },
    {
     "name": "stdout",
     "output_type": "stream",
     "text": [
      "Hex cache size: 3504771 / 3504771 / 34\n",
      "Hex cache size: 3504771 / 3504771 / 34\n"
     ]
    },
    {
     "name": "stderr",
     "output_type": "stream",
     "text": [
      "Generating predictions [Helsinki] (area_id: 15): 100%|██████████| 20/20 [00:01<00:00, 10.17it/s]\n",
      "Saving results to DB [Helsinki] (area_id: 15): 100%|██████████| 122/122 [00:09<00:00, 13.13it/s]\n"
     ]
    },
    {
     "name": "stdout",
     "output_type": "stream",
     "text": [
      "Hex cache size: 3504771 / 3504771 / 34\n",
      "Hex cache size: 3504771 / 3504771 / 34\n"
     ]
    },
    {
     "name": "stderr",
     "output_type": "stream",
     "text": [
      "Generating predictions [Helsinki] (area_id: 16): 100%|██████████| 20/20 [00:01<00:00, 16.69it/s]\n",
      "Saving results to DB [Helsinki] (area_id: 16): 100%|██████████| 59/59 [00:04<00:00, 12.18it/s]\n"
     ]
    },
    {
     "name": "stdout",
     "output_type": "stream",
     "text": [
      "Hex cache size: 3504771 / 3504771 / 34\n",
      "Hex cache size: 3504771 / 3504771 / 34\n"
     ]
    },
    {
     "name": "stderr",
     "output_type": "stream",
     "text": [
      "Generating predictions [Helsinki] (area_id: 17): 100%|██████████| 20/20 [00:00<00:00, 24.16it/s]\n",
      "Saving results to DB [Helsinki] (area_id: 17): 100%|██████████| 30/30 [00:02<00:00, 14.50it/s]\n"
     ]
    },
    {
     "name": "stdout",
     "output_type": "stream",
     "text": [
      "Hex cache size: 3504771 / 3504771 / 34\n",
      "Hex cache size: 3504771 / 3504771 / 34\n"
     ]
    },
    {
     "name": "stderr",
     "output_type": "stream",
     "text": [
      "Generating predictions [Helsinki] (area_id: 18): 100%|██████████| 20/20 [00:01<00:00, 12.14it/s]\n",
      "Saving results to DB [Helsinki] (area_id: 18): 100%|██████████| 63/63 [00:05<00:00, 11.92it/s]\n"
     ]
    },
    {
     "name": "stdout",
     "output_type": "stream",
     "text": [
      "Hex cache size: 3504771 / 3504771 / 34\n",
      "Hex cache size: 3504771 / 3504771 / 34\n"
     ]
    },
    {
     "name": "stderr",
     "output_type": "stream",
     "text": [
      "Generating predictions [Helsinki] (area_id: 19): 100%|██████████| 20/20 [00:04<00:00,  4.16it/s]\n",
      "Saving results to DB [Helsinki] (area_id: 19): 100%|██████████| 379/379 [00:36<00:00, 10.51it/s]\n"
     ]
    },
    {
     "name": "stdout",
     "output_type": "stream",
     "text": [
      "Hex cache size: 3504771 / 3504771 / 34\n",
      "Hex cache size: 3504771 / 3504771 / 34\n"
     ]
    },
    {
     "name": "stderr",
     "output_type": "stream",
     "text": [
      "Generating predictions [Helsinki] (area_id: 20): 100%|██████████| 20/20 [00:03<00:00,  5.99it/s]\n",
      "Saving results to DB [Helsinki] (area_id: 20): 100%|██████████| 295/295 [00:26<00:00, 11.10it/s]\n"
     ]
    },
    {
     "name": "stdout",
     "output_type": "stream",
     "text": [
      "Hex cache size: 3504771 / 3504771 / 34\n",
      "Hex cache size: 3504771 / 3504771 / 34\n"
     ]
    },
    {
     "name": "stderr",
     "output_type": "stream",
     "text": [
      "Generating predictions [Helsinki] (area_id: 21): 100%|██████████| 20/20 [00:00<00:00, 21.89it/s]\n",
      "Saving results to DB [Helsinki] (area_id: 21): 100%|██████████| 37/37 [00:02<00:00, 14.42it/s]\n"
     ]
    },
    {
     "name": "stdout",
     "output_type": "stream",
     "text": [
      "Hex cache size: 3504771 / 3504771 / 34\n",
      "Hex cache size: 3504771 / 3504771 / 34\n"
     ]
    },
    {
     "name": "stderr",
     "output_type": "stream",
     "text": [
      "Generating predictions [Helsinki] (area_id: 22): 100%|██████████| 20/20 [00:01<00:00, 16.64it/s]\n",
      "Saving results to DB [Helsinki] (area_id: 22): 100%|██████████| 54/54 [00:03<00:00, 14.08it/s]\n"
     ]
    },
    {
     "name": "stdout",
     "output_type": "stream",
     "text": [
      "Hex cache size: 3504771 / 3504771 / 34\n",
      "Hex cache size: 3504771 / 3504771 / 34\n"
     ]
    },
    {
     "name": "stderr",
     "output_type": "stream",
     "text": [
      "Generating predictions [Helsinki] (area_id: 23): 100%|██████████| 20/20 [00:01<00:00, 10.22it/s]\n",
      "Saving results to DB [Helsinki] (area_id: 23): 100%|██████████| 136/136 [00:09<00:00, 13.93it/s]\n"
     ]
    },
    {
     "name": "stdout",
     "output_type": "stream",
     "text": [
      "Hex cache size: 3504771 / 3504771 / 34\n",
      "Hex cache size: 3504771 / 3504771 / 34\n"
     ]
    },
    {
     "name": "stderr",
     "output_type": "stream",
     "text": [
      "Generating predictions [Helsinki] (area_id: 24): 100%|██████████| 20/20 [00:03<00:00,  6.00it/s]\n",
      "Saving results to DB [Helsinki] (area_id: 24): 100%|██████████| 265/265 [00:23<00:00, 11.41it/s]\n"
     ]
    },
    {
     "name": "stdout",
     "output_type": "stream",
     "text": [
      "Hex cache size: 3504771 / 3504771 / 34\n",
      "Hex cache size: 3504771 / 3504771 / 34\n"
     ]
    },
    {
     "name": "stderr",
     "output_type": "stream",
     "text": [
      "Generating predictions [Helsinki] (area_id: 25): 100%|██████████| 20/20 [00:01<00:00, 12.19it/s]\n",
      "Saving results to DB [Helsinki] (area_id: 25): 100%|██████████| 106/106 [00:07<00:00, 14.29it/s]\n"
     ]
    },
    {
     "name": "stdout",
     "output_type": "stream",
     "text": [
      "Hex cache size: 3504771 / 3504771 / 34\n",
      "Hex cache size: 3504771 / 3504771 / 34\n"
     ]
    },
    {
     "name": "stderr",
     "output_type": "stream",
     "text": [
      "Generating predictions [Helsinki] (area_id: 26): 100%|██████████| 20/20 [00:02<00:00,  8.12it/s]\n",
      "Saving results to DB [Helsinki] (area_id: 26): 100%|██████████| 152/152 [00:11<00:00, 13.35it/s]\n"
     ]
    },
    {
     "name": "stdout",
     "output_type": "stream",
     "text": [
      "Hex cache size: 3504771 / 3504771 / 34\n",
      "Hex cache size: 3504771 / 3504771 / 34\n"
     ]
    },
    {
     "name": "stderr",
     "output_type": "stream",
     "text": [
      "Generating predictions [Helsinki] (area_id: 27): 100%|██████████| 20/20 [00:01<00:00, 17.34it/s]\n",
      "Saving results to DB [Helsinki] (area_id: 27): 100%|██████████| 49/49 [00:03<00:00, 14.14it/s]\n"
     ]
    },
    {
     "name": "stdout",
     "output_type": "stream",
     "text": [
      "Hex cache size: 3504771 / 3504771 / 34\n",
      "Hex cache size: 3504771 / 3504771 / 34\n"
     ]
    },
    {
     "name": "stderr",
     "output_type": "stream",
     "text": [
      "Generating predictions [Helsinki] (area_id: 28): 100%|██████████| 20/20 [00:01<00:00, 19.40it/s]\n",
      "Saving results to DB [Helsinki] (area_id: 28): 100%|██████████| 53/53 [00:03<00:00, 15.54it/s]\n"
     ]
    },
    {
     "name": "stdout",
     "output_type": "stream",
     "text": [
      "Hex cache size: 3504771 / 3504771 / 34\n",
      "Hex cache size: 3504771 / 3504771 / 34\n"
     ]
    },
    {
     "name": "stderr",
     "output_type": "stream",
     "text": [
      "Generating predictions [Helsinki] (area_id: 29): 100%|██████████| 20/20 [00:00<00:00, 23.40it/s]\n",
      "Saving results to DB [Helsinki] (area_id: 29): 100%|██████████| 34/34 [00:03<00:00, 10.12it/s]\n"
     ]
    },
    {
     "name": "stdout",
     "output_type": "stream",
     "text": [
      "Hex cache size: 3504771 / 3504771 / 34\n",
      "Hex cache size: 3504771 / 3504771 / 34\n"
     ]
    },
    {
     "name": "stderr",
     "output_type": "stream",
     "text": [
      "Generating predictions [Helsinki] (area_id: 30): 100%|██████████| 20/20 [00:01<00:00, 17.77it/s]\n",
      "Saving results to DB [Helsinki] (area_id: 30): 100%|██████████| 50/50 [00:03<00:00, 14.47it/s]\n"
     ]
    },
    {
     "name": "stdout",
     "output_type": "stream",
     "text": [
      "Hex cache size: 3504771 / 3504771 / 34\n",
      "Hex cache size: 3504771 / 3504771 / 34\n"
     ]
    },
    {
     "name": "stderr",
     "output_type": "stream",
     "text": [
      "Generating predictions [Helsinki] (area_id: 31): 100%|██████████| 20/20 [00:02<00:00,  8.51it/s]\n",
      "Saving results to DB [Helsinki] (area_id: 31): 100%|██████████| 174/174 [00:11<00:00, 14.61it/s]\n"
     ]
    },
    {
     "name": "stdout",
     "output_type": "stream",
     "text": [
      "Hex cache size: 3504771 / 3504771 / 34\n",
      "Hex cache size: 3504771 / 3504771 / 34\n"
     ]
    },
    {
     "name": "stderr",
     "output_type": "stream",
     "text": [
      "Generating predictions [Helsinki] (area_id: 32): 100%|██████████| 20/20 [00:01<00:00, 11.52it/s]\n",
      "Saving results to DB [Helsinki] (area_id: 32): 100%|██████████| 127/127 [00:09<00:00, 13.34it/s]\n"
     ]
    },
    {
     "name": "stdout",
     "output_type": "stream",
     "text": [
      "Hex cache size: 3504771 / 3504771 / 34\n",
      "Hex cache size: 3504771 / 3504771 / 34\n"
     ]
    },
    {
     "name": "stderr",
     "output_type": "stream",
     "text": [
      "Generating predictions [Helsinki] (area_id: 33): 100%|██████████| 20/20 [00:00<00:00, 26.40it/s]\n",
      "Saving results to DB [Helsinki] (area_id: 33): 100%|██████████| 33/33 [00:02<00:00, 15.82it/s]\n"
     ]
    },
    {
     "name": "stdout",
     "output_type": "stream",
     "text": [
      "Hex cache size: 3504771 / 3504771 / 34\n",
      "Hex cache size: 3504771 / 3504771 / 34\n"
     ]
    },
    {
     "name": "stderr",
     "output_type": "stream",
     "text": [
      "Generating predictions [Helsinki] (area_id: 34): 100%|██████████| 20/20 [00:01<00:00, 15.46it/s]\n",
      "Saving results to DB [Helsinki] (area_id: 34): 100%|██████████| 71/71 [00:05<00:00, 13.49it/s]\n"
     ]
    },
    {
     "name": "stdout",
     "output_type": "stream",
     "text": [
      "Hex cache size: 3504771 / 3504771 / 34\n",
      "Hex cache size: 3504771 / 3504771 / 34\n"
     ]
    },
    {
     "name": "stderr",
     "output_type": "stream",
     "text": [
      "Generating predictions [Kyiv] (area_id: 1): 100%|██████████| 20/20 [00:33<00:00,  1.70s/it]\n",
      "Saving results to DB [Kyiv] (area_id: 1): 100%|██████████| 57/57 [00:03<00:00, 14.45it/s]\n"
     ]
    },
    {
     "name": "stdout",
     "output_type": "stream",
     "text": [
      "Hex cache size: 3504771 / 3504771 / 34\n",
      "Hex cache size: 3504771 / 3504771 / 34\n"
     ]
    },
    {
     "name": "stderr",
     "output_type": "stream",
     "text": [
      "Generating predictions [Kyiv] (area_id: 2): 100%|██████████| 20/20 [00:00<00:00, 25.24it/s]\n",
      "Saving results to DB [Kyiv] (area_id: 2): 100%|██████████| 43/43 [00:03<00:00, 14.13it/s]\n"
     ]
    },
    {
     "name": "stdout",
     "output_type": "stream",
     "text": [
      "Hex cache size: 3504771 / 3504771 / 34\n",
      "Hex cache size: 3504771 / 3504771 / 34\n"
     ]
    },
    {
     "name": "stderr",
     "output_type": "stream",
     "text": [
      "Generating predictions [Kyiv] (area_id: 3): 100%|██████████| 20/20 [00:01<00:00, 13.35it/s]\n",
      "Saving results to DB [Kyiv] (area_id: 3): 100%|██████████| 123/123 [00:08<00:00, 13.84it/s]\n"
     ]
    },
    {
     "name": "stdout",
     "output_type": "stream",
     "text": [
      "Hex cache size: 3504771 / 3504771 / 34\n",
      "Hex cache size: 3504771 / 3504771 / 34\n"
     ]
    },
    {
     "name": "stderr",
     "output_type": "stream",
     "text": [
      "Generating predictions [Kyiv] (area_id: 4): 100%|██████████| 20/20 [00:00<00:00, 22.07it/s]\n",
      "Saving results to DB [Kyiv] (area_id: 4): 100%|██████████| 54/54 [00:03<00:00, 14.44it/s]\n"
     ]
    },
    {
     "name": "stdout",
     "output_type": "stream",
     "text": [
      "Hex cache size: 3504771 / 3504771 / 34\n",
      "Hex cache size: 3504771 / 3504771 / 34\n"
     ]
    },
    {
     "name": "stderr",
     "output_type": "stream",
     "text": [
      "Generating predictions [Kyiv] (area_id: 5): 100%|██████████| 20/20 [00:02<00:00,  8.72it/s]\n",
      "Saving results to DB [Kyiv] (area_id: 5): 100%|██████████| 144/144 [00:10<00:00, 14.29it/s]\n"
     ]
    },
    {
     "name": "stdout",
     "output_type": "stream",
     "text": [
      "Hex cache size: 3504771 / 3504771 / 34\n",
      "Hex cache size: 3504771 / 3504771 / 34\n"
     ]
    },
    {
     "name": "stderr",
     "output_type": "stream",
     "text": [
      "Generating predictions [Kyiv] (area_id: 6): 100%|██████████| 20/20 [00:01<00:00, 19.90it/s]\n",
      "Saving results to DB [Kyiv] (area_id: 6): 100%|██████████| 71/71 [00:04<00:00, 15.03it/s]\n"
     ]
    },
    {
     "name": "stdout",
     "output_type": "stream",
     "text": [
      "Hex cache size: 3504771 / 3504771 / 34\n",
      "Hex cache size: 3504771 / 3504771 / 34\n"
     ]
    },
    {
     "name": "stderr",
     "output_type": "stream",
     "text": [
      "Generating predictions [Kyiv] (area_id: 7): 100%|██████████| 20/20 [00:01<00:00, 16.02it/s]\n",
      "Saving results to DB [Kyiv] (area_id: 7): 100%|██████████| 84/84 [00:06<00:00, 13.97it/s]\n"
     ]
    },
    {
     "name": "stdout",
     "output_type": "stream",
     "text": [
      "Hex cache size: 3504771 / 3504771 / 34\n",
      "Hex cache size: 3504771 / 3504771 / 34\n"
     ]
    },
    {
     "name": "stderr",
     "output_type": "stream",
     "text": [
      "Generating predictions [Kyiv] (area_id: 8): 100%|██████████| 20/20 [00:01<00:00, 15.98it/s]\n",
      "Saving results to DB [Kyiv] (area_id: 8): 100%|██████████| 50/50 [00:03<00:00, 14.16it/s]\n"
     ]
    },
    {
     "name": "stdout",
     "output_type": "stream",
     "text": [
      "Hex cache size: 3504771 / 3504771 / 34\n",
      "Hex cache size: 3504771 / 3504771 / 34\n"
     ]
    },
    {
     "name": "stderr",
     "output_type": "stream",
     "text": [
      "Generating predictions [Kyiv] (area_id: 9): 100%|██████████| 20/20 [00:00<00:00, 20.60it/s]\n",
      "Saving results to DB [Kyiv] (area_id: 9): 100%|██████████| 60/60 [00:04<00:00, 13.88it/s]\n"
     ]
    },
    {
     "name": "stdout",
     "output_type": "stream",
     "text": [
      "Hex cache size: 3504771 / 3504771 / 34\n",
      "Hex cache size: 3504771 / 3504771 / 34\n"
     ]
    },
    {
     "name": "stderr",
     "output_type": "stream",
     "text": [
      "Generating predictions [Kyiv] (area_id: 10): 100%|██████████| 20/20 [00:01<00:00, 17.01it/s]\n",
      "Saving results to DB [Kyiv] (area_id: 10): 100%|██████████| 65/65 [00:04<00:00, 14.36it/s]\n"
     ]
    },
    {
     "name": "stdout",
     "output_type": "stream",
     "text": [
      "Hex cache size: 3504771 / 3504771 / 34\n",
      "Hex cache size: 3504771 / 3504771 / 34\n"
     ]
    },
    {
     "name": "stderr",
     "output_type": "stream",
     "text": [
      "Generating predictions [Kyiv] (area_id: 11): 100%|██████████| 20/20 [00:00<00:00, 21.50it/s]\n",
      "Saving results to DB [Kyiv] (area_id: 11): 100%|██████████| 60/60 [00:04<00:00, 13.89it/s]\n"
     ]
    },
    {
     "name": "stdout",
     "output_type": "stream",
     "text": [
      "Hex cache size: 3504771 / 3504771 / 34\n",
      "Hex cache size: 3504771 / 3504771 / 34\n"
     ]
    },
    {
     "name": "stderr",
     "output_type": "stream",
     "text": [
      "Generating predictions [Kyiv] (area_id: 12): 100%|██████████| 20/20 [00:01<00:00, 10.24it/s]\n",
      "Saving results to DB [Kyiv] (area_id: 12): 100%|██████████| 153/153 [00:11<00:00, 13.77it/s]\n"
     ]
    },
    {
     "name": "stdout",
     "output_type": "stream",
     "text": [
      "Hex cache size: 3504771 / 3504771 / 34\n",
      "Hex cache size: 3504771 / 3504771 / 34\n"
     ]
    },
    {
     "name": "stderr",
     "output_type": "stream",
     "text": [
      "Generating predictions [Kyiv] (area_id: 13): 100%|██████████| 20/20 [00:01<00:00, 10.48it/s]\n",
      "Saving results to DB [Kyiv] (area_id: 13): 100%|██████████| 159/159 [00:11<00:00, 13.61it/s]\n"
     ]
    },
    {
     "name": "stdout",
     "output_type": "stream",
     "text": [
      "Hex cache size: 3504771 / 3504771 / 34\n",
      "Hex cache size: 3504771 / 3504771 / 34\n"
     ]
    },
    {
     "name": "stderr",
     "output_type": "stream",
     "text": [
      "Generating predictions [Kyiv] (area_id: 14): 100%|██████████| 20/20 [00:01<00:00, 13.83it/s]\n",
      "Saving results to DB [Kyiv] (area_id: 14): 100%|██████████| 111/111 [00:08<00:00, 13.84it/s]\n"
     ]
    },
    {
     "name": "stdout",
     "output_type": "stream",
     "text": [
      "Hex cache size: 3504771 / 3504771 / 34\n",
      "Hex cache size: 3504771 / 3504771 / 34\n"
     ]
    },
    {
     "name": "stderr",
     "output_type": "stream",
     "text": [
      "Generating predictions [Kyiv] (area_id: 15): 100%|██████████| 20/20 [00:01<00:00, 14.03it/s]\n",
      "Saving results to DB [Kyiv] (area_id: 15): 100%|██████████| 122/122 [00:08<00:00, 13.94it/s]\n"
     ]
    },
    {
     "name": "stdout",
     "output_type": "stream",
     "text": [
      "Hex cache size: 3504771 / 3504771 / 34\n",
      "Hex cache size: 3504771 / 3504771 / 34\n"
     ]
    },
    {
     "name": "stderr",
     "output_type": "stream",
     "text": [
      "Generating predictions [Kyiv] (area_id: 16): 100%|██████████| 20/20 [00:00<00:00, 20.51it/s]\n",
      "Saving results to DB [Kyiv] (area_id: 16): 100%|██████████| 59/59 [00:09<00:00,  6.01it/s]\n"
     ]
    },
    {
     "name": "stdout",
     "output_type": "stream",
     "text": [
      "Hex cache size: 3504771 / 3504771 / 34\n",
      "Hex cache size: 3504771 / 3504771 / 34\n"
     ]
    },
    {
     "name": "stderr",
     "output_type": "stream",
     "text": [
      "Generating predictions [Kyiv] (area_id: 17): 100%|██████████| 20/20 [00:00<00:00, 27.01it/s]\n",
      "Saving results to DB [Kyiv] (area_id: 17): 100%|██████████| 30/30 [00:02<00:00, 14.41it/s]\n"
     ]
    },
    {
     "name": "stdout",
     "output_type": "stream",
     "text": [
      "Hex cache size: 3504771 / 3504771 / 34\n",
      "Hex cache size: 3504771 / 3504771 / 34\n"
     ]
    },
    {
     "name": "stderr",
     "output_type": "stream",
     "text": [
      "Generating predictions [Kyiv] (area_id: 18): 100%|██████████| 20/20 [00:01<00:00, 19.60it/s]\n",
      "Saving results to DB [Kyiv] (area_id: 18): 100%|██████████| 63/63 [00:04<00:00, 13.50it/s]\n"
     ]
    },
    {
     "name": "stdout",
     "output_type": "stream",
     "text": [
      "Hex cache size: 3504771 / 3504771 / 34\n",
      "Hex cache size: 3504771 / 3504771 / 34\n"
     ]
    },
    {
     "name": "stderr",
     "output_type": "stream",
     "text": [
      "Generating predictions [Kyiv] (area_id: 19): 100%|██████████| 20/20 [00:04<00:00,  4.89it/s]\n",
      "Saving results to DB [Kyiv] (area_id: 19): 100%|██████████| 379/379 [00:30<00:00, 12.27it/s]\n"
     ]
    },
    {
     "name": "stdout",
     "output_type": "stream",
     "text": [
      "Hex cache size: 3504771 / 3504771 / 34\n",
      "Hex cache size: 3504771 / 3504771 / 34\n"
     ]
    },
    {
     "name": "stderr",
     "output_type": "stream",
     "text": [
      "Generating predictions [Kyiv] (area_id: 20): 100%|██████████| 20/20 [00:03<00:00,  5.91it/s]\n",
      "Saving results to DB [Kyiv] (area_id: 20): 100%|██████████| 295/295 [00:22<00:00, 12.92it/s]\n"
     ]
    },
    {
     "name": "stdout",
     "output_type": "stream",
     "text": [
      "Hex cache size: 3504771 / 3504771 / 34\n",
      "Hex cache size: 3504771 / 3504771 / 34\n"
     ]
    },
    {
     "name": "stderr",
     "output_type": "stream",
     "text": [
      "Generating predictions [Kyiv] (area_id: 21): 100%|██████████| 20/20 [00:01<00:00, 19.88it/s]\n",
      "Saving results to DB [Kyiv] (area_id: 21): 100%|██████████| 37/37 [00:04<00:00,  7.62it/s]\n"
     ]
    },
    {
     "name": "stdout",
     "output_type": "stream",
     "text": [
      "Hex cache size: 3504771 / 3504771 / 34\n",
      "Hex cache size: 3504771 / 3504771 / 34\n"
     ]
    },
    {
     "name": "stderr",
     "output_type": "stream",
     "text": [
      "Generating predictions [Kyiv] (area_id: 22): 100%|██████████| 20/20 [00:00<00:00, 23.57it/s]\n",
      "Saving results to DB [Kyiv] (area_id: 22): 100%|██████████| 54/54 [00:03<00:00, 14.66it/s]\n"
     ]
    },
    {
     "name": "stdout",
     "output_type": "stream",
     "text": [
      "Hex cache size: 3504771 / 3504771 / 34\n",
      "Hex cache size: 3504771 / 3504771 / 34\n"
     ]
    },
    {
     "name": "stderr",
     "output_type": "stream",
     "text": [
      "Generating predictions [Kyiv] (area_id: 23): 100%|██████████| 20/20 [00:01<00:00, 12.29it/s]\n",
      "Saving results to DB [Kyiv] (area_id: 23): 100%|██████████| 136/136 [00:09<00:00, 14.41it/s]\n"
     ]
    },
    {
     "name": "stdout",
     "output_type": "stream",
     "text": [
      "Hex cache size: 3504771 / 3504771 / 34\n",
      "Hex cache size: 3504771 / 3504771 / 34\n"
     ]
    },
    {
     "name": "stderr",
     "output_type": "stream",
     "text": [
      "Generating predictions [Kyiv] (area_id: 24): 100%|██████████| 20/20 [00:03<00:00,  6.44it/s]\n",
      "Saving results to DB [Kyiv] (area_id: 24): 100%|██████████| 265/265 [00:20<00:00, 12.96it/s]\n"
     ]
    },
    {
     "name": "stdout",
     "output_type": "stream",
     "text": [
      "Hex cache size: 3504771 / 3504771 / 34\n",
      "Hex cache size: 3504771 / 3504771 / 34\n"
     ]
    },
    {
     "name": "stderr",
     "output_type": "stream",
     "text": [
      "Generating predictions [Kyiv] (area_id: 25): 100%|██████████| 20/20 [00:01<00:00, 11.83it/s]\n",
      "Saving results to DB [Kyiv] (area_id: 25): 100%|██████████| 106/106 [00:07<00:00, 14.58it/s]\n"
     ]
    },
    {
     "name": "stdout",
     "output_type": "stream",
     "text": [
      "Hex cache size: 3504771 / 3504771 / 34\n",
      "Hex cache size: 3504771 / 3504771 / 34\n"
     ]
    },
    {
     "name": "stderr",
     "output_type": "stream",
     "text": [
      "Generating predictions [Kyiv] (area_id: 26): 100%|██████████| 20/20 [00:02<00:00,  9.57it/s]\n",
      "Saving results to DB [Kyiv] (area_id: 26): 100%|██████████| 152/152 [00:13<00:00, 11.05it/s]\n"
     ]
    },
    {
     "name": "stdout",
     "output_type": "stream",
     "text": [
      "Hex cache size: 3504771 / 3504771 / 34\n",
      "Hex cache size: 3504771 / 3504771 / 34\n"
     ]
    },
    {
     "name": "stderr",
     "output_type": "stream",
     "text": [
      "Generating predictions [Kyiv] (area_id: 27): 100%|██████████| 20/20 [00:00<00:00, 21.03it/s]\n",
      "Saving results to DB [Kyiv] (area_id: 27): 100%|██████████| 49/49 [00:03<00:00, 14.22it/s]\n"
     ]
    },
    {
     "name": "stdout",
     "output_type": "stream",
     "text": [
      "Hex cache size: 3504771 / 3504771 / 34\n",
      "Hex cache size: 3504771 / 3504771 / 34\n"
     ]
    },
    {
     "name": "stderr",
     "output_type": "stream",
     "text": [
      "Generating predictions [Kyiv] (area_id: 28): 100%|██████████| 20/20 [00:01<00:00, 18.16it/s]\n",
      "Saving results to DB [Kyiv] (area_id: 28): 100%|██████████| 53/53 [00:04<00:00, 13.23it/s]\n"
     ]
    },
    {
     "name": "stdout",
     "output_type": "stream",
     "text": [
      "Hex cache size: 3504771 / 3504771 / 34\n",
      "Hex cache size: 3504771 / 3504771 / 34\n"
     ]
    },
    {
     "name": "stderr",
     "output_type": "stream",
     "text": [
      "Generating predictions [Kyiv] (area_id: 29): 100%|██████████| 20/20 [00:00<00:00, 30.31it/s]\n",
      "Saving results to DB [Kyiv] (area_id: 29): 100%|██████████| 34/34 [00:02<00:00, 14.19it/s]\n"
     ]
    },
    {
     "name": "stdout",
     "output_type": "stream",
     "text": [
      "Hex cache size: 3504771 / 3504771 / 34\n",
      "Hex cache size: 3504771 / 3504771 / 34\n"
     ]
    },
    {
     "name": "stderr",
     "output_type": "stream",
     "text": [
      "Generating predictions [Kyiv] (area_id: 30): 100%|██████████| 20/20 [00:01<00:00, 19.65it/s]\n",
      "Saving results to DB [Kyiv] (area_id: 30): 100%|██████████| 50/50 [00:03<00:00, 13.81it/s]\n"
     ]
    },
    {
     "name": "stdout",
     "output_type": "stream",
     "text": [
      "Hex cache size: 3504771 / 3504771 / 34\n",
      "Hex cache size: 3504771 / 3504771 / 34\n"
     ]
    },
    {
     "name": "stderr",
     "output_type": "stream",
     "text": [
      "Generating predictions [Kyiv] (area_id: 31): 100%|██████████| 20/20 [00:02<00:00,  8.91it/s]\n",
      "Saving results to DB [Kyiv] (area_id: 31): 100%|██████████| 174/174 [00:14<00:00, 11.94it/s]\n"
     ]
    },
    {
     "name": "stdout",
     "output_type": "stream",
     "text": [
      "Hex cache size: 3504771 / 3504771 / 34\n",
      "Hex cache size: 3504771 / 3504771 / 34\n"
     ]
    },
    {
     "name": "stderr",
     "output_type": "stream",
     "text": [
      "Generating predictions [Kyiv] (area_id: 32): 100%|██████████| 20/20 [00:01<00:00, 11.02it/s]\n",
      "Saving results to DB [Kyiv] (area_id: 32): 100%|██████████| 127/127 [00:09<00:00, 12.98it/s]\n"
     ]
    },
    {
     "name": "stdout",
     "output_type": "stream",
     "text": [
      "Hex cache size: 3504771 / 3504771 / 34\n",
      "Hex cache size: 3504771 / 3504771 / 34\n"
     ]
    },
    {
     "name": "stderr",
     "output_type": "stream",
     "text": [
      "Generating predictions [Kyiv] (area_id: 33): 100%|██████████| 20/20 [00:01<00:00, 16.29it/s]\n",
      "Saving results to DB [Kyiv] (area_id: 33): 100%|██████████| 33/33 [00:02<00:00, 13.30it/s]\n"
     ]
    },
    {
     "name": "stdout",
     "output_type": "stream",
     "text": [
      "Hex cache size: 3504771 / 3504771 / 34\n",
      "Hex cache size: 3504771 / 3504771 / 34\n"
     ]
    },
    {
     "name": "stderr",
     "output_type": "stream",
     "text": [
      "Generating predictions [Kyiv] (area_id: 34): 100%|██████████| 20/20 [00:01<00:00, 13.76it/s]\n",
      "Saving results to DB [Kyiv] (area_id: 34): 100%|██████████| 71/71 [00:05<00:00, 13.17it/s]\n"
     ]
    },
    {
     "name": "stdout",
     "output_type": "stream",
     "text": [
      "Hex cache size: 3504771 / 3504771 / 34\n",
      "Hex cache size: 3504771 / 3504771 / 34\n"
     ]
    },
    {
     "name": "stderr",
     "output_type": "stream",
     "text": [
      "Generating predictions [London] (area_id: 1): 100%|██████████| 20/20 [00:52<00:00,  2.64s/it]\n",
      "Saving results to DB [London] (area_id: 1): 100%|██████████| 57/57 [00:03<00:00, 14.87it/s]\n"
     ]
    },
    {
     "name": "stdout",
     "output_type": "stream",
     "text": [
      "Hex cache size: 3504771 / 3504771 / 34\n",
      "Hex cache size: 3504771 / 3504771 / 34\n"
     ]
    },
    {
     "name": "stderr",
     "output_type": "stream",
     "text": [
      "Generating predictions [London] (area_id: 2): 100%|██████████| 20/20 [00:01<00:00, 16.49it/s]\n",
      "Saving results to DB [London] (area_id: 2): 100%|██████████| 43/43 [00:02<00:00, 15.49it/s]\n"
     ]
    },
    {
     "name": "stdout",
     "output_type": "stream",
     "text": [
      "Hex cache size: 3504771 / 3504771 / 34\n",
      "Hex cache size: 3504771 / 3504771 / 34\n"
     ]
    },
    {
     "name": "stderr",
     "output_type": "stream",
     "text": [
      "Generating predictions [London] (area_id: 3): 100%|██████████| 20/20 [00:02<00:00,  7.78it/s]\n",
      "Saving results to DB [London] (area_id: 3): 100%|██████████| 123/123 [00:08<00:00, 14.32it/s]\n"
     ]
    },
    {
     "name": "stdout",
     "output_type": "stream",
     "text": [
      "Hex cache size: 3504771 / 3504771 / 34\n",
      "Hex cache size: 3504771 / 3504771 / 34\n"
     ]
    },
    {
     "name": "stderr",
     "output_type": "stream",
     "text": [
      "Generating predictions [London] (area_id: 4): 100%|██████████| 20/20 [00:01<00:00, 16.56it/s]\n",
      "Saving results to DB [London] (area_id: 4): 100%|██████████| 54/54 [00:04<00:00, 13.20it/s]\n"
     ]
    },
    {
     "name": "stdout",
     "output_type": "stream",
     "text": [
      "Hex cache size: 3504771 / 3504771 / 34\n",
      "Hex cache size: 3504771 / 3504771 / 34\n"
     ]
    },
    {
     "name": "stderr",
     "output_type": "stream",
     "text": [
      "Generating predictions [London] (area_id: 5): 100%|██████████| 20/20 [00:02<00:00,  7.76it/s]\n",
      "Saving results to DB [London] (area_id: 5): 100%|██████████| 144/144 [00:16<00:00,  8.90it/s]\n"
     ]
    },
    {
     "name": "stdout",
     "output_type": "stream",
     "text": [
      "Hex cache size: 3504771 / 3504771 / 34\n",
      "Hex cache size: 3504771 / 3504771 / 34\n"
     ]
    },
    {
     "name": "stderr",
     "output_type": "stream",
     "text": [
      "Generating predictions [London] (area_id: 6): 100%|██████████| 20/20 [00:01<00:00, 16.19it/s]\n",
      "Saving results to DB [London] (area_id: 6): 100%|██████████| 71/71 [00:05<00:00, 13.62it/s]\n"
     ]
    },
    {
     "name": "stdout",
     "output_type": "stream",
     "text": [
      "Hex cache size: 3504771 / 3504771 / 34\n",
      "Hex cache size: 3504771 / 3504771 / 34\n"
     ]
    },
    {
     "name": "stderr",
     "output_type": "stream",
     "text": [
      "Generating predictions [London] (area_id: 7): 100%|██████████| 20/20 [00:01<00:00, 14.94it/s]\n",
      "Saving results to DB [London] (area_id: 7): 100%|██████████| 84/84 [00:06<00:00, 13.24it/s]\n"
     ]
    },
    {
     "name": "stdout",
     "output_type": "stream",
     "text": [
      "Hex cache size: 3504771 / 3504771 / 34\n",
      "Hex cache size: 3504771 / 3504771 / 34\n"
     ]
    },
    {
     "name": "stderr",
     "output_type": "stream",
     "text": [
      "Generating predictions [London] (area_id: 8): 100%|██████████| 20/20 [00:01<00:00, 16.89it/s]\n",
      "Saving results to DB [London] (area_id: 8): 100%|██████████| 50/50 [00:03<00:00, 13.83it/s]\n"
     ]
    },
    {
     "name": "stdout",
     "output_type": "stream",
     "text": [
      "Hex cache size: 3504771 / 3504771 / 34\n",
      "Hex cache size: 3504771 / 3504771 / 34\n"
     ]
    },
    {
     "name": "stderr",
     "output_type": "stream",
     "text": [
      "Generating predictions [London] (area_id: 9): 100%|██████████| 20/20 [00:01<00:00, 15.39it/s]\n",
      "Saving results to DB [London] (area_id: 9): 100%|██████████| 60/60 [00:05<00:00, 11.57it/s]\n"
     ]
    },
    {
     "name": "stdout",
     "output_type": "stream",
     "text": [
      "Hex cache size: 3504771 / 3504771 / 34\n",
      "Hex cache size: 3504771 / 3504771 / 34\n"
     ]
    },
    {
     "name": "stderr",
     "output_type": "stream",
     "text": [
      "Generating predictions [London] (area_id: 10): 100%|██████████| 20/20 [00:01<00:00, 13.71it/s]\n",
      "Saving results to DB [London] (area_id: 10): 100%|██████████| 65/65 [00:04<00:00, 13.58it/s]\n"
     ]
    },
    {
     "name": "stdout",
     "output_type": "stream",
     "text": [
      "Hex cache size: 3504771 / 3504771 / 34\n",
      "Hex cache size: 3504771 / 3504771 / 34\n"
     ]
    },
    {
     "name": "stderr",
     "output_type": "stream",
     "text": [
      "Generating predictions [London] (area_id: 11): 100%|██████████| 20/20 [00:01<00:00, 16.67it/s]\n",
      "Saving results to DB [London] (area_id: 11): 100%|██████████| 60/60 [00:04<00:00, 13.93it/s]\n"
     ]
    },
    {
     "name": "stdout",
     "output_type": "stream",
     "text": [
      "Hex cache size: 3504771 / 3504771 / 34\n",
      "Hex cache size: 3504771 / 3504771 / 34\n"
     ]
    },
    {
     "name": "stderr",
     "output_type": "stream",
     "text": [
      "Generating predictions [London] (area_id: 12): 100%|██████████| 20/20 [00:02<00:00,  9.44it/s]\n",
      "Saving results to DB [London] (area_id: 12): 100%|██████████| 153/153 [00:12<00:00, 12.71it/s]\n"
     ]
    },
    {
     "name": "stdout",
     "output_type": "stream",
     "text": [
      "Hex cache size: 3504771 / 3504771 / 34\n",
      "Hex cache size: 3504771 / 3504771 / 34\n"
     ]
    },
    {
     "name": "stderr",
     "output_type": "stream",
     "text": [
      "Generating predictions [London] (area_id: 13): 100%|██████████| 20/20 [00:02<00:00,  8.50it/s]\n",
      "Saving results to DB [London] (area_id: 13): 100%|██████████| 159/159 [00:13<00:00, 11.85it/s]\n"
     ]
    },
    {
     "name": "stdout",
     "output_type": "stream",
     "text": [
      "Hex cache size: 3504771 / 3504771 / 34\n",
      "Hex cache size: 3504771 / 3504771 / 34\n"
     ]
    },
    {
     "name": "stderr",
     "output_type": "stream",
     "text": [
      "Generating predictions [London] (area_id: 14): 100%|██████████| 20/20 [00:01<00:00, 10.38it/s]\n",
      "Saving results to DB [London] (area_id: 14): 100%|██████████| 111/111 [00:08<00:00, 13.87it/s]\n"
     ]
    },
    {
     "name": "stdout",
     "output_type": "stream",
     "text": [
      "Hex cache size: 3504771 / 3504771 / 34\n",
      "Hex cache size: 3504771 / 3504771 / 34\n"
     ]
    },
    {
     "name": "stderr",
     "output_type": "stream",
     "text": [
      "Generating predictions [London] (area_id: 15): 100%|██████████| 20/20 [00:02<00:00,  9.96it/s]\n",
      "Saving results to DB [London] (area_id: 15): 100%|██████████| 122/122 [00:13<00:00,  9.05it/s]\n"
     ]
    },
    {
     "name": "stdout",
     "output_type": "stream",
     "text": [
      "Hex cache size: 3504771 / 3504771 / 34\n",
      "Hex cache size: 3504771 / 3504771 / 34\n"
     ]
    },
    {
     "name": "stderr",
     "output_type": "stream",
     "text": [
      "Generating predictions [London] (area_id: 16): 100%|██████████| 20/20 [00:01<00:00, 15.27it/s]\n",
      "Saving results to DB [London] (area_id: 16): 100%|██████████| 59/59 [00:04<00:00, 13.67it/s]\n"
     ]
    },
    {
     "name": "stdout",
     "output_type": "stream",
     "text": [
      "Hex cache size: 3504771 / 3504771 / 34\n",
      "Hex cache size: 3504771 / 3504771 / 34\n"
     ]
    },
    {
     "name": "stderr",
     "output_type": "stream",
     "text": [
      "Generating predictions [London] (area_id: 17): 100%|██████████| 20/20 [00:01<00:00, 18.97it/s]\n",
      "Saving results to DB [London] (area_id: 17): 100%|██████████| 30/30 [00:02<00:00, 14.08it/s]\n"
     ]
    },
    {
     "name": "stdout",
     "output_type": "stream",
     "text": [
      "Hex cache size: 3504771 / 3504771 / 34\n",
      "Hex cache size: 3504771 / 3504771 / 34\n"
     ]
    },
    {
     "name": "stderr",
     "output_type": "stream",
     "text": [
      "Generating predictions [London] (area_id: 18): 100%|██████████| 20/20 [00:01<00:00, 14.08it/s]\n",
      "Saving results to DB [London] (area_id: 18): 100%|██████████| 63/63 [00:04<00:00, 13.67it/s]\n"
     ]
    },
    {
     "name": "stdout",
     "output_type": "stream",
     "text": [
      "Hex cache size: 3504771 / 3504771 / 34\n",
      "Hex cache size: 3504771 / 3504771 / 34\n"
     ]
    },
    {
     "name": "stderr",
     "output_type": "stream",
     "text": [
      "Generating predictions [London] (area_id: 19): 100%|██████████| 20/20 [00:05<00:00,  3.84it/s]\n",
      "Saving results to DB [London] (area_id: 19): 100%|██████████| 379/379 [00:32<00:00, 11.71it/s]\n"
     ]
    },
    {
     "name": "stdout",
     "output_type": "stream",
     "text": [
      "Hex cache size: 3504771 / 3504771 / 34\n",
      "Hex cache size: 3504771 / 3504771 / 34\n"
     ]
    },
    {
     "name": "stderr",
     "output_type": "stream",
     "text": [
      "Generating predictions [London] (area_id: 20): 100%|██████████| 20/20 [00:04<00:00,  4.95it/s]\n",
      "Saving results to DB [London] (area_id: 20): 100%|██████████| 295/295 [00:30<00:00,  9.82it/s]\n"
     ]
    },
    {
     "name": "stdout",
     "output_type": "stream",
     "text": [
      "Hex cache size: 3504771 / 3504771 / 34\n",
      "Hex cache size: 3504771 / 3504771 / 34\n"
     ]
    },
    {
     "name": "stderr",
     "output_type": "stream",
     "text": [
      "Generating predictions [London] (area_id: 21): 100%|██████████| 20/20 [00:01<00:00, 15.49it/s]\n",
      "Saving results to DB [London] (area_id: 21): 100%|██████████| 37/37 [00:02<00:00, 13.15it/s]\n"
     ]
    },
    {
     "name": "stdout",
     "output_type": "stream",
     "text": [
      "Hex cache size: 3504771 / 3504771 / 34\n",
      "Hex cache size: 3504771 / 3504771 / 34\n"
     ]
    },
    {
     "name": "stderr",
     "output_type": "stream",
     "text": [
      "Generating predictions [London] (area_id: 22): 100%|██████████| 20/20 [00:01<00:00, 17.17it/s]\n",
      "Saving results to DB [London] (area_id: 22): 100%|██████████| 54/54 [00:03<00:00, 13.58it/s]\n"
     ]
    },
    {
     "name": "stdout",
     "output_type": "stream",
     "text": [
      "Hex cache size: 3504771 / 3504771 / 34\n",
      "Hex cache size: 3504771 / 3504771 / 34\n"
     ]
    },
    {
     "name": "stderr",
     "output_type": "stream",
     "text": [
      "Generating predictions [London] (area_id: 23): 100%|██████████| 20/20 [00:02<00:00,  9.34it/s]\n",
      "Saving results to DB [London] (area_id: 23): 100%|██████████| 136/136 [00:10<00:00, 12.41it/s]\n"
     ]
    },
    {
     "name": "stdout",
     "output_type": "stream",
     "text": [
      "Hex cache size: 3504771 / 3504771 / 34\n",
      "Hex cache size: 3504771 / 3504771 / 34\n"
     ]
    },
    {
     "name": "stderr",
     "output_type": "stream",
     "text": [
      "Generating predictions [London] (area_id: 24): 100%|██████████| 20/20 [00:03<00:00,  5.58it/s]\n",
      "Saving results to DB [London] (area_id: 24): 100%|██████████| 265/265 [00:21<00:00, 12.47it/s]\n"
     ]
    },
    {
     "name": "stdout",
     "output_type": "stream",
     "text": [
      "Hex cache size: 3504771 / 3504771 / 34\n",
      "Hex cache size: 3504771 / 3504771 / 34\n"
     ]
    },
    {
     "name": "stderr",
     "output_type": "stream",
     "text": [
      "Generating predictions [London] (area_id: 25): 100%|██████████| 20/20 [00:01<00:00, 12.04it/s]\n",
      "Saving results to DB [London] (area_id: 25): 100%|██████████| 106/106 [00:07<00:00, 13.68it/s]\n"
     ]
    },
    {
     "name": "stdout",
     "output_type": "stream",
     "text": [
      "Hex cache size: 3504771 / 3504771 / 34\n",
      "Hex cache size: 3504771 / 3504771 / 34\n"
     ]
    },
    {
     "name": "stderr",
     "output_type": "stream",
     "text": [
      "Generating predictions [London] (area_id: 26): 100%|██████████| 20/20 [00:02<00:00,  8.20it/s]\n",
      "Saving results to DB [London] (area_id: 26): 100%|██████████| 152/152 [00:11<00:00, 12.95it/s]\n"
     ]
    },
    {
     "name": "stdout",
     "output_type": "stream",
     "text": [
      "Hex cache size: 3504771 / 3504771 / 34\n",
      "Hex cache size: 3504771 / 3504771 / 34\n"
     ]
    },
    {
     "name": "stderr",
     "output_type": "stream",
     "text": [
      "Generating predictions [London] (area_id: 27): 100%|██████████| 20/20 [00:01<00:00, 16.48it/s]\n",
      "Saving results to DB [London] (area_id: 27): 100%|██████████| 49/49 [00:03<00:00, 14.17it/s]\n"
     ]
    },
    {
     "name": "stdout",
     "output_type": "stream",
     "text": [
      "Hex cache size: 3504771 / 3504771 / 34\n",
      "Hex cache size: 3504771 / 3504771 / 34\n"
     ]
    },
    {
     "name": "stderr",
     "output_type": "stream",
     "text": [
      "Generating predictions [London] (area_id: 28): 100%|██████████| 20/20 [00:01<00:00, 15.65it/s]\n",
      "Saving results to DB [London] (area_id: 28): 100%|██████████| 53/53 [00:04<00:00, 13.11it/s]\n"
     ]
    },
    {
     "name": "stdout",
     "output_type": "stream",
     "text": [
      "Hex cache size: 3504771 / 3504771 / 34\n",
      "Hex cache size: 3504771 / 3504771 / 34\n"
     ]
    },
    {
     "name": "stderr",
     "output_type": "stream",
     "text": [
      "Generating predictions [London] (area_id: 29): 100%|██████████| 20/20 [00:01<00:00, 20.00it/s]\n",
      "Saving results to DB [London] (area_id: 29): 100%|██████████| 34/34 [00:02<00:00, 14.09it/s]\n"
     ]
    },
    {
     "name": "stdout",
     "output_type": "stream",
     "text": [
      "Hex cache size: 3504771 / 3504771 / 34\n",
      "Hex cache size: 3504771 / 3504771 / 34\n"
     ]
    },
    {
     "name": "stderr",
     "output_type": "stream",
     "text": [
      "Generating predictions [London] (area_id: 30): 100%|██████████| 20/20 [00:01<00:00, 17.22it/s]\n",
      "Saving results to DB [London] (area_id: 30): 100%|██████████| 50/50 [00:03<00:00, 12.66it/s]\n"
     ]
    },
    {
     "name": "stdout",
     "output_type": "stream",
     "text": [
      "Hex cache size: 3504771 / 3504771 / 34\n",
      "Hex cache size: 3504771 / 3504771 / 34\n"
     ]
    },
    {
     "name": "stderr",
     "output_type": "stream",
     "text": [
      "Generating predictions [London] (area_id: 31): 100%|██████████| 20/20 [00:02<00:00,  7.72it/s]\n",
      "Saving results to DB [London] (area_id: 31): 100%|██████████| 174/174 [00:14<00:00, 12.16it/s]\n"
     ]
    },
    {
     "name": "stdout",
     "output_type": "stream",
     "text": [
      "Hex cache size: 3504771 / 3504771 / 34\n",
      "Hex cache size: 3504771 / 3504771 / 34\n"
     ]
    },
    {
     "name": "stderr",
     "output_type": "stream",
     "text": [
      "Generating predictions [London] (area_id: 32): 100%|██████████| 20/20 [00:01<00:00, 10.13it/s]\n",
      "Saving results to DB [London] (area_id: 32): 100%|██████████| 127/127 [00:09<00:00, 13.10it/s]\n"
     ]
    },
    {
     "name": "stdout",
     "output_type": "stream",
     "text": [
      "Hex cache size: 3504771 / 3504771 / 34\n",
      "Hex cache size: 3504771 / 3504771 / 34\n"
     ]
    },
    {
     "name": "stderr",
     "output_type": "stream",
     "text": [
      "Generating predictions [London] (area_id: 33): 100%|██████████| 20/20 [00:01<00:00, 17.22it/s]\n",
      "Saving results to DB [London] (area_id: 33): 100%|██████████| 33/33 [00:02<00:00, 12.17it/s]\n"
     ]
    },
    {
     "name": "stdout",
     "output_type": "stream",
     "text": [
      "Hex cache size: 3504771 / 3504771 / 34\n",
      "Hex cache size: 3504771 / 3504771 / 34\n"
     ]
    },
    {
     "name": "stderr",
     "output_type": "stream",
     "text": [
      "Generating predictions [London] (area_id: 34): 100%|██████████| 20/20 [00:01<00:00, 14.97it/s]\n",
      "Saving results to DB [London] (area_id: 34): 100%|██████████| 71/71 [00:05<00:00, 13.80it/s]\n"
     ]
    },
    {
     "name": "stdout",
     "output_type": "stream",
     "text": [
      "Hex cache size: 3504771 / 3504771 / 34\n",
      "Hex cache size: 3504771 / 3504771 / 34\n"
     ]
    },
    {
     "name": "stderr",
     "output_type": "stream",
     "text": [
      "Generating predictions [Lyon] (area_id: 1): 100%|██████████| 20/20 [00:44<00:00,  2.20s/it]\n",
      "Saving results to DB [Lyon] (area_id: 1): 100%|██████████| 57/57 [00:04<00:00, 12.95it/s]\n"
     ]
    },
    {
     "name": "stdout",
     "output_type": "stream",
     "text": [
      "Hex cache size: 3504771 / 3504771 / 34\n",
      "Hex cache size: 3504771 / 3504771 / 34\n"
     ]
    },
    {
     "name": "stderr",
     "output_type": "stream",
     "text": [
      "Generating predictions [Lyon] (area_id: 2): 100%|██████████| 20/20 [00:00<00:00, 21.66it/s]\n",
      "Saving results to DB [Lyon] (area_id: 2): 100%|██████████| 43/43 [00:03<00:00, 13.24it/s]\n"
     ]
    },
    {
     "name": "stdout",
     "output_type": "stream",
     "text": [
      "Hex cache size: 3504771 / 3504771 / 34\n",
      "Hex cache size: 3504771 / 3504771 / 34\n"
     ]
    },
    {
     "name": "stderr",
     "output_type": "stream",
     "text": [
      "Generating predictions [Lyon] (area_id: 3): 100%|██████████| 20/20 [00:02<00:00,  8.61it/s]\n",
      "Saving results to DB [Lyon] (area_id: 3): 100%|██████████| 123/123 [00:09<00:00, 13.61it/s]\n"
     ]
    },
    {
     "name": "stdout",
     "output_type": "stream",
     "text": [
      "Hex cache size: 3504771 / 3504771 / 34\n",
      "Hex cache size: 3504771 / 3504771 / 34\n"
     ]
    },
    {
     "name": "stderr",
     "output_type": "stream",
     "text": [
      "Generating predictions [Lyon] (area_id: 4): 100%|██████████| 20/20 [00:01<00:00, 19.13it/s]\n",
      "Saving results to DB [Lyon] (area_id: 4): 100%|██████████| 54/54 [00:04<00:00, 12.98it/s]\n"
     ]
    },
    {
     "name": "stdout",
     "output_type": "stream",
     "text": [
      "Hex cache size: 3504771 / 3504771 / 34\n",
      "Hex cache size: 3504771 / 3504771 / 34\n"
     ]
    },
    {
     "name": "stderr",
     "output_type": "stream",
     "text": [
      "Generating predictions [Lyon] (area_id: 5): 100%|██████████| 20/20 [00:01<00:00, 10.10it/s]\n",
      "Saving results to DB [Lyon] (area_id: 5): 100%|██████████| 144/144 [00:13<00:00, 10.97it/s]\n"
     ]
    },
    {
     "name": "stdout",
     "output_type": "stream",
     "text": [
      "Hex cache size: 3504771 / 3504771 / 34\n",
      "Hex cache size: 3504771 / 3504771 / 34\n"
     ]
    },
    {
     "name": "stderr",
     "output_type": "stream",
     "text": [
      "Generating predictions [Lyon] (area_id: 6): 100%|██████████| 20/20 [00:01<00:00, 13.84it/s]\n",
      "Saving results to DB [Lyon] (area_id: 6): 100%|██████████| 71/71 [00:05<00:00, 12.37it/s]\n"
     ]
    },
    {
     "name": "stdout",
     "output_type": "stream",
     "text": [
      "Hex cache size: 3504771 / 3504771 / 34\n",
      "Hex cache size: 3504771 / 3504771 / 34\n"
     ]
    },
    {
     "name": "stderr",
     "output_type": "stream",
     "text": [
      "Generating predictions [Lyon] (area_id: 7): 100%|██████████| 20/20 [00:01<00:00, 14.42it/s]\n",
      "Saving results to DB [Lyon] (area_id: 7): 100%|██████████| 84/84 [00:05<00:00, 14.14it/s]\n"
     ]
    },
    {
     "name": "stdout",
     "output_type": "stream",
     "text": [
      "Hex cache size: 3504771 / 3504771 / 34\n",
      "Hex cache size: 3504771 / 3504771 / 34\n"
     ]
    },
    {
     "name": "stderr",
     "output_type": "stream",
     "text": [
      "Generating predictions [Lyon] (area_id: 8): 100%|██████████| 20/20 [00:00<00:00, 20.21it/s]\n",
      "Saving results to DB [Lyon] (area_id: 8): 100%|██████████| 50/50 [00:03<00:00, 14.07it/s]\n"
     ]
    },
    {
     "name": "stdout",
     "output_type": "stream",
     "text": [
      "Hex cache size: 3504771 / 3504771 / 34\n",
      "Hex cache size: 3504771 / 3504771 / 34\n"
     ]
    },
    {
     "name": "stderr",
     "output_type": "stream",
     "text": [
      "Generating predictions [Lyon] (area_id: 9): 100%|██████████| 20/20 [00:01<00:00, 13.74it/s]\n",
      "Saving results to DB [Lyon] (area_id: 9): 100%|██████████| 60/60 [00:04<00:00, 14.51it/s]\n"
     ]
    },
    {
     "name": "stdout",
     "output_type": "stream",
     "text": [
      "Hex cache size: 3504771 / 3504771 / 34\n",
      "Hex cache size: 3504771 / 3504771 / 34\n"
     ]
    },
    {
     "name": "stderr",
     "output_type": "stream",
     "text": [
      "Generating predictions [Lyon] (area_id: 10): 100%|██████████| 20/20 [00:01<00:00, 17.09it/s]\n",
      "Saving results to DB [Lyon] (area_id: 10): 100%|██████████| 65/65 [00:04<00:00, 13.78it/s]\n"
     ]
    },
    {
     "name": "stdout",
     "output_type": "stream",
     "text": [
      "Hex cache size: 3504771 / 3504771 / 34\n",
      "Hex cache size: 3504771 / 3504771 / 34\n"
     ]
    },
    {
     "name": "stderr",
     "output_type": "stream",
     "text": [
      "Generating predictions [Lyon] (area_id: 11): 100%|██████████| 20/20 [00:00<00:00, 20.30it/s]\n",
      "Saving results to DB [Lyon] (area_id: 11): 100%|██████████| 60/60 [00:05<00:00, 11.95it/s]\n"
     ]
    },
    {
     "name": "stdout",
     "output_type": "stream",
     "text": [
      "Hex cache size: 3504771 / 3504771 / 34\n",
      "Hex cache size: 3504771 / 3504771 / 34\n"
     ]
    },
    {
     "name": "stderr",
     "output_type": "stream",
     "text": [
      "Generating predictions [Lyon] (area_id: 12): 100%|██████████| 20/20 [00:02<00:00,  9.36it/s]\n",
      "Saving results to DB [Lyon] (area_id: 12): 100%|██████████| 153/153 [00:11<00:00, 13.83it/s]\n"
     ]
    },
    {
     "name": "stdout",
     "output_type": "stream",
     "text": [
      "Hex cache size: 3504771 / 3504771 / 34\n",
      "Hex cache size: 3504771 / 3504771 / 34\n"
     ]
    },
    {
     "name": "stderr",
     "output_type": "stream",
     "text": [
      "Generating predictions [Lyon] (area_id: 13): 100%|██████████| 20/20 [00:02<00:00,  9.13it/s]\n",
      "Saving results to DB [Lyon] (area_id: 13): 100%|██████████| 159/159 [00:11<00:00, 13.61it/s]\n"
     ]
    },
    {
     "name": "stdout",
     "output_type": "stream",
     "text": [
      "Hex cache size: 3504771 / 3504771 / 34\n",
      "Hex cache size: 3504771 / 3504771 / 34\n"
     ]
    },
    {
     "name": "stderr",
     "output_type": "stream",
     "text": [
      "Generating predictions [Lyon] (area_id: 14): 100%|██████████| 20/20 [00:01<00:00, 11.06it/s]\n",
      "Saving results to DB [Lyon] (area_id: 14): 100%|██████████| 111/111 [00:09<00:00, 11.19it/s]\n"
     ]
    },
    {
     "name": "stdout",
     "output_type": "stream",
     "text": [
      "Hex cache size: 3504771 / 3504771 / 34\n",
      "Hex cache size: 3504771 / 3504771 / 34\n"
     ]
    },
    {
     "name": "stderr",
     "output_type": "stream",
     "text": [
      "Generating predictions [Lyon] (area_id: 15): 100%|██████████| 20/20 [00:02<00:00,  9.73it/s]\n",
      "Saving results to DB [Lyon] (area_id: 15): 100%|██████████| 122/122 [00:08<00:00, 13.86it/s]\n"
     ]
    },
    {
     "name": "stdout",
     "output_type": "stream",
     "text": [
      "Hex cache size: 3504771 / 3504771 / 34\n",
      "Hex cache size: 3504771 / 3504771 / 34\n"
     ]
    },
    {
     "name": "stderr",
     "output_type": "stream",
     "text": [
      "Generating predictions [Lyon] (area_id: 16): 100%|██████████| 20/20 [00:01<00:00, 19.00it/s]\n",
      "Saving results to DB [Lyon] (area_id: 16): 100%|██████████| 59/59 [00:04<00:00, 13.98it/s]\n"
     ]
    },
    {
     "name": "stdout",
     "output_type": "stream",
     "text": [
      "Hex cache size: 3504771 / 3504771 / 34\n",
      "Hex cache size: 3504771 / 3504771 / 34\n"
     ]
    },
    {
     "name": "stderr",
     "output_type": "stream",
     "text": [
      "Generating predictions [Lyon] (area_id: 17): 100%|██████████| 20/20 [00:00<00:00, 25.47it/s]\n",
      "Saving results to DB [Lyon] (area_id: 17): 100%|██████████| 30/30 [00:02<00:00, 12.05it/s]\n"
     ]
    },
    {
     "name": "stdout",
     "output_type": "stream",
     "text": [
      "Hex cache size: 3504771 / 3504771 / 34\n",
      "Hex cache size: 3504771 / 3504771 / 34\n"
     ]
    },
    {
     "name": "stderr",
     "output_type": "stream",
     "text": [
      "Generating predictions [Lyon] (area_id: 18): 100%|██████████| 20/20 [00:01<00:00, 16.94it/s]\n",
      "Saving results to DB [Lyon] (area_id: 18): 100%|██████████| 63/63 [00:04<00:00, 13.89it/s]\n"
     ]
    },
    {
     "name": "stdout",
     "output_type": "stream",
     "text": [
      "Hex cache size: 3504771 / 3504771 / 34\n",
      "Hex cache size: 3504771 / 3504771 / 34\n"
     ]
    },
    {
     "name": "stderr",
     "output_type": "stream",
     "text": [
      "Generating predictions [Lyon] (area_id: 19): 100%|██████████| 20/20 [00:05<00:00,  3.95it/s]\n",
      "Saving results to DB [Lyon] (area_id: 19): 100%|██████████| 379/379 [00:35<00:00, 10.72it/s]\n"
     ]
    },
    {
     "name": "stdout",
     "output_type": "stream",
     "text": [
      "Hex cache size: 3504771 / 3504771 / 34\n",
      "Hex cache size: 3504771 / 3504771 / 34\n"
     ]
    },
    {
     "name": "stderr",
     "output_type": "stream",
     "text": [
      "Generating predictions [Lyon] (area_id: 20): 100%|██████████| 20/20 [00:04<00:00,  4.93it/s]\n",
      "Saving results to DB [Lyon] (area_id: 20): 100%|██████████| 295/295 [00:22<00:00, 13.30it/s]\n"
     ]
    },
    {
     "name": "stdout",
     "output_type": "stream",
     "text": [
      "Hex cache size: 3504771 / 3504771 / 34\n",
      "Hex cache size: 3504771 / 3504771 / 34\n"
     ]
    },
    {
     "name": "stderr",
     "output_type": "stream",
     "text": [
      "Generating predictions [Lyon] (area_id: 21): 100%|██████████| 20/20 [00:00<00:00, 21.63it/s]\n",
      "Saving results to DB [Lyon] (area_id: 21): 100%|██████████| 37/37 [00:02<00:00, 12.69it/s]\n"
     ]
    },
    {
     "name": "stdout",
     "output_type": "stream",
     "text": [
      "Hex cache size: 3504771 / 3504771 / 34\n",
      "Hex cache size: 3504771 / 3504771 / 34\n"
     ]
    },
    {
     "name": "stderr",
     "output_type": "stream",
     "text": [
      "Generating predictions [Lyon] (area_id: 22): 100%|██████████| 20/20 [00:01<00:00, 17.73it/s]\n",
      "Saving results to DB [Lyon] (area_id: 22): 100%|██████████| 54/54 [00:08<00:00,  6.63it/s]\n"
     ]
    },
    {
     "name": "stdout",
     "output_type": "stream",
     "text": [
      "Hex cache size: 3504771 / 3504771 / 34\n",
      "Hex cache size: 3504771 / 3504771 / 34\n"
     ]
    },
    {
     "name": "stderr",
     "output_type": "stream",
     "text": [
      "Generating predictions [Lyon] (area_id: 23): 100%|██████████| 20/20 [00:01<00:00, 10.52it/s]\n",
      "Saving results to DB [Lyon] (area_id: 23): 100%|██████████| 136/136 [00:09<00:00, 13.77it/s]\n"
     ]
    },
    {
     "name": "stdout",
     "output_type": "stream",
     "text": [
      "Hex cache size: 3504771 / 3504771 / 34\n",
      "Hex cache size: 3504771 / 3504771 / 34\n"
     ]
    },
    {
     "name": "stderr",
     "output_type": "stream",
     "text": [
      "Generating predictions [Lyon] (area_id: 24): 100%|██████████| 20/20 [00:03<00:00,  5.76it/s]\n",
      "Saving results to DB [Lyon] (area_id: 24): 100%|██████████| 265/265 [00:21<00:00, 12.44it/s]\n"
     ]
    },
    {
     "name": "stdout",
     "output_type": "stream",
     "text": [
      "Hex cache size: 3504771 / 3504771 / 34\n",
      "Hex cache size: 3504771 / 3504771 / 34\n"
     ]
    },
    {
     "name": "stderr",
     "output_type": "stream",
     "text": [
      "Generating predictions [Lyon] (area_id: 25): 100%|██████████| 20/20 [00:01<00:00, 12.29it/s]\n",
      "Saving results to DB [Lyon] (area_id: 25): 100%|██████████| 106/106 [00:13<00:00,  7.83it/s]\n"
     ]
    },
    {
     "name": "stdout",
     "output_type": "stream",
     "text": [
      "Hex cache size: 3504771 / 3504771 / 34\n",
      "Hex cache size: 3504771 / 3504771 / 34\n"
     ]
    },
    {
     "name": "stderr",
     "output_type": "stream",
     "text": [
      "Generating predictions [Lyon] (area_id: 26): 100%|██████████| 20/20 [00:02<00:00,  8.95it/s]\n",
      "Saving results to DB [Lyon] (area_id: 26): 100%|██████████| 152/152 [00:11<00:00, 13.29it/s]\n"
     ]
    },
    {
     "name": "stdout",
     "output_type": "stream",
     "text": [
      "Hex cache size: 3504771 / 3504771 / 34\n",
      "Hex cache size: 3504771 / 3504771 / 34\n"
     ]
    },
    {
     "name": "stderr",
     "output_type": "stream",
     "text": [
      "Generating predictions [Lyon] (area_id: 27): 100%|██████████| 20/20 [00:00<00:00, 22.90it/s]\n",
      "Saving results to DB [Lyon] (area_id: 27): 100%|██████████| 49/49 [00:03<00:00, 13.15it/s]\n"
     ]
    },
    {
     "name": "stdout",
     "output_type": "stream",
     "text": [
      "Hex cache size: 3504771 / 3504771 / 34\n",
      "Hex cache size: 3504771 / 3504771 / 34\n"
     ]
    },
    {
     "name": "stderr",
     "output_type": "stream",
     "text": [
      "Generating predictions [Lyon] (area_id: 28): 100%|██████████| 20/20 [00:00<00:00, 21.98it/s]\n",
      "Saving results to DB [Lyon] (area_id: 28): 100%|██████████| 53/53 [00:03<00:00, 14.42it/s]\n"
     ]
    },
    {
     "name": "stdout",
     "output_type": "stream",
     "text": [
      "Hex cache size: 3504771 / 3504771 / 34\n",
      "Hex cache size: 3504771 / 3504771 / 34\n"
     ]
    },
    {
     "name": "stderr",
     "output_type": "stream",
     "text": [
      "Generating predictions [Lyon] (area_id: 29): 100%|██████████| 20/20 [00:00<00:00, 26.93it/s]\n",
      "Saving results to DB [Lyon] (area_id: 29): 100%|██████████| 34/34 [00:02<00:00, 15.86it/s]\n"
     ]
    },
    {
     "name": "stdout",
     "output_type": "stream",
     "text": [
      "Hex cache size: 3504771 / 3504771 / 34\n",
      "Hex cache size: 3504771 / 3504771 / 34\n"
     ]
    },
    {
     "name": "stderr",
     "output_type": "stream",
     "text": [
      "Generating predictions [Lyon] (area_id: 30): 100%|██████████| 20/20 [00:01<00:00, 16.53it/s]\n",
      "Saving results to DB [Lyon] (area_id: 30): 100%|██████████| 50/50 [00:03<00:00, 14.24it/s]\n"
     ]
    },
    {
     "name": "stdout",
     "output_type": "stream",
     "text": [
      "Hex cache size: 3504771 / 3504771 / 34\n",
      "Hex cache size: 3504771 / 3504771 / 34\n"
     ]
    },
    {
     "name": "stderr",
     "output_type": "stream",
     "text": [
      "Generating predictions [Lyon] (area_id: 31): 100%|██████████| 20/20 [00:02<00:00,  8.13it/s]\n",
      "Saving results to DB [Lyon] (area_id: 31): 100%|██████████| 174/174 [00:12<00:00, 14.01it/s]\n"
     ]
    },
    {
     "name": "stdout",
     "output_type": "stream",
     "text": [
      "Hex cache size: 3504771 / 3504771 / 34\n",
      "Hex cache size: 3504771 / 3504771 / 34\n"
     ]
    },
    {
     "name": "stderr",
     "output_type": "stream",
     "text": [
      "Generating predictions [Lyon] (area_id: 32): 100%|██████████| 20/20 [00:02<00:00,  8.82it/s]\n",
      "Saving results to DB [Lyon] (area_id: 32): 100%|██████████| 127/127 [00:09<00:00, 13.89it/s]\n"
     ]
    },
    {
     "name": "stdout",
     "output_type": "stream",
     "text": [
      "Hex cache size: 3504771 / 3504771 / 34\n",
      "Hex cache size: 3504771 / 3504771 / 34\n"
     ]
    },
    {
     "name": "stderr",
     "output_type": "stream",
     "text": [
      "Generating predictions [Lyon] (area_id: 33): 100%|██████████| 20/20 [00:00<00:00, 21.06it/s]\n",
      "Saving results to DB [Lyon] (area_id: 33): 100%|██████████| 33/33 [00:02<00:00, 15.86it/s]\n"
     ]
    },
    {
     "name": "stdout",
     "output_type": "stream",
     "text": [
      "Hex cache size: 3504771 / 3504771 / 34\n",
      "Hex cache size: 3504771 / 3504771 / 34\n"
     ]
    },
    {
     "name": "stderr",
     "output_type": "stream",
     "text": [
      "Generating predictions [Lyon] (area_id: 34): 100%|██████████| 20/20 [00:01<00:00, 14.35it/s]\n",
      "Saving results to DB [Lyon] (area_id: 34): 100%|██████████| 71/71 [00:05<00:00, 13.85it/s]\n"
     ]
    },
    {
     "name": "stdout",
     "output_type": "stream",
     "text": [
      "Hex cache size: 3504771 / 3504771 / 34\n",
      "Hex cache size: 3504771 / 3504771 / 34\n"
     ]
    },
    {
     "name": "stderr",
     "output_type": "stream",
     "text": [
      "Generating predictions [Madrid] (area_id: 1): 100%|██████████| 20/20 [00:31<00:00,  1.60s/it]\n",
      "Saving results to DB [Madrid] (area_id: 1): 100%|██████████| 57/57 [00:04<00:00, 13.53it/s]\n"
     ]
    },
    {
     "name": "stdout",
     "output_type": "stream",
     "text": [
      "Hex cache size: 3504771 / 3504771 / 34\n",
      "Hex cache size: 3504771 / 3504771 / 34\n"
     ]
    },
    {
     "name": "stderr",
     "output_type": "stream",
     "text": [
      "Generating predictions [Madrid] (area_id: 2): 100%|██████████| 20/20 [00:00<00:00, 23.29it/s]\n",
      "Saving results to DB [Madrid] (area_id: 2): 100%|██████████| 43/43 [00:02<00:00, 15.65it/s]\n"
     ]
    },
    {
     "name": "stdout",
     "output_type": "stream",
     "text": [
      "Hex cache size: 3504771 / 3504771 / 34\n",
      "Hex cache size: 3504771 / 3504771 / 34\n"
     ]
    },
    {
     "name": "stderr",
     "output_type": "stream",
     "text": [
      "Generating predictions [Madrid] (area_id: 3): 100%|██████████| 20/20 [00:02<00:00,  7.16it/s]\n",
      "Saving results to DB [Madrid] (area_id: 3): 100%|██████████| 123/123 [00:10<00:00, 11.53it/s]\n"
     ]
    },
    {
     "name": "stdout",
     "output_type": "stream",
     "text": [
      "Hex cache size: 3504771 / 3504771 / 34\n",
      "Hex cache size: 3504771 / 3504771 / 34\n"
     ]
    },
    {
     "name": "stderr",
     "output_type": "stream",
     "text": [
      "Generating predictions [Madrid] (area_id: 4): 100%|██████████| 20/20 [00:00<00:00, 20.32it/s]\n",
      "Saving results to DB [Madrid] (area_id: 4): 100%|██████████| 54/54 [00:04<00:00, 12.54it/s]\n"
     ]
    },
    {
     "name": "stdout",
     "output_type": "stream",
     "text": [
      "Hex cache size: 3504771 / 3504771 / 34\n",
      "Hex cache size: 3504771 / 3504771 / 34\n"
     ]
    },
    {
     "name": "stderr",
     "output_type": "stream",
     "text": [
      "Generating predictions [Madrid] (area_id: 5): 100%|██████████| 20/20 [00:01<00:00, 10.91it/s]\n",
      "Saving results to DB [Madrid] (area_id: 5): 100%|██████████| 144/144 [00:13<00:00, 10.99it/s]\n"
     ]
    },
    {
     "name": "stdout",
     "output_type": "stream",
     "text": [
      "Hex cache size: 3504771 / 3504771 / 34\n",
      "Hex cache size: 3504771 / 3504771 / 34\n"
     ]
    },
    {
     "name": "stderr",
     "output_type": "stream",
     "text": [
      "Generating predictions [Madrid] (area_id: 6): 100%|██████████| 20/20 [00:01<00:00, 14.81it/s]\n",
      "Saving results to DB [Madrid] (area_id: 6): 100%|██████████| 71/71 [00:05<00:00, 12.78it/s]\n"
     ]
    },
    {
     "name": "stdout",
     "output_type": "stream",
     "text": [
      "Hex cache size: 3504771 / 3504771 / 34\n",
      "Hex cache size: 3504771 / 3504771 / 34\n"
     ]
    },
    {
     "name": "stderr",
     "output_type": "stream",
     "text": [
      "Generating predictions [Madrid] (area_id: 7): 100%|██████████| 20/20 [00:01<00:00, 12.93it/s]\n",
      "Saving results to DB [Madrid] (area_id: 7): 100%|██████████| 84/84 [00:06<00:00, 12.49it/s]\n"
     ]
    },
    {
     "name": "stdout",
     "output_type": "stream",
     "text": [
      "Hex cache size: 3504771 / 3504771 / 34\n",
      "Hex cache size: 3504771 / 3504771 / 34\n"
     ]
    },
    {
     "name": "stderr",
     "output_type": "stream",
     "text": [
      "Generating predictions [Madrid] (area_id: 8): 100%|██████████| 20/20 [00:01<00:00, 14.27it/s]\n",
      "Saving results to DB [Madrid] (area_id: 8): 100%|██████████| 50/50 [00:04<00:00, 12.14it/s]\n"
     ]
    },
    {
     "name": "stdout",
     "output_type": "stream",
     "text": [
      "Hex cache size: 3504771 / 3504771 / 34\n",
      "Hex cache size: 3504771 / 3504771 / 34\n"
     ]
    },
    {
     "name": "stderr",
     "output_type": "stream",
     "text": [
      "Generating predictions [Madrid] (area_id: 9): 100%|██████████| 20/20 [00:01<00:00, 17.55it/s]\n",
      "Saving results to DB [Madrid] (area_id: 9): 100%|██████████| 60/60 [00:04<00:00, 13.87it/s]\n"
     ]
    },
    {
     "name": "stdout",
     "output_type": "stream",
     "text": [
      "Hex cache size: 3504771 / 3504771 / 34\n",
      "Hex cache size: 3504771 / 3504771 / 34\n"
     ]
    },
    {
     "name": "stderr",
     "output_type": "stream",
     "text": [
      "Generating predictions [Madrid] (area_id: 10): 100%|██████████| 20/20 [00:01<00:00, 17.37it/s]\n",
      "Saving results to DB [Madrid] (area_id: 10): 100%|██████████| 65/65 [00:04<00:00, 14.10it/s]\n"
     ]
    },
    {
     "name": "stdout",
     "output_type": "stream",
     "text": [
      "Hex cache size: 3504771 / 3504771 / 34\n",
      "Hex cache size: 3504771 / 3504771 / 34\n"
     ]
    },
    {
     "name": "stderr",
     "output_type": "stream",
     "text": [
      "Generating predictions [Madrid] (area_id: 11): 100%|██████████| 20/20 [00:01<00:00, 12.15it/s]\n",
      "Saving results to DB [Madrid] (area_id: 11): 100%|██████████| 60/60 [00:04<00:00, 12.15it/s]\n"
     ]
    },
    {
     "name": "stdout",
     "output_type": "stream",
     "text": [
      "Hex cache size: 3504771 / 3504771 / 34\n",
      "Hex cache size: 3504771 / 3504771 / 34\n"
     ]
    },
    {
     "name": "stderr",
     "output_type": "stream",
     "text": [
      "Generating predictions [Madrid] (area_id: 12): 100%|██████████| 20/20 [00:01<00:00, 10.08it/s]\n",
      "Saving results to DB [Madrid] (area_id: 12): 100%|██████████| 153/153 [00:15<00:00, 10.12it/s]\n"
     ]
    },
    {
     "name": "stdout",
     "output_type": "stream",
     "text": [
      "Hex cache size: 3504771 / 3504771 / 34\n",
      "Hex cache size: 3504771 / 3504771 / 34\n"
     ]
    },
    {
     "name": "stderr",
     "output_type": "stream",
     "text": [
      "Generating predictions [Madrid] (area_id: 13): 100%|██████████| 20/20 [00:02<00:00,  9.14it/s]\n",
      "Saving results to DB [Madrid] (area_id: 13): 100%|██████████| 159/159 [00:12<00:00, 13.19it/s]\n"
     ]
    },
    {
     "name": "stdout",
     "output_type": "stream",
     "text": [
      "Hex cache size: 3504771 / 3504771 / 34\n",
      "Hex cache size: 3504771 / 3504771 / 34\n"
     ]
    },
    {
     "name": "stderr",
     "output_type": "stream",
     "text": [
      "Generating predictions [Madrid] (area_id: 14): 100%|██████████| 20/20 [00:02<00:00,  9.99it/s]\n",
      "Saving results to DB [Madrid] (area_id: 14): 100%|██████████| 111/111 [00:07<00:00, 14.17it/s]\n"
     ]
    },
    {
     "name": "stdout",
     "output_type": "stream",
     "text": [
      "Hex cache size: 3504771 / 3504771 / 34\n",
      "Hex cache size: 3504771 / 3504771 / 34\n"
     ]
    },
    {
     "name": "stderr",
     "output_type": "stream",
     "text": [
      "Generating predictions [Madrid] (area_id: 15): 100%|██████████| 20/20 [00:01<00:00, 11.75it/s]\n",
      "Saving results to DB [Madrid] (area_id: 15): 100%|██████████| 122/122 [00:14<00:00,  8.36it/s]\n"
     ]
    },
    {
     "name": "stdout",
     "output_type": "stream",
     "text": [
      "Hex cache size: 3504771 / 3504771 / 34\n",
      "Hex cache size: 3504771 / 3504771 / 34\n"
     ]
    },
    {
     "name": "stderr",
     "output_type": "stream",
     "text": [
      "Generating predictions [Madrid] (area_id: 16): 100%|██████████| 20/20 [00:00<00:00, 20.21it/s]\n",
      "Saving results to DB [Madrid] (area_id: 16): 100%|██████████| 59/59 [00:03<00:00, 14.91it/s]\n"
     ]
    },
    {
     "name": "stdout",
     "output_type": "stream",
     "text": [
      "Hex cache size: 3504771 / 3504771 / 34\n",
      "Hex cache size: 3504771 / 3504771 / 34\n"
     ]
    },
    {
     "name": "stderr",
     "output_type": "stream",
     "text": [
      "Generating predictions [Madrid] (area_id: 17): 100%|██████████| 20/20 [00:00<00:00, 30.57it/s]\n",
      "Saving results to DB [Madrid] (area_id: 17): 100%|██████████| 30/30 [00:02<00:00, 14.72it/s]\n"
     ]
    },
    {
     "name": "stdout",
     "output_type": "stream",
     "text": [
      "Hex cache size: 3504771 / 3504771 / 34\n",
      "Hex cache size: 3504771 / 3504771 / 34\n"
     ]
    },
    {
     "name": "stderr",
     "output_type": "stream",
     "text": [
      "Generating predictions [Madrid] (area_id: 18): 100%|██████████| 20/20 [00:01<00:00, 15.56it/s]\n",
      "Saving results to DB [Madrid] (area_id: 18): 100%|██████████| 63/63 [00:04<00:00, 13.37it/s]\n"
     ]
    },
    {
     "name": "stdout",
     "output_type": "stream",
     "text": [
      "Hex cache size: 3504771 / 3504771 / 34\n",
      "Hex cache size: 3504771 / 3504771 / 34\n"
     ]
    },
    {
     "name": "stderr",
     "output_type": "stream",
     "text": [
      "Generating predictions [Madrid] (area_id: 19): 100%|██████████| 20/20 [00:03<00:00,  5.04it/s]\n",
      "Saving results to DB [Madrid] (area_id: 19): 100%|██████████| 379/379 [00:34<00:00, 11.11it/s]\n"
     ]
    },
    {
     "name": "stdout",
     "output_type": "stream",
     "text": [
      "Hex cache size: 3504771 / 3504771 / 34\n",
      "Hex cache size: 3504771 / 3504771 / 34\n"
     ]
    },
    {
     "name": "stderr",
     "output_type": "stream",
     "text": [
      "Generating predictions [Madrid] (area_id: 20): 100%|██████████| 20/20 [00:03<00:00,  5.89it/s]\n",
      "Saving results to DB [Madrid] (area_id: 20): 100%|██████████| 295/295 [00:25<00:00, 11.48it/s]\n"
     ]
    },
    {
     "name": "stdout",
     "output_type": "stream",
     "text": [
      "Hex cache size: 3504771 / 3504771 / 34\n",
      "Hex cache size: 3504771 / 3504771 / 34\n"
     ]
    },
    {
     "name": "stderr",
     "output_type": "stream",
     "text": [
      "Generating predictions [Madrid] (area_id: 21): 100%|██████████| 20/20 [00:00<00:00, 21.15it/s]\n",
      "Saving results to DB [Madrid] (area_id: 21): 100%|██████████| 37/37 [00:03<00:00, 11.23it/s]\n"
     ]
    },
    {
     "name": "stdout",
     "output_type": "stream",
     "text": [
      "Hex cache size: 3504771 / 3504771 / 34\n",
      "Hex cache size: 3504771 / 3504771 / 34\n"
     ]
    },
    {
     "name": "stderr",
     "output_type": "stream",
     "text": [
      "Generating predictions [Madrid] (area_id: 22): 100%|██████████| 20/20 [00:01<00:00, 18.96it/s]\n",
      "Saving results to DB [Madrid] (area_id: 22): 100%|██████████| 54/54 [00:04<00:00, 13.41it/s]\n"
     ]
    },
    {
     "name": "stdout",
     "output_type": "stream",
     "text": [
      "Hex cache size: 3504771 / 3504771 / 34\n",
      "Hex cache size: 3504771 / 3504771 / 34\n"
     ]
    },
    {
     "name": "stderr",
     "output_type": "stream",
     "text": [
      "Generating predictions [Madrid] (area_id: 23): 100%|██████████| 20/20 [00:01<00:00, 10.49it/s]\n",
      "Saving results to DB [Madrid] (area_id: 23): 100%|██████████| 136/136 [00:10<00:00, 13.24it/s]\n"
     ]
    },
    {
     "name": "stdout",
     "output_type": "stream",
     "text": [
      "Hex cache size: 3504771 / 3504771 / 34\n",
      "Hex cache size: 3504771 / 3504771 / 34\n"
     ]
    },
    {
     "name": "stderr",
     "output_type": "stream",
     "text": [
      "Generating predictions [Madrid] (area_id: 24): 100%|██████████| 20/20 [00:03<00:00,  5.64it/s]\n",
      "Saving results to DB [Madrid] (area_id: 24): 100%|██████████| 265/265 [00:21<00:00, 12.07it/s]\n"
     ]
    },
    {
     "name": "stdout",
     "output_type": "stream",
     "text": [
      "Hex cache size: 3504771 / 3504771 / 34\n",
      "Hex cache size: 3504771 / 3504771 / 34\n"
     ]
    },
    {
     "name": "stderr",
     "output_type": "stream",
     "text": [
      "Generating predictions [Madrid] (area_id: 25): 100%|██████████| 20/20 [00:01<00:00, 13.06it/s]\n",
      "Saving results to DB [Madrid] (area_id: 25): 100%|██████████| 106/106 [00:07<00:00, 14.87it/s]\n"
     ]
    },
    {
     "name": "stdout",
     "output_type": "stream",
     "text": [
      "Hex cache size: 3504771 / 3504771 / 34\n",
      "Hex cache size: 3504771 / 3504771 / 34\n"
     ]
    },
    {
     "name": "stderr",
     "output_type": "stream",
     "text": [
      "Generating predictions [Madrid] (area_id: 26): 100%|██████████| 20/20 [00:01<00:00, 10.38it/s]\n",
      "Saving results to DB [Madrid] (area_id: 26): 100%|██████████| 152/152 [00:11<00:00, 12.96it/s]\n"
     ]
    },
    {
     "name": "stdout",
     "output_type": "stream",
     "text": [
      "Hex cache size: 3504771 / 3504771 / 34\n",
      "Hex cache size: 3504771 / 3504771 / 34\n"
     ]
    },
    {
     "name": "stderr",
     "output_type": "stream",
     "text": [
      "Generating predictions [Madrid] (area_id: 27): 100%|██████████| 20/20 [00:00<00:00, 21.91it/s]\n",
      "Saving results to DB [Madrid] (area_id: 27): 100%|██████████| 49/49 [00:08<00:00,  5.84it/s]\n"
     ]
    },
    {
     "name": "stdout",
     "output_type": "stream",
     "text": [
      "Hex cache size: 3504771 / 3504771 / 34\n",
      "Hex cache size: 3504771 / 3504771 / 34\n"
     ]
    },
    {
     "name": "stderr",
     "output_type": "stream",
     "text": [
      "Generating predictions [Madrid] (area_id: 28): 100%|██████████| 20/20 [00:01<00:00, 19.86it/s]\n",
      "Saving results to DB [Madrid] (area_id: 28): 100%|██████████| 53/53 [00:03<00:00, 14.41it/s]\n"
     ]
    },
    {
     "name": "stdout",
     "output_type": "stream",
     "text": [
      "Hex cache size: 3504771 / 3504771 / 34\n",
      "Hex cache size: 3504771 / 3504771 / 34\n"
     ]
    },
    {
     "name": "stderr",
     "output_type": "stream",
     "text": [
      "Generating predictions [Madrid] (area_id: 29): 100%|██████████| 20/20 [00:00<00:00, 26.89it/s]\n",
      "Saving results to DB [Madrid] (area_id: 29): 100%|██████████| 34/34 [00:02<00:00, 15.54it/s]\n"
     ]
    },
    {
     "name": "stdout",
     "output_type": "stream",
     "text": [
      "Hex cache size: 3504771 / 3504771 / 34\n",
      "Hex cache size: 3504771 / 3504771 / 34\n"
     ]
    },
    {
     "name": "stderr",
     "output_type": "stream",
     "text": [
      "Generating predictions [Madrid] (area_id: 30): 100%|██████████| 20/20 [00:00<00:00, 22.39it/s]\n",
      "Saving results to DB [Madrid] (area_id: 30): 100%|██████████| 50/50 [00:03<00:00, 15.05it/s]\n"
     ]
    },
    {
     "name": "stdout",
     "output_type": "stream",
     "text": [
      "Hex cache size: 3504771 / 3504771 / 34\n",
      "Hex cache size: 3504771 / 3504771 / 34\n"
     ]
    },
    {
     "name": "stderr",
     "output_type": "stream",
     "text": [
      "Generating predictions [Madrid] (area_id: 31): 100%|██████████| 20/20 [00:02<00:00,  8.20it/s]\n",
      "Saving results to DB [Madrid] (area_id: 31): 100%|██████████| 174/174 [00:12<00:00, 14.12it/s]\n"
     ]
    },
    {
     "name": "stdout",
     "output_type": "stream",
     "text": [
      "Hex cache size: 3504771 / 3504771 / 34\n",
      "Hex cache size: 3504771 / 3504771 / 34\n"
     ]
    },
    {
     "name": "stderr",
     "output_type": "stream",
     "text": [
      "Generating predictions [Madrid] (area_id: 32): 100%|██████████| 20/20 [00:01<00:00, 11.39it/s]\n",
      "Saving results to DB [Madrid] (area_id: 32): 100%|██████████| 127/127 [00:10<00:00, 12.51it/s]\n"
     ]
    },
    {
     "name": "stdout",
     "output_type": "stream",
     "text": [
      "Hex cache size: 3504771 / 3504771 / 34\n",
      "Hex cache size: 3504771 / 3504771 / 34\n"
     ]
    },
    {
     "name": "stderr",
     "output_type": "stream",
     "text": [
      "Generating predictions [Madrid] (area_id: 33): 100%|██████████| 20/20 [00:00<00:00, 22.51it/s]\n",
      "Saving results to DB [Madrid] (area_id: 33): 100%|██████████| 33/33 [00:02<00:00, 12.52it/s]\n"
     ]
    },
    {
     "name": "stdout",
     "output_type": "stream",
     "text": [
      "Hex cache size: 3504771 / 3504771 / 34\n",
      "Hex cache size: 3504771 / 3504771 / 34\n"
     ]
    },
    {
     "name": "stderr",
     "output_type": "stream",
     "text": [
      "Generating predictions [Madrid] (area_id: 34): 100%|██████████| 20/20 [00:01<00:00, 14.49it/s]\n",
      "Saving results to DB [Madrid] (area_id: 34): 100%|██████████| 71/71 [00:04<00:00, 14.81it/s]\n"
     ]
    },
    {
     "name": "stdout",
     "output_type": "stream",
     "text": [
      "Hex cache size: 3504771 / 3504771 / 34\n",
      "Hex cache size: 3504771 / 3504771 / 34\n"
     ]
    },
    {
     "name": "stderr",
     "output_type": "stream",
     "text": [
      "Generating predictions [Marseille] (area_id: 1): 100%|██████████| 20/20 [00:26<00:00,  1.35s/it]\n",
      "Saving results to DB [Marseille] (area_id: 1): 100%|██████████| 57/57 [00:04<00:00, 13.52it/s]\n"
     ]
    },
    {
     "name": "stdout",
     "output_type": "stream",
     "text": [
      "Hex cache size: 3504771 / 3504771 / 34\n",
      "Hex cache size: 3504771 / 3504771 / 34\n"
     ]
    },
    {
     "name": "stderr",
     "output_type": "stream",
     "text": [
      "Generating predictions [Marseille] (area_id: 2): 100%|██████████| 20/20 [00:00<00:00, 20.36it/s]\n",
      "Saving results to DB [Marseille] (area_id: 2): 100%|██████████| 43/43 [00:03<00:00, 12.84it/s]\n"
     ]
    },
    {
     "name": "stdout",
     "output_type": "stream",
     "text": [
      "Hex cache size: 3504771 / 3504771 / 34\n",
      "Hex cache size: 3504771 / 3504771 / 34\n"
     ]
    },
    {
     "name": "stderr",
     "output_type": "stream",
     "text": [
      "Generating predictions [Marseille] (area_id: 3): 100%|██████████| 20/20 [00:01<00:00, 12.27it/s]\n",
      "Saving results to DB [Marseille] (area_id: 3): 100%|██████████| 123/123 [00:09<00:00, 13.47it/s]\n"
     ]
    },
    {
     "name": "stdout",
     "output_type": "stream",
     "text": [
      "Hex cache size: 3504771 / 3504771 / 34\n",
      "Hex cache size: 3504771 / 3504771 / 34\n"
     ]
    },
    {
     "name": "stderr",
     "output_type": "stream",
     "text": [
      "Generating predictions [Marseille] (area_id: 4): 100%|██████████| 20/20 [00:00<00:00, 20.85it/s]\n",
      "Saving results to DB [Marseille] (area_id: 4): 100%|██████████| 54/54 [00:06<00:00,  8.63it/s]\n"
     ]
    },
    {
     "name": "stdout",
     "output_type": "stream",
     "text": [
      "Hex cache size: 3504771 / 3504771 / 34\n",
      "Hex cache size: 3504771 / 3504771 / 34\n"
     ]
    },
    {
     "name": "stderr",
     "output_type": "stream",
     "text": [
      "Generating predictions [Marseille] (area_id: 5): 100%|██████████| 20/20 [00:01<00:00, 11.62it/s]\n",
      "Saving results to DB [Marseille] (area_id: 5): 100%|██████████| 144/144 [00:10<00:00, 14.04it/s]\n"
     ]
    },
    {
     "name": "stdout",
     "output_type": "stream",
     "text": [
      "Hex cache size: 3504771 / 3504771 / 34\n",
      "Hex cache size: 3504771 / 3504771 / 34\n"
     ]
    },
    {
     "name": "stderr",
     "output_type": "stream",
     "text": [
      "Generating predictions [Marseille] (area_id: 6): 100%|██████████| 20/20 [00:01<00:00, 16.19it/s]\n",
      "Saving results to DB [Marseille] (area_id: 6): 100%|██████████| 71/71 [00:05<00:00, 12.77it/s]\n"
     ]
    },
    {
     "name": "stdout",
     "output_type": "stream",
     "text": [
      "Hex cache size: 3504771 / 3504771 / 34\n",
      "Hex cache size: 3504771 / 3504771 / 34\n"
     ]
    },
    {
     "name": "stderr",
     "output_type": "stream",
     "text": [
      "Generating predictions [Marseille] (area_id: 7): 100%|██████████| 20/20 [00:01<00:00, 16.42it/s]\n",
      "Saving results to DB [Marseille] (area_id: 7): 100%|██████████| 84/84 [00:05<00:00, 14.97it/s]\n"
     ]
    },
    {
     "name": "stdout",
     "output_type": "stream",
     "text": [
      "Hex cache size: 3504771 / 3504771 / 34\n",
      "Hex cache size: 3504771 / 3504771 / 34\n"
     ]
    },
    {
     "name": "stderr",
     "output_type": "stream",
     "text": [
      "Generating predictions [Marseille] (area_id: 8): 100%|██████████| 20/20 [00:00<00:00, 23.16it/s]\n",
      "Saving results to DB [Marseille] (area_id: 8): 100%|██████████| 50/50 [00:03<00:00, 14.04it/s]\n"
     ]
    },
    {
     "name": "stdout",
     "output_type": "stream",
     "text": [
      "Hex cache size: 3504771 / 3504771 / 34\n",
      "Hex cache size: 3504771 / 3504771 / 34\n"
     ]
    },
    {
     "name": "stderr",
     "output_type": "stream",
     "text": [
      "Generating predictions [Marseille] (area_id: 9): 100%|██████████| 20/20 [00:00<00:00, 23.25it/s]\n",
      "Saving results to DB [Marseille] (area_id: 9): 100%|██████████| 60/60 [00:06<00:00,  8.58it/s]\n"
     ]
    },
    {
     "name": "stdout",
     "output_type": "stream",
     "text": [
      "Hex cache size: 3504771 / 3504771 / 34\n",
      "Hex cache size: 3504771 / 3504771 / 34\n"
     ]
    },
    {
     "name": "stderr",
     "output_type": "stream",
     "text": [
      "Generating predictions [Marseille] (area_id: 10): 100%|██████████| 20/20 [00:01<00:00, 15.73it/s]\n",
      "Saving results to DB [Marseille] (area_id: 10): 100%|██████████| 65/65 [00:05<00:00, 10.90it/s]\n"
     ]
    },
    {
     "name": "stdout",
     "output_type": "stream",
     "text": [
      "Hex cache size: 3504771 / 3504771 / 34\n",
      "Hex cache size: 3504771 / 3504771 / 34\n"
     ]
    },
    {
     "name": "stderr",
     "output_type": "stream",
     "text": [
      "Generating predictions [Marseille] (area_id: 11): 100%|██████████| 20/20 [00:01<00:00, 16.31it/s]\n",
      "Saving results to DB [Marseille] (area_id: 11): 100%|██████████| 60/60 [00:04<00:00, 13.88it/s]\n"
     ]
    },
    {
     "name": "stdout",
     "output_type": "stream",
     "text": [
      "Hex cache size: 3504771 / 3504771 / 34\n",
      "Hex cache size: 3504771 / 3504771 / 34\n"
     ]
    },
    {
     "name": "stderr",
     "output_type": "stream",
     "text": [
      "Generating predictions [Marseille] (area_id: 12): 100%|██████████| 20/20 [00:02<00:00,  8.20it/s]\n",
      "Saving results to DB [Marseille] (area_id: 12): 100%|██████████| 153/153 [00:11<00:00, 12.87it/s]\n"
     ]
    },
    {
     "name": "stdout",
     "output_type": "stream",
     "text": [
      "Hex cache size: 3504771 / 3504771 / 34\n",
      "Hex cache size: 3504771 / 3504771 / 34\n"
     ]
    },
    {
     "name": "stderr",
     "output_type": "stream",
     "text": [
      "Generating predictions [Marseille] (area_id: 13): 100%|██████████| 20/20 [00:02<00:00,  8.65it/s]\n",
      "Saving results to DB [Marseille] (area_id: 13): 100%|██████████| 159/159 [00:11<00:00, 13.46it/s]\n"
     ]
    },
    {
     "name": "stdout",
     "output_type": "stream",
     "text": [
      "Hex cache size: 3504771 / 3504771 / 34\n",
      "Hex cache size: 3504771 / 3504771 / 34\n"
     ]
    },
    {
     "name": "stderr",
     "output_type": "stream",
     "text": [
      "Generating predictions [Marseille] (area_id: 14): 100%|██████████| 20/20 [00:01<00:00, 12.35it/s]\n",
      "Saving results to DB [Marseille] (area_id: 14): 100%|██████████| 111/111 [00:12<00:00,  8.54it/s]\n"
     ]
    },
    {
     "name": "stdout",
     "output_type": "stream",
     "text": [
      "Hex cache size: 3504771 / 3504771 / 34\n",
      "Hex cache size: 3504771 / 3504771 / 34\n"
     ]
    },
    {
     "name": "stderr",
     "output_type": "stream",
     "text": [
      "Generating predictions [Marseille] (area_id: 15): 100%|██████████| 20/20 [00:01<00:00, 14.54it/s]\n",
      "Saving results to DB [Marseille] (area_id: 15): 100%|██████████| 122/122 [00:08<00:00, 14.44it/s]\n"
     ]
    },
    {
     "name": "stdout",
     "output_type": "stream",
     "text": [
      "Hex cache size: 3504771 / 3504771 / 34\n",
      "Hex cache size: 3504771 / 3504771 / 34\n"
     ]
    },
    {
     "name": "stderr",
     "output_type": "stream",
     "text": [
      "Generating predictions [Marseille] (area_id: 16): 100%|██████████| 20/20 [00:00<00:00, 21.80it/s]\n",
      "Saving results to DB [Marseille] (area_id: 16): 100%|██████████| 59/59 [00:04<00:00, 14.02it/s]\n"
     ]
    },
    {
     "name": "stdout",
     "output_type": "stream",
     "text": [
      "Hex cache size: 3504771 / 3504771 / 34\n",
      "Hex cache size: 3504771 / 3504771 / 34\n"
     ]
    },
    {
     "name": "stderr",
     "output_type": "stream",
     "text": [
      "Generating predictions [Marseille] (area_id: 17): 100%|██████████| 20/20 [00:00<00:00, 30.28it/s]\n",
      "Saving results to DB [Marseille] (area_id: 17): 100%|██████████| 30/30 [00:01<00:00, 15.41it/s]\n"
     ]
    },
    {
     "name": "stdout",
     "output_type": "stream",
     "text": [
      "Hex cache size: 3504771 / 3504771 / 34\n",
      "Hex cache size: 3504771 / 3504771 / 34\n"
     ]
    },
    {
     "name": "stderr",
     "output_type": "stream",
     "text": [
      "Generating predictions [Marseille] (area_id: 18): 100%|██████████| 20/20 [00:01<00:00, 17.79it/s]\n",
      "Saving results to DB [Marseille] (area_id: 18): 100%|██████████| 63/63 [00:04<00:00, 14.11it/s]\n"
     ]
    },
    {
     "name": "stdout",
     "output_type": "stream",
     "text": [
      "Hex cache size: 3504771 / 3504771 / 34\n",
      "Hex cache size: 3504771 / 3504771 / 34\n"
     ]
    },
    {
     "name": "stderr",
     "output_type": "stream",
     "text": [
      "Generating predictions [Marseille] (area_id: 19): 100%|██████████| 20/20 [00:03<00:00,  5.28it/s]\n",
      "Saving results to DB [Marseille] (area_id: 19): 100%|██████████| 379/379 [00:35<00:00, 10.69it/s]\n"
     ]
    },
    {
     "name": "stdout",
     "output_type": "stream",
     "text": [
      "Hex cache size: 3504771 / 3504771 / 34\n",
      "Hex cache size: 3504771 / 3504771 / 34\n"
     ]
    },
    {
     "name": "stderr",
     "output_type": "stream",
     "text": [
      "Generating predictions [Marseille] (area_id: 20): 100%|██████████| 20/20 [00:03<00:00,  6.51it/s]\n",
      "Saving results to DB [Marseille] (area_id: 20): 100%|██████████| 295/295 [00:29<00:00, 10.16it/s]\n"
     ]
    },
    {
     "name": "stdout",
     "output_type": "stream",
     "text": [
      "Hex cache size: 3504771 / 3504771 / 34\n",
      "Hex cache size: 3504771 / 3504771 / 34\n"
     ]
    },
    {
     "name": "stderr",
     "output_type": "stream",
     "text": [
      "Generating predictions [Marseille] (area_id: 21): 100%|██████████| 20/20 [00:00<00:00, 25.47it/s]\n",
      "Saving results to DB [Marseille] (area_id: 21): 100%|██████████| 37/37 [00:02<00:00, 13.22it/s]\n"
     ]
    },
    {
     "name": "stdout",
     "output_type": "stream",
     "text": [
      "Hex cache size: 3504771 / 3504771 / 34\n",
      "Hex cache size: 3504771 / 3504771 / 34\n"
     ]
    },
    {
     "name": "stderr",
     "output_type": "stream",
     "text": [
      "Generating predictions [Marseille] (area_id: 22): 100%|██████████| 20/20 [00:00<00:00, 20.07it/s]\n",
      "Saving results to DB [Marseille] (area_id: 22): 100%|██████████| 54/54 [00:03<00:00, 14.29it/s]\n"
     ]
    },
    {
     "name": "stdout",
     "output_type": "stream",
     "text": [
      "Hex cache size: 3504771 / 3504771 / 34\n",
      "Hex cache size: 3504771 / 3504771 / 34\n"
     ]
    },
    {
     "name": "stderr",
     "output_type": "stream",
     "text": [
      "Generating predictions [Marseille] (area_id: 23): 100%|██████████| 20/20 [00:01<00:00, 13.39it/s]\n",
      "Saving results to DB [Marseille] (area_id: 23): 100%|██████████| 136/136 [00:14<00:00,  9.16it/s]\n"
     ]
    },
    {
     "name": "stdout",
     "output_type": "stream",
     "text": [
      "Hex cache size: 3504771 / 3504771 / 34\n",
      "Hex cache size: 3504771 / 3504771 / 34\n"
     ]
    },
    {
     "name": "stderr",
     "output_type": "stream",
     "text": [
      "Generating predictions [Marseille] (area_id: 24): 100%|██████████| 20/20 [00:02<00:00,  6.82it/s]\n",
      "Saving results to DB [Marseille] (area_id: 24): 100%|██████████| 265/265 [00:20<00:00, 13.22it/s]\n"
     ]
    },
    {
     "name": "stdout",
     "output_type": "stream",
     "text": [
      "Hex cache size: 3504771 / 3504771 / 34\n",
      "Hex cache size: 3504771 / 3504771 / 34\n"
     ]
    },
    {
     "name": "stderr",
     "output_type": "stream",
     "text": [
      "Generating predictions [Marseille] (area_id: 25): 100%|██████████| 20/20 [00:01<00:00, 15.58it/s]\n",
      "Saving results to DB [Marseille] (area_id: 25): 100%|██████████| 106/106 [00:13<00:00,  7.80it/s]\n"
     ]
    },
    {
     "name": "stdout",
     "output_type": "stream",
     "text": [
      "Hex cache size: 3504771 / 3504771 / 34\n",
      "Hex cache size: 3504771 / 3504771 / 34\n"
     ]
    },
    {
     "name": "stderr",
     "output_type": "stream",
     "text": [
      "Generating predictions [Marseille] (area_id: 26): 100%|██████████| 20/20 [00:01<00:00, 10.63it/s]\n",
      "Saving results to DB [Marseille] (area_id: 26): 100%|██████████| 152/152 [00:11<00:00, 13.74it/s]\n"
     ]
    },
    {
     "name": "stdout",
     "output_type": "stream",
     "text": [
      "Hex cache size: 3504771 / 3504771 / 34\n",
      "Hex cache size: 3504771 / 3504771 / 34\n"
     ]
    },
    {
     "name": "stderr",
     "output_type": "stream",
     "text": [
      "Generating predictions [Marseille] (area_id: 27): 100%|██████████| 20/20 [00:00<00:00, 23.98it/s]\n",
      "Saving results to DB [Marseille] (area_id: 27): 100%|██████████| 49/49 [00:03<00:00, 14.88it/s]\n"
     ]
    },
    {
     "name": "stdout",
     "output_type": "stream",
     "text": [
      "Hex cache size: 3504771 / 3504771 / 34\n",
      "Hex cache size: 3504771 / 3504771 / 34\n"
     ]
    },
    {
     "name": "stderr",
     "output_type": "stream",
     "text": [
      "Generating predictions [Marseille] (area_id: 28): 100%|██████████| 20/20 [00:00<00:00, 25.30it/s]\n",
      "Saving results to DB [Marseille] (area_id: 28): 100%|██████████| 53/53 [00:03<00:00, 14.75it/s]\n"
     ]
    },
    {
     "name": "stdout",
     "output_type": "stream",
     "text": [
      "Hex cache size: 3504771 / 3504771 / 34\n",
      "Hex cache size: 3504771 / 3504771 / 34\n"
     ]
    },
    {
     "name": "stderr",
     "output_type": "stream",
     "text": [
      "Generating predictions [Marseille] (area_id: 29): 100%|██████████| 20/20 [00:00<00:00, 28.45it/s]\n",
      "Saving results to DB [Marseille] (area_id: 29): 100%|██████████| 34/34 [00:02<00:00, 15.60it/s]\n"
     ]
    },
    {
     "name": "stdout",
     "output_type": "stream",
     "text": [
      "Hex cache size: 3504771 / 3504771 / 34\n",
      "Hex cache size: 3504771 / 3504771 / 34\n"
     ]
    },
    {
     "name": "stderr",
     "output_type": "stream",
     "text": [
      "Generating predictions [Marseille] (area_id: 30): 100%|██████████| 20/20 [00:00<00:00, 22.21it/s]\n",
      "Saving results to DB [Marseille] (area_id: 30): 100%|██████████| 50/50 [00:03<00:00, 14.65it/s]\n"
     ]
    },
    {
     "name": "stdout",
     "output_type": "stream",
     "text": [
      "Hex cache size: 3504771 / 3504771 / 34\n",
      "Hex cache size: 3504771 / 3504771 / 34\n"
     ]
    },
    {
     "name": "stderr",
     "output_type": "stream",
     "text": [
      "Generating predictions [Marseille] (area_id: 31): 100%|██████████| 20/20 [00:01<00:00, 10.39it/s]\n",
      "Saving results to DB [Marseille] (area_id: 31): 100%|██████████| 174/174 [00:12<00:00, 13.97it/s]\n"
     ]
    },
    {
     "name": "stdout",
     "output_type": "stream",
     "text": [
      "Hex cache size: 3504771 / 3504771 / 34\n",
      "Hex cache size: 3504771 / 3504771 / 34\n"
     ]
    },
    {
     "name": "stderr",
     "output_type": "stream",
     "text": [
      "Generating predictions [Marseille] (area_id: 32): 100%|██████████| 20/20 [00:01<00:00, 11.36it/s]\n",
      "Saving results to DB [Marseille] (area_id: 32): 100%|██████████| 127/127 [00:09<00:00, 14.09it/s]\n"
     ]
    },
    {
     "name": "stdout",
     "output_type": "stream",
     "text": [
      "Hex cache size: 3504771 / 3504771 / 34\n",
      "Hex cache size: 3504771 / 3504771 / 34\n"
     ]
    },
    {
     "name": "stderr",
     "output_type": "stream",
     "text": [
      "Generating predictions [Marseille] (area_id: 33): 100%|██████████| 20/20 [00:00<00:00, 30.87it/s]\n",
      "Saving results to DB [Marseille] (area_id: 33): 100%|██████████| 33/33 [00:02<00:00, 15.00it/s]\n"
     ]
    },
    {
     "name": "stdout",
     "output_type": "stream",
     "text": [
      "Hex cache size: 3504771 / 3504771 / 34\n",
      "Hex cache size: 3504771 / 3504771 / 34\n"
     ]
    },
    {
     "name": "stderr",
     "output_type": "stream",
     "text": [
      "Generating predictions [Marseille] (area_id: 34): 100%|██████████| 20/20 [00:01<00:00, 19.23it/s]\n",
      "Saving results to DB [Marseille] (area_id: 34): 100%|██████████| 71/71 [00:06<00:00, 10.32it/s]\n"
     ]
    },
    {
     "name": "stdout",
     "output_type": "stream",
     "text": [
      "Hex cache size: 3504771 / 3504771 / 34\n",
      "Hex cache size: 3504771 / 3504771 / 34\n"
     ]
    },
    {
     "name": "stderr",
     "output_type": "stream",
     "text": [
      "Generating predictions [Milan] (area_id: 1): 100%|██████████| 20/20 [00:29<00:00,  1.45s/it]\n",
      "Saving results to DB [Milan] (area_id: 1): 100%|██████████| 57/57 [00:03<00:00, 15.10it/s]\n"
     ]
    },
    {
     "name": "stdout",
     "output_type": "stream",
     "text": [
      "Hex cache size: 3504771 / 3504771 / 34\n",
      "Hex cache size: 3504771 / 3504771 / 34\n"
     ]
    },
    {
     "name": "stderr",
     "output_type": "stream",
     "text": [
      "Generating predictions [Milan] (area_id: 2): 100%|██████████| 20/20 [00:00<00:00, 20.04it/s]\n",
      "Saving results to DB [Milan] (area_id: 2): 100%|██████████| 43/43 [00:03<00:00, 14.24it/s]\n"
     ]
    },
    {
     "name": "stdout",
     "output_type": "stream",
     "text": [
      "Hex cache size: 3504771 / 3504771 / 34\n",
      "Hex cache size: 3504771 / 3504771 / 34\n"
     ]
    },
    {
     "name": "stderr",
     "output_type": "stream",
     "text": [
      "Generating predictions [Milan] (area_id: 3): 100%|██████████| 20/20 [00:01<00:00, 11.53it/s]\n",
      "Saving results to DB [Milan] (area_id: 3): 100%|██████████| 123/123 [00:08<00:00, 13.80it/s]\n"
     ]
    },
    {
     "name": "stdout",
     "output_type": "stream",
     "text": [
      "Hex cache size: 3504771 / 3504771 / 34\n",
      "Hex cache size: 3504771 / 3504771 / 34\n"
     ]
    },
    {
     "name": "stderr",
     "output_type": "stream",
     "text": [
      "Generating predictions [Milan] (area_id: 4): 100%|██████████| 20/20 [00:00<00:00, 21.91it/s]\n",
      "Saving results to DB [Milan] (area_id: 4): 100%|██████████| 54/54 [00:03<00:00, 14.68it/s]\n"
     ]
    },
    {
     "name": "stdout",
     "output_type": "stream",
     "text": [
      "Hex cache size: 3504771 / 3504771 / 34\n",
      "Hex cache size: 3504771 / 3504771 / 34\n"
     ]
    },
    {
     "name": "stderr",
     "output_type": "stream",
     "text": [
      "Generating predictions [Milan] (area_id: 5): 100%|██████████| 20/20 [00:01<00:00, 11.23it/s]\n",
      "Saving results to DB [Milan] (area_id: 5): 100%|██████████| 144/144 [00:12<00:00, 11.78it/s]\n"
     ]
    },
    {
     "name": "stdout",
     "output_type": "stream",
     "text": [
      "Hex cache size: 3504771 / 3504771 / 34\n",
      "Hex cache size: 3504771 / 3504771 / 34\n"
     ]
    },
    {
     "name": "stderr",
     "output_type": "stream",
     "text": [
      "Generating predictions [Milan] (area_id: 6): 100%|██████████| 20/20 [00:01<00:00, 15.64it/s]\n",
      "Saving results to DB [Milan] (area_id: 6): 100%|██████████| 71/71 [00:04<00:00, 14.26it/s]\n"
     ]
    },
    {
     "name": "stdout",
     "output_type": "stream",
     "text": [
      "Hex cache size: 3504771 / 3504771 / 34\n",
      "Hex cache size: 3504771 / 3504771 / 34\n"
     ]
    },
    {
     "name": "stderr",
     "output_type": "stream",
     "text": [
      "Generating predictions [Milan] (area_id: 7): 100%|██████████| 20/20 [00:01<00:00, 15.88it/s]\n",
      "Saving results to DB [Milan] (area_id: 7): 100%|██████████| 84/84 [00:06<00:00, 13.23it/s]\n"
     ]
    },
    {
     "name": "stdout",
     "output_type": "stream",
     "text": [
      "Hex cache size: 3504771 / 3504771 / 34\n",
      "Hex cache size: 3504771 / 3504771 / 34\n"
     ]
    },
    {
     "name": "stderr",
     "output_type": "stream",
     "text": [
      "Generating predictions [Milan] (area_id: 8): 100%|██████████| 20/20 [00:01<00:00, 19.34it/s]\n",
      "Saving results to DB [Milan] (area_id: 8): 100%|██████████| 50/50 [00:03<00:00, 13.98it/s]\n"
     ]
    },
    {
     "name": "stdout",
     "output_type": "stream",
     "text": [
      "Hex cache size: 3504771 / 3504771 / 34\n",
      "Hex cache size: 3504771 / 3504771 / 34\n"
     ]
    },
    {
     "name": "stderr",
     "output_type": "stream",
     "text": [
      "Generating predictions [Milan] (area_id: 9): 100%|██████████| 20/20 [00:01<00:00, 18.23it/s]\n",
      "Saving results to DB [Milan] (area_id: 9): 100%|██████████| 60/60 [00:04<00:00, 13.79it/s]\n"
     ]
    },
    {
     "name": "stdout",
     "output_type": "stream",
     "text": [
      "Hex cache size: 3504771 / 3504771 / 34\n",
      "Hex cache size: 3504771 / 3504771 / 34\n"
     ]
    },
    {
     "name": "stderr",
     "output_type": "stream",
     "text": [
      "Generating predictions [Milan] (area_id: 10): 100%|██████████| 20/20 [00:01<00:00, 16.30it/s]\n",
      "Saving results to DB [Milan] (area_id: 10): 100%|██████████| 65/65 [00:04<00:00, 15.01it/s]\n"
     ]
    },
    {
     "name": "stdout",
     "output_type": "stream",
     "text": [
      "Hex cache size: 3504771 / 3504771 / 34\n",
      "Hex cache size: 3504771 / 3504771 / 34\n"
     ]
    },
    {
     "name": "stderr",
     "output_type": "stream",
     "text": [
      "Generating predictions [Milan] (area_id: 11): 100%|██████████| 20/20 [00:01<00:00, 17.19it/s]\n",
      "Saving results to DB [Milan] (area_id: 11): 100%|██████████| 60/60 [00:06<00:00,  9.88it/s]\n"
     ]
    },
    {
     "name": "stdout",
     "output_type": "stream",
     "text": [
      "Hex cache size: 3504771 / 3504771 / 34\n",
      "Hex cache size: 3504771 / 3504771 / 34\n"
     ]
    },
    {
     "name": "stderr",
     "output_type": "stream",
     "text": [
      "Generating predictions [Milan] (area_id: 12): 100%|██████████| 20/20 [00:02<00:00,  9.81it/s]\n",
      "Saving results to DB [Milan] (area_id: 12): 100%|██████████| 153/153 [00:11<00:00, 13.35it/s]\n"
     ]
    },
    {
     "name": "stdout",
     "output_type": "stream",
     "text": [
      "Hex cache size: 3504771 / 3504771 / 34\n",
      "Hex cache size: 3504771 / 3504771 / 34\n"
     ]
    },
    {
     "name": "stderr",
     "output_type": "stream",
     "text": [
      "Generating predictions [Milan] (area_id: 13): 100%|██████████| 20/20 [00:01<00:00, 10.69it/s]\n",
      "Saving results to DB [Milan] (area_id: 13): 100%|██████████| 159/159 [00:13<00:00, 11.99it/s]\n"
     ]
    },
    {
     "name": "stdout",
     "output_type": "stream",
     "text": [
      "Hex cache size: 3504771 / 3504771 / 34\n",
      "Hex cache size: 3504771 / 3504771 / 34\n"
     ]
    },
    {
     "name": "stderr",
     "output_type": "stream",
     "text": [
      "Generating predictions [Milan] (area_id: 14): 100%|██████████| 20/20 [00:01<00:00, 12.13it/s]\n",
      "Saving results to DB [Milan] (area_id: 14): 100%|██████████| 111/111 [00:07<00:00, 14.08it/s]\n"
     ]
    },
    {
     "name": "stdout",
     "output_type": "stream",
     "text": [
      "Hex cache size: 3504771 / 3504771 / 34\n",
      "Hex cache size: 3504771 / 3504771 / 34\n"
     ]
    },
    {
     "name": "stderr",
     "output_type": "stream",
     "text": [
      "Generating predictions [Milan] (area_id: 15): 100%|██████████| 20/20 [00:01<00:00, 11.15it/s]\n",
      "Saving results to DB [Milan] (area_id: 15): 100%|██████████| 122/122 [00:08<00:00, 13.71it/s]\n"
     ]
    },
    {
     "name": "stdout",
     "output_type": "stream",
     "text": [
      "Hex cache size: 3504771 / 3504771 / 34\n",
      "Hex cache size: 3504771 / 3504771 / 34\n"
     ]
    },
    {
     "name": "stderr",
     "output_type": "stream",
     "text": [
      "Generating predictions [Milan] (area_id: 16): 100%|██████████| 20/20 [00:01<00:00, 16.70it/s]\n",
      "Saving results to DB [Milan] (area_id: 16): 100%|██████████| 59/59 [00:04<00:00, 14.32it/s]\n"
     ]
    },
    {
     "name": "stdout",
     "output_type": "stream",
     "text": [
      "Hex cache size: 3504771 / 3504771 / 34\n",
      "Hex cache size: 3504771 / 3504771 / 34\n"
     ]
    },
    {
     "name": "stderr",
     "output_type": "stream",
     "text": [
      "Generating predictions [Milan] (area_id: 17): 100%|██████████| 20/20 [00:00<00:00, 25.43it/s]\n",
      "Saving results to DB [Milan] (area_id: 17): 100%|██████████| 30/30 [00:02<00:00, 10.51it/s]\n"
     ]
    },
    {
     "name": "stdout",
     "output_type": "stream",
     "text": [
      "Hex cache size: 3504771 / 3504771 / 34\n",
      "Hex cache size: 3504771 / 3504771 / 34\n"
     ]
    },
    {
     "name": "stderr",
     "output_type": "stream",
     "text": [
      "Generating predictions [Milan] (area_id: 18): 100%|██████████| 20/20 [00:01<00:00, 14.84it/s]\n",
      "Saving results to DB [Milan] (area_id: 18): 100%|██████████| 63/63 [00:04<00:00, 12.99it/s]\n"
     ]
    },
    {
     "name": "stdout",
     "output_type": "stream",
     "text": [
      "Hex cache size: 3504771 / 3504771 / 34\n",
      "Hex cache size: 3504771 / 3504771 / 34\n"
     ]
    },
    {
     "name": "stderr",
     "output_type": "stream",
     "text": [
      "Generating predictions [Milan] (area_id: 19): 100%|██████████| 20/20 [00:04<00:00,  4.77it/s]\n",
      "Saving results to DB [Milan] (area_id: 19): 100%|██████████| 379/379 [00:34<00:00, 11.01it/s]\n"
     ]
    },
    {
     "name": "stdout",
     "output_type": "stream",
     "text": [
      "Hex cache size: 3504771 / 3504771 / 34\n",
      "Hex cache size: 3504771 / 3504771 / 34\n"
     ]
    },
    {
     "name": "stderr",
     "output_type": "stream",
     "text": [
      "Generating predictions [Milan] (area_id: 20): 100%|██████████| 20/20 [00:03<00:00,  6.26it/s]\n",
      "Saving results to DB [Milan] (area_id: 20): 100%|██████████| 295/295 [00:28<00:00, 10.21it/s]\n"
     ]
    },
    {
     "name": "stdout",
     "output_type": "stream",
     "text": [
      "Hex cache size: 3504771 / 3504771 / 34\n",
      "Hex cache size: 3504771 / 3504771 / 34\n"
     ]
    },
    {
     "name": "stderr",
     "output_type": "stream",
     "text": [
      "Generating predictions [Milan] (area_id: 21): 100%|██████████| 20/20 [00:00<00:00, 20.28it/s]\n",
      "Saving results to DB [Milan] (area_id: 21): 100%|██████████| 37/37 [00:02<00:00, 14.88it/s]\n"
     ]
    },
    {
     "name": "stdout",
     "output_type": "stream",
     "text": [
      "Hex cache size: 3504771 / 3504771 / 34\n",
      "Hex cache size: 3504771 / 3504771 / 34\n"
     ]
    },
    {
     "name": "stderr",
     "output_type": "stream",
     "text": [
      "Generating predictions [Milan] (area_id: 22): 100%|██████████| 20/20 [00:01<00:00, 18.77it/s]\n",
      "Saving results to DB [Milan] (area_id: 22): 100%|██████████| 54/54 [00:03<00:00, 13.78it/s]\n"
     ]
    },
    {
     "name": "stdout",
     "output_type": "stream",
     "text": [
      "Hex cache size: 3504771 / 3504771 / 34\n",
      "Hex cache size: 3504771 / 3504771 / 34\n"
     ]
    },
    {
     "name": "stderr",
     "output_type": "stream",
     "text": [
      "Generating predictions [Milan] (area_id: 23): 100%|██████████| 20/20 [00:01<00:00, 11.27it/s]\n",
      "Saving results to DB [Milan] (area_id: 23): 100%|██████████| 136/136 [00:15<00:00,  8.77it/s]\n"
     ]
    },
    {
     "name": "stdout",
     "output_type": "stream",
     "text": [
      "Hex cache size: 3504771 / 3504771 / 34\n",
      "Hex cache size: 3504771 / 3504771 / 34\n"
     ]
    },
    {
     "name": "stderr",
     "output_type": "stream",
     "text": [
      "Generating predictions [Milan] (area_id: 24): 100%|██████████| 20/20 [00:03<00:00,  5.80it/s]\n",
      "Saving results to DB [Milan] (area_id: 24): 100%|██████████| 265/265 [00:21<00:00, 12.39it/s]\n"
     ]
    },
    {
     "name": "stdout",
     "output_type": "stream",
     "text": [
      "Hex cache size: 3504771 / 3504771 / 34\n",
      "Hex cache size: 3504771 / 3504771 / 34\n"
     ]
    },
    {
     "name": "stderr",
     "output_type": "stream",
     "text": [
      "Generating predictions [Milan] (area_id: 25): 100%|██████████| 20/20 [00:01<00:00, 13.73it/s]\n",
      "Saving results to DB [Milan] (area_id: 25): 100%|██████████| 106/106 [00:12<00:00,  8.25it/s]\n"
     ]
    },
    {
     "name": "stdout",
     "output_type": "stream",
     "text": [
      "Hex cache size: 3504771 / 3504771 / 34\n",
      "Hex cache size: 3504771 / 3504771 / 34\n"
     ]
    },
    {
     "name": "stderr",
     "output_type": "stream",
     "text": [
      "Generating predictions [Milan] (area_id: 26): 100%|██████████| 20/20 [00:02<00:00,  9.64it/s]\n",
      "Saving results to DB [Milan] (area_id: 26): 100%|██████████| 152/152 [00:11<00:00, 13.80it/s]\n"
     ]
    },
    {
     "name": "stdout",
     "output_type": "stream",
     "text": [
      "Hex cache size: 3504771 / 3504771 / 34\n",
      "Hex cache size: 3504771 / 3504771 / 34\n"
     ]
    },
    {
     "name": "stderr",
     "output_type": "stream",
     "text": [
      "Generating predictions [Milan] (area_id: 27): 100%|██████████| 20/20 [00:00<00:00, 24.87it/s]\n",
      "Saving results to DB [Milan] (area_id: 27): 100%|██████████| 49/49 [00:03<00:00, 14.82it/s]\n"
     ]
    },
    {
     "name": "stdout",
     "output_type": "stream",
     "text": [
      "Hex cache size: 3504771 / 3504771 / 34\n",
      "Hex cache size: 3504771 / 3504771 / 34\n"
     ]
    },
    {
     "name": "stderr",
     "output_type": "stream",
     "text": [
      "Generating predictions [Milan] (area_id: 28): 100%|██████████| 20/20 [00:01<00:00, 19.24it/s]\n",
      "Saving results to DB [Milan] (area_id: 28): 100%|██████████| 53/53 [00:03<00:00, 14.84it/s]\n"
     ]
    },
    {
     "name": "stdout",
     "output_type": "stream",
     "text": [
      "Hex cache size: 3504771 / 3504771 / 34\n",
      "Hex cache size: 3504771 / 3504771 / 34\n"
     ]
    },
    {
     "name": "stderr",
     "output_type": "stream",
     "text": [
      "Generating predictions [Milan] (area_id: 29): 100%|██████████| 20/20 [00:00<00:00, 26.79it/s]\n",
      "Saving results to DB [Milan] (area_id: 29): 100%|██████████| 34/34 [00:03<00:00, 10.18it/s]\n"
     ]
    },
    {
     "name": "stdout",
     "output_type": "stream",
     "text": [
      "Hex cache size: 3504771 / 3504771 / 34\n",
      "Hex cache size: 3504771 / 3504771 / 34\n"
     ]
    },
    {
     "name": "stderr",
     "output_type": "stream",
     "text": [
      "Generating predictions [Milan] (area_id: 30): 100%|██████████| 20/20 [00:00<00:00, 22.25it/s]\n",
      "Saving results to DB [Milan] (area_id: 30): 100%|██████████| 50/50 [00:03<00:00, 13.88it/s]\n"
     ]
    },
    {
     "name": "stdout",
     "output_type": "stream",
     "text": [
      "Hex cache size: 3504771 / 3504771 / 34\n",
      "Hex cache size: 3504771 / 3504771 / 34\n"
     ]
    },
    {
     "name": "stderr",
     "output_type": "stream",
     "text": [
      "Generating predictions [Milan] (area_id: 31): 100%|██████████| 20/20 [00:02<00:00,  9.29it/s]\n",
      "Saving results to DB [Milan] (area_id: 31): 100%|██████████| 174/174 [00:12<00:00, 14.37it/s]\n"
     ]
    },
    {
     "name": "stdout",
     "output_type": "stream",
     "text": [
      "Hex cache size: 3504771 / 3504771 / 34\n",
      "Hex cache size: 3504771 / 3504771 / 34\n"
     ]
    },
    {
     "name": "stderr",
     "output_type": "stream",
     "text": [
      "Generating predictions [Milan] (area_id: 32): 100%|██████████| 20/20 [00:01<00:00, 11.22it/s]\n",
      "Saving results to DB [Milan] (area_id: 32): 100%|██████████| 127/127 [00:09<00:00, 12.79it/s]\n"
     ]
    },
    {
     "name": "stdout",
     "output_type": "stream",
     "text": [
      "Hex cache size: 3504771 / 3504771 / 34\n",
      "Hex cache size: 3504771 / 3504771 / 34\n"
     ]
    },
    {
     "name": "stderr",
     "output_type": "stream",
     "text": [
      "Generating predictions [Milan] (area_id: 33): 100%|██████████| 20/20 [00:00<00:00, 27.42it/s]\n",
      "Saving results to DB [Milan] (area_id: 33): 100%|██████████| 33/33 [00:02<00:00, 14.56it/s]\n"
     ]
    },
    {
     "name": "stdout",
     "output_type": "stream",
     "text": [
      "Hex cache size: 3504771 / 3504771 / 34\n",
      "Hex cache size: 3504771 / 3504771 / 34\n"
     ]
    },
    {
     "name": "stderr",
     "output_type": "stream",
     "text": [
      "Generating predictions [Milan] (area_id: 34): 100%|██████████| 20/20 [00:01<00:00, 16.43it/s]\n",
      "Saving results to DB [Milan] (area_id: 34): 100%|██████████| 71/71 [00:05<00:00, 14.18it/s]\n"
     ]
    },
    {
     "name": "stdout",
     "output_type": "stream",
     "text": [
      "Hex cache size: 3504771 / 3504771 / 34\n",
      "Hex cache size: 3504771 / 3504771 / 34\n"
     ]
    },
    {
     "name": "stderr",
     "output_type": "stream",
     "text": [
      "Generating predictions [Moscow] (area_id: 1): 100%|██████████| 20/20 [00:41<00:00,  2.07s/it]\n",
      "Saving results to DB [Moscow] (area_id: 1): 100%|██████████| 57/57 [00:04<00:00, 13.88it/s]\n"
     ]
    },
    {
     "name": "stdout",
     "output_type": "stream",
     "text": [
      "Hex cache size: 3504771 / 3504771 / 34\n",
      "Hex cache size: 3504771 / 3504771 / 34\n"
     ]
    },
    {
     "name": "stderr",
     "output_type": "stream",
     "text": [
      "Generating predictions [Moscow] (area_id: 2): 100%|██████████| 20/20 [00:01<00:00, 18.77it/s]\n",
      "Saving results to DB [Moscow] (area_id: 2): 100%|██████████| 43/43 [00:03<00:00, 14.05it/s]\n"
     ]
    },
    {
     "name": "stdout",
     "output_type": "stream",
     "text": [
      "Hex cache size: 3504771 / 3504771 / 34\n",
      "Hex cache size: 3504771 / 3504771 / 34\n"
     ]
    },
    {
     "name": "stderr",
     "output_type": "stream",
     "text": [
      "Generating predictions [Moscow] (area_id: 3): 100%|██████████| 20/20 [00:01<00:00, 10.53it/s]\n",
      "Saving results to DB [Moscow] (area_id: 3): 100%|██████████| 123/123 [00:08<00:00, 15.16it/s]\n"
     ]
    },
    {
     "name": "stdout",
     "output_type": "stream",
     "text": [
      "Hex cache size: 3504771 / 3504771 / 34\n",
      "Hex cache size: 3504771 / 3504771 / 34\n"
     ]
    },
    {
     "name": "stderr",
     "output_type": "stream",
     "text": [
      "Generating predictions [Moscow] (area_id: 4): 100%|██████████| 20/20 [00:01<00:00, 19.46it/s]\n",
      "Saving results to DB [Moscow] (area_id: 4): 100%|██████████| 54/54 [00:03<00:00, 13.51it/s]\n"
     ]
    },
    {
     "name": "stdout",
     "output_type": "stream",
     "text": [
      "Hex cache size: 3504771 / 3504771 / 34\n",
      "Hex cache size: 3504771 / 3504771 / 34\n"
     ]
    },
    {
     "name": "stderr",
     "output_type": "stream",
     "text": [
      "Generating predictions [Moscow] (area_id: 5): 100%|██████████| 20/20 [00:01<00:00, 10.37it/s]\n",
      "Saving results to DB [Moscow] (area_id: 5): 100%|██████████| 144/144 [00:09<00:00, 14.95it/s]\n"
     ]
    },
    {
     "name": "stdout",
     "output_type": "stream",
     "text": [
      "Hex cache size: 3504771 / 3504771 / 34\n",
      "Hex cache size: 3504771 / 3504771 / 34\n"
     ]
    },
    {
     "name": "stderr",
     "output_type": "stream",
     "text": [
      "Generating predictions [Moscow] (area_id: 6): 100%|██████████| 20/20 [00:01<00:00, 16.05it/s]\n",
      "Saving results to DB [Moscow] (area_id: 6): 100%|██████████| 71/71 [00:05<00:00, 13.45it/s]\n"
     ]
    },
    {
     "name": "stdout",
     "output_type": "stream",
     "text": [
      "Hex cache size: 3504771 / 3504771 / 34\n",
      "Hex cache size: 3504771 / 3504771 / 34\n"
     ]
    },
    {
     "name": "stderr",
     "output_type": "stream",
     "text": [
      "Generating predictions [Moscow] (area_id: 7): 100%|██████████| 20/20 [00:01<00:00, 15.42it/s]\n",
      "Saving results to DB [Moscow] (area_id: 7): 100%|██████████| 84/84 [00:05<00:00, 14.54it/s]\n"
     ]
    },
    {
     "name": "stdout",
     "output_type": "stream",
     "text": [
      "Hex cache size: 3504771 / 3504771 / 34\n",
      "Hex cache size: 3504771 / 3504771 / 34\n"
     ]
    },
    {
     "name": "stderr",
     "output_type": "stream",
     "text": [
      "Generating predictions [Moscow] (area_id: 8): 100%|██████████| 20/20 [00:01<00:00, 16.03it/s]\n",
      "Saving results to DB [Moscow] (area_id: 8): 100%|██████████| 50/50 [00:03<00:00, 13.55it/s]\n"
     ]
    },
    {
     "name": "stdout",
     "output_type": "stream",
     "text": [
      "Hex cache size: 3504771 / 3504771 / 34\n",
      "Hex cache size: 3504771 / 3504771 / 34\n"
     ]
    },
    {
     "name": "stderr",
     "output_type": "stream",
     "text": [
      "Generating predictions [Moscow] (area_id: 9): 100%|██████████| 20/20 [00:01<00:00, 17.99it/s]\n",
      "Saving results to DB [Moscow] (area_id: 9): 100%|██████████| 60/60 [00:06<00:00,  9.55it/s]\n"
     ]
    },
    {
     "name": "stdout",
     "output_type": "stream",
     "text": [
      "Hex cache size: 3504771 / 3504771 / 34\n",
      "Hex cache size: 3504771 / 3504771 / 34\n"
     ]
    },
    {
     "name": "stderr",
     "output_type": "stream",
     "text": [
      "Generating predictions [Moscow] (area_id: 10): 100%|██████████| 20/20 [00:01<00:00, 17.21it/s]\n",
      "Saving results to DB [Moscow] (area_id: 10): 100%|██████████| 65/65 [00:04<00:00, 14.36it/s]\n"
     ]
    },
    {
     "name": "stdout",
     "output_type": "stream",
     "text": [
      "Hex cache size: 3504771 / 3504771 / 34\n",
      "Hex cache size: 3504771 / 3504771 / 34\n"
     ]
    },
    {
     "name": "stderr",
     "output_type": "stream",
     "text": [
      "Generating predictions [Moscow] (area_id: 11): 100%|██████████| 20/20 [00:01<00:00, 19.67it/s]\n",
      "Saving results to DB [Moscow] (area_id: 11): 100%|██████████| 60/60 [00:03<00:00, 15.32it/s]\n"
     ]
    },
    {
     "name": "stdout",
     "output_type": "stream",
     "text": [
      "Hex cache size: 3504771 / 3504771 / 34\n",
      "Hex cache size: 3504771 / 3504771 / 34\n"
     ]
    },
    {
     "name": "stderr",
     "output_type": "stream",
     "text": [
      "Generating predictions [Moscow] (area_id: 12): 100%|██████████| 20/20 [00:01<00:00, 10.60it/s]\n",
      "Saving results to DB [Moscow] (area_id: 12): 100%|██████████| 153/153 [00:11<00:00, 13.46it/s]\n"
     ]
    },
    {
     "name": "stdout",
     "output_type": "stream",
     "text": [
      "Hex cache size: 3504771 / 3504771 / 34\n",
      "Hex cache size: 3504771 / 3504771 / 34\n"
     ]
    },
    {
     "name": "stderr",
     "output_type": "stream",
     "text": [
      "Generating predictions [Moscow] (area_id: 13): 100%|██████████| 20/20 [00:01<00:00, 10.20it/s]\n",
      "Saving results to DB [Moscow] (area_id: 13): 100%|██████████| 159/159 [00:11<00:00, 14.14it/s]\n"
     ]
    },
    {
     "name": "stdout",
     "output_type": "stream",
     "text": [
      "Hex cache size: 3504771 / 3504771 / 34\n",
      "Hex cache size: 3504771 / 3504771 / 34\n"
     ]
    },
    {
     "name": "stderr",
     "output_type": "stream",
     "text": [
      "Generating predictions [Moscow] (area_id: 14): 100%|██████████| 20/20 [00:02<00:00,  9.31it/s]\n",
      "Saving results to DB [Moscow] (area_id: 14): 100%|██████████| 111/111 [00:11<00:00,  9.66it/s]\n"
     ]
    },
    {
     "name": "stdout",
     "output_type": "stream",
     "text": [
      "Hex cache size: 3504771 / 3504771 / 34\n",
      "Hex cache size: 3504771 / 3504771 / 34\n"
     ]
    },
    {
     "name": "stderr",
     "output_type": "stream",
     "text": [
      "Generating predictions [Moscow] (area_id: 15): 100%|██████████| 20/20 [00:02<00:00,  9.16it/s]\n",
      "Saving results to DB [Moscow] (area_id: 15): 100%|██████████| 122/122 [00:08<00:00, 14.42it/s]\n"
     ]
    },
    {
     "name": "stdout",
     "output_type": "stream",
     "text": [
      "Hex cache size: 3504771 / 3504771 / 34\n",
      "Hex cache size: 3504771 / 3504771 / 34\n"
     ]
    },
    {
     "name": "stderr",
     "output_type": "stream",
     "text": [
      "Generating predictions [Moscow] (area_id: 16): 100%|██████████| 20/20 [00:01<00:00, 15.03it/s]\n",
      "Saving results to DB [Moscow] (area_id: 16): 100%|██████████| 59/59 [00:04<00:00, 14.41it/s]\n"
     ]
    },
    {
     "name": "stdout",
     "output_type": "stream",
     "text": [
      "Hex cache size: 3504771 / 3504771 / 34\n",
      "Hex cache size: 3504771 / 3504771 / 34\n"
     ]
    },
    {
     "name": "stderr",
     "output_type": "stream",
     "text": [
      "Generating predictions [Moscow] (area_id: 17): 100%|██████████| 20/20 [00:01<00:00, 18.82it/s]\n",
      "Saving results to DB [Moscow] (area_id: 17): 100%|██████████| 30/30 [00:02<00:00, 13.02it/s]\n"
     ]
    },
    {
     "name": "stdout",
     "output_type": "stream",
     "text": [
      "Hex cache size: 3504771 / 3504771 / 34\n",
      "Hex cache size: 3504771 / 3504771 / 34\n"
     ]
    },
    {
     "name": "stderr",
     "output_type": "stream",
     "text": [
      "Generating predictions [Moscow] (area_id: 18): 100%|██████████| 20/20 [00:01<00:00, 13.62it/s]\n",
      "Saving results to DB [Moscow] (area_id: 18): 100%|██████████| 63/63 [00:09<00:00,  6.72it/s]\n"
     ]
    },
    {
     "name": "stdout",
     "output_type": "stream",
     "text": [
      "Hex cache size: 3504771 / 3504771 / 34\n",
      "Hex cache size: 3504771 / 3504771 / 34\n"
     ]
    },
    {
     "name": "stderr",
     "output_type": "stream",
     "text": [
      "Generating predictions [Moscow] (area_id: 19): 100%|██████████| 20/20 [00:04<00:00,  4.83it/s]\n",
      "Saving results to DB [Moscow] (area_id: 19): 100%|██████████| 379/379 [00:31<00:00, 11.91it/s]\n"
     ]
    },
    {
     "name": "stdout",
     "output_type": "stream",
     "text": [
      "Hex cache size: 3504771 / 3504771 / 34\n",
      "Hex cache size: 3504771 / 3504771 / 34\n"
     ]
    },
    {
     "name": "stderr",
     "output_type": "stream",
     "text": [
      "Generating predictions [Moscow] (area_id: 20): 100%|██████████| 20/20 [00:03<00:00,  6.12it/s]\n",
      "Saving results to DB [Moscow] (area_id: 20): 100%|██████████| 295/295 [00:28<00:00, 10.18it/s]\n"
     ]
    },
    {
     "name": "stdout",
     "output_type": "stream",
     "text": [
      "Hex cache size: 3504771 / 3504771 / 34\n",
      "Hex cache size: 3504771 / 3504771 / 34\n"
     ]
    },
    {
     "name": "stderr",
     "output_type": "stream",
     "text": [
      "Generating predictions [Moscow] (area_id: 21): 100%|██████████| 20/20 [00:01<00:00, 17.14it/s]\n",
      "Saving results to DB [Moscow] (area_id: 21): 100%|██████████| 37/37 [00:02<00:00, 12.58it/s]\n"
     ]
    },
    {
     "name": "stdout",
     "output_type": "stream",
     "text": [
      "Hex cache size: 3504771 / 3504771 / 34\n",
      "Hex cache size: 3504771 / 3504771 / 34\n"
     ]
    },
    {
     "name": "stderr",
     "output_type": "stream",
     "text": [
      "Generating predictions [Moscow] (area_id: 22): 100%|██████████| 20/20 [00:01<00:00, 18.45it/s]\n",
      "Saving results to DB [Moscow] (area_id: 22): 100%|██████████| 54/54 [00:03<00:00, 13.78it/s]\n"
     ]
    },
    {
     "name": "stdout",
     "output_type": "stream",
     "text": [
      "Hex cache size: 3504771 / 3504771 / 34\n",
      "Hex cache size: 3504771 / 3504771 / 34\n"
     ]
    },
    {
     "name": "stderr",
     "output_type": "stream",
     "text": [
      "Generating predictions [Moscow] (area_id: 23): 100%|██████████| 20/20 [00:01<00:00, 10.39it/s]\n",
      "Saving results to DB [Moscow] (area_id: 23): 100%|██████████| 136/136 [00:15<00:00,  8.78it/s]\n"
     ]
    },
    {
     "name": "stdout",
     "output_type": "stream",
     "text": [
      "Hex cache size: 3504771 / 3504771 / 34\n",
      "Hex cache size: 3504771 / 3504771 / 34\n"
     ]
    },
    {
     "name": "stderr",
     "output_type": "stream",
     "text": [
      "Generating predictions [Moscow] (area_id: 24): 100%|██████████| 20/20 [00:03<00:00,  5.95it/s]\n",
      "Saving results to DB [Moscow] (area_id: 24): 100%|██████████| 265/265 [00:19<00:00, 13.28it/s]\n"
     ]
    },
    {
     "name": "stdout",
     "output_type": "stream",
     "text": [
      "Hex cache size: 3504771 / 3504771 / 34\n",
      "Hex cache size: 3504771 / 3504771 / 34\n"
     ]
    },
    {
     "name": "stderr",
     "output_type": "stream",
     "text": [
      "Generating predictions [Moscow] (area_id: 25): 100%|██████████| 20/20 [00:01<00:00, 11.62it/s]\n",
      "Saving results to DB [Moscow] (area_id: 25): 100%|██████████| 106/106 [00:07<00:00, 14.84it/s]\n"
     ]
    },
    {
     "name": "stdout",
     "output_type": "stream",
     "text": [
      "Hex cache size: 3504771 / 3504771 / 34\n",
      "Hex cache size: 3504771 / 3504771 / 34\n"
     ]
    },
    {
     "name": "stderr",
     "output_type": "stream",
     "text": [
      "Generating predictions [Moscow] (area_id: 26): 100%|██████████| 20/20 [00:02<00:00,  9.56it/s]\n",
      "Saving results to DB [Moscow] (area_id: 26): 100%|██████████| 152/152 [00:11<00:00, 13.33it/s]\n"
     ]
    },
    {
     "name": "stdout",
     "output_type": "stream",
     "text": [
      "Hex cache size: 3504771 / 3504771 / 34\n",
      "Hex cache size: 3504771 / 3504771 / 34\n"
     ]
    },
    {
     "name": "stderr",
     "output_type": "stream",
     "text": [
      "Generating predictions [Moscow] (area_id: 27): 100%|██████████| 20/20 [00:01<00:00, 18.57it/s]\n",
      "Saving results to DB [Moscow] (area_id: 27): 100%|██████████| 49/49 [00:08<00:00,  6.08it/s]\n"
     ]
    },
    {
     "name": "stdout",
     "output_type": "stream",
     "text": [
      "Hex cache size: 3504771 / 3504771 / 34\n",
      "Hex cache size: 3504771 / 3504771 / 34\n"
     ]
    },
    {
     "name": "stderr",
     "output_type": "stream",
     "text": [
      "Generating predictions [Moscow] (area_id: 28): 100%|██████████| 20/20 [00:00<00:00, 20.56it/s]\n",
      "Saving results to DB [Moscow] (area_id: 28): 100%|██████████| 53/53 [00:03<00:00, 13.27it/s]\n"
     ]
    },
    {
     "name": "stdout",
     "output_type": "stream",
     "text": [
      "Hex cache size: 3504771 / 3504771 / 34\n",
      "Hex cache size: 3504771 / 3504771 / 34\n"
     ]
    },
    {
     "name": "stderr",
     "output_type": "stream",
     "text": [
      "Generating predictions [Moscow] (area_id: 29): 100%|██████████| 20/20 [00:00<00:00, 20.24it/s]\n",
      "Saving results to DB [Moscow] (area_id: 29): 100%|██████████| 34/34 [00:02<00:00, 13.32it/s]\n"
     ]
    },
    {
     "name": "stdout",
     "output_type": "stream",
     "text": [
      "Hex cache size: 3504771 / 3504771 / 34\n",
      "Hex cache size: 3504771 / 3504771 / 34\n"
     ]
    },
    {
     "name": "stderr",
     "output_type": "stream",
     "text": [
      "Generating predictions [Moscow] (area_id: 30): 100%|██████████| 20/20 [00:01<00:00, 19.04it/s]\n",
      "Saving results to DB [Moscow] (area_id: 30): 100%|██████████| 50/50 [00:03<00:00, 14.32it/s]\n"
     ]
    },
    {
     "name": "stdout",
     "output_type": "stream",
     "text": [
      "Hex cache size: 3504771 / 3504771 / 34\n",
      "Hex cache size: 3504771 / 3504771 / 34\n"
     ]
    },
    {
     "name": "stderr",
     "output_type": "stream",
     "text": [
      "Generating predictions [Moscow] (area_id: 31): 100%|██████████| 20/20 [00:02<00:00,  8.53it/s]\n",
      "Saving results to DB [Moscow] (area_id: 31): 100%|██████████| 174/174 [00:12<00:00, 14.00it/s]\n"
     ]
    },
    {
     "name": "stdout",
     "output_type": "stream",
     "text": [
      "Hex cache size: 3504771 / 3504771 / 34\n",
      "Hex cache size: 3504771 / 3504771 / 34\n"
     ]
    },
    {
     "name": "stderr",
     "output_type": "stream",
     "text": [
      "Generating predictions [Moscow] (area_id: 32): 100%|██████████| 20/20 [00:02<00:00,  8.77it/s]\n",
      "Saving results to DB [Moscow] (area_id: 32): 100%|██████████| 127/127 [00:12<00:00, 10.20it/s]\n"
     ]
    },
    {
     "name": "stdout",
     "output_type": "stream",
     "text": [
      "Hex cache size: 3504771 / 3504771 / 34\n",
      "Hex cache size: 3504771 / 3504771 / 34\n"
     ]
    },
    {
     "name": "stderr",
     "output_type": "stream",
     "text": [
      "Generating predictions [Moscow] (area_id: 33): 100%|██████████| 20/20 [00:00<00:00, 20.75it/s]\n",
      "Saving results to DB [Moscow] (area_id: 33): 100%|██████████| 33/33 [00:02<00:00, 14.15it/s]\n"
     ]
    },
    {
     "name": "stdout",
     "output_type": "stream",
     "text": [
      "Hex cache size: 3504771 / 3504771 / 34\n",
      "Hex cache size: 3504771 / 3504771 / 34\n"
     ]
    },
    {
     "name": "stderr",
     "output_type": "stream",
     "text": [
      "Generating predictions [Moscow] (area_id: 34): 100%|██████████| 20/20 [00:01<00:00, 15.71it/s]\n",
      "Saving results to DB [Moscow] (area_id: 34): 100%|██████████| 71/71 [00:04<00:00, 14.70it/s]\n"
     ]
    },
    {
     "name": "stdout",
     "output_type": "stream",
     "text": [
      "Hex cache size: 3504771 / 3504771 / 34\n",
      "Hex cache size: 3504771 / 3504771 / 34\n"
     ]
    },
    {
     "name": "stderr",
     "output_type": "stream",
     "text": [
      "Generating predictions [Munich] (area_id: 1): 100%|██████████| 20/20 [00:36<00:00,  1.84s/it]\n",
      "Saving results to DB [Munich] (area_id: 1): 100%|██████████| 57/57 [00:04<00:00, 13.97it/s]\n"
     ]
    },
    {
     "name": "stdout",
     "output_type": "stream",
     "text": [
      "Hex cache size: 3504771 / 3504771 / 34\n",
      "Hex cache size: 3504771 / 3504771 / 34\n"
     ]
    },
    {
     "name": "stderr",
     "output_type": "stream",
     "text": [
      "Generating predictions [Munich] (area_id: 2): 100%|██████████| 20/20 [00:01<00:00, 18.94it/s]\n",
      "Saving results to DB [Munich] (area_id: 2): 100%|██████████| 43/43 [00:03<00:00, 12.84it/s]\n"
     ]
    },
    {
     "name": "stdout",
     "output_type": "stream",
     "text": [
      "Hex cache size: 3504771 / 3504771 / 34\n",
      "Hex cache size: 3504771 / 3504771 / 34\n"
     ]
    },
    {
     "name": "stderr",
     "output_type": "stream",
     "text": [
      "Generating predictions [Munich] (area_id: 3): 100%|██████████| 20/20 [00:02<00:00,  8.20it/s]\n",
      "Saving results to DB [Munich] (area_id: 3): 100%|██████████| 123/123 [00:10<00:00, 11.65it/s]\n"
     ]
    },
    {
     "name": "stdout",
     "output_type": "stream",
     "text": [
      "Hex cache size: 3504771 / 3504771 / 34\n",
      "Hex cache size: 3504771 / 3504771 / 34\n"
     ]
    },
    {
     "name": "stderr",
     "output_type": "stream",
     "text": [
      "Generating predictions [Munich] (area_id: 4): 100%|██████████| 20/20 [00:01<00:00, 16.26it/s]\n",
      "Saving results to DB [Munich] (area_id: 4): 100%|██████████| 54/54 [00:04<00:00, 13.42it/s]\n"
     ]
    },
    {
     "name": "stdout",
     "output_type": "stream",
     "text": [
      "Hex cache size: 3504771 / 3504771 / 34\n",
      "Hex cache size: 3504771 / 3504771 / 34\n"
     ]
    },
    {
     "name": "stderr",
     "output_type": "stream",
     "text": [
      "Generating predictions [Munich] (area_id: 5): 100%|██████████| 20/20 [00:02<00:00,  9.67it/s]\n",
      "Saving results to DB [Munich] (area_id: 5): 100%|██████████| 144/144 [00:11<00:00, 13.05it/s]\n"
     ]
    },
    {
     "name": "stdout",
     "output_type": "stream",
     "text": [
      "Hex cache size: 3504771 / 3504771 / 34\n",
      "Hex cache size: 3504771 / 3504771 / 34\n"
     ]
    },
    {
     "name": "stderr",
     "output_type": "stream",
     "text": [
      "Generating predictions [Munich] (area_id: 6): 100%|██████████| 20/20 [00:01<00:00, 13.75it/s]\n",
      "Saving results to DB [Munich] (area_id: 6): 100%|██████████| 71/71 [00:06<00:00, 11.66it/s]\n"
     ]
    },
    {
     "name": "stdout",
     "output_type": "stream",
     "text": [
      "Hex cache size: 3504771 / 3504771 / 34\n",
      "Hex cache size: 3504771 / 3504771 / 34\n"
     ]
    },
    {
     "name": "stderr",
     "output_type": "stream",
     "text": [
      "Generating predictions [Munich] (area_id: 7): 100%|██████████| 20/20 [00:01<00:00, 11.25it/s]\n",
      "Saving results to DB [Munich] (area_id: 7): 100%|██████████| 84/84 [00:06<00:00, 13.08it/s]\n"
     ]
    },
    {
     "name": "stdout",
     "output_type": "stream",
     "text": [
      "Hex cache size: 3504771 / 3504771 / 34\n",
      "Hex cache size: 3504771 / 3504771 / 34\n"
     ]
    },
    {
     "name": "stderr",
     "output_type": "stream",
     "text": [
      "Generating predictions [Munich] (area_id: 8): 100%|██████████| 20/20 [00:01<00:00, 13.80it/s]\n",
      "Saving results to DB [Munich] (area_id: 8): 100%|██████████| 50/50 [00:04<00:00, 10.15it/s]\n"
     ]
    },
    {
     "name": "stdout",
     "output_type": "stream",
     "text": [
      "Hex cache size: 3504771 / 3504771 / 34\n",
      "Hex cache size: 3504771 / 3504771 / 34\n"
     ]
    },
    {
     "name": "stderr",
     "output_type": "stream",
     "text": [
      "Generating predictions [Munich] (area_id: 9): 100%|██████████| 20/20 [00:01<00:00, 13.77it/s]\n",
      "Saving results to DB [Munich] (area_id: 9): 100%|██████████| 60/60 [00:04<00:00, 13.77it/s]\n"
     ]
    },
    {
     "name": "stdout",
     "output_type": "stream",
     "text": [
      "Hex cache size: 3504771 / 3504771 / 34\n",
      "Hex cache size: 3504771 / 3504771 / 34\n"
     ]
    },
    {
     "name": "stderr",
     "output_type": "stream",
     "text": [
      "Generating predictions [Munich] (area_id: 10): 100%|██████████| 20/20 [00:01<00:00, 12.94it/s]\n",
      "Saving results to DB [Munich] (area_id: 10): 100%|██████████| 65/65 [00:05<00:00, 12.88it/s]\n"
     ]
    },
    {
     "name": "stdout",
     "output_type": "stream",
     "text": [
      "Hex cache size: 3504771 / 3504771 / 34\n",
      "Hex cache size: 3504771 / 3504771 / 34\n"
     ]
    },
    {
     "name": "stderr",
     "output_type": "stream",
     "text": [
      "Generating predictions [Munich] (area_id: 11): 100%|██████████| 20/20 [00:01<00:00, 18.29it/s]\n",
      "Saving results to DB [Munich] (area_id: 11): 100%|██████████| 60/60 [00:04<00:00, 13.57it/s]\n"
     ]
    },
    {
     "name": "stdout",
     "output_type": "stream",
     "text": [
      "Hex cache size: 3504771 / 3504771 / 34\n",
      "Hex cache size: 3504771 / 3504771 / 34\n"
     ]
    },
    {
     "name": "stderr",
     "output_type": "stream",
     "text": [
      "Generating predictions [Munich] (area_id: 12): 100%|██████████| 20/20 [00:02<00:00,  8.51it/s]\n",
      "Saving results to DB [Munich] (area_id: 12): 100%|██████████| 153/153 [00:11<00:00, 13.39it/s]\n"
     ]
    },
    {
     "name": "stdout",
     "output_type": "stream",
     "text": [
      "Hex cache size: 3504771 / 3504771 / 34\n",
      "Hex cache size: 3504771 / 3504771 / 34\n"
     ]
    },
    {
     "name": "stderr",
     "output_type": "stream",
     "text": [
      "Generating predictions [Munich] (area_id: 13): 100%|██████████| 20/20 [00:02<00:00,  8.96it/s]\n",
      "Saving results to DB [Munich] (area_id: 13): 100%|██████████| 159/159 [00:14<00:00, 11.32it/s]\n"
     ]
    },
    {
     "name": "stdout",
     "output_type": "stream",
     "text": [
      "Hex cache size: 3504771 / 3504771 / 34\n",
      "Hex cache size: 3504771 / 3504771 / 34\n"
     ]
    },
    {
     "name": "stderr",
     "output_type": "stream",
     "text": [
      "Generating predictions [Munich] (area_id: 14): 100%|██████████| 20/20 [00:01<00:00, 11.40it/s]\n",
      "Saving results to DB [Munich] (area_id: 14): 100%|██████████| 111/111 [00:08<00:00, 13.20it/s]\n"
     ]
    },
    {
     "name": "stdout",
     "output_type": "stream",
     "text": [
      "Hex cache size: 3504771 / 3504771 / 34\n",
      "Hex cache size: 3504771 / 3504771 / 34\n"
     ]
    },
    {
     "name": "stderr",
     "output_type": "stream",
     "text": [
      "Generating predictions [Munich] (area_id: 15): 100%|██████████| 20/20 [00:01<00:00, 10.99it/s]\n",
      "Saving results to DB [Munich] (area_id: 15): 100%|██████████| 122/122 [00:09<00:00, 12.64it/s]\n"
     ]
    },
    {
     "name": "stdout",
     "output_type": "stream",
     "text": [
      "Hex cache size: 3504771 / 3504771 / 34\n",
      "Hex cache size: 3504771 / 3504771 / 34\n"
     ]
    },
    {
     "name": "stderr",
     "output_type": "stream",
     "text": [
      "Generating predictions [Munich] (area_id: 16): 100%|██████████| 20/20 [00:01<00:00, 17.19it/s]\n",
      "Saving results to DB [Munich] (area_id: 16): 100%|██████████| 59/59 [00:04<00:00, 13.98it/s]\n"
     ]
    },
    {
     "name": "stdout",
     "output_type": "stream",
     "text": [
      "Hex cache size: 3504771 / 3504771 / 34\n",
      "Hex cache size: 3504771 / 3504771 / 34\n"
     ]
    },
    {
     "name": "stderr",
     "output_type": "stream",
     "text": [
      "Generating predictions [Munich] (area_id: 17): 100%|██████████| 20/20 [00:00<00:00, 22.35it/s]\n",
      "Saving results to DB [Munich] (area_id: 17): 100%|██████████| 30/30 [00:02<00:00, 13.07it/s]\n"
     ]
    },
    {
     "name": "stdout",
     "output_type": "stream",
     "text": [
      "Hex cache size: 3504771 / 3504771 / 34\n",
      "Hex cache size: 3504771 / 3504771 / 34\n"
     ]
    },
    {
     "name": "stderr",
     "output_type": "stream",
     "text": [
      "Generating predictions [Munich] (area_id: 18): 100%|██████████| 20/20 [00:01<00:00, 15.74it/s]\n",
      "Saving results to DB [Munich] (area_id: 18): 100%|██████████| 63/63 [00:04<00:00, 14.23it/s]\n"
     ]
    },
    {
     "name": "stdout",
     "output_type": "stream",
     "text": [
      "Hex cache size: 3504771 / 3504771 / 34\n",
      "Hex cache size: 3504771 / 3504771 / 34\n"
     ]
    },
    {
     "name": "stderr",
     "output_type": "stream",
     "text": [
      "Generating predictions [Munich] (area_id: 19): 100%|██████████| 20/20 [00:04<00:00,  4.34it/s]\n",
      "Saving results to DB [Munich] (area_id: 19): 100%|██████████| 379/379 [00:32<00:00, 11.49it/s]\n"
     ]
    },
    {
     "name": "stdout",
     "output_type": "stream",
     "text": [
      "Hex cache size: 3504771 / 3504771 / 34\n",
      "Hex cache size: 3504771 / 3504771 / 34\n"
     ]
    },
    {
     "name": "stderr",
     "output_type": "stream",
     "text": [
      "Generating predictions [Munich] (area_id: 20): 100%|██████████| 20/20 [00:03<00:00,  5.26it/s]\n",
      "Saving results to DB [Munich] (area_id: 20): 100%|██████████| 295/295 [00:22<00:00, 12.83it/s]\n"
     ]
    },
    {
     "name": "stdout",
     "output_type": "stream",
     "text": [
      "Hex cache size: 3504771 / 3504771 / 34\n",
      "Hex cache size: 3504771 / 3504771 / 34\n"
     ]
    },
    {
     "name": "stderr",
     "output_type": "stream",
     "text": [
      "Generating predictions [Munich] (area_id: 21): 100%|██████████| 20/20 [00:00<00:00, 21.54it/s]\n",
      "Saving results to DB [Munich] (area_id: 21): 100%|██████████| 37/37 [00:03<00:00, 11.19it/s]\n"
     ]
    },
    {
     "name": "stdout",
     "output_type": "stream",
     "text": [
      "Hex cache size: 3504771 / 3504771 / 34\n",
      "Hex cache size: 3504771 / 3504771 / 34\n"
     ]
    },
    {
     "name": "stderr",
     "output_type": "stream",
     "text": [
      "Generating predictions [Munich] (area_id: 22): 100%|██████████| 20/20 [00:01<00:00, 18.87it/s]\n",
      "Saving results to DB [Munich] (area_id: 22): 100%|██████████| 54/54 [00:03<00:00, 13.52it/s]\n"
     ]
    },
    {
     "name": "stdout",
     "output_type": "stream",
     "text": [
      "Hex cache size: 3504771 / 3504771 / 34\n",
      "Hex cache size: 3504771 / 3504771 / 34\n"
     ]
    },
    {
     "name": "stderr",
     "output_type": "stream",
     "text": [
      "Generating predictions [Munich] (area_id: 23): 100%|██████████| 20/20 [00:01<00:00, 10.50it/s]\n",
      "Saving results to DB [Munich] (area_id: 23): 100%|██████████| 136/136 [00:09<00:00, 13.75it/s]\n"
     ]
    },
    {
     "name": "stdout",
     "output_type": "stream",
     "text": [
      "Hex cache size: 3504771 / 3504771 / 34\n",
      "Hex cache size: 3504771 / 3504771 / 34\n"
     ]
    },
    {
     "name": "stderr",
     "output_type": "stream",
     "text": [
      "Generating predictions [Munich] (area_id: 24): 100%|██████████| 20/20 [00:03<00:00,  5.93it/s]\n",
      "Saving results to DB [Munich] (area_id: 24): 100%|██████████| 265/265 [00:25<00:00, 10.34it/s]\n"
     ]
    },
    {
     "name": "stdout",
     "output_type": "stream",
     "text": [
      "Hex cache size: 3504771 / 3504771 / 34\n",
      "Hex cache size: 3504771 / 3504771 / 34\n"
     ]
    },
    {
     "name": "stderr",
     "output_type": "stream",
     "text": [
      "Generating predictions [Munich] (area_id: 25): 100%|██████████| 20/20 [00:01<00:00, 10.96it/s]\n",
      "Saving results to DB [Munich] (area_id: 25): 100%|██████████| 106/106 [00:08<00:00, 12.96it/s]\n"
     ]
    },
    {
     "name": "stdout",
     "output_type": "stream",
     "text": [
      "Hex cache size: 3504771 / 3504771 / 34\n",
      "Hex cache size: 3504771 / 3504771 / 34\n"
     ]
    },
    {
     "name": "stderr",
     "output_type": "stream",
     "text": [
      "Generating predictions [Munich] (area_id: 26): 100%|██████████| 20/20 [00:02<00:00,  9.60it/s]\n",
      "Saving results to DB [Munich] (area_id: 26): 100%|██████████| 152/152 [00:11<00:00, 13.64it/s]\n"
     ]
    },
    {
     "name": "stdout",
     "output_type": "stream",
     "text": [
      "Hex cache size: 3504771 / 3504771 / 34\n",
      "Hex cache size: 3504771 / 3504771 / 34\n"
     ]
    },
    {
     "name": "stderr",
     "output_type": "stream",
     "text": [
      "Generating predictions [Munich] (area_id: 27): 100%|██████████| 20/20 [00:01<00:00, 19.13it/s]\n",
      "Saving results to DB [Munich] (area_id: 27): 100%|██████████| 49/49 [00:03<00:00, 13.32it/s]\n"
     ]
    },
    {
     "name": "stdout",
     "output_type": "stream",
     "text": [
      "Hex cache size: 3504771 / 3504771 / 34\n",
      "Hex cache size: 3504771 / 3504771 / 34\n"
     ]
    },
    {
     "name": "stderr",
     "output_type": "stream",
     "text": [
      "Generating predictions [Munich] (area_id: 28): 100%|██████████| 20/20 [00:01<00:00, 19.49it/s]\n",
      "Saving results to DB [Munich] (area_id: 28): 100%|██████████| 53/53 [00:03<00:00, 13.32it/s]\n"
     ]
    },
    {
     "name": "stdout",
     "output_type": "stream",
     "text": [
      "Hex cache size: 3504771 / 3504771 / 34\n",
      "Hex cache size: 3504771 / 3504771 / 34\n"
     ]
    },
    {
     "name": "stderr",
     "output_type": "stream",
     "text": [
      "Generating predictions [Munich] (area_id: 29): 100%|██████████| 20/20 [00:00<00:00, 24.34it/s]\n",
      "Saving results to DB [Munich] (area_id: 29): 100%|██████████| 34/34 [00:02<00:00, 13.33it/s]\n"
     ]
    },
    {
     "name": "stdout",
     "output_type": "stream",
     "text": [
      "Hex cache size: 3504771 / 3504771 / 34\n",
      "Hex cache size: 3504771 / 3504771 / 34\n"
     ]
    },
    {
     "name": "stderr",
     "output_type": "stream",
     "text": [
      "Generating predictions [Munich] (area_id: 30): 100%|██████████| 20/20 [00:00<00:00, 20.64it/s]\n",
      "Saving results to DB [Munich] (area_id: 30): 100%|██████████| 50/50 [00:03<00:00, 13.39it/s]\n"
     ]
    },
    {
     "name": "stdout",
     "output_type": "stream",
     "text": [
      "Hex cache size: 3504771 / 3504771 / 34\n",
      "Hex cache size: 3504771 / 3504771 / 34\n"
     ]
    },
    {
     "name": "stderr",
     "output_type": "stream",
     "text": [
      "Generating predictions [Munich] (area_id: 31): 100%|██████████| 20/20 [00:02<00:00,  7.66it/s]\n",
      "Saving results to DB [Munich] (area_id: 31): 100%|██████████| 174/174 [00:18<00:00,  9.39it/s]\n"
     ]
    },
    {
     "name": "stdout",
     "output_type": "stream",
     "text": [
      "Hex cache size: 3504771 / 3504771 / 34\n",
      "Hex cache size: 3504771 / 3504771 / 34\n"
     ]
    },
    {
     "name": "stderr",
     "output_type": "stream",
     "text": [
      "Generating predictions [Munich] (area_id: 32): 100%|██████████| 20/20 [00:02<00:00,  9.65it/s]\n",
      "Saving results to DB [Munich] (area_id: 32): 100%|██████████| 127/127 [00:09<00:00, 13.07it/s]\n"
     ]
    },
    {
     "name": "stdout",
     "output_type": "stream",
     "text": [
      "Hex cache size: 3504771 / 3504771 / 34\n",
      "Hex cache size: 3504771 / 3504771 / 34\n"
     ]
    },
    {
     "name": "stderr",
     "output_type": "stream",
     "text": [
      "Generating predictions [Munich] (area_id: 33): 100%|██████████| 20/20 [00:00<00:00, 22.60it/s]\n",
      "Saving results to DB [Munich] (area_id: 33): 100%|██████████| 33/33 [00:02<00:00, 13.65it/s]\n"
     ]
    },
    {
     "name": "stdout",
     "output_type": "stream",
     "text": [
      "Hex cache size: 3504771 / 3504771 / 34\n",
      "Hex cache size: 3504771 / 3504771 / 34\n"
     ]
    },
    {
     "name": "stderr",
     "output_type": "stream",
     "text": [
      "Generating predictions [Munich] (area_id: 34): 100%|██████████| 20/20 [00:01<00:00, 15.42it/s]\n",
      "Saving results to DB [Munich] (area_id: 34): 100%|██████████| 71/71 [00:05<00:00, 12.38it/s]\n"
     ]
    },
    {
     "name": "stdout",
     "output_type": "stream",
     "text": [
      "Hex cache size: 3504771 / 3504771 / 34\n",
      "Hex cache size: 3504771 / 3504771 / 34\n"
     ]
    },
    {
     "name": "stderr",
     "output_type": "stream",
     "text": [
      "Generating predictions [Nantes] (area_id: 1): 100%|██████████| 20/20 [00:36<00:00,  1.84s/it]\n",
      "Saving results to DB [Nantes] (area_id: 1): 100%|██████████| 57/57 [00:04<00:00, 11.61it/s]\n"
     ]
    },
    {
     "name": "stdout",
     "output_type": "stream",
     "text": [
      "Hex cache size: 3504771 / 3504771 / 34\n",
      "Hex cache size: 3504771 / 3504771 / 34\n"
     ]
    },
    {
     "name": "stderr",
     "output_type": "stream",
     "text": [
      "Generating predictions [Nantes] (area_id: 2): 100%|██████████| 20/20 [00:00<00:00, 20.77it/s]\n",
      "Saving results to DB [Nantes] (area_id: 2): 100%|██████████| 43/43 [00:03<00:00, 13.10it/s]\n"
     ]
    },
    {
     "name": "stdout",
     "output_type": "stream",
     "text": [
      "Hex cache size: 3504771 / 3504771 / 34\n",
      "Hex cache size: 3504771 / 3504771 / 34\n"
     ]
    },
    {
     "name": "stderr",
     "output_type": "stream",
     "text": [
      "Generating predictions [Nantes] (area_id: 3): 100%|██████████| 20/20 [00:01<00:00, 11.61it/s]\n",
      "Saving results to DB [Nantes] (area_id: 3): 100%|██████████| 123/123 [00:16<00:00,  7.55it/s]\n"
     ]
    },
    {
     "name": "stdout",
     "output_type": "stream",
     "text": [
      "Hex cache size: 3504771 / 3504771 / 34\n",
      "Hex cache size: 3504771 / 3504771 / 34\n"
     ]
    },
    {
     "name": "stderr",
     "output_type": "stream",
     "text": [
      "Generating predictions [Nantes] (area_id: 4): 100%|██████████| 20/20 [00:00<00:00, 20.84it/s]\n",
      "Saving results to DB [Nantes] (area_id: 4): 100%|██████████| 54/54 [00:04<00:00, 11.56it/s]\n"
     ]
    },
    {
     "name": "stdout",
     "output_type": "stream",
     "text": [
      "Hex cache size: 3504771 / 3504771 / 34\n",
      "Hex cache size: 3504771 / 3504771 / 34\n"
     ]
    },
    {
     "name": "stderr",
     "output_type": "stream",
     "text": [
      "Generating predictions [Nantes] (area_id: 5): 100%|██████████| 20/20 [00:01<00:00, 10.58it/s]\n",
      "Saving results to DB [Nantes] (area_id: 5): 100%|██████████| 144/144 [00:16<00:00,  8.66it/s]\n"
     ]
    },
    {
     "name": "stdout",
     "output_type": "stream",
     "text": [
      "Hex cache size: 3504771 / 3504771 / 34\n",
      "Hex cache size: 3504771 / 3504771 / 34\n"
     ]
    },
    {
     "name": "stderr",
     "output_type": "stream",
     "text": [
      "Generating predictions [Nantes] (area_id: 6): 100%|██████████| 20/20 [00:01<00:00, 18.19it/s]\n",
      "Saving results to DB [Nantes] (area_id: 6): 100%|██████████| 71/71 [00:05<00:00, 12.42it/s]\n"
     ]
    },
    {
     "name": "stdout",
     "output_type": "stream",
     "text": [
      "Hex cache size: 3504771 / 3504771 / 34\n",
      "Hex cache size: 3504771 / 3504771 / 34\n"
     ]
    },
    {
     "name": "stderr",
     "output_type": "stream",
     "text": [
      "Generating predictions [Nantes] (area_id: 7): 100%|██████████| 20/20 [00:01<00:00, 14.96it/s]\n",
      "Saving results to DB [Nantes] (area_id: 7): 100%|██████████| 84/84 [00:07<00:00, 11.53it/s]\n"
     ]
    },
    {
     "name": "stdout",
     "output_type": "stream",
     "text": [
      "Hex cache size: 3504771 / 3504771 / 34\n",
      "Hex cache size: 3504771 / 3504771 / 34\n"
     ]
    },
    {
     "name": "stderr",
     "output_type": "stream",
     "text": [
      "Generating predictions [Nantes] (area_id: 8): 100%|██████████| 20/20 [00:01<00:00, 18.76it/s]\n",
      "Saving results to DB [Nantes] (area_id: 8): 100%|██████████| 50/50 [00:04<00:00, 11.18it/s]\n"
     ]
    },
    {
     "name": "stdout",
     "output_type": "stream",
     "text": [
      "Hex cache size: 3504771 / 3504771 / 34\n",
      "Hex cache size: 3504771 / 3504771 / 34\n"
     ]
    },
    {
     "name": "stderr",
     "output_type": "stream",
     "text": [
      "Generating predictions [Nantes] (area_id: 9): 100%|██████████| 20/20 [00:01<00:00, 19.12it/s]\n",
      "Saving results to DB [Nantes] (area_id: 9): 100%|██████████| 60/60 [00:05<00:00, 11.59it/s]\n"
     ]
    },
    {
     "name": "stdout",
     "output_type": "stream",
     "text": [
      "Hex cache size: 3504771 / 3504771 / 34\n",
      "Hex cache size: 3504771 / 3504771 / 34\n"
     ]
    },
    {
     "name": "stderr",
     "output_type": "stream",
     "text": [
      "Generating predictions [Nantes] (area_id: 10): 100%|██████████| 20/20 [00:01<00:00, 18.25it/s]\n",
      "Saving results to DB [Nantes] (area_id: 10): 100%|██████████| 65/65 [00:11<00:00,  5.49it/s]\n"
     ]
    },
    {
     "name": "stdout",
     "output_type": "stream",
     "text": [
      "Hex cache size: 3504771 / 3504771 / 34\n",
      "Hex cache size: 3504771 / 3504771 / 34\n"
     ]
    },
    {
     "name": "stderr",
     "output_type": "stream",
     "text": [
      "Generating predictions [Nantes] (area_id: 11): 100%|██████████| 20/20 [00:00<00:00, 20.37it/s]\n",
      "Saving results to DB [Nantes] (area_id: 11): 100%|██████████| 60/60 [00:05<00:00, 11.71it/s]\n"
     ]
    },
    {
     "name": "stdout",
     "output_type": "stream",
     "text": [
      "Hex cache size: 3504771 / 3504771 / 34\n",
      "Hex cache size: 3504771 / 3504771 / 34\n"
     ]
    },
    {
     "name": "stderr",
     "output_type": "stream",
     "text": [
      "Generating predictions [Nantes] (area_id: 12): 100%|██████████| 20/20 [00:01<00:00, 11.70it/s]\n",
      "Saving results to DB [Nantes] (area_id: 12): 100%|██████████| 153/153 [00:12<00:00, 12.46it/s]\n"
     ]
    },
    {
     "name": "stdout",
     "output_type": "stream",
     "text": [
      "Hex cache size: 3504771 / 3504771 / 34\n",
      "Hex cache size: 3504771 / 3504771 / 34\n"
     ]
    },
    {
     "name": "stderr",
     "output_type": "stream",
     "text": [
      "Generating predictions [Nantes] (area_id: 13): 100%|██████████| 20/20 [00:01<00:00, 11.42it/s]\n",
      "Saving results to DB [Nantes] (area_id: 13): 100%|██████████| 159/159 [00:15<00:00, 10.33it/s]\n"
     ]
    },
    {
     "name": "stdout",
     "output_type": "stream",
     "text": [
      "Hex cache size: 3504771 / 3504771 / 34\n",
      "Hex cache size: 3504771 / 3504771 / 34\n"
     ]
    },
    {
     "name": "stderr",
     "output_type": "stream",
     "text": [
      "Generating predictions [Nantes] (area_id: 14): 100%|██████████| 20/20 [00:01<00:00, 14.33it/s]\n",
      "Saving results to DB [Nantes] (area_id: 14): 100%|██████████| 111/111 [00:08<00:00, 12.96it/s]\n"
     ]
    },
    {
     "name": "stdout",
     "output_type": "stream",
     "text": [
      "Hex cache size: 3504771 / 3504771 / 34\n",
      "Hex cache size: 3504771 / 3504771 / 34\n"
     ]
    },
    {
     "name": "stderr",
     "output_type": "stream",
     "text": [
      "Generating predictions [Nantes] (area_id: 15): 100%|██████████| 20/20 [00:01<00:00, 14.01it/s]\n",
      "Saving results to DB [Nantes] (area_id: 15): 100%|██████████| 122/122 [00:15<00:00,  7.87it/s]\n"
     ]
    },
    {
     "name": "stdout",
     "output_type": "stream",
     "text": [
      "Hex cache size: 3504771 / 3504771 / 34\n",
      "Hex cache size: 3504771 / 3504771 / 34\n"
     ]
    },
    {
     "name": "stderr",
     "output_type": "stream",
     "text": [
      "Generating predictions [Nantes] (area_id: 16): 100%|██████████| 20/20 [00:01<00:00, 16.91it/s]\n",
      "Saving results to DB [Nantes] (area_id: 16): 100%|██████████| 59/59 [00:05<00:00, 11.44it/s]\n"
     ]
    },
    {
     "name": "stdout",
     "output_type": "stream",
     "text": [
      "Hex cache size: 3504771 / 3504771 / 34\n",
      "Hex cache size: 3504771 / 3504771 / 34\n"
     ]
    },
    {
     "name": "stderr",
     "output_type": "stream",
     "text": [
      "Generating predictions [Nantes] (area_id: 17): 100%|██████████| 20/20 [00:00<00:00, 25.39it/s]\n",
      "Saving results to DB [Nantes] (area_id: 17): 100%|██████████| 30/30 [00:11<00:00,  2.65it/s]\n"
     ]
    },
    {
     "name": "stdout",
     "output_type": "stream",
     "text": [
      "Hex cache size: 3504771 / 3504771 / 34\n",
      "Hex cache size: 3504771 / 3504771 / 34\n"
     ]
    },
    {
     "name": "stderr",
     "output_type": "stream",
     "text": [
      "Generating predictions [Nantes] (area_id: 18): 100%|██████████| 20/20 [00:01<00:00, 19.01it/s]\n",
      "Saving results to DB [Nantes] (area_id: 18): 100%|██████████| 63/63 [00:06<00:00, 10.18it/s]\n"
     ]
    },
    {
     "name": "stdout",
     "output_type": "stream",
     "text": [
      "Hex cache size: 3504771 / 3504771 / 34\n",
      "Hex cache size: 3504771 / 3504771 / 34\n"
     ]
    },
    {
     "name": "stderr",
     "output_type": "stream",
     "text": [
      "Generating predictions [Nantes] (area_id: 19): 100%|██████████| 20/20 [00:03<00:00,  5.78it/s]\n",
      "Saving results to DB [Nantes] (area_id: 19): 100%|██████████| 379/379 [00:34<00:00, 11.01it/s]\n"
     ]
    },
    {
     "name": "stdout",
     "output_type": "stream",
     "text": [
      "Hex cache size: 3504771 / 3504771 / 34\n",
      "Hex cache size: 3504771 / 3504771 / 34\n"
     ]
    },
    {
     "name": "stderr",
     "output_type": "stream",
     "text": [
      "Generating predictions [Nantes] (area_id: 20): 100%|██████████| 20/20 [00:02<00:00,  7.94it/s]\n",
      "Saving results to DB [Nantes] (area_id: 20): 100%|██████████| 295/295 [00:34<00:00,  8.60it/s]\n"
     ]
    },
    {
     "name": "stdout",
     "output_type": "stream",
     "text": [
      "Hex cache size: 3504771 / 3504771 / 34\n",
      "Hex cache size: 3504771 / 3504771 / 34\n"
     ]
    },
    {
     "name": "stderr",
     "output_type": "stream",
     "text": [
      "Generating predictions [Nantes] (area_id: 21): 100%|██████████| 20/20 [00:00<00:00, 25.11it/s]\n",
      "Saving results to DB [Nantes] (area_id: 21): 100%|██████████| 37/37 [00:03<00:00, 11.24it/s]\n"
     ]
    },
    {
     "name": "stdout",
     "output_type": "stream",
     "text": [
      "Hex cache size: 3504771 / 3504771 / 34\n",
      "Hex cache size: 3504771 / 3504771 / 34\n"
     ]
    },
    {
     "name": "stderr",
     "output_type": "stream",
     "text": [
      "Generating predictions [Nantes] (area_id: 22): 100%|██████████| 20/20 [00:00<00:00, 20.50it/s]\n",
      "Saving results to DB [Nantes] (area_id: 22): 100%|██████████| 54/54 [00:07<00:00,  7.27it/s]\n"
     ]
    },
    {
     "name": "stdout",
     "output_type": "stream",
     "text": [
      "Hex cache size: 3504771 / 3504771 / 34\n",
      "Hex cache size: 3504771 / 3504771 / 34\n"
     ]
    },
    {
     "name": "stderr",
     "output_type": "stream",
     "text": [
      "Generating predictions [Nantes] (area_id: 23): 100%|██████████| 20/20 [00:02<00:00,  9.73it/s]\n",
      "Saving results to DB [Nantes] (area_id: 23): 100%|██████████| 136/136 [00:11<00:00, 11.36it/s]\n"
     ]
    },
    {
     "name": "stdout",
     "output_type": "stream",
     "text": [
      "Hex cache size: 3504771 / 3504771 / 34\n",
      "Hex cache size: 3504771 / 3504771 / 34\n"
     ]
    },
    {
     "name": "stderr",
     "output_type": "stream",
     "text": [
      "Generating predictions [Nantes] (area_id: 24): 100%|██████████| 20/20 [00:03<00:00,  6.22it/s]\n",
      "Saving results to DB [Nantes] (area_id: 24): 100%|██████████| 265/265 [00:26<00:00, 10.07it/s]\n"
     ]
    },
    {
     "name": "stdout",
     "output_type": "stream",
     "text": [
      "Hex cache size: 3504771 / 3504771 / 34\n",
      "Hex cache size: 3504771 / 3504771 / 34\n"
     ]
    },
    {
     "name": "stderr",
     "output_type": "stream",
     "text": [
      "Generating predictions [Nantes] (area_id: 25): 100%|██████████| 20/20 [00:01<00:00, 17.99it/s]\n",
      "Saving results to DB [Nantes] (area_id: 25): 100%|██████████| 106/106 [00:07<00:00, 13.45it/s]\n"
     ]
    },
    {
     "name": "stdout",
     "output_type": "stream",
     "text": [
      "Hex cache size: 3504771 / 3504771 / 34\n",
      "Hex cache size: 3504771 / 3504771 / 34\n"
     ]
    },
    {
     "name": "stderr",
     "output_type": "stream",
     "text": [
      "Generating predictions [Nantes] (area_id: 26): 100%|██████████| 20/20 [00:01<00:00, 10.90it/s]\n",
      "Saving results to DB [Nantes] (area_id: 26): 100%|██████████| 152/152 [00:16<00:00,  8.95it/s]\n"
     ]
    },
    {
     "name": "stdout",
     "output_type": "stream",
     "text": [
      "Hex cache size: 3504771 / 3504771 / 34\n",
      "Hex cache size: 3504771 / 3504771 / 34\n"
     ]
    },
    {
     "name": "stderr",
     "output_type": "stream",
     "text": [
      "Generating predictions [Nantes] (area_id: 27): 100%|██████████| 20/20 [00:00<00:00, 24.34it/s]\n",
      "Saving results to DB [Nantes] (area_id: 27): 100%|██████████| 49/49 [00:03<00:00, 14.00it/s]\n"
     ]
    },
    {
     "name": "stdout",
     "output_type": "stream",
     "text": [
      "Hex cache size: 3504771 / 3504771 / 34\n",
      "Hex cache size: 3504771 / 3504771 / 34\n"
     ]
    },
    {
     "name": "stderr",
     "output_type": "stream",
     "text": [
      "Generating predictions [Nantes] (area_id: 28): 100%|██████████| 20/20 [00:00<00:00, 23.54it/s]\n",
      "Saving results to DB [Nantes] (area_id: 28): 100%|██████████| 53/53 [00:04<00:00, 12.78it/s]\n"
     ]
    },
    {
     "name": "stdout",
     "output_type": "stream",
     "text": [
      "Hex cache size: 3504771 / 3504771 / 34\n",
      "Hex cache size: 3504771 / 3504771 / 34\n"
     ]
    },
    {
     "name": "stderr",
     "output_type": "stream",
     "text": [
      "Generating predictions [Nantes] (area_id: 29): 100%|██████████| 20/20 [00:00<00:00, 26.22it/s]\n",
      "Saving results to DB [Nantes] (area_id: 29): 100%|██████████| 34/34 [00:03<00:00,  9.75it/s]\n"
     ]
    },
    {
     "name": "stdout",
     "output_type": "stream",
     "text": [
      "Hex cache size: 3504771 / 3504771 / 34\n",
      "Hex cache size: 3504771 / 3504771 / 34\n"
     ]
    },
    {
     "name": "stderr",
     "output_type": "stream",
     "text": [
      "Generating predictions [Nantes] (area_id: 30): 100%|██████████| 20/20 [00:00<00:00, 29.50it/s]\n",
      "Saving results to DB [Nantes] (area_id: 30): 100%|██████████| 50/50 [00:03<00:00, 12.72it/s]\n"
     ]
    },
    {
     "name": "stdout",
     "output_type": "stream",
     "text": [
      "Hex cache size: 3504771 / 3504771 / 34\n",
      "Hex cache size: 3504771 / 3504771 / 34\n"
     ]
    },
    {
     "name": "stderr",
     "output_type": "stream",
     "text": [
      "Generating predictions [Nantes] (area_id: 31): 100%|██████████| 20/20 [00:02<00:00,  9.60it/s]\n",
      "Saving results to DB [Nantes] (area_id: 31): 100%|██████████| 174/174 [00:21<00:00,  8.11it/s]\n"
     ]
    },
    {
     "name": "stdout",
     "output_type": "stream",
     "text": [
      "Hex cache size: 3504771 / 3504771 / 34\n",
      "Hex cache size: 3504771 / 3504771 / 34\n"
     ]
    },
    {
     "name": "stderr",
     "output_type": "stream",
     "text": [
      "Generating predictions [Nantes] (area_id: 32): 100%|██████████| 20/20 [00:01<00:00, 12.42it/s]\n",
      "Saving results to DB [Nantes] (area_id: 32): 100%|██████████| 127/127 [00:10<00:00, 12.08it/s]\n"
     ]
    },
    {
     "name": "stdout",
     "output_type": "stream",
     "text": [
      "Hex cache size: 3504771 / 3504771 / 34\n",
      "Hex cache size: 3504771 / 3504771 / 34\n"
     ]
    },
    {
     "name": "stderr",
     "output_type": "stream",
     "text": [
      "Generating predictions [Nantes] (area_id: 33): 100%|██████████| 20/20 [00:00<00:00, 34.39it/s]\n",
      "Saving results to DB [Nantes] (area_id: 33): 100%|██████████| 33/33 [00:02<00:00, 13.86it/s]\n"
     ]
    },
    {
     "name": "stdout",
     "output_type": "stream",
     "text": [
      "Hex cache size: 3504771 / 3504771 / 34\n",
      "Hex cache size: 3504771 / 3504771 / 34\n"
     ]
    },
    {
     "name": "stderr",
     "output_type": "stream",
     "text": [
      "Generating predictions [Nantes] (area_id: 34): 100%|██████████| 20/20 [00:00<00:00, 22.17it/s]\n",
      "Saving results to DB [Nantes] (area_id: 34): 100%|██████████| 71/71 [00:10<00:00,  6.77it/s]\n"
     ]
    },
    {
     "name": "stdout",
     "output_type": "stream",
     "text": [
      "Hex cache size: 3504771 / 3504771 / 34\n",
      "Hex cache size: 3504771 / 3504771 / 34\n"
     ]
    },
    {
     "name": "stderr",
     "output_type": "stream",
     "text": [
      "Generating predictions [Oslo] (area_id: 1): 100%|██████████| 20/20 [00:44<00:00,  2.24s/it]\n",
      "Saving results to DB [Oslo] (area_id: 1): 100%|██████████| 57/57 [00:04<00:00, 13.16it/s]\n"
     ]
    },
    {
     "name": "stdout",
     "output_type": "stream",
     "text": [
      "Hex cache size: 3504771 / 3504771 / 34\n",
      "Hex cache size: 3504771 / 3504771 / 34\n"
     ]
    },
    {
     "name": "stderr",
     "output_type": "stream",
     "text": [
      "Generating predictions [Oslo] (area_id: 2): 100%|██████████| 20/20 [00:00<00:00, 21.98it/s]\n",
      "Saving results to DB [Oslo] (area_id: 2): 100%|██████████| 43/43 [00:03<00:00, 13.06it/s]\n"
     ]
    },
    {
     "name": "stdout",
     "output_type": "stream",
     "text": [
      "Hex cache size: 3504771 / 3504771 / 34\n",
      "Hex cache size: 3504771 / 3504771 / 34\n"
     ]
    },
    {
     "name": "stderr",
     "output_type": "stream",
     "text": [
      "Generating predictions [Oslo] (area_id: 3): 100%|██████████| 20/20 [00:01<00:00, 10.84it/s]\n",
      "Saving results to DB [Oslo] (area_id: 3): 100%|██████████| 123/123 [00:09<00:00, 12.61it/s]\n"
     ]
    },
    {
     "name": "stdout",
     "output_type": "stream",
     "text": [
      "Hex cache size: 3504771 / 3504771 / 34\n",
      "Hex cache size: 3504771 / 3504771 / 34\n"
     ]
    },
    {
     "name": "stderr",
     "output_type": "stream",
     "text": [
      "Generating predictions [Oslo] (area_id: 4): 100%|██████████| 20/20 [00:01<00:00, 19.61it/s]\n",
      "Saving results to DB [Oslo] (area_id: 4): 100%|██████████| 54/54 [00:03<00:00, 13.83it/s]\n"
     ]
    },
    {
     "name": "stdout",
     "output_type": "stream",
     "text": [
      "Hex cache size: 3504771 / 3504771 / 34\n",
      "Hex cache size: 3504771 / 3504771 / 34\n"
     ]
    },
    {
     "name": "stderr",
     "output_type": "stream",
     "text": [
      "Generating predictions [Oslo] (area_id: 5): 100%|██████████| 20/20 [00:02<00:00,  9.66it/s]\n",
      "Saving results to DB [Oslo] (area_id: 5): 100%|██████████| 144/144 [00:18<00:00,  7.65it/s]\n"
     ]
    },
    {
     "name": "stdout",
     "output_type": "stream",
     "text": [
      "Hex cache size: 3504771 / 3504771 / 34\n",
      "Hex cache size: 3504771 / 3504771 / 34\n"
     ]
    },
    {
     "name": "stderr",
     "output_type": "stream",
     "text": [
      "Generating predictions [Oslo] (area_id: 6): 100%|██████████| 20/20 [00:01<00:00, 16.28it/s]\n",
      "Saving results to DB [Oslo] (area_id: 6): 100%|██████████| 71/71 [00:06<00:00, 11.72it/s]\n"
     ]
    },
    {
     "name": "stdout",
     "output_type": "stream",
     "text": [
      "Hex cache size: 3504771 / 3504771 / 34\n",
      "Hex cache size: 3504771 / 3504771 / 34\n"
     ]
    },
    {
     "name": "stderr",
     "output_type": "stream",
     "text": [
      "Generating predictions [Oslo] (area_id: 7): 100%|██████████| 20/20 [00:01<00:00, 15.44it/s]\n",
      "Saving results to DB [Oslo] (area_id: 7): 100%|██████████| 84/84 [00:06<00:00, 13.69it/s]\n"
     ]
    },
    {
     "name": "stdout",
     "output_type": "stream",
     "text": [
      "Hex cache size: 3504771 / 3504771 / 34\n",
      "Hex cache size: 3504771 / 3504771 / 34\n"
     ]
    },
    {
     "name": "stderr",
     "output_type": "stream",
     "text": [
      "Generating predictions [Oslo] (area_id: 8): 100%|██████████| 20/20 [00:00<00:00, 20.77it/s]\n",
      "Saving results to DB [Oslo] (area_id: 8): 100%|██████████| 50/50 [00:03<00:00, 13.44it/s]\n"
     ]
    },
    {
     "name": "stdout",
     "output_type": "stream",
     "text": [
      "Hex cache size: 3504771 / 3504771 / 34\n",
      "Hex cache size: 3504771 / 3504771 / 34\n"
     ]
    },
    {
     "name": "stderr",
     "output_type": "stream",
     "text": [
      "Generating predictions [Oslo] (area_id: 9): 100%|██████████| 20/20 [00:01<00:00, 19.44it/s]\n",
      "Saving results to DB [Oslo] (area_id: 9): 100%|██████████| 60/60 [00:16<00:00,  3.59it/s]\n"
     ]
    },
    {
     "name": "stdout",
     "output_type": "stream",
     "text": [
      "Hex cache size: 3504771 / 3504771 / 34\n",
      "Hex cache size: 3504771 / 3504771 / 34\n"
     ]
    },
    {
     "name": "stderr",
     "output_type": "stream",
     "text": [
      "Generating predictions [Oslo] (area_id: 10): 100%|██████████| 20/20 [00:01<00:00, 17.73it/s]\n",
      "Saving results to DB [Oslo] (area_id: 10): 100%|██████████| 65/65 [00:04<00:00, 13.71it/s]\n"
     ]
    },
    {
     "name": "stdout",
     "output_type": "stream",
     "text": [
      "Hex cache size: 3504771 / 3504771 / 34\n",
      "Hex cache size: 3504771 / 3504771 / 34\n"
     ]
    },
    {
     "name": "stderr",
     "output_type": "stream",
     "text": [
      "Generating predictions [Oslo] (area_id: 11): 100%|██████████| 20/20 [00:01<00:00, 15.03it/s]\n",
      "Saving results to DB [Oslo] (area_id: 11): 100%|██████████| 60/60 [00:04<00:00, 13.32it/s]\n"
     ]
    },
    {
     "name": "stdout",
     "output_type": "stream",
     "text": [
      "Hex cache size: 3504771 / 3504771 / 34\n",
      "Hex cache size: 3504771 / 3504771 / 34\n"
     ]
    },
    {
     "name": "stderr",
     "output_type": "stream",
     "text": [
      "Generating predictions [Oslo] (area_id: 12): 100%|██████████| 20/20 [00:02<00:00,  8.40it/s]\n",
      "Saving results to DB [Oslo] (area_id: 12): 100%|██████████| 153/153 [00:11<00:00, 13.61it/s]\n"
     ]
    },
    {
     "name": "stdout",
     "output_type": "stream",
     "text": [
      "Hex cache size: 3504771 / 3504771 / 34\n",
      "Hex cache size: 3504771 / 3504771 / 34\n"
     ]
    },
    {
     "name": "stderr",
     "output_type": "stream",
     "text": [
      "Generating predictions [Oslo] (area_id: 13): 100%|██████████| 20/20 [00:02<00:00,  7.85it/s]\n",
      "Saving results to DB [Oslo] (area_id: 13): 100%|██████████| 159/159 [00:18<00:00,  8.52it/s]\n"
     ]
    },
    {
     "name": "stdout",
     "output_type": "stream",
     "text": [
      "Hex cache size: 3504771 / 3504771 / 34\n",
      "Hex cache size: 3504771 / 3504771 / 34\n"
     ]
    },
    {
     "name": "stderr",
     "output_type": "stream",
     "text": [
      "Generating predictions [Oslo] (area_id: 14): 100%|██████████| 20/20 [00:01<00:00, 11.97it/s]\n",
      "Saving results to DB [Oslo] (area_id: 14): 100%|██████████| 111/111 [00:08<00:00, 13.36it/s]\n"
     ]
    },
    {
     "name": "stdout",
     "output_type": "stream",
     "text": [
      "Hex cache size: 3504771 / 3504771 / 34\n",
      "Hex cache size: 3504771 / 3504771 / 34\n"
     ]
    },
    {
     "name": "stderr",
     "output_type": "stream",
     "text": [
      "Generating predictions [Oslo] (area_id: 15): 100%|██████████| 20/20 [00:01<00:00, 11.57it/s]\n",
      "Saving results to DB [Oslo] (area_id: 15): 100%|██████████| 122/122 [00:14<00:00,  8.71it/s]\n"
     ]
    },
    {
     "name": "stdout",
     "output_type": "stream",
     "text": [
      "Hex cache size: 3504771 / 3504771 / 34\n",
      "Hex cache size: 3504771 / 3504771 / 34\n"
     ]
    },
    {
     "name": "stderr",
     "output_type": "stream",
     "text": [
      "Generating predictions [Oslo] (area_id: 16): 100%|██████████| 20/20 [00:01<00:00, 17.68it/s]\n",
      "Saving results to DB [Oslo] (area_id: 16): 100%|██████████| 59/59 [00:04<00:00, 12.55it/s]\n"
     ]
    },
    {
     "name": "stdout",
     "output_type": "stream",
     "text": [
      "Hex cache size: 3504771 / 3504771 / 34\n",
      "Hex cache size: 3504771 / 3504771 / 34\n"
     ]
    },
    {
     "name": "stderr",
     "output_type": "stream",
     "text": [
      "Generating predictions [Oslo] (area_id: 17): 100%|██████████| 20/20 [00:00<00:00, 21.75it/s]\n",
      "Saving results to DB [Oslo] (area_id: 17): 100%|██████████| 30/30 [00:02<00:00, 13.02it/s]\n"
     ]
    },
    {
     "name": "stdout",
     "output_type": "stream",
     "text": [
      "Hex cache size: 3504771 / 3504771 / 34\n",
      "Hex cache size: 3504771 / 3504771 / 34\n"
     ]
    },
    {
     "name": "stderr",
     "output_type": "stream",
     "text": [
      "Generating predictions [Oslo] (area_id: 18): 100%|██████████| 20/20 [00:01<00:00, 15.44it/s]\n",
      "Saving results to DB [Oslo] (area_id: 18): 100%|██████████| 63/63 [00:04<00:00, 14.13it/s]\n"
     ]
    },
    {
     "name": "stdout",
     "output_type": "stream",
     "text": [
      "Hex cache size: 3504771 / 3504771 / 34\n",
      "Hex cache size: 3504771 / 3504771 / 34\n"
     ]
    },
    {
     "name": "stderr",
     "output_type": "stream",
     "text": [
      "Generating predictions [Oslo] (area_id: 19): 100%|██████████| 20/20 [00:05<00:00,  3.87it/s]\n",
      "Saving results to DB [Oslo] (area_id: 19): 100%|██████████| 379/379 [00:41<00:00,  9.06it/s]\n"
     ]
    },
    {
     "name": "stdout",
     "output_type": "stream",
     "text": [
      "Hex cache size: 3504771 / 3504771 / 34\n",
      "Hex cache size: 3504771 / 3504771 / 34\n"
     ]
    },
    {
     "name": "stderr",
     "output_type": "stream",
     "text": [
      "Generating predictions [Oslo] (area_id: 20): 100%|██████████| 20/20 [00:04<00:00,  4.82it/s]\n",
      "Saving results to DB [Oslo] (area_id: 20): 100%|██████████| 295/295 [00:29<00:00,  9.87it/s]\n"
     ]
    },
    {
     "name": "stdout",
     "output_type": "stream",
     "text": [
      "Hex cache size: 3504771 / 3504771 / 34\n",
      "Hex cache size: 3504771 / 3504771 / 34\n"
     ]
    },
    {
     "name": "stderr",
     "output_type": "stream",
     "text": [
      "Generating predictions [Oslo] (area_id: 21): 100%|██████████| 20/20 [00:00<00:00, 23.24it/s]\n",
      "Saving results to DB [Oslo] (area_id: 21): 100%|██████████| 37/37 [00:02<00:00, 14.46it/s]\n"
     ]
    },
    {
     "name": "stdout",
     "output_type": "stream",
     "text": [
      "Hex cache size: 3504771 / 3504771 / 34\n",
      "Hex cache size: 3504771 / 3504771 / 34\n"
     ]
    },
    {
     "name": "stderr",
     "output_type": "stream",
     "text": [
      "Generating predictions [Oslo] (area_id: 22): 100%|██████████| 20/20 [00:01<00:00, 17.93it/s]\n",
      "Saving results to DB [Oslo] (area_id: 22): 100%|██████████| 54/54 [00:03<00:00, 14.14it/s]\n"
     ]
    },
    {
     "name": "stdout",
     "output_type": "stream",
     "text": [
      "Hex cache size: 3504771 / 3504771 / 34\n",
      "Hex cache size: 3504771 / 3504771 / 34\n"
     ]
    },
    {
     "name": "stderr",
     "output_type": "stream",
     "text": [
      "Generating predictions [Oslo] (area_id: 23): 100%|██████████| 20/20 [00:01<00:00, 10.20it/s]\n",
      "Saving results to DB [Oslo] (area_id: 23): 100%|██████████| 136/136 [00:17<00:00,  7.93it/s]\n"
     ]
    },
    {
     "name": "stdout",
     "output_type": "stream",
     "text": [
      "Hex cache size: 3504771 / 3504771 / 34\n",
      "Hex cache size: 3504771 / 3504771 / 34\n"
     ]
    },
    {
     "name": "stderr",
     "output_type": "stream",
     "text": [
      "Generating predictions [Oslo] (area_id: 24): 100%|██████████| 20/20 [00:03<00:00,  5.82it/s]\n",
      "Saving results to DB [Oslo] (area_id: 24): 100%|██████████| 265/265 [00:21<00:00, 12.36it/s]\n"
     ]
    },
    {
     "name": "stdout",
     "output_type": "stream",
     "text": [
      "Hex cache size: 3504771 / 3504771 / 34\n",
      "Hex cache size: 3504771 / 3504771 / 34\n"
     ]
    },
    {
     "name": "stderr",
     "output_type": "stream",
     "text": [
      "Generating predictions [Oslo] (area_id: 25): 100%|██████████| 20/20 [00:01<00:00, 11.41it/s]\n",
      "Saving results to DB [Oslo] (area_id: 25): 100%|██████████| 106/106 [00:07<00:00, 13.65it/s]\n"
     ]
    },
    {
     "name": "stdout",
     "output_type": "stream",
     "text": [
      "Hex cache size: 3504771 / 3504771 / 34\n",
      "Hex cache size: 3504771 / 3504771 / 34\n"
     ]
    },
    {
     "name": "stderr",
     "output_type": "stream",
     "text": [
      "Generating predictions [Oslo] (area_id: 26): 100%|██████████| 20/20 [00:02<00:00,  9.56it/s]\n",
      "Saving results to DB [Oslo] (area_id: 26): 100%|██████████| 152/152 [00:11<00:00, 13.69it/s]\n"
     ]
    },
    {
     "name": "stdout",
     "output_type": "stream",
     "text": [
      "Hex cache size: 3504771 / 3504771 / 34\n",
      "Hex cache size: 3504771 / 3504771 / 34\n"
     ]
    },
    {
     "name": "stderr",
     "output_type": "stream",
     "text": [
      "Generating predictions [Oslo] (area_id: 27): 100%|██████████| 20/20 [00:01<00:00, 17.37it/s]\n",
      "Saving results to DB [Oslo] (area_id: 27): 100%|██████████| 49/49 [00:04<00:00, 10.58it/s]\n"
     ]
    },
    {
     "name": "stdout",
     "output_type": "stream",
     "text": [
      "Hex cache size: 3504771 / 3504771 / 34\n",
      "Hex cache size: 3504771 / 3504771 / 34\n"
     ]
    },
    {
     "name": "stderr",
     "output_type": "stream",
     "text": [
      "Generating predictions [Oslo] (area_id: 28): 100%|██████████| 20/20 [00:01<00:00, 19.40it/s]\n",
      "Saving results to DB [Oslo] (area_id: 28): 100%|██████████| 53/53 [00:03<00:00, 13.63it/s]\n"
     ]
    },
    {
     "name": "stdout",
     "output_type": "stream",
     "text": [
      "Hex cache size: 3504771 / 3504771 / 34\n",
      "Hex cache size: 3504771 / 3504771 / 34\n"
     ]
    },
    {
     "name": "stderr",
     "output_type": "stream",
     "text": [
      "Generating predictions [Oslo] (area_id: 29): 100%|██████████| 20/20 [00:00<00:00, 25.57it/s]\n",
      "Saving results to DB [Oslo] (area_id: 29): 100%|██████████| 34/34 [00:02<00:00, 13.52it/s]\n"
     ]
    },
    {
     "name": "stdout",
     "output_type": "stream",
     "text": [
      "Hex cache size: 3504771 / 3504771 / 34\n",
      "Hex cache size: 3504771 / 3504771 / 34\n"
     ]
    },
    {
     "name": "stderr",
     "output_type": "stream",
     "text": [
      "Generating predictions [Oslo] (area_id: 30): 100%|██████████| 20/20 [00:01<00:00, 17.27it/s]\n",
      "Saving results to DB [Oslo] (area_id: 30): 100%|██████████| 50/50 [00:03<00:00, 14.05it/s]\n"
     ]
    },
    {
     "name": "stdout",
     "output_type": "stream",
     "text": [
      "Hex cache size: 3504771 / 3504771 / 34\n",
      "Hex cache size: 3504771 / 3504771 / 34\n"
     ]
    },
    {
     "name": "stderr",
     "output_type": "stream",
     "text": [
      "Generating predictions [Oslo] (area_id: 31): 100%|██████████| 20/20 [00:02<00:00,  7.32it/s]\n",
      "Saving results to DB [Oslo] (area_id: 31): 100%|██████████| 174/174 [00:15<00:00, 11.04it/s]\n"
     ]
    },
    {
     "name": "stdout",
     "output_type": "stream",
     "text": [
      "Hex cache size: 3504771 / 3504771 / 34\n",
      "Hex cache size: 3504771 / 3504771 / 34\n"
     ]
    },
    {
     "name": "stderr",
     "output_type": "stream",
     "text": [
      "Generating predictions [Oslo] (area_id: 32): 100%|██████████| 20/20 [00:01<00:00, 11.47it/s]\n",
      "Saving results to DB [Oslo] (area_id: 32): 100%|██████████| 127/127 [00:09<00:00, 14.03it/s]\n"
     ]
    },
    {
     "name": "stdout",
     "output_type": "stream",
     "text": [
      "Hex cache size: 3504771 / 3504771 / 34\n",
      "Hex cache size: 3504771 / 3504771 / 34\n"
     ]
    },
    {
     "name": "stderr",
     "output_type": "stream",
     "text": [
      "Generating predictions [Oslo] (area_id: 33): 100%|██████████| 20/20 [00:00<00:00, 21.34it/s]\n",
      "Saving results to DB [Oslo] (area_id: 33): 100%|██████████| 33/33 [00:02<00:00, 14.30it/s]\n"
     ]
    },
    {
     "name": "stdout",
     "output_type": "stream",
     "text": [
      "Hex cache size: 3504771 / 3504771 / 34\n",
      "Hex cache size: 3504771 / 3504771 / 34\n"
     ]
    },
    {
     "name": "stderr",
     "output_type": "stream",
     "text": [
      "Generating predictions [Oslo] (area_id: 34): 100%|██████████| 20/20 [00:01<00:00, 14.28it/s]\n",
      "Saving results to DB [Oslo] (area_id: 34): 100%|██████████| 71/71 [00:04<00:00, 14.44it/s]\n"
     ]
    },
    {
     "name": "stdout",
     "output_type": "stream",
     "text": [
      "Hex cache size: 3504771 / 3504771 / 34\n",
      "Hex cache size: 3504771 / 3504771 / 34\n"
     ]
    },
    {
     "name": "stderr",
     "output_type": "stream",
     "text": [
      "Generating predictions [Ostrava] (area_id: 1): 100%|██████████| 20/20 [00:38<00:00,  1.93s/it]\n",
      "Saving results to DB [Ostrava] (area_id: 1): 100%|██████████| 57/57 [00:07<00:00,  7.73it/s]\n"
     ]
    },
    {
     "name": "stdout",
     "output_type": "stream",
     "text": [
      "Hex cache size: 3504771 / 3504771 / 34\n",
      "Hex cache size: 3504771 / 3504771 / 34\n"
     ]
    },
    {
     "name": "stderr",
     "output_type": "stream",
     "text": [
      "Generating predictions [Ostrava] (area_id: 2): 100%|██████████| 20/20 [00:01<00:00, 19.06it/s]\n",
      "Saving results to DB [Ostrava] (area_id: 2): 100%|██████████| 43/43 [00:03<00:00, 14.09it/s]\n"
     ]
    },
    {
     "name": "stdout",
     "output_type": "stream",
     "text": [
      "Hex cache size: 3504771 / 3504771 / 34\n",
      "Hex cache size: 3504771 / 3504771 / 34\n"
     ]
    },
    {
     "name": "stderr",
     "output_type": "stream",
     "text": [
      "Generating predictions [Ostrava] (area_id: 3): 100%|██████████| 20/20 [00:01<00:00, 11.17it/s]\n",
      "Saving results to DB [Ostrava] (area_id: 3): 100%|██████████| 123/123 [00:09<00:00, 13.41it/s]\n"
     ]
    },
    {
     "name": "stdout",
     "output_type": "stream",
     "text": [
      "Hex cache size: 3504771 / 3504771 / 34\n",
      "Hex cache size: 3504771 / 3504771 / 34\n"
     ]
    },
    {
     "name": "stderr",
     "output_type": "stream",
     "text": [
      "Generating predictions [Ostrava] (area_id: 4): 100%|██████████| 20/20 [00:01<00:00, 16.24it/s]\n",
      "Saving results to DB [Ostrava] (area_id: 4): 100%|██████████| 54/54 [00:03<00:00, 13.68it/s]\n"
     ]
    },
    {
     "name": "stdout",
     "output_type": "stream",
     "text": [
      "Hex cache size: 3504771 / 3504771 / 34\n",
      "Hex cache size: 3504771 / 3504771 / 34\n"
     ]
    },
    {
     "name": "stderr",
     "output_type": "stream",
     "text": [
      "Generating predictions [Ostrava] (area_id: 5): 100%|██████████| 20/20 [00:02<00:00,  8.20it/s]\n",
      "Saving results to DB [Ostrava] (area_id: 5): 100%|██████████| 144/144 [00:12<00:00, 11.46it/s]\n"
     ]
    },
    {
     "name": "stdout",
     "output_type": "stream",
     "text": [
      "Hex cache size: 3504771 / 3504771 / 34\n",
      "Hex cache size: 3504771 / 3504771 / 34\n"
     ]
    },
    {
     "name": "stderr",
     "output_type": "stream",
     "text": [
      "Generating predictions [Ostrava] (area_id: 6): 100%|██████████| 20/20 [00:01<00:00, 13.46it/s]\n",
      "Saving results to DB [Ostrava] (area_id: 6): 100%|██████████| 71/71 [00:04<00:00, 14.38it/s]\n"
     ]
    },
    {
     "name": "stdout",
     "output_type": "stream",
     "text": [
      "Hex cache size: 3504771 / 3504771 / 34\n",
      "Hex cache size: 3504771 / 3504771 / 34\n"
     ]
    },
    {
     "name": "stderr",
     "output_type": "stream",
     "text": [
      "Generating predictions [Ostrava] (area_id: 7): 100%|██████████| 20/20 [00:01<00:00, 14.93it/s]\n",
      "Saving results to DB [Ostrava] (area_id: 7): 100%|██████████| 84/84 [00:06<00:00, 13.29it/s]\n"
     ]
    },
    {
     "name": "stdout",
     "output_type": "stream",
     "text": [
      "Hex cache size: 3504771 / 3504771 / 34\n",
      "Hex cache size: 3504771 / 3504771 / 34\n"
     ]
    },
    {
     "name": "stderr",
     "output_type": "stream",
     "text": [
      "Generating predictions [Ostrava] (area_id: 8): 100%|██████████| 20/20 [00:00<00:00, 20.17it/s]\n",
      "Saving results to DB [Ostrava] (area_id: 8): 100%|██████████| 50/50 [00:03<00:00, 14.59it/s]\n"
     ]
    },
    {
     "name": "stdout",
     "output_type": "stream",
     "text": [
      "Hex cache size: 3504771 / 3504771 / 34\n",
      "Hex cache size: 3504771 / 3504771 / 34\n"
     ]
    },
    {
     "name": "stderr",
     "output_type": "stream",
     "text": [
      "Generating predictions [Ostrava] (area_id: 9): 100%|██████████| 20/20 [00:01<00:00, 16.96it/s]\n",
      "Saving results to DB [Ostrava] (area_id: 9): 100%|██████████| 60/60 [00:04<00:00, 12.89it/s]\n"
     ]
    },
    {
     "name": "stdout",
     "output_type": "stream",
     "text": [
      "Hex cache size: 3504771 / 3504771 / 34\n",
      "Hex cache size: 3504771 / 3504771 / 34\n"
     ]
    },
    {
     "name": "stderr",
     "output_type": "stream",
     "text": [
      "Generating predictions [Ostrava] (area_id: 10): 100%|██████████| 20/20 [00:01<00:00, 16.03it/s]\n",
      "Saving results to DB [Ostrava] (area_id: 10): 100%|██████████| 65/65 [00:04<00:00, 13.87it/s]\n"
     ]
    },
    {
     "name": "stdout",
     "output_type": "stream",
     "text": [
      "Hex cache size: 3504771 / 3504771 / 34\n",
      "Hex cache size: 3504771 / 3504771 / 34\n"
     ]
    },
    {
     "name": "stderr",
     "output_type": "stream",
     "text": [
      "Generating predictions [Ostrava] (area_id: 11): 100%|██████████| 20/20 [00:01<00:00, 16.93it/s]\n",
      "Saving results to DB [Ostrava] (area_id: 11): 100%|██████████| 60/60 [00:04<00:00, 13.38it/s]\n"
     ]
    },
    {
     "name": "stdout",
     "output_type": "stream",
     "text": [
      "Hex cache size: 3504771 / 3504771 / 34\n",
      "Hex cache size: 3504771 / 3504771 / 34\n"
     ]
    },
    {
     "name": "stderr",
     "output_type": "stream",
     "text": [
      "Generating predictions [Ostrava] (area_id: 12): 100%|██████████| 20/20 [00:02<00:00,  9.33it/s]\n",
      "Saving results to DB [Ostrava] (area_id: 12): 100%|██████████| 153/153 [00:11<00:00, 13.65it/s]\n"
     ]
    },
    {
     "name": "stdout",
     "output_type": "stream",
     "text": [
      "Hex cache size: 3504771 / 3504771 / 34\n",
      "Hex cache size: 3504771 / 3504771 / 34\n"
     ]
    },
    {
     "name": "stderr",
     "output_type": "stream",
     "text": [
      "Generating predictions [Ostrava] (area_id: 13): 100%|██████████| 20/20 [00:02<00:00,  8.49it/s]\n",
      "Saving results to DB [Ostrava] (area_id: 13): 100%|██████████| 159/159 [00:18<00:00,  8.68it/s]\n"
     ]
    },
    {
     "name": "stdout",
     "output_type": "stream",
     "text": [
      "Hex cache size: 3504771 / 3504771 / 34\n",
      "Hex cache size: 3504771 / 3504771 / 34\n"
     ]
    },
    {
     "name": "stderr",
     "output_type": "stream",
     "text": [
      "Generating predictions [Ostrava] (area_id: 14): 100%|██████████| 20/20 [00:02<00:00,  9.63it/s]\n",
      "Saving results to DB [Ostrava] (area_id: 14): 100%|██████████| 111/111 [00:08<00:00, 13.40it/s]\n"
     ]
    },
    {
     "name": "stdout",
     "output_type": "stream",
     "text": [
      "Hex cache size: 3504771 / 3504771 / 34\n",
      "Hex cache size: 3504771 / 3504771 / 34\n"
     ]
    },
    {
     "name": "stderr",
     "output_type": "stream",
     "text": [
      "Generating predictions [Ostrava] (area_id: 15): 100%|██████████| 20/20 [00:02<00:00,  9.83it/s]\n",
      "Saving results to DB [Ostrava] (area_id: 15): 100%|██████████| 122/122 [00:15<00:00,  7.80it/s]\n"
     ]
    },
    {
     "name": "stdout",
     "output_type": "stream",
     "text": [
      "Hex cache size: 3504771 / 3504771 / 34\n",
      "Hex cache size: 3504771 / 3504771 / 34\n"
     ]
    },
    {
     "name": "stderr",
     "output_type": "stream",
     "text": [
      "Generating predictions [Ostrava] (area_id: 16): 100%|██████████| 20/20 [00:01<00:00, 18.54it/s]\n",
      "Saving results to DB [Ostrava] (area_id: 16): 100%|██████████| 59/59 [00:04<00:00, 14.73it/s]\n"
     ]
    },
    {
     "name": "stdout",
     "output_type": "stream",
     "text": [
      "Hex cache size: 3504771 / 3504771 / 34\n",
      "Hex cache size: 3504771 / 3504771 / 34\n"
     ]
    },
    {
     "name": "stderr",
     "output_type": "stream",
     "text": [
      "Generating predictions [Ostrava] (area_id: 17): 100%|██████████| 20/20 [00:00<00:00, 26.34it/s]\n",
      "Saving results to DB [Ostrava] (area_id: 17): 100%|██████████| 30/30 [00:02<00:00, 13.06it/s]\n"
     ]
    },
    {
     "name": "stdout",
     "output_type": "stream",
     "text": [
      "Hex cache size: 3504771 / 3504771 / 34\n",
      "Hex cache size: 3504771 / 3504771 / 34\n"
     ]
    },
    {
     "name": "stderr",
     "output_type": "stream",
     "text": [
      "Generating predictions [Ostrava] (area_id: 18): 100%|██████████| 20/20 [00:01<00:00, 15.72it/s]\n",
      "Saving results to DB [Ostrava] (area_id: 18): 100%|██████████| 63/63 [00:04<00:00, 13.45it/s]\n"
     ]
    },
    {
     "name": "stdout",
     "output_type": "stream",
     "text": [
      "Hex cache size: 3504771 / 3504771 / 34\n",
      "Hex cache size: 3504771 / 3504771 / 34\n"
     ]
    },
    {
     "name": "stderr",
     "output_type": "stream",
     "text": [
      "Generating predictions [Ostrava] (area_id: 19): 100%|██████████| 20/20 [00:04<00:00,  4.29it/s]\n",
      "Saving results to DB [Ostrava] (area_id: 19): 100%|██████████| 379/379 [00:45<00:00,  8.41it/s]\n"
     ]
    },
    {
     "name": "stdout",
     "output_type": "stream",
     "text": [
      "Hex cache size: 3504771 / 3504771 / 34\n",
      "Hex cache size: 3504771 / 3504771 / 34\n"
     ]
    },
    {
     "name": "stderr",
     "output_type": "stream",
     "text": [
      "Generating predictions [Ostrava] (area_id: 20): 100%|██████████| 20/20 [00:03<00:00,  5.55it/s]\n",
      "Saving results to DB [Ostrava] (area_id: 20): 100%|██████████| 295/295 [00:23<00:00, 12.70it/s]\n"
     ]
    },
    {
     "name": "stdout",
     "output_type": "stream",
     "text": [
      "Hex cache size: 3504771 / 3504771 / 34\n",
      "Hex cache size: 3504771 / 3504771 / 34\n"
     ]
    },
    {
     "name": "stderr",
     "output_type": "stream",
     "text": [
      "Generating predictions [Ostrava] (area_id: 21): 100%|██████████| 20/20 [00:01<00:00, 19.58it/s]\n",
      "Saving results to DB [Ostrava] (area_id: 21): 100%|██████████| 37/37 [00:02<00:00, 14.59it/s]\n"
     ]
    },
    {
     "name": "stdout",
     "output_type": "stream",
     "text": [
      "Hex cache size: 3504771 / 3504771 / 34\n",
      "Hex cache size: 3504771 / 3504771 / 34\n"
     ]
    },
    {
     "name": "stderr",
     "output_type": "stream",
     "text": [
      "Generating predictions [Ostrava] (area_id: 22): 100%|██████████| 20/20 [00:01<00:00, 16.98it/s]\n",
      "Saving results to DB [Ostrava] (area_id: 22): 100%|██████████| 54/54 [00:04<00:00, 13.45it/s]\n"
     ]
    },
    {
     "name": "stdout",
     "output_type": "stream",
     "text": [
      "Hex cache size: 3504771 / 3504771 / 34\n",
      "Hex cache size: 3504771 / 3504771 / 34\n"
     ]
    },
    {
     "name": "stderr",
     "output_type": "stream",
     "text": [
      "Generating predictions [Ostrava] (area_id: 23): 100%|██████████| 20/20 [00:01<00:00, 10.82it/s]\n",
      "Saving results to DB [Ostrava] (area_id: 23): 100%|██████████| 136/136 [00:09<00:00, 14.30it/s]\n"
     ]
    },
    {
     "name": "stdout",
     "output_type": "stream",
     "text": [
      "Hex cache size: 3504771 / 3504771 / 34\n",
      "Hex cache size: 3504771 / 3504771 / 34\n"
     ]
    },
    {
     "name": "stderr",
     "output_type": "stream",
     "text": [
      "Generating predictions [Ostrava] (area_id: 24): 100%|██████████| 20/20 [00:03<00:00,  6.06it/s]\n",
      "Saving results to DB [Ostrava] (area_id: 24): 100%|██████████| 265/265 [00:24<00:00, 10.70it/s]\n"
     ]
    },
    {
     "name": "stdout",
     "output_type": "stream",
     "text": [
      "Hex cache size: 3504771 / 3504771 / 34\n",
      "Hex cache size: 3504771 / 3504771 / 34\n"
     ]
    },
    {
     "name": "stderr",
     "output_type": "stream",
     "text": [
      "Generating predictions [Ostrava] (area_id: 25): 100%|██████████| 20/20 [00:01<00:00, 12.90it/s]\n",
      "Saving results to DB [Ostrava] (area_id: 25): 100%|██████████| 106/106 [00:07<00:00, 13.89it/s]\n"
     ]
    },
    {
     "name": "stdout",
     "output_type": "stream",
     "text": [
      "Hex cache size: 3504771 / 3504771 / 34\n",
      "Hex cache size: 3504771 / 3504771 / 34\n"
     ]
    },
    {
     "name": "stderr",
     "output_type": "stream",
     "text": [
      "Generating predictions [Ostrava] (area_id: 26): 100%|██████████| 20/20 [00:02<00:00,  9.84it/s]\n",
      "Saving results to DB [Ostrava] (area_id: 26): 100%|██████████| 152/152 [00:11<00:00, 13.51it/s]\n"
     ]
    },
    {
     "name": "stdout",
     "output_type": "stream",
     "text": [
      "Hex cache size: 3504771 / 3504771 / 34\n",
      "Hex cache size: 3504771 / 3504771 / 34\n"
     ]
    },
    {
     "name": "stderr",
     "output_type": "stream",
     "text": [
      "Generating predictions [Ostrava] (area_id: 27): 100%|██████████| 20/20 [00:00<00:00, 20.93it/s]\n",
      "Saving results to DB [Ostrava] (area_id: 27): 100%|██████████| 49/49 [00:03<00:00, 14.23it/s]\n"
     ]
    },
    {
     "name": "stdout",
     "output_type": "stream",
     "text": [
      "Hex cache size: 3504771 / 3504771 / 34\n",
      "Hex cache size: 3504771 / 3504771 / 34\n"
     ]
    },
    {
     "name": "stderr",
     "output_type": "stream",
     "text": [
      "Generating predictions [Ostrava] (area_id: 28): 100%|██████████| 20/20 [00:01<00:00, 17.81it/s]\n",
      "Saving results to DB [Ostrava] (area_id: 28): 100%|██████████| 53/53 [00:03<00:00, 14.24it/s]\n"
     ]
    },
    {
     "name": "stdout",
     "output_type": "stream",
     "text": [
      "Hex cache size: 3504771 / 3504771 / 34\n",
      "Hex cache size: 3504771 / 3504771 / 34\n"
     ]
    },
    {
     "name": "stderr",
     "output_type": "stream",
     "text": [
      "Generating predictions [Ostrava] (area_id: 29): 100%|██████████| 20/20 [00:00<00:00, 25.56it/s]\n",
      "Saving results to DB [Ostrava] (area_id: 29): 100%|██████████| 34/34 [00:02<00:00, 14.54it/s]\n"
     ]
    },
    {
     "name": "stdout",
     "output_type": "stream",
     "text": [
      "Hex cache size: 3504771 / 3504771 / 34\n",
      "Hex cache size: 3504771 / 3504771 / 34\n"
     ]
    },
    {
     "name": "stderr",
     "output_type": "stream",
     "text": [
      "Generating predictions [Ostrava] (area_id: 30): 100%|██████████| 20/20 [00:00<00:00, 20.74it/s]\n",
      "Saving results to DB [Ostrava] (area_id: 30): 100%|██████████| 50/50 [00:03<00:00, 14.52it/s]\n"
     ]
    },
    {
     "name": "stdout",
     "output_type": "stream",
     "text": [
      "Hex cache size: 3504771 / 3504771 / 34\n",
      "Hex cache size: 3504771 / 3504771 / 34\n"
     ]
    },
    {
     "name": "stderr",
     "output_type": "stream",
     "text": [
      "Generating predictions [Ostrava] (area_id: 31): 100%|██████████| 20/20 [00:02<00:00,  8.72it/s]\n",
      "Saving results to DB [Ostrava] (area_id: 31): 100%|██████████| 174/174 [00:12<00:00, 13.49it/s]\n"
     ]
    },
    {
     "name": "stdout",
     "output_type": "stream",
     "text": [
      "Hex cache size: 3504771 / 3504771 / 34\n",
      "Hex cache size: 3504771 / 3504771 / 34\n"
     ]
    },
    {
     "name": "stderr",
     "output_type": "stream",
     "text": [
      "Generating predictions [Ostrava] (area_id: 32): 100%|██████████| 20/20 [00:01<00:00, 10.86it/s]\n",
      "Saving results to DB [Ostrava] (area_id: 32): 100%|██████████| 127/127 [00:11<00:00, 11.34it/s]\n"
     ]
    },
    {
     "name": "stdout",
     "output_type": "stream",
     "text": [
      "Hex cache size: 3504771 / 3504771 / 34\n",
      "Hex cache size: 3504771 / 3504771 / 34\n"
     ]
    },
    {
     "name": "stderr",
     "output_type": "stream",
     "text": [
      "Generating predictions [Ostrava] (area_id: 33): 100%|██████████| 20/20 [00:00<00:00, 25.88it/s]\n",
      "Saving results to DB [Ostrava] (area_id: 33): 100%|██████████| 33/33 [00:02<00:00, 14.89it/s]\n"
     ]
    },
    {
     "name": "stdout",
     "output_type": "stream",
     "text": [
      "Hex cache size: 3504771 / 3504771 / 34\n",
      "Hex cache size: 3504771 / 3504771 / 34\n"
     ]
    },
    {
     "name": "stderr",
     "output_type": "stream",
     "text": [
      "Generating predictions [Ostrava] (area_id: 34): 100%|██████████| 20/20 [00:01<00:00, 16.76it/s]\n",
      "Saving results to DB [Ostrava] (area_id: 34): 100%|██████████| 71/71 [00:05<00:00, 14.11it/s]\n"
     ]
    },
    {
     "name": "stdout",
     "output_type": "stream",
     "text": [
      "Hex cache size: 3504771 / 3504771 / 34\n",
      "Hex cache size: 3504771 / 3504771 / 34\n"
     ]
    },
    {
     "name": "stderr",
     "output_type": "stream",
     "text": [
      "Generating predictions [Paris] (area_id: 1): 100%|██████████| 20/20 [00:57<00:00,  2.85s/it]\n",
      "Saving results to DB [Paris] (area_id: 1): 100%|██████████| 57/57 [00:03<00:00, 14.53it/s]\n"
     ]
    },
    {
     "name": "stdout",
     "output_type": "stream",
     "text": [
      "Hex cache size: 3504771 / 3504771 / 34\n",
      "Hex cache size: 3504771 / 3504771 / 34\n"
     ]
    },
    {
     "name": "stderr",
     "output_type": "stream",
     "text": [
      "Generating predictions [Paris] (area_id: 2): 100%|██████████| 20/20 [00:01<00:00, 19.86it/s]\n",
      "Saving results to DB [Paris] (area_id: 2): 100%|██████████| 43/43 [00:02<00:00, 14.52it/s]\n"
     ]
    },
    {
     "name": "stdout",
     "output_type": "stream",
     "text": [
      "Hex cache size: 3504771 / 3504771 / 34\n",
      "Hex cache size: 3504771 / 3504771 / 34\n"
     ]
    },
    {
     "name": "stderr",
     "output_type": "stream",
     "text": [
      "Generating predictions [Paris] (area_id: 3): 100%|██████████| 20/20 [00:01<00:00, 10.67it/s]\n",
      "Saving results to DB [Paris] (area_id: 3): 100%|██████████| 123/123 [00:08<00:00, 14.02it/s]\n"
     ]
    },
    {
     "name": "stdout",
     "output_type": "stream",
     "text": [
      "Hex cache size: 3504771 / 3504771 / 34\n",
      "Hex cache size: 3504771 / 3504771 / 34\n"
     ]
    },
    {
     "name": "stderr",
     "output_type": "stream",
     "text": [
      "Generating predictions [Paris] (area_id: 4): 100%|██████████| 20/20 [00:01<00:00, 16.49it/s]\n",
      "Saving results to DB [Paris] (area_id: 4): 100%|██████████| 54/54 [00:03<00:00, 14.40it/s]\n"
     ]
    },
    {
     "name": "stdout",
     "output_type": "stream",
     "text": [
      "Hex cache size: 3504771 / 3504771 / 34\n",
      "Hex cache size: 3504771 / 3504771 / 34\n"
     ]
    },
    {
     "name": "stderr",
     "output_type": "stream",
     "text": [
      "Generating predictions [Paris] (area_id: 5): 100%|██████████| 20/20 [00:02<00:00,  9.60it/s]\n",
      "Saving results to DB [Paris] (area_id: 5): 100%|██████████| 144/144 [00:10<00:00, 14.00it/s]\n"
     ]
    },
    {
     "name": "stdout",
     "output_type": "stream",
     "text": [
      "Hex cache size: 3504771 / 3504771 / 34\n",
      "Hex cache size: 3504771 / 3504771 / 34\n"
     ]
    },
    {
     "name": "stderr",
     "output_type": "stream",
     "text": [
      "Generating predictions [Paris] (area_id: 6): 100%|██████████| 20/20 [00:01<00:00, 15.38it/s]\n",
      "Saving results to DB [Paris] (area_id: 6): 100%|██████████| 71/71 [00:04<00:00, 14.56it/s]\n"
     ]
    },
    {
     "name": "stdout",
     "output_type": "stream",
     "text": [
      "Hex cache size: 3504771 / 3504771 / 34\n",
      "Hex cache size: 3504771 / 3504771 / 34\n"
     ]
    },
    {
     "name": "stderr",
     "output_type": "stream",
     "text": [
      "Generating predictions [Paris] (area_id: 7): 100%|██████████| 20/20 [00:01<00:00, 13.05it/s]\n",
      "Saving results to DB [Paris] (area_id: 7): 100%|██████████| 84/84 [00:05<00:00, 15.08it/s]\n"
     ]
    },
    {
     "name": "stdout",
     "output_type": "stream",
     "text": [
      "Hex cache size: 3504771 / 3504771 / 34\n",
      "Hex cache size: 3504771 / 3504771 / 34\n"
     ]
    },
    {
     "name": "stderr",
     "output_type": "stream",
     "text": [
      "Generating predictions [Paris] (area_id: 8): 100%|██████████| 20/20 [00:01<00:00, 18.40it/s]\n",
      "Saving results to DB [Paris] (area_id: 8): 100%|██████████| 50/50 [00:03<00:00, 14.27it/s]\n"
     ]
    },
    {
     "name": "stdout",
     "output_type": "stream",
     "text": [
      "Hex cache size: 3504771 / 3504771 / 34\n",
      "Hex cache size: 3504771 / 3504771 / 34\n"
     ]
    },
    {
     "name": "stderr",
     "output_type": "stream",
     "text": [
      "Generating predictions [Paris] (area_id: 9): 100%|██████████| 20/20 [00:01<00:00, 17.04it/s]\n",
      "Saving results to DB [Paris] (area_id: 9): 100%|██████████| 60/60 [00:04<00:00, 14.20it/s]\n"
     ]
    },
    {
     "name": "stdout",
     "output_type": "stream",
     "text": [
      "Hex cache size: 3504771 / 3504771 / 34\n",
      "Hex cache size: 3504771 / 3504771 / 34\n"
     ]
    },
    {
     "name": "stderr",
     "output_type": "stream",
     "text": [
      "Generating predictions [Paris] (area_id: 10): 100%|██████████| 20/20 [00:01<00:00, 15.17it/s]\n",
      "Saving results to DB [Paris] (area_id: 10): 100%|██████████| 65/65 [00:04<00:00, 14.40it/s]\n"
     ]
    },
    {
     "name": "stdout",
     "output_type": "stream",
     "text": [
      "Hex cache size: 3504771 / 3504771 / 34\n",
      "Hex cache size: 3504771 / 3504771 / 34\n"
     ]
    },
    {
     "name": "stderr",
     "output_type": "stream",
     "text": [
      "Generating predictions [Paris] (area_id: 11): 100%|██████████| 20/20 [00:01<00:00, 16.90it/s]\n",
      "Saving results to DB [Paris] (area_id: 11): 100%|██████████| 60/60 [00:04<00:00, 14.29it/s]\n"
     ]
    },
    {
     "name": "stdout",
     "output_type": "stream",
     "text": [
      "Hex cache size: 3504771 / 3504771 / 34\n",
      "Hex cache size: 3504771 / 3504771 / 34\n"
     ]
    },
    {
     "name": "stderr",
     "output_type": "stream",
     "text": [
      "Generating predictions [Paris] (area_id: 12): 100%|██████████| 20/20 [00:02<00:00,  9.26it/s]\n",
      "Saving results to DB [Paris] (area_id: 12): 100%|██████████| 153/153 [00:15<00:00,  9.73it/s]\n"
     ]
    },
    {
     "name": "stdout",
     "output_type": "stream",
     "text": [
      "Hex cache size: 3504771 / 3504771 / 34\n",
      "Hex cache size: 3504771 / 3504771 / 34\n"
     ]
    },
    {
     "name": "stderr",
     "output_type": "stream",
     "text": [
      "Generating predictions [Paris] (area_id: 13): 100%|██████████| 20/20 [00:02<00:00,  8.83it/s]\n",
      "Saving results to DB [Paris] (area_id: 13): 100%|██████████| 159/159 [00:11<00:00, 14.06it/s]\n"
     ]
    },
    {
     "name": "stdout",
     "output_type": "stream",
     "text": [
      "Hex cache size: 3504771 / 3504771 / 34\n",
      "Hex cache size: 3504771 / 3504771 / 34\n"
     ]
    },
    {
     "name": "stderr",
     "output_type": "stream",
     "text": [
      "Generating predictions [Paris] (area_id: 14): 100%|██████████| 20/20 [00:01<00:00, 11.35it/s]\n",
      "Saving results to DB [Paris] (area_id: 14): 100%|██████████| 111/111 [00:13<00:00,  8.34it/s]\n"
     ]
    },
    {
     "name": "stdout",
     "output_type": "stream",
     "text": [
      "Hex cache size: 3504771 / 3504771 / 34\n",
      "Hex cache size: 3504771 / 3504771 / 34\n"
     ]
    },
    {
     "name": "stderr",
     "output_type": "stream",
     "text": [
      "Generating predictions [Paris] (area_id: 15): 100%|██████████| 20/20 [00:01<00:00, 10.78it/s]\n",
      "Saving results to DB [Paris] (area_id: 15): 100%|██████████| 122/122 [00:08<00:00, 14.38it/s]\n"
     ]
    },
    {
     "name": "stdout",
     "output_type": "stream",
     "text": [
      "Hex cache size: 3504771 / 3504771 / 34\n",
      "Hex cache size: 3504771 / 3504771 / 34\n"
     ]
    },
    {
     "name": "stderr",
     "output_type": "stream",
     "text": [
      "Generating predictions [Paris] (area_id: 16): 100%|██████████| 20/20 [00:01<00:00, 15.48it/s]\n",
      "Saving results to DB [Paris] (area_id: 16): 100%|██████████| 59/59 [00:03<00:00, 14.81it/s]\n"
     ]
    },
    {
     "name": "stdout",
     "output_type": "stream",
     "text": [
      "Hex cache size: 3504771 / 3504771 / 34\n",
      "Hex cache size: 3504771 / 3504771 / 34\n"
     ]
    },
    {
     "name": "stderr",
     "output_type": "stream",
     "text": [
      "Generating predictions [Paris] (area_id: 17): 100%|██████████| 20/20 [00:00<00:00, 23.57it/s]\n",
      "Saving results to DB [Paris] (area_id: 17): 100%|██████████| 30/30 [00:01<00:00, 15.37it/s]\n"
     ]
    },
    {
     "name": "stdout",
     "output_type": "stream",
     "text": [
      "Hex cache size: 3504771 / 3504771 / 34\n",
      "Hex cache size: 3504771 / 3504771 / 34\n"
     ]
    },
    {
     "name": "stderr",
     "output_type": "stream",
     "text": [
      "Generating predictions [Paris] (area_id: 18): 100%|██████████| 20/20 [00:01<00:00, 15.20it/s]\n",
      "Saving results to DB [Paris] (area_id: 18): 100%|██████████| 63/63 [00:04<00:00, 15.12it/s]\n"
     ]
    },
    {
     "name": "stdout",
     "output_type": "stream",
     "text": [
      "Hex cache size: 3504771 / 3504771 / 34\n",
      "Hex cache size: 3504771 / 3504771 / 34\n"
     ]
    },
    {
     "name": "stderr",
     "output_type": "stream",
     "text": [
      "Generating predictions [Paris] (area_id: 19): 100%|██████████| 20/20 [00:04<00:00,  4.41it/s]\n",
      "Saving results to DB [Paris] (area_id: 19): 100%|██████████| 379/379 [00:36<00:00, 10.30it/s]\n"
     ]
    },
    {
     "name": "stdout",
     "output_type": "stream",
     "text": [
      "Hex cache size: 3504771 / 3504771 / 34\n",
      "Hex cache size: 3504771 / 3504771 / 34\n"
     ]
    },
    {
     "name": "stderr",
     "output_type": "stream",
     "text": [
      "Generating predictions [Paris] (area_id: 20): 100%|██████████| 20/20 [00:03<00:00,  5.23it/s]\n",
      "Saving results to DB [Paris] (area_id: 20): 100%|██████████| 295/295 [00:22<00:00, 13.06it/s]\n"
     ]
    },
    {
     "name": "stdout",
     "output_type": "stream",
     "text": [
      "Hex cache size: 3504771 / 3504771 / 34\n",
      "Hex cache size: 3504771 / 3504771 / 34\n"
     ]
    },
    {
     "name": "stderr",
     "output_type": "stream",
     "text": [
      "Generating predictions [Paris] (area_id: 21): 100%|██████████| 20/20 [00:00<00:00, 21.99it/s]\n",
      "Saving results to DB [Paris] (area_id: 21): 100%|██████████| 37/37 [00:07<00:00,  4.74it/s]\n"
     ]
    },
    {
     "name": "stdout",
     "output_type": "stream",
     "text": [
      "Hex cache size: 3504771 / 3504771 / 34\n",
      "Hex cache size: 3504771 / 3504771 / 34\n"
     ]
    },
    {
     "name": "stderr",
     "output_type": "stream",
     "text": [
      "Generating predictions [Paris] (area_id: 22): 100%|██████████| 20/20 [00:01<00:00, 16.13it/s]\n",
      "Saving results to DB [Paris] (area_id: 22): 100%|██████████| 54/54 [00:03<00:00, 14.64it/s]\n"
     ]
    },
    {
     "name": "stdout",
     "output_type": "stream",
     "text": [
      "Hex cache size: 3504771 / 3504771 / 34\n",
      "Hex cache size: 3504771 / 3504771 / 34\n"
     ]
    },
    {
     "name": "stderr",
     "output_type": "stream",
     "text": [
      "Generating predictions [Paris] (area_id: 23): 100%|██████████| 20/20 [00:02<00:00,  9.95it/s]\n",
      "Saving results to DB [Paris] (area_id: 23): 100%|██████████| 136/136 [00:09<00:00, 14.25it/s]\n"
     ]
    },
    {
     "name": "stdout",
     "output_type": "stream",
     "text": [
      "Hex cache size: 3504771 / 3504771 / 34\n",
      "Hex cache size: 3504771 / 3504771 / 34\n"
     ]
    },
    {
     "name": "stderr",
     "output_type": "stream",
     "text": [
      "Generating predictions [Paris] (area_id: 24): 100%|██████████| 20/20 [00:03<00:00,  5.84it/s]\n",
      "Saving results to DB [Paris] (area_id: 24): 100%|██████████| 265/265 [00:24<00:00, 10.73it/s]\n"
     ]
    },
    {
     "name": "stdout",
     "output_type": "stream",
     "text": [
      "Hex cache size: 3504771 / 3504771 / 34\n",
      "Hex cache size: 3504771 / 3504771 / 34\n"
     ]
    },
    {
     "name": "stderr",
     "output_type": "stream",
     "text": [
      "Generating predictions [Paris] (area_id: 25): 100%|██████████| 20/20 [00:01<00:00, 11.83it/s]\n",
      "Saving results to DB [Paris] (area_id: 25): 100%|██████████| 106/106 [00:07<00:00, 13.88it/s]\n"
     ]
    },
    {
     "name": "stdout",
     "output_type": "stream",
     "text": [
      "Hex cache size: 3504771 / 3504771 / 34\n",
      "Hex cache size: 3504771 / 3504771 / 34\n"
     ]
    },
    {
     "name": "stderr",
     "output_type": "stream",
     "text": [
      "Generating predictions [Paris] (area_id: 26): 100%|██████████| 20/20 [00:02<00:00,  9.29it/s]\n",
      "Saving results to DB [Paris] (area_id: 26): 100%|██████████| 152/152 [00:13<00:00, 11.12it/s]\n"
     ]
    },
    {
     "name": "stdout",
     "output_type": "stream",
     "text": [
      "Hex cache size: 3504771 / 3504771 / 34\n",
      "Hex cache size: 3504771 / 3504771 / 34\n"
     ]
    },
    {
     "name": "stderr",
     "output_type": "stream",
     "text": [
      "Generating predictions [Paris] (area_id: 27): 100%|██████████| 20/20 [00:01<00:00, 18.67it/s]\n",
      "Saving results to DB [Paris] (area_id: 27): 100%|██████████| 49/49 [00:03<00:00, 14.33it/s]\n"
     ]
    },
    {
     "name": "stdout",
     "output_type": "stream",
     "text": [
      "Hex cache size: 3504771 / 3504771 / 34\n",
      "Hex cache size: 3504771 / 3504771 / 34\n"
     ]
    },
    {
     "name": "stderr",
     "output_type": "stream",
     "text": [
      "Generating predictions [Paris] (area_id: 28): 100%|██████████| 20/20 [00:01<00:00, 17.21it/s]\n",
      "Saving results to DB [Paris] (area_id: 28): 100%|██████████| 53/53 [00:03<00:00, 14.52it/s]\n"
     ]
    },
    {
     "name": "stdout",
     "output_type": "stream",
     "text": [
      "Hex cache size: 3504771 / 3504771 / 34\n",
      "Hex cache size: 3504771 / 3504771 / 34\n"
     ]
    },
    {
     "name": "stderr",
     "output_type": "stream",
     "text": [
      "Generating predictions [Paris] (area_id: 29): 100%|██████████| 20/20 [00:00<00:00, 22.07it/s]\n",
      "Saving results to DB [Paris] (area_id: 29): 100%|██████████| 34/34 [00:02<00:00, 14.78it/s]\n"
     ]
    },
    {
     "name": "stdout",
     "output_type": "stream",
     "text": [
      "Hex cache size: 3504771 / 3504771 / 34\n",
      "Hex cache size: 3504771 / 3504771 / 34\n"
     ]
    },
    {
     "name": "stderr",
     "output_type": "stream",
     "text": [
      "Generating predictions [Paris] (area_id: 30): 100%|██████████| 20/20 [00:01<00:00, 15.77it/s]\n",
      "Saving results to DB [Paris] (area_id: 30): 100%|██████████| 50/50 [00:03<00:00, 15.23it/s]\n"
     ]
    },
    {
     "name": "stdout",
     "output_type": "stream",
     "text": [
      "Hex cache size: 3504771 / 3504771 / 34\n",
      "Hex cache size: 3504771 / 3504771 / 34\n"
     ]
    },
    {
     "name": "stderr",
     "output_type": "stream",
     "text": [
      "Generating predictions [Paris] (area_id: 31): 100%|██████████| 20/20 [00:02<00:00,  8.29it/s]\n",
      "Saving results to DB [Paris] (area_id: 31): 100%|██████████| 174/174 [00:18<00:00,  9.37it/s]\n"
     ]
    },
    {
     "name": "stdout",
     "output_type": "stream",
     "text": [
      "Hex cache size: 3504771 / 3504771 / 34\n",
      "Hex cache size: 3504771 / 3504771 / 34\n"
     ]
    },
    {
     "name": "stderr",
     "output_type": "stream",
     "text": [
      "Generating predictions [Paris] (area_id: 32): 100%|██████████| 20/20 [00:01<00:00, 10.03it/s]\n",
      "Saving results to DB [Paris] (area_id: 32): 100%|██████████| 127/127 [00:08<00:00, 14.47it/s]\n"
     ]
    },
    {
     "name": "stdout",
     "output_type": "stream",
     "text": [
      "Hex cache size: 3504771 / 3504771 / 34\n",
      "Hex cache size: 3504771 / 3504771 / 34\n"
     ]
    },
    {
     "name": "stderr",
     "output_type": "stream",
     "text": [
      "Generating predictions [Paris] (area_id: 33): 100%|██████████| 20/20 [00:00<00:00, 21.99it/s]\n",
      "Saving results to DB [Paris] (area_id: 33): 100%|██████████| 33/33 [00:02<00:00, 15.23it/s]\n"
     ]
    },
    {
     "name": "stdout",
     "output_type": "stream",
     "text": [
      "Hex cache size: 3504771 / 3504771 / 34\n",
      "Hex cache size: 3504771 / 3504771 / 34\n"
     ]
    },
    {
     "name": "stderr",
     "output_type": "stream",
     "text": [
      "Generating predictions [Paris] (area_id: 34): 100%|██████████| 20/20 [00:01<00:00, 14.28it/s]\n",
      "Saving results to DB [Paris] (area_id: 34): 100%|██████████| 71/71 [00:11<00:00,  6.13it/s]\n"
     ]
    },
    {
     "name": "stdout",
     "output_type": "stream",
     "text": [
      "Hex cache size: 3504771 / 3504771 / 34\n",
      "Hex cache size: 3504771 / 3504771 / 34\n"
     ]
    },
    {
     "name": "stderr",
     "output_type": "stream",
     "text": [
      "Generating predictions [Poznań] (area_id: 1): 100%|██████████| 20/20 [00:25<00:00,  1.25s/it]\n",
      "Saving results to DB [Poznań] (area_id: 1): 100%|██████████| 57/57 [00:04<00:00, 14.12it/s]\n"
     ]
    },
    {
     "name": "stdout",
     "output_type": "stream",
     "text": [
      "Hex cache size: 3504771 / 3504771 / 34\n",
      "Hex cache size: 3504771 / 3504771 / 34\n"
     ]
    },
    {
     "name": "stderr",
     "output_type": "stream",
     "text": [
      "Generating predictions [Poznań] (area_id: 2): 100%|██████████| 20/20 [00:00<00:00, 25.40it/s]\n",
      "Saving results to DB [Poznań] (area_id: 2): 100%|██████████| 43/43 [00:02<00:00, 14.67it/s]\n"
     ]
    },
    {
     "name": "stdout",
     "output_type": "stream",
     "text": [
      "Hex cache size: 3504771 / 3504771 / 34\n",
      "Hex cache size: 3504771 / 3504771 / 34\n"
     ]
    },
    {
     "name": "stderr",
     "output_type": "stream",
     "text": [
      "Generating predictions [Poznań] (area_id: 3): 100%|██████████| 20/20 [00:01<00:00, 13.50it/s]\n",
      "Saving results to DB [Poznań] (area_id: 3): 100%|██████████| 123/123 [00:08<00:00, 14.36it/s]\n"
     ]
    },
    {
     "name": "stdout",
     "output_type": "stream",
     "text": [
      "Hex cache size: 3504771 / 3504771 / 34\n",
      "Hex cache size: 3504771 / 3504771 / 34\n"
     ]
    },
    {
     "name": "stderr",
     "output_type": "stream",
     "text": [
      "Generating predictions [Poznań] (area_id: 4): 100%|██████████| 20/20 [00:00<00:00, 24.23it/s]\n",
      "Saving results to DB [Poznań] (area_id: 4): 100%|██████████| 54/54 [00:03<00:00, 14.48it/s]\n"
     ]
    },
    {
     "name": "stdout",
     "output_type": "stream",
     "text": [
      "Hex cache size: 3504771 / 3504771 / 34\n",
      "Hex cache size: 3504771 / 3504771 / 34\n"
     ]
    },
    {
     "name": "stderr",
     "output_type": "stream",
     "text": [
      "Generating predictions [Poznań] (area_id: 5): 100%|██████████| 20/20 [00:01<00:00, 11.94it/s]\n",
      "Saving results to DB [Poznań] (area_id: 5): 100%|██████████| 144/144 [00:10<00:00, 13.85it/s]\n"
     ]
    },
    {
     "name": "stdout",
     "output_type": "stream",
     "text": [
      "Hex cache size: 3504771 / 3504771 / 34\n",
      "Hex cache size: 3504771 / 3504771 / 34\n"
     ]
    },
    {
     "name": "stderr",
     "output_type": "stream",
     "text": [
      "Generating predictions [Poznań] (area_id: 6): 100%|██████████| 20/20 [00:01<00:00, 18.80it/s]\n",
      "Saving results to DB [Poznań] (area_id: 6): 100%|██████████| 71/71 [00:05<00:00, 14.13it/s]\n"
     ]
    },
    {
     "name": "stdout",
     "output_type": "stream",
     "text": [
      "Hex cache size: 3504771 / 3504771 / 34\n",
      "Hex cache size: 3504771 / 3504771 / 34\n"
     ]
    },
    {
     "name": "stderr",
     "output_type": "stream",
     "text": [
      "Generating predictions [Poznań] (area_id: 7): 100%|██████████| 20/20 [00:01<00:00, 16.66it/s]\n",
      "Saving results to DB [Poznań] (area_id: 7): 100%|██████████| 84/84 [00:05<00:00, 14.16it/s]\n"
     ]
    },
    {
     "name": "stdout",
     "output_type": "stream",
     "text": [
      "Hex cache size: 3504771 / 3504771 / 34\n",
      "Hex cache size: 3504771 / 3504771 / 34\n"
     ]
    },
    {
     "name": "stderr",
     "output_type": "stream",
     "text": [
      "Generating predictions [Poznań] (area_id: 8): 100%|██████████| 20/20 [00:00<00:00, 23.92it/s]\n",
      "Saving results to DB [Poznań] (area_id: 8): 100%|██████████| 50/50 [00:03<00:00, 13.71it/s]\n"
     ]
    },
    {
     "name": "stdout",
     "output_type": "stream",
     "text": [
      "Hex cache size: 3504771 / 3504771 / 34\n",
      "Hex cache size: 3504771 / 3504771 / 34\n"
     ]
    },
    {
     "name": "stderr",
     "output_type": "stream",
     "text": [
      "Generating predictions [Poznań] (area_id: 9): 100%|██████████| 20/20 [00:00<00:00, 22.11it/s]\n",
      "Saving results to DB [Poznań] (area_id: 9): 100%|██████████| 60/60 [00:04<00:00, 14.18it/s]\n"
     ]
    },
    {
     "name": "stdout",
     "output_type": "stream",
     "text": [
      "Hex cache size: 3504771 / 3504771 / 34\n",
      "Hex cache size: 3504771 / 3504771 / 34\n"
     ]
    },
    {
     "name": "stderr",
     "output_type": "stream",
     "text": [
      "Generating predictions [Poznań] (area_id: 10): 100%|██████████| 20/20 [00:00<00:00, 20.45it/s]\n",
      "Saving results to DB [Poznań] (area_id: 10): 100%|██████████| 65/65 [00:04<00:00, 15.04it/s]\n"
     ]
    },
    {
     "name": "stdout",
     "output_type": "stream",
     "text": [
      "Hex cache size: 3504771 / 3504771 / 34\n",
      "Hex cache size: 3504771 / 3504771 / 34\n"
     ]
    },
    {
     "name": "stderr",
     "output_type": "stream",
     "text": [
      "Generating predictions [Poznań] (area_id: 11): 100%|██████████| 20/20 [00:00<00:00, 21.97it/s]\n",
      "Saving results to DB [Poznań] (area_id: 11): 100%|██████████| 60/60 [00:04<00:00, 14.63it/s]\n"
     ]
    },
    {
     "name": "stdout",
     "output_type": "stream",
     "text": [
      "Hex cache size: 3504771 / 3504771 / 34\n",
      "Hex cache size: 3504771 / 3504771 / 34\n"
     ]
    },
    {
     "name": "stderr",
     "output_type": "stream",
     "text": [
      "Generating predictions [Poznań] (area_id: 12): 100%|██████████| 20/20 [00:01<00:00, 11.69it/s]\n",
      "Saving results to DB [Poznań] (area_id: 12): 100%|██████████| 153/153 [00:10<00:00, 13.99it/s]\n"
     ]
    },
    {
     "name": "stdout",
     "output_type": "stream",
     "text": [
      "Hex cache size: 3504771 / 3504771 / 34\n",
      "Hex cache size: 3504771 / 3504771 / 34\n"
     ]
    },
    {
     "name": "stderr",
     "output_type": "stream",
     "text": [
      "Generating predictions [Poznań] (area_id: 13): 100%|██████████| 20/20 [00:01<00:00, 10.00it/s]\n",
      "Saving results to DB [Poznań] (area_id: 13): 100%|██████████| 159/159 [00:12<00:00, 13.10it/s]\n"
     ]
    },
    {
     "name": "stdout",
     "output_type": "stream",
     "text": [
      "Hex cache size: 3504771 / 3504771 / 34\n",
      "Hex cache size: 3504771 / 3504771 / 34\n"
     ]
    },
    {
     "name": "stderr",
     "output_type": "stream",
     "text": [
      "Generating predictions [Poznań] (area_id: 14): 100%|██████████| 20/20 [00:01<00:00, 14.35it/s]\n",
      "Saving results to DB [Poznań] (area_id: 14): 100%|██████████| 111/111 [00:07<00:00, 14.27it/s]\n"
     ]
    },
    {
     "name": "stdout",
     "output_type": "stream",
     "text": [
      "Hex cache size: 3504771 / 3504771 / 34\n",
      "Hex cache size: 3504771 / 3504771 / 34\n"
     ]
    },
    {
     "name": "stderr",
     "output_type": "stream",
     "text": [
      "Generating predictions [Poznań] (area_id: 15): 100%|██████████| 20/20 [00:01<00:00, 13.40it/s]\n",
      "Saving results to DB [Poznań] (area_id: 15): 100%|██████████| 122/122 [00:14<00:00,  8.65it/s]\n"
     ]
    },
    {
     "name": "stdout",
     "output_type": "stream",
     "text": [
      "Hex cache size: 3504771 / 3504771 / 34\n",
      "Hex cache size: 3504771 / 3504771 / 34\n"
     ]
    },
    {
     "name": "stderr",
     "output_type": "stream",
     "text": [
      "Generating predictions [Poznań] (area_id: 16): 100%|██████████| 20/20 [00:01<00:00, 19.48it/s]\n",
      "Saving results to DB [Poznań] (area_id: 16): 100%|██████████| 59/59 [00:03<00:00, 14.75it/s]\n"
     ]
    },
    {
     "name": "stdout",
     "output_type": "stream",
     "text": [
      "Hex cache size: 3504771 / 3504771 / 34\n",
      "Hex cache size: 3504771 / 3504771 / 34\n"
     ]
    },
    {
     "name": "stderr",
     "output_type": "stream",
     "text": [
      "Generating predictions [Poznań] (area_id: 17): 100%|██████████| 20/20 [00:00<00:00, 31.56it/s]\n",
      "Saving results to DB [Poznań] (area_id: 17): 100%|██████████| 30/30 [00:01<00:00, 15.10it/s]\n"
     ]
    },
    {
     "name": "stdout",
     "output_type": "stream",
     "text": [
      "Hex cache size: 3504771 / 3504771 / 34\n",
      "Hex cache size: 3504771 / 3504771 / 34\n"
     ]
    },
    {
     "name": "stderr",
     "output_type": "stream",
     "text": [
      "Generating predictions [Poznań] (area_id: 18): 100%|██████████| 20/20 [00:00<00:00, 21.52it/s]\n",
      "Saving results to DB [Poznań] (area_id: 18): 100%|██████████| 63/63 [00:04<00:00, 14.30it/s]\n"
     ]
    },
    {
     "name": "stdout",
     "output_type": "stream",
     "text": [
      "Hex cache size: 3504771 / 3504771 / 34\n",
      "Hex cache size: 3504771 / 3504771 / 34\n"
     ]
    },
    {
     "name": "stderr",
     "output_type": "stream",
     "text": [
      "Generating predictions [Poznań] (area_id: 19): 100%|██████████| 20/20 [00:03<00:00,  5.19it/s]\n",
      "Saving results to DB [Poznań] (area_id: 19): 100%|██████████| 379/379 [00:39<00:00,  9.56it/s]\n"
     ]
    },
    {
     "name": "stdout",
     "output_type": "stream",
     "text": [
      "Hex cache size: 3504771 / 3504771 / 34\n",
      "Hex cache size: 3504771 / 3504771 / 34\n"
     ]
    },
    {
     "name": "stderr",
     "output_type": "stream",
     "text": [
      "Generating predictions [Poznań] (area_id: 20): 100%|██████████| 20/20 [00:02<00:00,  6.68it/s]\n",
      "Saving results to DB [Poznań] (area_id: 20): 100%|██████████| 295/295 [00:28<00:00, 10.22it/s]\n"
     ]
    },
    {
     "name": "stdout",
     "output_type": "stream",
     "text": [
      "Hex cache size: 3504771 / 3504771 / 34\n",
      "Hex cache size: 3504771 / 3504771 / 34\n"
     ]
    },
    {
     "name": "stderr",
     "output_type": "stream",
     "text": [
      "Generating predictions [Poznań] (area_id: 21): 100%|██████████| 20/20 [00:00<00:00, 29.09it/s]\n",
      "Saving results to DB [Poznań] (area_id: 21): 100%|██████████| 37/37 [00:06<00:00,  5.42it/s]\n"
     ]
    },
    {
     "name": "stdout",
     "output_type": "stream",
     "text": [
      "Hex cache size: 3504771 / 3504771 / 34\n",
      "Hex cache size: 3504771 / 3504771 / 34\n"
     ]
    },
    {
     "name": "stderr",
     "output_type": "stream",
     "text": [
      "Generating predictions [Poznań] (area_id: 22): 100%|██████████| 20/20 [00:00<00:00, 23.52it/s]\n",
      "Saving results to DB [Poznań] (area_id: 22): 100%|██████████| 54/54 [00:03<00:00, 13.51it/s]\n"
     ]
    },
    {
     "name": "stdout",
     "output_type": "stream",
     "text": [
      "Hex cache size: 3504771 / 3504771 / 34\n",
      "Hex cache size: 3504771 / 3504771 / 34\n"
     ]
    },
    {
     "name": "stderr",
     "output_type": "stream",
     "text": [
      "Generating predictions [Poznań] (area_id: 23): 100%|██████████| 20/20 [00:01<00:00, 12.22it/s]\n",
      "Saving results to DB [Poznań] (area_id: 23): 100%|██████████| 136/136 [00:10<00:00, 13.54it/s]\n"
     ]
    },
    {
     "name": "stdout",
     "output_type": "stream",
     "text": [
      "Hex cache size: 3504771 / 3504771 / 34\n",
      "Hex cache size: 3504771 / 3504771 / 34\n"
     ]
    },
    {
     "name": "stderr",
     "output_type": "stream",
     "text": [
      "Generating predictions [Poznań] (area_id: 24): 100%|██████████| 20/20 [00:02<00:00,  7.17it/s]\n",
      "Saving results to DB [Poznań] (area_id: 24): 100%|██████████| 265/265 [00:26<00:00, 10.11it/s]\n"
     ]
    },
    {
     "name": "stdout",
     "output_type": "stream",
     "text": [
      "Hex cache size: 3504771 / 3504771 / 34\n",
      "Hex cache size: 3504771 / 3504771 / 34\n"
     ]
    },
    {
     "name": "stderr",
     "output_type": "stream",
     "text": [
      "Generating predictions [Poznań] (area_id: 25): 100%|██████████| 20/20 [00:01<00:00, 14.28it/s]\n",
      "Saving results to DB [Poznań] (area_id: 25): 100%|██████████| 106/106 [00:07<00:00, 13.41it/s]\n"
     ]
    },
    {
     "name": "stdout",
     "output_type": "stream",
     "text": [
      "Hex cache size: 3504771 / 3504771 / 34\n",
      "Hex cache size: 3504771 / 3504771 / 34\n"
     ]
    },
    {
     "name": "stderr",
     "output_type": "stream",
     "text": [
      "Generating predictions [Poznań] (area_id: 26): 100%|██████████| 20/20 [00:01<00:00, 11.57it/s]\n",
      "Saving results to DB [Poznań] (area_id: 26): 100%|██████████| 152/152 [00:14<00:00, 10.71it/s]\n"
     ]
    },
    {
     "name": "stdout",
     "output_type": "stream",
     "text": [
      "Hex cache size: 3504771 / 3504771 / 34\n",
      "Hex cache size: 3504771 / 3504771 / 34\n"
     ]
    },
    {
     "name": "stderr",
     "output_type": "stream",
     "text": [
      "Generating predictions [Poznań] (area_id: 27): 100%|██████████| 20/20 [00:00<00:00, 22.28it/s]\n",
      "Saving results to DB [Poznań] (area_id: 27): 100%|██████████| 49/49 [00:03<00:00, 14.77it/s]\n"
     ]
    },
    {
     "name": "stdout",
     "output_type": "stream",
     "text": [
      "Hex cache size: 3504771 / 3504771 / 34\n",
      "Hex cache size: 3504771 / 3504771 / 34\n"
     ]
    },
    {
     "name": "stderr",
     "output_type": "stream",
     "text": [
      "Generating predictions [Poznań] (area_id: 28): 100%|██████████| 20/20 [00:00<00:00, 23.17it/s]\n",
      "Saving results to DB [Poznań] (area_id: 28): 100%|██████████| 53/53 [00:03<00:00, 14.54it/s]\n"
     ]
    },
    {
     "name": "stdout",
     "output_type": "stream",
     "text": [
      "Hex cache size: 3504771 / 3504771 / 34\n",
      "Hex cache size: 3504771 / 3504771 / 34\n"
     ]
    },
    {
     "name": "stderr",
     "output_type": "stream",
     "text": [
      "Generating predictions [Poznań] (area_id: 29): 100%|██████████| 20/20 [00:00<00:00, 30.24it/s]\n",
      "Saving results to DB [Poznań] (area_id: 29): 100%|██████████| 34/34 [00:02<00:00, 14.94it/s]\n"
     ]
    },
    {
     "name": "stdout",
     "output_type": "stream",
     "text": [
      "Hex cache size: 3504771 / 3504771 / 34\n",
      "Hex cache size: 3504771 / 3504771 / 34\n"
     ]
    },
    {
     "name": "stderr",
     "output_type": "stream",
     "text": [
      "Generating predictions [Poznań] (area_id: 30): 100%|██████████| 20/20 [00:00<00:00, 23.75it/s]\n",
      "Saving results to DB [Poznań] (area_id: 30): 100%|██████████| 50/50 [00:03<00:00, 14.68it/s]\n"
     ]
    },
    {
     "name": "stdout",
     "output_type": "stream",
     "text": [
      "Hex cache size: 3504771 / 3504771 / 34\n",
      "Hex cache size: 3504771 / 3504771 / 34\n"
     ]
    },
    {
     "name": "stderr",
     "output_type": "stream",
     "text": [
      "Generating predictions [Poznań] (area_id: 31): 100%|██████████| 20/20 [00:02<00:00,  9.11it/s]\n",
      "Saving results to DB [Poznań] (area_id: 31): 100%|██████████| 174/174 [00:18<00:00,  9.20it/s]\n"
     ]
    },
    {
     "name": "stdout",
     "output_type": "stream",
     "text": [
      "Hex cache size: 3504771 / 3504771 / 34\n",
      "Hex cache size: 3504771 / 3504771 / 34\n"
     ]
    },
    {
     "name": "stderr",
     "output_type": "stream",
     "text": [
      "Generating predictions [Poznań] (area_id: 32): 100%|██████████| 20/20 [00:01<00:00, 13.15it/s]\n",
      "Saving results to DB [Poznań] (area_id: 32): 100%|██████████| 127/127 [00:09<00:00, 13.81it/s]\n"
     ]
    },
    {
     "name": "stdout",
     "output_type": "stream",
     "text": [
      "Hex cache size: 3504771 / 3504771 / 34\n",
      "Hex cache size: 3504771 / 3504771 / 34\n"
     ]
    },
    {
     "name": "stderr",
     "output_type": "stream",
     "text": [
      "Generating predictions [Poznań] (area_id: 33): 100%|██████████| 20/20 [00:00<00:00, 30.61it/s]\n",
      "Saving results to DB [Poznań] (area_id: 33): 100%|██████████| 33/33 [00:02<00:00, 14.89it/s]\n"
     ]
    },
    {
     "name": "stdout",
     "output_type": "stream",
     "text": [
      "Hex cache size: 3504771 / 3504771 / 34\n",
      "Hex cache size: 3504771 / 3504771 / 34\n"
     ]
    },
    {
     "name": "stderr",
     "output_type": "stream",
     "text": [
      "Generating predictions [Poznań] (area_id: 34): 100%|██████████| 20/20 [00:01<00:00, 19.56it/s]\n",
      "Saving results to DB [Poznań] (area_id: 34): 100%|██████████| 71/71 [00:09<00:00,  7.50it/s]\n"
     ]
    },
    {
     "name": "stdout",
     "output_type": "stream",
     "text": [
      "Hex cache size: 3504771 / 3504771 / 34\n",
      "Hex cache size: 3504771 / 3504771 / 34\n"
     ]
    },
    {
     "name": "stderr",
     "output_type": "stream",
     "text": [
      "Generating predictions [Prague] (area_id: 1): 100%|██████████| 20/20 [00:30<00:00,  1.54s/it]\n",
      "Saving results to DB [Prague] (area_id: 1): 100%|██████████| 57/57 [00:03<00:00, 14.35it/s]\n"
     ]
    },
    {
     "name": "stdout",
     "output_type": "stream",
     "text": [
      "Hex cache size: 3504771 / 3504771 / 34\n",
      "Hex cache size: 3504771 / 3504771 / 34\n"
     ]
    },
    {
     "name": "stderr",
     "output_type": "stream",
     "text": [
      "Generating predictions [Prague] (area_id: 2): 100%|██████████| 20/20 [00:00<00:00, 23.25it/s]\n",
      "Saving results to DB [Prague] (area_id: 2): 100%|██████████| 43/43 [00:03<00:00, 14.26it/s]\n"
     ]
    },
    {
     "name": "stdout",
     "output_type": "stream",
     "text": [
      "Hex cache size: 3504771 / 3504771 / 34\n",
      "Hex cache size: 3504771 / 3504771 / 34\n"
     ]
    },
    {
     "name": "stderr",
     "output_type": "stream",
     "text": [
      "Generating predictions [Prague] (area_id: 3): 100%|██████████| 20/20 [00:01<00:00, 11.00it/s]\n",
      "Saving results to DB [Prague] (area_id: 3): 100%|██████████| 123/123 [00:08<00:00, 14.01it/s]\n"
     ]
    },
    {
     "name": "stdout",
     "output_type": "stream",
     "text": [
      "Hex cache size: 3504771 / 3504771 / 34\n",
      "Hex cache size: 3504771 / 3504771 / 34\n"
     ]
    },
    {
     "name": "stderr",
     "output_type": "stream",
     "text": [
      "Generating predictions [Prague] (area_id: 4): 100%|██████████| 20/20 [00:00<00:00, 20.19it/s]\n",
      "Saving results to DB [Prague] (area_id: 4): 100%|██████████| 54/54 [00:04<00:00, 13.40it/s]\n"
     ]
    },
    {
     "name": "stdout",
     "output_type": "stream",
     "text": [
      "Hex cache size: 3504771 / 3504771 / 34\n",
      "Hex cache size: 3504771 / 3504771 / 34\n"
     ]
    },
    {
     "name": "stderr",
     "output_type": "stream",
     "text": [
      "Generating predictions [Prague] (area_id: 5): 100%|██████████| 20/20 [00:01<00:00, 10.30it/s]\n",
      "Saving results to DB [Prague] (area_id: 5): 100%|██████████| 144/144 [00:16<00:00,  8.50it/s]\n"
     ]
    },
    {
     "name": "stdout",
     "output_type": "stream",
     "text": [
      "Hex cache size: 3504771 / 3504771 / 34\n",
      "Hex cache size: 3504771 / 3504771 / 34\n"
     ]
    },
    {
     "name": "stderr",
     "output_type": "stream",
     "text": [
      "Generating predictions [Prague] (area_id: 6): 100%|██████████| 20/20 [00:01<00:00, 17.41it/s]\n",
      "Saving results to DB [Prague] (area_id: 6): 100%|██████████| 71/71 [00:05<00:00, 13.79it/s]\n"
     ]
    },
    {
     "name": "stdout",
     "output_type": "stream",
     "text": [
      "Hex cache size: 3504771 / 3504771 / 34\n",
      "Hex cache size: 3504771 / 3504771 / 34\n"
     ]
    },
    {
     "name": "stderr",
     "output_type": "stream",
     "text": [
      "Generating predictions [Prague] (area_id: 7): 100%|██████████| 20/20 [00:01<00:00, 15.14it/s]\n",
      "Saving results to DB [Prague] (area_id: 7): 100%|██████████| 84/84 [00:05<00:00, 14.38it/s]\n"
     ]
    },
    {
     "name": "stdout",
     "output_type": "stream",
     "text": [
      "Hex cache size: 3504771 / 3504771 / 34\n",
      "Hex cache size: 3504771 / 3504771 / 34\n"
     ]
    },
    {
     "name": "stderr",
     "output_type": "stream",
     "text": [
      "Generating predictions [Prague] (area_id: 8): 100%|██████████| 20/20 [00:00<00:00, 21.18it/s]\n",
      "Saving results to DB [Prague] (area_id: 8): 100%|██████████| 50/50 [00:07<00:00,  6.53it/s]\n"
     ]
    },
    {
     "name": "stdout",
     "output_type": "stream",
     "text": [
      "Hex cache size: 3504771 / 3504771 / 34\n",
      "Hex cache size: 3504771 / 3504771 / 34\n"
     ]
    },
    {
     "name": "stderr",
     "output_type": "stream",
     "text": [
      "Generating predictions [Prague] (area_id: 9): 100%|██████████| 20/20 [00:01<00:00, 17.35it/s]\n",
      "Saving results to DB [Prague] (area_id: 9): 100%|██████████| 60/60 [00:04<00:00, 14.95it/s]\n"
     ]
    },
    {
     "name": "stdout",
     "output_type": "stream",
     "text": [
      "Hex cache size: 3504771 / 3504771 / 34\n",
      "Hex cache size: 3504771 / 3504771 / 34\n"
     ]
    },
    {
     "name": "stderr",
     "output_type": "stream",
     "text": [
      "Generating predictions [Prague] (area_id: 10): 100%|██████████| 20/20 [00:01<00:00, 18.09it/s]\n",
      "Saving results to DB [Prague] (area_id: 10): 100%|██████████| 65/65 [00:04<00:00, 13.92it/s]\n"
     ]
    },
    {
     "name": "stdout",
     "output_type": "stream",
     "text": [
      "Hex cache size: 3504771 / 3504771 / 34\n",
      "Hex cache size: 3504771 / 3504771 / 34\n"
     ]
    },
    {
     "name": "stderr",
     "output_type": "stream",
     "text": [
      "Generating predictions [Prague] (area_id: 11): 100%|██████████| 20/20 [00:01<00:00, 19.03it/s]\n",
      "Saving results to DB [Prague] (area_id: 11): 100%|██████████| 60/60 [00:04<00:00, 14.03it/s]\n"
     ]
    },
    {
     "name": "stdout",
     "output_type": "stream",
     "text": [
      "Hex cache size: 3504771 / 3504771 / 34\n",
      "Hex cache size: 3504771 / 3504771 / 34\n"
     ]
    },
    {
     "name": "stderr",
     "output_type": "stream",
     "text": [
      "Generating predictions [Prague] (area_id: 12): 100%|██████████| 20/20 [00:02<00:00,  9.77it/s]\n",
      "Saving results to DB [Prague] (area_id: 12): 100%|██████████| 153/153 [00:12<00:00, 12.11it/s]\n"
     ]
    },
    {
     "name": "stdout",
     "output_type": "stream",
     "text": [
      "Hex cache size: 3504771 / 3504771 / 34\n",
      "Hex cache size: 3504771 / 3504771 / 34\n"
     ]
    },
    {
     "name": "stderr",
     "output_type": "stream",
     "text": [
      "Generating predictions [Prague] (area_id: 13): 100%|██████████| 20/20 [00:02<00:00,  9.53it/s]\n",
      "Saving results to DB [Prague] (area_id: 13): 100%|██████████| 159/159 [00:11<00:00, 13.52it/s]\n"
     ]
    },
    {
     "name": "stdout",
     "output_type": "stream",
     "text": [
      "Hex cache size: 3504771 / 3504771 / 34\n",
      "Hex cache size: 3504771 / 3504771 / 34\n"
     ]
    },
    {
     "name": "stderr",
     "output_type": "stream",
     "text": [
      "Generating predictions [Prague] (area_id: 14): 100%|██████████| 20/20 [00:01<00:00, 12.56it/s]\n",
      "Saving results to DB [Prague] (area_id: 14): 100%|██████████| 111/111 [00:07<00:00, 13.95it/s]\n"
     ]
    },
    {
     "name": "stdout",
     "output_type": "stream",
     "text": [
      "Hex cache size: 3504771 / 3504771 / 34\n",
      "Hex cache size: 3504771 / 3504771 / 34\n"
     ]
    },
    {
     "name": "stderr",
     "output_type": "stream",
     "text": [
      "Generating predictions [Prague] (area_id: 15): 100%|██████████| 20/20 [00:01<00:00, 11.80it/s]\n",
      "Saving results to DB [Prague] (area_id: 15): 100%|██████████| 122/122 [00:12<00:00, 10.13it/s]\n"
     ]
    },
    {
     "name": "stdout",
     "output_type": "stream",
     "text": [
      "Hex cache size: 3504771 / 3504771 / 34\n",
      "Hex cache size: 3504771 / 3504771 / 34\n"
     ]
    },
    {
     "name": "stderr",
     "output_type": "stream",
     "text": [
      "Generating predictions [Prague] (area_id: 16): 100%|██████████| 20/20 [00:01<00:00, 19.39it/s]\n",
      "Saving results to DB [Prague] (area_id: 16): 100%|██████████| 59/59 [00:04<00:00, 14.53it/s]\n"
     ]
    },
    {
     "name": "stdout",
     "output_type": "stream",
     "text": [
      "Hex cache size: 3504771 / 3504771 / 34\n",
      "Hex cache size: 3504771 / 3504771 / 34\n"
     ]
    },
    {
     "name": "stderr",
     "output_type": "stream",
     "text": [
      "Generating predictions [Prague] (area_id: 17): 100%|██████████| 20/20 [00:00<00:00, 27.52it/s]\n",
      "Saving results to DB [Prague] (area_id: 17): 100%|██████████| 30/30 [00:02<00:00, 14.46it/s]\n"
     ]
    },
    {
     "name": "stdout",
     "output_type": "stream",
     "text": [
      "Hex cache size: 3504771 / 3504771 / 34\n",
      "Hex cache size: 3504771 / 3504771 / 34\n"
     ]
    },
    {
     "name": "stderr",
     "output_type": "stream",
     "text": [
      "Generating predictions [Prague] (area_id: 18): 100%|██████████| 20/20 [00:01<00:00, 18.33it/s]\n",
      "Saving results to DB [Prague] (area_id: 18): 100%|██████████| 63/63 [00:04<00:00, 14.39it/s]\n"
     ]
    },
    {
     "name": "stdout",
     "output_type": "stream",
     "text": [
      "Hex cache size: 3504771 / 3504771 / 34\n",
      "Hex cache size: 3504771 / 3504771 / 34\n"
     ]
    },
    {
     "name": "stderr",
     "output_type": "stream",
     "text": [
      "Generating predictions [Prague] (area_id: 19): 100%|██████████| 20/20 [00:04<00:00,  4.45it/s]\n",
      "Saving results to DB [Prague] (area_id: 19): 100%|██████████| 379/379 [00:42<00:00,  9.00it/s]\n"
     ]
    },
    {
     "name": "stdout",
     "output_type": "stream",
     "text": [
      "Hex cache size: 3504771 / 3504771 / 34\n",
      "Hex cache size: 3504771 / 3504771 / 34\n"
     ]
    },
    {
     "name": "stderr",
     "output_type": "stream",
     "text": [
      "Generating predictions [Prague] (area_id: 20): 100%|██████████| 20/20 [00:03<00:00,  5.58it/s]\n",
      "Saving results to DB [Prague] (area_id: 20): 100%|██████████| 295/295 [00:37<00:00,  7.94it/s]\n"
     ]
    },
    {
     "name": "stdout",
     "output_type": "stream",
     "text": [
      "Hex cache size: 3504771 / 3504771 / 34\n",
      "Hex cache size: 3504771 / 3504771 / 34\n"
     ]
    },
    {
     "name": "stderr",
     "output_type": "stream",
     "text": [
      "Generating predictions [Prague] (area_id: 21): 100%|██████████| 20/20 [00:00<00:00, 24.87it/s]\n",
      "Saving results to DB [Prague] (area_id: 21): 100%|██████████| 37/37 [00:05<00:00,  6.85it/s]\n"
     ]
    },
    {
     "name": "stdout",
     "output_type": "stream",
     "text": [
      "Hex cache size: 3504771 / 3504771 / 34\n",
      "Hex cache size: 3504771 / 3504771 / 34\n"
     ]
    },
    {
     "name": "stderr",
     "output_type": "stream",
     "text": [
      "Generating predictions [Prague] (area_id: 22): 100%|██████████| 20/20 [00:00<00:00, 20.16it/s]\n",
      "Saving results to DB [Prague] (area_id: 22): 100%|██████████| 54/54 [00:03<00:00, 14.38it/s]\n"
     ]
    },
    {
     "name": "stdout",
     "output_type": "stream",
     "text": [
      "Hex cache size: 3504771 / 3504771 / 34\n",
      "Hex cache size: 3504771 / 3504771 / 34\n"
     ]
    },
    {
     "name": "stderr",
     "output_type": "stream",
     "text": [
      "Generating predictions [Prague] (area_id: 23): 100%|██████████| 20/20 [00:01<00:00, 10.92it/s]\n",
      "Saving results to DB [Prague] (area_id: 23): 100%|██████████| 136/136 [00:09<00:00, 14.28it/s]\n"
     ]
    },
    {
     "name": "stdout",
     "output_type": "stream",
     "text": [
      "Hex cache size: 3504771 / 3504771 / 34\n",
      "Hex cache size: 3504771 / 3504771 / 34\n"
     ]
    },
    {
     "name": "stderr",
     "output_type": "stream",
     "text": [
      "Generating predictions [Prague] (area_id: 24): 100%|██████████| 20/20 [00:03<00:00,  5.96it/s]\n",
      "Saving results to DB [Prague] (area_id: 24): 100%|██████████| 265/265 [00:26<00:00, 10.16it/s]\n"
     ]
    },
    {
     "name": "stdout",
     "output_type": "stream",
     "text": [
      "Hex cache size: 3504771 / 3504771 / 34\n",
      "Hex cache size: 3504771 / 3504771 / 34\n"
     ]
    },
    {
     "name": "stderr",
     "output_type": "stream",
     "text": [
      "Generating predictions [Prague] (area_id: 25): 100%|██████████| 20/20 [00:01<00:00, 12.95it/s]\n",
      "Saving results to DB [Prague] (area_id: 25): 100%|██████████| 106/106 [00:13<00:00,  7.98it/s]\n"
     ]
    },
    {
     "name": "stdout",
     "output_type": "stream",
     "text": [
      "Hex cache size: 3504771 / 3504771 / 34\n",
      "Hex cache size: 3504771 / 3504771 / 34\n"
     ]
    },
    {
     "name": "stderr",
     "output_type": "stream",
     "text": [
      "Generating predictions [Prague] (area_id: 26): 100%|██████████| 20/20 [00:01<00:00, 10.02it/s]\n",
      "Saving results to DB [Prague] (area_id: 26): 100%|██████████| 152/152 [00:11<00:00, 13.38it/s]\n"
     ]
    },
    {
     "name": "stdout",
     "output_type": "stream",
     "text": [
      "Hex cache size: 3504771 / 3504771 / 34\n",
      "Hex cache size: 3504771 / 3504771 / 34\n"
     ]
    },
    {
     "name": "stderr",
     "output_type": "stream",
     "text": [
      "Generating predictions [Prague] (area_id: 27): 100%|██████████| 20/20 [00:00<00:00, 21.17it/s]\n",
      "Saving results to DB [Prague] (area_id: 27): 100%|██████████| 49/49 [00:03<00:00, 15.32it/s]\n"
     ]
    },
    {
     "name": "stdout",
     "output_type": "stream",
     "text": [
      "Hex cache size: 3504771 / 3504771 / 34\n",
      "Hex cache size: 3504771 / 3504771 / 34\n"
     ]
    },
    {
     "name": "stderr",
     "output_type": "stream",
     "text": [
      "Generating predictions [Prague] (area_id: 28): 100%|██████████| 20/20 [00:01<00:00, 19.88it/s]\n",
      "Saving results to DB [Prague] (area_id: 28): 100%|██████████| 53/53 [00:08<00:00,  5.92it/s]\n"
     ]
    },
    {
     "name": "stdout",
     "output_type": "stream",
     "text": [
      "Hex cache size: 3504771 / 3504771 / 34\n",
      "Hex cache size: 3504771 / 3504771 / 34\n"
     ]
    },
    {
     "name": "stderr",
     "output_type": "stream",
     "text": [
      "Generating predictions [Prague] (area_id: 29): 100%|██████████| 20/20 [00:00<00:00, 26.58it/s]\n",
      "Saving results to DB [Prague] (area_id: 29): 100%|██████████| 34/34 [00:02<00:00, 14.66it/s]\n"
     ]
    },
    {
     "name": "stdout",
     "output_type": "stream",
     "text": [
      "Hex cache size: 3504771 / 3504771 / 34\n",
      "Hex cache size: 3504771 / 3504771 / 34\n"
     ]
    },
    {
     "name": "stderr",
     "output_type": "stream",
     "text": [
      "Generating predictions [Prague] (area_id: 30): 100%|██████████| 20/20 [00:01<00:00, 19.61it/s]\n",
      "Saving results to DB [Prague] (area_id: 30): 100%|██████████| 50/50 [00:03<00:00, 14.77it/s]\n"
     ]
    },
    {
     "name": "stdout",
     "output_type": "stream",
     "text": [
      "Hex cache size: 3504771 / 3504771 / 34\n",
      "Hex cache size: 3504771 / 3504771 / 34\n"
     ]
    },
    {
     "name": "stderr",
     "output_type": "stream",
     "text": [
      "Generating predictions [Prague] (area_id: 31): 100%|██████████| 20/20 [00:02<00:00,  8.73it/s]\n",
      "Saving results to DB [Prague] (area_id: 31): 100%|██████████| 174/174 [00:13<00:00, 13.05it/s]\n"
     ]
    },
    {
     "name": "stdout",
     "output_type": "stream",
     "text": [
      "Hex cache size: 3504771 / 3504771 / 34\n",
      "Hex cache size: 3504771 / 3504771 / 34\n"
     ]
    },
    {
     "name": "stderr",
     "output_type": "stream",
     "text": [
      "Generating predictions [Prague] (area_id: 32): 100%|██████████| 20/20 [00:01<00:00, 11.21it/s]\n",
      "Saving results to DB [Prague] (area_id: 32): 100%|██████████| 127/127 [00:15<00:00,  8.10it/s]\n"
     ]
    },
    {
     "name": "stdout",
     "output_type": "stream",
     "text": [
      "Hex cache size: 3504771 / 3504771 / 34\n",
      "Hex cache size: 3504771 / 3504771 / 34\n"
     ]
    },
    {
     "name": "stderr",
     "output_type": "stream",
     "text": [
      "Generating predictions [Prague] (area_id: 33): 100%|██████████| 20/20 [00:00<00:00, 26.31it/s]\n",
      "Saving results to DB [Prague] (area_id: 33): 100%|██████████| 33/33 [00:02<00:00, 15.25it/s]\n"
     ]
    },
    {
     "name": "stdout",
     "output_type": "stream",
     "text": [
      "Hex cache size: 3504771 / 3504771 / 34\n",
      "Hex cache size: 3504771 / 3504771 / 34\n"
     ]
    },
    {
     "name": "stderr",
     "output_type": "stream",
     "text": [
      "Generating predictions [Prague] (area_id: 34): 100%|██████████| 20/20 [00:01<00:00, 15.84it/s]\n",
      "Saving results to DB [Prague] (area_id: 34): 100%|██████████| 71/71 [00:04<00:00, 14.86it/s]\n"
     ]
    },
    {
     "name": "stdout",
     "output_type": "stream",
     "text": [
      "Hex cache size: 3504771 / 3504771 / 34\n",
      "Hex cache size: 3504771 / 3504771 / 34\n"
     ]
    },
    {
     "name": "stderr",
     "output_type": "stream",
     "text": [
      "Generating predictions [Seville] (area_id: 1): 100%|██████████| 20/20 [00:26<00:00,  1.33s/it]\n",
      "Saving results to DB [Seville] (area_id: 1): 100%|██████████| 57/57 [00:10<00:00,  5.66it/s]\n"
     ]
    },
    {
     "name": "stdout",
     "output_type": "stream",
     "text": [
      "Hex cache size: 3504771 / 3504771 / 34\n",
      "Hex cache size: 3504771 / 3504771 / 34\n"
     ]
    },
    {
     "name": "stderr",
     "output_type": "stream",
     "text": [
      "Generating predictions [Seville] (area_id: 2): 100%|██████████| 20/20 [00:00<00:00, 20.85it/s]\n",
      "Saving results to DB [Seville] (area_id: 2): 100%|██████████| 43/43 [00:03<00:00, 14.24it/s]\n"
     ]
    },
    {
     "name": "stdout",
     "output_type": "stream",
     "text": [
      "Hex cache size: 3504771 / 3504771 / 34\n",
      "Hex cache size: 3504771 / 3504771 / 34\n"
     ]
    },
    {
     "name": "stderr",
     "output_type": "stream",
     "text": [
      "Generating predictions [Seville] (area_id: 3): 100%|██████████| 20/20 [00:01<00:00, 10.97it/s]\n",
      "Saving results to DB [Seville] (area_id: 3): 100%|██████████| 123/123 [00:09<00:00, 13.49it/s]\n"
     ]
    },
    {
     "name": "stdout",
     "output_type": "stream",
     "text": [
      "Hex cache size: 3504771 / 3504771 / 34\n",
      "Hex cache size: 3504771 / 3504771 / 34\n"
     ]
    },
    {
     "name": "stderr",
     "output_type": "stream",
     "text": [
      "Generating predictions [Seville] (area_id: 4): 100%|██████████| 20/20 [00:00<00:00, 20.19it/s]\n",
      "Saving results to DB [Seville] (area_id: 4): 100%|██████████| 54/54 [00:03<00:00, 14.65it/s]\n"
     ]
    },
    {
     "name": "stdout",
     "output_type": "stream",
     "text": [
      "Hex cache size: 3504771 / 3504771 / 34\n",
      "Hex cache size: 3504771 / 3504771 / 34\n"
     ]
    },
    {
     "name": "stderr",
     "output_type": "stream",
     "text": [
      "Generating predictions [Seville] (area_id: 5): 100%|██████████| 20/20 [00:01<00:00, 10.66it/s]\n",
      "Saving results to DB [Seville] (area_id: 5): 100%|██████████| 144/144 [00:17<00:00,  8.44it/s]\n"
     ]
    },
    {
     "name": "stdout",
     "output_type": "stream",
     "text": [
      "Hex cache size: 3504771 / 3504771 / 34\n",
      "Hex cache size: 3504771 / 3504771 / 34\n"
     ]
    },
    {
     "name": "stderr",
     "output_type": "stream",
     "text": [
      "Generating predictions [Seville] (area_id: 6): 100%|██████████| 20/20 [00:01<00:00, 17.66it/s]\n",
      "Saving results to DB [Seville] (area_id: 6): 100%|██████████| 71/71 [00:04<00:00, 14.79it/s]\n"
     ]
    },
    {
     "name": "stdout",
     "output_type": "stream",
     "text": [
      "Hex cache size: 3504771 / 3504771 / 34\n",
      "Hex cache size: 3504771 / 3504771 / 34\n"
     ]
    },
    {
     "name": "stderr",
     "output_type": "stream",
     "text": [
      "Generating predictions [Seville] (area_id: 7): 100%|██████████| 20/20 [00:01<00:00, 15.32it/s]\n",
      "Saving results to DB [Seville] (area_id: 7): 100%|██████████| 84/84 [00:06<00:00, 13.97it/s]\n"
     ]
    },
    {
     "name": "stdout",
     "output_type": "stream",
     "text": [
      "Hex cache size: 3504771 / 3504771 / 34\n",
      "Hex cache size: 3504771 / 3504771 / 34\n"
     ]
    },
    {
     "name": "stderr",
     "output_type": "stream",
     "text": [
      "Generating predictions [Seville] (area_id: 8): 100%|██████████| 20/20 [00:01<00:00, 19.24it/s]\n",
      "Saving results to DB [Seville] (area_id: 8): 100%|██████████| 50/50 [00:03<00:00, 14.40it/s]\n"
     ]
    },
    {
     "name": "stdout",
     "output_type": "stream",
     "text": [
      "Hex cache size: 3504771 / 3504771 / 34\n",
      "Hex cache size: 3504771 / 3504771 / 34\n"
     ]
    },
    {
     "name": "stderr",
     "output_type": "stream",
     "text": [
      "Generating predictions [Seville] (area_id: 9): 100%|██████████| 20/20 [00:00<00:00, 20.25it/s]\n",
      "Saving results to DB [Seville] (area_id: 9): 100%|██████████| 60/60 [00:09<00:00,  6.49it/s]\n"
     ]
    },
    {
     "name": "stdout",
     "output_type": "stream",
     "text": [
      "Hex cache size: 3504771 / 3504771 / 34\n",
      "Hex cache size: 3504771 / 3504771 / 34\n"
     ]
    },
    {
     "name": "stderr",
     "output_type": "stream",
     "text": [
      "Generating predictions [Seville] (area_id: 10): 100%|██████████| 20/20 [00:01<00:00, 18.17it/s]\n",
      "Saving results to DB [Seville] (area_id: 10): 100%|██████████| 65/65 [00:04<00:00, 13.72it/s]\n"
     ]
    },
    {
     "name": "stdout",
     "output_type": "stream",
     "text": [
      "Hex cache size: 3504771 / 3504771 / 34\n",
      "Hex cache size: 3504771 / 3504771 / 34\n"
     ]
    },
    {
     "name": "stderr",
     "output_type": "stream",
     "text": [
      "Generating predictions [Seville] (area_id: 11): 100%|██████████| 20/20 [00:01<00:00, 19.63it/s]\n",
      "Saving results to DB [Seville] (area_id: 11): 100%|██████████| 60/60 [00:04<00:00, 14.46it/s]\n"
     ]
    },
    {
     "name": "stdout",
     "output_type": "stream",
     "text": [
      "Hex cache size: 3504771 / 3504771 / 34\n",
      "Hex cache size: 3504771 / 3504771 / 34\n"
     ]
    },
    {
     "name": "stderr",
     "output_type": "stream",
     "text": [
      "Generating predictions [Seville] (area_id: 12): 100%|██████████| 20/20 [00:02<00:00,  9.96it/s]\n",
      "Saving results to DB [Seville] (area_id: 12): 100%|██████████| 153/153 [00:15<00:00,  9.80it/s]\n"
     ]
    },
    {
     "name": "stdout",
     "output_type": "stream",
     "text": [
      "Hex cache size: 3504771 / 3504771 / 34\n",
      "Hex cache size: 3504771 / 3504771 / 34\n"
     ]
    },
    {
     "name": "stderr",
     "output_type": "stream",
     "text": [
      "Generating predictions [Seville] (area_id: 13): 100%|██████████| 20/20 [00:02<00:00,  9.68it/s]\n",
      "Saving results to DB [Seville] (area_id: 13): 100%|██████████| 159/159 [00:11<00:00, 13.87it/s]\n"
     ]
    },
    {
     "name": "stdout",
     "output_type": "stream",
     "text": [
      "Hex cache size: 3504771 / 3504771 / 34\n",
      "Hex cache size: 3504771 / 3504771 / 34\n"
     ]
    },
    {
     "name": "stderr",
     "output_type": "stream",
     "text": [
      "Generating predictions [Seville] (area_id: 14): 100%|██████████| 20/20 [00:01<00:00, 12.64it/s]\n",
      "Saving results to DB [Seville] (area_id: 14): 100%|██████████| 111/111 [00:07<00:00, 13.93it/s]\n"
     ]
    },
    {
     "name": "stdout",
     "output_type": "stream",
     "text": [
      "Hex cache size: 3504771 / 3504771 / 34\n",
      "Hex cache size: 3504771 / 3504771 / 34\n"
     ]
    },
    {
     "name": "stderr",
     "output_type": "stream",
     "text": [
      "Generating predictions [Seville] (area_id: 15): 100%|██████████| 20/20 [00:01<00:00, 11.67it/s]\n",
      "Saving results to DB [Seville] (area_id: 15): 100%|██████████| 122/122 [00:08<00:00, 13.77it/s]\n"
     ]
    },
    {
     "name": "stdout",
     "output_type": "stream",
     "text": [
      "Hex cache size: 3504771 / 3504771 / 34\n",
      "Hex cache size: 3504771 / 3504771 / 34\n"
     ]
    },
    {
     "name": "stderr",
     "output_type": "stream",
     "text": [
      "Generating predictions [Seville] (area_id: 16): 100%|██████████| 20/20 [00:01<00:00, 18.95it/s]\n",
      "Saving results to DB [Seville] (area_id: 16): 100%|██████████| 59/59 [00:04<00:00, 14.32it/s]\n"
     ]
    },
    {
     "name": "stdout",
     "output_type": "stream",
     "text": [
      "Hex cache size: 3504771 / 3504771 / 34\n",
      "Hex cache size: 3504771 / 3504771 / 34\n"
     ]
    },
    {
     "name": "stderr",
     "output_type": "stream",
     "text": [
      "Generating predictions [Seville] (area_id: 17): 100%|██████████| 20/20 [00:00<00:00, 28.08it/s]\n",
      "Saving results to DB [Seville] (area_id: 17): 100%|██████████| 30/30 [00:02<00:00, 14.71it/s]\n"
     ]
    },
    {
     "name": "stdout",
     "output_type": "stream",
     "text": [
      "Hex cache size: 3504771 / 3504771 / 34\n",
      "Hex cache size: 3504771 / 3504771 / 34\n"
     ]
    },
    {
     "name": "stderr",
     "output_type": "stream",
     "text": [
      "Generating predictions [Seville] (area_id: 18): 100%|██████████| 20/20 [00:01<00:00, 18.98it/s]\n",
      "Saving results to DB [Seville] (area_id: 18): 100%|██████████| 63/63 [00:04<00:00, 14.27it/s]\n"
     ]
    },
    {
     "name": "stdout",
     "output_type": "stream",
     "text": [
      "Hex cache size: 3504771 / 3504771 / 34\n",
      "Hex cache size: 3504771 / 3504771 / 34\n"
     ]
    },
    {
     "name": "stderr",
     "output_type": "stream",
     "text": [
      "Generating predictions [Seville] (area_id: 19): 100%|██████████| 20/20 [00:04<00:00,  4.61it/s]\n",
      "Saving results to DB [Seville] (area_id: 19): 100%|██████████| 379/379 [00:44<00:00,  8.47it/s]\n"
     ]
    },
    {
     "name": "stdout",
     "output_type": "stream",
     "text": [
      "Hex cache size: 3504771 / 3504771 / 34\n",
      "Hex cache size: 3504771 / 3504771 / 34\n"
     ]
    },
    {
     "name": "stderr",
     "output_type": "stream",
     "text": [
      "Generating predictions [Seville] (area_id: 20): 100%|██████████| 20/20 [00:03<00:00,  6.04it/s]\n",
      "Saving results to DB [Seville] (area_id: 20): 100%|██████████| 295/295 [00:30<00:00,  9.71it/s]\n"
     ]
    },
    {
     "name": "stdout",
     "output_type": "stream",
     "text": [
      "Hex cache size: 3504771 / 3504771 / 34\n",
      "Hex cache size: 3504771 / 3504771 / 34\n"
     ]
    },
    {
     "name": "stderr",
     "output_type": "stream",
     "text": [
      "Generating predictions [Seville] (area_id: 21): 100%|██████████| 20/20 [00:00<00:00, 25.34it/s]\n",
      "Saving results to DB [Seville] (area_id: 21): 100%|██████████| 37/37 [00:02<00:00, 13.17it/s]\n"
     ]
    },
    {
     "name": "stdout",
     "output_type": "stream",
     "text": [
      "Hex cache size: 3504771 / 3504771 / 34\n",
      "Hex cache size: 3504771 / 3504771 / 34\n"
     ]
    },
    {
     "name": "stderr",
     "output_type": "stream",
     "text": [
      "Generating predictions [Seville] (area_id: 22): 100%|██████████| 20/20 [00:00<00:00, 20.53it/s]\n",
      "Saving results to DB [Seville] (area_id: 22): 100%|██████████| 54/54 [00:03<00:00, 14.49it/s]\n"
     ]
    },
    {
     "name": "stdout",
     "output_type": "stream",
     "text": [
      "Hex cache size: 3504771 / 3504771 / 34\n",
      "Hex cache size: 3504771 / 3504771 / 34\n"
     ]
    },
    {
     "name": "stderr",
     "output_type": "stream",
     "text": [
      "Generating predictions [Seville] (area_id: 23): 100%|██████████| 20/20 [00:01<00:00, 10.93it/s]\n",
      "Saving results to DB [Seville] (area_id: 23): 100%|██████████| 136/136 [00:10<00:00, 13.29it/s]\n"
     ]
    },
    {
     "name": "stdout",
     "output_type": "stream",
     "text": [
      "Hex cache size: 3504771 / 3504771 / 34\n",
      "Hex cache size: 3504771 / 3504771 / 34\n"
     ]
    },
    {
     "name": "stderr",
     "output_type": "stream",
     "text": [
      "Generating predictions [Seville] (area_id: 24): 100%|██████████| 20/20 [00:03<00:00,  6.22it/s]\n",
      "Saving results to DB [Seville] (area_id: 24): 100%|██████████| 265/265 [00:27<00:00,  9.53it/s]\n"
     ]
    },
    {
     "name": "stdout",
     "output_type": "stream",
     "text": [
      "Hex cache size: 3504771 / 3504771 / 34\n",
      "Hex cache size: 3504771 / 3504771 / 34\n"
     ]
    },
    {
     "name": "stderr",
     "output_type": "stream",
     "text": [
      "Generating predictions [Seville] (area_id: 25): 100%|██████████| 20/20 [00:01<00:00, 13.18it/s]\n",
      "Saving results to DB [Seville] (area_id: 25): 100%|██████████| 106/106 [00:14<00:00,  7.56it/s]\n"
     ]
    },
    {
     "name": "stdout",
     "output_type": "stream",
     "text": [
      "Hex cache size: 3504771 / 3504771 / 34\n",
      "Hex cache size: 3504771 / 3504771 / 34\n"
     ]
    },
    {
     "name": "stderr",
     "output_type": "stream",
     "text": [
      "Generating predictions [Seville] (area_id: 26): 100%|██████████| 20/20 [00:01<00:00, 10.32it/s]\n",
      "Saving results to DB [Seville] (area_id: 26): 100%|██████████| 152/152 [00:11<00:00, 13.40it/s]\n"
     ]
    },
    {
     "name": "stdout",
     "output_type": "stream",
     "text": [
      "Hex cache size: 3504771 / 3504771 / 34\n",
      "Hex cache size: 3504771 / 3504771 / 34\n"
     ]
    },
    {
     "name": "stderr",
     "output_type": "stream",
     "text": [
      "Generating predictions [Seville] (area_id: 27): 100%|██████████| 20/20 [00:01<00:00, 19.99it/s]\n",
      "Saving results to DB [Seville] (area_id: 27): 100%|██████████| 49/49 [00:04<00:00, 10.43it/s]\n"
     ]
    },
    {
     "name": "stdout",
     "output_type": "stream",
     "text": [
      "Hex cache size: 3504771 / 3504771 / 34\n",
      "Hex cache size: 3504771 / 3504771 / 34\n"
     ]
    },
    {
     "name": "stderr",
     "output_type": "stream",
     "text": [
      "Generating predictions [Seville] (area_id: 28): 100%|██████████| 20/20 [00:01<00:00, 18.88it/s]\n",
      "Saving results to DB [Seville] (area_id: 28): 100%|██████████| 53/53 [00:03<00:00, 14.30it/s]\n"
     ]
    },
    {
     "name": "stdout",
     "output_type": "stream",
     "text": [
      "Hex cache size: 3504771 / 3504771 / 34\n",
      "Hex cache size: 3504771 / 3504771 / 34\n"
     ]
    },
    {
     "name": "stderr",
     "output_type": "stream",
     "text": [
      "Generating predictions [Seville] (area_id: 29): 100%|██████████| 20/20 [00:00<00:00, 25.32it/s]\n",
      "Saving results to DB [Seville] (area_id: 29): 100%|██████████| 34/34 [00:02<00:00, 14.22it/s]\n"
     ]
    },
    {
     "name": "stdout",
     "output_type": "stream",
     "text": [
      "Hex cache size: 3504771 / 3504771 / 34\n",
      "Hex cache size: 3504771 / 3504771 / 34\n"
     ]
    },
    {
     "name": "stderr",
     "output_type": "stream",
     "text": [
      "Generating predictions [Seville] (area_id: 30): 100%|██████████| 20/20 [00:00<00:00, 21.07it/s]\n",
      "Saving results to DB [Seville] (area_id: 30): 100%|██████████| 50/50 [00:03<00:00, 14.28it/s]\n"
     ]
    },
    {
     "name": "stdout",
     "output_type": "stream",
     "text": [
      "Hex cache size: 3504771 / 3504771 / 34\n",
      "Hex cache size: 3504771 / 3504771 / 34\n"
     ]
    },
    {
     "name": "stderr",
     "output_type": "stream",
     "text": [
      "Generating predictions [Seville] (area_id: 31): 100%|██████████| 20/20 [00:02<00:00,  9.04it/s]\n",
      "Saving results to DB [Seville] (area_id: 31): 100%|██████████| 174/174 [00:13<00:00, 12.55it/s]\n"
     ]
    },
    {
     "name": "stdout",
     "output_type": "stream",
     "text": [
      "Hex cache size: 3504771 / 3504771 / 34\n",
      "Hex cache size: 3504771 / 3504771 / 34\n"
     ]
    },
    {
     "name": "stderr",
     "output_type": "stream",
     "text": [
      "Generating predictions [Seville] (area_id: 32): 100%|██████████| 20/20 [00:01<00:00, 11.94it/s]\n",
      "Saving results to DB [Seville] (area_id: 32): 100%|██████████| 127/127 [00:09<00:00, 13.99it/s]\n"
     ]
    },
    {
     "name": "stdout",
     "output_type": "stream",
     "text": [
      "Hex cache size: 3504771 / 3504771 / 34\n",
      "Hex cache size: 3504771 / 3504771 / 34\n"
     ]
    },
    {
     "name": "stderr",
     "output_type": "stream",
     "text": [
      "Generating predictions [Seville] (area_id: 33): 100%|██████████| 20/20 [00:00<00:00, 27.39it/s]\n",
      "Saving results to DB [Seville] (area_id: 33): 100%|██████████| 33/33 [00:02<00:00, 15.04it/s]\n"
     ]
    },
    {
     "name": "stdout",
     "output_type": "stream",
     "text": [
      "Hex cache size: 3504771 / 3504771 / 34\n",
      "Hex cache size: 3504771 / 3504771 / 34\n"
     ]
    },
    {
     "name": "stderr",
     "output_type": "stream",
     "text": [
      "Generating predictions [Seville] (area_id: 34): 100%|██████████| 20/20 [00:01<00:00, 17.27it/s]\n",
      "Saving results to DB [Seville] (area_id: 34): 100%|██████████| 71/71 [00:04<00:00, 14.71it/s]\n"
     ]
    },
    {
     "name": "stdout",
     "output_type": "stream",
     "text": [
      "Hex cache size: 3504771 / 3504771 / 34\n",
      "Hex cache size: 3504771 / 3504771 / 34\n"
     ]
    },
    {
     "name": "stderr",
     "output_type": "stream",
     "text": [
      "Generating predictions [Toulouse] (area_id: 1): 100%|██████████| 20/20 [00:27<00:00,  1.38s/it]\n",
      "Saving results to DB [Toulouse] (area_id: 1): 100%|██████████| 57/57 [00:03<00:00, 14.29it/s]\n"
     ]
    },
    {
     "name": "stdout",
     "output_type": "stream",
     "text": [
      "Hex cache size: 3504771 / 3504771 / 34\n",
      "Hex cache size: 3504771 / 3504771 / 34\n"
     ]
    },
    {
     "name": "stderr",
     "output_type": "stream",
     "text": [
      "Generating predictions [Toulouse] (area_id: 2): 100%|██████████| 20/20 [00:00<00:00, 21.84it/s]\n",
      "Saving results to DB [Toulouse] (area_id: 2): 100%|██████████| 43/43 [00:03<00:00, 14.27it/s]\n"
     ]
    },
    {
     "name": "stdout",
     "output_type": "stream",
     "text": [
      "Hex cache size: 3504771 / 3504771 / 34\n",
      "Hex cache size: 3504771 / 3504771 / 34\n"
     ]
    },
    {
     "name": "stderr",
     "output_type": "stream",
     "text": [
      "Generating predictions [Toulouse] (area_id: 3): 100%|██████████| 20/20 [00:01<00:00, 10.51it/s]\n",
      "Saving results to DB [Toulouse] (area_id: 3): 100%|██████████| 123/123 [00:08<00:00, 13.92it/s]\n"
     ]
    },
    {
     "name": "stdout",
     "output_type": "stream",
     "text": [
      "Hex cache size: 3504771 / 3504771 / 34\n",
      "Hex cache size: 3504771 / 3504771 / 34\n"
     ]
    },
    {
     "name": "stderr",
     "output_type": "stream",
     "text": [
      "Generating predictions [Toulouse] (area_id: 4): 100%|██████████| 20/20 [00:01<00:00, 19.92it/s]\n",
      "Saving results to DB [Toulouse] (area_id: 4): 100%|██████████| 54/54 [00:07<00:00,  7.63it/s]\n"
     ]
    },
    {
     "name": "stdout",
     "output_type": "stream",
     "text": [
      "Hex cache size: 3504771 / 3504771 / 34\n",
      "Hex cache size: 3504771 / 3504771 / 34\n"
     ]
    },
    {
     "name": "stderr",
     "output_type": "stream",
     "text": [
      "Generating predictions [Toulouse] (area_id: 5): 100%|██████████| 20/20 [00:02<00:00,  9.84it/s]\n",
      "Saving results to DB [Toulouse] (area_id: 5): 100%|██████████| 144/144 [00:10<00:00, 13.50it/s]\n"
     ]
    },
    {
     "name": "stdout",
     "output_type": "stream",
     "text": [
      "Hex cache size: 3504771 / 3504771 / 34\n",
      "Hex cache size: 3504771 / 3504771 / 34\n"
     ]
    },
    {
     "name": "stderr",
     "output_type": "stream",
     "text": [
      "Generating predictions [Toulouse] (area_id: 6): 100%|██████████| 20/20 [00:01<00:00, 16.19it/s]\n",
      "Saving results to DB [Toulouse] (area_id: 6): 100%|██████████| 71/71 [00:05<00:00, 14.09it/s]\n"
     ]
    },
    {
     "name": "stdout",
     "output_type": "stream",
     "text": [
      "Hex cache size: 3504771 / 3504771 / 34\n",
      "Hex cache size: 3504771 / 3504771 / 34\n"
     ]
    },
    {
     "name": "stderr",
     "output_type": "stream",
     "text": [
      "Generating predictions [Toulouse] (area_id: 7): 100%|██████████| 20/20 [00:01<00:00, 14.91it/s]\n",
      "Saving results to DB [Toulouse] (area_id: 7): 100%|██████████| 84/84 [00:12<00:00,  6.86it/s]\n"
     ]
    },
    {
     "name": "stdout",
     "output_type": "stream",
     "text": [
      "Hex cache size: 3504771 / 3504771 / 34\n",
      "Hex cache size: 3504771 / 3504771 / 34\n"
     ]
    },
    {
     "name": "stderr",
     "output_type": "stream",
     "text": [
      "Generating predictions [Toulouse] (area_id: 8): 100%|██████████| 20/20 [00:01<00:00, 19.67it/s]\n",
      "Saving results to DB [Toulouse] (area_id: 8): 100%|██████████| 50/50 [00:03<00:00, 14.63it/s]\n"
     ]
    },
    {
     "name": "stdout",
     "output_type": "stream",
     "text": [
      "Hex cache size: 3504771 / 3504771 / 34\n",
      "Hex cache size: 3504771 / 3504771 / 34\n"
     ]
    },
    {
     "name": "stderr",
     "output_type": "stream",
     "text": [
      "Generating predictions [Toulouse] (area_id: 9): 100%|██████████| 20/20 [00:01<00:00, 16.72it/s]\n",
      "Saving results to DB [Toulouse] (area_id: 9): 100%|██████████| 60/60 [00:04<00:00, 14.43it/s]\n"
     ]
    },
    {
     "name": "stdout",
     "output_type": "stream",
     "text": [
      "Hex cache size: 3504771 / 3504771 / 34\n",
      "Hex cache size: 3504771 / 3504771 / 34\n"
     ]
    },
    {
     "name": "stderr",
     "output_type": "stream",
     "text": [
      "Generating predictions [Toulouse] (area_id: 10): 100%|██████████| 20/20 [00:01<00:00, 16.44it/s]\n",
      "Saving results to DB [Toulouse] (area_id: 10): 100%|██████████| 65/65 [00:04<00:00, 14.05it/s]\n"
     ]
    },
    {
     "name": "stdout",
     "output_type": "stream",
     "text": [
      "Hex cache size: 3504771 / 3504771 / 34\n",
      "Hex cache size: 3504771 / 3504771 / 34\n"
     ]
    },
    {
     "name": "stderr",
     "output_type": "stream",
     "text": [
      "Generating predictions [Toulouse] (area_id: 11): 100%|██████████| 20/20 [00:01<00:00, 17.98it/s]\n",
      "Saving results to DB [Toulouse] (area_id: 11): 100%|██████████| 60/60 [00:04<00:00, 14.38it/s]\n"
     ]
    },
    {
     "name": "stdout",
     "output_type": "stream",
     "text": [
      "Hex cache size: 3504771 / 3504771 / 34\n",
      "Hex cache size: 3504771 / 3504771 / 34\n"
     ]
    },
    {
     "name": "stderr",
     "output_type": "stream",
     "text": [
      "Generating predictions [Toulouse] (area_id: 12): 100%|██████████| 20/20 [00:02<00:00,  9.81it/s]\n",
      "Saving results to DB [Toulouse] (area_id: 12): 100%|██████████| 153/153 [00:18<00:00,  8.37it/s]\n"
     ]
    },
    {
     "name": "stdout",
     "output_type": "stream",
     "text": [
      "Hex cache size: 3504771 / 3504771 / 34\n",
      "Hex cache size: 3504771 / 3504771 / 34\n"
     ]
    },
    {
     "name": "stderr",
     "output_type": "stream",
     "text": [
      "Generating predictions [Toulouse] (area_id: 13): 100%|██████████| 20/20 [00:02<00:00,  8.72it/s]\n",
      "Saving results to DB [Toulouse] (area_id: 13): 100%|██████████| 159/159 [00:13<00:00, 11.51it/s]\n"
     ]
    },
    {
     "name": "stdout",
     "output_type": "stream",
     "text": [
      "Hex cache size: 3504771 / 3504771 / 34\n",
      "Hex cache size: 3504771 / 3504771 / 34\n"
     ]
    },
    {
     "name": "stderr",
     "output_type": "stream",
     "text": [
      "Generating predictions [Toulouse] (area_id: 14): 100%|██████████| 20/20 [00:01<00:00, 12.05it/s]\n",
      "Saving results to DB [Toulouse] (area_id: 14): 100%|██████████| 111/111 [00:08<00:00, 13.47it/s]\n"
     ]
    },
    {
     "name": "stdout",
     "output_type": "stream",
     "text": [
      "Hex cache size: 3504771 / 3504771 / 34\n",
      "Hex cache size: 3504771 / 3504771 / 34\n"
     ]
    },
    {
     "name": "stderr",
     "output_type": "stream",
     "text": [
      "Generating predictions [Toulouse] (area_id: 15): 100%|██████████| 20/20 [00:01<00:00, 10.96it/s]\n",
      "Saving results to DB [Toulouse] (area_id: 15): 100%|██████████| 122/122 [00:08<00:00, 13.84it/s]\n"
     ]
    },
    {
     "name": "stdout",
     "output_type": "stream",
     "text": [
      "Hex cache size: 3504771 / 3504771 / 34\n",
      "Hex cache size: 3504771 / 3504771 / 34\n"
     ]
    },
    {
     "name": "stderr",
     "output_type": "stream",
     "text": [
      "Generating predictions [Toulouse] (area_id: 16): 100%|██████████| 20/20 [00:01<00:00, 18.97it/s]\n",
      "Saving results to DB [Toulouse] (area_id: 16): 100%|██████████| 59/59 [00:09<00:00,  6.52it/s]\n"
     ]
    },
    {
     "name": "stdout",
     "output_type": "stream",
     "text": [
      "Hex cache size: 3504771 / 3504771 / 34\n",
      "Hex cache size: 3504771 / 3504771 / 34\n"
     ]
    },
    {
     "name": "stderr",
     "output_type": "stream",
     "text": [
      "Generating predictions [Toulouse] (area_id: 17): 100%|██████████| 20/20 [00:00<00:00, 23.05it/s]\n",
      "Saving results to DB [Toulouse] (area_id: 17): 100%|██████████| 30/30 [00:01<00:00, 15.22it/s]\n"
     ]
    },
    {
     "name": "stdout",
     "output_type": "stream",
     "text": [
      "Hex cache size: 3504771 / 3504771 / 34\n",
      "Hex cache size: 3504771 / 3504771 / 34\n"
     ]
    },
    {
     "name": "stderr",
     "output_type": "stream",
     "text": [
      "Generating predictions [Toulouse] (area_id: 18): 100%|██████████| 20/20 [00:01<00:00, 17.60it/s]\n",
      "Saving results to DB [Toulouse] (area_id: 18): 100%|██████████| 63/63 [00:04<00:00, 14.67it/s]\n"
     ]
    },
    {
     "name": "stdout",
     "output_type": "stream",
     "text": [
      "Hex cache size: 3504771 / 3504771 / 34\n",
      "Hex cache size: 3504771 / 3504771 / 34\n"
     ]
    },
    {
     "name": "stderr",
     "output_type": "stream",
     "text": [
      "Generating predictions [Toulouse] (area_id: 19): 100%|██████████| 20/20 [00:04<00:00,  4.42it/s]\n",
      "Saving results to DB [Toulouse] (area_id: 19): 100%|██████████| 379/379 [00:46<00:00,  8.12it/s]\n"
     ]
    },
    {
     "name": "stdout",
     "output_type": "stream",
     "text": [
      "Hex cache size: 3504771 / 3504771 / 34\n",
      "Hex cache size: 3504771 / 3504771 / 34\n"
     ]
    },
    {
     "name": "stderr",
     "output_type": "stream",
     "text": [
      "Generating predictions [Toulouse] (area_id: 20): 100%|██████████| 20/20 [00:03<00:00,  5.66it/s]\n",
      "Saving results to DB [Toulouse] (area_id: 20): 100%|██████████| 295/295 [00:28<00:00, 10.30it/s]\n"
     ]
    },
    {
     "name": "stdout",
     "output_type": "stream",
     "text": [
      "Hex cache size: 3504771 / 3504771 / 34\n",
      "Hex cache size: 3504771 / 3504771 / 34\n"
     ]
    },
    {
     "name": "stderr",
     "output_type": "stream",
     "text": [
      "Generating predictions [Toulouse] (area_id: 21): 100%|██████████| 20/20 [00:00<00:00, 23.82it/s]\n",
      "Saving results to DB [Toulouse] (area_id: 21): 100%|██████████| 37/37 [00:05<00:00,  6.83it/s]\n"
     ]
    },
    {
     "name": "stdout",
     "output_type": "stream",
     "text": [
      "Hex cache size: 3504771 / 3504771 / 34\n",
      "Hex cache size: 3504771 / 3504771 / 34\n"
     ]
    },
    {
     "name": "stderr",
     "output_type": "stream",
     "text": [
      "Generating predictions [Toulouse] (area_id: 22): 100%|██████████| 20/20 [00:01<00:00, 19.89it/s]\n",
      "Saving results to DB [Toulouse] (area_id: 22): 100%|██████████| 54/54 [00:03<00:00, 14.80it/s]\n"
     ]
    },
    {
     "name": "stdout",
     "output_type": "stream",
     "text": [
      "Hex cache size: 3504771 / 3504771 / 34\n",
      "Hex cache size: 3504771 / 3504771 / 34\n"
     ]
    },
    {
     "name": "stderr",
     "output_type": "stream",
     "text": [
      "Generating predictions [Toulouse] (area_id: 23): 100%|██████████| 20/20 [00:01<00:00, 10.79it/s]\n",
      "Saving results to DB [Toulouse] (area_id: 23): 100%|██████████| 136/136 [00:10<00:00, 13.57it/s]\n"
     ]
    },
    {
     "name": "stdout",
     "output_type": "stream",
     "text": [
      "Hex cache size: 3504771 / 3504771 / 34\n",
      "Hex cache size: 3504771 / 3504771 / 34\n"
     ]
    },
    {
     "name": "stderr",
     "output_type": "stream",
     "text": [
      "Generating predictions [Toulouse] (area_id: 24): 100%|██████████| 20/20 [00:03<00:00,  6.22it/s]\n",
      "Saving results to DB [Toulouse] (area_id: 24): 100%|██████████| 265/265 [00:27<00:00,  9.65it/s]\n"
     ]
    },
    {
     "name": "stdout",
     "output_type": "stream",
     "text": [
      "Hex cache size: 3504771 / 3504771 / 34\n",
      "Hex cache size: 3504771 / 3504771 / 34\n"
     ]
    },
    {
     "name": "stderr",
     "output_type": "stream",
     "text": [
      "Generating predictions [Toulouse] (area_id: 25): 100%|██████████| 20/20 [00:01<00:00, 12.19it/s]\n",
      "Saving results to DB [Toulouse] (area_id: 25): 100%|██████████| 106/106 [00:08<00:00, 12.87it/s]\n"
     ]
    },
    {
     "name": "stdout",
     "output_type": "stream",
     "text": [
      "Hex cache size: 3504771 / 3504771 / 34\n",
      "Hex cache size: 3504771 / 3504771 / 34\n"
     ]
    },
    {
     "name": "stderr",
     "output_type": "stream",
     "text": [
      "Generating predictions [Toulouse] (area_id: 26): 100%|██████████| 20/20 [00:02<00:00,  9.25it/s]\n",
      "Saving results to DB [Toulouse] (area_id: 26): 100%|██████████| 152/152 [00:15<00:00, 10.13it/s]\n"
     ]
    },
    {
     "name": "stdout",
     "output_type": "stream",
     "text": [
      "Hex cache size: 3504771 / 3504771 / 34\n",
      "Hex cache size: 3504771 / 3504771 / 34\n"
     ]
    },
    {
     "name": "stderr",
     "output_type": "stream",
     "text": [
      "Generating predictions [Toulouse] (area_id: 27): 100%|██████████| 20/20 [00:00<00:00, 20.64it/s]\n",
      "Saving results to DB [Toulouse] (area_id: 27): 100%|██████████| 49/49 [00:03<00:00, 14.20it/s]\n"
     ]
    },
    {
     "name": "stdout",
     "output_type": "stream",
     "text": [
      "Hex cache size: 3504771 / 3504771 / 34\n",
      "Hex cache size: 3504771 / 3504771 / 34\n"
     ]
    },
    {
     "name": "stderr",
     "output_type": "stream",
     "text": [
      "Generating predictions [Toulouse] (area_id: 28): 100%|██████████| 20/20 [00:01<00:00, 19.86it/s]\n",
      "Saving results to DB [Toulouse] (area_id: 28): 100%|██████████| 53/53 [00:03<00:00, 13.92it/s]\n"
     ]
    },
    {
     "name": "stdout",
     "output_type": "stream",
     "text": [
      "Hex cache size: 3504771 / 3504771 / 34\n",
      "Hex cache size: 3504771 / 3504771 / 34\n"
     ]
    },
    {
     "name": "stderr",
     "output_type": "stream",
     "text": [
      "Generating predictions [Toulouse] (area_id: 29): 100%|██████████| 20/20 [00:00<00:00, 24.56it/s]\n",
      "Saving results to DB [Toulouse] (area_id: 29): 100%|██████████| 34/34 [00:02<00:00, 14.89it/s]\n"
     ]
    },
    {
     "name": "stdout",
     "output_type": "stream",
     "text": [
      "Hex cache size: 3504771 / 3504771 / 34\n",
      "Hex cache size: 3504771 / 3504771 / 34\n"
     ]
    },
    {
     "name": "stderr",
     "output_type": "stream",
     "text": [
      "Generating predictions [Toulouse] (area_id: 30): 100%|██████████| 20/20 [00:00<00:00, 20.54it/s]\n",
      "Saving results to DB [Toulouse] (area_id: 30): 100%|██████████| 50/50 [00:03<00:00, 14.57it/s]\n"
     ]
    },
    {
     "name": "stdout",
     "output_type": "stream",
     "text": [
      "Hex cache size: 3504771 / 3504771 / 34\n",
      "Hex cache size: 3504771 / 3504771 / 34\n"
     ]
    },
    {
     "name": "stderr",
     "output_type": "stream",
     "text": [
      "Generating predictions [Toulouse] (area_id: 31): 100%|██████████| 20/20 [00:02<00:00,  8.44it/s]\n",
      "Saving results to DB [Toulouse] (area_id: 31): 100%|██████████| 174/174 [00:19<00:00,  8.88it/s]\n"
     ]
    },
    {
     "name": "stdout",
     "output_type": "stream",
     "text": [
      "Hex cache size: 3504771 / 3504771 / 34\n",
      "Hex cache size: 3504771 / 3504771 / 34\n"
     ]
    },
    {
     "name": "stderr",
     "output_type": "stream",
     "text": [
      "Generating predictions [Toulouse] (area_id: 32): 100%|██████████| 20/20 [00:01<00:00, 11.02it/s]\n",
      "Saving results to DB [Toulouse] (area_id: 32): 100%|██████████| 127/127 [00:12<00:00, 10.46it/s]\n"
     ]
    },
    {
     "name": "stdout",
     "output_type": "stream",
     "text": [
      "Hex cache size: 3504771 / 3504771 / 34\n",
      "Hex cache size: 3504771 / 3504771 / 34\n"
     ]
    },
    {
     "name": "stderr",
     "output_type": "stream",
     "text": [
      "Generating predictions [Toulouse] (area_id: 33): 100%|██████████| 20/20 [00:00<00:00, 25.18it/s]\n",
      "Saving results to DB [Toulouse] (area_id: 33): 100%|██████████| 33/33 [00:02<00:00, 14.64it/s]\n"
     ]
    },
    {
     "name": "stdout",
     "output_type": "stream",
     "text": [
      "Hex cache size: 3504771 / 3504771 / 34\n",
      "Hex cache size: 3504771 / 3504771 / 34\n"
     ]
    },
    {
     "name": "stderr",
     "output_type": "stream",
     "text": [
      "Generating predictions [Toulouse] (area_id: 34): 100%|██████████| 20/20 [00:01<00:00, 15.43it/s]\n",
      "Saving results to DB [Toulouse] (area_id: 34): 100%|██████████| 71/71 [00:04<00:00, 14.86it/s]\n"
     ]
    },
    {
     "name": "stdout",
     "output_type": "stream",
     "text": [
      "Hex cache size: 3504771 / 3504771 / 34\n",
      "Hex cache size: 3504771 / 3504771 / 34\n"
     ]
    },
    {
     "name": "stderr",
     "output_type": "stream",
     "text": [
      "Generating predictions [Valencia] (area_id: 1): 100%|██████████| 20/20 [00:27<00:00,  1.37s/it]\n",
      "Saving results to DB [Valencia] (area_id: 1): 100%|██████████| 57/57 [00:04<00:00, 13.96it/s]\n"
     ]
    },
    {
     "name": "stdout",
     "output_type": "stream",
     "text": [
      "Hex cache size: 3504771 / 3504771 / 34\n",
      "Hex cache size: 3504771 / 3504771 / 34\n"
     ]
    },
    {
     "name": "stderr",
     "output_type": "stream",
     "text": [
      "Generating predictions [Valencia] (area_id: 2): 100%|██████████| 20/20 [00:00<00:00, 22.37it/s]\n",
      "Saving results to DB [Valencia] (area_id: 2): 100%|██████████| 43/43 [00:03<00:00, 14.29it/s]\n"
     ]
    },
    {
     "name": "stdout",
     "output_type": "stream",
     "text": [
      "Hex cache size: 3504771 / 3504771 / 34\n",
      "Hex cache size: 3504771 / 3504771 / 34\n"
     ]
    },
    {
     "name": "stderr",
     "output_type": "stream",
     "text": [
      "Generating predictions [Valencia] (area_id: 3): 100%|██████████| 20/20 [00:01<00:00, 12.09it/s]\n",
      "Saving results to DB [Valencia] (area_id: 3): 100%|██████████| 123/123 [00:14<00:00,  8.20it/s]\n"
     ]
    },
    {
     "name": "stdout",
     "output_type": "stream",
     "text": [
      "Hex cache size: 3504771 / 3504771 / 34\n",
      "Hex cache size: 3504771 / 3504771 / 34\n"
     ]
    },
    {
     "name": "stderr",
     "output_type": "stream",
     "text": [
      "Generating predictions [Valencia] (area_id: 4): 100%|██████████| 20/20 [00:01<00:00, 19.47it/s]\n",
      "Saving results to DB [Valencia] (area_id: 4): 100%|██████████| 54/54 [00:03<00:00, 13.97it/s]\n"
     ]
    },
    {
     "name": "stdout",
     "output_type": "stream",
     "text": [
      "Hex cache size: 3504771 / 3504771 / 34\n",
      "Hex cache size: 3504771 / 3504771 / 34\n"
     ]
    },
    {
     "name": "stderr",
     "output_type": "stream",
     "text": [
      "Generating predictions [Valencia] (area_id: 5): 100%|██████████| 20/20 [00:01<00:00, 11.11it/s]\n",
      "Saving results to DB [Valencia] (area_id: 5): 100%|██████████| 144/144 [00:15<00:00,  9.39it/s]\n"
     ]
    },
    {
     "name": "stdout",
     "output_type": "stream",
     "text": [
      "Hex cache size: 3504771 / 3504771 / 34\n",
      "Hex cache size: 3504771 / 3504771 / 34\n"
     ]
    },
    {
     "name": "stderr",
     "output_type": "stream",
     "text": [
      "Generating predictions [Valencia] (area_id: 6): 100%|██████████| 20/20 [00:01<00:00, 18.48it/s]\n",
      "Saving results to DB [Valencia] (area_id: 6): 100%|██████████| 71/71 [00:05<00:00, 13.98it/s]\n"
     ]
    },
    {
     "name": "stdout",
     "output_type": "stream",
     "text": [
      "Hex cache size: 3504771 / 3504771 / 34\n",
      "Hex cache size: 3504771 / 3504771 / 34\n"
     ]
    },
    {
     "name": "stderr",
     "output_type": "stream",
     "text": [
      "Generating predictions [Valencia] (area_id: 7): 100%|██████████| 20/20 [00:01<00:00, 15.76it/s]\n",
      "Saving results to DB [Valencia] (area_id: 7): 100%|██████████| 84/84 [00:06<00:00, 13.37it/s]\n"
     ]
    },
    {
     "name": "stdout",
     "output_type": "stream",
     "text": [
      "Hex cache size: 3504771 / 3504771 / 34\n",
      "Hex cache size: 3504771 / 3504771 / 34\n"
     ]
    },
    {
     "name": "stderr",
     "output_type": "stream",
     "text": [
      "Generating predictions [Valencia] (area_id: 8): 100%|██████████| 20/20 [00:00<00:00, 22.22it/s]\n",
      "Saving results to DB [Valencia] (area_id: 8): 100%|██████████| 50/50 [00:06<00:00,  7.93it/s]\n"
     ]
    },
    {
     "name": "stdout",
     "output_type": "stream",
     "text": [
      "Hex cache size: 3504771 / 3504771 / 34\n",
      "Hex cache size: 3504771 / 3504771 / 34\n"
     ]
    },
    {
     "name": "stderr",
     "output_type": "stream",
     "text": [
      "Generating predictions [Valencia] (area_id: 9): 100%|██████████| 20/20 [00:01<00:00, 19.78it/s]\n",
      "Saving results to DB [Valencia] (area_id: 9): 100%|██████████| 60/60 [00:04<00:00, 14.38it/s]\n"
     ]
    },
    {
     "name": "stdout",
     "output_type": "stream",
     "text": [
      "Hex cache size: 3504771 / 3504771 / 34\n",
      "Hex cache size: 3504771 / 3504771 / 34\n"
     ]
    },
    {
     "name": "stderr",
     "output_type": "stream",
     "text": [
      "Generating predictions [Valencia] (area_id: 10): 100%|██████████| 20/20 [00:01<00:00, 18.16it/s]\n",
      "Saving results to DB [Valencia] (area_id: 10): 100%|██████████| 65/65 [00:07<00:00,  9.07it/s]\n"
     ]
    },
    {
     "name": "stdout",
     "output_type": "stream",
     "text": [
      "Hex cache size: 3504771 / 3504771 / 34\n",
      "Hex cache size: 3504771 / 3504771 / 34\n"
     ]
    },
    {
     "name": "stderr",
     "output_type": "stream",
     "text": [
      "Generating predictions [Valencia] (area_id: 11): 100%|██████████| 20/20 [00:00<00:00, 20.40it/s]\n",
      "Saving results to DB [Valencia] (area_id: 11): 100%|██████████| 60/60 [00:04<00:00, 14.08it/s]\n"
     ]
    },
    {
     "name": "stdout",
     "output_type": "stream",
     "text": [
      "Hex cache size: 3504771 / 3504771 / 34\n",
      "Hex cache size: 3504771 / 3504771 / 34\n"
     ]
    },
    {
     "name": "stderr",
     "output_type": "stream",
     "text": [
      "Generating predictions [Valencia] (area_id: 12): 100%|██████████| 20/20 [00:01<00:00, 11.00it/s]\n",
      "Saving results to DB [Valencia] (area_id: 12): 100%|██████████| 153/153 [00:11<00:00, 13.28it/s]\n"
     ]
    },
    {
     "name": "stdout",
     "output_type": "stream",
     "text": [
      "Hex cache size: 3504771 / 3504771 / 34\n",
      "Hex cache size: 3504771 / 3504771 / 34\n"
     ]
    },
    {
     "name": "stderr",
     "output_type": "stream",
     "text": [
      "Generating predictions [Valencia] (area_id: 13): 100%|██████████| 20/20 [00:02<00:00,  8.96it/s]\n",
      "Saving results to DB [Valencia] (area_id: 13): 100%|██████████| 159/159 [00:19<00:00,  8.21it/s]\n"
     ]
    },
    {
     "name": "stdout",
     "output_type": "stream",
     "text": [
      "Hex cache size: 3504771 / 3504771 / 34\n",
      "Hex cache size: 3504771 / 3504771 / 34\n"
     ]
    },
    {
     "name": "stderr",
     "output_type": "stream",
     "text": [
      "Generating predictions [Valencia] (area_id: 14): 100%|██████████| 20/20 [00:01<00:00, 12.27it/s]\n",
      "Saving results to DB [Valencia] (area_id: 14): 100%|██████████| 111/111 [00:08<00:00, 13.42it/s]\n"
     ]
    },
    {
     "name": "stdout",
     "output_type": "stream",
     "text": [
      "Hex cache size: 3504771 / 3504771 / 34\n",
      "Hex cache size: 3504771 / 3504771 / 34\n"
     ]
    },
    {
     "name": "stderr",
     "output_type": "stream",
     "text": [
      "Generating predictions [Valencia] (area_id: 15): 100%|██████████| 20/20 [00:01<00:00, 12.67it/s]\n",
      "Saving results to DB [Valencia] (area_id: 15): 100%|██████████| 122/122 [00:16<00:00,  7.33it/s]\n"
     ]
    },
    {
     "name": "stdout",
     "output_type": "stream",
     "text": [
      "Hex cache size: 3504771 / 3504771 / 34\n",
      "Hex cache size: 3504771 / 3504771 / 34\n"
     ]
    },
    {
     "name": "stderr",
     "output_type": "stream",
     "text": [
      "Generating predictions [Valencia] (area_id: 16): 100%|██████████| 20/20 [00:01<00:00, 17.19it/s]\n",
      "Saving results to DB [Valencia] (area_id: 16): 100%|██████████| 59/59 [00:04<00:00, 14.53it/s]\n"
     ]
    },
    {
     "name": "stdout",
     "output_type": "stream",
     "text": [
      "Hex cache size: 3504771 / 3504771 / 34\n",
      "Hex cache size: 3504771 / 3504771 / 34\n"
     ]
    },
    {
     "name": "stderr",
     "output_type": "stream",
     "text": [
      "Generating predictions [Valencia] (area_id: 17): 100%|██████████| 20/20 [00:00<00:00, 28.24it/s]\n",
      "Saving results to DB [Valencia] (area_id: 17): 100%|██████████| 30/30 [00:02<00:00, 14.32it/s]\n"
     ]
    },
    {
     "name": "stdout",
     "output_type": "stream",
     "text": [
      "Hex cache size: 3504771 / 3504771 / 34\n",
      "Hex cache size: 3504771 / 3504771 / 34\n"
     ]
    },
    {
     "name": "stderr",
     "output_type": "stream",
     "text": [
      "Generating predictions [Valencia] (area_id: 18): 100%|██████████| 20/20 [00:01<00:00, 19.11it/s]\n",
      "Saving results to DB [Valencia] (area_id: 18): 100%|██████████| 63/63 [00:04<00:00, 13.85it/s]\n"
     ]
    },
    {
     "name": "stdout",
     "output_type": "stream",
     "text": [
      "Hex cache size: 3504771 / 3504771 / 34\n",
      "Hex cache size: 3504771 / 3504771 / 34\n"
     ]
    },
    {
     "name": "stderr",
     "output_type": "stream",
     "text": [
      "Generating predictions [Valencia] (area_id: 19): 100%|██████████| 20/20 [00:04<00:00,  4.64it/s]\n",
      "Saving results to DB [Valencia] (area_id: 19): 100%|██████████| 379/379 [00:59<00:00,  6.32it/s]\n"
     ]
    },
    {
     "name": "stdout",
     "output_type": "stream",
     "text": [
      "Hex cache size: 3504771 / 3504771 / 34\n",
      "Hex cache size: 3504771 / 3504771 / 34\n"
     ]
    },
    {
     "name": "stderr",
     "output_type": "stream",
     "text": [
      "Generating predictions [Valencia] (area_id: 20): 100%|██████████| 20/20 [00:03<00:00,  6.27it/s]\n",
      "Saving results to DB [Valencia] (area_id: 20): 100%|██████████| 295/295 [00:32<00:00,  8.99it/s]\n"
     ]
    },
    {
     "name": "stdout",
     "output_type": "stream",
     "text": [
      "Hex cache size: 3504771 / 3504771 / 34\n",
      "Hex cache size: 3504771 / 3504771 / 34\n"
     ]
    },
    {
     "name": "stderr",
     "output_type": "stream",
     "text": [
      "Generating predictions [Valencia] (area_id: 21): 100%|██████████| 20/20 [00:00<00:00, 24.45it/s]\n",
      "Saving results to DB [Valencia] (area_id: 21): 100%|██████████| 37/37 [00:02<00:00, 13.97it/s]\n"
     ]
    },
    {
     "name": "stdout",
     "output_type": "stream",
     "text": [
      "Hex cache size: 3504771 / 3504771 / 34\n",
      "Hex cache size: 3504771 / 3504771 / 34\n"
     ]
    },
    {
     "name": "stderr",
     "output_type": "stream",
     "text": [
      "Generating predictions [Valencia] (area_id: 22): 100%|██████████| 20/20 [00:00<00:00, 20.93it/s]\n",
      "Saving results to DB [Valencia] (area_id: 22): 100%|██████████| 54/54 [00:04<00:00, 13.27it/s]\n"
     ]
    },
    {
     "name": "stdout",
     "output_type": "stream",
     "text": [
      "Hex cache size: 3504771 / 3504771 / 34\n",
      "Hex cache size: 3504771 / 3504771 / 34\n"
     ]
    },
    {
     "name": "stderr",
     "output_type": "stream",
     "text": [
      "Generating predictions [Valencia] (area_id: 23): 100%|██████████| 20/20 [00:01<00:00, 12.00it/s]\n",
      "Saving results to DB [Valencia] (area_id: 23): 100%|██████████| 136/136 [00:10<00:00, 13.48it/s]\n"
     ]
    },
    {
     "name": "stdout",
     "output_type": "stream",
     "text": [
      "Hex cache size: 3504771 / 3504771 / 34\n",
      "Hex cache size: 3504771 / 3504771 / 34\n"
     ]
    },
    {
     "name": "stderr",
     "output_type": "stream",
     "text": [
      "Generating predictions [Valencia] (area_id: 24): 100%|██████████| 20/20 [00:03<00:00,  6.54it/s]\n",
      "Saving results to DB [Valencia] (area_id: 24): 100%|██████████| 265/265 [00:27<00:00,  9.71it/s]\n"
     ]
    },
    {
     "name": "stdout",
     "output_type": "stream",
     "text": [
      "Hex cache size: 3504771 / 3504771 / 34\n",
      "Hex cache size: 3504771 / 3504771 / 34\n"
     ]
    },
    {
     "name": "stderr",
     "output_type": "stream",
     "text": [
      "Generating predictions [Valencia] (area_id: 25): 100%|██████████| 20/20 [00:01<00:00, 14.02it/s]\n",
      "Saving results to DB [Valencia] (area_id: 25): 100%|██████████| 106/106 [00:09<00:00, 10.75it/s]\n"
     ]
    },
    {
     "name": "stdout",
     "output_type": "stream",
     "text": [
      "Hex cache size: 3504771 / 3504771 / 34\n",
      "Hex cache size: 3504771 / 3504771 / 34\n"
     ]
    },
    {
     "name": "stderr",
     "output_type": "stream",
     "text": [
      "Generating predictions [Valencia] (area_id: 26): 100%|██████████| 20/20 [00:01<00:00, 10.40it/s]\n",
      "Saving results to DB [Valencia] (area_id: 26): 100%|██████████| 152/152 [00:11<00:00, 13.42it/s]\n"
     ]
    },
    {
     "name": "stdout",
     "output_type": "stream",
     "text": [
      "Hex cache size: 3504771 / 3504771 / 34\n",
      "Hex cache size: 3504771 / 3504771 / 34\n"
     ]
    },
    {
     "name": "stderr",
     "output_type": "stream",
     "text": [
      "Generating predictions [Valencia] (area_id: 27): 100%|██████████| 20/20 [00:01<00:00, 19.86it/s]\n",
      "Saving results to DB [Valencia] (area_id: 27): 100%|██████████| 49/49 [00:03<00:00, 14.98it/s]\n"
     ]
    },
    {
     "name": "stdout",
     "output_type": "stream",
     "text": [
      "Hex cache size: 3504771 / 3504771 / 34\n",
      "Hex cache size: 3504771 / 3504771 / 34\n"
     ]
    },
    {
     "name": "stderr",
     "output_type": "stream",
     "text": [
      "Generating predictions [Valencia] (area_id: 28): 100%|██████████| 20/20 [00:00<00:00, 21.60it/s]\n",
      "Saving results to DB [Valencia] (area_id: 28): 100%|██████████| 53/53 [00:09<00:00,  5.88it/s]\n"
     ]
    },
    {
     "name": "stdout",
     "output_type": "stream",
     "text": [
      "Hex cache size: 3504771 / 3504771 / 34\n",
      "Hex cache size: 3504771 / 3504771 / 34\n"
     ]
    },
    {
     "name": "stderr",
     "output_type": "stream",
     "text": [
      "Generating predictions [Valencia] (area_id: 29): 100%|██████████| 20/20 [00:00<00:00, 26.53it/s]\n",
      "Saving results to DB [Valencia] (area_id: 29): 100%|██████████| 34/34 [00:02<00:00, 14.41it/s]\n"
     ]
    },
    {
     "name": "stdout",
     "output_type": "stream",
     "text": [
      "Hex cache size: 3504771 / 3504771 / 34\n",
      "Hex cache size: 3504771 / 3504771 / 34\n"
     ]
    },
    {
     "name": "stderr",
     "output_type": "stream",
     "text": [
      "Generating predictions [Valencia] (area_id: 30): 100%|██████████| 20/20 [00:00<00:00, 21.58it/s]\n",
      "Saving results to DB [Valencia] (area_id: 30): 100%|██████████| 50/50 [00:03<00:00, 14.47it/s]\n"
     ]
    },
    {
     "name": "stdout",
     "output_type": "stream",
     "text": [
      "Hex cache size: 3504771 / 3504771 / 34\n",
      "Hex cache size: 3504771 / 3504771 / 34\n"
     ]
    },
    {
     "name": "stderr",
     "output_type": "stream",
     "text": [
      "Generating predictions [Valencia] (area_id: 31): 100%|██████████| 20/20 [00:02<00:00,  8.94it/s]\n",
      "Saving results to DB [Valencia] (area_id: 31): 100%|██████████| 174/174 [00:16<00:00, 10.28it/s]\n"
     ]
    },
    {
     "name": "stdout",
     "output_type": "stream",
     "text": [
      "Hex cache size: 3504771 / 3504771 / 34\n",
      "Hex cache size: 3504771 / 3504771 / 34\n"
     ]
    },
    {
     "name": "stderr",
     "output_type": "stream",
     "text": [
      "Generating predictions [Valencia] (area_id: 32): 100%|██████████| 20/20 [00:01<00:00, 12.46it/s]\n",
      "Saving results to DB [Valencia] (area_id: 32): 100%|██████████| 127/127 [00:09<00:00, 13.05it/s]\n"
     ]
    },
    {
     "name": "stdout",
     "output_type": "stream",
     "text": [
      "Hex cache size: 3504771 / 3504771 / 34\n",
      "Hex cache size: 3504771 / 3504771 / 34\n"
     ]
    },
    {
     "name": "stderr",
     "output_type": "stream",
     "text": [
      "Generating predictions [Valencia] (area_id: 33): 100%|██████████| 20/20 [00:00<00:00, 23.14it/s]\n",
      "Saving results to DB [Valencia] (area_id: 33): 100%|██████████| 33/33 [00:02<00:00, 14.02it/s]\n"
     ]
    },
    {
     "name": "stdout",
     "output_type": "stream",
     "text": [
      "Hex cache size: 3504771 / 3504771 / 34\n",
      "Hex cache size: 3504771 / 3504771 / 34\n"
     ]
    },
    {
     "name": "stderr",
     "output_type": "stream",
     "text": [
      "Generating predictions [Valencia] (area_id: 34): 100%|██████████| 20/20 [00:01<00:00, 17.60it/s]\n",
      "Saving results to DB [Valencia] (area_id: 34): 100%|██████████| 71/71 [00:12<00:00,  5.67it/s]\n"
     ]
    },
    {
     "name": "stdout",
     "output_type": "stream",
     "text": [
      "Hex cache size: 3504771 / 3504771 / 34\n",
      "Hex cache size: 3504771 / 3504771 / 34\n"
     ]
    },
    {
     "name": "stderr",
     "output_type": "stream",
     "text": [
      "Generating predictions [Vienna] (area_id: 1): 100%|██████████| 20/20 [00:22<00:00,  1.14s/it]\n",
      "Saving results to DB [Vienna] (area_id: 1): 100%|██████████| 57/57 [00:03<00:00, 14.41it/s]\n"
     ]
    },
    {
     "name": "stdout",
     "output_type": "stream",
     "text": [
      "Hex cache size: 3504771 / 3504771 / 34\n",
      "Hex cache size: 3504771 / 3504771 / 34\n"
     ]
    },
    {
     "name": "stderr",
     "output_type": "stream",
     "text": [
      "Generating predictions [Vienna] (area_id: 2): 100%|██████████| 20/20 [00:00<00:00, 25.94it/s]\n",
      "Saving results to DB [Vienna] (area_id: 2): 100%|██████████| 43/43 [00:03<00:00, 13.60it/s]\n"
     ]
    },
    {
     "name": "stdout",
     "output_type": "stream",
     "text": [
      "Hex cache size: 3504771 / 3504771 / 34\n",
      "Hex cache size: 3504771 / 3504771 / 34\n"
     ]
    },
    {
     "name": "stderr",
     "output_type": "stream",
     "text": [
      "Generating predictions [Vienna] (area_id: 3): 100%|██████████| 20/20 [00:01<00:00, 14.30it/s]\n",
      "Saving results to DB [Vienna] (area_id: 3): 100%|██████████| 123/123 [00:09<00:00, 13.15it/s]\n"
     ]
    },
    {
     "name": "stdout",
     "output_type": "stream",
     "text": [
      "Hex cache size: 3504771 / 3504771 / 34\n",
      "Hex cache size: 3504771 / 3504771 / 34\n"
     ]
    },
    {
     "name": "stderr",
     "output_type": "stream",
     "text": [
      "Generating predictions [Vienna] (area_id: 4): 100%|██████████| 20/20 [00:00<00:00, 25.48it/s]\n",
      "Saving results to DB [Vienna] (area_id: 4): 100%|██████████| 54/54 [00:08<00:00,  6.03it/s]\n"
     ]
    },
    {
     "name": "stdout",
     "output_type": "stream",
     "text": [
      "Hex cache size: 3504771 / 3504771 / 34\n",
      "Hex cache size: 3504771 / 3504771 / 34\n"
     ]
    },
    {
     "name": "stderr",
     "output_type": "stream",
     "text": [
      "Generating predictions [Vienna] (area_id: 5): 100%|██████████| 20/20 [00:01<00:00, 13.98it/s]\n",
      "Saving results to DB [Vienna] (area_id: 5): 100%|██████████| 144/144 [00:11<00:00, 12.97it/s]\n"
     ]
    },
    {
     "name": "stdout",
     "output_type": "stream",
     "text": [
      "Hex cache size: 3504771 / 3504771 / 34\n",
      "Hex cache size: 3504771 / 3504771 / 34\n"
     ]
    },
    {
     "name": "stderr",
     "output_type": "stream",
     "text": [
      "Generating predictions [Vienna] (area_id: 6): 100%|██████████| 20/20 [00:00<00:00, 20.76it/s]\n",
      "Saving results to DB [Vienna] (area_id: 6): 100%|██████████| 71/71 [00:10<00:00,  6.60it/s]\n"
     ]
    },
    {
     "name": "stdout",
     "output_type": "stream",
     "text": [
      "Hex cache size: 3504771 / 3504771 / 34\n",
      "Hex cache size: 3504771 / 3504771 / 34\n"
     ]
    },
    {
     "name": "stderr",
     "output_type": "stream",
     "text": [
      "Generating predictions [Vienna] (area_id: 7): 100%|██████████| 20/20 [00:01<00:00, 19.49it/s]\n",
      "Saving results to DB [Vienna] (area_id: 7): 100%|██████████| 84/84 [00:06<00:00, 13.28it/s]\n"
     ]
    },
    {
     "name": "stdout",
     "output_type": "stream",
     "text": [
      "Hex cache size: 3504771 / 3504771 / 34\n",
      "Hex cache size: 3504771 / 3504771 / 34\n"
     ]
    },
    {
     "name": "stderr",
     "output_type": "stream",
     "text": [
      "Generating predictions [Vienna] (area_id: 8): 100%|██████████| 20/20 [00:00<00:00, 25.75it/s]\n",
      "Saving results to DB [Vienna] (area_id: 8): 100%|██████████| 50/50 [00:09<00:00,  5.55it/s]\n"
     ]
    },
    {
     "name": "stdout",
     "output_type": "stream",
     "text": [
      "Hex cache size: 3504771 / 3504771 / 34\n",
      "Hex cache size: 3504771 / 3504771 / 34\n"
     ]
    },
    {
     "name": "stderr",
     "output_type": "stream",
     "text": [
      "Generating predictions [Vienna] (area_id: 9): 100%|██████████| 20/20 [00:00<00:00, 25.09it/s]\n",
      "Saving results to DB [Vienna] (area_id: 9): 100%|██████████| 60/60 [00:04<00:00, 14.08it/s]\n"
     ]
    },
    {
     "name": "stdout",
     "output_type": "stream",
     "text": [
      "Hex cache size: 3504771 / 3504771 / 34\n",
      "Hex cache size: 3504771 / 3504771 / 34\n"
     ]
    },
    {
     "name": "stderr",
     "output_type": "stream",
     "text": [
      "Generating predictions [Vienna] (area_id: 10): 100%|██████████| 20/20 [00:01<00:00, 19.92it/s]\n",
      "Saving results to DB [Vienna] (area_id: 10): 100%|██████████| 65/65 [00:04<00:00, 14.26it/s]\n"
     ]
    },
    {
     "name": "stdout",
     "output_type": "stream",
     "text": [
      "Hex cache size: 3504771 / 3504771 / 34\n",
      "Hex cache size: 3504771 / 3504771 / 34\n"
     ]
    },
    {
     "name": "stderr",
     "output_type": "stream",
     "text": [
      "Generating predictions [Vienna] (area_id: 11): 100%|██████████| 20/20 [00:00<00:00, 24.48it/s]\n",
      "Saving results to DB [Vienna] (area_id: 11): 100%|██████████| 60/60 [00:04<00:00, 14.12it/s]\n"
     ]
    },
    {
     "name": "stdout",
     "output_type": "stream",
     "text": [
      "Hex cache size: 3504771 / 3504771 / 34\n",
      "Hex cache size: 3504771 / 3504771 / 34\n"
     ]
    },
    {
     "name": "stderr",
     "output_type": "stream",
     "text": [
      "Generating predictions [Vienna] (area_id: 12): 100%|██████████| 20/20 [00:01<00:00, 12.74it/s]\n",
      "Saving results to DB [Vienna] (area_id: 12): 100%|██████████| 153/153 [00:19<00:00,  7.95it/s]\n"
     ]
    },
    {
     "name": "stdout",
     "output_type": "stream",
     "text": [
      "Hex cache size: 3504771 / 3504771 / 34\n",
      "Hex cache size: 3504771 / 3504771 / 34\n"
     ]
    },
    {
     "name": "stderr",
     "output_type": "stream",
     "text": [
      "Generating predictions [Vienna] (area_id: 13): 100%|██████████| 20/20 [00:01<00:00, 11.40it/s]\n",
      "Saving results to DB [Vienna] (area_id: 13): 100%|██████████| 159/159 [00:14<00:00, 10.82it/s]\n"
     ]
    },
    {
     "name": "stdout",
     "output_type": "stream",
     "text": [
      "Hex cache size: 3504771 / 3504771 / 34\n",
      "Hex cache size: 3504771 / 3504771 / 34\n"
     ]
    },
    {
     "name": "stderr",
     "output_type": "stream",
     "text": [
      "Generating predictions [Vienna] (area_id: 14): 100%|██████████| 20/20 [00:01<00:00, 14.97it/s]\n",
      "Saving results to DB [Vienna] (area_id: 14): 100%|██████████| 111/111 [00:08<00:00, 13.55it/s]\n"
     ]
    },
    {
     "name": "stdout",
     "output_type": "stream",
     "text": [
      "Hex cache size: 3504771 / 3504771 / 34\n",
      "Hex cache size: 3504771 / 3504771 / 34\n"
     ]
    },
    {
     "name": "stderr",
     "output_type": "stream",
     "text": [
      "Generating predictions [Vienna] (area_id: 15): 100%|██████████| 20/20 [00:01<00:00, 14.96it/s]\n",
      "Saving results to DB [Vienna] (area_id: 15): 100%|██████████| 122/122 [00:13<00:00,  8.92it/s]\n"
     ]
    },
    {
     "name": "stdout",
     "output_type": "stream",
     "text": [
      "Hex cache size: 3504771 / 3504771 / 34\n",
      "Hex cache size: 3504771 / 3504771 / 34\n"
     ]
    },
    {
     "name": "stderr",
     "output_type": "stream",
     "text": [
      "Generating predictions [Vienna] (area_id: 16): 100%|██████████| 20/20 [00:00<00:00, 20.37it/s]\n",
      "Saving results to DB [Vienna] (area_id: 16): 100%|██████████| 59/59 [00:10<00:00,  5.49it/s]\n"
     ]
    },
    {
     "name": "stdout",
     "output_type": "stream",
     "text": [
      "Hex cache size: 3504771 / 3504771 / 34\n",
      "Hex cache size: 3504771 / 3504771 / 34\n"
     ]
    },
    {
     "name": "stderr",
     "output_type": "stream",
     "text": [
      "Generating predictions [Vienna] (area_id: 17): 100%|██████████| 20/20 [00:00<00:00, 26.03it/s]\n",
      "Saving results to DB [Vienna] (area_id: 17): 100%|██████████| 30/30 [00:02<00:00, 12.96it/s]\n"
     ]
    },
    {
     "name": "stdout",
     "output_type": "stream",
     "text": [
      "Hex cache size: 3504771 / 3504771 / 34\n",
      "Hex cache size: 3504771 / 3504771 / 34\n"
     ]
    },
    {
     "name": "stderr",
     "output_type": "stream",
     "text": [
      "Generating predictions [Vienna] (area_id: 18): 100%|██████████| 20/20 [00:01<00:00, 16.98it/s]\n",
      "Saving results to DB [Vienna] (area_id: 18): 100%|██████████| 63/63 [00:04<00:00, 14.64it/s]\n"
     ]
    },
    {
     "name": "stdout",
     "output_type": "stream",
     "text": [
      "Hex cache size: 3504771 / 3504771 / 34\n",
      "Hex cache size: 3504771 / 3504771 / 34\n"
     ]
    },
    {
     "name": "stderr",
     "output_type": "stream",
     "text": [
      "Generating predictions [Vienna] (area_id: 19): 100%|██████████| 20/20 [00:03<00:00,  5.95it/s]\n",
      "Saving results to DB [Vienna] (area_id: 19): 100%|██████████| 379/379 [00:58<00:00,  6.43it/s]\n"
     ]
    },
    {
     "name": "stdout",
     "output_type": "stream",
     "text": [
      "Hex cache size: 3504771 / 3504771 / 34\n",
      "Hex cache size: 3504771 / 3504771 / 34\n"
     ]
    },
    {
     "name": "stderr",
     "output_type": "stream",
     "text": [
      "Generating predictions [Vienna] (area_id: 20): 100%|██████████| 20/20 [00:02<00:00,  7.68it/s]\n",
      "Saving results to DB [Vienna] (area_id: 20): 100%|██████████| 295/295 [00:24<00:00, 11.94it/s]\n"
     ]
    },
    {
     "name": "stdout",
     "output_type": "stream",
     "text": [
      "Hex cache size: 3504771 / 3504771 / 34\n",
      "Hex cache size: 3504771 / 3504771 / 34\n"
     ]
    },
    {
     "name": "stderr",
     "output_type": "stream",
     "text": [
      "Generating predictions [Vienna] (area_id: 21): 100%|██████████| 20/20 [00:00<00:00, 28.50it/s]\n",
      "Saving results to DB [Vienna] (area_id: 21): 100%|██████████| 37/37 [00:02<00:00, 13.99it/s]\n"
     ]
    },
    {
     "name": "stdout",
     "output_type": "stream",
     "text": [
      "Hex cache size: 3504771 / 3504771 / 34\n",
      "Hex cache size: 3504771 / 3504771 / 34\n"
     ]
    },
    {
     "name": "stderr",
     "output_type": "stream",
     "text": [
      "Generating predictions [Vienna] (area_id: 22): 100%|██████████| 20/20 [00:00<00:00, 22.25it/s]\n",
      "Saving results to DB [Vienna] (area_id: 22): 100%|██████████| 54/54 [00:03<00:00, 14.29it/s]\n"
     ]
    },
    {
     "name": "stdout",
     "output_type": "stream",
     "text": [
      "Hex cache size: 3504771 / 3504771 / 34\n",
      "Hex cache size: 3504771 / 3504771 / 34\n"
     ]
    },
    {
     "name": "stderr",
     "output_type": "stream",
     "text": [
      "Generating predictions [Vienna] (area_id: 23): 100%|██████████| 20/20 [00:01<00:00, 13.20it/s]\n",
      "Saving results to DB [Vienna] (area_id: 23): 100%|██████████| 136/136 [00:15<00:00,  8.66it/s]\n"
     ]
    },
    {
     "name": "stdout",
     "output_type": "stream",
     "text": [
      "Hex cache size: 3504771 / 3504771 / 34\n",
      "Hex cache size: 3504771 / 3504771 / 34\n"
     ]
    },
    {
     "name": "stderr",
     "output_type": "stream",
     "text": [
      "Generating predictions [Vienna] (area_id: 24): 100%|██████████| 20/20 [00:02<00:00,  7.50it/s]\n",
      "Saving results to DB [Vienna] (area_id: 24): 100%|██████████| 265/265 [00:27<00:00,  9.75it/s]\n"
     ]
    },
    {
     "name": "stdout",
     "output_type": "stream",
     "text": [
      "Hex cache size: 3504771 / 3504771 / 34\n",
      "Hex cache size: 3504771 / 3504771 / 34\n"
     ]
    },
    {
     "name": "stderr",
     "output_type": "stream",
     "text": [
      "Generating predictions [Vienna] (area_id: 25): 100%|██████████| 20/20 [00:01<00:00, 16.66it/s]\n",
      "Saving results to DB [Vienna] (area_id: 25): 100%|██████████| 106/106 [00:13<00:00,  7.93it/s]\n"
     ]
    },
    {
     "name": "stdout",
     "output_type": "stream",
     "text": [
      "Hex cache size: 3504771 / 3504771 / 34\n",
      "Hex cache size: 3504771 / 3504771 / 34\n"
     ]
    },
    {
     "name": "stderr",
     "output_type": "stream",
     "text": [
      "Generating predictions [Vienna] (area_id: 26): 100%|██████████| 20/20 [00:01<00:00, 12.50it/s]\n",
      "Saving results to DB [Vienna] (area_id: 26): 100%|██████████| 152/152 [00:11<00:00, 13.65it/s]\n"
     ]
    },
    {
     "name": "stdout",
     "output_type": "stream",
     "text": [
      "Hex cache size: 3504771 / 3504771 / 34\n",
      "Hex cache size: 3504771 / 3504771 / 34\n"
     ]
    },
    {
     "name": "stderr",
     "output_type": "stream",
     "text": [
      "Generating predictions [Vienna] (area_id: 27): 100%|██████████| 20/20 [00:00<00:00, 26.69it/s]\n",
      "Saving results to DB [Vienna] (area_id: 27): 100%|██████████| 49/49 [00:03<00:00, 14.19it/s]\n"
     ]
    },
    {
     "name": "stdout",
     "output_type": "stream",
     "text": [
      "Hex cache size: 3504771 / 3504771 / 34\n",
      "Hex cache size: 3504771 / 3504771 / 34\n"
     ]
    },
    {
     "name": "stderr",
     "output_type": "stream",
     "text": [
      "Generating predictions [Vienna] (area_id: 28): 100%|██████████| 20/20 [00:00<00:00, 24.66it/s]\n",
      "Saving results to DB [Vienna] (area_id: 28): 100%|██████████| 53/53 [00:03<00:00, 13.77it/s]\n"
     ]
    },
    {
     "name": "stdout",
     "output_type": "stream",
     "text": [
      "Hex cache size: 3504771 / 3504771 / 34\n",
      "Hex cache size: 3504771 / 3504771 / 34\n"
     ]
    },
    {
     "name": "stderr",
     "output_type": "stream",
     "text": [
      "Generating predictions [Vienna] (area_id: 29): 100%|██████████| 20/20 [00:00<00:00, 33.93it/s]\n",
      "Saving results to DB [Vienna] (area_id: 29): 100%|██████████| 34/34 [00:02<00:00, 14.51it/s]\n"
     ]
    },
    {
     "name": "stdout",
     "output_type": "stream",
     "text": [
      "Hex cache size: 3504771 / 3504771 / 34\n",
      "Hex cache size: 3504771 / 3504771 / 34\n"
     ]
    },
    {
     "name": "stderr",
     "output_type": "stream",
     "text": [
      "Generating predictions [Vienna] (area_id: 30): 100%|██████████| 20/20 [00:00<00:00, 25.20it/s]\n",
      "Saving results to DB [Vienna] (area_id: 30): 100%|██████████| 50/50 [00:03<00:00, 13.88it/s]\n"
     ]
    },
    {
     "name": "stdout",
     "output_type": "stream",
     "text": [
      "Hex cache size: 3504771 / 3504771 / 34\n",
      "Hex cache size: 3504771 / 3504771 / 34\n"
     ]
    },
    {
     "name": "stderr",
     "output_type": "stream",
     "text": [
      "Generating predictions [Vienna] (area_id: 31): 100%|██████████| 20/20 [00:01<00:00, 11.02it/s]\n",
      "Saving results to DB [Vienna] (area_id: 31): 100%|██████████| 174/174 [00:15<00:00, 11.18it/s]\n"
     ]
    },
    {
     "name": "stdout",
     "output_type": "stream",
     "text": [
      "Hex cache size: 3504771 / 3504771 / 34\n",
      "Hex cache size: 3504771 / 3504771 / 34\n"
     ]
    },
    {
     "name": "stderr",
     "output_type": "stream",
     "text": [
      "Generating predictions [Vienna] (area_id: 32): 100%|██████████| 20/20 [00:01<00:00, 14.30it/s]\n",
      "Saving results to DB [Vienna] (area_id: 32): 100%|██████████| 127/127 [00:09<00:00, 13.72it/s]\n"
     ]
    },
    {
     "name": "stdout",
     "output_type": "stream",
     "text": [
      "Hex cache size: 3504771 / 3504771 / 34\n",
      "Hex cache size: 3504771 / 3504771 / 34\n"
     ]
    },
    {
     "name": "stderr",
     "output_type": "stream",
     "text": [
      "Generating predictions [Vienna] (area_id: 33): 100%|██████████| 20/20 [00:00<00:00, 25.37it/s]\n",
      "Saving results to DB [Vienna] (area_id: 33): 100%|██████████| 33/33 [00:02<00:00, 14.62it/s]\n"
     ]
    },
    {
     "name": "stdout",
     "output_type": "stream",
     "text": [
      "Hex cache size: 3504771 / 3504771 / 34\n",
      "Hex cache size: 3504771 / 3504771 / 34\n"
     ]
    },
    {
     "name": "stderr",
     "output_type": "stream",
     "text": [
      "Generating predictions [Vienna] (area_id: 34): 100%|██████████| 20/20 [00:00<00:00, 20.89it/s]\n",
      "Saving results to DB [Vienna] (area_id: 34): 100%|██████████| 71/71 [00:05<00:00, 14.18it/s]\n"
     ]
    },
    {
     "name": "stdout",
     "output_type": "stream",
     "text": [
      "Hex cache size: 3504771 / 3504771 / 34\n",
      "Hex cache size: 3504771 / 3504771 / 34\n"
     ]
    },
    {
     "name": "stderr",
     "output_type": "stream",
     "text": [
      "Generating predictions [Warszawa] (area_id: 1): 100%|██████████| 20/20 [00:30<00:00,  1.50s/it]\n",
      "Saving results to DB [Warszawa] (area_id: 1): 100%|██████████| 57/57 [00:04<00:00, 14.02it/s]\n"
     ]
    },
    {
     "name": "stdout",
     "output_type": "stream",
     "text": [
      "Hex cache size: 3504771 / 3504771 / 34\n",
      "Hex cache size: 3504771 / 3504771 / 34\n"
     ]
    },
    {
     "name": "stderr",
     "output_type": "stream",
     "text": [
      "Generating predictions [Warszawa] (area_id: 2): 100%|██████████| 20/20 [00:00<00:00, 21.04it/s]\n",
      "Saving results to DB [Warszawa] (area_id: 2): 100%|██████████| 43/43 [00:03<00:00, 12.39it/s]\n"
     ]
    },
    {
     "name": "stdout",
     "output_type": "stream",
     "text": [
      "Hex cache size: 3504771 / 3504771 / 34\n",
      "Hex cache size: 3504771 / 3504771 / 34\n"
     ]
    },
    {
     "name": "stderr",
     "output_type": "stream",
     "text": [
      "Generating predictions [Warszawa] (area_id: 3): 100%|██████████| 20/20 [00:01<00:00, 10.95it/s]\n",
      "Saving results to DB [Warszawa] (area_id: 3): 100%|██████████| 123/123 [00:17<00:00,  6.93it/s]\n"
     ]
    },
    {
     "name": "stdout",
     "output_type": "stream",
     "text": [
      "Hex cache size: 3504771 / 3504771 / 34\n",
      "Hex cache size: 3504771 / 3504771 / 34\n"
     ]
    },
    {
     "name": "stderr",
     "output_type": "stream",
     "text": [
      "Generating predictions [Warszawa] (area_id: 4): 100%|██████████| 20/20 [00:01<00:00, 19.59it/s]\n",
      "Saving results to DB [Warszawa] (area_id: 4): 100%|██████████| 54/54 [00:03<00:00, 13.68it/s]\n"
     ]
    },
    {
     "name": "stdout",
     "output_type": "stream",
     "text": [
      "Hex cache size: 3504771 / 3504771 / 34\n",
      "Hex cache size: 3504771 / 3504771 / 34\n"
     ]
    },
    {
     "name": "stderr",
     "output_type": "stream",
     "text": [
      "Generating predictions [Warszawa] (area_id: 5): 100%|██████████| 20/20 [00:01<00:00, 10.10it/s]\n",
      "Saving results to DB [Warszawa] (area_id: 5): 100%|██████████| 144/144 [00:11<00:00, 12.64it/s]\n"
     ]
    },
    {
     "name": "stdout",
     "output_type": "stream",
     "text": [
      "Hex cache size: 3504771 / 3504771 / 34\n",
      "Hex cache size: 3504771 / 3504771 / 34\n"
     ]
    },
    {
     "name": "stderr",
     "output_type": "stream",
     "text": [
      "Generating predictions [Warszawa] (area_id: 6): 100%|██████████| 20/20 [00:01<00:00, 16.65it/s]\n",
      "Saving results to DB [Warszawa] (area_id: 6): 100%|██████████| 71/71 [00:05<00:00, 13.73it/s]\n"
     ]
    },
    {
     "name": "stdout",
     "output_type": "stream",
     "text": [
      "Hex cache size: 3504771 / 3504771 / 34\n",
      "Hex cache size: 3504771 / 3504771 / 34\n"
     ]
    },
    {
     "name": "stderr",
     "output_type": "stream",
     "text": [
      "Generating predictions [Warszawa] (area_id: 7): 100%|██████████| 20/20 [00:01<00:00, 13.55it/s]\n",
      "Saving results to DB [Warszawa] (area_id: 7): 100%|██████████| 84/84 [00:06<00:00, 13.80it/s]\n"
     ]
    },
    {
     "name": "stdout",
     "output_type": "stream",
     "text": [
      "Hex cache size: 3504771 / 3504771 / 34\n",
      "Hex cache size: 3504771 / 3504771 / 34\n"
     ]
    },
    {
     "name": "stderr",
     "output_type": "stream",
     "text": [
      "Generating predictions [Warszawa] (area_id: 8): 100%|██████████| 20/20 [00:01<00:00, 19.60it/s]\n",
      "Saving results to DB [Warszawa] (area_id: 8): 100%|██████████| 50/50 [00:03<00:00, 13.11it/s]\n"
     ]
    },
    {
     "name": "stdout",
     "output_type": "stream",
     "text": [
      "Hex cache size: 3504771 / 3504771 / 34\n",
      "Hex cache size: 3504771 / 3504771 / 34\n"
     ]
    },
    {
     "name": "stderr",
     "output_type": "stream",
     "text": [
      "Generating predictions [Warszawa] (area_id: 9): 100%|██████████| 20/20 [00:01<00:00, 18.09it/s]\n",
      "Saving results to DB [Warszawa] (area_id: 9): 100%|██████████| 60/60 [00:04<00:00, 14.14it/s]\n"
     ]
    },
    {
     "name": "stdout",
     "output_type": "stream",
     "text": [
      "Hex cache size: 3504771 / 3504771 / 34\n",
      "Hex cache size: 3504771 / 3504771 / 34\n"
     ]
    },
    {
     "name": "stderr",
     "output_type": "stream",
     "text": [
      "Generating predictions [Warszawa] (area_id: 10): 100%|██████████| 20/20 [00:01<00:00, 17.21it/s]\n",
      "Saving results to DB [Warszawa] (area_id: 10): 100%|██████████| 65/65 [00:04<00:00, 14.44it/s]\n"
     ]
    },
    {
     "name": "stdout",
     "output_type": "stream",
     "text": [
      "Hex cache size: 3504771 / 3504771 / 34\n",
      "Hex cache size: 3504771 / 3504771 / 34\n"
     ]
    },
    {
     "name": "stderr",
     "output_type": "stream",
     "text": [
      "Generating predictions [Warszawa] (area_id: 11): 100%|██████████| 20/20 [00:01<00:00, 17.80it/s]\n",
      "Saving results to DB [Warszawa] (area_id: 11): 100%|██████████| 60/60 [00:05<00:00, 10.05it/s]\n"
     ]
    },
    {
     "name": "stdout",
     "output_type": "stream",
     "text": [
      "Hex cache size: 3504771 / 3504771 / 34\n",
      "Hex cache size: 3504771 / 3504771 / 34\n"
     ]
    },
    {
     "name": "stderr",
     "output_type": "stream",
     "text": [
      "Generating predictions [Warszawa] (area_id: 12): 100%|██████████| 20/20 [00:02<00:00,  9.68it/s]\n",
      "Saving results to DB [Warszawa] (area_id: 12): 100%|██████████| 153/153 [00:18<00:00,  8.37it/s]\n"
     ]
    },
    {
     "name": "stdout",
     "output_type": "stream",
     "text": [
      "Hex cache size: 3504771 / 3504771 / 34\n",
      "Hex cache size: 3504771 / 3504771 / 34\n"
     ]
    },
    {
     "name": "stderr",
     "output_type": "stream",
     "text": [
      "Generating predictions [Warszawa] (area_id: 13): 100%|██████████| 20/20 [00:02<00:00,  9.13it/s]\n",
      "Saving results to DB [Warszawa] (area_id: 13): 100%|██████████| 159/159 [00:15<00:00, 10.01it/s]\n"
     ]
    },
    {
     "name": "stdout",
     "output_type": "stream",
     "text": [
      "Hex cache size: 3504771 / 3504771 / 34\n",
      "Hex cache size: 3504771 / 3504771 / 34\n"
     ]
    },
    {
     "name": "stderr",
     "output_type": "stream",
     "text": [
      "Generating predictions [Warszawa] (area_id: 14): 100%|██████████| 20/20 [00:01<00:00, 11.80it/s]\n",
      "Saving results to DB [Warszawa] (area_id: 14): 100%|██████████| 111/111 [00:07<00:00, 14.18it/s]\n"
     ]
    },
    {
     "name": "stdout",
     "output_type": "stream",
     "text": [
      "Hex cache size: 3504771 / 3504771 / 34\n",
      "Hex cache size: 3504771 / 3504771 / 34\n"
     ]
    },
    {
     "name": "stderr",
     "output_type": "stream",
     "text": [
      "Generating predictions [Warszawa] (area_id: 15): 100%|██████████| 20/20 [00:01<00:00, 10.62it/s]\n",
      "Saving results to DB [Warszawa] (area_id: 15): 100%|██████████| 122/122 [00:08<00:00, 13.56it/s]\n"
     ]
    },
    {
     "name": "stdout",
     "output_type": "stream",
     "text": [
      "Hex cache size: 3504771 / 3504771 / 34\n",
      "Hex cache size: 3504771 / 3504771 / 34\n"
     ]
    },
    {
     "name": "stderr",
     "output_type": "stream",
     "text": [
      "Generating predictions [Warszawa] (area_id: 16): 100%|██████████| 20/20 [00:01<00:00, 16.39it/s]\n",
      "Saving results to DB [Warszawa] (area_id: 16): 100%|██████████| 59/59 [00:04<00:00, 14.50it/s]\n"
     ]
    },
    {
     "name": "stdout",
     "output_type": "stream",
     "text": [
      "Hex cache size: 3504771 / 3504771 / 34\n",
      "Hex cache size: 3504771 / 3504771 / 34\n"
     ]
    },
    {
     "name": "stderr",
     "output_type": "stream",
     "text": [
      "Generating predictions [Warszawa] (area_id: 17): 100%|██████████| 20/20 [00:00<00:00, 25.54it/s]\n",
      "Saving results to DB [Warszawa] (area_id: 17): 100%|██████████| 30/30 [00:02<00:00, 14.85it/s]\n"
     ]
    },
    {
     "name": "stdout",
     "output_type": "stream",
     "text": [
      "Hex cache size: 3504771 / 3504771 / 34\n",
      "Hex cache size: 3504771 / 3504771 / 34\n"
     ]
    },
    {
     "name": "stderr",
     "output_type": "stream",
     "text": [
      "Generating predictions [Warszawa] (area_id: 18): 100%|██████████| 20/20 [00:01<00:00, 16.33it/s]\n",
      "Saving results to DB [Warszawa] (area_id: 18): 100%|██████████| 63/63 [00:11<00:00,  5.58it/s]\n"
     ]
    },
    {
     "name": "stdout",
     "output_type": "stream",
     "text": [
      "Hex cache size: 3504771 / 3504771 / 34\n",
      "Hex cache size: 3504771 / 3504771 / 34\n"
     ]
    },
    {
     "name": "stderr",
     "output_type": "stream",
     "text": [
      "Generating predictions [Warszawa] (area_id: 19): 100%|██████████| 20/20 [00:04<00:00,  4.47it/s]\n",
      "Saving results to DB [Warszawa] (area_id: 19): 100%|██████████| 379/379 [00:50<00:00,  7.44it/s]\n"
     ]
    },
    {
     "name": "stdout",
     "output_type": "stream",
     "text": [
      "Hex cache size: 3504771 / 3504771 / 34\n",
      "Hex cache size: 3504771 / 3504771 / 34\n"
     ]
    },
    {
     "name": "stderr",
     "output_type": "stream",
     "text": [
      "Generating predictions [Warszawa] (area_id: 20): 100%|██████████| 20/20 [00:03<00:00,  5.50it/s]\n",
      "Saving results to DB [Warszawa] (area_id: 20): 100%|██████████| 295/295 [00:28<00:00, 10.37it/s]\n"
     ]
    },
    {
     "name": "stdout",
     "output_type": "stream",
     "text": [
      "Hex cache size: 3504771 / 3504771 / 34\n",
      "Hex cache size: 3504771 / 3504771 / 34\n"
     ]
    },
    {
     "name": "stderr",
     "output_type": "stream",
     "text": [
      "Generating predictions [Warszawa] (area_id: 21): 100%|██████████| 20/20 [00:00<00:00, 23.13it/s]\n",
      "Saving results to DB [Warszawa] (area_id: 21): 100%|██████████| 37/37 [00:02<00:00, 13.18it/s]\n"
     ]
    },
    {
     "name": "stdout",
     "output_type": "stream",
     "text": [
      "Hex cache size: 3504771 / 3504771 / 34\n",
      "Hex cache size: 3504771 / 3504771 / 34\n"
     ]
    },
    {
     "name": "stderr",
     "output_type": "stream",
     "text": [
      "Generating predictions [Warszawa] (area_id: 22): 100%|██████████| 20/20 [00:01<00:00, 18.08it/s]\n",
      "Saving results to DB [Warszawa] (area_id: 22): 100%|██████████| 54/54 [00:03<00:00, 13.60it/s]\n"
     ]
    },
    {
     "name": "stdout",
     "output_type": "stream",
     "text": [
      "Hex cache size: 3504771 / 3504771 / 34\n",
      "Hex cache size: 3504771 / 3504771 / 34\n"
     ]
    },
    {
     "name": "stderr",
     "output_type": "stream",
     "text": [
      "Generating predictions [Warszawa] (area_id: 23): 100%|██████████| 20/20 [00:01<00:00, 10.11it/s]\n",
      "Saving results to DB [Warszawa] (area_id: 23): 100%|██████████| 136/136 [00:12<00:00, 10.99it/s]\n"
     ]
    },
    {
     "name": "stdout",
     "output_type": "stream",
     "text": [
      "Hex cache size: 3504771 / 3504771 / 34\n",
      "Hex cache size: 3504771 / 3504771 / 34\n"
     ]
    },
    {
     "name": "stderr",
     "output_type": "stream",
     "text": [
      "Generating predictions [Warszawa] (area_id: 24): 100%|██████████| 20/20 [00:03<00:00,  5.90it/s]\n",
      "Saving results to DB [Warszawa] (area_id: 24): 100%|██████████| 265/265 [00:26<00:00, 10.07it/s]\n"
     ]
    },
    {
     "name": "stdout",
     "output_type": "stream",
     "text": [
      "Hex cache size: 3504771 / 3504771 / 34\n",
      "Hex cache size: 3504771 / 3504771 / 34\n"
     ]
    },
    {
     "name": "stderr",
     "output_type": "stream",
     "text": [
      "Generating predictions [Warszawa] (area_id: 25): 100%|██████████| 20/20 [00:01<00:00, 12.71it/s]\n",
      "Saving results to DB [Warszawa] (area_id: 25): 100%|██████████| 106/106 [00:11<00:00,  9.35it/s]\n"
     ]
    },
    {
     "name": "stdout",
     "output_type": "stream",
     "text": [
      "Hex cache size: 3504771 / 3504771 / 34\n",
      "Hex cache size: 3504771 / 3504771 / 34\n"
     ]
    },
    {
     "name": "stderr",
     "output_type": "stream",
     "text": [
      "Generating predictions [Warszawa] (area_id: 26): 100%|██████████| 20/20 [00:02<00:00,  9.66it/s]\n",
      "Saving results to DB [Warszawa] (area_id: 26): 100%|██████████| 152/152 [00:11<00:00, 13.34it/s]\n"
     ]
    },
    {
     "name": "stdout",
     "output_type": "stream",
     "text": [
      "Hex cache size: 3504771 / 3504771 / 34\n",
      "Hex cache size: 3504771 / 3504771 / 34\n"
     ]
    },
    {
     "name": "stderr",
     "output_type": "stream",
     "text": [
      "Generating predictions [Warszawa] (area_id: 27): 100%|██████████| 20/20 [00:00<00:00, 20.54it/s]\n",
      "Saving results to DB [Warszawa] (area_id: 27): 100%|██████████| 49/49 [00:09<00:00,  5.42it/s]\n"
     ]
    },
    {
     "name": "stdout",
     "output_type": "stream",
     "text": [
      "Hex cache size: 3504771 / 3504771 / 34\n",
      "Hex cache size: 3504771 / 3504771 / 34\n"
     ]
    },
    {
     "name": "stderr",
     "output_type": "stream",
     "text": [
      "Generating predictions [Warszawa] (area_id: 28): 100%|██████████| 20/20 [00:01<00:00, 19.50it/s]\n",
      "Saving results to DB [Warszawa] (area_id: 28): 100%|██████████| 53/53 [00:03<00:00, 14.07it/s]\n"
     ]
    },
    {
     "name": "stdout",
     "output_type": "stream",
     "text": [
      "Hex cache size: 3504771 / 3504771 / 34\n",
      "Hex cache size: 3504771 / 3504771 / 34\n"
     ]
    },
    {
     "name": "stderr",
     "output_type": "stream",
     "text": [
      "Generating predictions [Warszawa] (area_id: 29): 100%|██████████| 20/20 [00:00<00:00, 24.24it/s]\n",
      "Saving results to DB [Warszawa] (area_id: 29): 100%|██████████| 34/34 [00:02<00:00, 14.55it/s]\n"
     ]
    },
    {
     "name": "stdout",
     "output_type": "stream",
     "text": [
      "Hex cache size: 3504771 / 3504771 / 34\n",
      "Hex cache size: 3504771 / 3504771 / 34\n"
     ]
    },
    {
     "name": "stderr",
     "output_type": "stream",
     "text": [
      "Generating predictions [Warszawa] (area_id: 30): 100%|██████████| 20/20 [00:01<00:00, 19.89it/s]\n",
      "Saving results to DB [Warszawa] (area_id: 30): 100%|██████████| 50/50 [00:03<00:00, 14.33it/s]\n"
     ]
    },
    {
     "name": "stdout",
     "output_type": "stream",
     "text": [
      "Hex cache size: 3504771 / 3504771 / 34\n",
      "Hex cache size: 3504771 / 3504771 / 34\n"
     ]
    },
    {
     "name": "stderr",
     "output_type": "stream",
     "text": [
      "Generating predictions [Warszawa] (area_id: 31): 100%|██████████| 20/20 [00:02<00:00,  8.21it/s]\n",
      "Saving results to DB [Warszawa] (area_id: 31): 100%|██████████| 174/174 [00:25<00:00,  6.70it/s]\n"
     ]
    },
    {
     "name": "stdout",
     "output_type": "stream",
     "text": [
      "Hex cache size: 3504771 / 3504771 / 34\n",
      "Hex cache size: 3504771 / 3504771 / 34\n"
     ]
    },
    {
     "name": "stderr",
     "output_type": "stream",
     "text": [
      "Generating predictions [Warszawa] (area_id: 32): 100%|██████████| 20/20 [00:01<00:00, 10.89it/s]\n",
      "Saving results to DB [Warszawa] (area_id: 32): 100%|██████████| 127/127 [00:10<00:00, 11.64it/s]\n"
     ]
    },
    {
     "name": "stdout",
     "output_type": "stream",
     "text": [
      "Hex cache size: 3504771 / 3504771 / 34\n",
      "Hex cache size: 3504771 / 3504771 / 34\n"
     ]
    },
    {
     "name": "stderr",
     "output_type": "stream",
     "text": [
      "Generating predictions [Warszawa] (area_id: 33): 100%|██████████| 20/20 [00:00<00:00, 24.25it/s]\n",
      "Saving results to DB [Warszawa] (area_id: 33): 100%|██████████| 33/33 [00:02<00:00, 14.20it/s]\n"
     ]
    },
    {
     "name": "stdout",
     "output_type": "stream",
     "text": [
      "Hex cache size: 3504771 / 3504771 / 34\n",
      "Hex cache size: 3504771 / 3504771 / 34\n"
     ]
    },
    {
     "name": "stderr",
     "output_type": "stream",
     "text": [
      "Generating predictions [Warszawa] (area_id: 34): 100%|██████████| 20/20 [00:01<00:00, 16.11it/s]\n",
      "Saving results to DB [Warszawa] (area_id: 34): 100%|██████████| 71/71 [00:05<00:00, 14.18it/s]\n"
     ]
    },
    {
     "name": "stdout",
     "output_type": "stream",
     "text": [
      "Hex cache size: 3504771 / 3504771 / 34\n",
      "Hex cache size: 3504771 / 3504771 / 34\n"
     ]
    },
    {
     "name": "stderr",
     "output_type": "stream",
     "text": [
      "Generating predictions [Wrocław] (area_id: 1): 100%|██████████| 20/20 [00:25<00:00,  1.29s/it]\n",
      "Saving results to DB [Wrocław] (area_id: 1): 100%|██████████| 57/57 [00:03<00:00, 15.00it/s]\n"
     ]
    },
    {
     "name": "stdout",
     "output_type": "stream",
     "text": [
      "Hex cache size: 3504771 / 3504771 / 34\n",
      "Hex cache size: 3504771 / 3504771 / 34\n"
     ]
    },
    {
     "name": "stderr",
     "output_type": "stream",
     "text": [
      "Generating predictions [Wrocław] (area_id: 2): 100%|██████████| 20/20 [00:00<00:00, 25.41it/s]\n",
      "Saving results to DB [Wrocław] (area_id: 2): 100%|██████████| 43/43 [00:03<00:00, 13.80it/s]\n"
     ]
    },
    {
     "name": "stdout",
     "output_type": "stream",
     "text": [
      "Hex cache size: 3504771 / 3504771 / 34\n",
      "Hex cache size: 3504771 / 3504771 / 34\n"
     ]
    },
    {
     "name": "stderr",
     "output_type": "stream",
     "text": [
      "Generating predictions [Wrocław] (area_id: 3): 100%|██████████| 20/20 [00:01<00:00, 12.67it/s]\n",
      "Saving results to DB [Wrocław] (area_id: 3): 100%|██████████| 123/123 [00:09<00:00, 13.41it/s]\n"
     ]
    },
    {
     "name": "stdout",
     "output_type": "stream",
     "text": [
      "Hex cache size: 3504771 / 3504771 / 34\n",
      "Hex cache size: 3504771 / 3504771 / 34\n"
     ]
    },
    {
     "name": "stderr",
     "output_type": "stream",
     "text": [
      "Generating predictions [Wrocław] (area_id: 4): 100%|██████████| 20/20 [00:00<00:00, 26.25it/s]\n",
      "Saving results to DB [Wrocław] (area_id: 4): 100%|██████████| 54/54 [00:03<00:00, 14.76it/s]\n"
     ]
    },
    {
     "name": "stdout",
     "output_type": "stream",
     "text": [
      "Hex cache size: 3504771 / 3504771 / 34\n",
      "Hex cache size: 3504771 / 3504771 / 34\n"
     ]
    },
    {
     "name": "stderr",
     "output_type": "stream",
     "text": [
      "Generating predictions [Wrocław] (area_id: 5): 100%|██████████| 20/20 [00:01<00:00, 13.38it/s]\n",
      "Saving results to DB [Wrocław] (area_id: 5): 100%|██████████| 144/144 [00:10<00:00, 13.10it/s]\n"
     ]
    },
    {
     "name": "stdout",
     "output_type": "stream",
     "text": [
      "Hex cache size: 3504771 / 3504771 / 34\n",
      "Hex cache size: 3504771 / 3504771 / 34\n"
     ]
    },
    {
     "name": "stderr",
     "output_type": "stream",
     "text": [
      "Generating predictions [Wrocław] (area_id: 6): 100%|██████████| 20/20 [00:01<00:00, 18.78it/s]\n",
      "Saving results to DB [Wrocław] (area_id: 6): 100%|██████████| 71/71 [00:04<00:00, 15.02it/s]\n"
     ]
    },
    {
     "name": "stdout",
     "output_type": "stream",
     "text": [
      "Hex cache size: 3504771 / 3504771 / 34\n",
      "Hex cache size: 3504771 / 3504771 / 34\n"
     ]
    },
    {
     "name": "stderr",
     "output_type": "stream",
     "text": [
      "Generating predictions [Wrocław] (area_id: 7): 100%|██████████| 20/20 [00:01<00:00, 18.99it/s]\n",
      "Saving results to DB [Wrocław] (area_id: 7): 100%|██████████| 84/84 [00:13<00:00,  6.27it/s]\n"
     ]
    },
    {
     "name": "stdout",
     "output_type": "stream",
     "text": [
      "Hex cache size: 3504771 / 3504771 / 34\n",
      "Hex cache size: 3504771 / 3504771 / 34\n"
     ]
    },
    {
     "name": "stderr",
     "output_type": "stream",
     "text": [
      "Generating predictions [Wrocław] (area_id: 8): 100%|██████████| 20/20 [00:00<00:00, 24.52it/s]\n",
      "Saving results to DB [Wrocław] (area_id: 8): 100%|██████████| 50/50 [00:03<00:00, 14.46it/s]\n"
     ]
    },
    {
     "name": "stdout",
     "output_type": "stream",
     "text": [
      "Hex cache size: 3504771 / 3504771 / 34\n",
      "Hex cache size: 3504771 / 3504771 / 34\n"
     ]
    },
    {
     "name": "stderr",
     "output_type": "stream",
     "text": [
      "Generating predictions [Wrocław] (area_id: 9): 100%|██████████| 20/20 [00:00<00:00, 24.10it/s]\n",
      "Saving results to DB [Wrocław] (area_id: 9): 100%|██████████| 60/60 [00:04<00:00, 13.46it/s]\n"
     ]
    },
    {
     "name": "stdout",
     "output_type": "stream",
     "text": [
      "Hex cache size: 3504771 / 3504771 / 34\n",
      "Hex cache size: 3504771 / 3504771 / 34\n"
     ]
    },
    {
     "name": "stderr",
     "output_type": "stream",
     "text": [
      "Generating predictions [Wrocław] (area_id: 10): 100%|██████████| 20/20 [00:01<00:00, 19.41it/s]\n",
      "Saving results to DB [Wrocław] (area_id: 10): 100%|██████████| 65/65 [00:04<00:00, 13.01it/s]\n"
     ]
    },
    {
     "name": "stdout",
     "output_type": "stream",
     "text": [
      "Hex cache size: 3504771 / 3504771 / 34\n",
      "Hex cache size: 3504771 / 3504771 / 34\n"
     ]
    },
    {
     "name": "stderr",
     "output_type": "stream",
     "text": [
      "Generating predictions [Wrocław] (area_id: 11): 100%|██████████| 20/20 [00:00<00:00, 23.90it/s]\n",
      "Saving results to DB [Wrocław] (area_id: 11): 100%|██████████| 60/60 [00:12<00:00,  4.91it/s]\n"
     ]
    },
    {
     "name": "stdout",
     "output_type": "stream",
     "text": [
      "Hex cache size: 3504771 / 3504771 / 34\n",
      "Hex cache size: 3504771 / 3504771 / 34\n"
     ]
    },
    {
     "name": "stderr",
     "output_type": "stream",
     "text": [
      "Generating predictions [Wrocław] (area_id: 12): 100%|██████████| 20/20 [00:01<00:00, 12.81it/s]\n",
      "Saving results to DB [Wrocław] (area_id: 12): 100%|██████████| 153/153 [00:19<00:00,  7.90it/s]\n"
     ]
    },
    {
     "name": "stdout",
     "output_type": "stream",
     "text": [
      "Hex cache size: 3504771 / 3504771 / 34\n",
      "Hex cache size: 3504771 / 3504771 / 34\n"
     ]
    },
    {
     "name": "stderr",
     "output_type": "stream",
     "text": [
      "Generating predictions [Wrocław] (area_id: 13): 100%|██████████| 20/20 [00:01<00:00, 12.32it/s]\n",
      "Saving results to DB [Wrocław] (area_id: 13): 100%|██████████| 159/159 [00:18<00:00,  8.51it/s]\n"
     ]
    },
    {
     "name": "stdout",
     "output_type": "stream",
     "text": [
      "Hex cache size: 3504771 / 3504771 / 34\n",
      "Hex cache size: 3504771 / 3504771 / 34\n"
     ]
    },
    {
     "name": "stderr",
     "output_type": "stream",
     "text": [
      "Generating predictions [Wrocław] (area_id: 14): 100%|██████████| 20/20 [00:01<00:00, 15.32it/s]\n",
      "Saving results to DB [Wrocław] (area_id: 14): 100%|██████████| 111/111 [00:08<00:00, 13.67it/s]\n"
     ]
    },
    {
     "name": "stdout",
     "output_type": "stream",
     "text": [
      "Hex cache size: 3504771 / 3504771 / 34\n",
      "Hex cache size: 3504771 / 3504771 / 34\n"
     ]
    },
    {
     "name": "stderr",
     "output_type": "stream",
     "text": [
      "Generating predictions [Wrocław] (area_id: 15): 100%|██████████| 20/20 [00:01<00:00, 14.83it/s]\n",
      "Saving results to DB [Wrocław] (area_id: 15): 100%|██████████| 122/122 [00:15<00:00,  7.88it/s]\n"
     ]
    },
    {
     "name": "stdout",
     "output_type": "stream",
     "text": [
      "Hex cache size: 3504771 / 3504771 / 34\n",
      "Hex cache size: 3504771 / 3504771 / 34\n"
     ]
    },
    {
     "name": "stderr",
     "output_type": "stream",
     "text": [
      "Generating predictions [Wrocław] (area_id: 16): 100%|██████████| 20/20 [00:00<00:00, 23.03it/s]\n",
      "Saving results to DB [Wrocław] (area_id: 16): 100%|██████████| 59/59 [00:04<00:00, 14.75it/s]\n"
     ]
    },
    {
     "name": "stdout",
     "output_type": "stream",
     "text": [
      "Hex cache size: 3504771 / 3504771 / 34\n",
      "Hex cache size: 3504771 / 3504771 / 34\n"
     ]
    },
    {
     "name": "stderr",
     "output_type": "stream",
     "text": [
      "Generating predictions [Wrocław] (area_id: 17): 100%|██████████| 20/20 [00:00<00:00, 31.10it/s]\n",
      "Saving results to DB [Wrocław] (area_id: 17): 100%|██████████| 30/30 [00:04<00:00,  6.68it/s]\n"
     ]
    },
    {
     "name": "stdout",
     "output_type": "stream",
     "text": [
      "Hex cache size: 3504771 / 3504771 / 34\n",
      "Hex cache size: 3504771 / 3504771 / 34\n"
     ]
    },
    {
     "name": "stderr",
     "output_type": "stream",
     "text": [
      "Generating predictions [Wrocław] (area_id: 18): 100%|██████████| 20/20 [00:00<00:00, 22.65it/s]\n",
      "Saving results to DB [Wrocław] (area_id: 18): 100%|██████████| 63/63 [00:04<00:00, 13.90it/s]\n"
     ]
    },
    {
     "name": "stdout",
     "output_type": "stream",
     "text": [
      "Hex cache size: 3504771 / 3504771 / 34\n",
      "Hex cache size: 3504771 / 3504771 / 34\n"
     ]
    },
    {
     "name": "stderr",
     "output_type": "stream",
     "text": [
      "Generating predictions [Wrocław] (area_id: 19): 100%|██████████| 20/20 [00:03<00:00,  5.90it/s]\n",
      "Saving results to DB [Wrocław] (area_id: 19): 100%|██████████| 379/379 [00:59<00:00,  6.37it/s]\n"
     ]
    },
    {
     "name": "stdout",
     "output_type": "stream",
     "text": [
      "Hex cache size: 3504771 / 3504771 / 34\n",
      "Hex cache size: 3504771 / 3504771 / 34\n"
     ]
    },
    {
     "name": "stderr",
     "output_type": "stream",
     "text": [
      "Generating predictions [Wrocław] (area_id: 20): 100%|██████████| 20/20 [00:02<00:00,  7.78it/s]\n",
      "Saving results to DB [Wrocław] (area_id: 20): 100%|██████████| 295/295 [00:28<00:00, 10.40it/s]\n"
     ]
    },
    {
     "name": "stdout",
     "output_type": "stream",
     "text": [
      "Hex cache size: 3504771 / 3504771 / 34\n",
      "Hex cache size: 3504771 / 3504771 / 34\n"
     ]
    },
    {
     "name": "stderr",
     "output_type": "stream",
     "text": [
      "Generating predictions [Wrocław] (area_id: 21): 100%|██████████| 20/20 [00:00<00:00, 31.36it/s]\n",
      "Saving results to DB [Wrocław] (area_id: 21): 100%|██████████| 37/37 [00:02<00:00, 13.07it/s]\n"
     ]
    },
    {
     "name": "stdout",
     "output_type": "stream",
     "text": [
      "Hex cache size: 3504771 / 3504771 / 34\n",
      "Hex cache size: 3504771 / 3504771 / 34\n"
     ]
    },
    {
     "name": "stderr",
     "output_type": "stream",
     "text": [
      "Generating predictions [Wrocław] (area_id: 22): 100%|██████████| 20/20 [00:00<00:00, 23.30it/s]\n",
      "Saving results to DB [Wrocław] (area_id: 22): 100%|██████████| 54/54 [00:03<00:00, 14.41it/s]\n"
     ]
    },
    {
     "name": "stdout",
     "output_type": "stream",
     "text": [
      "Hex cache size: 3504771 / 3504771 / 34\n",
      "Hex cache size: 3504771 / 3504771 / 34\n"
     ]
    },
    {
     "name": "stderr",
     "output_type": "stream",
     "text": [
      "Generating predictions [Wrocław] (area_id: 23): 100%|██████████| 20/20 [00:01<00:00, 13.97it/s]\n",
      "Saving results to DB [Wrocław] (area_id: 23): 100%|██████████| 136/136 [00:10<00:00, 13.56it/s]\n"
     ]
    },
    {
     "name": "stdout",
     "output_type": "stream",
     "text": [
      "Hex cache size: 3504771 / 3504771 / 34\n",
      "Hex cache size: 3504771 / 3504771 / 34\n"
     ]
    },
    {
     "name": "stderr",
     "output_type": "stream",
     "text": [
      "Generating predictions [Wrocław] (area_id: 24): 100%|██████████| 20/20 [00:02<00:00,  7.90it/s]\n",
      "Saving results to DB [Wrocław] (area_id: 24): 100%|██████████| 265/265 [00:27<00:00,  9.75it/s]\n"
     ]
    },
    {
     "name": "stdout",
     "output_type": "stream",
     "text": [
      "Hex cache size: 3504771 / 3504771 / 34\n",
      "Hex cache size: 3504771 / 3504771 / 34\n"
     ]
    },
    {
     "name": "stderr",
     "output_type": "stream",
     "text": [
      "Generating predictions [Wrocław] (area_id: 25): 100%|██████████| 20/20 [00:01<00:00, 15.98it/s]\n",
      "Saving results to DB [Wrocław] (area_id: 25): 100%|██████████| 106/106 [00:12<00:00,  8.22it/s]\n"
     ]
    },
    {
     "name": "stdout",
     "output_type": "stream",
     "text": [
      "Hex cache size: 3504771 / 3504771 / 34\n",
      "Hex cache size: 3504771 / 3504771 / 34\n"
     ]
    },
    {
     "name": "stderr",
     "output_type": "stream",
     "text": [
      "Generating predictions [Wrocław] (area_id: 26): 100%|██████████| 20/20 [00:01<00:00, 11.88it/s]\n",
      "Saving results to DB [Wrocław] (area_id: 26): 100%|██████████| 152/152 [00:10<00:00, 13.89it/s]\n"
     ]
    },
    {
     "name": "stdout",
     "output_type": "stream",
     "text": [
      "Hex cache size: 3504771 / 3504771 / 34\n",
      "Hex cache size: 3504771 / 3504771 / 34\n"
     ]
    },
    {
     "name": "stderr",
     "output_type": "stream",
     "text": [
      "Generating predictions [Wrocław] (area_id: 27): 100%|██████████| 20/20 [00:00<00:00, 26.99it/s]\n",
      "Saving results to DB [Wrocław] (area_id: 27): 100%|██████████| 49/49 [00:10<00:00,  4.83it/s]\n"
     ]
    },
    {
     "name": "stdout",
     "output_type": "stream",
     "text": [
      "Hex cache size: 3504771 / 3504771 / 34\n",
      "Hex cache size: 3504771 / 3504771 / 34\n"
     ]
    },
    {
     "name": "stderr",
     "output_type": "stream",
     "text": [
      "Generating predictions [Wrocław] (area_id: 28): 100%|██████████| 20/20 [00:00<00:00, 21.68it/s]\n",
      "Saving results to DB [Wrocław] (area_id: 28): 100%|██████████| 53/53 [00:03<00:00, 14.32it/s]\n"
     ]
    },
    {
     "name": "stdout",
     "output_type": "stream",
     "text": [
      "Hex cache size: 3504771 / 3504771 / 34\n",
      "Hex cache size: 3504771 / 3504771 / 34\n"
     ]
    },
    {
     "name": "stderr",
     "output_type": "stream",
     "text": [
      "Generating predictions [Wrocław] (area_id: 29): 100%|██████████| 20/20 [00:00<00:00, 29.44it/s]\n",
      "Saving results to DB [Wrocław] (area_id: 29): 100%|██████████| 34/34 [00:02<00:00, 14.08it/s]\n"
     ]
    },
    {
     "name": "stdout",
     "output_type": "stream",
     "text": [
      "Hex cache size: 3504771 / 3504771 / 34\n",
      "Hex cache size: 3504771 / 3504771 / 34\n"
     ]
    },
    {
     "name": "stderr",
     "output_type": "stream",
     "text": [
      "Generating predictions [Wrocław] (area_id: 30): 100%|██████████| 20/20 [00:00<00:00, 23.01it/s]\n",
      "Saving results to DB [Wrocław] (area_id: 30): 100%|██████████| 50/50 [00:03<00:00, 14.85it/s]\n"
     ]
    },
    {
     "name": "stdout",
     "output_type": "stream",
     "text": [
      "Hex cache size: 3504771 / 3504771 / 34\n",
      "Hex cache size: 3504771 / 3504771 / 34\n"
     ]
    },
    {
     "name": "stderr",
     "output_type": "stream",
     "text": [
      "Generating predictions [Wrocław] (area_id: 31): 100%|██████████| 20/20 [00:01<00:00, 10.27it/s]\n",
      "Saving results to DB [Wrocław] (area_id: 31): 100%|██████████| 174/174 [00:18<00:00,  9.17it/s]\n"
     ]
    },
    {
     "name": "stdout",
     "output_type": "stream",
     "text": [
      "Hex cache size: 3504771 / 3504771 / 34\n",
      "Hex cache size: 3504771 / 3504771 / 34\n"
     ]
    },
    {
     "name": "stderr",
     "output_type": "stream",
     "text": [
      "Generating predictions [Wrocław] (area_id: 32): 100%|██████████| 20/20 [00:01<00:00, 13.48it/s]\n",
      "Saving results to DB [Wrocław] (area_id: 32): 100%|██████████| 127/127 [00:09<00:00, 13.85it/s]\n"
     ]
    },
    {
     "name": "stdout",
     "output_type": "stream",
     "text": [
      "Hex cache size: 3504771 / 3504771 / 34\n",
      "Hex cache size: 3504771 / 3504771 / 34\n"
     ]
    },
    {
     "name": "stderr",
     "output_type": "stream",
     "text": [
      "Generating predictions [Wrocław] (area_id: 33): 100%|██████████| 20/20 [00:00<00:00, 31.91it/s]\n",
      "Saving results to DB [Wrocław] (area_id: 33): 100%|██████████| 33/33 [00:09<00:00,  3.59it/s]\n"
     ]
    },
    {
     "name": "stdout",
     "output_type": "stream",
     "text": [
      "Hex cache size: 3504771 / 3504771 / 34\n",
      "Hex cache size: 3504771 / 3504771 / 34\n"
     ]
    },
    {
     "name": "stderr",
     "output_type": "stream",
     "text": [
      "Generating predictions [Wrocław] (area_id: 34): 100%|██████████| 20/20 [00:00<00:00, 20.49it/s]\n",
      "Saving results to DB [Wrocław] (area_id: 34): 100%|██████████| 71/71 [00:04<00:00, 14.46it/s]\n"
     ]
    },
    {
     "name": "stdout",
     "output_type": "stream",
     "text": [
      "Hex cache size: 3504771 / 3504771 / 34\n",
      "Hex cache size: 3504771 / 3504771 / 34\n"
     ]
    },
    {
     "name": "stderr",
     "output_type": "stream",
     "text": [
      "Generating predictions [Zaragoza] (area_id: 1): 100%|██████████| 20/20 [00:23<00:00,  1.17s/it]\n",
      "Saving results to DB [Zaragoza] (area_id: 1): 100%|██████████| 57/57 [00:04<00:00, 13.64it/s]\n"
     ]
    },
    {
     "name": "stdout",
     "output_type": "stream",
     "text": [
      "Hex cache size: 3504771 / 3504771 / 34\n",
      "Hex cache size: 3504771 / 3504771 / 34\n"
     ]
    },
    {
     "name": "stderr",
     "output_type": "stream",
     "text": [
      "Generating predictions [Zaragoza] (area_id: 2): 100%|██████████| 20/20 [00:00<00:00, 25.26it/s]\n",
      "Saving results to DB [Zaragoza] (area_id: 2): 100%|██████████| 43/43 [00:03<00:00, 13.39it/s]\n"
     ]
    },
    {
     "name": "stdout",
     "output_type": "stream",
     "text": [
      "Hex cache size: 3504771 / 3504771 / 34\n",
      "Hex cache size: 3504771 / 3504771 / 34\n"
     ]
    },
    {
     "name": "stderr",
     "output_type": "stream",
     "text": [
      "Generating predictions [Zaragoza] (area_id: 3): 100%|██████████| 20/20 [00:01<00:00, 13.79it/s]\n",
      "Saving results to DB [Zaragoza] (area_id: 3): 100%|██████████| 123/123 [00:13<00:00,  8.99it/s]\n"
     ]
    },
    {
     "name": "stdout",
     "output_type": "stream",
     "text": [
      "Hex cache size: 3504771 / 3504771 / 34\n",
      "Hex cache size: 3504771 / 3504771 / 34\n"
     ]
    },
    {
     "name": "stderr",
     "output_type": "stream",
     "text": [
      "Generating predictions [Zaragoza] (area_id: 4): 100%|██████████| 20/20 [00:00<00:00, 23.31it/s]\n",
      "Saving results to DB [Zaragoza] (area_id: 4): 100%|██████████| 54/54 [00:03<00:00, 14.28it/s]\n"
     ]
    },
    {
     "name": "stdout",
     "output_type": "stream",
     "text": [
      "Hex cache size: 3504771 / 3504771 / 34\n",
      "Hex cache size: 3504771 / 3504771 / 34\n"
     ]
    },
    {
     "name": "stderr",
     "output_type": "stream",
     "text": [
      "Generating predictions [Zaragoza] (area_id: 5): 100%|██████████| 20/20 [00:01<00:00, 12.82it/s]\n",
      "Saving results to DB [Zaragoza] (area_id: 5): 100%|██████████| 144/144 [00:16<00:00,  8.94it/s]\n"
     ]
    },
    {
     "name": "stdout",
     "output_type": "stream",
     "text": [
      "Hex cache size: 3504771 / 3504771 / 34\n",
      "Hex cache size: 3504771 / 3504771 / 34\n"
     ]
    },
    {
     "name": "stderr",
     "output_type": "stream",
     "text": [
      "Generating predictions [Zaragoza] (area_id: 6): 100%|██████████| 20/20 [00:00<00:00, 20.93it/s]\n",
      "Saving results to DB [Zaragoza] (area_id: 6): 100%|██████████| 71/71 [00:05<00:00, 13.81it/s]\n"
     ]
    },
    {
     "name": "stdout",
     "output_type": "stream",
     "text": [
      "Hex cache size: 3504771 / 3504771 / 34\n",
      "Hex cache size: 3504771 / 3504771 / 34\n"
     ]
    },
    {
     "name": "stderr",
     "output_type": "stream",
     "text": [
      "Generating predictions [Zaragoza] (area_id: 7): 100%|██████████| 20/20 [00:01<00:00, 18.49it/s]\n",
      "Saving results to DB [Zaragoza] (area_id: 7): 100%|██████████| 84/84 [00:13<00:00,  6.06it/s]\n"
     ]
    },
    {
     "name": "stdout",
     "output_type": "stream",
     "text": [
      "Hex cache size: 3504771 / 3504771 / 34\n",
      "Hex cache size: 3504771 / 3504771 / 34\n"
     ]
    },
    {
     "name": "stderr",
     "output_type": "stream",
     "text": [
      "Generating predictions [Zaragoza] (area_id: 8): 100%|██████████| 20/20 [00:00<00:00, 24.53it/s]\n",
      "Saving results to DB [Zaragoza] (area_id: 8): 100%|██████████| 50/50 [00:03<00:00, 12.99it/s]\n"
     ]
    },
    {
     "name": "stdout",
     "output_type": "stream",
     "text": [
      "Hex cache size: 3504771 / 3504771 / 34\n",
      "Hex cache size: 3504771 / 3504771 / 34\n"
     ]
    },
    {
     "name": "stderr",
     "output_type": "stream",
     "text": [
      "Generating predictions [Zaragoza] (area_id: 9): 100%|██████████| 20/20 [00:00<00:00, 23.79it/s]\n",
      "Saving results to DB [Zaragoza] (area_id: 9): 100%|██████████| 60/60 [00:04<00:00, 13.91it/s]\n"
     ]
    },
    {
     "name": "stdout",
     "output_type": "stream",
     "text": [
      "Hex cache size: 3504771 / 3504771 / 34\n",
      "Hex cache size: 3504771 / 3504771 / 34\n"
     ]
    },
    {
     "name": "stderr",
     "output_type": "stream",
     "text": [
      "Generating predictions [Zaragoza] (area_id: 10): 100%|██████████| 20/20 [00:00<00:00, 21.29it/s]\n",
      "Saving results to DB [Zaragoza] (area_id: 10): 100%|██████████| 65/65 [00:04<00:00, 13.80it/s]\n"
     ]
    },
    {
     "name": "stdout",
     "output_type": "stream",
     "text": [
      "Hex cache size: 3504771 / 3504771 / 34\n",
      "Hex cache size: 3504771 / 3504771 / 34\n"
     ]
    },
    {
     "name": "stderr",
     "output_type": "stream",
     "text": [
      "Generating predictions [Zaragoza] (area_id: 11): 100%|██████████| 20/20 [00:00<00:00, 23.29it/s]\n",
      "Saving results to DB [Zaragoza] (area_id: 11): 100%|██████████| 60/60 [00:07<00:00,  7.72it/s]\n"
     ]
    },
    {
     "name": "stdout",
     "output_type": "stream",
     "text": [
      "Hex cache size: 3504771 / 3504771 / 34\n",
      "Hex cache size: 3504771 / 3504771 / 34\n"
     ]
    },
    {
     "name": "stderr",
     "output_type": "stream",
     "text": [
      "Generating predictions [Zaragoza] (area_id: 12): 100%|██████████| 20/20 [00:01<00:00, 12.83it/s]\n",
      "Saving results to DB [Zaragoza] (area_id: 12): 100%|██████████| 153/153 [00:11<00:00, 13.44it/s]\n"
     ]
    },
    {
     "name": "stdout",
     "output_type": "stream",
     "text": [
      "Hex cache size: 3504771 / 3504771 / 34\n",
      "Hex cache size: 3504771 / 3504771 / 34\n"
     ]
    },
    {
     "name": "stderr",
     "output_type": "stream",
     "text": [
      "Generating predictions [Zaragoza] (area_id: 13): 100%|██████████| 20/20 [00:01<00:00, 11.42it/s]\n",
      "Saving results to DB [Zaragoza] (area_id: 13): 100%|██████████| 159/159 [00:20<00:00,  7.85it/s]\n"
     ]
    },
    {
     "name": "stdout",
     "output_type": "stream",
     "text": [
      "Hex cache size: 3504771 / 3504771 / 34\n",
      "Hex cache size: 3504771 / 3504771 / 34\n"
     ]
    },
    {
     "name": "stderr",
     "output_type": "stream",
     "text": [
      "Generating predictions [Zaragoza] (area_id: 14): 100%|██████████| 20/20 [00:01<00:00, 14.51it/s]\n",
      "Saving results to DB [Zaragoza] (area_id: 14): 100%|██████████| 111/111 [00:08<00:00, 13.07it/s]\n"
     ]
    },
    {
     "name": "stdout",
     "output_type": "stream",
     "text": [
      "Hex cache size: 3504771 / 3504771 / 34\n",
      "Hex cache size: 3504771 / 3504771 / 34\n"
     ]
    },
    {
     "name": "stderr",
     "output_type": "stream",
     "text": [
      "Generating predictions [Zaragoza] (area_id: 15): 100%|██████████| 20/20 [00:01<00:00, 13.41it/s]\n",
      "Saving results to DB [Zaragoza] (area_id: 15): 100%|██████████| 122/122 [00:15<00:00,  7.67it/s]\n"
     ]
    },
    {
     "name": "stdout",
     "output_type": "stream",
     "text": [
      "Hex cache size: 3504771 / 3504771 / 34\n",
      "Hex cache size: 3504771 / 3504771 / 34\n"
     ]
    },
    {
     "name": "stderr",
     "output_type": "stream",
     "text": [
      "Generating predictions [Zaragoza] (area_id: 16): 100%|██████████| 20/20 [00:00<00:00, 22.49it/s]\n",
      "Saving results to DB [Zaragoza] (area_id: 16): 100%|██████████| 59/59 [00:03<00:00, 14.78it/s]\n"
     ]
    },
    {
     "name": "stdout",
     "output_type": "stream",
     "text": [
      "Hex cache size: 3504771 / 3504771 / 34\n",
      "Hex cache size: 3504771 / 3504771 / 34\n"
     ]
    },
    {
     "name": "stderr",
     "output_type": "stream",
     "text": [
      "Generating predictions [Zaragoza] (area_id: 17): 100%|██████████| 20/20 [00:00<00:00, 32.46it/s]\n",
      "Saving results to DB [Zaragoza] (area_id: 17): 100%|██████████| 30/30 [00:02<00:00, 13.94it/s]\n"
     ]
    },
    {
     "name": "stdout",
     "output_type": "stream",
     "text": [
      "Hex cache size: 3504771 / 3504771 / 34\n",
      "Hex cache size: 3504771 / 3504771 / 34\n"
     ]
    },
    {
     "name": "stderr",
     "output_type": "stream",
     "text": [
      "Generating predictions [Zaragoza] (area_id: 18): 100%|██████████| 20/20 [00:00<00:00, 22.19it/s]\n",
      "Saving results to DB [Zaragoza] (area_id: 18): 100%|██████████| 63/63 [00:04<00:00, 12.93it/s]\n"
     ]
    },
    {
     "name": "stdout",
     "output_type": "stream",
     "text": [
      "Hex cache size: 3504771 / 3504771 / 34\n",
      "Hex cache size: 3504771 / 3504771 / 34\n"
     ]
    },
    {
     "name": "stderr",
     "output_type": "stream",
     "text": [
      "Generating predictions [Zaragoza] (area_id: 19): 100%|██████████| 20/20 [00:03<00:00,  5.36it/s]\n",
      "Saving results to DB [Zaragoza] (area_id: 19): 100%|██████████| 379/379 [01:00<00:00,  6.22it/s]\n"
     ]
    },
    {
     "name": "stdout",
     "output_type": "stream",
     "text": [
      "Hex cache size: 3504771 / 3504771 / 34\n",
      "Hex cache size: 3504771 / 3504771 / 34\n"
     ]
    },
    {
     "name": "stderr",
     "output_type": "stream",
     "text": [
      "Generating predictions [Zaragoza] (area_id: 20): 100%|██████████| 20/20 [00:03<00:00,  6.50it/s]\n",
      "Saving results to DB [Zaragoza] (area_id: 20): 100%|██████████| 295/295 [00:35<00:00,  8.42it/s]\n"
     ]
    },
    {
     "name": "stdout",
     "output_type": "stream",
     "text": [
      "Hex cache size: 3504771 / 3504771 / 34\n",
      "Hex cache size: 3504771 / 3504771 / 34\n"
     ]
    },
    {
     "name": "stderr",
     "output_type": "stream",
     "text": [
      "Generating predictions [Zaragoza] (area_id: 21): 100%|██████████| 20/20 [00:00<00:00, 29.68it/s]\n",
      "Saving results to DB [Zaragoza] (area_id: 21): 100%|██████████| 37/37 [00:02<00:00, 14.81it/s]\n"
     ]
    },
    {
     "name": "stdout",
     "output_type": "stream",
     "text": [
      "Hex cache size: 3504771 / 3504771 / 34\n",
      "Hex cache size: 3504771 / 3504771 / 34\n"
     ]
    },
    {
     "name": "stderr",
     "output_type": "stream",
     "text": [
      "Generating predictions [Zaragoza] (area_id: 22): 100%|██████████| 20/20 [00:00<00:00, 24.36it/s]\n",
      "Saving results to DB [Zaragoza] (area_id: 22): 100%|██████████| 54/54 [00:04<00:00, 13.48it/s]\n"
     ]
    },
    {
     "name": "stdout",
     "output_type": "stream",
     "text": [
      "Hex cache size: 3504771 / 3504771 / 34\n",
      "Hex cache size: 3504771 / 3504771 / 34\n"
     ]
    },
    {
     "name": "stderr",
     "output_type": "stream",
     "text": [
      "Generating predictions [Zaragoza] (area_id: 23): 100%|██████████| 20/20 [00:01<00:00, 14.39it/s]\n",
      "Saving results to DB [Zaragoza] (area_id: 23): 100%|██████████| 136/136 [00:18<00:00,  7.35it/s]\n"
     ]
    },
    {
     "name": "stdout",
     "output_type": "stream",
     "text": [
      "Hex cache size: 3504771 / 3504771 / 34\n",
      "Hex cache size: 3504771 / 3504771 / 34\n"
     ]
    },
    {
     "name": "stderr",
     "output_type": "stream",
     "text": [
      "Generating predictions [Zaragoza] (area_id: 24): 100%|██████████| 20/20 [00:02<00:00,  7.47it/s]\n",
      "Saving results to DB [Zaragoza] (area_id: 24): 100%|██████████| 265/265 [00:29<00:00,  9.12it/s]\n"
     ]
    },
    {
     "name": "stdout",
     "output_type": "stream",
     "text": [
      "Hex cache size: 3504771 / 3504771 / 34\n",
      "Hex cache size: 3504771 / 3504771 / 34\n"
     ]
    },
    {
     "name": "stderr",
     "output_type": "stream",
     "text": [
      "Generating predictions [Zaragoza] (area_id: 25): 100%|██████████| 20/20 [00:01<00:00, 16.30it/s]\n",
      "Saving results to DB [Zaragoza] (area_id: 25): 100%|██████████| 106/106 [00:07<00:00, 13.43it/s]\n"
     ]
    },
    {
     "name": "stdout",
     "output_type": "stream",
     "text": [
      "Hex cache size: 3504771 / 3504771 / 34\n",
      "Hex cache size: 3504771 / 3504771 / 34\n"
     ]
    },
    {
     "name": "stderr",
     "output_type": "stream",
     "text": [
      "Generating predictions [Zaragoza] (area_id: 26): 100%|██████████| 20/20 [00:01<00:00, 10.61it/s]\n",
      "Saving results to DB [Zaragoza] (area_id: 26): 100%|██████████| 152/152 [00:14<00:00, 10.33it/s]\n"
     ]
    },
    {
     "name": "stdout",
     "output_type": "stream",
     "text": [
      "Hex cache size: 3504771 / 3504771 / 34\n",
      "Hex cache size: 3504771 / 3504771 / 34\n"
     ]
    },
    {
     "name": "stderr",
     "output_type": "stream",
     "text": [
      "Generating predictions [Zaragoza] (area_id: 27): 100%|██████████| 20/20 [00:00<00:00, 27.60it/s]\n",
      "Saving results to DB [Zaragoza] (area_id: 27): 100%|██████████| 49/49 [00:03<00:00, 13.05it/s]\n"
     ]
    },
    {
     "name": "stdout",
     "output_type": "stream",
     "text": [
      "Hex cache size: 3504771 / 3504771 / 34\n",
      "Hex cache size: 3504771 / 3504771 / 34\n"
     ]
    },
    {
     "name": "stderr",
     "output_type": "stream",
     "text": [
      "Generating predictions [Zaragoza] (area_id: 28): 100%|██████████| 20/20 [00:00<00:00, 24.70it/s]\n",
      "Saving results to DB [Zaragoza] (area_id: 28): 100%|██████████| 53/53 [00:03<00:00, 14.34it/s]\n"
     ]
    },
    {
     "name": "stdout",
     "output_type": "stream",
     "text": [
      "Hex cache size: 3504771 / 3504771 / 34\n",
      "Hex cache size: 3504771 / 3504771 / 34\n"
     ]
    },
    {
     "name": "stderr",
     "output_type": "stream",
     "text": [
      "Generating predictions [Zaragoza] (area_id: 29): 100%|██████████| 20/20 [00:00<00:00, 32.04it/s]\n",
      "Saving results to DB [Zaragoza] (area_id: 29): 100%|██████████| 34/34 [00:02<00:00, 14.07it/s]\n"
     ]
    },
    {
     "name": "stdout",
     "output_type": "stream",
     "text": [
      "Hex cache size: 3504771 / 3504771 / 34\n",
      "Hex cache size: 3504771 / 3504771 / 34\n"
     ]
    },
    {
     "name": "stderr",
     "output_type": "stream",
     "text": [
      "Generating predictions [Zaragoza] (area_id: 30): 100%|██████████| 20/20 [00:00<00:00, 25.34it/s]\n",
      "Saving results to DB [Zaragoza] (area_id: 30): 100%|██████████| 50/50 [00:03<00:00, 14.01it/s]\n"
     ]
    },
    {
     "name": "stdout",
     "output_type": "stream",
     "text": [
      "Hex cache size: 3504771 / 3504771 / 34\n",
      "Hex cache size: 3504771 / 3504771 / 34\n"
     ]
    },
    {
     "name": "stderr",
     "output_type": "stream",
     "text": [
      "Generating predictions [Zaragoza] (area_id: 31): 100%|██████████| 20/20 [00:01<00:00, 10.34it/s]\n",
      "Saving results to DB [Zaragoza] (area_id: 31): 100%|██████████| 174/174 [00:13<00:00, 12.71it/s]\n"
     ]
    },
    {
     "name": "stdout",
     "output_type": "stream",
     "text": [
      "Hex cache size: 3504771 / 3504771 / 34\n",
      "Hex cache size: 3504771 / 3504771 / 34\n"
     ]
    },
    {
     "name": "stderr",
     "output_type": "stream",
     "text": [
      "Generating predictions [Zaragoza] (area_id: 32): 100%|██████████| 20/20 [00:01<00:00, 14.13it/s]\n",
      "Saving results to DB [Zaragoza] (area_id: 32): 100%|██████████| 127/127 [00:15<00:00,  8.29it/s]\n"
     ]
    },
    {
     "name": "stdout",
     "output_type": "stream",
     "text": [
      "Hex cache size: 3504771 / 3504771 / 34\n",
      "Hex cache size: 3504771 / 3504771 / 34\n"
     ]
    },
    {
     "name": "stderr",
     "output_type": "stream",
     "text": [
      "Generating predictions [Zaragoza] (area_id: 33): 100%|██████████| 20/20 [00:00<00:00, 29.80it/s]\n",
      "Saving results to DB [Zaragoza] (area_id: 33): 100%|██████████| 33/33 [00:02<00:00, 14.37it/s]\n"
     ]
    },
    {
     "name": "stdout",
     "output_type": "stream",
     "text": [
      "Hex cache size: 3504771 / 3504771 / 34\n",
      "Hex cache size: 3504771 / 3504771 / 34\n"
     ]
    },
    {
     "name": "stderr",
     "output_type": "stream",
     "text": [
      "Generating predictions [Zaragoza] (area_id: 34): 100%|██████████| 20/20 [00:01<00:00, 18.79it/s]\n",
      "Saving results to DB [Zaragoza] (area_id: 34): 100%|██████████| 71/71 [00:05<00:00, 14.16it/s]\n"
     ]
    },
    {
     "name": "stdout",
     "output_type": "stream",
     "text": [
      "Hex cache size: 3504771 / 3504771 / 34\n",
      "Hex cache size: 3504771 / 3504771 / 34\n"
     ]
    },
    {
     "name": "stderr",
     "output_type": "stream",
     "text": [
      "Generating predictions [Zurich] (area_id: 1): 100%|██████████| 20/20 [00:25<00:00,  1.27s/it]\n",
      "Saving results to DB [Zurich] (area_id: 1): 100%|██████████| 57/57 [00:04<00:00, 13.68it/s]\n"
     ]
    },
    {
     "name": "stdout",
     "output_type": "stream",
     "text": [
      "Hex cache size: 3504771 / 3504771 / 34\n",
      "Hex cache size: 3504771 / 3504771 / 34\n"
     ]
    },
    {
     "name": "stderr",
     "output_type": "stream",
     "text": [
      "Generating predictions [Zurich] (area_id: 2): 100%|██████████| 20/20 [00:00<00:00, 23.88it/s]\n",
      "Saving results to DB [Zurich] (area_id: 2): 100%|██████████| 43/43 [00:02<00:00, 14.41it/s]\n"
     ]
    },
    {
     "name": "stdout",
     "output_type": "stream",
     "text": [
      "Hex cache size: 3504771 / 3504771 / 34\n",
      "Hex cache size: 3504771 / 3504771 / 34\n"
     ]
    },
    {
     "name": "stderr",
     "output_type": "stream",
     "text": [
      "Generating predictions [Zurich] (area_id: 3): 100%|██████████| 20/20 [00:01<00:00, 11.87it/s]\n",
      "Saving results to DB [Zurich] (area_id: 3): 100%|██████████| 123/123 [00:09<00:00, 12.73it/s]\n"
     ]
    },
    {
     "name": "stdout",
     "output_type": "stream",
     "text": [
      "Hex cache size: 3504771 / 3504771 / 34\n",
      "Hex cache size: 3504771 / 3504771 / 34\n"
     ]
    },
    {
     "name": "stderr",
     "output_type": "stream",
     "text": [
      "Generating predictions [Zurich] (area_id: 4): 100%|██████████| 20/20 [00:00<00:00, 22.67it/s]\n",
      "Saving results to DB [Zurich] (area_id: 4): 100%|██████████| 54/54 [00:11<00:00,  4.52it/s]\n"
     ]
    },
    {
     "name": "stdout",
     "output_type": "stream",
     "text": [
      "Hex cache size: 3504771 / 3504771 / 34\n",
      "Hex cache size: 3504771 / 3504771 / 34\n"
     ]
    },
    {
     "name": "stderr",
     "output_type": "stream",
     "text": [
      "Generating predictions [Zurich] (area_id: 5): 100%|██████████| 20/20 [00:01<00:00, 11.20it/s]\n",
      "Saving results to DB [Zurich] (area_id: 5): 100%|██████████| 144/144 [00:16<00:00,  8.66it/s]\n"
     ]
    },
    {
     "name": "stdout",
     "output_type": "stream",
     "text": [
      "Hex cache size: 3504771 / 3504771 / 34\n",
      "Hex cache size: 3504771 / 3504771 / 34\n"
     ]
    },
    {
     "name": "stderr",
     "output_type": "stream",
     "text": [
      "Generating predictions [Zurich] (area_id: 6): 100%|██████████| 20/20 [00:01<00:00, 17.75it/s]\n",
      "Saving results to DB [Zurich] (area_id: 6): 100%|██████████| 71/71 [00:05<00:00, 13.87it/s]\n"
     ]
    },
    {
     "name": "stdout",
     "output_type": "stream",
     "text": [
      "Hex cache size: 3504771 / 3504771 / 34\n",
      "Hex cache size: 3504771 / 3504771 / 34\n"
     ]
    },
    {
     "name": "stderr",
     "output_type": "stream",
     "text": [
      "Generating predictions [Zurich] (area_id: 7): 100%|██████████| 20/20 [00:01<00:00, 14.99it/s]\n",
      "Saving results to DB [Zurich] (area_id: 7): 100%|██████████| 84/84 [00:08<00:00,  9.96it/s]\n"
     ]
    },
    {
     "name": "stdout",
     "output_type": "stream",
     "text": [
      "Hex cache size: 3504771 / 3504771 / 34\n",
      "Hex cache size: 3504771 / 3504771 / 34\n"
     ]
    },
    {
     "name": "stderr",
     "output_type": "stream",
     "text": [
      "Generating predictions [Zurich] (area_id: 8): 100%|██████████| 20/20 [00:00<00:00, 22.02it/s]\n",
      "Saving results to DB [Zurich] (area_id: 8): 100%|██████████| 50/50 [00:03<00:00, 13.93it/s]\n"
     ]
    },
    {
     "name": "stdout",
     "output_type": "stream",
     "text": [
      "Hex cache size: 3504771 / 3504771 / 34\n",
      "Hex cache size: 3504771 / 3504771 / 34\n"
     ]
    },
    {
     "name": "stderr",
     "output_type": "stream",
     "text": [
      "Generating predictions [Zurich] (area_id: 9): 100%|██████████| 20/20 [00:00<00:00, 21.19it/s]\n",
      "Saving results to DB [Zurich] (area_id: 9): 100%|██████████| 60/60 [00:04<00:00, 14.30it/s]\n"
     ]
    },
    {
     "name": "stdout",
     "output_type": "stream",
     "text": [
      "Hex cache size: 3504771 / 3504771 / 34\n",
      "Hex cache size: 3504771 / 3504771 / 34\n"
     ]
    },
    {
     "name": "stderr",
     "output_type": "stream",
     "text": [
      "Generating predictions [Zurich] (area_id: 10): 100%|██████████| 20/20 [00:01<00:00, 18.78it/s]\n",
      "Saving results to DB [Zurich] (area_id: 10): 100%|██████████| 65/65 [00:04<00:00, 14.17it/s]\n"
     ]
    },
    {
     "name": "stdout",
     "output_type": "stream",
     "text": [
      "Hex cache size: 3504771 / 3504771 / 34\n",
      "Hex cache size: 3504771 / 3504771 / 34\n"
     ]
    },
    {
     "name": "stderr",
     "output_type": "stream",
     "text": [
      "Generating predictions [Zurich] (area_id: 11): 100%|██████████| 20/20 [00:00<00:00, 20.57it/s]\n",
      "Saving results to DB [Zurich] (area_id: 11): 100%|██████████| 60/60 [00:04<00:00, 14.28it/s]\n"
     ]
    },
    {
     "name": "stdout",
     "output_type": "stream",
     "text": [
      "Hex cache size: 3504771 / 3504771 / 34\n",
      "Hex cache size: 3504771 / 3504771 / 34\n"
     ]
    },
    {
     "name": "stderr",
     "output_type": "stream",
     "text": [
      "Generating predictions [Zurich] (area_id: 12): 100%|██████████| 20/20 [00:01<00:00, 10.69it/s]\n",
      "Saving results to DB [Zurich] (area_id: 12): 100%|██████████| 153/153 [00:18<00:00,  8.16it/s]\n"
     ]
    },
    {
     "name": "stdout",
     "output_type": "stream",
     "text": [
      "Hex cache size: 3504771 / 3504771 / 34\n",
      "Hex cache size: 3504771 / 3504771 / 34\n"
     ]
    },
    {
     "name": "stderr",
     "output_type": "stream",
     "text": [
      "Generating predictions [Zurich] (area_id: 13): 100%|██████████| 20/20 [00:02<00:00,  9.63it/s]\n",
      "Saving results to DB [Zurich] (area_id: 13): 100%|██████████| 159/159 [00:17<00:00,  9.04it/s]\n"
     ]
    },
    {
     "name": "stdout",
     "output_type": "stream",
     "text": [
      "Hex cache size: 3504771 / 3504771 / 34\n",
      "Hex cache size: 3504771 / 3504771 / 34\n"
     ]
    },
    {
     "name": "stderr",
     "output_type": "stream",
     "text": [
      "Generating predictions [Zurich] (area_id: 14): 100%|██████████| 20/20 [00:01<00:00, 13.07it/s]\n",
      "Saving results to DB [Zurich] (area_id: 14): 100%|██████████| 111/111 [00:07<00:00, 14.02it/s]\n"
     ]
    },
    {
     "name": "stdout",
     "output_type": "stream",
     "text": [
      "Hex cache size: 3504771 / 3504771 / 34\n",
      "Hex cache size: 3504771 / 3504771 / 34\n"
     ]
    },
    {
     "name": "stderr",
     "output_type": "stream",
     "text": [
      "Generating predictions [Zurich] (area_id: 15): 100%|██████████| 20/20 [00:01<00:00, 12.46it/s]\n",
      "Saving results to DB [Zurich] (area_id: 15): 100%|██████████| 122/122 [00:09<00:00, 12.25it/s]\n"
     ]
    },
    {
     "name": "stdout",
     "output_type": "stream",
     "text": [
      "Hex cache size: 3504771 / 3504771 / 34\n",
      "Hex cache size: 3504771 / 3504771 / 34\n"
     ]
    },
    {
     "name": "stderr",
     "output_type": "stream",
     "text": [
      "Generating predictions [Zurich] (area_id: 16): 100%|██████████| 20/20 [00:00<00:00, 20.25it/s]\n",
      "Saving results to DB [Zurich] (area_id: 16): 100%|██████████| 59/59 [00:04<00:00, 13.50it/s]\n"
     ]
    },
    {
     "name": "stdout",
     "output_type": "stream",
     "text": [
      "Hex cache size: 3504771 / 3504771 / 34\n",
      "Hex cache size: 3504771 / 3504771 / 34\n"
     ]
    },
    {
     "name": "stderr",
     "output_type": "stream",
     "text": [
      "Generating predictions [Zurich] (area_id: 17): 100%|██████████| 20/20 [00:00<00:00, 30.06it/s]\n",
      "Saving results to DB [Zurich] (area_id: 17): 100%|██████████| 30/30 [00:02<00:00, 13.72it/s]\n"
     ]
    },
    {
     "name": "stdout",
     "output_type": "stream",
     "text": [
      "Hex cache size: 3504771 / 3504771 / 34\n",
      "Hex cache size: 3504771 / 3504771 / 34\n"
     ]
    },
    {
     "name": "stderr",
     "output_type": "stream",
     "text": [
      "Generating predictions [Zurich] (area_id: 18): 100%|██████████| 20/20 [00:00<00:00, 20.45it/s]\n",
      "Saving results to DB [Zurich] (area_id: 18): 100%|██████████| 63/63 [00:06<00:00,  9.15it/s]\n"
     ]
    },
    {
     "name": "stdout",
     "output_type": "stream",
     "text": [
      "Hex cache size: 3504771 / 3504771 / 34\n",
      "Hex cache size: 3504771 / 3504771 / 34\n"
     ]
    },
    {
     "name": "stderr",
     "output_type": "stream",
     "text": [
      "Generating predictions [Zurich] (area_id: 19): 100%|██████████| 20/20 [00:04<00:00,  4.63it/s]\n",
      "Saving results to DB [Zurich] (area_id: 19): 100%|██████████| 379/379 [00:53<00:00,  7.02it/s]\n"
     ]
    },
    {
     "name": "stdout",
     "output_type": "stream",
     "text": [
      "Hex cache size: 3504771 / 3504771 / 34\n",
      "Hex cache size: 3504771 / 3504771 / 34\n"
     ]
    },
    {
     "name": "stderr",
     "output_type": "stream",
     "text": [
      "Generating predictions [Zurich] (area_id: 20): 100%|██████████| 20/20 [00:03<00:00,  6.21it/s]\n",
      "Saving results to DB [Zurich] (area_id: 20): 100%|██████████| 295/295 [00:33<00:00,  8.82it/s]\n"
     ]
    },
    {
     "name": "stdout",
     "output_type": "stream",
     "text": [
      "Hex cache size: 3504771 / 3504771 / 34\n",
      "Hex cache size: 3504771 / 3504771 / 34\n"
     ]
    },
    {
     "name": "stderr",
     "output_type": "stream",
     "text": [
      "Generating predictions [Zurich] (area_id: 21): 100%|██████████| 20/20 [00:00<00:00, 26.49it/s]\n",
      "Saving results to DB [Zurich] (area_id: 21): 100%|██████████| 37/37 [00:02<00:00, 13.91it/s]\n"
     ]
    },
    {
     "name": "stdout",
     "output_type": "stream",
     "text": [
      "Hex cache size: 3504771 / 3504771 / 34\n",
      "Hex cache size: 3504771 / 3504771 / 34\n"
     ]
    },
    {
     "name": "stderr",
     "output_type": "stream",
     "text": [
      "Generating predictions [Zurich] (area_id: 22): 100%|██████████| 20/20 [00:01<00:00, 19.74it/s]\n",
      "Saving results to DB [Zurich] (area_id: 22): 100%|██████████| 54/54 [00:03<00:00, 14.01it/s]\n"
     ]
    },
    {
     "name": "stdout",
     "output_type": "stream",
     "text": [
      "Hex cache size: 3504771 / 3504771 / 34\n",
      "Hex cache size: 3504771 / 3504771 / 34\n"
     ]
    },
    {
     "name": "stderr",
     "output_type": "stream",
     "text": [
      "Generating predictions [Zurich] (area_id: 23): 100%|██████████| 20/20 [00:01<00:00, 11.88it/s]\n",
      "Saving results to DB [Zurich] (area_id: 23): 100%|██████████| 136/136 [00:15<00:00,  8.56it/s]\n"
     ]
    },
    {
     "name": "stdout",
     "output_type": "stream",
     "text": [
      "Hex cache size: 3504771 / 3504771 / 34\n",
      "Hex cache size: 3504771 / 3504771 / 34\n"
     ]
    },
    {
     "name": "stderr",
     "output_type": "stream",
     "text": [
      "Generating predictions [Zurich] (area_id: 24): 100%|██████████| 20/20 [00:03<00:00,  6.24it/s]\n",
      "Saving results to DB [Zurich] (area_id: 24): 100%|██████████| 265/265 [00:28<00:00,  9.41it/s]\n"
     ]
    },
    {
     "name": "stdout",
     "output_type": "stream",
     "text": [
      "Hex cache size: 3504771 / 3504771 / 34\n",
      "Hex cache size: 3504771 / 3504771 / 34\n"
     ]
    },
    {
     "name": "stderr",
     "output_type": "stream",
     "text": [
      "Generating predictions [Zurich] (area_id: 25): 100%|██████████| 20/20 [00:01<00:00, 14.19it/s]\n",
      "Saving results to DB [Zurich] (area_id: 25): 100%|██████████| 106/106 [00:15<00:00,  6.70it/s]\n"
     ]
    },
    {
     "name": "stdout",
     "output_type": "stream",
     "text": [
      "Hex cache size: 3504771 / 3504771 / 34\n",
      "Hex cache size: 3504771 / 3504771 / 34\n"
     ]
    },
    {
     "name": "stderr",
     "output_type": "stream",
     "text": [
      "Generating predictions [Zurich] (area_id: 26): 100%|██████████| 20/20 [00:01<00:00, 10.01it/s]\n",
      "Saving results to DB [Zurich] (area_id: 26): 100%|██████████| 152/152 [00:23<00:00,  6.39it/s]\n"
     ]
    },
    {
     "name": "stdout",
     "output_type": "stream",
     "text": [
      "Hex cache size: 3504771 / 3504771 / 34\n",
      "Hex cache size: 3504771 / 3504771 / 34\n"
     ]
    },
    {
     "name": "stderr",
     "output_type": "stream",
     "text": [
      "Generating predictions [Zurich] (area_id: 27): 100%|██████████| 20/20 [00:00<00:00, 23.46it/s]\n",
      "Saving results to DB [Zurich] (area_id: 27): 100%|██████████| 49/49 [00:12<00:00,  3.88it/s]\n"
     ]
    },
    {
     "name": "stdout",
     "output_type": "stream",
     "text": [
      "Hex cache size: 3504771 / 3504771 / 34\n",
      "Hex cache size: 3504771 / 3504771 / 34\n"
     ]
    },
    {
     "name": "stderr",
     "output_type": "stream",
     "text": [
      "Generating predictions [Zurich] (area_id: 28): 100%|██████████| 20/20 [00:00<00:00, 22.04it/s]\n",
      "Saving results to DB [Zurich] (area_id: 28): 100%|██████████| 53/53 [00:03<00:00, 14.02it/s]\n"
     ]
    },
    {
     "name": "stdout",
     "output_type": "stream",
     "text": [
      "Hex cache size: 3504771 / 3504771 / 34\n",
      "Hex cache size: 3504771 / 3504771 / 34\n"
     ]
    },
    {
     "name": "stderr",
     "output_type": "stream",
     "text": [
      "Generating predictions [Zurich] (area_id: 29): 100%|██████████| 20/20 [00:00<00:00, 28.64it/s]\n",
      "Saving results to DB [Zurich] (area_id: 29): 100%|██████████| 34/34 [00:02<00:00, 14.58it/s]\n"
     ]
    },
    {
     "name": "stdout",
     "output_type": "stream",
     "text": [
      "Hex cache size: 3504771 / 3504771 / 34\n",
      "Hex cache size: 3504771 / 3504771 / 34\n"
     ]
    },
    {
     "name": "stderr",
     "output_type": "stream",
     "text": [
      "Generating predictions [Zurich] (area_id: 30): 100%|██████████| 20/20 [00:00<00:00, 22.34it/s]\n",
      "Saving results to DB [Zurich] (area_id: 30): 100%|██████████| 50/50 [00:03<00:00, 13.80it/s]\n"
     ]
    },
    {
     "name": "stdout",
     "output_type": "stream",
     "text": [
      "Hex cache size: 3504771 / 3504771 / 34\n",
      "Hex cache size: 3504771 / 3504771 / 34\n"
     ]
    },
    {
     "name": "stderr",
     "output_type": "stream",
     "text": [
      "Generating predictions [Zurich] (area_id: 31): 100%|██████████| 20/20 [00:02<00:00,  9.35it/s]\n",
      "Saving results to DB [Zurich] (area_id: 31): 100%|██████████| 174/174 [00:19<00:00,  8.79it/s]\n"
     ]
    },
    {
     "name": "stdout",
     "output_type": "stream",
     "text": [
      "Hex cache size: 3504771 / 3504771 / 34\n",
      "Hex cache size: 3504771 / 3504771 / 34\n"
     ]
    },
    {
     "name": "stderr",
     "output_type": "stream",
     "text": [
      "Generating predictions [Zurich] (area_id: 32): 100%|██████████| 20/20 [00:01<00:00, 12.20it/s]\n",
      "Saving results to DB [Zurich] (area_id: 32): 100%|██████████| 127/127 [00:14<00:00,  8.52it/s]\n"
     ]
    },
    {
     "name": "stdout",
     "output_type": "stream",
     "text": [
      "Hex cache size: 3504771 / 3504771 / 34\n",
      "Hex cache size: 3504771 / 3504771 / 34\n"
     ]
    },
    {
     "name": "stderr",
     "output_type": "stream",
     "text": [
      "Generating predictions [Zurich] (area_id: 33): 100%|██████████| 20/20 [00:00<00:00, 27.21it/s]\n",
      "Saving results to DB [Zurich] (area_id: 33): 100%|██████████| 33/33 [00:02<00:00, 14.76it/s]\n"
     ]
    },
    {
     "name": "stdout",
     "output_type": "stream",
     "text": [
      "Hex cache size: 3504771 / 3504771 / 34\n",
      "Hex cache size: 3504771 / 3504771 / 34\n"
     ]
    },
    {
     "name": "stderr",
     "output_type": "stream",
     "text": [
      "Generating predictions [Zurich] (area_id: 34): 100%|██████████| 20/20 [00:01<00:00, 18.16it/s]\n",
      "Saving results to DB [Zurich] (area_id: 34): 100%|██████████| 71/71 [00:05<00:00, 12.47it/s]\n"
     ]
    }
   ],
   "source": [
    "for i in range(1, 35):\n",
    "    for j in range(1, 35):\n",
    "        if PredictionResult.get_or_none(PredictionResult.classifier == i, PredictionResult.area == j) is not None:\n",
    "            print(f'Skipping pair {i} - {j}')\n",
    "            continue\n",
    "        clf = OneCityClassifier(i)\n",
    "        clf.predict_and_save_data(j, 20)"
   ]
  }
 ],
 "metadata": {
  "interpreter": {
   "hash": "e7b1d31e8087159dc95e4731063f606a4fbc39496a357249ffe609fb59e0896a"
  },
  "kernelspec": {
   "display_name": "Python 3.8.5 64-bit ('base': conda)",
   "name": "python3"
  },
  "language_info": {
   "codemirror_mode": {
    "name": "ipython",
    "version": 3
   },
   "file_extension": ".py",
   "mimetype": "text/x-python",
   "name": "python",
   "nbconvert_exporter": "python",
   "pygments_lexer": "ipython3",
   "version": "3.8.5"
  },
  "orig_nbformat": 4
 },
 "nbformat": 4,
 "nbformat_minor": 2
}
