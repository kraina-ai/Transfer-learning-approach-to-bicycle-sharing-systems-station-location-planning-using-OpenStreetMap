{
 "cells": [
  {
   "cell_type": "code",
   "execution_count": 1,
   "metadata": {},
   "outputs": [],
   "source": [
    "%load_ext autoreload\n",
    "%autoreload 2"
   ]
  },
  {
   "cell_type": "code",
   "execution_count": 2,
   "metadata": {},
   "outputs": [],
   "source": [
    "import logging\n",
    "logging.basicConfig(level=logging.INFO)"
   ]
  },
  {
   "cell_type": "markdown",
   "metadata": {},
   "source": [
    "## Initialize DB"
   ]
  },
  {
   "cell_type": "code",
   "execution_count": 1,
   "metadata": {},
   "outputs": [],
   "source": [
    "from db_connector.db_seeder import init_db"
   ]
  },
  {
   "cell_type": "code",
   "execution_count": 3,
   "metadata": {},
   "outputs": [],
   "source": [
    "init_db()"
   ]
  },
  {
   "cell_type": "markdown",
   "metadata": {},
   "source": [
    "## Run single city model"
   ]
  },
  {
   "cell_type": "code",
   "execution_count": 1,
   "metadata": {},
   "outputs": [],
   "source": [
    "from prediction_model.classifiers import OneCityClassifier"
   ]
  },
  {
   "cell_type": "code",
   "execution_count": 2,
   "metadata": {},
   "outputs": [
    {
     "name": "stdout",
     "output_type": "stream",
     "text": [
      "Hex cache size: 56967\n"
     ]
    }
   ],
   "source": [
    "clf = OneCityClassifier(1)"
   ]
  },
  {
   "cell_type": "code",
   "execution_count": 3,
   "metadata": {},
   "outputs": [
    {
     "name": "stdout",
     "output_type": "stream",
     "text": [
      "predict_and_save_data 1\n",
      "Hex cache size: 56967\n"
     ]
    },
    {
     "name": "stderr",
     "output_type": "stream",
     "text": [
      "Loading prediction hexes: 100%|██████████| 56967/56967 [00:00<00:00, 1456443.97it/s]\n",
      "Embedding neighbours hexes [Prediction data]: 100%|██████████| 56967/56967 [00:11<00:00, 4937.92it/s]\n",
      "56967it [00:00, 903028.84it/s]\n",
      "Loading station hexes: 100%|██████████| 292/292 [00:00<00:00, 1021465.19it/s]\n",
      "Loading non-station hexes: 100%|██████████| 730/730 [00:00<00:00, 1167750.54it/s]"
     ]
    },
    {
     "name": "stdout",
     "output_type": "stream",
     "text": [
      "Iteration - 0\n"
     ]
    },
    {
     "name": "stderr",
     "output_type": "stream",
     "text": [
      "\n",
      "Embedding neighbours hexes [Training data]: 100%|██████████| 1022/1022 [00:00<00:00, 4807.04it/s]\n",
      "1022it [00:00, 936138.61it/s]\n",
      "Loading station hexes: 100%|██████████| 292/292 [00:00<00:00, 1147832.02it/s]\n",
      "Loading non-station hexes: 100%|██████████| 730/730 [00:00<00:00, 947645.29it/s]"
     ]
    },
    {
     "name": "stdout",
     "output_type": "stream",
     "text": [
      "[00:28:05] WARNING: ../src/learner.cc:1095: Starting in XGBoost 1.3.0, the default evaluation metric used with the objective 'binary:logistic' was changed from 'error' to 'logloss'. Explicitly set eval_metric if you'd like to restore the old behavior.\n",
      "Iteration - 1\n"
     ]
    },
    {
     "name": "stderr",
     "output_type": "stream",
     "text": [
      "\n",
      "Embedding neighbours hexes [Training data]: 100%|██████████| 1022/1022 [00:00<00:00, 4324.89it/s]\n",
      "1022it [00:00, 830893.33it/s]\n",
      "Loading station hexes: 100%|██████████| 292/292 [00:00<00:00, 1468509.31it/s]\n",
      "Loading non-station hexes: 100%|██████████| 730/730 [00:00<00:00, 1359006.62it/s]"
     ]
    },
    {
     "name": "stdout",
     "output_type": "stream",
     "text": [
      "[00:28:06] WARNING: ../src/learner.cc:1095: Starting in XGBoost 1.3.0, the default evaluation metric used with the objective 'binary:logistic' was changed from 'error' to 'logloss'. Explicitly set eval_metric if you'd like to restore the old behavior.\n",
      "Iteration - 2\n"
     ]
    },
    {
     "name": "stderr",
     "output_type": "stream",
     "text": [
      "\n",
      "Embedding neighbours hexes [Training data]: 100%|██████████| 1022/1022 [00:00<00:00, 4243.90it/s]\n",
      "1022it [00:00, 947519.60it/s]\n",
      "Loading station hexes: 100%|██████████| 292/292 [00:00<00:00, 1458019.96it/s]\n",
      "Loading non-station hexes: 100%|██████████| 730/730 [00:00<00:00, 912076.83it/s]"
     ]
    },
    {
     "name": "stdout",
     "output_type": "stream",
     "text": [
      "[00:28:08] WARNING: ../src/learner.cc:1095: Starting in XGBoost 1.3.0, the default evaluation metric used with the objective 'binary:logistic' was changed from 'error' to 'logloss'. Explicitly set eval_metric if you'd like to restore the old behavior.\n",
      "Iteration - 3\n"
     ]
    },
    {
     "name": "stderr",
     "output_type": "stream",
     "text": [
      "\n",
      "Embedding neighbours hexes [Training data]: 100%|██████████| 1022/1022 [00:00<00:00, 4199.09it/s]\n",
      "1022it [00:00, 761516.91it/s]\n",
      "Loading station hexes: 100%|██████████| 292/292 [00:00<00:00, 1244651.19it/s]\n",
      "Loading non-station hexes: 100%|██████████| 730/730 [00:00<00:00, 971396.55it/s]"
     ]
    },
    {
     "name": "stdout",
     "output_type": "stream",
     "text": [
      "[00:28:09] WARNING: ../src/learner.cc:1095: Starting in XGBoost 1.3.0, the default evaluation metric used with the objective 'binary:logistic' was changed from 'error' to 'logloss'. Explicitly set eval_metric if you'd like to restore the old behavior.\n",
      "Iteration - 4\n"
     ]
    },
    {
     "name": "stderr",
     "output_type": "stream",
     "text": [
      "\n",
      "Embedding neighbours hexes [Training data]: 100%|██████████| 1022/1022 [00:00<00:00, 4622.07it/s]\n",
      "1022it [00:00, 892479.43it/s]\n",
      "Loading station hexes: 100%|██████████| 292/292 [00:00<00:00, 1036156.32it/s]\n",
      "Loading non-station hexes: 100%|██████████| 730/730 [00:00<00:00, 1508296.51it/s]"
     ]
    },
    {
     "name": "stdout",
     "output_type": "stream",
     "text": [
      "[00:28:10] WARNING: ../src/learner.cc:1095: Starting in XGBoost 1.3.0, the default evaluation metric used with the objective 'binary:logistic' was changed from 'error' to 'logloss'. Explicitly set eval_metric if you'd like to restore the old behavior.\n",
      "Iteration - 5\n"
     ]
    },
    {
     "name": "stderr",
     "output_type": "stream",
     "text": [
      "\n",
      "Embedding neighbours hexes [Training data]: 100%|██████████| 1022/1022 [00:00<00:00, 4349.15it/s]\n",
      "1022it [00:00, 864578.19it/s]\n",
      "Loading station hexes: 100%|██████████| 292/292 [00:00<00:00, 1249731.40it/s]\n",
      "Loading non-station hexes: 100%|██████████| 730/730 [00:00<00:00, 1083454.32it/s]"
     ]
    },
    {
     "name": "stdout",
     "output_type": "stream",
     "text": [
      "[00:28:12] WARNING: ../src/learner.cc:1095: Starting in XGBoost 1.3.0, the default evaluation metric used with the objective 'binary:logistic' was changed from 'error' to 'logloss'. Explicitly set eval_metric if you'd like to restore the old behavior.\n",
      "Iteration - 6\n"
     ]
    },
    {
     "name": "stderr",
     "output_type": "stream",
     "text": [
      "\n",
      "Embedding neighbours hexes [Training data]: 100%|██████████| 1022/1022 [00:00<00:00, 3582.80it/s]\n",
      "1022it [00:00, 612368.38it/s]\n",
      "Loading station hexes: 100%|██████████| 292/292 [00:00<00:00, 1029190.56it/s]\n",
      "Loading non-station hexes: 100%|██████████| 730/730 [00:00<00:00, 1522546.95it/s]"
     ]
    },
    {
     "name": "stdout",
     "output_type": "stream",
     "text": [
      "[00:28:13] WARNING: ../src/learner.cc:1095: Starting in XGBoost 1.3.0, the default evaluation metric used with the objective 'binary:logistic' was changed from 'error' to 'logloss'. Explicitly set eval_metric if you'd like to restore the old behavior.\n",
      "Iteration - 7\n"
     ]
    },
    {
     "name": "stderr",
     "output_type": "stream",
     "text": [
      "\n",
      "Embedding neighbours hexes [Training data]: 100%|██████████| 1022/1022 [00:00<00:00, 4093.28it/s]\n",
      "1022it [00:00, 471104.37it/s]\n",
      "Loading station hexes: 100%|██████████| 292/292 [00:00<00:00, 469968.06it/s]\n",
      "Loading non-station hexes: 100%|██████████| 730/730 [00:00<00:00, 1115425.11it/s]"
     ]
    },
    {
     "name": "stdout",
     "output_type": "stream",
     "text": [
      "[00:28:14] WARNING: ../src/learner.cc:1095: Starting in XGBoost 1.3.0, the default evaluation metric used with the objective 'binary:logistic' was changed from 'error' to 'logloss'. Explicitly set eval_metric if you'd like to restore the old behavior.\n",
      "Iteration - 8\n"
     ]
    },
    {
     "name": "stderr",
     "output_type": "stream",
     "text": [
      "\n",
      "Embedding neighbours hexes [Training data]: 100%|██████████| 1022/1022 [00:00<00:00, 4232.53it/s]\n",
      "1022it [00:00, 924429.31it/s]\n",
      "Loading station hexes: 100%|██████████| 292/292 [00:00<00:00, 1332684.19it/s]\n",
      "Loading non-station hexes: 100%|██████████| 730/730 [00:00<00:00, 682684.93it/s]"
     ]
    },
    {
     "name": "stdout",
     "output_type": "stream",
     "text": [
      "[00:28:15] WARNING: ../src/learner.cc:1095: Starting in XGBoost 1.3.0, the default evaluation metric used with the objective 'binary:logistic' was changed from 'error' to 'logloss'. Explicitly set eval_metric if you'd like to restore the old behavior.\n",
      "Iteration - 9\n"
     ]
    },
    {
     "name": "stderr",
     "output_type": "stream",
     "text": [
      "\n",
      "Embedding neighbours hexes [Training data]: 100%|██████████| 1022/1022 [00:00<00:00, 4272.68it/s]\n",
      "1022it [00:00, 923035.89it/s]\n",
      "Loading station hexes: 100%|██████████| 292/292 [00:00<00:00, 1273115.14it/s]\n",
      "Loading non-station hexes: 100%|██████████| 730/730 [00:00<00:00, 1261055.16it/s]"
     ]
    },
    {
     "name": "stdout",
     "output_type": "stream",
     "text": [
      "[00:28:16] WARNING: ../src/learner.cc:1095: Starting in XGBoost 1.3.0, the default evaluation metric used with the objective 'binary:logistic' was changed from 'error' to 'logloss'. Explicitly set eval_metric if you'd like to restore the old behavior.\n",
      "Iteration - 10\n"
     ]
    },
    {
     "name": "stderr",
     "output_type": "stream",
     "text": [
      "\n",
      "Embedding neighbours hexes [Training data]: 100%|██████████| 1022/1022 [00:00<00:00, 4408.10it/s]\n",
      "1022it [00:00, 823233.86it/s]\n",
      "Loading station hexes: 100%|██████████| 292/292 [00:00<00:00, 1023171.90it/s]\n",
      "Loading non-station hexes: 100%|██████████| 730/730 [00:00<00:00, 1352403.67it/s]"
     ]
    },
    {
     "name": "stdout",
     "output_type": "stream",
     "text": [
      "[00:28:17] WARNING: ../src/learner.cc:1095: Starting in XGBoost 1.3.0, the default evaluation metric used with the objective 'binary:logistic' was changed from 'error' to 'logloss'. Explicitly set eval_metric if you'd like to restore the old behavior.\n",
      "Iteration - 11\n"
     ]
    },
    {
     "name": "stderr",
     "output_type": "stream",
     "text": [
      "\n",
      "Embedding neighbours hexes [Training data]: 100%|██████████| 1022/1022 [00:00<00:00, 4186.34it/s]\n",
      "1022it [00:00, 939421.15it/s]\n",
      "Loading station hexes: 100%|██████████| 292/292 [00:00<00:00, 1396507.15it/s]\n",
      "Loading non-station hexes: 100%|██████████| 730/730 [00:00<00:00, 1451797.97it/s]"
     ]
    },
    {
     "name": "stdout",
     "output_type": "stream",
     "text": [
      "[00:28:19] WARNING: ../src/learner.cc:1095: Starting in XGBoost 1.3.0, the default evaluation metric used with the objective 'binary:logistic' was changed from 'error' to 'logloss'. Explicitly set eval_metric if you'd like to restore the old behavior.\n",
      "Iteration - 12\n"
     ]
    },
    {
     "name": "stderr",
     "output_type": "stream",
     "text": [
      "\n",
      "Embedding neighbours hexes [Training data]: 100%|██████████| 1022/1022 [00:00<00:00, 4335.26it/s]\n",
      "1022it [00:00, 577783.89it/s]\n",
      "Loading station hexes: 100%|██████████| 292/292 [00:00<00:00, 1205449.57it/s]\n",
      "Loading non-station hexes: 100%|██████████| 730/730 [00:00<00:00, 628585.90it/s]"
     ]
    },
    {
     "name": "stdout",
     "output_type": "stream",
     "text": [
      "[00:28:20] WARNING: ../src/learner.cc:1095: Starting in XGBoost 1.3.0, the default evaluation metric used with the objective 'binary:logistic' was changed from 'error' to 'logloss'. Explicitly set eval_metric if you'd like to restore the old behavior.\n",
      "Iteration - 13\n"
     ]
    },
    {
     "name": "stderr",
     "output_type": "stream",
     "text": [
      "\n",
      "Embedding neighbours hexes [Training data]: 100%|██████████| 1022/1022 [00:00<00:00, 4808.76it/s]\n",
      "1022it [00:00, 535554.56it/s]\n",
      "Loading station hexes: 100%|██████████| 292/292 [00:00<00:00, 1407743.41it/s]\n",
      "Loading non-station hexes: 100%|██████████| 730/730 [00:00<00:00, 1086915.84it/s]"
     ]
    },
    {
     "name": "stdout",
     "output_type": "stream",
     "text": [
      "[00:28:21] WARNING: ../src/learner.cc:1095: Starting in XGBoost 1.3.0, the default evaluation metric used with the objective 'binary:logistic' was changed from 'error' to 'logloss'. Explicitly set eval_metric if you'd like to restore the old behavior.\n",
      "Iteration - 14\n"
     ]
    },
    {
     "name": "stderr",
     "output_type": "stream",
     "text": [
      "\n",
      "Embedding neighbours hexes [Training data]: 100%|██████████| 1022/1022 [00:00<00:00, 4060.32it/s]\n",
      "1022it [00:00, 1047807.06it/s]\n",
      "Loading station hexes: 100%|██████████| 292/292 [00:00<00:00, 983724.31it/s]\n",
      "Loading non-station hexes: 100%|██████████| 730/730 [00:00<00:00, 731972.73it/s]"
     ]
    },
    {
     "name": "stdout",
     "output_type": "stream",
     "text": [
      "[00:28:22] WARNING: ../src/learner.cc:1095: Starting in XGBoost 1.3.0, the default evaluation metric used with the objective 'binary:logistic' was changed from 'error' to 'logloss'. Explicitly set eval_metric if you'd like to restore the old behavior.\n",
      "Iteration - 15\n"
     ]
    },
    {
     "name": "stderr",
     "output_type": "stream",
     "text": [
      "\n",
      "Embedding neighbours hexes [Training data]: 100%|██████████| 1022/1022 [00:00<00:00, 4079.93it/s]\n",
      "1022it [00:00, 402798.22it/s]\n",
      "Loading station hexes: 100%|██████████| 292/292 [00:00<00:00, 1232129.55it/s]\n",
      "Loading non-station hexes: 100%|██████████| 730/730 [00:00<00:00, 1478436.47it/s]"
     ]
    },
    {
     "name": "stdout",
     "output_type": "stream",
     "text": [
      "[00:28:23] WARNING: ../src/learner.cc:1095: Starting in XGBoost 1.3.0, the default evaluation metric used with the objective 'binary:logistic' was changed from 'error' to 'logloss'. Explicitly set eval_metric if you'd like to restore the old behavior.\n",
      "Iteration - 16\n"
     ]
    },
    {
     "name": "stderr",
     "output_type": "stream",
     "text": [
      "\n",
      "Embedding neighbours hexes [Training data]: 100%|██████████| 1022/1022 [00:00<00:00, 4235.16it/s]\n",
      "1022it [00:00, 756677.61it/s]\n",
      "Loading station hexes: 100%|██████████| 292/292 [00:00<00:00, 1101381.99it/s]\n",
      "Loading non-station hexes: 100%|██████████| 730/730 [00:00<00:00, 795283.62it/s]"
     ]
    },
    {
     "name": "stdout",
     "output_type": "stream",
     "text": [
      "[00:28:24] WARNING: ../src/learner.cc:1095: Starting in XGBoost 1.3.0, the default evaluation metric used with the objective 'binary:logistic' was changed from 'error' to 'logloss'. Explicitly set eval_metric if you'd like to restore the old behavior.\n",
      "Iteration - 17\n"
     ]
    },
    {
     "name": "stderr",
     "output_type": "stream",
     "text": [
      "\n",
      "Embedding neighbours hexes [Training data]: 100%|██████████| 1022/1022 [00:00<00:00, 4481.05it/s]\n",
      "1022it [00:00, 635048.69it/s]\n",
      "Loading station hexes: 100%|██████████| 292/292 [00:00<00:00, 1221073.55it/s]\n",
      "Loading non-station hexes: 100%|██████████| 730/730 [00:00<00:00, 1610648.04it/s]"
     ]
    },
    {
     "name": "stdout",
     "output_type": "stream",
     "text": [
      "[00:28:26] WARNING: ../src/learner.cc:1095: Starting in XGBoost 1.3.0, the default evaluation metric used with the objective 'binary:logistic' was changed from 'error' to 'logloss'. Explicitly set eval_metric if you'd like to restore the old behavior.\n",
      "Iteration - 18\n"
     ]
    },
    {
     "name": "stderr",
     "output_type": "stream",
     "text": [
      "\n",
      "Embedding neighbours hexes [Training data]: 100%|██████████| 1022/1022 [00:00<00:00, 3872.95it/s]\n",
      "1022it [00:00, 948148.35it/s]\n",
      "Loading station hexes: 100%|██████████| 292/292 [00:00<00:00, 1434118.00it/s]\n",
      "Loading non-station hexes: 100%|██████████| 730/730 [00:00<00:00, 1271529.04it/s]"
     ]
    },
    {
     "name": "stdout",
     "output_type": "stream",
     "text": [
      "[00:28:27] WARNING: ../src/learner.cc:1095: Starting in XGBoost 1.3.0, the default evaluation metric used with the objective 'binary:logistic' was changed from 'error' to 'logloss'. Explicitly set eval_metric if you'd like to restore the old behavior.\n",
      "Iteration - 19\n"
     ]
    },
    {
     "name": "stderr",
     "output_type": "stream",
     "text": [
      "\n",
      "Embedding neighbours hexes [Training data]: 100%|██████████| 1022/1022 [00:00<00:00, 4608.63it/s]\n",
      "1022it [00:00, 501823.78it/s]\n",
      "Loading station hexes: 100%|██████████| 292/292 [00:00<00:00, 1289196.60it/s]\n",
      "Loading non-station hexes: 100%|██████████| 730/730 [00:00<00:00, 1310720.00it/s]"
     ]
    },
    {
     "name": "stdout",
     "output_type": "stream",
     "text": [
      "[00:28:28] WARNING: ../src/learner.cc:1095: Starting in XGBoost 1.3.0, the default evaluation metric used with the objective 'binary:logistic' was changed from 'error' to 'logloss'. Explicitly set eval_metric if you'd like to restore the old behavior.\n",
      "Iteration - 20\n"
     ]
    },
    {
     "name": "stderr",
     "output_type": "stream",
     "text": [
      "\n",
      "Embedding neighbours hexes [Training data]: 100%|██████████| 1022/1022 [00:00<00:00, 4753.71it/s]\n",
      "1022it [00:00, 550761.75it/s]\n",
      "Loading station hexes: 100%|██████████| 292/292 [00:00<00:00, 911262.48it/s]\n",
      "Loading non-station hexes: 100%|██████████| 730/730 [00:00<00:00, 750635.43it/s]"
     ]
    },
    {
     "name": "stdout",
     "output_type": "stream",
     "text": [
      "[00:28:30] WARNING: ../src/learner.cc:1095: Starting in XGBoost 1.3.0, the default evaluation metric used with the objective 'binary:logistic' was changed from 'error' to 'logloss'. Explicitly set eval_metric if you'd like to restore the old behavior.\n",
      "Iteration - 21\n"
     ]
    },
    {
     "name": "stderr",
     "output_type": "stream",
     "text": [
      "\n",
      "Embedding neighbours hexes [Training data]: 100%|██████████| 1022/1022 [00:00<00:00, 4936.36it/s]\n",
      "1022it [00:00, 628714.97it/s]\n",
      "Loading station hexes: 100%|██████████| 292/292 [00:00<00:00, 1230891.22it/s]\n",
      "Loading non-station hexes: 100%|██████████| 730/730 [00:00<00:00, 767763.77it/s]"
     ]
    },
    {
     "name": "stdout",
     "output_type": "stream",
     "text": [
      "[00:28:31] WARNING: ../src/learner.cc:1095: Starting in XGBoost 1.3.0, the default evaluation metric used with the objective 'binary:logistic' was changed from 'error' to 'logloss'. Explicitly set eval_metric if you'd like to restore the old behavior.\n",
      "Iteration - 22\n"
     ]
    },
    {
     "name": "stderr",
     "output_type": "stream",
     "text": [
      "\n",
      "Embedding neighbours hexes [Training data]: 100%|██████████| 1022/1022 [00:00<00:00, 4536.62it/s]\n",
      "1022it [00:00, 844979.04it/s]\n",
      "Loading station hexes: 100%|██████████| 292/292 [00:00<00:00, 653192.94it/s]\n",
      "Loading non-station hexes: 100%|██████████| 730/730 [00:00<00:00, 1174019.14it/s]"
     ]
    },
    {
     "name": "stdout",
     "output_type": "stream",
     "text": [
      "[00:28:32] WARNING: ../src/learner.cc:1095: Starting in XGBoost 1.3.0, the default evaluation metric used with the objective 'binary:logistic' was changed from 'error' to 'logloss'. Explicitly set eval_metric if you'd like to restore the old behavior.\n",
      "Iteration - 23\n"
     ]
    },
    {
     "name": "stderr",
     "output_type": "stream",
     "text": [
      "\n",
      "Embedding neighbours hexes [Training data]: 100%|██████████| 1022/1022 [00:00<00:00, 4884.78it/s]\n",
      "1022it [00:00, 795431.19it/s]\n",
      "Loading station hexes: 100%|██████████| 292/292 [00:00<00:00, 1043217.01it/s]\n",
      "Loading non-station hexes: 100%|██████████| 730/730 [00:00<00:00, 1406450.12it/s]"
     ]
    },
    {
     "name": "stdout",
     "output_type": "stream",
     "text": [
      "[00:28:33] WARNING: ../src/learner.cc:1095: Starting in XGBoost 1.3.0, the default evaluation metric used with the objective 'binary:logistic' was changed from 'error' to 'logloss'. Explicitly set eval_metric if you'd like to restore the old behavior.\n",
      "Iteration - 24\n"
     ]
    },
    {
     "name": "stderr",
     "output_type": "stream",
     "text": [
      "\n",
      "Embedding neighbours hexes [Training data]: 100%|██████████| 1022/1022 [00:00<00:00, 4447.38it/s]\n",
      "1022it [00:00, 1226488.89it/s]\n",
      "Loading station hexes: 100%|██████████| 292/292 [00:00<00:00, 938495.61it/s]\n",
      "Loading non-station hexes: 100%|██████████| 730/730 [00:00<00:00, 1153670.66it/s]"
     ]
    },
    {
     "name": "stdout",
     "output_type": "stream",
     "text": [
      "[00:28:35] WARNING: ../src/learner.cc:1095: Starting in XGBoost 1.3.0, the default evaluation metric used with the objective 'binary:logistic' was changed from 'error' to 'logloss'. Explicitly set eval_metric if you'd like to restore the old behavior.\n",
      "Iteration - 25\n"
     ]
    },
    {
     "name": "stderr",
     "output_type": "stream",
     "text": [
      "\n",
      "Embedding neighbours hexes [Training data]: 100%|██████████| 1022/1022 [00:00<00:00, 4703.25it/s]\n",
      "1022it [00:00, 946055.77it/s]\n",
      "Loading station hexes: 100%|██████████| 292/292 [00:00<00:00, 1170876.45it/s]\n",
      "Loading non-station hexes: 100%|██████████| 730/730 [00:00<00:00, 1181722.08it/s]"
     ]
    },
    {
     "name": "stdout",
     "output_type": "stream",
     "text": [
      "[00:28:36] WARNING: ../src/learner.cc:1095: Starting in XGBoost 1.3.0, the default evaluation metric used with the objective 'binary:logistic' was changed from 'error' to 'logloss'. Explicitly set eval_metric if you'd like to restore the old behavior.\n",
      "Iteration - 26\n"
     ]
    },
    {
     "name": "stderr",
     "output_type": "stream",
     "text": [
      "\n",
      "Embedding neighbours hexes [Training data]: 100%|██████████| 1022/1022 [00:00<00:00, 3920.38it/s]\n",
      "1022it [00:00, 650072.59it/s]\n",
      "Loading station hexes: 100%|██████████| 292/292 [00:00<00:00, 1228422.03it/s]\n",
      "Loading non-station hexes: 100%|██████████| 730/730 [00:00<00:00, 1473456.17it/s]"
     ]
    },
    {
     "name": "stdout",
     "output_type": "stream",
     "text": [
      "[00:28:37] WARNING: ../src/learner.cc:1095: Starting in XGBoost 1.3.0, the default evaluation metric used with the objective 'binary:logistic' was changed from 'error' to 'logloss'. Explicitly set eval_metric if you'd like to restore the old behavior.\n",
      "Iteration - 27\n"
     ]
    },
    {
     "name": "stderr",
     "output_type": "stream",
     "text": [
      "\n",
      "Embedding neighbours hexes [Training data]: 100%|██████████| 1022/1022 [00:00<00:00, 4704.04it/s]\n",
      "1022it [00:00, 961763.22it/s]\n",
      "Loading station hexes: 100%|██████████| 292/292 [00:00<00:00, 1148908.79it/s]\n",
      "Loading non-station hexes: 100%|██████████| 730/730 [00:00<00:00, 732673.35it/s]"
     ]
    },
    {
     "name": "stdout",
     "output_type": "stream",
     "text": [
      "[00:28:39] WARNING: ../src/learner.cc:1095: Starting in XGBoost 1.3.0, the default evaluation metric used with the objective 'binary:logistic' was changed from 'error' to 'logloss'. Explicitly set eval_metric if you'd like to restore the old behavior.\n",
      "Iteration - 28\n"
     ]
    },
    {
     "name": "stderr",
     "output_type": "stream",
     "text": [
      "\n",
      "Embedding neighbours hexes [Training data]: 100%|██████████| 1022/1022 [00:00<00:00, 4758.95it/s]\n",
      "1022it [00:00, 887858.05it/s]\n",
      "Loading station hexes: 100%|██████████| 292/292 [00:00<00:00, 1297390.64it/s]\n",
      "Loading non-station hexes: 100%|██████████| 730/730 [00:00<00:00, 1055079.92it/s]"
     ]
    },
    {
     "name": "stdout",
     "output_type": "stream",
     "text": [
      "[00:28:40] WARNING: ../src/learner.cc:1095: Starting in XGBoost 1.3.0, the default evaluation metric used with the objective 'binary:logistic' was changed from 'error' to 'logloss'. Explicitly set eval_metric if you'd like to restore the old behavior.\n",
      "Iteration - 29\n"
     ]
    },
    {
     "name": "stderr",
     "output_type": "stream",
     "text": [
      "\n",
      "Embedding neighbours hexes [Training data]: 100%|██████████| 1022/1022 [00:00<00:00, 4139.49it/s]\n",
      "1022it [00:00, 734254.66it/s]\n",
      "Loading station hexes: 100%|██████████| 292/292 [00:00<00:00, 1164198.45it/s]\n",
      "Loading non-station hexes: 100%|██████████| 730/730 [00:00<00:00, 1363849.41it/s]"
     ]
    },
    {
     "name": "stdout",
     "output_type": "stream",
     "text": [
      "[00:28:41] WARNING: ../src/learner.cc:1095: Starting in XGBoost 1.3.0, the default evaluation metric used with the objective 'binary:logistic' was changed from 'error' to 'logloss'. Explicitly set eval_metric if you'd like to restore the old behavior.\n",
      "Iteration - 30\n"
     ]
    },
    {
     "name": "stderr",
     "output_type": "stream",
     "text": [
      "\n",
      "Embedding neighbours hexes [Training data]: 100%|██████████| 1022/1022 [00:00<00:00, 4360.86it/s]\n",
      "1022it [00:00, 427077.68it/s]\n",
      "Loading station hexes: 100%|██████████| 292/292 [00:00<00:00, 1064063.22it/s]\n",
      "Loading non-station hexes: 100%|██████████| 730/730 [00:00<00:00, 1090399.54it/s]"
     ]
    },
    {
     "name": "stdout",
     "output_type": "stream",
     "text": [
      "[00:28:42] WARNING: ../src/learner.cc:1095: Starting in XGBoost 1.3.0, the default evaluation metric used with the objective 'binary:logistic' was changed from 'error' to 'logloss'. Explicitly set eval_metric if you'd like to restore the old behavior.\n",
      "Iteration - 31\n"
     ]
    },
    {
     "name": "stderr",
     "output_type": "stream",
     "text": [
      "\n",
      "Embedding neighbours hexes [Training data]: 100%|██████████| 1022/1022 [00:00<00:00, 4428.50it/s]\n",
      "1022it [00:00, 838696.67it/s]\n",
      "Loading station hexes: 100%|██████████| 292/292 [00:00<00:00, 821970.99it/s]\n",
      "Loading non-station hexes: 100%|██████████| 730/730 [00:00<00:00, 759385.40it/s]"
     ]
    },
    {
     "name": "stdout",
     "output_type": "stream",
     "text": [
      "[00:28:43] WARNING: ../src/learner.cc:1095: Starting in XGBoost 1.3.0, the default evaluation metric used with the objective 'binary:logistic' was changed from 'error' to 'logloss'. Explicitly set eval_metric if you'd like to restore the old behavior.\n",
      "Iteration - 32\n"
     ]
    },
    {
     "name": "stderr",
     "output_type": "stream",
     "text": [
      "\n",
      "Embedding neighbours hexes [Training data]: 100%|██████████| 1022/1022 [00:00<00:00, 4260.81it/s]\n",
      "1022it [00:00, 749926.29it/s]\n",
      "Loading station hexes: 100%|██████████| 292/292 [00:00<00:00, 961331.84it/s]\n",
      "Loading non-station hexes: 100%|██████████| 730/730 [00:00<00:00, 1400019.17it/s]"
     ]
    },
    {
     "name": "stdout",
     "output_type": "stream",
     "text": [
      "[00:28:44] WARNING: ../src/learner.cc:1095: Starting in XGBoost 1.3.0, the default evaluation metric used with the objective 'binary:logistic' was changed from 'error' to 'logloss'. Explicitly set eval_metric if you'd like to restore the old behavior.\n",
      "Iteration - 33\n"
     ]
    },
    {
     "name": "stderr",
     "output_type": "stream",
     "text": [
      "\n",
      "Embedding neighbours hexes [Training data]: 100%|██████████| 1022/1022 [00:00<00:00, 4229.79it/s]\n",
      "1022it [00:00, 1001771.14it/s]\n",
      "Loading station hexes: 100%|██████████| 292/292 [00:00<00:00, 1359308.29it/s]\n",
      "Loading non-station hexes: 100%|██████████| 730/730 [00:00<00:00, 766035.01it/s]"
     ]
    },
    {
     "name": "stdout",
     "output_type": "stream",
     "text": [
      "[00:28:46] WARNING: ../src/learner.cc:1095: Starting in XGBoost 1.3.0, the default evaluation metric used with the objective 'binary:logistic' was changed from 'error' to 'logloss'. Explicitly set eval_metric if you'd like to restore the old behavior.\n",
      "Iteration - 34\n"
     ]
    },
    {
     "name": "stderr",
     "output_type": "stream",
     "text": [
      "\n",
      "Embedding neighbours hexes [Training data]: 100%|██████████| 1022/1022 [00:00<00:00, 4269.11it/s]\n",
      "1022it [00:00, 866150.47it/s]\n",
      "Loading station hexes: 100%|██████████| 292/292 [00:00<00:00, 1409363.37it/s]\n",
      "Loading non-station hexes: 100%|██████████| 730/730 [00:00<00:00, 1280034.25it/s]"
     ]
    },
    {
     "name": "stdout",
     "output_type": "stream",
     "text": [
      "[00:28:47] WARNING: ../src/learner.cc:1095: Starting in XGBoost 1.3.0, the default evaluation metric used with the objective 'binary:logistic' was changed from 'error' to 'logloss'. Explicitly set eval_metric if you'd like to restore the old behavior.\n",
      "Iteration - 35\n"
     ]
    },
    {
     "name": "stderr",
     "output_type": "stream",
     "text": [
      "\n",
      "Embedding neighbours hexes [Training data]: 100%|██████████| 1022/1022 [00:00<00:00, 4606.26it/s]\n",
      "1022it [00:00, 501412.88it/s]\n",
      "Loading station hexes: 100%|██████████| 292/292 [00:00<00:00, 818674.31it/s]\n",
      "Loading non-station hexes: 100%|██████████| 730/730 [00:00<00:00, 1432775.82it/s]"
     ]
    },
    {
     "name": "stdout",
     "output_type": "stream",
     "text": [
      "[00:28:49] WARNING: ../src/learner.cc:1095: Starting in XGBoost 1.3.0, the default evaluation metric used with the objective 'binary:logistic' was changed from 'error' to 'logloss'. Explicitly set eval_metric if you'd like to restore the old behavior.\n",
      "Iteration - 36\n"
     ]
    },
    {
     "name": "stderr",
     "output_type": "stream",
     "text": [
      "\n",
      "Embedding neighbours hexes [Training data]: 100%|██████████| 1022/1022 [00:00<00:00, 4511.00it/s]\n",
      "1022it [00:00, 899219.36it/s]\n",
      "Loading station hexes: 100%|██████████| 292/292 [00:00<00:00, 1270473.83it/s]\n",
      "Loading non-station hexes: 100%|██████████| 730/730 [00:00<00:00, 1252287.08it/s]"
     ]
    },
    {
     "name": "stdout",
     "output_type": "stream",
     "text": [
      "[00:28:50] WARNING: ../src/learner.cc:1095: Starting in XGBoost 1.3.0, the default evaluation metric used with the objective 'binary:logistic' was changed from 'error' to 'logloss'. Explicitly set eval_metric if you'd like to restore the old behavior.\n",
      "Iteration - 37\n"
     ]
    },
    {
     "name": "stderr",
     "output_type": "stream",
     "text": [
      "\n",
      "Embedding neighbours hexes [Training data]: 100%|██████████| 1022/1022 [00:00<00:00, 3615.42it/s]\n",
      "1022it [00:00, 601963.02it/s]\n",
      "Loading station hexes: 100%|██████████| 292/292 [00:00<00:00, 547490.73it/s]\n",
      "Loading non-station hexes: 100%|██████████| 730/730 [00:00<00:00, 733199.69it/s]"
     ]
    },
    {
     "name": "stdout",
     "output_type": "stream",
     "text": [
      "[00:28:51] WARNING: ../src/learner.cc:1095: Starting in XGBoost 1.3.0, the default evaluation metric used with the objective 'binary:logistic' was changed from 'error' to 'logloss'. Explicitly set eval_metric if you'd like to restore the old behavior.\n",
      "Iteration - 38\n"
     ]
    },
    {
     "name": "stderr",
     "output_type": "stream",
     "text": [
      "\n",
      "Embedding neighbours hexes [Training data]: 100%|██████████| 1022/1022 [00:00<00:00, 4683.54it/s]\n",
      "1022it [00:00, 537839.23it/s]\n",
      "Loading station hexes: 100%|██████████| 292/292 [00:00<00:00, 476922.42it/s]\n",
      "Loading non-station hexes: 100%|██████████| 730/730 [00:00<00:00, 1235610.14it/s]"
     ]
    },
    {
     "name": "stdout",
     "output_type": "stream",
     "text": [
      "[00:28:53] WARNING: ../src/learner.cc:1095: Starting in XGBoost 1.3.0, the default evaluation metric used with the objective 'binary:logistic' was changed from 'error' to 'logloss'. Explicitly set eval_metric if you'd like to restore the old behavior.\n",
      "Iteration - 39\n"
     ]
    },
    {
     "name": "stderr",
     "output_type": "stream",
     "text": [
      "\n",
      "Embedding neighbours hexes [Training data]: 100%|██████████| 1022/1022 [00:00<00:00, 4259.86it/s]\n",
      "1022it [00:00, 767516.33it/s]\n",
      "Loading station hexes: 100%|██████████| 292/292 [00:00<00:00, 1344387.23it/s]\n",
      "Loading non-station hexes: 100%|██████████| 730/730 [00:00<00:00, 1661335.82it/s]"
     ]
    },
    {
     "name": "stdout",
     "output_type": "stream",
     "text": [
      "[00:28:54] WARNING: ../src/learner.cc:1095: Starting in XGBoost 1.3.0, the default evaluation metric used with the objective 'binary:logistic' was changed from 'error' to 'logloss'. Explicitly set eval_metric if you'd like to restore the old behavior.\n",
      "Iteration - 40\n"
     ]
    },
    {
     "name": "stderr",
     "output_type": "stream",
     "text": [
      "\n",
      "Embedding neighbours hexes [Training data]: 100%|██████████| 1022/1022 [00:00<00:00, 3839.89it/s]\n",
      "1022it [00:00, 590112.70it/s]\n",
      "Loading station hexes: 100%|██████████| 292/292 [00:00<00:00, 1168641.95it/s]\n",
      "Loading non-station hexes: 100%|██████████| 730/730 [00:00<00:00, 1413592.76it/s]"
     ]
    },
    {
     "name": "stdout",
     "output_type": "stream",
     "text": [
      "[00:28:56] WARNING: ../src/learner.cc:1095: Starting in XGBoost 1.3.0, the default evaluation metric used with the objective 'binary:logistic' was changed from 'error' to 'logloss'. Explicitly set eval_metric if you'd like to restore the old behavior.\n",
      "Iteration - 41\n"
     ]
    },
    {
     "name": "stderr",
     "output_type": "stream",
     "text": [
      "\n",
      "Embedding neighbours hexes [Training data]: 100%|██████████| 1022/1022 [00:00<00:00, 4722.43it/s]\n",
      "1022it [00:00, 927028.26it/s]\n",
      "Loading station hexes: 100%|██████████| 292/292 [00:00<00:00, 1228422.03it/s]\n",
      "Loading non-station hexes: 100%|██████████| 730/730 [00:00<00:00, 1482732.16it/s]"
     ]
    },
    {
     "name": "stdout",
     "output_type": "stream",
     "text": [
      "[00:28:58] WARNING: ../src/learner.cc:1095: Starting in XGBoost 1.3.0, the default evaluation metric used with the objective 'binary:logistic' was changed from 'error' to 'logloss'. Explicitly set eval_metric if you'd like to restore the old behavior.\n",
      "Iteration - 42\n"
     ]
    },
    {
     "name": "stderr",
     "output_type": "stream",
     "text": [
      "\n",
      "Embedding neighbours hexes [Training data]: 100%|██████████| 1022/1022 [00:00<00:00, 3237.98it/s]\n",
      "1022it [00:00, 450696.95it/s]\n",
      "Loading station hexes: 100%|██████████| 292/292 [00:00<00:00, 1189064.82it/s]\n",
      "Loading non-station hexes: 100%|██████████| 730/730 [00:00<00:00, 1097827.87it/s]"
     ]
    },
    {
     "name": "stdout",
     "output_type": "stream",
     "text": [
      "[00:29:00] WARNING: ../src/learner.cc:1095: Starting in XGBoost 1.3.0, the default evaluation metric used with the objective 'binary:logistic' was changed from 'error' to 'logloss'. Explicitly set eval_metric if you'd like to restore the old behavior.\n",
      "Iteration - 43\n"
     ]
    },
    {
     "name": "stderr",
     "output_type": "stream",
     "text": [
      "\n",
      "Embedding neighbours hexes [Training data]: 100%|██████████| 1022/1022 [00:00<00:00, 4621.23it/s]\n",
      "1022it [00:00, 1070574.10it/s]\n",
      "Loading station hexes: 100%|██████████| 292/292 [00:00<00:00, 887490.41it/s]\n",
      "Loading non-station hexes: 100%|██████████| 730/730 [00:00<00:00, 661162.15it/s]"
     ]
    },
    {
     "name": "stdout",
     "output_type": "stream",
     "text": [
      "[00:29:02] WARNING: ../src/learner.cc:1095: Starting in XGBoost 1.3.0, the default evaluation metric used with the objective 'binary:logistic' was changed from 'error' to 'logloss'. Explicitly set eval_metric if you'd like to restore the old behavior.\n",
      "Iteration - 44\n"
     ]
    },
    {
     "name": "stderr",
     "output_type": "stream",
     "text": [
      "\n",
      "Embedding neighbours hexes [Training data]: 100%|██████████| 1022/1022 [00:00<00:00, 4125.68it/s]\n",
      "1022it [00:00, 532428.11it/s]\n",
      "Loading station hexes: 100%|██████████| 292/292 [00:00<00:00, 1156503.09it/s]\n",
      "Loading non-station hexes: 100%|██████████| 730/730 [00:00<00:00, 737793.23it/s]"
     ]
    },
    {
     "name": "stdout",
     "output_type": "stream",
     "text": [
      "[00:29:04] WARNING: ../src/learner.cc:1095: Starting in XGBoost 1.3.0, the default evaluation metric used with the objective 'binary:logistic' was changed from 'error' to 'logloss'. Explicitly set eval_metric if you'd like to restore the old behavior.\n",
      "Iteration - 45\n"
     ]
    },
    {
     "name": "stderr",
     "output_type": "stream",
     "text": [
      "\n",
      "Embedding neighbours hexes [Training data]: 100%|██████████| 1022/1022 [00:00<00:00, 3906.45it/s]\n",
      "1022it [00:00, 869664.98it/s]\n",
      "Loading station hexes: 100%|██████████| 292/292 [00:00<00:00, 1435799.26it/s]\n",
      "Loading non-station hexes: 100%|██████████| 730/730 [00:00<00:00, 985148.62it/s]"
     ]
    },
    {
     "name": "stdout",
     "output_type": "stream",
     "text": [
      "[00:29:06] WARNING: ../src/learner.cc:1095: Starting in XGBoost 1.3.0, the default evaluation metric used with the objective 'binary:logistic' was changed from 'error' to 'logloss'. Explicitly set eval_metric if you'd like to restore the old behavior.\n",
      "Iteration - 46\n"
     ]
    },
    {
     "name": "stderr",
     "output_type": "stream",
     "text": [
      "\n",
      "Embedding neighbours hexes [Training data]: 100%|██████████| 1022/1022 [00:00<00:00, 4322.85it/s]\n",
      "1022it [00:00, 652944.20it/s]\n",
      "Loading station hexes: 100%|██████████| 292/292 [00:00<00:00, 952361.41it/s]\n",
      "Loading non-station hexes: 100%|██████████| 730/730 [00:00<00:00, 1717241.68it/s]"
     ]
    },
    {
     "name": "stdout",
     "output_type": "stream",
     "text": [
      "[00:29:07] WARNING: ../src/learner.cc:1095: Starting in XGBoost 1.3.0, the default evaluation metric used with the objective 'binary:logistic' was changed from 'error' to 'logloss'. Explicitly set eval_metric if you'd like to restore the old behavior.\n",
      "Iteration - 47\n"
     ]
    },
    {
     "name": "stderr",
     "output_type": "stream",
     "text": [
      "\n",
      "Embedding neighbours hexes [Training data]: 100%|██████████| 1022/1022 [00:00<00:00, 4251.29it/s]\n",
      "1022it [00:00, 943764.57it/s]\n",
      "Loading station hexes: 100%|██████████| 292/292 [00:00<00:00, 1139290.02it/s]\n",
      "Loading non-station hexes: 100%|██████████| 730/730 [00:00<00:00, 550295.10it/s]"
     ]
    },
    {
     "name": "stdout",
     "output_type": "stream",
     "text": [
      "[00:29:08] WARNING: ../src/learner.cc:1095: Starting in XGBoost 1.3.0, the default evaluation metric used with the objective 'binary:logistic' was changed from 'error' to 'logloss'. Explicitly set eval_metric if you'd like to restore the old behavior.\n",
      "Iteration - 48\n"
     ]
    },
    {
     "name": "stderr",
     "output_type": "stream",
     "text": [
      "\n",
      "Embedding neighbours hexes [Training data]: 100%|██████████| 1022/1022 [00:00<00:00, 4065.37it/s]\n",
      "1022it [00:00, 1037159.13it/s]\n",
      "Loading station hexes: 100%|██████████| 292/292 [00:00<00:00, 1297390.64it/s]\n",
      "Loading non-station hexes: 100%|██████████| 730/730 [00:00<00:00, 1358403.69it/s]"
     ]
    },
    {
     "name": "stdout",
     "output_type": "stream",
     "text": [
      "[00:29:10] WARNING: ../src/learner.cc:1095: Starting in XGBoost 1.3.0, the default evaluation metric used with the objective 'binary:logistic' was changed from 'error' to 'logloss'. Explicitly set eval_metric if you'd like to restore the old behavior.\n",
      "Iteration - 49\n"
     ]
    },
    {
     "name": "stderr",
     "output_type": "stream",
     "text": [
      "\n",
      "Embedding neighbours hexes [Training data]: 100%|██████████| 1022/1022 [00:00<00:00, 3771.91it/s]\n",
      "1022it [00:00, 534219.68it/s]\n",
      "Loading station hexes: 100%|██████████| 292/292 [00:00<00:00, 1261314.90it/s]\n",
      "Loading non-station hexes: 100%|██████████| 730/730 [00:00<00:00, 911262.48it/s]"
     ]
    },
    {
     "name": "stdout",
     "output_type": "stream",
     "text": [
      "[00:29:11] WARNING: ../src/learner.cc:1095: Starting in XGBoost 1.3.0, the default evaluation metric used with the objective 'binary:logistic' was changed from 'error' to 'logloss'. Explicitly set eval_metric if you'd like to restore the old behavior.\n",
      "Iteration - 50\n"
     ]
    },
    {
     "name": "stderr",
     "output_type": "stream",
     "text": [
      "\n",
      "Embedding neighbours hexes [Training data]: 100%|██████████| 1022/1022 [00:00<00:00, 4570.50it/s]\n",
      "1022it [00:00, 471570.81it/s]\n",
      "Loading station hexes: 100%|██████████| 292/292 [00:00<00:00, 1354797.31it/s]\n",
      "Loading non-station hexes: 100%|██████████| 730/730 [00:00<00:00, 990887.35it/s]"
     ]
    },
    {
     "name": "stdout",
     "output_type": "stream",
     "text": [
      "[00:29:13] WARNING: ../src/learner.cc:1095: Starting in XGBoost 1.3.0, the default evaluation metric used with the objective 'binary:logistic' was changed from 'error' to 'logloss'. Explicitly set eval_metric if you'd like to restore the old behavior.\n",
      "Iteration - 51\n"
     ]
    },
    {
     "name": "stderr",
     "output_type": "stream",
     "text": [
      "\n",
      "Embedding neighbours hexes [Training data]: 100%|██████████| 1022/1022 [00:00<00:00, 3657.93it/s]\n",
      "1022it [00:00, 534486.12it/s]\n",
      "Loading station hexes: 100%|██████████| 292/292 [00:00<00:00, 883648.46it/s]\n",
      "Loading non-station hexes: 100%|██████████| 730/730 [00:00<00:00, 1328347.90it/s]"
     ]
    },
    {
     "name": "stdout",
     "output_type": "stream",
     "text": [
      "[00:29:16] WARNING: ../src/learner.cc:1095: Starting in XGBoost 1.3.0, the default evaluation metric used with the objective 'binary:logistic' was changed from 'error' to 'logloss'. Explicitly set eval_metric if you'd like to restore the old behavior.\n",
      "Iteration - 52\n"
     ]
    },
    {
     "name": "stderr",
     "output_type": "stream",
     "text": [
      "\n",
      "Embedding neighbours hexes [Training data]: 100%|██████████| 1022/1022 [00:00<00:00, 3437.31it/s]\n",
      "1022it [00:00, 692724.42it/s]\n",
      "Loading station hexes: 100%|██████████| 292/292 [00:00<00:00, 1189064.82it/s]\n",
      "Loading non-station hexes: 100%|██████████| 730/730 [00:00<00:00, 664750.74it/s]"
     ]
    },
    {
     "name": "stdout",
     "output_type": "stream",
     "text": [
      "[00:29:23] WARNING: ../src/learner.cc:1095: Starting in XGBoost 1.3.0, the default evaluation metric used with the objective 'binary:logistic' was changed from 'error' to 'logloss'. Explicitly set eval_metric if you'd like to restore the old behavior.\n",
      "Iteration - 53\n"
     ]
    },
    {
     "name": "stderr",
     "output_type": "stream",
     "text": [
      "\n",
      "Embedding neighbours hexes [Training data]: 100%|██████████| 1022/1022 [00:00<00:00, 3427.65it/s]\n",
      "1022it [00:00, 836568.83it/s]\n",
      "Loading station hexes: 100%|██████████| 292/292 [00:00<00:00, 922241.54it/s]\n",
      "Loading non-station hexes: 100%|██████████| 730/730 [00:00<00:00, 1524062.68it/s]"
     ]
    },
    {
     "name": "stdout",
     "output_type": "stream",
     "text": [
      "[00:29:25] WARNING: ../src/learner.cc:1095: Starting in XGBoost 1.3.0, the default evaluation metric used with the objective 'binary:logistic' was changed from 'error' to 'logloss'. Explicitly set eval_metric if you'd like to restore the old behavior.\n",
      "Iteration - 54\n"
     ]
    },
    {
     "name": "stderr",
     "output_type": "stream",
     "text": [
      "\n",
      "Embedding neighbours hexes [Training data]: 100%|██████████| 1022/1022 [00:00<00:00, 4508.57it/s]\n",
      "1022it [00:00, 418856.62it/s]\n",
      "Loading station hexes: 100%|██████████| 292/292 [00:00<00:00, 1200722.32it/s]\n",
      "Loading non-station hexes: 100%|██████████| 730/730 [00:00<00:00, 1740671.93it/s]"
     ]
    },
    {
     "name": "stdout",
     "output_type": "stream",
     "text": [
      "[00:29:27] WARNING: ../src/learner.cc:1095: Starting in XGBoost 1.3.0, the default evaluation metric used with the objective 'binary:logistic' was changed from 'error' to 'logloss'. Explicitly set eval_metric if you'd like to restore the old behavior.\n",
      "Iteration - 55\n"
     ]
    },
    {
     "name": "stderr",
     "output_type": "stream",
     "text": [
      "\n",
      "Embedding neighbours hexes [Training data]: 100%|██████████| 1022/1022 [00:00<00:00, 4253.86it/s]\n",
      "1022it [00:00, 973116.61it/s]\n",
      "Loading station hexes: 100%|██████████| 292/292 [00:00<00:00, 1109363.01it/s]\n",
      "Loading non-station hexes: 100%|██████████| 730/730 [00:00<00:00, 1324899.14it/s]"
     ]
    },
    {
     "name": "stdout",
     "output_type": "stream",
     "text": [
      "[00:29:28] WARNING: ../src/learner.cc:1095: Starting in XGBoost 1.3.0, the default evaluation metric used with the objective 'binary:logistic' was changed from 'error' to 'logloss'. Explicitly set eval_metric if you'd like to restore the old behavior.\n",
      "Iteration - 56\n"
     ]
    },
    {
     "name": "stderr",
     "output_type": "stream",
     "text": [
      "\n",
      "Embedding neighbours hexes [Training data]: 100%|██████████| 1022/1022 [00:00<00:00, 4745.42it/s]\n",
      "1022it [00:00, 558875.97it/s]\n",
      "Loading station hexes: 100%|██████████| 292/292 [00:00<00:00, 1253568.85it/s]\n",
      "Loading non-station hexes: 100%|██████████| 730/730 [00:00<00:00, 1887695.39it/s]"
     ]
    },
    {
     "name": "stdout",
     "output_type": "stream",
     "text": [
      "[00:29:30] WARNING: ../src/learner.cc:1095: Starting in XGBoost 1.3.0, the default evaluation metric used with the objective 'binary:logistic' was changed from 'error' to 'logloss'. Explicitly set eval_metric if you'd like to restore the old behavior.\n",
      "Iteration - 57\n"
     ]
    },
    {
     "name": "stderr",
     "output_type": "stream",
     "text": [
      "\n",
      "Embedding neighbours hexes [Training data]: 100%|██████████| 1022/1022 [00:00<00:00, 4113.35it/s]\n",
      "1022it [00:00, 1054768.38it/s]\n",
      "Loading station hexes: 100%|██████████| 292/292 [00:00<00:00, 1253568.85it/s]\n",
      "Loading non-station hexes: 100%|██████████| 730/730 [00:00<00:00, 868115.09it/s]"
     ]
    },
    {
     "name": "stdout",
     "output_type": "stream",
     "text": [
      "[00:29:31] WARNING: ../src/learner.cc:1095: Starting in XGBoost 1.3.0, the default evaluation metric used with the objective 'binary:logistic' was changed from 'error' to 'logloss'. Explicitly set eval_metric if you'd like to restore the old behavior.\n",
      "Iteration - 58\n"
     ]
    },
    {
     "name": "stderr",
     "output_type": "stream",
     "text": [
      "\n",
      "Embedding neighbours hexes [Training data]: 100%|██████████| 1022/1022 [00:00<00:00, 4453.21it/s]\n",
      "1022it [00:00, 830732.30it/s]\n",
      "Loading station hexes: 100%|██████████| 292/292 [00:00<00:00, 899880.06it/s]\n",
      "Loading non-station hexes: 100%|██████████| 730/730 [00:00<00:00, 1530920.96it/s]"
     ]
    },
    {
     "name": "stdout",
     "output_type": "stream",
     "text": [
      "[00:29:32] WARNING: ../src/learner.cc:1095: Starting in XGBoost 1.3.0, the default evaluation metric used with the objective 'binary:logistic' was changed from 'error' to 'logloss'. Explicitly set eval_metric if you'd like to restore the old behavior.\n",
      "Iteration - 59\n"
     ]
    },
    {
     "name": "stderr",
     "output_type": "stream",
     "text": [
      "\n",
      "Embedding neighbours hexes [Training data]: 100%|██████████| 1022/1022 [00:00<00:00, 2464.26it/s]\n",
      "1022it [00:00, 744197.69it/s]\n",
      "Loading station hexes: 100%|██████████| 292/292 [00:00<00:00, 1348829.04it/s]\n",
      "Loading non-station hexes: 100%|██████████| 730/730 [00:00<00:00, 1220343.53it/s]"
     ]
    },
    {
     "name": "stdout",
     "output_type": "stream",
     "text": [
      "[00:29:34] WARNING: ../src/learner.cc:1095: Starting in XGBoost 1.3.0, the default evaluation metric used with the objective 'binary:logistic' was changed from 'error' to 'logloss'. Explicitly set eval_metric if you'd like to restore the old behavior.\n",
      "Iteration - 60\n"
     ]
    },
    {
     "name": "stderr",
     "output_type": "stream",
     "text": [
      "\n",
      "Embedding neighbours hexes [Training data]: 100%|██████████| 1022/1022 [00:00<00:00, 3904.50it/s]\n",
      "1022it [00:00, 846146.60it/s]\n",
      "Loading station hexes: 100%|██████████| 292/292 [00:00<00:00, 1204264.28it/s]\n",
      "Loading non-station hexes: 100%|██████████| 730/730 [00:00<00:00, 726933.03it/s]"
     ]
    },
    {
     "name": "stdout",
     "output_type": "stream",
     "text": [
      "[00:29:35] WARNING: ../src/learner.cc:1095: Starting in XGBoost 1.3.0, the default evaluation metric used with the objective 'binary:logistic' was changed from 'error' to 'logloss'. Explicitly set eval_metric if you'd like to restore the old behavior.\n",
      "Iteration - 61\n"
     ]
    },
    {
     "name": "stderr",
     "output_type": "stream",
     "text": [
      "\n",
      "Embedding neighbours hexes [Training data]: 100%|██████████| 1022/1022 [00:00<00:00, 3893.44it/s]\n",
      "1022it [00:00, 732873.77it/s]\n",
      "Loading station hexes: 100%|██████████| 292/292 [00:00<00:00, 927128.51it/s]\n",
      "Loading non-station hexes: 100%|██████████| 730/730 [00:00<00:00, 807447.76it/s]"
     ]
    },
    {
     "name": "stdout",
     "output_type": "stream",
     "text": [
      "[00:29:37] WARNING: ../src/learner.cc:1095: Starting in XGBoost 1.3.0, the default evaluation metric used with the objective 'binary:logistic' was changed from 'error' to 'logloss'. Explicitly set eval_metric if you'd like to restore the old behavior.\n",
      "Iteration - 62\n"
     ]
    },
    {
     "name": "stderr",
     "output_type": "stream",
     "text": [
      "\n",
      "Embedding neighbours hexes [Training data]: 100%|██████████| 1022/1022 [00:00<00:00, 4515.83it/s]\n",
      "1022it [00:00, 591496.99it/s]\n",
      "Loading station hexes: 100%|██████████| 292/292 [00:00<00:00, 1283791.16it/s]\n",
      "Loading non-station hexes: 100%|██████████| 730/730 [00:00<00:00, 1153670.66it/s]"
     ]
    },
    {
     "name": "stdout",
     "output_type": "stream",
     "text": [
      "[00:29:38] WARNING: ../src/learner.cc:1095: Starting in XGBoost 1.3.0, the default evaluation metric used with the objective 'binary:logistic' was changed from 'error' to 'logloss'. Explicitly set eval_metric if you'd like to restore the old behavior.\n",
      "Iteration - 63\n"
     ]
    },
    {
     "name": "stderr",
     "output_type": "stream",
     "text": [
      "\n",
      "Embedding neighbours hexes [Training data]: 100%|██████████| 1022/1022 [00:00<00:00, 4865.43it/s]\n",
      "1022it [00:00, 713359.74it/s]\n",
      "Loading station hexes: 100%|██████████| 292/292 [00:00<00:00, 1258722.27it/s]\n",
      "Loading non-station hexes: 100%|██████████| 730/730 [00:00<00:00, 1338802.76it/s]"
     ]
    },
    {
     "name": "stdout",
     "output_type": "stream",
     "text": [
      "[00:29:39] WARNING: ../src/learner.cc:1095: Starting in XGBoost 1.3.0, the default evaluation metric used with the objective 'binary:logistic' was changed from 'error' to 'logloss'. Explicitly set eval_metric if you'd like to restore the old behavior.\n",
      "Iteration - 64\n"
     ]
    },
    {
     "name": "stderr",
     "output_type": "stream",
     "text": [
      "\n",
      "Embedding neighbours hexes [Training data]: 100%|██████████| 1022/1022 [00:00<00:00, 4398.87it/s]\n",
      "1022it [00:00, 722010.90it/s]\n",
      "Loading station hexes: 100%|██████████| 292/292 [00:00<00:00, 826408.08it/s]\n",
      "Loading non-station hexes: 100%|██████████| 730/730 [00:00<00:00, 739039.81it/s]"
     ]
    },
    {
     "name": "stdout",
     "output_type": "stream",
     "text": [
      "[00:29:40] WARNING: ../src/learner.cc:1095: Starting in XGBoost 1.3.0, the default evaluation metric used with the objective 'binary:logistic' was changed from 'error' to 'logloss'. Explicitly set eval_metric if you'd like to restore the old behavior.\n",
      "Iteration - 65\n"
     ]
    },
    {
     "name": "stderr",
     "output_type": "stream",
     "text": [
      "\n",
      "Embedding neighbours hexes [Training data]: 100%|██████████| 1022/1022 [00:00<00:00, 4298.92it/s]\n",
      "1022it [00:00, 879117.86it/s]\n",
      "Loading station hexes: 100%|██████████| 292/292 [00:00<00:00, 794767.53it/s]\n",
      "Loading non-station hexes: 100%|██████████| 730/730 [00:00<00:00, 1274174.75it/s]"
     ]
    },
    {
     "name": "stdout",
     "output_type": "stream",
     "text": [
      "[00:29:41] WARNING: ../src/learner.cc:1095: Starting in XGBoost 1.3.0, the default evaluation metric used with the objective 'binary:logistic' was changed from 'error' to 'logloss'. Explicitly set eval_metric if you'd like to restore the old behavior.\n",
      "Iteration - 66\n"
     ]
    },
    {
     "name": "stderr",
     "output_type": "stream",
     "text": [
      "\n",
      "Embedding neighbours hexes [Training data]: 100%|██████████| 1022/1022 [00:00<00:00, 4219.53it/s]\n",
      "1022it [00:00, 499310.27it/s]\n",
      "Loading station hexes: 100%|██████████| 292/292 [00:00<00:00, 1296017.74it/s]\n",
      "Loading non-station hexes: 100%|██████████| 730/730 [00:00<00:00, 1110973.12it/s]"
     ]
    },
    {
     "name": "stdout",
     "output_type": "stream",
     "text": [
      "[00:29:42] WARNING: ../src/learner.cc:1095: Starting in XGBoost 1.3.0, the default evaluation metric used with the objective 'binary:logistic' was changed from 'error' to 'logloss'. Explicitly set eval_metric if you'd like to restore the old behavior.\n",
      "Iteration - 67\n"
     ]
    },
    {
     "name": "stderr",
     "output_type": "stream",
     "text": [
      "\n",
      "Embedding neighbours hexes [Training data]: 100%|██████████| 1022/1022 [00:00<00:00, 3474.74it/s]\n",
      "1022it [00:00, 842487.95it/s]\n",
      "Loading station hexes: 100%|██████████| 292/292 [00:00<00:00, 1061297.03it/s]\n",
      "Loading non-station hexes: 100%|██████████| 730/730 [00:00<00:00, 755264.41it/s]"
     ]
    },
    {
     "name": "stdout",
     "output_type": "stream",
     "text": [
      "[00:29:45] WARNING: ../src/learner.cc:1095: Starting in XGBoost 1.3.0, the default evaluation metric used with the objective 'binary:logistic' was changed from 'error' to 'logloss'. Explicitly set eval_metric if you'd like to restore the old behavior.\n",
      "Iteration - 68\n"
     ]
    },
    {
     "name": "stderr",
     "output_type": "stream",
     "text": [
      "\n",
      "Embedding neighbours hexes [Training data]: 100%|██████████| 1022/1022 [00:00<00:00, 3451.21it/s]\n",
      "1022it [00:00, 577861.78it/s]\n",
      "Loading station hexes: 100%|██████████| 292/292 [00:00<00:00, 1215016.63it/s]\n",
      "Loading non-station hexes: 100%|██████████| 730/730 [00:00<00:00, 783280.10it/s]"
     ]
    },
    {
     "name": "stdout",
     "output_type": "stream",
     "text": [
      "[00:29:47] WARNING: ../src/learner.cc:1095: Starting in XGBoost 1.3.0, the default evaluation metric used with the objective 'binary:logistic' was changed from 'error' to 'logloss'. Explicitly set eval_metric if you'd like to restore the old behavior.\n",
      "Iteration - 69\n"
     ]
    },
    {
     "name": "stderr",
     "output_type": "stream",
     "text": [
      "\n",
      "Embedding neighbours hexes [Training data]: 100%|██████████| 1022/1022 [00:00<00:00, 4910.49it/s]\n",
      "1022it [00:00, 984289.02it/s]\n",
      "Loading station hexes: 100%|██████████| 292/292 [00:00<00:00, 1269157.27it/s]\n",
      "Loading non-station hexes: 100%|██████████| 730/730 [00:00<00:00, 925587.04it/s]"
     ]
    },
    {
     "name": "stdout",
     "output_type": "stream",
     "text": [
      "[00:29:48] WARNING: ../src/learner.cc:1095: Starting in XGBoost 1.3.0, the default evaluation metric used with the objective 'binary:logistic' was changed from 'error' to 'logloss'. Explicitly set eval_metric if you'd like to restore the old behavior.\n",
      "Iteration - 70\n"
     ]
    },
    {
     "name": "stderr",
     "output_type": "stream",
     "text": [
      "\n",
      "Embedding neighbours hexes [Training data]: 100%|██████████| 1022/1022 [00:00<00:00, 4481.33it/s]\n",
      "1022it [00:00, 516206.49it/s]\n",
      "Loading station hexes: 100%|██████████| 292/292 [00:00<00:00, 1153236.13it/s]\n",
      "Loading non-station hexes: 100%|██████████| 730/730 [00:00<00:00, 1064618.19it/s]"
     ]
    },
    {
     "name": "stdout",
     "output_type": "stream",
     "text": [
      "[00:29:49] WARNING: ../src/learner.cc:1095: Starting in XGBoost 1.3.0, the default evaluation metric used with the objective 'binary:logistic' was changed from 'error' to 'logloss'. Explicitly set eval_metric if you'd like to restore the old behavior.\n",
      "Iteration - 71\n"
     ]
    },
    {
     "name": "stderr",
     "output_type": "stream",
     "text": [
      "\n",
      "Embedding neighbours hexes [Training data]: 100%|██████████| 1022/1022 [00:00<00:00, 4662.86it/s]\n",
      "1022it [00:00, 769997.97it/s]\n",
      "Loading station hexes: 100%|██████████| 292/292 [00:00<00:00, 1113397.06it/s]\n",
      "Loading non-station hexes: 100%|██████████| 730/730 [00:00<00:00, 868607.64it/s]"
     ]
    },
    {
     "name": "stdout",
     "output_type": "stream",
     "text": [
      "[00:29:51] WARNING: ../src/learner.cc:1095: Starting in XGBoost 1.3.0, the default evaluation metric used with the objective 'binary:logistic' was changed from 'error' to 'logloss'. Explicitly set eval_metric if you'd like to restore the old behavior.\n",
      "Iteration - 72\n"
     ]
    },
    {
     "name": "stderr",
     "output_type": "stream",
     "text": [
      "\n",
      "Embedding neighbours hexes [Training data]: 100%|██████████| 1022/1022 [00:00<00:00, 3622.84it/s]\n",
      "1022it [00:00, 570175.40it/s]\n",
      "Loading station hexes: 100%|██████████| 292/292 [00:00<00:00, 623910.73it/s]\n",
      "Loading non-station hexes: 100%|██████████| 730/730 [00:00<00:00, 706307.25it/s]"
     ]
    },
    {
     "name": "stdout",
     "output_type": "stream",
     "text": [
      "[00:29:53] WARNING: ../src/learner.cc:1095: Starting in XGBoost 1.3.0, the default evaluation metric used with the objective 'binary:logistic' was changed from 'error' to 'logloss'. Explicitly set eval_metric if you'd like to restore the old behavior.\n",
      "Iteration - 73\n"
     ]
    },
    {
     "name": "stderr",
     "output_type": "stream",
     "text": [
      "\n",
      "Embedding neighbours hexes [Training data]: 100%|██████████| 1022/1022 [00:00<00:00, 4506.95it/s]\n",
      "1022it [00:00, 780513.24it/s]\n",
      "Loading station hexes: 100%|██████████| 292/292 [00:00<00:00, 1435799.26it/s]\n",
      "Loading non-station hexes: 100%|██████████| 730/730 [00:00<00:00, 1625181.49it/s]"
     ]
    },
    {
     "name": "stdout",
     "output_type": "stream",
     "text": [
      "[00:29:54] WARNING: ../src/learner.cc:1095: Starting in XGBoost 1.3.0, the default evaluation metric used with the objective 'binary:logistic' was changed from 'error' to 'logloss'. Explicitly set eval_metric if you'd like to restore the old behavior.\n",
      "Iteration - 74\n"
     ]
    },
    {
     "name": "stderr",
     "output_type": "stream",
     "text": [
      "\n",
      "Embedding neighbours hexes [Training data]: 100%|██████████| 1022/1022 [00:00<00:00, 4027.70it/s]\n",
      "1022it [00:00, 992953.14it/s]\n",
      "Loading station hexes: 100%|██████████| 292/292 [00:00<00:00, 1337048.87it/s]\n",
      "Loading non-station hexes: 100%|██████████| 730/730 [00:00<00:00, 613964.69it/s]"
     ]
    },
    {
     "name": "stdout",
     "output_type": "stream",
     "text": [
      "[00:29:55] WARNING: ../src/learner.cc:1095: Starting in XGBoost 1.3.0, the default evaluation metric used with the objective 'binary:logistic' was changed from 'error' to 'logloss'. Explicitly set eval_metric if you'd like to restore the old behavior.\n",
      "Iteration - 75\n"
     ]
    },
    {
     "name": "stderr",
     "output_type": "stream",
     "text": [
      "\n",
      "Embedding neighbours hexes [Training data]: 100%|██████████| 1022/1022 [00:00<00:00, 4646.93it/s]\n",
      "1022it [00:00, 736905.40it/s]\n",
      "Loading station hexes: 100%|██████████| 292/292 [00:00<00:00, 1242126.54it/s]\n",
      "Loading non-station hexes: 100%|██████████| 730/730 [00:00<00:00, 1309598.77it/s]"
     ]
    },
    {
     "name": "stdout",
     "output_type": "stream",
     "text": [
      "[00:29:57] WARNING: ../src/learner.cc:1095: Starting in XGBoost 1.3.0, the default evaluation metric used with the objective 'binary:logistic' was changed from 'error' to 'logloss'. Explicitly set eval_metric if you'd like to restore the old behavior.\n",
      "Iteration - 76\n"
     ]
    },
    {
     "name": "stderr",
     "output_type": "stream",
     "text": [
      "\n",
      "Embedding neighbours hexes [Training data]: 100%|██████████| 1022/1022 [00:00<00:00, 4131.08it/s]\n",
      "1022it [00:00, 531174.56it/s]\n",
      "Loading station hexes: 100%|██████████| 292/292 [00:00<00:00, 927830.88it/s]\n",
      "Loading non-station hexes: 100%|██████████| 730/730 [00:00<00:00, 1200722.32it/s]"
     ]
    },
    {
     "name": "stdout",
     "output_type": "stream",
     "text": [
      "[00:29:58] WARNING: ../src/learner.cc:1095: Starting in XGBoost 1.3.0, the default evaluation metric used with the objective 'binary:logistic' was changed from 'error' to 'logloss'. Explicitly set eval_metric if you'd like to restore the old behavior.\n",
      "Iteration - 77\n"
     ]
    },
    {
     "name": "stderr",
     "output_type": "stream",
     "text": [
      "\n",
      "Embedding neighbours hexes [Training data]: 100%|██████████| 1022/1022 [00:00<00:00, 4606.93it/s]\n",
      "1022it [00:00, 888226.00it/s]\n",
      "Loading station hexes: 100%|██████████| 292/292 [00:00<00:00, 1322609.90it/s]\n",
      "Loading non-station hexes: 100%|██████████| 730/730 [00:00<00:00, 1456632.69it/s]"
     ]
    },
    {
     "name": "stdout",
     "output_type": "stream",
     "text": [
      "[00:29:59] WARNING: ../src/learner.cc:1095: Starting in XGBoost 1.3.0, the default evaluation metric used with the objective 'binary:logistic' was changed from 'error' to 'logloss'. Explicitly set eval_metric if you'd like to restore the old behavior.\n",
      "Iteration - 78\n"
     ]
    },
    {
     "name": "stderr",
     "output_type": "stream",
     "text": [
      "\n",
      "Embedding neighbours hexes [Training data]: 100%|██████████| 1022/1022 [00:00<00:00, 4456.01it/s]\n",
      "1022it [00:00, 618643.19it/s]\n",
      "Loading station hexes: 100%|██████████| 292/292 [00:00<00:00, 1134015.53it/s]\n",
      "Loading non-station hexes: 100%|██████████| 730/730 [00:00<00:00, 1191841.93it/s]"
     ]
    },
    {
     "name": "stdout",
     "output_type": "stream",
     "text": [
      "[00:30:01] WARNING: ../src/learner.cc:1095: Starting in XGBoost 1.3.0, the default evaluation metric used with the objective 'binary:logistic' was changed from 'error' to 'logloss'. Explicitly set eval_metric if you'd like to restore the old behavior.\n",
      "Iteration - 79\n"
     ]
    },
    {
     "name": "stderr",
     "output_type": "stream",
     "text": [
      "\n",
      "Embedding neighbours hexes [Training data]: 100%|██████████| 1022/1022 [00:00<00:00, 4644.36it/s]\n",
      "1022it [00:00, 957894.68it/s]\n",
      "Loading station hexes: 100%|██████████| 292/292 [00:00<00:00, 1037033.67it/s]\n",
      "Loading non-station hexes: 100%|██████████| 730/730 [00:00<00:00, 1465697.42it/s]"
     ]
    },
    {
     "name": "stdout",
     "output_type": "stream",
     "text": [
      "[00:30:02] WARNING: ../src/learner.cc:1095: Starting in XGBoost 1.3.0, the default evaluation metric used with the objective 'binary:logistic' was changed from 'error' to 'logloss'. Explicitly set eval_metric if you'd like to restore the old behavior.\n",
      "Iteration - 80\n"
     ]
    },
    {
     "name": "stderr",
     "output_type": "stream",
     "text": [
      "\n",
      "Embedding neighbours hexes [Training data]: 100%|██████████| 1022/1022 [00:00<00:00, 4914.15it/s]\n",
      "1022it [00:00, 981584.31it/s]\n",
      "Loading station hexes: 100%|██████████| 292/292 [00:00<00:00, 1020613.97it/s]\n",
      "Loading non-station hexes: 100%|██████████| 730/730 [00:00<00:00, 1538614.03it/s]"
     ]
    },
    {
     "name": "stdout",
     "output_type": "stream",
     "text": [
      "[00:30:03] WARNING: ../src/learner.cc:1095: Starting in XGBoost 1.3.0, the default evaluation metric used with the objective 'binary:logistic' was changed from 'error' to 'logloss'. Explicitly set eval_metric if you'd like to restore the old behavior.\n",
      "Iteration - 81\n"
     ]
    },
    {
     "name": "stderr",
     "output_type": "stream",
     "text": [
      "\n",
      "Embedding neighbours hexes [Training data]: 100%|██████████| 1022/1022 [00:00<00:00, 4735.14it/s]\n",
      "1022it [00:00, 875526.69it/s]\n",
      "Loading station hexes: 100%|██████████| 292/292 [00:00<00:00, 1409363.37it/s]\n",
      "Loading non-station hexes: 100%|██████████| 730/730 [00:00<00:00, 865416.03it/s]"
     ]
    },
    {
     "name": "stdout",
     "output_type": "stream",
     "text": [
      "[00:30:04] WARNING: ../src/learner.cc:1095: Starting in XGBoost 1.3.0, the default evaluation metric used with the objective 'binary:logistic' was changed from 'error' to 'logloss'. Explicitly set eval_metric if you'd like to restore the old behavior.\n",
      "Iteration - 82\n"
     ]
    },
    {
     "name": "stderr",
     "output_type": "stream",
     "text": [
      "\n",
      "Embedding neighbours hexes [Training data]: 100%|██████████| 1022/1022 [00:00<00:00, 4851.40it/s]\n",
      "1022it [00:00, 1071644.67it/s]\n",
      "Loading station hexes: 100%|██████████| 292/292 [00:00<00:00, 1025742.69it/s]\n",
      "Loading non-station hexes: 100%|██████████| 730/730 [00:00<00:00, 1694433.82it/s]"
     ]
    },
    {
     "name": "stdout",
     "output_type": "stream",
     "text": [
      "[00:30:05] WARNING: ../src/learner.cc:1095: Starting in XGBoost 1.3.0, the default evaluation metric used with the objective 'binary:logistic' was changed from 'error' to 'logloss'. Explicitly set eval_metric if you'd like to restore the old behavior.\n",
      "Iteration - 83\n"
     ]
    },
    {
     "name": "stderr",
     "output_type": "stream",
     "text": [
      "\n",
      "Embedding neighbours hexes [Training data]: 100%|██████████| 1022/1022 [00:00<00:00, 4430.76it/s]\n",
      "1022it [00:00, 630564.68it/s]\n",
      "Loading station hexes: 100%|██████████| 292/292 [00:00<00:00, 1331235.62it/s]\n",
      "Loading non-station hexes: 100%|██████████| 730/730 [00:00<00:00, 1035455.50it/s]"
     ]
    },
    {
     "name": "stdout",
     "output_type": "stream",
     "text": [
      "[00:30:06] WARNING: ../src/learner.cc:1095: Starting in XGBoost 1.3.0, the default evaluation metric used with the objective 'binary:logistic' was changed from 'error' to 'logloss'. Explicitly set eval_metric if you'd like to restore the old behavior.\n",
      "Iteration - 84\n"
     ]
    },
    {
     "name": "stderr",
     "output_type": "stream",
     "text": [
      "\n",
      "Embedding neighbours hexes [Training data]: 100%|██████████| 1022/1022 [00:00<00:00, 4441.26it/s]\n",
      "1022it [00:00, 853730.07it/s]\n",
      "Loading station hexes: 100%|██████████| 292/292 [00:00<00:00, 614519.20it/s]\n",
      "Loading non-station hexes: 100%|██████████| 730/730 [00:00<00:00, 1487775.47it/s]"
     ]
    },
    {
     "name": "stdout",
     "output_type": "stream",
     "text": [
      "[00:30:08] WARNING: ../src/learner.cc:1095: Starting in XGBoost 1.3.0, the default evaluation metric used with the objective 'binary:logistic' was changed from 'error' to 'logloss'. Explicitly set eval_metric if you'd like to restore the old behavior.\n",
      "Iteration - 85\n"
     ]
    },
    {
     "name": "stderr",
     "output_type": "stream",
     "text": [
      "\n",
      "Embedding neighbours hexes [Training data]: 100%|██████████| 1022/1022 [00:00<00:00, 4199.06it/s]\n",
      "1022it [00:00, 821026.37it/s]\n",
      "Loading station hexes: 100%|██████████| 292/292 [00:00<00:00, 1235859.50it/s]\n",
      "Loading non-station hexes: 100%|██████████| 730/730 [00:00<00:00, 1565358.85it/s]"
     ]
    },
    {
     "name": "stdout",
     "output_type": "stream",
     "text": [
      "[00:30:09] WARNING: ../src/learner.cc:1095: Starting in XGBoost 1.3.0, the default evaluation metric used with the objective 'binary:logistic' was changed from 'error' to 'logloss'. Explicitly set eval_metric if you'd like to restore the old behavior.\n",
      "Iteration - 86\n"
     ]
    },
    {
     "name": "stderr",
     "output_type": "stream",
     "text": [
      "\n",
      "Embedding neighbours hexes [Training data]: 100%|██████████| 1022/1022 [00:00<00:00, 4339.80it/s]\n",
      "1022it [00:00, 544534.89it/s]\n",
      "Loading station hexes: 100%|██████████| 292/292 [00:00<00:00, 1332684.19it/s]\n",
      "Loading non-station hexes: 100%|██████████| 730/730 [00:00<00:00, 1558982.65it/s]"
     ]
    },
    {
     "name": "stdout",
     "output_type": "stream",
     "text": [
      "[00:30:10] WARNING: ../src/learner.cc:1095: Starting in XGBoost 1.3.0, the default evaluation metric used with the objective 'binary:logistic' was changed from 'error' to 'logloss'. Explicitly set eval_metric if you'd like to restore the old behavior.\n",
      "Iteration - 87\n"
     ]
    },
    {
     "name": "stderr",
     "output_type": "stream",
     "text": [
      "\n",
      "Embedding neighbours hexes [Training data]: 100%|██████████| 1022/1022 [00:00<00:00, 4409.05it/s]\n",
      "1022it [00:00, 694295.22it/s]\n",
      "Loading station hexes: 100%|██████████| 292/292 [00:00<00:00, 1331235.62it/s]\n",
      "Loading non-station hexes: 100%|██████████| 730/730 [00:00<00:00, 1315789.39it/s]"
     ]
    },
    {
     "name": "stdout",
     "output_type": "stream",
     "text": [
      "[00:30:12] WARNING: ../src/learner.cc:1095: Starting in XGBoost 1.3.0, the default evaluation metric used with the objective 'binary:logistic' was changed from 'error' to 'logloss'. Explicitly set eval_metric if you'd like to restore the old behavior.\n",
      "Iteration - 88\n"
     ]
    },
    {
     "name": "stderr",
     "output_type": "stream",
     "text": [
      "\n",
      "Embedding neighbours hexes [Training data]: 100%|██████████| 1022/1022 [00:00<00:00, 4678.22it/s]\n",
      "1022it [00:00, 908365.90it/s]\n",
      "Loading station hexes: 100%|██████████| 292/292 [00:00<00:00, 639215.43it/s]\n",
      "Loading non-station hexes: 100%|██████████| 730/730 [00:00<00:00, 1516514.08it/s]"
     ]
    },
    {
     "name": "stdout",
     "output_type": "stream",
     "text": [
      "[00:30:13] WARNING: ../src/learner.cc:1095: Starting in XGBoost 1.3.0, the default evaluation metric used with the objective 'binary:logistic' was changed from 'error' to 'logloss'. Explicitly set eval_metric if you'd like to restore the old behavior.\n",
      "Iteration - 89\n"
     ]
    },
    {
     "name": "stderr",
     "output_type": "stream",
     "text": [
      "\n",
      "Embedding neighbours hexes [Training data]: 100%|██████████| 1022/1022 [00:00<00:00, 4028.04it/s]\n",
      "1022it [00:00, 572689.20it/s]\n",
      "Loading station hexes: 100%|██████████| 292/292 [00:00<00:00, 905870.39it/s]\n",
      "Loading non-station hexes: 100%|██████████| 730/730 [00:00<00:00, 844879.12it/s]"
     ]
    },
    {
     "name": "stdout",
     "output_type": "stream",
     "text": [
      "[00:30:15] WARNING: ../src/learner.cc:1095: Starting in XGBoost 1.3.0, the default evaluation metric used with the objective 'binary:logistic' was changed from 'error' to 'logloss'. Explicitly set eval_metric if you'd like to restore the old behavior.\n",
      "Iteration - 90\n"
     ]
    },
    {
     "name": "stderr",
     "output_type": "stream",
     "text": [
      "\n",
      "Embedding neighbours hexes [Training data]: 100%|██████████| 1022/1022 [00:00<00:00, 4209.73it/s]\n",
      "1022it [00:00, 932473.07it/s]\n",
      "Loading station hexes: 100%|██████████| 292/292 [00:00<00:00, 1387017.86it/s]\n",
      "Loading non-station hexes: 100%|██████████| 730/730 [00:00<00:00, 1613193.85it/s]"
     ]
    },
    {
     "name": "stdout",
     "output_type": "stream",
     "text": [
      "[00:30:16] WARNING: ../src/learner.cc:1095: Starting in XGBoost 1.3.0, the default evaluation metric used with the objective 'binary:logistic' was changed from 'error' to 'logloss'. Explicitly set eval_metric if you'd like to restore the old behavior.\n",
      "Iteration - 91\n"
     ]
    },
    {
     "name": "stderr",
     "output_type": "stream",
     "text": [
      "\n",
      "Embedding neighbours hexes [Training data]: 100%|██████████| 1022/1022 [00:00<00:00, 4635.59it/s]\n",
      "1022it [00:00, 929641.88it/s]\n",
      "Loading station hexes: 100%|██████████| 292/292 [00:00<00:00, 1278430.86it/s]\n",
      "Loading non-station hexes: 100%|██████████| 730/730 [00:00<00:00, 1797910.70it/s]"
     ]
    },
    {
     "name": "stdout",
     "output_type": "stream",
     "text": [
      "[00:30:17] WARNING: ../src/learner.cc:1095: Starting in XGBoost 1.3.0, the default evaluation metric used with the objective 'binary:logistic' was changed from 'error' to 'logloss'. Explicitly set eval_metric if you'd like to restore the old behavior.\n",
      "Iteration - 92\n"
     ]
    },
    {
     "name": "stderr",
     "output_type": "stream",
     "text": [
      "\n",
      "Embedding neighbours hexes [Training data]: 100%|██████████| 1022/1022 [00:00<00:00, 4266.82it/s]\n",
      "1022it [00:00, 813083.97it/s]\n",
      "Loading station hexes: 100%|██████████| 292/292 [00:00<00:00, 1240868.05it/s]\n",
      "Loading non-station hexes: 100%|██████████| 730/730 [00:00<00:00, 1671311.09it/s]"
     ]
    },
    {
     "name": "stdout",
     "output_type": "stream",
     "text": [
      "[00:30:19] WARNING: ../src/learner.cc:1095: Starting in XGBoost 1.3.0, the default evaluation metric used with the objective 'binary:logistic' was changed from 'error' to 'logloss'. Explicitly set eval_metric if you'd like to restore the old behavior.\n",
      "Iteration - 93\n"
     ]
    },
    {
     "name": "stderr",
     "output_type": "stream",
     "text": [
      "\n",
      "Embedding neighbours hexes [Training data]: 100%|██████████| 1022/1022 [00:00<00:00, 4586.07it/s]\n",
      "1022it [00:00, 983160.25it/s]\n",
      "Loading station hexes: 100%|██████████| 292/292 [00:00<00:00, 1300145.19it/s]\n",
      "Loading non-station hexes: 100%|██████████| 730/730 [00:00<00:00, 1151501.29it/s]"
     ]
    },
    {
     "name": "stdout",
     "output_type": "stream",
     "text": [
      "[00:30:20] WARNING: ../src/learner.cc:1095: Starting in XGBoost 1.3.0, the default evaluation metric used with the objective 'binary:logistic' was changed from 'error' to 'logloss'. Explicitly set eval_metric if you'd like to restore the old behavior.\n",
      "Iteration - 94\n"
     ]
    },
    {
     "name": "stderr",
     "output_type": "stream",
     "text": [
      "\n",
      "Embedding neighbours hexes [Training data]: 100%|██████████| 1022/1022 [00:00<00:00, 4422.05it/s]\n",
      "1022it [00:00, 1030427.57it/s]\n",
      "Loading station hexes: 100%|██████████| 292/292 [00:00<00:00, 1399699.16it/s]\n",
      "Loading non-station hexes: 100%|██████████| 730/730 [00:00<00:00, 1468509.31it/s]"
     ]
    },
    {
     "name": "stdout",
     "output_type": "stream",
     "text": [
      "[00:30:21] WARNING: ../src/learner.cc:1095: Starting in XGBoost 1.3.0, the default evaluation metric used with the objective 'binary:logistic' was changed from 'error' to 'logloss'. Explicitly set eval_metric if you'd like to restore the old behavior.\n",
      "Iteration - 95\n"
     ]
    },
    {
     "name": "stderr",
     "output_type": "stream",
     "text": [
      "\n",
      "Embedding neighbours hexes [Training data]: 100%|██████████| 1022/1022 [00:00<00:00, 4531.66it/s]\n",
      "1022it [00:00, 804689.07it/s]\n",
      "Loading station hexes: 100%|██████████| 292/292 [00:00<00:00, 820869.15it/s]\n",
      "Loading non-station hexes: 100%|██████████| 730/730 [00:00<00:00, 1229161.75it/s]"
     ]
    },
    {
     "name": "stdout",
     "output_type": "stream",
     "text": [
      "[00:30:23] WARNING: ../src/learner.cc:1095: Starting in XGBoost 1.3.0, the default evaluation metric used with the objective 'binary:logistic' was changed from 'error' to 'logloss'. Explicitly set eval_metric if you'd like to restore the old behavior.\n",
      "Iteration - 96\n"
     ]
    },
    {
     "name": "stderr",
     "output_type": "stream",
     "text": [
      "\n",
      "Embedding neighbours hexes [Training data]: 100%|██████████| 1022/1022 [00:00<00:00, 4298.06it/s]\n",
      "1022it [00:00, 792783.19it/s]\n",
      "Loading station hexes: 100%|██████████| 292/292 [00:00<00:00, 654239.73it/s]\n",
      "Loading non-station hexes: 100%|██████████| 730/730 [00:00<00:00, 1287028.97it/s]"
     ]
    },
    {
     "name": "stdout",
     "output_type": "stream",
     "text": [
      "[00:30:24] WARNING: ../src/learner.cc:1095: Starting in XGBoost 1.3.0, the default evaluation metric used with the objective 'binary:logistic' was changed from 'error' to 'logloss'. Explicitly set eval_metric if you'd like to restore the old behavior.\n",
      "Iteration - 97\n"
     ]
    },
    {
     "name": "stderr",
     "output_type": "stream",
     "text": [
      "\n",
      "Embedding neighbours hexes [Training data]: 100%|██████████| 1022/1022 [00:00<00:00, 4284.38it/s]\n",
      "1022it [00:00, 913787.83it/s]\n",
      "Loading station hexes: 100%|██████████| 292/292 [00:00<00:00, 1111376.38it/s]\n",
      "Loading non-station hexes: 100%|██████████| 730/730 [00:00<00:00, 1639979.60it/s]"
     ]
    },
    {
     "name": "stdout",
     "output_type": "stream",
     "text": [
      "[00:30:25] WARNING: ../src/learner.cc:1095: Starting in XGBoost 1.3.0, the default evaluation metric used with the objective 'binary:logistic' was changed from 'error' to 'logloss'. Explicitly set eval_metric if you'd like to restore the old behavior.\n",
      "Iteration - 98\n"
     ]
    },
    {
     "name": "stderr",
     "output_type": "stream",
     "text": [
      "\n",
      "Embedding neighbours hexes [Training data]: 100%|██████████| 1022/1022 [00:00<00:00, 4544.57it/s]\n",
      "1022it [00:00, 881830.63it/s]\n",
      "Loading station hexes: 100%|██████████| 292/292 [00:00<00:00, 560520.26it/s]\n",
      "Loading non-station hexes: 100%|██████████| 730/730 [00:00<00:00, 743526.45it/s]"
     ]
    },
    {
     "name": "stdout",
     "output_type": "stream",
     "text": [
      "[00:30:26] WARNING: ../src/learner.cc:1095: Starting in XGBoost 1.3.0, the default evaluation metric used with the objective 'binary:logistic' was changed from 'error' to 'logloss'. Explicitly set eval_metric if you'd like to restore the old behavior.\n",
      "Iteration - 99\n"
     ]
    },
    {
     "name": "stderr",
     "output_type": "stream",
     "text": [
      "\n",
      "Embedding neighbours hexes [Training data]: 100%|██████████| 1022/1022 [00:00<00:00, 4393.18it/s]\n",
      "1022it [00:00, 552322.99it/s]\n"
     ]
    },
    {
     "name": "stdout",
     "output_type": "stream",
     "text": [
      "[00:30:28] WARNING: ../src/learner.cc:1095: Starting in XGBoost 1.3.0, the default evaluation metric used with the objective 'binary:logistic' was changed from 'error' to 'logloss'. Explicitly set eval_metric if you'd like to restore the old behavior.\n"
     ]
    }
   ],
   "source": [
    "clf.predict_and_save_data(1, 100)"
   ]
  },
  {
   "cell_type": "markdown",
   "metadata": {},
   "source": [
    "## Run all single cities crossover"
   ]
  },
  {
   "cell_type": "code",
   "execution_count": 14,
   "metadata": {},
   "outputs": [],
   "source": [
    "from prediction_model.classifiers import OneCityClassifier\n",
    "from db_connector.models import Area, PredictionResult\n",
    "from tqdm import tqdm\n",
    "import os"
   ]
  },
  {
   "cell_type": "code",
   "execution_count": 10,
   "metadata": {},
   "outputs": [],
   "source": [
    "cities_ids = [a.id for a in Area.select()][::-1]\n",
    "cities_ids.remove(79)\n",
    "classifier_ids = list(range(1, 35))\n",
    "tuples = [(city_id, classifier_id) for city_id in cities_ids for classifier_id in classifier_ids]\n",
    "DIRECTORY = 'csv_results'"
   ]
  },
  {
   "cell_type": "code",
   "execution_count": 12,
   "metadata": {},
   "outputs": [
    {
     "data": {
      "text/plain": [
       "[(100, 1), (100, 2), (100, 3), (100, 4), (100, 5)]"
      ]
     },
     "execution_count": 12,
     "metadata": {},
     "output_type": "execute_result"
    }
   ],
   "source": [
    "tuples[:5]"
   ]
  },
  {
   "cell_type": "code",
   "execution_count": 15,
   "metadata": {},
   "outputs": [
    {
     "name": "stderr",
     "output_type": "stream",
     "text": [
      "Generating predictions [Marseille] (area_id: 100): 100%|██████████| 20/20 [00:56<00:00,  2.81s/it]\n",
      "Generating predictions [Milan] (area_id: 100): 100%|██████████| 20/20 [01:01<00:00,  3.09s/it]\n",
      "19 vectors: 378242it [00:16, 22500.02it/s]\n",
      "19 labels: 378242it [00:03, 106007.72it/s]\n",
      "Generating predictions [Moscow] (area_id: 100): 100%|██████████| 20/20 [01:03<00:00,  3.18s/it]\n",
      "20 vectors: 294611it [00:12, 23016.92it/s]\n",
      "20 labels: 294611it [00:02, 101512.76it/s]\n",
      "Generating predictions [Munich] (area_id: 100): 100%|██████████| 20/20 [01:04<00:00,  3.25s/it]\n",
      "21 vectors: 36759it [00:01, 23526.18it/s]\n",
      "21 labels: 36759it [00:00, 108549.98it/s]\n",
      "Generating predictions [Nantes] (area_id: 100): 100%|██████████| 20/20 [00:46<00:00,  2.35s/it]\n",
      "22 vectors: 53820it [00:02, 21459.99it/s]\n",
      "22 labels: 53820it [00:00, 96098.44it/s]\n",
      "Generating predictions [Oslo] (area_id: 100): 100%|██████████| 20/20 [01:00<00:00,  3.00s/it]\n",
      "23 vectors: 135588it [00:06, 22363.95it/s]\n",
      "23 labels: 135588it [00:01, 108676.07it/s]\n",
      "Generating predictions [Ostrava] (area_id: 100): 100%|██████████| 20/20 [01:04<00:00,  3.22s/it]\n",
      "24 vectors: 264684it [00:11, 22805.91it/s]\n",
      "24 labels: 264684it [00:02, 103549.45it/s]\n",
      "Generating predictions [Paris] (area_id: 100): 100%|██████████| 20/20 [01:05<00:00,  3.26s/it]\n",
      "25 vectors: 105131it [00:04, 22923.52it/s]\n",
      "25 labels: 105131it [00:01, 103512.85it/s]\n",
      "Generating predictions [Poznań] (area_id: 100): 100%|██████████| 20/20 [00:49<00:00,  2.47s/it]\n",
      "26 vectors: 151321it [00:06, 22968.03it/s]\n",
      "26 labels: 151321it [00:01, 110683.07it/s]\n",
      "Generating predictions [Prague] (area_id: 100): 100%|██████████| 20/20 [01:04<00:00,  3.25s/it]\n",
      "27 vectors: 48232it [00:02, 23104.20it/s]\n",
      "27 labels: 48232it [00:00, 105129.95it/s]\n",
      "Generating predictions [Seville] (area_id: 100): 100%|██████████| 20/20 [00:57<00:00,  2.86s/it]\n",
      "28 vectors: 52452it [00:02, 22813.66it/s]\n",
      "28 labels: 52452it [00:00, 103934.17it/s]\n",
      "Generating predictions [Toulouse] (area_id: 100): 100%|██████████| 20/20 [01:01<00:00,  3.08s/it]\n",
      "29 vectors: 33274it [00:01, 22526.49it/s]\n",
      "29 labels: 33274it [00:00, 91513.13it/s]\n",
      "Generating predictions [Valencia] (area_id: 100): 100%|██████████| 20/20 [00:52<00:00,  2.62s/it]\n",
      "30 vectors: 49047it [00:02, 23626.73it/s]\n",
      "30 labels: 49047it [00:00, 82206.88it/s]\n",
      "Generating predictions [Vienna] (area_id: 100): 100%|██████████| 20/20 [00:46<00:00,  2.34s/it]\n",
      "31 vectors: 173437it [00:07, 22927.33it/s]\n",
      "31 labels: 173437it [00:01, 107206.98it/s]\n",
      "Generating predictions [Warsaw] (area_id: 100): 100%|██████████| 20/20 [01:04<00:00,  3.22s/it]\n",
      "32 vectors: 126558it [00:05, 21595.04it/s]\n",
      "32 labels: 126558it [00:01, 104879.73it/s]\n",
      "Generating predictions [Wrocław] (area_id: 100): 100%|██████████| 20/20 [00:46<00:00,  2.32s/it]\n",
      "33 vectors: 32227it [00:01, 22916.06it/s]\n",
      "33 labels: 32227it [00:00, 114186.47it/s]\n",
      "Generating predictions [Zaragoza] (area_id: 100): 100%|██████████| 20/20 [00:44<00:00,  2.22s/it]\n",
      "34 vectors: 70203it [00:03, 22650.46it/s]\n",
      "34 labels: 70203it [00:00, 111201.85it/s]\n",
      "Generating predictions [Zurich] (area_id: 100): 100%|██████████| 20/20 [00:55<00:00,  2.78s/it]\n",
      "1 vectors: 56967it [00:02, 21784.69it/s]\n",
      "1 labels: 56967it [00:00, 110084.93it/s]\n",
      "99 vectors: 83683it [00:03, 23134.47it/s]\n",
      "99 labels: 0it [00:00, ?it/s]\n",
      "Loading prediction hexes: 83683it [00:02, 31579.87it/s]\n",
      "Generating predictions [Antwerpen] (area_id: 99): 100%|██████████| 20/20 [00:01<00:00, 10.76it/s]\n",
      "2 vectors: 42436it [00:02, 20760.74it/s]\n",
      "2 labels: 42436it [00:00, 92888.97it/s]\n",
      "Generating predictions [Barcelona] (area_id: 99): 100%|██████████| 20/20 [00:01<00:00, 10.51it/s]\n",
      "3 vectors: 122989it [00:05, 23048.69it/s]\n",
      "3 labels: 122989it [00:01, 103908.23it/s]\n",
      "Generating predictions [Berlin] (area_id: 99): 100%|██████████| 20/20 [00:01<00:00, 10.69it/s]\n",
      "4 vectors: 53474it [00:02, 21309.37it/s]\n",
      "4 labels: 53474it [00:00, 88355.02it/s]\n",
      "Generating predictions [Bern] (area_id: 99): 100%|██████████| 20/20 [00:01<00:00, 11.72it/s]\n",
      "Generating predictions [Bordeaux] (area_id: 99): 100%|██████████| 20/20 [00:01<00:00, 10.19it/s]\n",
      "Generating predictions [Brno] (area_id: 99): 100%|██████████| 20/20 [00:01<00:00, 10.30it/s]\n",
      "Generating predictions [Bruxelles] (area_id: 99): 100%|██████████| 20/20 [00:02<00:00,  8.97it/s]\n",
      "Generating predictions [Budapest] (area_id: 99): 100%|██████████| 20/20 [00:01<00:00, 10.09it/s]\n",
      "Generating predictions [Cardiff] (area_id: 99): 100%|██████████| 20/20 [00:01<00:00, 12.85it/s]\n",
      "Generating predictions [Dublin] (area_id: 99): 100%|██████████| 20/20 [00:01<00:00, 10.53it/s]\n",
      "Generating predictions [Gothenburg] (area_id: 99): 100%|██████████| 20/20 [00:01<00:00, 10.74it/s]\n",
      "Generating predictions [Helsinki] (area_id: 99): 100%|██████████| 20/20 [00:02<00:00,  9.03it/s]\n",
      "Generating predictions [Kyiv] (area_id: 99): 100%|██████████| 20/20 [00:01<00:00, 10.58it/s]\n",
      "Generating predictions [London] (area_id: 99): 100%|██████████| 20/20 [00:02<00:00,  9.19it/s]\n",
      "Generating predictions [Lyon] (area_id: 99): 100%|██████████| 20/20 [00:02<00:00,  9.43it/s]\n",
      "Generating predictions [Madrid] (area_id: 99): 100%|██████████| 20/20 [00:01<00:00, 10.55it/s]\n",
      "Generating predictions [Marseille] (area_id: 99): 100%|██████████| 20/20 [00:01<00:00, 10.86it/s]\n",
      "Generating predictions [Milan] (area_id: 99): 100%|██████████| 20/20 [00:02<00:00,  9.47it/s]\n",
      "Generating predictions [Moscow] (area_id: 99): 100%|██████████| 20/20 [00:01<00:00, 10.22it/s]\n",
      "Generating predictions [Munich] (area_id: 99): 100%|██████████| 20/20 [00:01<00:00, 10.90it/s]\n",
      "Generating predictions [Nantes] (area_id: 99): 100%|██████████| 20/20 [00:01<00:00, 14.57it/s]\n",
      "Generating predictions [Oslo] (area_id: 99): 100%|██████████| 20/20 [00:01<00:00, 11.00it/s]\n",
      "Generating predictions [Ostrava] (area_id: 99): 100%|██████████| 20/20 [00:01<00:00, 10.76it/s]\n",
      "Generating predictions [Paris] (area_id: 99): 100%|██████████| 20/20 [00:01<00:00, 10.29it/s]\n",
      "Generating predictions [Poznań] (area_id: 99): 100%|██████████| 20/20 [00:01<00:00, 12.08it/s]\n",
      "Generating predictions [Prague] (area_id: 99): 100%|██████████| 20/20 [00:01<00:00, 11.44it/s]\n",
      "Generating predictions [Seville] (area_id: 99): 100%|██████████| 20/20 [00:01<00:00, 10.63it/s]\n",
      "Generating predictions [Toulouse] (area_id: 99): 100%|██████████| 20/20 [00:01<00:00, 10.88it/s]\n",
      "Generating predictions [Valencia] (area_id: 99): 100%|██████████| 20/20 [00:01<00:00, 11.40it/s]\n",
      "Generating predictions [Vienna] (area_id: 99): 100%|██████████| 20/20 [00:01<00:00, 12.90it/s]\n",
      "Generating predictions [Warsaw] (area_id: 99): 100%|██████████| 20/20 [00:01<00:00, 10.45it/s]\n",
      "Generating predictions [Wrocław] (area_id: 99): 100%|██████████| 20/20 [00:01<00:00, 13.28it/s]\n",
      "Generating predictions [Zaragoza] (area_id: 99): 100%|██████████| 20/20 [00:01<00:00, 13.22it/s]\n",
      "Generating predictions [Zurich] (area_id: 99): 100%|██████████| 20/20 [00:01<00:00, 11.70it/s]\n",
      "98 vectors: 782183it [00:34, 22777.76it/s]\n",
      "98 labels: 0it [00:00, ?it/s]\n",
      "Loading prediction hexes: 782183it [00:25, 30453.09it/s]\n",
      "Generating predictions [Antwerpen] (area_id: 98): 100%|██████████| 20/20 [00:09<00:00,  2.14it/s]\n",
      "Generating predictions [Barcelona] (area_id: 98): 100%|██████████| 20/20 [00:09<00:00,  2.08it/s]\n",
      "Generating predictions [Berlin] (area_id: 98): 100%|██████████| 20/20 [00:10<00:00,  1.96it/s]\n",
      "Generating predictions [Bern] (area_id: 98): 100%|██████████| 20/20 [00:09<00:00,  2.20it/s]\n",
      "Generating predictions [Bordeaux] (area_id: 98): 100%|██████████| 20/20 [00:09<00:00,  2.21it/s]\n",
      "Generating predictions [Brno] (area_id: 98): 100%|██████████| 20/20 [00:09<00:00,  2.10it/s]\n",
      "Generating predictions [Bruxelles] (area_id: 98): 100%|██████████| 20/20 [00:10<00:00,  1.90it/s]\n",
      "Generating predictions [Budapest] (area_id: 98): 100%|██████████| 20/20 [00:09<00:00,  2.20it/s]\n",
      "Generating predictions [Cardiff] (area_id: 98): 100%|██████████| 20/20 [00:06<00:00,  3.31it/s]\n",
      "Generating predictions [Dublin] (area_id: 98): 100%|██████████| 20/20 [00:09<00:00,  2.02it/s]\n",
      "Generating predictions [Gothenburg] (area_id: 98): 100%|██████████| 20/20 [00:08<00:00,  2.26it/s]\n",
      "Generating predictions [Helsinki] (area_id: 98): 100%|██████████| 20/20 [00:10<00:00,  1.93it/s]\n",
      "Generating predictions [Kyiv] (area_id: 98): 100%|██████████| 20/20 [00:09<00:00,  2.08it/s]\n",
      "Generating predictions [London] (area_id: 98): 100%|██████████| 20/20 [00:10<00:00,  1.97it/s]\n",
      "Generating predictions [Lyon] (area_id: 98): 100%|██████████| 20/20 [00:10<00:00,  2.00it/s]\n",
      "Generating predictions [Madrid] (area_id: 98): 100%|██████████| 20/20 [00:09<00:00,  2.04it/s]\n",
      "Generating predictions [Marseille] (area_id: 98): 100%|██████████| 20/20 [00:09<00:00,  2.08it/s]\n",
      "Generating predictions [Milan] (area_id: 98): 100%|██████████| 20/20 [00:10<00:00,  1.95it/s]\n",
      "Generating predictions [Moscow] (area_id: 98): 100%|██████████| 20/20 [00:10<00:00,  1.91it/s]\n",
      "Generating predictions [Munich] (area_id: 98): 100%|██████████| 20/20 [00:10<00:00,  1.91it/s]\n",
      "Generating predictions [Nantes] (area_id: 98): 100%|██████████| 20/20 [00:08<00:00,  2.39it/s]\n",
      "Generating predictions [Oslo] (area_id: 98): 100%|██████████| 20/20 [00:10<00:00,  1.93it/s]\n",
      "Generating predictions [Ostrava] (area_id: 98): 100%|██████████| 20/20 [00:10<00:00,  1.86it/s]\n",
      "Generating predictions [Paris] (area_id: 98): 100%|██████████| 20/20 [00:10<00:00,  1.82it/s]\n",
      "Generating predictions [Poznań] (area_id: 98): 100%|██████████| 20/20 [00:09<00:00,  2.20it/s]\n",
      "Generating predictions [Prague] (area_id: 98): 100%|██████████| 20/20 [00:10<00:00,  1.89it/s]\n",
      "Generating predictions [Seville] (area_id: 98): 100%|██████████| 20/20 [00:10<00:00,  1.99it/s]\n",
      "Generating predictions [Toulouse] (area_id: 98): 100%|██████████| 20/20 [00:10<00:00,  1.94it/s]\n",
      "Generating predictions [Valencia] (area_id: 98): 100%|██████████| 20/20 [00:09<00:00,  2.10it/s]\n",
      "Generating predictions [Vienna] (area_id: 98): 100%|██████████| 20/20 [00:08<00:00,  2.41it/s]\n",
      "Generating predictions [Warsaw] (area_id: 98): 100%|██████████| 20/20 [00:10<00:00,  1.94it/s]\n",
      "Generating predictions [Wrocław] (area_id: 98): 100%|██████████| 20/20 [00:07<00:00,  2.51it/s]\n",
      "Generating predictions [Zaragoza] (area_id: 98): 100%|██████████| 20/20 [00:08<00:00,  2.40it/s]\n",
      "Generating predictions [Zurich] (area_id: 98): 100%|██████████| 20/20 [00:09<00:00,  2.14it/s]\n",
      "97 vectors: 466834it [00:20, 22993.40it/s]\n",
      "97 labels: 0it [00:00, ?it/s]\n",
      "Loading prediction hexes: 466834it [00:15, 30168.54it/s]\n",
      "Generating predictions [Antwerpen] (area_id: 97): 100%|██████████| 20/20 [00:05<00:00,  3.43it/s]\n",
      "Generating predictions [Barcelona] (area_id: 97): 100%|██████████| 20/20 [00:06<00:00,  3.33it/s]\n",
      "Generating predictions [Berlin] (area_id: 97): 100%|██████████| 20/20 [00:06<00:00,  3.14it/s]\n",
      "Generating predictions [Bern] (area_id: 97): 100%|██████████| 20/20 [00:05<00:00,  3.52it/s]\n",
      "Generating predictions [Bordeaux] (area_id: 97): 100%|██████████| 20/20 [00:05<00:00,  3.55it/s]\n",
      "Generating predictions [Brno] (area_id: 97): 100%|██████████| 20/20 [00:05<00:00,  3.37it/s]\n",
      "Generating predictions [Bruxelles] (area_id: 97): 100%|██████████| 20/20 [00:06<00:00,  3.00it/s]\n",
      "Generating predictions [Budapest] (area_id: 97): 100%|██████████| 20/20 [00:05<00:00,  3.49it/s]\n",
      "Generating predictions [Cardiff] (area_id: 97): 100%|██████████| 20/20 [00:03<00:00,  5.16it/s]\n",
      "Generating predictions [Dublin] (area_id: 97): 100%|██████████| 20/20 [00:06<00:00,  3.25it/s]\n",
      "Generating predictions [Gothenburg] (area_id: 97): 100%|██████████| 20/20 [00:05<00:00,  3.62it/s]\n",
      "Generating predictions [Helsinki] (area_id: 97): 100%|██████████| 20/20 [00:06<00:00,  3.11it/s]\n",
      "Generating predictions [Kyiv] (area_id: 97): 100%|██████████| 20/20 [00:06<00:00,  3.29it/s]\n",
      "Generating predictions [London] (area_id: 97): 100%|██████████| 20/20 [00:06<00:00,  3.13it/s]\n",
      "Generating predictions [Lyon] (area_id: 97): 100%|██████████| 20/20 [00:06<00:00,  3.13it/s]\n",
      "Generating predictions [Madrid] (area_id: 97): 100%|██████████| 20/20 [00:06<00:00,  3.20it/s]\n",
      "Generating predictions [Marseille] (area_id: 97): 100%|██████████| 20/20 [00:05<00:00,  3.35it/s]\n",
      "Generating predictions [Milan] (area_id: 97): 100%|██████████| 20/20 [00:06<00:00,  3.06it/s]\n",
      "Generating predictions [Moscow] (area_id: 97): 100%|██████████| 20/20 [00:06<00:00,  2.93it/s]\n",
      "Generating predictions [Munich] (area_id: 97): 100%|██████████| 20/20 [00:06<00:00,  3.05it/s]\n",
      "Generating predictions [Nantes] (area_id: 97): 100%|██████████| 20/20 [00:04<00:00,  4.10it/s]\n",
      "Generating predictions [Oslo] (area_id: 97): 100%|██████████| 20/20 [00:06<00:00,  3.11it/s]\n",
      "Generating predictions [Ostrava] (area_id: 97): 100%|██████████| 20/20 [00:06<00:00,  3.00it/s]\n",
      "Generating predictions [Paris] (area_id: 97): 100%|██████████| 20/20 [00:06<00:00,  2.98it/s]\n",
      "Generating predictions [Poznań] (area_id: 97): 100%|██████████| 20/20 [00:05<00:00,  3.59it/s]\n",
      "Generating predictions [Prague] (area_id: 97): 100%|██████████| 20/20 [00:06<00:00,  3.07it/s]\n",
      "Generating predictions [Seville] (area_id: 97): 100%|██████████| 20/20 [00:06<00:00,  3.20it/s]\n",
      "Generating predictions [Toulouse] (area_id: 97): 100%|██████████| 20/20 [00:06<00:00,  3.08it/s]\n",
      "Generating predictions [Valencia] (area_id: 97): 100%|██████████| 20/20 [00:05<00:00,  3.41it/s]\n",
      "Generating predictions [Vienna] (area_id: 97): 100%|██████████| 20/20 [00:05<00:00,  3.79it/s]\n",
      "Generating predictions [Warsaw] (area_id: 97): 100%|██████████| 20/20 [00:06<00:00,  2.97it/s]\n",
      "Generating predictions [Wrocław] (area_id: 97): 100%|██████████| 20/20 [00:05<00:00,  3.91it/s]\n",
      "Generating predictions [Zaragoza] (area_id: 97): 100%|██████████| 20/20 [00:05<00:00,  3.79it/s]\n",
      "Generating predictions [Zurich] (area_id: 97): 100%|██████████| 20/20 [00:06<00:00,  3.33it/s]\n",
      "96 vectors: 648738it [00:28, 22500.47it/s]\n",
      "96 labels: 0it [00:00, ?it/s]\n",
      "Loading prediction hexes: 648738it [00:21, 29755.07it/s]\n",
      "Generating predictions [Antwerpen] (area_id: 96): 100%|██████████| 20/20 [00:07<00:00,  2.55it/s]\n",
      "Generating predictions [Barcelona] (area_id: 96): 100%|██████████| 20/20 [00:08<00:00,  2.47it/s]\n",
      "Generating predictions [Berlin] (area_id: 96): 100%|██████████| 20/20 [00:08<00:00,  2.37it/s]\n",
      "Generating predictions [Bern] (area_id: 96): 100%|██████████| 20/20 [00:07<00:00,  2.61it/s]\n",
      "Generating predictions [Bordeaux] (area_id: 96): 100%|██████████| 20/20 [00:07<00:00,  2.58it/s]\n",
      "Generating predictions [Brno] (area_id: 96): 100%|██████████| 20/20 [00:08<00:00,  2.49it/s]\n",
      "Generating predictions [Bruxelles] (area_id: 96): 100%|██████████| 20/20 [00:08<00:00,  2.23it/s]\n",
      "Generating predictions [Budapest] (area_id: 96): 100%|██████████| 20/20 [00:07<00:00,  2.52it/s]\n",
      "Generating predictions [Cardiff] (area_id: 96): 100%|██████████| 20/20 [00:05<00:00,  3.70it/s]\n",
      "Generating predictions [Dublin] (area_id: 96): 100%|██████████| 20/20 [00:08<00:00,  2.46it/s]\n",
      "Generating predictions [Gothenburg] (area_id: 96): 100%|██████████| 20/20 [00:07<00:00,  2.57it/s]\n",
      "Generating predictions [Helsinki] (area_id: 96): 100%|██████████| 20/20 [00:09<00:00,  2.21it/s]\n",
      "Generating predictions [Kyiv] (area_id: 96): 100%|██████████| 20/20 [00:08<00:00,  2.46it/s]\n",
      "Generating predictions [London] (area_id: 96): 100%|██████████| 20/20 [00:08<00:00,  2.32it/s]\n",
      "Generating predictions [Lyon] (area_id: 96): 100%|██████████| 20/20 [00:08<00:00,  2.34it/s]\n",
      "Generating predictions [Madrid] (area_id: 96): 100%|██████████| 20/20 [00:08<00:00,  2.45it/s]\n",
      "Generating predictions [Marseille] (area_id: 96): 100%|██████████| 20/20 [00:08<00:00,  2.46it/s]\n",
      "Generating predictions [Milan] (area_id: 96): 100%|██████████| 20/20 [00:08<00:00,  2.25it/s]\n",
      "Generating predictions [Moscow] (area_id: 96): 100%|██████████| 20/20 [00:08<00:00,  2.24it/s]\n",
      "Generating predictions [Munich] (area_id: 96): 100%|██████████| 20/20 [00:08<00:00,  2.26it/s]\n",
      "Generating predictions [Nantes] (area_id: 96): 100%|██████████| 20/20 [00:06<00:00,  2.98it/s]\n",
      "Generating predictions [Oslo] (area_id: 96): 100%|██████████| 20/20 [00:08<00:00,  2.31it/s]\n",
      "Generating predictions [Ostrava] (area_id: 96): 100%|██████████| 20/20 [00:09<00:00,  2.19it/s]\n",
      "Generating predictions [Paris] (area_id: 96): 100%|██████████| 20/20 [00:08<00:00,  2.24it/s]\n",
      "Generating predictions [Poznań] (area_id: 96): 100%|██████████| 20/20 [00:07<00:00,  2.62it/s]\n",
      "Generating predictions [Prague] (area_id: 96): 100%|██████████| 20/20 [00:08<00:00,  2.28it/s]\n",
      "Generating predictions [Seville] (area_id: 96): 100%|██████████| 20/20 [00:08<00:00,  2.42it/s]\n",
      "Generating predictions [Toulouse] (area_id: 96): 100%|██████████| 20/20 [00:09<00:00,  2.22it/s]\n",
      "Generating predictions [Valencia] (area_id: 96): 100%|██████████| 20/20 [00:08<00:00,  2.40it/s]\n",
      "Generating predictions [Vienna] (area_id: 96): 100%|██████████| 20/20 [00:07<00:00,  2.71it/s]\n",
      "Generating predictions [Warsaw] (area_id: 96): 100%|██████████| 20/20 [00:07<00:00,  2.75it/s]\n",
      "Generating predictions [Wrocław] (area_id: 96): 100%|██████████| 20/20 [00:05<00:00,  3.37it/s]\n",
      "Generating predictions [Zaragoza] (area_id: 96): 100%|██████████| 20/20 [00:06<00:00,  3.33it/s]\n",
      "Generating predictions [Zurich] (area_id: 96): 100%|██████████| 20/20 [00:06<00:00,  2.99it/s]\n",
      "95 vectors: 24929it [00:01, 24768.58it/s]\n",
      "95 labels: 0it [00:00, ?it/s]\n",
      "Loading prediction hexes: 24929it [00:00, 38208.55it/s]\n",
      "Generating predictions [Antwerpen] (area_id: 95): 100%|██████████| 20/20 [00:00<00:00, 32.03it/s]\n",
      "Generating predictions [Barcelona] (area_id: 95): 100%|██████████| 20/20 [00:00<00:00, 23.58it/s]\n",
      "Generating predictions [Berlin] (area_id: 95): 100%|██████████| 20/20 [00:00<00:00, 26.19it/s]\n",
      "Generating predictions [Bern] (area_id: 95): 100%|██████████| 20/20 [00:00<00:00, 22.17it/s]\n",
      "Generating predictions [Bordeaux] (area_id: 95): 100%|██████████| 20/20 [00:00<00:00, 21.16it/s]\n",
      "Generating predictions [Brno] (area_id: 95): 100%|██████████| 20/20 [00:00<00:00, 26.84it/s]\n",
      "Generating predictions [Bruxelles] (area_id: 95): 100%|██████████| 20/20 [00:00<00:00, 24.93it/s]\n",
      "Generating predictions [Budapest] (area_id: 95): 100%|██████████| 20/20 [00:00<00:00, 27.31it/s]\n",
      "Generating predictions [Cardiff] (area_id: 95): 100%|██████████| 20/20 [00:00<00:00, 29.37it/s]\n",
      "Generating predictions [Dublin] (area_id: 95): 100%|██████████| 20/20 [00:00<00:00, 23.01it/s]\n",
      "Generating predictions [Gothenburg] (area_id: 95): 100%|██████████| 20/20 [00:00<00:00, 28.22it/s]\n",
      "Generating predictions [Helsinki] (area_id: 95): 100%|██████████| 20/20 [00:01<00:00, 19.71it/s]\n",
      "Generating predictions [Kyiv] (area_id: 95): 100%|██████████| 20/20 [00:00<00:00, 22.79it/s]\n",
      "Generating predictions [London] (area_id: 95): 100%|██████████| 20/20 [00:01<00:00, 18.08it/s]\n",
      "Generating predictions [Lyon] (area_id: 95): 100%|██████████| 20/20 [00:00<00:00, 23.94it/s]\n",
      "Generating predictions [Madrid] (area_id: 95): 100%|██████████| 20/20 [00:00<00:00, 25.91it/s]\n",
      "Generating predictions [Marseille] (area_id: 95): 100%|██████████| 20/20 [00:00<00:00, 28.25it/s]\n",
      "Generating predictions [Milan] (area_id: 95): 100%|██████████| 20/20 [00:00<00:00, 26.70it/s]\n",
      "Generating predictions [Moscow] (area_id: 95): 100%|██████████| 20/20 [00:00<00:00, 22.30it/s]\n",
      "Generating predictions [Munich] (area_id: 95): 100%|██████████| 20/20 [00:00<00:00, 24.30it/s]\n",
      "Generating predictions [Nantes] (area_id: 95): 100%|██████████| 20/20 [00:00<00:00, 33.33it/s]\n",
      "Generating predictions [Oslo] (area_id: 95): 100%|██████████| 20/20 [00:00<00:00, 25.15it/s]\n",
      "Generating predictions [Ostrava] (area_id: 95): 100%|██████████| 20/20 [00:00<00:00, 26.71it/s]\n",
      "Generating predictions [Paris] (area_id: 95): 100%|██████████| 20/20 [00:00<00:00, 22.87it/s]\n",
      "Generating predictions [Poznań] (area_id: 95): 100%|██████████| 20/20 [00:00<00:00, 28.14it/s]\n",
      "Generating predictions [Prague] (area_id: 95): 100%|██████████| 20/20 [00:00<00:00, 25.85it/s]\n",
      "Generating predictions [Seville] (area_id: 95): 100%|██████████| 20/20 [00:00<00:00, 27.74it/s]\n",
      "Generating predictions [Toulouse] (area_id: 95): 100%|██████████| 20/20 [00:00<00:00, 24.69it/s]\n",
      "Generating predictions [Valencia] (area_id: 95): 100%|██████████| 20/20 [00:00<00:00, 22.17it/s]\n",
      "Generating predictions [Vienna] (area_id: 95): 100%|██████████| 20/20 [00:00<00:00, 26.59it/s]\n",
      "Generating predictions [Warsaw] (area_id: 95): 100%|██████████| 20/20 [00:00<00:00, 22.55it/s]\n",
      "Generating predictions [Wrocław] (area_id: 95): 100%|██████████| 20/20 [00:00<00:00, 26.08it/s]\n",
      "Generating predictions [Zaragoza] (area_id: 95): 100%|██████████| 20/20 [00:00<00:00, 30.77it/s]\n",
      "Generating predictions [Zurich] (area_id: 95): 100%|██████████| 20/20 [00:00<00:00, 25.35it/s]\n",
      "94 vectors: 617663it [00:24, 25728.73it/s]\n",
      "94 labels: 0it [00:00, ?it/s]\n",
      "Loading prediction hexes: 617663it [00:17, 34996.45it/s]\n",
      "Generating predictions [Antwerpen] (area_id: 94): 100%|██████████| 20/20 [00:06<00:00,  3.23it/s]\n",
      "Generating predictions [Barcelona] (area_id: 94): 100%|██████████| 20/20 [00:06<00:00,  3.09it/s]\n",
      "Generating predictions [Berlin] (area_id: 94): 100%|██████████| 20/20 [00:06<00:00,  2.92it/s]\n",
      "Generating predictions [Bern] (area_id: 94): 100%|██████████| 20/20 [00:06<00:00,  3.26it/s]\n",
      "Generating predictions [Bordeaux] (area_id: 94): 100%|██████████| 20/20 [00:07<00:00,  2.62it/s]\n",
      "Generating predictions [Brno] (area_id: 94): 100%|██████████| 20/20 [00:06<00:00,  3.16it/s]\n",
      "Generating predictions [Bruxelles] (area_id: 94): 100%|██████████| 20/20 [00:06<00:00,  2.87it/s]\n",
      "Generating predictions [Budapest] (area_id: 94): 100%|██████████| 20/20 [00:06<00:00,  3.06it/s]\n",
      "Generating predictions [Cardiff] (area_id: 94): 100%|██████████| 20/20 [00:03<00:00,  5.30it/s]\n",
      "Generating predictions [Dublin] (area_id: 94): 100%|██████████| 20/20 [00:06<00:00,  3.16it/s]\n",
      "Generating predictions [Gothenburg] (area_id: 94): 100%|██████████| 20/20 [00:06<00:00,  3.26it/s]\n",
      "Generating predictions [Helsinki] (area_id: 94): 100%|██████████| 20/20 [00:07<00:00,  2.72it/s]\n",
      "Generating predictions [Kyiv] (area_id: 94): 100%|██████████| 20/20 [00:06<00:00,  3.08it/s]\n",
      "Generating predictions [London] (area_id: 94): 100%|██████████| 20/20 [00:06<00:00,  3.10it/s]\n",
      "Generating predictions [Lyon] (area_id: 94): 100%|██████████| 20/20 [00:07<00:00,  2.81it/s]\n",
      "Generating predictions [Madrid] (area_id: 94): 100%|██████████| 20/20 [00:08<00:00,  2.48it/s]\n",
      "Generating predictions [Marseille] (area_id: 94): 100%|██████████| 20/20 [00:06<00:00,  3.15it/s]\n",
      "Generating predictions [Milan] (area_id: 94): 100%|██████████| 20/20 [00:07<00:00,  2.78it/s]\n",
      "Generating predictions [Moscow] (area_id: 94): 100%|██████████| 20/20 [00:07<00:00,  2.69it/s]\n",
      "Generating predictions [Munich] (area_id: 94): 100%|██████████| 20/20 [00:07<00:00,  2.57it/s]\n",
      "Generating predictions [Nantes] (area_id: 94): 100%|██████████| 20/20 [00:05<00:00,  3.59it/s]\n",
      "Generating predictions [Oslo] (area_id: 94): 100%|██████████| 20/20 [00:07<00:00,  2.79it/s]\n",
      "Generating predictions [Ostrava] (area_id: 94): 100%|██████████| 20/20 [00:09<00:00,  2.21it/s]\n",
      "Generating predictions [Paris] (area_id: 94): 100%|██████████| 20/20 [00:07<00:00,  2.77it/s]\n",
      "Generating predictions [Poznań] (area_id: 94): 100%|██████████| 20/20 [00:06<00:00,  3.23it/s]\n",
      "Generating predictions [Prague] (area_id: 94): 100%|██████████| 20/20 [00:08<00:00,  2.36it/s]\n",
      "Generating predictions [Seville] (area_id: 94): 100%|██████████| 20/20 [00:06<00:00,  3.09it/s]\n",
      "Generating predictions [Toulouse] (area_id: 94): 100%|██████████| 20/20 [00:06<00:00,  3.06it/s]\n",
      "Generating predictions [Valencia] (area_id: 94): 100%|██████████| 20/20 [00:06<00:00,  2.94it/s]\n",
      "Generating predictions [Vienna] (area_id: 94): 100%|██████████| 20/20 [00:05<00:00,  3.97it/s]\n",
      "Generating predictions [Warsaw] (area_id: 94): 100%|██████████| 20/20 [00:06<00:00,  3.02it/s]\n",
      "Generating predictions [Wrocław] (area_id: 94): 100%|██████████| 20/20 [00:05<00:00,  3.82it/s]\n",
      "Generating predictions [Zaragoza] (area_id: 94): 100%|██████████| 20/20 [00:06<00:00,  3.22it/s]\n",
      "Generating predictions [Zurich] (area_id: 94): 100%|██████████| 20/20 [00:07<00:00,  2.61it/s]\n",
      "93 vectors: 200115it [00:07, 26937.05it/s]\n",
      "93 labels: 0it [00:00, ?it/s]\n",
      "Loading prediction hexes: 200115it [00:05, 33580.33it/s]\n",
      "Generating predictions [Antwerpen] (area_id: 93): 100%|██████████| 20/20 [00:03<00:00,  6.15it/s]\n",
      "Generating predictions [Barcelona] (area_id: 93): 100%|██████████| 20/20 [00:03<00:00,  5.07it/s]\n",
      "Generating predictions [Berlin] (area_id: 93): 100%|██████████| 20/20 [00:03<00:00,  5.65it/s]\n",
      "Generating predictions [Bern] (area_id: 93): 100%|██████████| 20/20 [00:03<00:00,  6.34it/s]\n",
      "Generating predictions [Bordeaux] (area_id: 93): 100%|██████████| 20/20 [00:03<00:00,  6.65it/s]\n",
      "Generating predictions [Brno] (area_id: 93): 100%|██████████| 20/20 [00:03<00:00,  6.20it/s]\n",
      "Generating predictions [Bruxelles] (area_id: 93): 100%|██████████| 20/20 [00:03<00:00,  5.53it/s]\n",
      "Generating predictions [Budapest] (area_id: 93): 100%|██████████| 20/20 [00:03<00:00,  6.53it/s]\n",
      "Generating predictions [Cardiff] (area_id: 93): 100%|██████████| 20/20 [00:02<00:00,  8.46it/s]\n",
      "Generating predictions [Dublin] (area_id: 93): 100%|██████████| 20/20 [00:03<00:00,  6.29it/s]\n",
      "Generating predictions [Gothenburg] (area_id: 93): 100%|██████████| 20/20 [00:03<00:00,  6.40it/s]\n",
      "Generating predictions [Helsinki] (area_id: 93): 100%|██████████| 20/20 [00:03<00:00,  5.65it/s]\n",
      "Generating predictions [Kyiv] (area_id: 93): 100%|██████████| 20/20 [00:03<00:00,  6.11it/s]\n",
      "Generating predictions [London] (area_id: 93): 100%|██████████| 20/20 [00:03<00:00,  5.79it/s]\n",
      "Generating predictions [Lyon] (area_id: 93): 100%|██████████| 20/20 [00:03<00:00,  5.96it/s]\n",
      "Generating predictions [Madrid] (area_id: 93): 100%|██████████| 20/20 [00:03<00:00,  5.99it/s]\n",
      "Generating predictions [Marseille] (area_id: 93): 100%|██████████| 20/20 [00:03<00:00,  6.34it/s]\n",
      "Generating predictions [Milan] (area_id: 93): 100%|██████████| 20/20 [00:03<00:00,  5.58it/s]\n",
      "Generating predictions [Moscow] (area_id: 93): 100%|██████████| 20/20 [00:03<00:00,  5.64it/s]\n",
      "Generating predictions [Munich] (area_id: 93): 100%|██████████| 20/20 [00:03<00:00,  5.54it/s]\n",
      "Generating predictions [Nantes] (area_id: 93): 100%|██████████| 20/20 [00:02<00:00,  6.95it/s]\n",
      "Generating predictions [Oslo] (area_id: 93): 100%|██████████| 20/20 [00:03<00:00,  5.87it/s]\n",
      "Generating predictions [Ostrava] (area_id: 93): 100%|██████████| 20/20 [00:03<00:00,  5.82it/s]\n",
      "Generating predictions [Paris] (area_id: 93): 100%|██████████| 20/20 [00:03<00:00,  5.81it/s]\n",
      "Generating predictions [Poznań] (area_id: 93): 100%|██████████| 20/20 [00:03<00:00,  5.85it/s]\n",
      "Generating predictions [Prague] (area_id: 93): 100%|██████████| 20/20 [00:03<00:00,  5.83it/s]\n",
      "Generating predictions [Seville] (area_id: 93): 100%|██████████| 20/20 [00:03<00:00,  6.02it/s]\n",
      "Generating predictions [Toulouse] (area_id: 93): 100%|██████████| 20/20 [00:03<00:00,  5.60it/s]\n",
      "Generating predictions [Valencia] (area_id: 93): 100%|██████████| 20/20 [00:03<00:00,  6.04it/s]\n",
      "Generating predictions [Vienna] (area_id: 93): 100%|██████████| 20/20 [00:02<00:00,  7.12it/s]\n",
      "Generating predictions [Warsaw] (area_id: 93): 100%|██████████| 20/20 [00:03<00:00,  5.72it/s]\n",
      "Generating predictions [Wrocław] (area_id: 93): 100%|██████████| 20/20 [00:03<00:00,  6.57it/s]\n",
      "Generating predictions [Zaragoza] (area_id: 93): 100%|██████████| 20/20 [00:02<00:00,  6.94it/s]\n",
      "Generating predictions [Zurich] (area_id: 93): 100%|██████████| 20/20 [00:03<00:00,  5.95it/s]\n",
      "92 vectors: 120722it [00:05, 21886.93it/s]\n",
      "92 labels: 0it [00:00, ?it/s]\n",
      "Loading prediction hexes: 120722it [00:03, 30630.58it/s]\n",
      "Generating predictions [Antwerpen] (area_id: 92): 100%|██████████| 20/20 [00:02<00:00,  9.69it/s]\n",
      "Generating predictions [Barcelona] (area_id: 92): 100%|██████████| 20/20 [00:02<00:00,  8.19it/s]\n",
      "Generating predictions [Berlin] (area_id: 92): 100%|██████████| 20/20 [00:02<00:00,  8.25it/s]\n",
      "Generating predictions [Bern] (area_id: 92): 100%|██████████| 20/20 [00:02<00:00,  9.49it/s]\n",
      "Generating predictions [Bordeaux] (area_id: 92): 100%|██████████| 20/20 [00:02<00:00,  9.35it/s]\n",
      "Generating predictions [Brno] (area_id: 92): 100%|██████████| 20/20 [00:02<00:00,  8.85it/s]\n",
      "Generating predictions [Bruxelles] (area_id: 92): 100%|██████████| 20/20 [00:02<00:00,  8.16it/s]\n",
      "Generating predictions [Budapest] (area_id: 92): 100%|██████████| 20/20 [00:02<00:00,  9.18it/s]\n",
      "Generating predictions [Cardiff] (area_id: 92): 100%|██████████| 20/20 [00:01<00:00, 11.52it/s]\n",
      "Generating predictions [Dublin] (area_id: 92): 100%|██████████| 20/20 [00:02<00:00,  8.49it/s]\n",
      "Generating predictions [Gothenburg] (area_id: 92): 100%|██████████| 20/20 [00:02<00:00,  9.36it/s]\n",
      "Generating predictions [Helsinki] (area_id: 92): 100%|██████████| 20/20 [00:02<00:00,  8.22it/s]\n",
      "Generating predictions [Kyiv] (area_id: 92): 100%|██████████| 20/20 [00:02<00:00,  8.71it/s]\n",
      "Generating predictions [London] (area_id: 92): 100%|██████████| 20/20 [00:02<00:00,  7.89it/s]\n",
      "Generating predictions [Lyon] (area_id: 92): 100%|██████████| 20/20 [00:02<00:00,  8.14it/s]\n",
      "Generating predictions [Madrid] (area_id: 92): 100%|██████████| 20/20 [00:02<00:00,  8.00it/s]\n",
      "Generating predictions [Marseille] (area_id: 92): 100%|██████████| 20/20 [00:02<00:00,  8.45it/s]\n",
      "Generating predictions [Milan] (area_id: 92): 100%|██████████| 20/20 [00:02<00:00,  8.41it/s]\n",
      "Generating predictions [Moscow] (area_id: 92): 100%|██████████| 20/20 [00:02<00:00,  7.91it/s]\n",
      "Generating predictions [Munich] (area_id: 92): 100%|██████████| 20/20 [00:02<00:00,  8.21it/s]\n",
      "Generating predictions [Nantes] (area_id: 92): 100%|██████████| 20/20 [00:01<00:00, 10.76it/s]\n",
      "Generating predictions [Oslo] (area_id: 92): 100%|██████████| 20/20 [00:02<00:00,  8.57it/s]\n",
      "Generating predictions [Ostrava] (area_id: 92): 100%|██████████| 20/20 [00:02<00:00,  7.89it/s]\n",
      "Generating predictions [Paris] (area_id: 92): 100%|██████████| 20/20 [00:02<00:00,  7.99it/s]\n",
      "Generating predictions [Poznań] (area_id: 92): 100%|██████████| 20/20 [00:02<00:00,  8.17it/s]\n",
      "Generating predictions [Prague] (area_id: 92): 100%|██████████| 20/20 [00:02<00:00,  7.85it/s]\n",
      "Generating predictions [Seville] (area_id: 92): 100%|██████████| 20/20 [00:02<00:00,  8.57it/s]\n",
      "Generating predictions [Toulouse] (area_id: 92): 100%|██████████| 20/20 [00:02<00:00,  8.15it/s]\n",
      "Generating predictions [Valencia] (area_id: 92): 100%|██████████| 20/20 [00:02<00:00,  8.42it/s]\n",
      "Generating predictions [Vienna] (area_id: 92): 100%|██████████| 20/20 [00:01<00:00, 10.77it/s]\n",
      "Generating predictions [Warsaw] (area_id: 92): 100%|██████████| 20/20 [00:02<00:00,  8.20it/s]\n",
      "Generating predictions [Wrocław] (area_id: 92): 100%|██████████| 20/20 [00:01<00:00, 10.64it/s]\n",
      "Generating predictions [Zaragoza] (area_id: 92): 100%|██████████| 20/20 [00:01<00:00, 10.47it/s]\n",
      "Generating predictions [Zurich] (area_id: 92): 100%|██████████| 20/20 [00:02<00:00,  8.25it/s]\n",
      "91 vectors: 46503it [00:02, 21517.71it/s]\n",
      "91 labels: 0it [00:00, ?it/s]\n",
      "Loading prediction hexes: 46503it [00:01, 31177.22it/s]\n",
      "Generating predictions [Antwerpen] (area_id: 91): 100%|██████████| 20/20 [00:01<00:00, 16.45it/s]\n",
      "Generating predictions [Barcelona] (area_id: 91): 100%|██████████| 20/20 [00:01<00:00, 14.38it/s]\n",
      "Generating predictions [Berlin] (area_id: 91): 100%|██████████| 20/20 [00:01<00:00, 14.64it/s]\n",
      "Generating predictions [Bern] (area_id: 91): 100%|██████████| 20/20 [00:01<00:00, 15.67it/s]\n",
      "Generating predictions [Bordeaux] (area_id: 91): 100%|██████████| 20/20 [00:01<00:00, 15.31it/s]\n",
      "Generating predictions [Brno] (area_id: 91): 100%|██████████| 20/20 [00:01<00:00, 16.35it/s]\n",
      "Generating predictions [Bruxelles] (area_id: 91): 100%|██████████| 20/20 [00:01<00:00, 12.83it/s]\n",
      "Generating predictions [Budapest] (area_id: 91): 100%|██████████| 20/20 [00:01<00:00, 15.89it/s]\n",
      "Generating predictions [Cardiff] (area_id: 91): 100%|██████████| 20/20 [00:00<00:00, 20.57it/s]\n",
      "Generating predictions [Dublin] (area_id: 91): 100%|██████████| 20/20 [00:01<00:00, 14.96it/s]\n",
      "Generating predictions [Gothenburg] (area_id: 91): 100%|██████████| 20/20 [00:01<00:00, 15.95it/s]\n",
      "Generating predictions [Helsinki] (area_id: 91): 100%|██████████| 20/20 [00:01<00:00, 14.38it/s]\n",
      "Generating predictions [Kyiv] (area_id: 91): 100%|██████████| 20/20 [00:01<00:00, 16.18it/s]\n",
      "Generating predictions [London] (area_id: 91): 100%|██████████| 20/20 [00:01<00:00, 13.52it/s]\n",
      "Generating predictions [Lyon] (area_id: 91): 100%|██████████| 20/20 [00:01<00:00, 13.37it/s]\n",
      "Generating predictions [Madrid] (area_id: 91): 100%|██████████| 20/20 [00:01<00:00, 15.09it/s]\n",
      "Generating predictions [Marseille] (area_id: 91): 100%|██████████| 20/20 [00:01<00:00, 14.29it/s]\n",
      "Generating predictions [Milan] (area_id: 91): 100%|██████████| 20/20 [00:01<00:00, 13.82it/s]\n",
      "Generating predictions [Moscow] (area_id: 91): 100%|██████████| 20/20 [00:01<00:00, 14.09it/s]\n",
      "Generating predictions [Munich] (area_id: 91): 100%|██████████| 20/20 [00:01<00:00, 14.45it/s]\n",
      "Generating predictions [Nantes] (area_id: 91): 100%|██████████| 20/20 [00:01<00:00, 17.94it/s]\n",
      "Generating predictions [Oslo] (area_id: 91): 100%|██████████| 20/20 [00:01<00:00, 14.81it/s]\n",
      "Generating predictions [Ostrava] (area_id: 91): 100%|██████████| 20/20 [00:01<00:00, 14.63it/s]\n",
      "Generating predictions [Paris] (area_id: 91): 100%|██████████| 20/20 [00:01<00:00, 12.61it/s]\n",
      "Generating predictions [Poznań] (area_id: 91): 100%|██████████| 20/20 [00:01<00:00, 15.16it/s]\n",
      "Generating predictions [Prague] (area_id: 91): 100%|██████████| 20/20 [00:01<00:00, 14.35it/s]\n",
      "Generating predictions [Seville] (area_id: 91): 100%|██████████| 20/20 [00:01<00:00, 14.54it/s]\n",
      "Generating predictions [Toulouse] (area_id: 91): 100%|██████████| 20/20 [00:01<00:00, 13.40it/s]\n",
      "Generating predictions [Valencia] (area_id: 91): 100%|██████████| 20/20 [00:01<00:00, 15.30it/s]\n",
      "Generating predictions [Vienna] (area_id: 91): 100%|██████████| 20/20 [00:01<00:00, 16.04it/s]\n",
      "Generating predictions [Warsaw] (area_id: 91): 100%|██████████| 20/20 [00:01<00:00, 13.92it/s]\n",
      "Generating predictions [Wrocław] (area_id: 91): 100%|██████████| 20/20 [00:01<00:00, 16.05it/s]\n",
      "Generating predictions [Zaragoza] (area_id: 91): 100%|██████████| 20/20 [00:01<00:00, 16.06it/s]\n",
      "Generating predictions [Zurich] (area_id: 91): 100%|██████████| 20/20 [00:01<00:00, 15.31it/s]\n",
      "90 vectors: 66345it [00:03, 21651.19it/s]\n",
      "90 labels: 0it [00:00, ?it/s]\n",
      "Loading prediction hexes: 66345it [00:02, 28528.95it/s]\n",
      "Generating predictions [Antwerpen] (area_id: 90): 100%|██████████| 20/20 [00:01<00:00, 12.94it/s]\n",
      "Generating predictions [Barcelona] (area_id: 90): 100%|██████████| 20/20 [00:01<00:00, 12.07it/s]\n",
      "Generating predictions [Berlin] (area_id: 90): 100%|██████████| 20/20 [00:01<00:00, 12.26it/s]\n",
      "Generating predictions [Bern] (area_id: 90): 100%|██████████| 20/20 [00:01<00:00, 11.93it/s]\n",
      "Generating predictions [Bordeaux] (area_id: 90): 100%|██████████| 20/20 [00:01<00:00, 13.51it/s]\n",
      "Generating predictions [Brno] (area_id: 90): 100%|██████████| 20/20 [00:01<00:00, 13.58it/s]\n",
      "Generating predictions [Bruxelles] (area_id: 90): 100%|██████████| 20/20 [00:01<00:00, 10.81it/s]\n",
      "Generating predictions [Budapest] (area_id: 90): 100%|██████████| 20/20 [00:01<00:00, 12.66it/s]\n",
      "Generating predictions [Cardiff] (area_id: 90): 100%|██████████| 20/20 [00:01<00:00, 15.94it/s]\n",
      "Generating predictions [Dublin] (area_id: 90): 100%|██████████| 20/20 [00:01<00:00, 12.61it/s]\n",
      "Generating predictions [Gothenburg] (area_id: 90): 100%|██████████| 20/20 [00:01<00:00, 14.21it/s]\n",
      "Generating predictions [Helsinki] (area_id: 90): 100%|██████████| 20/20 [00:01<00:00, 11.72it/s]\n",
      "Generating predictions [Kyiv] (area_id: 90): 100%|██████████| 20/20 [00:01<00:00, 13.73it/s]\n",
      "Generating predictions [London] (area_id: 90): 100%|██████████| 20/20 [00:01<00:00, 11.62it/s]\n",
      "Generating predictions [Lyon] (area_id: 90): 100%|██████████| 20/20 [00:01<00:00, 12.36it/s]\n",
      "Generating predictions [Madrid] (area_id: 90): 100%|██████████| 20/20 [00:01<00:00, 12.31it/s]\n",
      "Generating predictions [Marseille] (area_id: 90): 100%|██████████| 20/20 [00:01<00:00, 12.81it/s]\n",
      "Generating predictions [Milan] (area_id: 90): 100%|██████████| 20/20 [00:01<00:00, 10.72it/s]\n",
      "Generating predictions [Moscow] (area_id: 90): 100%|██████████| 20/20 [00:01<00:00, 11.45it/s]\n",
      "Generating predictions [Munich] (area_id: 90): 100%|██████████| 20/20 [00:01<00:00, 11.90it/s]\n",
      "Generating predictions [Nantes] (area_id: 90): 100%|██████████| 20/20 [00:01<00:00, 12.06it/s]\n",
      "Generating predictions [Oslo] (area_id: 90): 100%|██████████| 20/20 [00:01<00:00, 12.28it/s]\n",
      "Generating predictions [Ostrava] (area_id: 90): 100%|██████████| 20/20 [00:01<00:00, 12.32it/s]\n",
      "Generating predictions [Paris] (area_id: 90): 100%|██████████| 20/20 [00:01<00:00, 11.71it/s]\n",
      "Generating predictions [Poznań] (area_id: 90): 100%|██████████| 20/20 [00:01<00:00, 13.12it/s]\n",
      "Generating predictions [Prague] (area_id: 90): 100%|██████████| 20/20 [00:01<00:00, 12.40it/s]\n",
      "Generating predictions [Seville] (area_id: 90): 100%|██████████| 20/20 [00:01<00:00, 12.53it/s]\n",
      "Generating predictions [Toulouse] (area_id: 90): 100%|██████████| 20/20 [00:01<00:00, 11.67it/s]\n",
      "Generating predictions [Valencia] (area_id: 90): 100%|██████████| 20/20 [00:01<00:00, 12.63it/s]\n",
      "Generating predictions [Vienna] (area_id: 90): 100%|██████████| 20/20 [00:01<00:00, 13.56it/s]\n",
      "Generating predictions [Warsaw] (area_id: 90): 100%|██████████| 20/20 [00:01<00:00, 12.11it/s]\n",
      "Generating predictions [Wrocław] (area_id: 90): 100%|██████████| 20/20 [00:01<00:00, 13.44it/s]\n",
      "Generating predictions [Zaragoza] (area_id: 90): 100%|██████████| 20/20 [00:01<00:00, 14.00it/s]\n",
      "Generating predictions [Zurich] (area_id: 90): 100%|██████████| 20/20 [00:01<00:00, 12.64it/s]\n",
      "89 vectors: 351454it [00:15, 22135.97it/s]\n",
      "89 labels: 0it [00:00, ?it/s]\n",
      "Loading prediction hexes: 351454it [00:11, 30028.46it/s]\n",
      "Generating predictions [Antwerpen] (area_id: 89): 100%|██████████| 20/20 [00:04<00:00,  4.10it/s]\n",
      "Generating predictions [Barcelona] (area_id: 89): 100%|██████████| 20/20 [00:05<00:00,  3.69it/s]\n",
      "Generating predictions [Berlin] (area_id: 89): 100%|██████████| 20/20 [00:05<00:00,  3.82it/s]\n",
      "Generating predictions [Bern] (area_id: 89): 100%|██████████| 20/20 [00:04<00:00,  4.29it/s]\n",
      "Generating predictions [Bordeaux] (area_id: 89): 100%|██████████| 20/20 [00:04<00:00,  4.21it/s]\n",
      "Generating predictions [Brno] (area_id: 89): 100%|██████████| 20/20 [00:04<00:00,  4.04it/s]\n",
      "Generating predictions [Bruxelles] (area_id: 89): 100%|██████████| 20/20 [00:05<00:00,  3.76it/s]\n",
      "Generating predictions [Budapest] (area_id: 89): 100%|██████████| 20/20 [00:04<00:00,  4.09it/s]\n",
      "Generating predictions [Cardiff] (area_id: 89): 100%|██████████| 20/20 [00:03<00:00,  5.85it/s]\n",
      "Generating predictions [Dublin] (area_id: 89): 100%|██████████| 20/20 [00:04<00:00,  4.04it/s]\n",
      "Generating predictions [Gothenburg] (area_id: 89): 100%|██████████| 20/20 [00:04<00:00,  4.40it/s]\n",
      "Generating predictions [Helsinki] (area_id: 89): 100%|██████████| 20/20 [00:05<00:00,  3.68it/s]\n",
      "Generating predictions [Kyiv] (area_id: 89): 100%|██████████| 20/20 [00:04<00:00,  4.04it/s]\n",
      "Generating predictions [London] (area_id: 89): 100%|██████████| 20/20 [00:05<00:00,  3.72it/s]\n",
      "Generating predictions [Lyon] (area_id: 89): 100%|██████████| 20/20 [00:05<00:00,  3.92it/s]\n",
      "Generating predictions [Madrid] (area_id: 89): 100%|██████████| 20/20 [00:04<00:00,  4.06it/s]\n",
      "Generating predictions [Marseille] (area_id: 89): 100%|██████████| 20/20 [00:04<00:00,  4.06it/s]\n",
      "Generating predictions [Milan] (area_id: 89): 100%|██████████| 20/20 [00:05<00:00,  3.71it/s]\n",
      "Generating predictions [Moscow] (area_id: 89): 100%|██████████| 20/20 [00:05<00:00,  3.72it/s]\n",
      "Generating predictions [Munich] (area_id: 89): 100%|██████████| 20/20 [00:05<00:00,  3.73it/s]\n",
      "Generating predictions [Nantes] (area_id: 89): 100%|██████████| 20/20 [00:04<00:00,  4.75it/s]\n",
      "Generating predictions [Oslo] (area_id: 89): 100%|██████████| 20/20 [00:05<00:00,  3.88it/s]\n",
      "Generating predictions [Ostrava] (area_id: 89): 100%|██████████| 20/20 [00:05<00:00,  3.74it/s]\n",
      "Generating predictions [Paris] (area_id: 89): 100%|██████████| 20/20 [00:05<00:00,  3.61it/s]\n",
      "Generating predictions [Poznań] (area_id: 89): 100%|██████████| 20/20 [00:04<00:00,  4.39it/s]\n",
      "Generating predictions [Prague] (area_id: 89): 100%|██████████| 20/20 [00:05<00:00,  3.80it/s]\n",
      "Generating predictions [Seville] (area_id: 89): 100%|██████████| 20/20 [00:05<00:00,  3.99it/s]\n",
      "Generating predictions [Toulouse] (area_id: 89): 100%|██████████| 20/20 [00:05<00:00,  3.72it/s]\n",
      "Generating predictions [Valencia] (area_id: 89): 100%|██████████| 20/20 [00:04<00:00,  4.08it/s]\n",
      "Generating predictions [Vienna] (area_id: 89): 100%|██████████| 20/20 [00:04<00:00,  4.52it/s]\n",
      "Generating predictions [Warsaw] (area_id: 89): 100%|██████████| 20/20 [00:05<00:00,  3.74it/s]\n",
      "Generating predictions [Wrocław] (area_id: 89): 100%|██████████| 20/20 [00:04<00:00,  4.41it/s]\n",
      "Generating predictions [Zaragoza] (area_id: 89): 100%|██████████| 20/20 [00:04<00:00,  4.66it/s]\n",
      "Generating predictions [Zurich] (area_id: 89): 100%|██████████| 20/20 [00:05<00:00,  3.98it/s]\n",
      "88 vectors: 124662it [00:05, 20778.40it/s]\n",
      "88 labels: 0it [00:00, ?it/s]\n",
      "Loading prediction hexes: 124662it [00:04, 30299.25it/s]\n",
      "Generating predictions [Antwerpen] (area_id: 88): 100%|██████████| 20/20 [00:02<00:00,  8.77it/s]\n",
      "Generating predictions [Barcelona] (area_id: 88): 100%|██████████| 20/20 [00:02<00:00,  7.68it/s]\n",
      "Generating predictions [Berlin] (area_id: 88): 100%|██████████| 20/20 [00:02<00:00,  7.17it/s]\n",
      "Generating predictions [Bern] (area_id: 88): 100%|██████████| 20/20 [00:02<00:00,  8.95it/s]\n",
      "Generating predictions [Bordeaux] (area_id: 88): 100%|██████████| 20/20 [00:02<00:00,  9.10it/s]\n",
      "Generating predictions [Brno] (area_id: 88): 100%|██████████| 20/20 [00:02<00:00,  8.83it/s]\n",
      "Generating predictions [Bruxelles] (area_id: 88): 100%|██████████| 20/20 [00:02<00:00,  7.85it/s]\n",
      "Generating predictions [Budapest] (area_id: 88): 100%|██████████| 20/20 [00:02<00:00,  8.43it/s]\n",
      "Generating predictions [Cardiff] (area_id: 88): 100%|██████████| 20/20 [00:01<00:00, 11.07it/s]\n",
      "Generating predictions [Dublin] (area_id: 88): 100%|██████████| 20/20 [00:02<00:00,  8.17it/s]\n",
      "Generating predictions [Gothenburg] (area_id: 88): 100%|██████████| 20/20 [00:02<00:00,  9.05it/s]\n",
      "Generating predictions [Helsinki] (area_id: 88): 100%|██████████| 20/20 [00:04<00:00,  4.59it/s]\n",
      "Generating predictions [Kyiv] (area_id: 88): 100%|██████████| 20/20 [00:02<00:00,  6.77it/s]\n",
      "Generating predictions [London] (area_id: 88): 100%|██████████| 20/20 [00:02<00:00,  7.08it/s]\n",
      "Generating predictions [Lyon] (area_id: 88): 100%|██████████| 20/20 [00:02<00:00,  7.03it/s]\n",
      "Generating predictions [Madrid] (area_id: 88): 100%|██████████| 20/20 [00:02<00:00,  7.63it/s]\n",
      "Generating predictions [Marseille] (area_id: 88): 100%|██████████| 20/20 [00:02<00:00,  7.20it/s]\n",
      "Generating predictions [Milan] (area_id: 88): 100%|██████████| 20/20 [00:02<00:00,  7.41it/s]\n",
      "Generating predictions [Moscow] (area_id: 88): 100%|██████████| 20/20 [00:02<00:00,  7.28it/s]\n",
      "Generating predictions [Munich] (area_id: 88): 100%|██████████| 20/20 [00:02<00:00,  7.32it/s]\n",
      "Generating predictions [Nantes] (area_id: 88): 100%|██████████| 20/20 [00:02<00:00,  8.86it/s]\n",
      "Generating predictions [Oslo] (area_id: 88): 100%|██████████| 20/20 [00:02<00:00,  7.34it/s]\n",
      "Generating predictions [Ostrava] (area_id: 88): 100%|██████████| 20/20 [00:02<00:00,  7.22it/s]\n",
      "Generating predictions [Paris] (area_id: 88): 100%|██████████| 20/20 [00:02<00:00,  7.19it/s]\n",
      "Generating predictions [Poznań] (area_id: 88): 100%|██████████| 20/20 [00:02<00:00,  8.25it/s]\n",
      "Generating predictions [Prague] (area_id: 88): 100%|██████████| 20/20 [00:02<00:00,  7.52it/s]\n",
      "Generating predictions [Seville] (area_id: 88): 100%|██████████| 20/20 [00:02<00:00,  7.25it/s]\n",
      "Generating predictions [Toulouse] (area_id: 88): 100%|██████████| 20/20 [00:02<00:00,  7.59it/s]\n",
      "Generating predictions [Valencia] (area_id: 88): 100%|██████████| 20/20 [00:02<00:00,  7.08it/s]\n",
      "Generating predictions [Vienna] (area_id: 88): 100%|██████████| 20/20 [00:02<00:00,  9.18it/s]\n",
      "Generating predictions [Warsaw] (area_id: 88): 100%|██████████| 20/20 [00:02<00:00,  7.68it/s]\n",
      "Generating predictions [Wrocław] (area_id: 88): 100%|██████████| 20/20 [00:02<00:00,  8.63it/s]\n",
      "Generating predictions [Zaragoza] (area_id: 88): 100%|██████████| 20/20 [00:02<00:00,  8.38it/s]\n",
      "Generating predictions [Zurich] (area_id: 88): 100%|██████████| 20/20 [00:02<00:00,  7.27it/s]\n",
      "87 vectors: 3654103it [02:49, 21550.18it/s]\n",
      "87 labels: 0it [00:00, ?it/s]\n",
      "Loading prediction hexes: 3654103it [02:01, 30121.27it/s]\n",
      "Generating predictions [Helsinki] (area_id: 87): 100%|██████████| 20/20 [00:43<00:00,  2.18s/it]\n",
      "Generating predictions [Kyiv] (area_id: 87): 100%|██████████| 20/20 [00:42<00:00,  2.11s/it]\n",
      "Generating predictions [London] (area_id: 87): 100%|██████████| 20/20 [00:39<00:00,  2.00s/it]\n",
      "Generating predictions [Lyon] (area_id: 87): 100%|██████████| 20/20 [00:41<00:00,  2.05s/it]\n",
      "Generating predictions [Madrid] (area_id: 87): 100%|██████████| 20/20 [00:40<00:00,  2.02s/it]\n",
      "Generating predictions [Marseille] (area_id: 87): 100%|██████████| 20/20 [00:38<00:00,  1.93s/it]\n",
      "Generating predictions [Milan] (area_id: 87): 100%|██████████| 20/20 [00:40<00:00,  2.01s/it]\n",
      "Generating predictions [Moscow] (area_id: 87): 100%|██████████| 20/20 [00:42<00:00,  2.14s/it]\n",
      "Generating predictions [Munich] (area_id: 87): 100%|██████████| 20/20 [00:43<00:00,  2.17s/it]\n",
      "Generating predictions [Nantes] (area_id: 87): 100%|██████████| 20/20 [00:31<00:00,  1.57s/it]\n",
      "Generating predictions [Oslo] (area_id: 87): 100%|██████████| 20/20 [00:41<00:00,  2.05s/it]\n",
      "Generating predictions [Ostrava] (area_id: 87): 100%|██████████| 20/20 [00:44<00:00,  2.21s/it]\n",
      "Generating predictions [Paris] (area_id: 87): 100%|██████████| 20/20 [00:43<00:00,  2.16s/it]\n",
      "Generating predictions [Poznań] (area_id: 87): 100%|██████████| 20/20 [00:34<00:00,  1.73s/it]\n",
      "Generating predictions [Prague] (area_id: 87): 100%|██████████| 20/20 [00:43<00:00,  2.17s/it]\n",
      "Generating predictions [Seville] (area_id: 87): 100%|██████████| 20/20 [00:39<00:00,  1.96s/it]\n",
      "Generating predictions [Toulouse] (area_id: 87): 100%|██████████| 20/20 [00:42<00:00,  2.13s/it]\n",
      "Generating predictions [Valencia] (area_id: 87): 100%|██████████| 20/20 [00:32<00:00,  1.65s/it]\n",
      "Generating predictions [Vienna] (area_id: 87): 100%|██████████| 20/20 [00:25<00:00,  1.29s/it]\n",
      "Generating predictions [Warsaw] (area_id: 87): 100%|██████████| 20/20 [00:34<00:00,  1.74s/it]\n",
      "Generating predictions [Wrocław] (area_id: 87): 100%|██████████| 20/20 [00:27<00:00,  1.39s/it]\n",
      "Generating predictions [Zaragoza] (area_id: 87): 100%|██████████| 20/20 [00:31<00:00,  1.58s/it]\n",
      "Generating predictions [Zurich] (area_id: 87): 100%|██████████| 20/20 [00:38<00:00,  1.94s/it]\n",
      "100%|██████████| 3264/3264 [2:33:07<00:00,  2.81s/it]   \n"
     ]
    }
   ],
   "source": [
    "for city_id, classifier_id in tqdm(tuples):\n",
    "    file_name = f'{DIRECTORY}/{city_id}_{classifier_id}.csv'\n",
    "    if os.path.exists(file_name):\n",
    "        continue \n",
    "    clf = OneCityClassifier(classifier_id)\n",
    "    clf.predict_and_save_data(city_id, 20)"
   ]
  },
  {
   "cell_type": "markdown",
   "metadata": {},
   "source": [
    "## Run all cities classifier"
   ]
  },
  {
   "cell_type": "code",
   "execution_count": 7,
   "metadata": {},
   "outputs": [],
   "source": [
    "from prediction_model.classifiers import AllCitiesClassifier\n",
    "from db_connector.models import Area, PredictionResult\n",
    "from tqdm import tqdm"
   ]
  },
  {
   "cell_type": "code",
   "execution_count": 8,
   "metadata": {},
   "outputs": [],
   "source": [
    "cities_ids = [a.id for a in Area.select()]\n",
    "cities_ids.remove(79)"
   ]
  },
  {
   "cell_type": "code",
   "execution_count": 3,
   "metadata": {},
   "outputs": [
    {
     "name": "stderr",
     "output_type": "stream",
     "text": [
      "all vectors: 3504771it [02:12, 26438.27it/s]\n",
      "all labels: 3504771it [00:30, 113189.17it/s]\n",
      "100 vectors: 5400414it [03:16, 27459.19it/s]\n",
      "100 labels: 0it [00:00, ?it/s]\n",
      "Loading prediction hexes: 5400414it [02:15, 39743.50it/s]\n",
      "Embedding neighbours hexes [Prediction data]: 100%|██████████| 5400414/5400414 [18:49<00:00, 4782.30it/s]\n",
      "Generating predictions [All cities] (area_id: 100): 100%|██████████| 100/100 [04:32<00:00,  2.72s/it]\n",
      "Saving results to DB [All cities] (area_id: 100): 100%|██████████| 5401/5401 [08:54<00:00, 10.10it/s]\n",
      "100%|██████████| 96/96 [47:01<00:00, 29.39s/it]\n"
     ]
    }
   ],
   "source": [
    "for city_id in tqdm(cities_ids):    \n",
    "    if PredictionResult.get_or_none(PredictionResult.classifier_id == 35, PredictionResult.area == city_id) is not None:\n",
    "        # print(f'Skipping pair {classifier_id} - {city_id}')\n",
    "        continue\n",
    "    clf = AllCitiesClassifier()\n",
    "    clf.predict_and_save_data(city_id, 100)"
   ]
  },
  {
   "cell_type": "markdown",
   "metadata": {},
   "source": [
    "## Run second all cities classifier"
   ]
  },
  {
   "cell_type": "code",
   "execution_count": 3,
   "metadata": {},
   "outputs": [],
   "source": [
    "from prediction_model.classifiers import AllCitiesNormalizedGloballyClassifier\n",
    "from db_connector.models import Area, PredictionResult"
   ]
  },
  {
   "cell_type": "code",
   "execution_count": 4,
   "metadata": {},
   "outputs": [],
   "source": [
    "cities_ids = [a.id for a in Area.select()]\n",
    "cities_ids.remove(79)"
   ]
  },
  {
   "cell_type": "code",
   "execution_count": 5,
   "metadata": {},
   "outputs": [
    {
     "name": "stderr",
     "output_type": "stream",
     "text": [
      "all vectors: 3504771it [02:10, 26858.87it/s]\n",
      "all labels: 3504771it [00:28, 123954.70it/s]\n",
      "87 vectors: 3654103it [02:13, 27392.63it/s]\n",
      "87 labels: 0it [00:00, ?it/s]\n",
      "Loading prediction hexes: 3654103it [01:39, 36574.30it/s]\n",
      "Embedding neighbours hexes [Prediction data]: 100%|██████████| 3654103/3654103 [14:45<00:00, 4128.27it/s]\n",
      "Generating predictions [All cities normalized globally] (area_id: 87): 100%|██████████| 100/100 [03:38<00:00,  2.19s/it]\n",
      "Saving results to DB [All cities normalized globally] (area_id: 87): 100%|██████████| 3655/3655 [08:05<00:00,  7.53it/s]\n",
      "88 vectors: 124662it [00:05, 22398.78it/s]\n",
      "88 labels: 0it [00:00, ?it/s]\n",
      "Loading prediction hexes: 124662it [00:03, 33084.96it/s]\n",
      "Embedding neighbours hexes [Prediction data]: 100%|██████████| 124662/124662 [00:31<00:00, 3974.93it/s]\n",
      "Generating predictions [All cities normalized globally] (area_id: 88): 100%|██████████| 100/100 [00:12<00:00,  8.07it/s]\n",
      "Saving results to DB [All cities normalized globally] (area_id: 88): 100%|██████████| 125/125 [00:11<00:00, 11.07it/s]\n",
      "89 vectors: 351454it [00:14, 24186.52it/s]\n",
      "89 labels: 0it [00:00, ?it/s]\n",
      "Loading prediction hexes: 351454it [00:10, 32156.79it/s]\n",
      "Embedding neighbours hexes [Prediction data]: 100%|██████████| 351454/351454 [01:41<00:00, 3472.44it/s]\n",
      "Generating predictions [All cities normalized globally] (area_id: 89): 100%|██████████| 100/100 [00:28<00:00,  3.48it/s]\n",
      "Saving results to DB [All cities normalized globally] (area_id: 89): 100%|██████████| 352/352 [00:31<00:00, 11.13it/s]\n",
      "90 vectors: 66345it [00:02, 27510.96it/s]\n",
      "90 labels: 0it [00:00, ?it/s]\n",
      "Loading prediction hexes: 66345it [00:01, 37466.99it/s]\n",
      "Embedding neighbours hexes [Prediction data]: 100%|██████████| 66345/66345 [00:16<00:00, 4004.12it/s]\n",
      "Generating predictions [All cities normalized globally] (area_id: 90): 100%|██████████| 100/100 [00:07<00:00, 13.37it/s]\n",
      "Saving results to DB [All cities normalized globally] (area_id: 90): 100%|██████████| 67/67 [00:06<00:00, 10.50it/s]\n",
      "91 vectors: 46503it [00:01, 25369.60it/s]\n",
      "91 labels: 0it [00:00, ?it/s]\n",
      "Loading prediction hexes: 46503it [00:01, 34982.69it/s]\n",
      "Embedding neighbours hexes [Prediction data]: 100%|██████████| 46503/46503 [00:12<00:00, 3691.73it/s]\n",
      "Generating predictions [All cities normalized globally] (area_id: 91): 100%|██████████| 100/100 [00:06<00:00, 14.63it/s]\n",
      "Saving results to DB [All cities normalized globally] (area_id: 91): 100%|██████████| 47/47 [00:03<00:00, 11.80it/s]\n",
      "92 vectors: 120722it [00:04, 26573.29it/s]\n",
      "92 labels: 0it [00:00, ?it/s]\n",
      "Loading prediction hexes: 120722it [00:04, 29946.08it/s]\n",
      "Embedding neighbours hexes [Prediction data]: 100%|██████████| 120722/120722 [00:34<00:00, 3540.69it/s]\n",
      "Generating predictions [All cities normalized globally] (area_id: 92): 100%|██████████| 100/100 [00:10<00:00,  9.21it/s]\n",
      "Saving results to DB [All cities normalized globally] (area_id: 92): 100%|██████████| 121/121 [00:11<00:00, 10.69it/s]\n",
      "93 vectors: 200115it [00:08, 23368.58it/s]\n",
      "93 labels: 0it [00:00, ?it/s]\n",
      "Loading prediction hexes: 200115it [00:05, 34799.83it/s]\n",
      "Embedding neighbours hexes [Prediction data]: 100%|██████████| 200115/200115 [00:54<00:00, 3680.35it/s]\n",
      "Generating predictions [All cities normalized globally] (area_id: 93): 100%|██████████| 100/100 [00:17<00:00,  5.64it/s]\n",
      "Saving results to DB [All cities normalized globally] (area_id: 93): 100%|██████████| 201/201 [00:22<00:00,  8.78it/s]\n",
      "94 vectors: 617663it [00:23, 26425.06it/s]\n",
      "94 labels: 0it [00:00, ?it/s]\n",
      "Loading prediction hexes: 617663it [00:17, 36313.55it/s]\n",
      "Embedding neighbours hexes [Prediction data]: 100%|██████████| 617663/617663 [02:37<00:00, 3916.88it/s]\n",
      "Generating predictions [All cities normalized globally] (area_id: 94): 100%|██████████| 100/100 [00:38<00:00,  2.62it/s]\n",
      "Saving results to DB [All cities normalized globally] (area_id: 94): 100%|██████████| 618/618 [00:56<00:00, 10.90it/s]\n",
      "95 vectors: 24929it [00:01, 18815.46it/s]\n",
      "95 labels: 0it [00:00, ?it/s]\n",
      "Loading prediction hexes: 24929it [00:00, 30296.34it/s]\n",
      "Embedding neighbours hexes [Prediction data]: 100%|██████████| 24929/24929 [00:07<00:00, 3241.32it/s]\n",
      "Generating predictions [All cities normalized globally] (area_id: 95): 100%|██████████| 100/100 [00:05<00:00, 17.55it/s]\n",
      "Saving results to DB [All cities normalized globally] (area_id: 95): 100%|██████████| 25/25 [00:02<00:00, 11.99it/s]\n",
      "96 vectors: 648738it [00:28, 22577.60it/s]\n",
      "96 labels: 0it [00:00, ?it/s]\n",
      "Loading prediction hexes: 648738it [00:17, 36322.00it/s]\n",
      "Embedding neighbours hexes [Prediction data]: 100%|██████████| 648738/648738 [02:34<00:00, 4206.43it/s]\n",
      "Generating predictions [All cities normalized globally] (area_id: 96): 100%|██████████| 100/100 [00:51<00:00,  1.94it/s]\n",
      "Saving results to DB [All cities normalized globally] (area_id: 96): 100%|██████████| 649/649 [00:50<00:00, 12.98it/s]\n",
      "97 vectors: 466834it [00:15, 29530.71it/s]\n",
      "97 labels: 0it [00:00, ?it/s]\n",
      "Loading prediction hexes: 466834it [00:11, 41391.91it/s]\n",
      "Embedding neighbours hexes [Prediction data]: 100%|██████████| 466834/466834 [01:41<00:00, 4613.76it/s]\n",
      "Generating predictions [All cities normalized globally] (area_id: 97): 100%|██████████| 100/100 [00:28<00:00,  3.56it/s]\n",
      "Saving results to DB [All cities normalized globally] (area_id: 97): 100%|██████████| 467/467 [00:35<00:00, 13.05it/s]\n",
      "98 vectors: 782183it [00:26, 29582.57it/s]\n",
      "98 labels: 0it [00:00, ?it/s]\n",
      "Loading prediction hexes: 782183it [00:19, 41027.65it/s]\n",
      "Embedding neighbours hexes [Prediction data]: 100%|██████████| 782183/782183 [02:46<00:00, 4690.70it/s]\n",
      "Generating predictions [All cities normalized globally] (area_id: 98): 100%|██████████| 100/100 [00:43<00:00,  2.31it/s]\n",
      "Saving results to DB [All cities normalized globally] (area_id: 98): 100%|██████████| 783/783 [01:00<00:00, 12.93it/s]\n",
      "99 vectors: 83683it [00:02, 29701.55it/s]\n",
      "99 labels: 0it [00:00, ?it/s]\n",
      "Loading prediction hexes: 83683it [00:01, 42456.27it/s]\n",
      "Embedding neighbours hexes [Prediction data]: 100%|██████████| 83683/83683 [00:17<00:00, 4749.92it/s]\n",
      "Generating predictions [All cities normalized globally] (area_id: 99): 100%|██████████| 100/100 [00:07<00:00, 13.62it/s]\n",
      "Saving results to DB [All cities normalized globally] (area_id: 99): 100%|██████████| 84/84 [00:06<00:00, 13.85it/s]\n",
      "100 vectors: 5400414it [02:58, 30235.60it/s]\n",
      "100 labels: 0it [00:00, ?it/s]\n",
      "Loading prediction hexes: 5400414it [02:09, 41756.26it/s]\n",
      "Embedding neighbours hexes [Prediction data]: 100%|██████████| 5400414/5400414 [21:14<00:00, 4236.49it/s]\n",
      "Generating predictions [All cities normalized globally] (area_id: 100): 100%|██████████| 100/100 [04:31<00:00,  2.72s/it]\n",
      "Saving results to DB [All cities normalized globally] (area_id: 100): 100%|██████████| 5401/5401 [26:26<00:00,  3.41it/s]\n"
     ]
    }
   ],
   "source": [
    "for city_id in cities_ids:     \n",
    "    if PredictionResult.get_or_none(PredictionResult.classifier_id == 36, PredictionResult.area == city_id) is not None:\n",
    "        # print(f'Skipping pair {classifier_id} - {city_id}')\n",
    "        continue\n",
    "    clf = AllCitiesNormalizedGloballyClassifier()\n",
    "    clf.predict_and_save_data(city_id, 100)"
   ]
  },
  {
   "cell_type": "code",
   "execution_count": null,
   "metadata": {},
   "outputs": [],
   "source": []
  }
 ],
 "metadata": {
  "interpreter": {
   "hash": "e7b1d31e8087159dc95e4731063f606a4fbc39496a357249ffe609fb59e0896a"
  },
  "kernelspec": {
   "display_name": "Python 3.8.5 64-bit ('base': conda)",
   "name": "python3"
  },
  "language_info": {
   "codemirror_mode": {
    "name": "ipython",
    "version": 3
   },
   "file_extension": ".py",
   "mimetype": "text/x-python",
   "name": "python",
   "nbconvert_exporter": "python",
   "pygments_lexer": "ipython3",
   "version": "3.8.5"
  },
  "orig_nbformat": 4
 },
 "nbformat": 4,
 "nbformat_minor": 2
}
