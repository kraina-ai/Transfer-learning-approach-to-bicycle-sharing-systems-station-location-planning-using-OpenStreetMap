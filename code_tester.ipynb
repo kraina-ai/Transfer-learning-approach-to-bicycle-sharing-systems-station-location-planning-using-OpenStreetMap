{
 "cells": [
  {
   "cell_type": "markdown",
   "metadata": {},
   "source": [
    "## Initialize DB"
   ]
  },
  {
   "cell_type": "code",
   "execution_count": 1,
   "metadata": {},
   "outputs": [],
   "source": [
    "from db_connector.db_seeder import init_db"
   ]
  },
  {
   "cell_type": "code",
   "execution_count": 3,
   "metadata": {},
   "outputs": [],
   "source": [
    "init_db()"
   ]
  },
  {
   "cell_type": "markdown",
   "metadata": {},
   "source": [
    "## Run single city model"
   ]
  },
  {
   "cell_type": "code",
   "execution_count": 1,
   "metadata": {},
   "outputs": [],
   "source": [
    "from prediction_model.classifiers import OneCityClassifier"
   ]
  },
  {
   "cell_type": "code",
   "execution_count": 2,
   "metadata": {},
   "outputs": [
    {
     "name": "stdout",
     "output_type": "stream",
     "text": [
      "Hex cache size: 56967\n"
     ]
    }
   ],
   "source": [
    "clf = OneCityClassifier(1)"
   ]
  },
  {
   "cell_type": "code",
   "execution_count": 3,
   "metadata": {},
   "outputs": [
    {
     "name": "stdout",
     "output_type": "stream",
     "text": [
      "predict_and_save_data 1\n",
      "Hex cache size: 56967\n"
     ]
    },
    {
     "name": "stderr",
     "output_type": "stream",
     "text": [
      "Loading prediction hexes: 100%|██████████| 56967/56967 [00:00<00:00, 1456443.97it/s]\n",
      "Embedding neighbours hexes [Prediction data]: 100%|██████████| 56967/56967 [00:11<00:00, 4937.92it/s]\n",
      "56967it [00:00, 903028.84it/s]\n",
      "Loading station hexes: 100%|██████████| 292/292 [00:00<00:00, 1021465.19it/s]\n",
      "Loading non-station hexes: 100%|██████████| 730/730 [00:00<00:00, 1167750.54it/s]"
     ]
    },
    {
     "name": "stdout",
     "output_type": "stream",
     "text": [
      "Iteration - 0\n"
     ]
    },
    {
     "name": "stderr",
     "output_type": "stream",
     "text": [
      "\n",
      "Embedding neighbours hexes [Training data]: 100%|██████████| 1022/1022 [00:00<00:00, 4807.04it/s]\n",
      "1022it [00:00, 936138.61it/s]\n",
      "Loading station hexes: 100%|██████████| 292/292 [00:00<00:00, 1147832.02it/s]\n",
      "Loading non-station hexes: 100%|██████████| 730/730 [00:00<00:00, 947645.29it/s]"
     ]
    },
    {
     "name": "stdout",
     "output_type": "stream",
     "text": [
      "[00:28:05] WARNING: ../src/learner.cc:1095: Starting in XGBoost 1.3.0, the default evaluation metric used with the objective 'binary:logistic' was changed from 'error' to 'logloss'. Explicitly set eval_metric if you'd like to restore the old behavior.\n",
      "Iteration - 1\n"
     ]
    },
    {
     "name": "stderr",
     "output_type": "stream",
     "text": [
      "\n",
      "Embedding neighbours hexes [Training data]: 100%|██████████| 1022/1022 [00:00<00:00, 4324.89it/s]\n",
      "1022it [00:00, 830893.33it/s]\n",
      "Loading station hexes: 100%|██████████| 292/292 [00:00<00:00, 1468509.31it/s]\n",
      "Loading non-station hexes: 100%|██████████| 730/730 [00:00<00:00, 1359006.62it/s]"
     ]
    },
    {
     "name": "stdout",
     "output_type": "stream",
     "text": [
      "[00:28:06] WARNING: ../src/learner.cc:1095: Starting in XGBoost 1.3.0, the default evaluation metric used with the objective 'binary:logistic' was changed from 'error' to 'logloss'. Explicitly set eval_metric if you'd like to restore the old behavior.\n",
      "Iteration - 2\n"
     ]
    },
    {
     "name": "stderr",
     "output_type": "stream",
     "text": [
      "\n",
      "Embedding neighbours hexes [Training data]: 100%|██████████| 1022/1022 [00:00<00:00, 4243.90it/s]\n",
      "1022it [00:00, 947519.60it/s]\n",
      "Loading station hexes: 100%|██████████| 292/292 [00:00<00:00, 1458019.96it/s]\n",
      "Loading non-station hexes: 100%|██████████| 730/730 [00:00<00:00, 912076.83it/s]"
     ]
    },
    {
     "name": "stdout",
     "output_type": "stream",
     "text": [
      "[00:28:08] WARNING: ../src/learner.cc:1095: Starting in XGBoost 1.3.0, the default evaluation metric used with the objective 'binary:logistic' was changed from 'error' to 'logloss'. Explicitly set eval_metric if you'd like to restore the old behavior.\n",
      "Iteration - 3\n"
     ]
    },
    {
     "name": "stderr",
     "output_type": "stream",
     "text": [
      "\n",
      "Embedding neighbours hexes [Training data]: 100%|██████████| 1022/1022 [00:00<00:00, 4199.09it/s]\n",
      "1022it [00:00, 761516.91it/s]\n",
      "Loading station hexes: 100%|██████████| 292/292 [00:00<00:00, 1244651.19it/s]\n",
      "Loading non-station hexes: 100%|██████████| 730/730 [00:00<00:00, 971396.55it/s]"
     ]
    },
    {
     "name": "stdout",
     "output_type": "stream",
     "text": [
      "[00:28:09] WARNING: ../src/learner.cc:1095: Starting in XGBoost 1.3.0, the default evaluation metric used with the objective 'binary:logistic' was changed from 'error' to 'logloss'. Explicitly set eval_metric if you'd like to restore the old behavior.\n",
      "Iteration - 4\n"
     ]
    },
    {
     "name": "stderr",
     "output_type": "stream",
     "text": [
      "\n",
      "Embedding neighbours hexes [Training data]: 100%|██████████| 1022/1022 [00:00<00:00, 4622.07it/s]\n",
      "1022it [00:00, 892479.43it/s]\n",
      "Loading station hexes: 100%|██████████| 292/292 [00:00<00:00, 1036156.32it/s]\n",
      "Loading non-station hexes: 100%|██████████| 730/730 [00:00<00:00, 1508296.51it/s]"
     ]
    },
    {
     "name": "stdout",
     "output_type": "stream",
     "text": [
      "[00:28:10] WARNING: ../src/learner.cc:1095: Starting in XGBoost 1.3.0, the default evaluation metric used with the objective 'binary:logistic' was changed from 'error' to 'logloss'. Explicitly set eval_metric if you'd like to restore the old behavior.\n",
      "Iteration - 5\n"
     ]
    },
    {
     "name": "stderr",
     "output_type": "stream",
     "text": [
      "\n",
      "Embedding neighbours hexes [Training data]: 100%|██████████| 1022/1022 [00:00<00:00, 4349.15it/s]\n",
      "1022it [00:00, 864578.19it/s]\n",
      "Loading station hexes: 100%|██████████| 292/292 [00:00<00:00, 1249731.40it/s]\n",
      "Loading non-station hexes: 100%|██████████| 730/730 [00:00<00:00, 1083454.32it/s]"
     ]
    },
    {
     "name": "stdout",
     "output_type": "stream",
     "text": [
      "[00:28:12] WARNING: ../src/learner.cc:1095: Starting in XGBoost 1.3.0, the default evaluation metric used with the objective 'binary:logistic' was changed from 'error' to 'logloss'. Explicitly set eval_metric if you'd like to restore the old behavior.\n",
      "Iteration - 6\n"
     ]
    },
    {
     "name": "stderr",
     "output_type": "stream",
     "text": [
      "\n",
      "Embedding neighbours hexes [Training data]: 100%|██████████| 1022/1022 [00:00<00:00, 3582.80it/s]\n",
      "1022it [00:00, 612368.38it/s]\n",
      "Loading station hexes: 100%|██████████| 292/292 [00:00<00:00, 1029190.56it/s]\n",
      "Loading non-station hexes: 100%|██████████| 730/730 [00:00<00:00, 1522546.95it/s]"
     ]
    },
    {
     "name": "stdout",
     "output_type": "stream",
     "text": [
      "[00:28:13] WARNING: ../src/learner.cc:1095: Starting in XGBoost 1.3.0, the default evaluation metric used with the objective 'binary:logistic' was changed from 'error' to 'logloss'. Explicitly set eval_metric if you'd like to restore the old behavior.\n",
      "Iteration - 7\n"
     ]
    },
    {
     "name": "stderr",
     "output_type": "stream",
     "text": [
      "\n",
      "Embedding neighbours hexes [Training data]: 100%|██████████| 1022/1022 [00:00<00:00, 4093.28it/s]\n",
      "1022it [00:00, 471104.37it/s]\n",
      "Loading station hexes: 100%|██████████| 292/292 [00:00<00:00, 469968.06it/s]\n",
      "Loading non-station hexes: 100%|██████████| 730/730 [00:00<00:00, 1115425.11it/s]"
     ]
    },
    {
     "name": "stdout",
     "output_type": "stream",
     "text": [
      "[00:28:14] WARNING: ../src/learner.cc:1095: Starting in XGBoost 1.3.0, the default evaluation metric used with the objective 'binary:logistic' was changed from 'error' to 'logloss'. Explicitly set eval_metric if you'd like to restore the old behavior.\n",
      "Iteration - 8\n"
     ]
    },
    {
     "name": "stderr",
     "output_type": "stream",
     "text": [
      "\n",
      "Embedding neighbours hexes [Training data]: 100%|██████████| 1022/1022 [00:00<00:00, 4232.53it/s]\n",
      "1022it [00:00, 924429.31it/s]\n",
      "Loading station hexes: 100%|██████████| 292/292 [00:00<00:00, 1332684.19it/s]\n",
      "Loading non-station hexes: 100%|██████████| 730/730 [00:00<00:00, 682684.93it/s]"
     ]
    },
    {
     "name": "stdout",
     "output_type": "stream",
     "text": [
      "[00:28:15] WARNING: ../src/learner.cc:1095: Starting in XGBoost 1.3.0, the default evaluation metric used with the objective 'binary:logistic' was changed from 'error' to 'logloss'. Explicitly set eval_metric if you'd like to restore the old behavior.\n",
      "Iteration - 9\n"
     ]
    },
    {
     "name": "stderr",
     "output_type": "stream",
     "text": [
      "\n",
      "Embedding neighbours hexes [Training data]: 100%|██████████| 1022/1022 [00:00<00:00, 4272.68it/s]\n",
      "1022it [00:00, 923035.89it/s]\n",
      "Loading station hexes: 100%|██████████| 292/292 [00:00<00:00, 1273115.14it/s]\n",
      "Loading non-station hexes: 100%|██████████| 730/730 [00:00<00:00, 1261055.16it/s]"
     ]
    },
    {
     "name": "stdout",
     "output_type": "stream",
     "text": [
      "[00:28:16] WARNING: ../src/learner.cc:1095: Starting in XGBoost 1.3.0, the default evaluation metric used with the objective 'binary:logistic' was changed from 'error' to 'logloss'. Explicitly set eval_metric if you'd like to restore the old behavior.\n",
      "Iteration - 10\n"
     ]
    },
    {
     "name": "stderr",
     "output_type": "stream",
     "text": [
      "\n",
      "Embedding neighbours hexes [Training data]: 100%|██████████| 1022/1022 [00:00<00:00, 4408.10it/s]\n",
      "1022it [00:00, 823233.86it/s]\n",
      "Loading station hexes: 100%|██████████| 292/292 [00:00<00:00, 1023171.90it/s]\n",
      "Loading non-station hexes: 100%|██████████| 730/730 [00:00<00:00, 1352403.67it/s]"
     ]
    },
    {
     "name": "stdout",
     "output_type": "stream",
     "text": [
      "[00:28:17] WARNING: ../src/learner.cc:1095: Starting in XGBoost 1.3.0, the default evaluation metric used with the objective 'binary:logistic' was changed from 'error' to 'logloss'. Explicitly set eval_metric if you'd like to restore the old behavior.\n",
      "Iteration - 11\n"
     ]
    },
    {
     "name": "stderr",
     "output_type": "stream",
     "text": [
      "\n",
      "Embedding neighbours hexes [Training data]: 100%|██████████| 1022/1022 [00:00<00:00, 4186.34it/s]\n",
      "1022it [00:00, 939421.15it/s]\n",
      "Loading station hexes: 100%|██████████| 292/292 [00:00<00:00, 1396507.15it/s]\n",
      "Loading non-station hexes: 100%|██████████| 730/730 [00:00<00:00, 1451797.97it/s]"
     ]
    },
    {
     "name": "stdout",
     "output_type": "stream",
     "text": [
      "[00:28:19] WARNING: ../src/learner.cc:1095: Starting in XGBoost 1.3.0, the default evaluation metric used with the objective 'binary:logistic' was changed from 'error' to 'logloss'. Explicitly set eval_metric if you'd like to restore the old behavior.\n",
      "Iteration - 12\n"
     ]
    },
    {
     "name": "stderr",
     "output_type": "stream",
     "text": [
      "\n",
      "Embedding neighbours hexes [Training data]: 100%|██████████| 1022/1022 [00:00<00:00, 4335.26it/s]\n",
      "1022it [00:00, 577783.89it/s]\n",
      "Loading station hexes: 100%|██████████| 292/292 [00:00<00:00, 1205449.57it/s]\n",
      "Loading non-station hexes: 100%|██████████| 730/730 [00:00<00:00, 628585.90it/s]"
     ]
    },
    {
     "name": "stdout",
     "output_type": "stream",
     "text": [
      "[00:28:20] WARNING: ../src/learner.cc:1095: Starting in XGBoost 1.3.0, the default evaluation metric used with the objective 'binary:logistic' was changed from 'error' to 'logloss'. Explicitly set eval_metric if you'd like to restore the old behavior.\n",
      "Iteration - 13\n"
     ]
    },
    {
     "name": "stderr",
     "output_type": "stream",
     "text": [
      "\n",
      "Embedding neighbours hexes [Training data]: 100%|██████████| 1022/1022 [00:00<00:00, 4808.76it/s]\n",
      "1022it [00:00, 535554.56it/s]\n",
      "Loading station hexes: 100%|██████████| 292/292 [00:00<00:00, 1407743.41it/s]\n",
      "Loading non-station hexes: 100%|██████████| 730/730 [00:00<00:00, 1086915.84it/s]"
     ]
    },
    {
     "name": "stdout",
     "output_type": "stream",
     "text": [
      "[00:28:21] WARNING: ../src/learner.cc:1095: Starting in XGBoost 1.3.0, the default evaluation metric used with the objective 'binary:logistic' was changed from 'error' to 'logloss'. Explicitly set eval_metric if you'd like to restore the old behavior.\n",
      "Iteration - 14\n"
     ]
    },
    {
     "name": "stderr",
     "output_type": "stream",
     "text": [
      "\n",
      "Embedding neighbours hexes [Training data]: 100%|██████████| 1022/1022 [00:00<00:00, 4060.32it/s]\n",
      "1022it [00:00, 1047807.06it/s]\n",
      "Loading station hexes: 100%|██████████| 292/292 [00:00<00:00, 983724.31it/s]\n",
      "Loading non-station hexes: 100%|██████████| 730/730 [00:00<00:00, 731972.73it/s]"
     ]
    },
    {
     "name": "stdout",
     "output_type": "stream",
     "text": [
      "[00:28:22] WARNING: ../src/learner.cc:1095: Starting in XGBoost 1.3.0, the default evaluation metric used with the objective 'binary:logistic' was changed from 'error' to 'logloss'. Explicitly set eval_metric if you'd like to restore the old behavior.\n",
      "Iteration - 15\n"
     ]
    },
    {
     "name": "stderr",
     "output_type": "stream",
     "text": [
      "\n",
      "Embedding neighbours hexes [Training data]: 100%|██████████| 1022/1022 [00:00<00:00, 4079.93it/s]\n",
      "1022it [00:00, 402798.22it/s]\n",
      "Loading station hexes: 100%|██████████| 292/292 [00:00<00:00, 1232129.55it/s]\n",
      "Loading non-station hexes: 100%|██████████| 730/730 [00:00<00:00, 1478436.47it/s]"
     ]
    },
    {
     "name": "stdout",
     "output_type": "stream",
     "text": [
      "[00:28:23] WARNING: ../src/learner.cc:1095: Starting in XGBoost 1.3.0, the default evaluation metric used with the objective 'binary:logistic' was changed from 'error' to 'logloss'. Explicitly set eval_metric if you'd like to restore the old behavior.\n",
      "Iteration - 16\n"
     ]
    },
    {
     "name": "stderr",
     "output_type": "stream",
     "text": [
      "\n",
      "Embedding neighbours hexes [Training data]: 100%|██████████| 1022/1022 [00:00<00:00, 4235.16it/s]\n",
      "1022it [00:00, 756677.61it/s]\n",
      "Loading station hexes: 100%|██████████| 292/292 [00:00<00:00, 1101381.99it/s]\n",
      "Loading non-station hexes: 100%|██████████| 730/730 [00:00<00:00, 795283.62it/s]"
     ]
    },
    {
     "name": "stdout",
     "output_type": "stream",
     "text": [
      "[00:28:24] WARNING: ../src/learner.cc:1095: Starting in XGBoost 1.3.0, the default evaluation metric used with the objective 'binary:logistic' was changed from 'error' to 'logloss'. Explicitly set eval_metric if you'd like to restore the old behavior.\n",
      "Iteration - 17\n"
     ]
    },
    {
     "name": "stderr",
     "output_type": "stream",
     "text": [
      "\n",
      "Embedding neighbours hexes [Training data]: 100%|██████████| 1022/1022 [00:00<00:00, 4481.05it/s]\n",
      "1022it [00:00, 635048.69it/s]\n",
      "Loading station hexes: 100%|██████████| 292/292 [00:00<00:00, 1221073.55it/s]\n",
      "Loading non-station hexes: 100%|██████████| 730/730 [00:00<00:00, 1610648.04it/s]"
     ]
    },
    {
     "name": "stdout",
     "output_type": "stream",
     "text": [
      "[00:28:26] WARNING: ../src/learner.cc:1095: Starting in XGBoost 1.3.0, the default evaluation metric used with the objective 'binary:logistic' was changed from 'error' to 'logloss'. Explicitly set eval_metric if you'd like to restore the old behavior.\n",
      "Iteration - 18\n"
     ]
    },
    {
     "name": "stderr",
     "output_type": "stream",
     "text": [
      "\n",
      "Embedding neighbours hexes [Training data]: 100%|██████████| 1022/1022 [00:00<00:00, 3872.95it/s]\n",
      "1022it [00:00, 948148.35it/s]\n",
      "Loading station hexes: 100%|██████████| 292/292 [00:00<00:00, 1434118.00it/s]\n",
      "Loading non-station hexes: 100%|██████████| 730/730 [00:00<00:00, 1271529.04it/s]"
     ]
    },
    {
     "name": "stdout",
     "output_type": "stream",
     "text": [
      "[00:28:27] WARNING: ../src/learner.cc:1095: Starting in XGBoost 1.3.0, the default evaluation metric used with the objective 'binary:logistic' was changed from 'error' to 'logloss'. Explicitly set eval_metric if you'd like to restore the old behavior.\n",
      "Iteration - 19\n"
     ]
    },
    {
     "name": "stderr",
     "output_type": "stream",
     "text": [
      "\n",
      "Embedding neighbours hexes [Training data]: 100%|██████████| 1022/1022 [00:00<00:00, 4608.63it/s]\n",
      "1022it [00:00, 501823.78it/s]\n",
      "Loading station hexes: 100%|██████████| 292/292 [00:00<00:00, 1289196.60it/s]\n",
      "Loading non-station hexes: 100%|██████████| 730/730 [00:00<00:00, 1310720.00it/s]"
     ]
    },
    {
     "name": "stdout",
     "output_type": "stream",
     "text": [
      "[00:28:28] WARNING: ../src/learner.cc:1095: Starting in XGBoost 1.3.0, the default evaluation metric used with the objective 'binary:logistic' was changed from 'error' to 'logloss'. Explicitly set eval_metric if you'd like to restore the old behavior.\n",
      "Iteration - 20\n"
     ]
    },
    {
     "name": "stderr",
     "output_type": "stream",
     "text": [
      "\n",
      "Embedding neighbours hexes [Training data]: 100%|██████████| 1022/1022 [00:00<00:00, 4753.71it/s]\n",
      "1022it [00:00, 550761.75it/s]\n",
      "Loading station hexes: 100%|██████████| 292/292 [00:00<00:00, 911262.48it/s]\n",
      "Loading non-station hexes: 100%|██████████| 730/730 [00:00<00:00, 750635.43it/s]"
     ]
    },
    {
     "name": "stdout",
     "output_type": "stream",
     "text": [
      "[00:28:30] WARNING: ../src/learner.cc:1095: Starting in XGBoost 1.3.0, the default evaluation metric used with the objective 'binary:logistic' was changed from 'error' to 'logloss'. Explicitly set eval_metric if you'd like to restore the old behavior.\n",
      "Iteration - 21\n"
     ]
    },
    {
     "name": "stderr",
     "output_type": "stream",
     "text": [
      "\n",
      "Embedding neighbours hexes [Training data]: 100%|██████████| 1022/1022 [00:00<00:00, 4936.36it/s]\n",
      "1022it [00:00, 628714.97it/s]\n",
      "Loading station hexes: 100%|██████████| 292/292 [00:00<00:00, 1230891.22it/s]\n",
      "Loading non-station hexes: 100%|██████████| 730/730 [00:00<00:00, 767763.77it/s]"
     ]
    },
    {
     "name": "stdout",
     "output_type": "stream",
     "text": [
      "[00:28:31] WARNING: ../src/learner.cc:1095: Starting in XGBoost 1.3.0, the default evaluation metric used with the objective 'binary:logistic' was changed from 'error' to 'logloss'. Explicitly set eval_metric if you'd like to restore the old behavior.\n",
      "Iteration - 22\n"
     ]
    },
    {
     "name": "stderr",
     "output_type": "stream",
     "text": [
      "\n",
      "Embedding neighbours hexes [Training data]: 100%|██████████| 1022/1022 [00:00<00:00, 4536.62it/s]\n",
      "1022it [00:00, 844979.04it/s]\n",
      "Loading station hexes: 100%|██████████| 292/292 [00:00<00:00, 653192.94it/s]\n",
      "Loading non-station hexes: 100%|██████████| 730/730 [00:00<00:00, 1174019.14it/s]"
     ]
    },
    {
     "name": "stdout",
     "output_type": "stream",
     "text": [
      "[00:28:32] WARNING: ../src/learner.cc:1095: Starting in XGBoost 1.3.0, the default evaluation metric used with the objective 'binary:logistic' was changed from 'error' to 'logloss'. Explicitly set eval_metric if you'd like to restore the old behavior.\n",
      "Iteration - 23\n"
     ]
    },
    {
     "name": "stderr",
     "output_type": "stream",
     "text": [
      "\n",
      "Embedding neighbours hexes [Training data]: 100%|██████████| 1022/1022 [00:00<00:00, 4884.78it/s]\n",
      "1022it [00:00, 795431.19it/s]\n",
      "Loading station hexes: 100%|██████████| 292/292 [00:00<00:00, 1043217.01it/s]\n",
      "Loading non-station hexes: 100%|██████████| 730/730 [00:00<00:00, 1406450.12it/s]"
     ]
    },
    {
     "name": "stdout",
     "output_type": "stream",
     "text": [
      "[00:28:33] WARNING: ../src/learner.cc:1095: Starting in XGBoost 1.3.0, the default evaluation metric used with the objective 'binary:logistic' was changed from 'error' to 'logloss'. Explicitly set eval_metric if you'd like to restore the old behavior.\n",
      "Iteration - 24\n"
     ]
    },
    {
     "name": "stderr",
     "output_type": "stream",
     "text": [
      "\n",
      "Embedding neighbours hexes [Training data]: 100%|██████████| 1022/1022 [00:00<00:00, 4447.38it/s]\n",
      "1022it [00:00, 1226488.89it/s]\n",
      "Loading station hexes: 100%|██████████| 292/292 [00:00<00:00, 938495.61it/s]\n",
      "Loading non-station hexes: 100%|██████████| 730/730 [00:00<00:00, 1153670.66it/s]"
     ]
    },
    {
     "name": "stdout",
     "output_type": "stream",
     "text": [
      "[00:28:35] WARNING: ../src/learner.cc:1095: Starting in XGBoost 1.3.0, the default evaluation metric used with the objective 'binary:logistic' was changed from 'error' to 'logloss'. Explicitly set eval_metric if you'd like to restore the old behavior.\n",
      "Iteration - 25\n"
     ]
    },
    {
     "name": "stderr",
     "output_type": "stream",
     "text": [
      "\n",
      "Embedding neighbours hexes [Training data]: 100%|██████████| 1022/1022 [00:00<00:00, 4703.25it/s]\n",
      "1022it [00:00, 946055.77it/s]\n",
      "Loading station hexes: 100%|██████████| 292/292 [00:00<00:00, 1170876.45it/s]\n",
      "Loading non-station hexes: 100%|██████████| 730/730 [00:00<00:00, 1181722.08it/s]"
     ]
    },
    {
     "name": "stdout",
     "output_type": "stream",
     "text": [
      "[00:28:36] WARNING: ../src/learner.cc:1095: Starting in XGBoost 1.3.0, the default evaluation metric used with the objective 'binary:logistic' was changed from 'error' to 'logloss'. Explicitly set eval_metric if you'd like to restore the old behavior.\n",
      "Iteration - 26\n"
     ]
    },
    {
     "name": "stderr",
     "output_type": "stream",
     "text": [
      "\n",
      "Embedding neighbours hexes [Training data]: 100%|██████████| 1022/1022 [00:00<00:00, 3920.38it/s]\n",
      "1022it [00:00, 650072.59it/s]\n",
      "Loading station hexes: 100%|██████████| 292/292 [00:00<00:00, 1228422.03it/s]\n",
      "Loading non-station hexes: 100%|██████████| 730/730 [00:00<00:00, 1473456.17it/s]"
     ]
    },
    {
     "name": "stdout",
     "output_type": "stream",
     "text": [
      "[00:28:37] WARNING: ../src/learner.cc:1095: Starting in XGBoost 1.3.0, the default evaluation metric used with the objective 'binary:logistic' was changed from 'error' to 'logloss'. Explicitly set eval_metric if you'd like to restore the old behavior.\n",
      "Iteration - 27\n"
     ]
    },
    {
     "name": "stderr",
     "output_type": "stream",
     "text": [
      "\n",
      "Embedding neighbours hexes [Training data]: 100%|██████████| 1022/1022 [00:00<00:00, 4704.04it/s]\n",
      "1022it [00:00, 961763.22it/s]\n",
      "Loading station hexes: 100%|██████████| 292/292 [00:00<00:00, 1148908.79it/s]\n",
      "Loading non-station hexes: 100%|██████████| 730/730 [00:00<00:00, 732673.35it/s]"
     ]
    },
    {
     "name": "stdout",
     "output_type": "stream",
     "text": [
      "[00:28:39] WARNING: ../src/learner.cc:1095: Starting in XGBoost 1.3.0, the default evaluation metric used with the objective 'binary:logistic' was changed from 'error' to 'logloss'. Explicitly set eval_metric if you'd like to restore the old behavior.\n",
      "Iteration - 28\n"
     ]
    },
    {
     "name": "stderr",
     "output_type": "stream",
     "text": [
      "\n",
      "Embedding neighbours hexes [Training data]: 100%|██████████| 1022/1022 [00:00<00:00, 4758.95it/s]\n",
      "1022it [00:00, 887858.05it/s]\n",
      "Loading station hexes: 100%|██████████| 292/292 [00:00<00:00, 1297390.64it/s]\n",
      "Loading non-station hexes: 100%|██████████| 730/730 [00:00<00:00, 1055079.92it/s]"
     ]
    },
    {
     "name": "stdout",
     "output_type": "stream",
     "text": [
      "[00:28:40] WARNING: ../src/learner.cc:1095: Starting in XGBoost 1.3.0, the default evaluation metric used with the objective 'binary:logistic' was changed from 'error' to 'logloss'. Explicitly set eval_metric if you'd like to restore the old behavior.\n",
      "Iteration - 29\n"
     ]
    },
    {
     "name": "stderr",
     "output_type": "stream",
     "text": [
      "\n",
      "Embedding neighbours hexes [Training data]: 100%|██████████| 1022/1022 [00:00<00:00, 4139.49it/s]\n",
      "1022it [00:00, 734254.66it/s]\n",
      "Loading station hexes: 100%|██████████| 292/292 [00:00<00:00, 1164198.45it/s]\n",
      "Loading non-station hexes: 100%|██████████| 730/730 [00:00<00:00, 1363849.41it/s]"
     ]
    },
    {
     "name": "stdout",
     "output_type": "stream",
     "text": [
      "[00:28:41] WARNING: ../src/learner.cc:1095: Starting in XGBoost 1.3.0, the default evaluation metric used with the objective 'binary:logistic' was changed from 'error' to 'logloss'. Explicitly set eval_metric if you'd like to restore the old behavior.\n",
      "Iteration - 30\n"
     ]
    },
    {
     "name": "stderr",
     "output_type": "stream",
     "text": [
      "\n",
      "Embedding neighbours hexes [Training data]: 100%|██████████| 1022/1022 [00:00<00:00, 4360.86it/s]\n",
      "1022it [00:00, 427077.68it/s]\n",
      "Loading station hexes: 100%|██████████| 292/292 [00:00<00:00, 1064063.22it/s]\n",
      "Loading non-station hexes: 100%|██████████| 730/730 [00:00<00:00, 1090399.54it/s]"
     ]
    },
    {
     "name": "stdout",
     "output_type": "stream",
     "text": [
      "[00:28:42] WARNING: ../src/learner.cc:1095: Starting in XGBoost 1.3.0, the default evaluation metric used with the objective 'binary:logistic' was changed from 'error' to 'logloss'. Explicitly set eval_metric if you'd like to restore the old behavior.\n",
      "Iteration - 31\n"
     ]
    },
    {
     "name": "stderr",
     "output_type": "stream",
     "text": [
      "\n",
      "Embedding neighbours hexes [Training data]: 100%|██████████| 1022/1022 [00:00<00:00, 4428.50it/s]\n",
      "1022it [00:00, 838696.67it/s]\n",
      "Loading station hexes: 100%|██████████| 292/292 [00:00<00:00, 821970.99it/s]\n",
      "Loading non-station hexes: 100%|██████████| 730/730 [00:00<00:00, 759385.40it/s]"
     ]
    },
    {
     "name": "stdout",
     "output_type": "stream",
     "text": [
      "[00:28:43] WARNING: ../src/learner.cc:1095: Starting in XGBoost 1.3.0, the default evaluation metric used with the objective 'binary:logistic' was changed from 'error' to 'logloss'. Explicitly set eval_metric if you'd like to restore the old behavior.\n",
      "Iteration - 32\n"
     ]
    },
    {
     "name": "stderr",
     "output_type": "stream",
     "text": [
      "\n",
      "Embedding neighbours hexes [Training data]: 100%|██████████| 1022/1022 [00:00<00:00, 4260.81it/s]\n",
      "1022it [00:00, 749926.29it/s]\n",
      "Loading station hexes: 100%|██████████| 292/292 [00:00<00:00, 961331.84it/s]\n",
      "Loading non-station hexes: 100%|██████████| 730/730 [00:00<00:00, 1400019.17it/s]"
     ]
    },
    {
     "name": "stdout",
     "output_type": "stream",
     "text": [
      "[00:28:44] WARNING: ../src/learner.cc:1095: Starting in XGBoost 1.3.0, the default evaluation metric used with the objective 'binary:logistic' was changed from 'error' to 'logloss'. Explicitly set eval_metric if you'd like to restore the old behavior.\n",
      "Iteration - 33\n"
     ]
    },
    {
     "name": "stderr",
     "output_type": "stream",
     "text": [
      "\n",
      "Embedding neighbours hexes [Training data]: 100%|██████████| 1022/1022 [00:00<00:00, 4229.79it/s]\n",
      "1022it [00:00, 1001771.14it/s]\n",
      "Loading station hexes: 100%|██████████| 292/292 [00:00<00:00, 1359308.29it/s]\n",
      "Loading non-station hexes: 100%|██████████| 730/730 [00:00<00:00, 766035.01it/s]"
     ]
    },
    {
     "name": "stdout",
     "output_type": "stream",
     "text": [
      "[00:28:46] WARNING: ../src/learner.cc:1095: Starting in XGBoost 1.3.0, the default evaluation metric used with the objective 'binary:logistic' was changed from 'error' to 'logloss'. Explicitly set eval_metric if you'd like to restore the old behavior.\n",
      "Iteration - 34\n"
     ]
    },
    {
     "name": "stderr",
     "output_type": "stream",
     "text": [
      "\n",
      "Embedding neighbours hexes [Training data]: 100%|██████████| 1022/1022 [00:00<00:00, 4269.11it/s]\n",
      "1022it [00:00, 866150.47it/s]\n",
      "Loading station hexes: 100%|██████████| 292/292 [00:00<00:00, 1409363.37it/s]\n",
      "Loading non-station hexes: 100%|██████████| 730/730 [00:00<00:00, 1280034.25it/s]"
     ]
    },
    {
     "name": "stdout",
     "output_type": "stream",
     "text": [
      "[00:28:47] WARNING: ../src/learner.cc:1095: Starting in XGBoost 1.3.0, the default evaluation metric used with the objective 'binary:logistic' was changed from 'error' to 'logloss'. Explicitly set eval_metric if you'd like to restore the old behavior.\n",
      "Iteration - 35\n"
     ]
    },
    {
     "name": "stderr",
     "output_type": "stream",
     "text": [
      "\n",
      "Embedding neighbours hexes [Training data]: 100%|██████████| 1022/1022 [00:00<00:00, 4606.26it/s]\n",
      "1022it [00:00, 501412.88it/s]\n",
      "Loading station hexes: 100%|██████████| 292/292 [00:00<00:00, 818674.31it/s]\n",
      "Loading non-station hexes: 100%|██████████| 730/730 [00:00<00:00, 1432775.82it/s]"
     ]
    },
    {
     "name": "stdout",
     "output_type": "stream",
     "text": [
      "[00:28:49] WARNING: ../src/learner.cc:1095: Starting in XGBoost 1.3.0, the default evaluation metric used with the objective 'binary:logistic' was changed from 'error' to 'logloss'. Explicitly set eval_metric if you'd like to restore the old behavior.\n",
      "Iteration - 36\n"
     ]
    },
    {
     "name": "stderr",
     "output_type": "stream",
     "text": [
      "\n",
      "Embedding neighbours hexes [Training data]: 100%|██████████| 1022/1022 [00:00<00:00, 4511.00it/s]\n",
      "1022it [00:00, 899219.36it/s]\n",
      "Loading station hexes: 100%|██████████| 292/292 [00:00<00:00, 1270473.83it/s]\n",
      "Loading non-station hexes: 100%|██████████| 730/730 [00:00<00:00, 1252287.08it/s]"
     ]
    },
    {
     "name": "stdout",
     "output_type": "stream",
     "text": [
      "[00:28:50] WARNING: ../src/learner.cc:1095: Starting in XGBoost 1.3.0, the default evaluation metric used with the objective 'binary:logistic' was changed from 'error' to 'logloss'. Explicitly set eval_metric if you'd like to restore the old behavior.\n",
      "Iteration - 37\n"
     ]
    },
    {
     "name": "stderr",
     "output_type": "stream",
     "text": [
      "\n",
      "Embedding neighbours hexes [Training data]: 100%|██████████| 1022/1022 [00:00<00:00, 3615.42it/s]\n",
      "1022it [00:00, 601963.02it/s]\n",
      "Loading station hexes: 100%|██████████| 292/292 [00:00<00:00, 547490.73it/s]\n",
      "Loading non-station hexes: 100%|██████████| 730/730 [00:00<00:00, 733199.69it/s]"
     ]
    },
    {
     "name": "stdout",
     "output_type": "stream",
     "text": [
      "[00:28:51] WARNING: ../src/learner.cc:1095: Starting in XGBoost 1.3.0, the default evaluation metric used with the objective 'binary:logistic' was changed from 'error' to 'logloss'. Explicitly set eval_metric if you'd like to restore the old behavior.\n",
      "Iteration - 38\n"
     ]
    },
    {
     "name": "stderr",
     "output_type": "stream",
     "text": [
      "\n",
      "Embedding neighbours hexes [Training data]: 100%|██████████| 1022/1022 [00:00<00:00, 4683.54it/s]\n",
      "1022it [00:00, 537839.23it/s]\n",
      "Loading station hexes: 100%|██████████| 292/292 [00:00<00:00, 476922.42it/s]\n",
      "Loading non-station hexes: 100%|██████████| 730/730 [00:00<00:00, 1235610.14it/s]"
     ]
    },
    {
     "name": "stdout",
     "output_type": "stream",
     "text": [
      "[00:28:53] WARNING: ../src/learner.cc:1095: Starting in XGBoost 1.3.0, the default evaluation metric used with the objective 'binary:logistic' was changed from 'error' to 'logloss'. Explicitly set eval_metric if you'd like to restore the old behavior.\n",
      "Iteration - 39\n"
     ]
    },
    {
     "name": "stderr",
     "output_type": "stream",
     "text": [
      "\n",
      "Embedding neighbours hexes [Training data]: 100%|██████████| 1022/1022 [00:00<00:00, 4259.86it/s]\n",
      "1022it [00:00, 767516.33it/s]\n",
      "Loading station hexes: 100%|██████████| 292/292 [00:00<00:00, 1344387.23it/s]\n",
      "Loading non-station hexes: 100%|██████████| 730/730 [00:00<00:00, 1661335.82it/s]"
     ]
    },
    {
     "name": "stdout",
     "output_type": "stream",
     "text": [
      "[00:28:54] WARNING: ../src/learner.cc:1095: Starting in XGBoost 1.3.0, the default evaluation metric used with the objective 'binary:logistic' was changed from 'error' to 'logloss'. Explicitly set eval_metric if you'd like to restore the old behavior.\n",
      "Iteration - 40\n"
     ]
    },
    {
     "name": "stderr",
     "output_type": "stream",
     "text": [
      "\n",
      "Embedding neighbours hexes [Training data]: 100%|██████████| 1022/1022 [00:00<00:00, 3839.89it/s]\n",
      "1022it [00:00, 590112.70it/s]\n",
      "Loading station hexes: 100%|██████████| 292/292 [00:00<00:00, 1168641.95it/s]\n",
      "Loading non-station hexes: 100%|██████████| 730/730 [00:00<00:00, 1413592.76it/s]"
     ]
    },
    {
     "name": "stdout",
     "output_type": "stream",
     "text": [
      "[00:28:56] WARNING: ../src/learner.cc:1095: Starting in XGBoost 1.3.0, the default evaluation metric used with the objective 'binary:logistic' was changed from 'error' to 'logloss'. Explicitly set eval_metric if you'd like to restore the old behavior.\n",
      "Iteration - 41\n"
     ]
    },
    {
     "name": "stderr",
     "output_type": "stream",
     "text": [
      "\n",
      "Embedding neighbours hexes [Training data]: 100%|██████████| 1022/1022 [00:00<00:00, 4722.43it/s]\n",
      "1022it [00:00, 927028.26it/s]\n",
      "Loading station hexes: 100%|██████████| 292/292 [00:00<00:00, 1228422.03it/s]\n",
      "Loading non-station hexes: 100%|██████████| 730/730 [00:00<00:00, 1482732.16it/s]"
     ]
    },
    {
     "name": "stdout",
     "output_type": "stream",
     "text": [
      "[00:28:58] WARNING: ../src/learner.cc:1095: Starting in XGBoost 1.3.0, the default evaluation metric used with the objective 'binary:logistic' was changed from 'error' to 'logloss'. Explicitly set eval_metric if you'd like to restore the old behavior.\n",
      "Iteration - 42\n"
     ]
    },
    {
     "name": "stderr",
     "output_type": "stream",
     "text": [
      "\n",
      "Embedding neighbours hexes [Training data]: 100%|██████████| 1022/1022 [00:00<00:00, 3237.98it/s]\n",
      "1022it [00:00, 450696.95it/s]\n",
      "Loading station hexes: 100%|██████████| 292/292 [00:00<00:00, 1189064.82it/s]\n",
      "Loading non-station hexes: 100%|██████████| 730/730 [00:00<00:00, 1097827.87it/s]"
     ]
    },
    {
     "name": "stdout",
     "output_type": "stream",
     "text": [
      "[00:29:00] WARNING: ../src/learner.cc:1095: Starting in XGBoost 1.3.0, the default evaluation metric used with the objective 'binary:logistic' was changed from 'error' to 'logloss'. Explicitly set eval_metric if you'd like to restore the old behavior.\n",
      "Iteration - 43\n"
     ]
    },
    {
     "name": "stderr",
     "output_type": "stream",
     "text": [
      "\n",
      "Embedding neighbours hexes [Training data]: 100%|██████████| 1022/1022 [00:00<00:00, 4621.23it/s]\n",
      "1022it [00:00, 1070574.10it/s]\n",
      "Loading station hexes: 100%|██████████| 292/292 [00:00<00:00, 887490.41it/s]\n",
      "Loading non-station hexes: 100%|██████████| 730/730 [00:00<00:00, 661162.15it/s]"
     ]
    },
    {
     "name": "stdout",
     "output_type": "stream",
     "text": [
      "[00:29:02] WARNING: ../src/learner.cc:1095: Starting in XGBoost 1.3.0, the default evaluation metric used with the objective 'binary:logistic' was changed from 'error' to 'logloss'. Explicitly set eval_metric if you'd like to restore the old behavior.\n",
      "Iteration - 44\n"
     ]
    },
    {
     "name": "stderr",
     "output_type": "stream",
     "text": [
      "\n",
      "Embedding neighbours hexes [Training data]: 100%|██████████| 1022/1022 [00:00<00:00, 4125.68it/s]\n",
      "1022it [00:00, 532428.11it/s]\n",
      "Loading station hexes: 100%|██████████| 292/292 [00:00<00:00, 1156503.09it/s]\n",
      "Loading non-station hexes: 100%|██████████| 730/730 [00:00<00:00, 737793.23it/s]"
     ]
    },
    {
     "name": "stdout",
     "output_type": "stream",
     "text": [
      "[00:29:04] WARNING: ../src/learner.cc:1095: Starting in XGBoost 1.3.0, the default evaluation metric used with the objective 'binary:logistic' was changed from 'error' to 'logloss'. Explicitly set eval_metric if you'd like to restore the old behavior.\n",
      "Iteration - 45\n"
     ]
    },
    {
     "name": "stderr",
     "output_type": "stream",
     "text": [
      "\n",
      "Embedding neighbours hexes [Training data]: 100%|██████████| 1022/1022 [00:00<00:00, 3906.45it/s]\n",
      "1022it [00:00, 869664.98it/s]\n",
      "Loading station hexes: 100%|██████████| 292/292 [00:00<00:00, 1435799.26it/s]\n",
      "Loading non-station hexes: 100%|██████████| 730/730 [00:00<00:00, 985148.62it/s]"
     ]
    },
    {
     "name": "stdout",
     "output_type": "stream",
     "text": [
      "[00:29:06] WARNING: ../src/learner.cc:1095: Starting in XGBoost 1.3.0, the default evaluation metric used with the objective 'binary:logistic' was changed from 'error' to 'logloss'. Explicitly set eval_metric if you'd like to restore the old behavior.\n",
      "Iteration - 46\n"
     ]
    },
    {
     "name": "stderr",
     "output_type": "stream",
     "text": [
      "\n",
      "Embedding neighbours hexes [Training data]: 100%|██████████| 1022/1022 [00:00<00:00, 4322.85it/s]\n",
      "1022it [00:00, 652944.20it/s]\n",
      "Loading station hexes: 100%|██████████| 292/292 [00:00<00:00, 952361.41it/s]\n",
      "Loading non-station hexes: 100%|██████████| 730/730 [00:00<00:00, 1717241.68it/s]"
     ]
    },
    {
     "name": "stdout",
     "output_type": "stream",
     "text": [
      "[00:29:07] WARNING: ../src/learner.cc:1095: Starting in XGBoost 1.3.0, the default evaluation metric used with the objective 'binary:logistic' was changed from 'error' to 'logloss'. Explicitly set eval_metric if you'd like to restore the old behavior.\n",
      "Iteration - 47\n"
     ]
    },
    {
     "name": "stderr",
     "output_type": "stream",
     "text": [
      "\n",
      "Embedding neighbours hexes [Training data]: 100%|██████████| 1022/1022 [00:00<00:00, 4251.29it/s]\n",
      "1022it [00:00, 943764.57it/s]\n",
      "Loading station hexes: 100%|██████████| 292/292 [00:00<00:00, 1139290.02it/s]\n",
      "Loading non-station hexes: 100%|██████████| 730/730 [00:00<00:00, 550295.10it/s]"
     ]
    },
    {
     "name": "stdout",
     "output_type": "stream",
     "text": [
      "[00:29:08] WARNING: ../src/learner.cc:1095: Starting in XGBoost 1.3.0, the default evaluation metric used with the objective 'binary:logistic' was changed from 'error' to 'logloss'. Explicitly set eval_metric if you'd like to restore the old behavior.\n",
      "Iteration - 48\n"
     ]
    },
    {
     "name": "stderr",
     "output_type": "stream",
     "text": [
      "\n",
      "Embedding neighbours hexes [Training data]: 100%|██████████| 1022/1022 [00:00<00:00, 4065.37it/s]\n",
      "1022it [00:00, 1037159.13it/s]\n",
      "Loading station hexes: 100%|██████████| 292/292 [00:00<00:00, 1297390.64it/s]\n",
      "Loading non-station hexes: 100%|██████████| 730/730 [00:00<00:00, 1358403.69it/s]"
     ]
    },
    {
     "name": "stdout",
     "output_type": "stream",
     "text": [
      "[00:29:10] WARNING: ../src/learner.cc:1095: Starting in XGBoost 1.3.0, the default evaluation metric used with the objective 'binary:logistic' was changed from 'error' to 'logloss'. Explicitly set eval_metric if you'd like to restore the old behavior.\n",
      "Iteration - 49\n"
     ]
    },
    {
     "name": "stderr",
     "output_type": "stream",
     "text": [
      "\n",
      "Embedding neighbours hexes [Training data]: 100%|██████████| 1022/1022 [00:00<00:00, 3771.91it/s]\n",
      "1022it [00:00, 534219.68it/s]\n",
      "Loading station hexes: 100%|██████████| 292/292 [00:00<00:00, 1261314.90it/s]\n",
      "Loading non-station hexes: 100%|██████████| 730/730 [00:00<00:00, 911262.48it/s]"
     ]
    },
    {
     "name": "stdout",
     "output_type": "stream",
     "text": [
      "[00:29:11] WARNING: ../src/learner.cc:1095: Starting in XGBoost 1.3.0, the default evaluation metric used with the objective 'binary:logistic' was changed from 'error' to 'logloss'. Explicitly set eval_metric if you'd like to restore the old behavior.\n",
      "Iteration - 50\n"
     ]
    },
    {
     "name": "stderr",
     "output_type": "stream",
     "text": [
      "\n",
      "Embedding neighbours hexes [Training data]: 100%|██████████| 1022/1022 [00:00<00:00, 4570.50it/s]\n",
      "1022it [00:00, 471570.81it/s]\n",
      "Loading station hexes: 100%|██████████| 292/292 [00:00<00:00, 1354797.31it/s]\n",
      "Loading non-station hexes: 100%|██████████| 730/730 [00:00<00:00, 990887.35it/s]"
     ]
    },
    {
     "name": "stdout",
     "output_type": "stream",
     "text": [
      "[00:29:13] WARNING: ../src/learner.cc:1095: Starting in XGBoost 1.3.0, the default evaluation metric used with the objective 'binary:logistic' was changed from 'error' to 'logloss'. Explicitly set eval_metric if you'd like to restore the old behavior.\n",
      "Iteration - 51\n"
     ]
    },
    {
     "name": "stderr",
     "output_type": "stream",
     "text": [
      "\n",
      "Embedding neighbours hexes [Training data]: 100%|██████████| 1022/1022 [00:00<00:00, 3657.93it/s]\n",
      "1022it [00:00, 534486.12it/s]\n",
      "Loading station hexes: 100%|██████████| 292/292 [00:00<00:00, 883648.46it/s]\n",
      "Loading non-station hexes: 100%|██████████| 730/730 [00:00<00:00, 1328347.90it/s]"
     ]
    },
    {
     "name": "stdout",
     "output_type": "stream",
     "text": [
      "[00:29:16] WARNING: ../src/learner.cc:1095: Starting in XGBoost 1.3.0, the default evaluation metric used with the objective 'binary:logistic' was changed from 'error' to 'logloss'. Explicitly set eval_metric if you'd like to restore the old behavior.\n",
      "Iteration - 52\n"
     ]
    },
    {
     "name": "stderr",
     "output_type": "stream",
     "text": [
      "\n",
      "Embedding neighbours hexes [Training data]: 100%|██████████| 1022/1022 [00:00<00:00, 3437.31it/s]\n",
      "1022it [00:00, 692724.42it/s]\n",
      "Loading station hexes: 100%|██████████| 292/292 [00:00<00:00, 1189064.82it/s]\n",
      "Loading non-station hexes: 100%|██████████| 730/730 [00:00<00:00, 664750.74it/s]"
     ]
    },
    {
     "name": "stdout",
     "output_type": "stream",
     "text": [
      "[00:29:23] WARNING: ../src/learner.cc:1095: Starting in XGBoost 1.3.0, the default evaluation metric used with the objective 'binary:logistic' was changed from 'error' to 'logloss'. Explicitly set eval_metric if you'd like to restore the old behavior.\n",
      "Iteration - 53\n"
     ]
    },
    {
     "name": "stderr",
     "output_type": "stream",
     "text": [
      "\n",
      "Embedding neighbours hexes [Training data]: 100%|██████████| 1022/1022 [00:00<00:00, 3427.65it/s]\n",
      "1022it [00:00, 836568.83it/s]\n",
      "Loading station hexes: 100%|██████████| 292/292 [00:00<00:00, 922241.54it/s]\n",
      "Loading non-station hexes: 100%|██████████| 730/730 [00:00<00:00, 1524062.68it/s]"
     ]
    },
    {
     "name": "stdout",
     "output_type": "stream",
     "text": [
      "[00:29:25] WARNING: ../src/learner.cc:1095: Starting in XGBoost 1.3.0, the default evaluation metric used with the objective 'binary:logistic' was changed from 'error' to 'logloss'. Explicitly set eval_metric if you'd like to restore the old behavior.\n",
      "Iteration - 54\n"
     ]
    },
    {
     "name": "stderr",
     "output_type": "stream",
     "text": [
      "\n",
      "Embedding neighbours hexes [Training data]: 100%|██████████| 1022/1022 [00:00<00:00, 4508.57it/s]\n",
      "1022it [00:00, 418856.62it/s]\n",
      "Loading station hexes: 100%|██████████| 292/292 [00:00<00:00, 1200722.32it/s]\n",
      "Loading non-station hexes: 100%|██████████| 730/730 [00:00<00:00, 1740671.93it/s]"
     ]
    },
    {
     "name": "stdout",
     "output_type": "stream",
     "text": [
      "[00:29:27] WARNING: ../src/learner.cc:1095: Starting in XGBoost 1.3.0, the default evaluation metric used with the objective 'binary:logistic' was changed from 'error' to 'logloss'. Explicitly set eval_metric if you'd like to restore the old behavior.\n",
      "Iteration - 55\n"
     ]
    },
    {
     "name": "stderr",
     "output_type": "stream",
     "text": [
      "\n",
      "Embedding neighbours hexes [Training data]: 100%|██████████| 1022/1022 [00:00<00:00, 4253.86it/s]\n",
      "1022it [00:00, 973116.61it/s]\n",
      "Loading station hexes: 100%|██████████| 292/292 [00:00<00:00, 1109363.01it/s]\n",
      "Loading non-station hexes: 100%|██████████| 730/730 [00:00<00:00, 1324899.14it/s]"
     ]
    },
    {
     "name": "stdout",
     "output_type": "stream",
     "text": [
      "[00:29:28] WARNING: ../src/learner.cc:1095: Starting in XGBoost 1.3.0, the default evaluation metric used with the objective 'binary:logistic' was changed from 'error' to 'logloss'. Explicitly set eval_metric if you'd like to restore the old behavior.\n",
      "Iteration - 56\n"
     ]
    },
    {
     "name": "stderr",
     "output_type": "stream",
     "text": [
      "\n",
      "Embedding neighbours hexes [Training data]: 100%|██████████| 1022/1022 [00:00<00:00, 4745.42it/s]\n",
      "1022it [00:00, 558875.97it/s]\n",
      "Loading station hexes: 100%|██████████| 292/292 [00:00<00:00, 1253568.85it/s]\n",
      "Loading non-station hexes: 100%|██████████| 730/730 [00:00<00:00, 1887695.39it/s]"
     ]
    },
    {
     "name": "stdout",
     "output_type": "stream",
     "text": [
      "[00:29:30] WARNING: ../src/learner.cc:1095: Starting in XGBoost 1.3.0, the default evaluation metric used with the objective 'binary:logistic' was changed from 'error' to 'logloss'. Explicitly set eval_metric if you'd like to restore the old behavior.\n",
      "Iteration - 57\n"
     ]
    },
    {
     "name": "stderr",
     "output_type": "stream",
     "text": [
      "\n",
      "Embedding neighbours hexes [Training data]: 100%|██████████| 1022/1022 [00:00<00:00, 4113.35it/s]\n",
      "1022it [00:00, 1054768.38it/s]\n",
      "Loading station hexes: 100%|██████████| 292/292 [00:00<00:00, 1253568.85it/s]\n",
      "Loading non-station hexes: 100%|██████████| 730/730 [00:00<00:00, 868115.09it/s]"
     ]
    },
    {
     "name": "stdout",
     "output_type": "stream",
     "text": [
      "[00:29:31] WARNING: ../src/learner.cc:1095: Starting in XGBoost 1.3.0, the default evaluation metric used with the objective 'binary:logistic' was changed from 'error' to 'logloss'. Explicitly set eval_metric if you'd like to restore the old behavior.\n",
      "Iteration - 58\n"
     ]
    },
    {
     "name": "stderr",
     "output_type": "stream",
     "text": [
      "\n",
      "Embedding neighbours hexes [Training data]: 100%|██████████| 1022/1022 [00:00<00:00, 4453.21it/s]\n",
      "1022it [00:00, 830732.30it/s]\n",
      "Loading station hexes: 100%|██████████| 292/292 [00:00<00:00, 899880.06it/s]\n",
      "Loading non-station hexes: 100%|██████████| 730/730 [00:00<00:00, 1530920.96it/s]"
     ]
    },
    {
     "name": "stdout",
     "output_type": "stream",
     "text": [
      "[00:29:32] WARNING: ../src/learner.cc:1095: Starting in XGBoost 1.3.0, the default evaluation metric used with the objective 'binary:logistic' was changed from 'error' to 'logloss'. Explicitly set eval_metric if you'd like to restore the old behavior.\n",
      "Iteration - 59\n"
     ]
    },
    {
     "name": "stderr",
     "output_type": "stream",
     "text": [
      "\n",
      "Embedding neighbours hexes [Training data]: 100%|██████████| 1022/1022 [00:00<00:00, 2464.26it/s]\n",
      "1022it [00:00, 744197.69it/s]\n",
      "Loading station hexes: 100%|██████████| 292/292 [00:00<00:00, 1348829.04it/s]\n",
      "Loading non-station hexes: 100%|██████████| 730/730 [00:00<00:00, 1220343.53it/s]"
     ]
    },
    {
     "name": "stdout",
     "output_type": "stream",
     "text": [
      "[00:29:34] WARNING: ../src/learner.cc:1095: Starting in XGBoost 1.3.0, the default evaluation metric used with the objective 'binary:logistic' was changed from 'error' to 'logloss'. Explicitly set eval_metric if you'd like to restore the old behavior.\n",
      "Iteration - 60\n"
     ]
    },
    {
     "name": "stderr",
     "output_type": "stream",
     "text": [
      "\n",
      "Embedding neighbours hexes [Training data]: 100%|██████████| 1022/1022 [00:00<00:00, 3904.50it/s]\n",
      "1022it [00:00, 846146.60it/s]\n",
      "Loading station hexes: 100%|██████████| 292/292 [00:00<00:00, 1204264.28it/s]\n",
      "Loading non-station hexes: 100%|██████████| 730/730 [00:00<00:00, 726933.03it/s]"
     ]
    },
    {
     "name": "stdout",
     "output_type": "stream",
     "text": [
      "[00:29:35] WARNING: ../src/learner.cc:1095: Starting in XGBoost 1.3.0, the default evaluation metric used with the objective 'binary:logistic' was changed from 'error' to 'logloss'. Explicitly set eval_metric if you'd like to restore the old behavior.\n",
      "Iteration - 61\n"
     ]
    },
    {
     "name": "stderr",
     "output_type": "stream",
     "text": [
      "\n",
      "Embedding neighbours hexes [Training data]: 100%|██████████| 1022/1022 [00:00<00:00, 3893.44it/s]\n",
      "1022it [00:00, 732873.77it/s]\n",
      "Loading station hexes: 100%|██████████| 292/292 [00:00<00:00, 927128.51it/s]\n",
      "Loading non-station hexes: 100%|██████████| 730/730 [00:00<00:00, 807447.76it/s]"
     ]
    },
    {
     "name": "stdout",
     "output_type": "stream",
     "text": [
      "[00:29:37] WARNING: ../src/learner.cc:1095: Starting in XGBoost 1.3.0, the default evaluation metric used with the objective 'binary:logistic' was changed from 'error' to 'logloss'. Explicitly set eval_metric if you'd like to restore the old behavior.\n",
      "Iteration - 62\n"
     ]
    },
    {
     "name": "stderr",
     "output_type": "stream",
     "text": [
      "\n",
      "Embedding neighbours hexes [Training data]: 100%|██████████| 1022/1022 [00:00<00:00, 4515.83it/s]\n",
      "1022it [00:00, 591496.99it/s]\n",
      "Loading station hexes: 100%|██████████| 292/292 [00:00<00:00, 1283791.16it/s]\n",
      "Loading non-station hexes: 100%|██████████| 730/730 [00:00<00:00, 1153670.66it/s]"
     ]
    },
    {
     "name": "stdout",
     "output_type": "stream",
     "text": [
      "[00:29:38] WARNING: ../src/learner.cc:1095: Starting in XGBoost 1.3.0, the default evaluation metric used with the objective 'binary:logistic' was changed from 'error' to 'logloss'. Explicitly set eval_metric if you'd like to restore the old behavior.\n",
      "Iteration - 63\n"
     ]
    },
    {
     "name": "stderr",
     "output_type": "stream",
     "text": [
      "\n",
      "Embedding neighbours hexes [Training data]: 100%|██████████| 1022/1022 [00:00<00:00, 4865.43it/s]\n",
      "1022it [00:00, 713359.74it/s]\n",
      "Loading station hexes: 100%|██████████| 292/292 [00:00<00:00, 1258722.27it/s]\n",
      "Loading non-station hexes: 100%|██████████| 730/730 [00:00<00:00, 1338802.76it/s]"
     ]
    },
    {
     "name": "stdout",
     "output_type": "stream",
     "text": [
      "[00:29:39] WARNING: ../src/learner.cc:1095: Starting in XGBoost 1.3.0, the default evaluation metric used with the objective 'binary:logistic' was changed from 'error' to 'logloss'. Explicitly set eval_metric if you'd like to restore the old behavior.\n",
      "Iteration - 64\n"
     ]
    },
    {
     "name": "stderr",
     "output_type": "stream",
     "text": [
      "\n",
      "Embedding neighbours hexes [Training data]: 100%|██████████| 1022/1022 [00:00<00:00, 4398.87it/s]\n",
      "1022it [00:00, 722010.90it/s]\n",
      "Loading station hexes: 100%|██████████| 292/292 [00:00<00:00, 826408.08it/s]\n",
      "Loading non-station hexes: 100%|██████████| 730/730 [00:00<00:00, 739039.81it/s]"
     ]
    },
    {
     "name": "stdout",
     "output_type": "stream",
     "text": [
      "[00:29:40] WARNING: ../src/learner.cc:1095: Starting in XGBoost 1.3.0, the default evaluation metric used with the objective 'binary:logistic' was changed from 'error' to 'logloss'. Explicitly set eval_metric if you'd like to restore the old behavior.\n",
      "Iteration - 65\n"
     ]
    },
    {
     "name": "stderr",
     "output_type": "stream",
     "text": [
      "\n",
      "Embedding neighbours hexes [Training data]: 100%|██████████| 1022/1022 [00:00<00:00, 4298.92it/s]\n",
      "1022it [00:00, 879117.86it/s]\n",
      "Loading station hexes: 100%|██████████| 292/292 [00:00<00:00, 794767.53it/s]\n",
      "Loading non-station hexes: 100%|██████████| 730/730 [00:00<00:00, 1274174.75it/s]"
     ]
    },
    {
     "name": "stdout",
     "output_type": "stream",
     "text": [
      "[00:29:41] WARNING: ../src/learner.cc:1095: Starting in XGBoost 1.3.0, the default evaluation metric used with the objective 'binary:logistic' was changed from 'error' to 'logloss'. Explicitly set eval_metric if you'd like to restore the old behavior.\n",
      "Iteration - 66\n"
     ]
    },
    {
     "name": "stderr",
     "output_type": "stream",
     "text": [
      "\n",
      "Embedding neighbours hexes [Training data]: 100%|██████████| 1022/1022 [00:00<00:00, 4219.53it/s]\n",
      "1022it [00:00, 499310.27it/s]\n",
      "Loading station hexes: 100%|██████████| 292/292 [00:00<00:00, 1296017.74it/s]\n",
      "Loading non-station hexes: 100%|██████████| 730/730 [00:00<00:00, 1110973.12it/s]"
     ]
    },
    {
     "name": "stdout",
     "output_type": "stream",
     "text": [
      "[00:29:42] WARNING: ../src/learner.cc:1095: Starting in XGBoost 1.3.0, the default evaluation metric used with the objective 'binary:logistic' was changed from 'error' to 'logloss'. Explicitly set eval_metric if you'd like to restore the old behavior.\n",
      "Iteration - 67\n"
     ]
    },
    {
     "name": "stderr",
     "output_type": "stream",
     "text": [
      "\n",
      "Embedding neighbours hexes [Training data]: 100%|██████████| 1022/1022 [00:00<00:00, 3474.74it/s]\n",
      "1022it [00:00, 842487.95it/s]\n",
      "Loading station hexes: 100%|██████████| 292/292 [00:00<00:00, 1061297.03it/s]\n",
      "Loading non-station hexes: 100%|██████████| 730/730 [00:00<00:00, 755264.41it/s]"
     ]
    },
    {
     "name": "stdout",
     "output_type": "stream",
     "text": [
      "[00:29:45] WARNING: ../src/learner.cc:1095: Starting in XGBoost 1.3.0, the default evaluation metric used with the objective 'binary:logistic' was changed from 'error' to 'logloss'. Explicitly set eval_metric if you'd like to restore the old behavior.\n",
      "Iteration - 68\n"
     ]
    },
    {
     "name": "stderr",
     "output_type": "stream",
     "text": [
      "\n",
      "Embedding neighbours hexes [Training data]: 100%|██████████| 1022/1022 [00:00<00:00, 3451.21it/s]\n",
      "1022it [00:00, 577861.78it/s]\n",
      "Loading station hexes: 100%|██████████| 292/292 [00:00<00:00, 1215016.63it/s]\n",
      "Loading non-station hexes: 100%|██████████| 730/730 [00:00<00:00, 783280.10it/s]"
     ]
    },
    {
     "name": "stdout",
     "output_type": "stream",
     "text": [
      "[00:29:47] WARNING: ../src/learner.cc:1095: Starting in XGBoost 1.3.0, the default evaluation metric used with the objective 'binary:logistic' was changed from 'error' to 'logloss'. Explicitly set eval_metric if you'd like to restore the old behavior.\n",
      "Iteration - 69\n"
     ]
    },
    {
     "name": "stderr",
     "output_type": "stream",
     "text": [
      "\n",
      "Embedding neighbours hexes [Training data]: 100%|██████████| 1022/1022 [00:00<00:00, 4910.49it/s]\n",
      "1022it [00:00, 984289.02it/s]\n",
      "Loading station hexes: 100%|██████████| 292/292 [00:00<00:00, 1269157.27it/s]\n",
      "Loading non-station hexes: 100%|██████████| 730/730 [00:00<00:00, 925587.04it/s]"
     ]
    },
    {
     "name": "stdout",
     "output_type": "stream",
     "text": [
      "[00:29:48] WARNING: ../src/learner.cc:1095: Starting in XGBoost 1.3.0, the default evaluation metric used with the objective 'binary:logistic' was changed from 'error' to 'logloss'. Explicitly set eval_metric if you'd like to restore the old behavior.\n",
      "Iteration - 70\n"
     ]
    },
    {
     "name": "stderr",
     "output_type": "stream",
     "text": [
      "\n",
      "Embedding neighbours hexes [Training data]: 100%|██████████| 1022/1022 [00:00<00:00, 4481.33it/s]\n",
      "1022it [00:00, 516206.49it/s]\n",
      "Loading station hexes: 100%|██████████| 292/292 [00:00<00:00, 1153236.13it/s]\n",
      "Loading non-station hexes: 100%|██████████| 730/730 [00:00<00:00, 1064618.19it/s]"
     ]
    },
    {
     "name": "stdout",
     "output_type": "stream",
     "text": [
      "[00:29:49] WARNING: ../src/learner.cc:1095: Starting in XGBoost 1.3.0, the default evaluation metric used with the objective 'binary:logistic' was changed from 'error' to 'logloss'. Explicitly set eval_metric if you'd like to restore the old behavior.\n",
      "Iteration - 71\n"
     ]
    },
    {
     "name": "stderr",
     "output_type": "stream",
     "text": [
      "\n",
      "Embedding neighbours hexes [Training data]: 100%|██████████| 1022/1022 [00:00<00:00, 4662.86it/s]\n",
      "1022it [00:00, 769997.97it/s]\n",
      "Loading station hexes: 100%|██████████| 292/292 [00:00<00:00, 1113397.06it/s]\n",
      "Loading non-station hexes: 100%|██████████| 730/730 [00:00<00:00, 868607.64it/s]"
     ]
    },
    {
     "name": "stdout",
     "output_type": "stream",
     "text": [
      "[00:29:51] WARNING: ../src/learner.cc:1095: Starting in XGBoost 1.3.0, the default evaluation metric used with the objective 'binary:logistic' was changed from 'error' to 'logloss'. Explicitly set eval_metric if you'd like to restore the old behavior.\n",
      "Iteration - 72\n"
     ]
    },
    {
     "name": "stderr",
     "output_type": "stream",
     "text": [
      "\n",
      "Embedding neighbours hexes [Training data]: 100%|██████████| 1022/1022 [00:00<00:00, 3622.84it/s]\n",
      "1022it [00:00, 570175.40it/s]\n",
      "Loading station hexes: 100%|██████████| 292/292 [00:00<00:00, 623910.73it/s]\n",
      "Loading non-station hexes: 100%|██████████| 730/730 [00:00<00:00, 706307.25it/s]"
     ]
    },
    {
     "name": "stdout",
     "output_type": "stream",
     "text": [
      "[00:29:53] WARNING: ../src/learner.cc:1095: Starting in XGBoost 1.3.0, the default evaluation metric used with the objective 'binary:logistic' was changed from 'error' to 'logloss'. Explicitly set eval_metric if you'd like to restore the old behavior.\n",
      "Iteration - 73\n"
     ]
    },
    {
     "name": "stderr",
     "output_type": "stream",
     "text": [
      "\n",
      "Embedding neighbours hexes [Training data]: 100%|██████████| 1022/1022 [00:00<00:00, 4506.95it/s]\n",
      "1022it [00:00, 780513.24it/s]\n",
      "Loading station hexes: 100%|██████████| 292/292 [00:00<00:00, 1435799.26it/s]\n",
      "Loading non-station hexes: 100%|██████████| 730/730 [00:00<00:00, 1625181.49it/s]"
     ]
    },
    {
     "name": "stdout",
     "output_type": "stream",
     "text": [
      "[00:29:54] WARNING: ../src/learner.cc:1095: Starting in XGBoost 1.3.0, the default evaluation metric used with the objective 'binary:logistic' was changed from 'error' to 'logloss'. Explicitly set eval_metric if you'd like to restore the old behavior.\n",
      "Iteration - 74\n"
     ]
    },
    {
     "name": "stderr",
     "output_type": "stream",
     "text": [
      "\n",
      "Embedding neighbours hexes [Training data]: 100%|██████████| 1022/1022 [00:00<00:00, 4027.70it/s]\n",
      "1022it [00:00, 992953.14it/s]\n",
      "Loading station hexes: 100%|██████████| 292/292 [00:00<00:00, 1337048.87it/s]\n",
      "Loading non-station hexes: 100%|██████████| 730/730 [00:00<00:00, 613964.69it/s]"
     ]
    },
    {
     "name": "stdout",
     "output_type": "stream",
     "text": [
      "[00:29:55] WARNING: ../src/learner.cc:1095: Starting in XGBoost 1.3.0, the default evaluation metric used with the objective 'binary:logistic' was changed from 'error' to 'logloss'. Explicitly set eval_metric if you'd like to restore the old behavior.\n",
      "Iteration - 75\n"
     ]
    },
    {
     "name": "stderr",
     "output_type": "stream",
     "text": [
      "\n",
      "Embedding neighbours hexes [Training data]: 100%|██████████| 1022/1022 [00:00<00:00, 4646.93it/s]\n",
      "1022it [00:00, 736905.40it/s]\n",
      "Loading station hexes: 100%|██████████| 292/292 [00:00<00:00, 1242126.54it/s]\n",
      "Loading non-station hexes: 100%|██████████| 730/730 [00:00<00:00, 1309598.77it/s]"
     ]
    },
    {
     "name": "stdout",
     "output_type": "stream",
     "text": [
      "[00:29:57] WARNING: ../src/learner.cc:1095: Starting in XGBoost 1.3.0, the default evaluation metric used with the objective 'binary:logistic' was changed from 'error' to 'logloss'. Explicitly set eval_metric if you'd like to restore the old behavior.\n",
      "Iteration - 76\n"
     ]
    },
    {
     "name": "stderr",
     "output_type": "stream",
     "text": [
      "\n",
      "Embedding neighbours hexes [Training data]: 100%|██████████| 1022/1022 [00:00<00:00, 4131.08it/s]\n",
      "1022it [00:00, 531174.56it/s]\n",
      "Loading station hexes: 100%|██████████| 292/292 [00:00<00:00, 927830.88it/s]\n",
      "Loading non-station hexes: 100%|██████████| 730/730 [00:00<00:00, 1200722.32it/s]"
     ]
    },
    {
     "name": "stdout",
     "output_type": "stream",
     "text": [
      "[00:29:58] WARNING: ../src/learner.cc:1095: Starting in XGBoost 1.3.0, the default evaluation metric used with the objective 'binary:logistic' was changed from 'error' to 'logloss'. Explicitly set eval_metric if you'd like to restore the old behavior.\n",
      "Iteration - 77\n"
     ]
    },
    {
     "name": "stderr",
     "output_type": "stream",
     "text": [
      "\n",
      "Embedding neighbours hexes [Training data]: 100%|██████████| 1022/1022 [00:00<00:00, 4606.93it/s]\n",
      "1022it [00:00, 888226.00it/s]\n",
      "Loading station hexes: 100%|██████████| 292/292 [00:00<00:00, 1322609.90it/s]\n",
      "Loading non-station hexes: 100%|██████████| 730/730 [00:00<00:00, 1456632.69it/s]"
     ]
    },
    {
     "name": "stdout",
     "output_type": "stream",
     "text": [
      "[00:29:59] WARNING: ../src/learner.cc:1095: Starting in XGBoost 1.3.0, the default evaluation metric used with the objective 'binary:logistic' was changed from 'error' to 'logloss'. Explicitly set eval_metric if you'd like to restore the old behavior.\n",
      "Iteration - 78\n"
     ]
    },
    {
     "name": "stderr",
     "output_type": "stream",
     "text": [
      "\n",
      "Embedding neighbours hexes [Training data]: 100%|██████████| 1022/1022 [00:00<00:00, 4456.01it/s]\n",
      "1022it [00:00, 618643.19it/s]\n",
      "Loading station hexes: 100%|██████████| 292/292 [00:00<00:00, 1134015.53it/s]\n",
      "Loading non-station hexes: 100%|██████████| 730/730 [00:00<00:00, 1191841.93it/s]"
     ]
    },
    {
     "name": "stdout",
     "output_type": "stream",
     "text": [
      "[00:30:01] WARNING: ../src/learner.cc:1095: Starting in XGBoost 1.3.0, the default evaluation metric used with the objective 'binary:logistic' was changed from 'error' to 'logloss'. Explicitly set eval_metric if you'd like to restore the old behavior.\n",
      "Iteration - 79\n"
     ]
    },
    {
     "name": "stderr",
     "output_type": "stream",
     "text": [
      "\n",
      "Embedding neighbours hexes [Training data]: 100%|██████████| 1022/1022 [00:00<00:00, 4644.36it/s]\n",
      "1022it [00:00, 957894.68it/s]\n",
      "Loading station hexes: 100%|██████████| 292/292 [00:00<00:00, 1037033.67it/s]\n",
      "Loading non-station hexes: 100%|██████████| 730/730 [00:00<00:00, 1465697.42it/s]"
     ]
    },
    {
     "name": "stdout",
     "output_type": "stream",
     "text": [
      "[00:30:02] WARNING: ../src/learner.cc:1095: Starting in XGBoost 1.3.0, the default evaluation metric used with the objective 'binary:logistic' was changed from 'error' to 'logloss'. Explicitly set eval_metric if you'd like to restore the old behavior.\n",
      "Iteration - 80\n"
     ]
    },
    {
     "name": "stderr",
     "output_type": "stream",
     "text": [
      "\n",
      "Embedding neighbours hexes [Training data]: 100%|██████████| 1022/1022 [00:00<00:00, 4914.15it/s]\n",
      "1022it [00:00, 981584.31it/s]\n",
      "Loading station hexes: 100%|██████████| 292/292 [00:00<00:00, 1020613.97it/s]\n",
      "Loading non-station hexes: 100%|██████████| 730/730 [00:00<00:00, 1538614.03it/s]"
     ]
    },
    {
     "name": "stdout",
     "output_type": "stream",
     "text": [
      "[00:30:03] WARNING: ../src/learner.cc:1095: Starting in XGBoost 1.3.0, the default evaluation metric used with the objective 'binary:logistic' was changed from 'error' to 'logloss'. Explicitly set eval_metric if you'd like to restore the old behavior.\n",
      "Iteration - 81\n"
     ]
    },
    {
     "name": "stderr",
     "output_type": "stream",
     "text": [
      "\n",
      "Embedding neighbours hexes [Training data]: 100%|██████████| 1022/1022 [00:00<00:00, 4735.14it/s]\n",
      "1022it [00:00, 875526.69it/s]\n",
      "Loading station hexes: 100%|██████████| 292/292 [00:00<00:00, 1409363.37it/s]\n",
      "Loading non-station hexes: 100%|██████████| 730/730 [00:00<00:00, 865416.03it/s]"
     ]
    },
    {
     "name": "stdout",
     "output_type": "stream",
     "text": [
      "[00:30:04] WARNING: ../src/learner.cc:1095: Starting in XGBoost 1.3.0, the default evaluation metric used with the objective 'binary:logistic' was changed from 'error' to 'logloss'. Explicitly set eval_metric if you'd like to restore the old behavior.\n",
      "Iteration - 82\n"
     ]
    },
    {
     "name": "stderr",
     "output_type": "stream",
     "text": [
      "\n",
      "Embedding neighbours hexes [Training data]: 100%|██████████| 1022/1022 [00:00<00:00, 4851.40it/s]\n",
      "1022it [00:00, 1071644.67it/s]\n",
      "Loading station hexes: 100%|██████████| 292/292 [00:00<00:00, 1025742.69it/s]\n",
      "Loading non-station hexes: 100%|██████████| 730/730 [00:00<00:00, 1694433.82it/s]"
     ]
    },
    {
     "name": "stdout",
     "output_type": "stream",
     "text": [
      "[00:30:05] WARNING: ../src/learner.cc:1095: Starting in XGBoost 1.3.0, the default evaluation metric used with the objective 'binary:logistic' was changed from 'error' to 'logloss'. Explicitly set eval_metric if you'd like to restore the old behavior.\n",
      "Iteration - 83\n"
     ]
    },
    {
     "name": "stderr",
     "output_type": "stream",
     "text": [
      "\n",
      "Embedding neighbours hexes [Training data]: 100%|██████████| 1022/1022 [00:00<00:00, 4430.76it/s]\n",
      "1022it [00:00, 630564.68it/s]\n",
      "Loading station hexes: 100%|██████████| 292/292 [00:00<00:00, 1331235.62it/s]\n",
      "Loading non-station hexes: 100%|██████████| 730/730 [00:00<00:00, 1035455.50it/s]"
     ]
    },
    {
     "name": "stdout",
     "output_type": "stream",
     "text": [
      "[00:30:06] WARNING: ../src/learner.cc:1095: Starting in XGBoost 1.3.0, the default evaluation metric used with the objective 'binary:logistic' was changed from 'error' to 'logloss'. Explicitly set eval_metric if you'd like to restore the old behavior.\n",
      "Iteration - 84\n"
     ]
    },
    {
     "name": "stderr",
     "output_type": "stream",
     "text": [
      "\n",
      "Embedding neighbours hexes [Training data]: 100%|██████████| 1022/1022 [00:00<00:00, 4441.26it/s]\n",
      "1022it [00:00, 853730.07it/s]\n",
      "Loading station hexes: 100%|██████████| 292/292 [00:00<00:00, 614519.20it/s]\n",
      "Loading non-station hexes: 100%|██████████| 730/730 [00:00<00:00, 1487775.47it/s]"
     ]
    },
    {
     "name": "stdout",
     "output_type": "stream",
     "text": [
      "[00:30:08] WARNING: ../src/learner.cc:1095: Starting in XGBoost 1.3.0, the default evaluation metric used with the objective 'binary:logistic' was changed from 'error' to 'logloss'. Explicitly set eval_metric if you'd like to restore the old behavior.\n",
      "Iteration - 85\n"
     ]
    },
    {
     "name": "stderr",
     "output_type": "stream",
     "text": [
      "\n",
      "Embedding neighbours hexes [Training data]: 100%|██████████| 1022/1022 [00:00<00:00, 4199.06it/s]\n",
      "1022it [00:00, 821026.37it/s]\n",
      "Loading station hexes: 100%|██████████| 292/292 [00:00<00:00, 1235859.50it/s]\n",
      "Loading non-station hexes: 100%|██████████| 730/730 [00:00<00:00, 1565358.85it/s]"
     ]
    },
    {
     "name": "stdout",
     "output_type": "stream",
     "text": [
      "[00:30:09] WARNING: ../src/learner.cc:1095: Starting in XGBoost 1.3.0, the default evaluation metric used with the objective 'binary:logistic' was changed from 'error' to 'logloss'. Explicitly set eval_metric if you'd like to restore the old behavior.\n",
      "Iteration - 86\n"
     ]
    },
    {
     "name": "stderr",
     "output_type": "stream",
     "text": [
      "\n",
      "Embedding neighbours hexes [Training data]: 100%|██████████| 1022/1022 [00:00<00:00, 4339.80it/s]\n",
      "1022it [00:00, 544534.89it/s]\n",
      "Loading station hexes: 100%|██████████| 292/292 [00:00<00:00, 1332684.19it/s]\n",
      "Loading non-station hexes: 100%|██████████| 730/730 [00:00<00:00, 1558982.65it/s]"
     ]
    },
    {
     "name": "stdout",
     "output_type": "stream",
     "text": [
      "[00:30:10] WARNING: ../src/learner.cc:1095: Starting in XGBoost 1.3.0, the default evaluation metric used with the objective 'binary:logistic' was changed from 'error' to 'logloss'. Explicitly set eval_metric if you'd like to restore the old behavior.\n",
      "Iteration - 87\n"
     ]
    },
    {
     "name": "stderr",
     "output_type": "stream",
     "text": [
      "\n",
      "Embedding neighbours hexes [Training data]: 100%|██████████| 1022/1022 [00:00<00:00, 4409.05it/s]\n",
      "1022it [00:00, 694295.22it/s]\n",
      "Loading station hexes: 100%|██████████| 292/292 [00:00<00:00, 1331235.62it/s]\n",
      "Loading non-station hexes: 100%|██████████| 730/730 [00:00<00:00, 1315789.39it/s]"
     ]
    },
    {
     "name": "stdout",
     "output_type": "stream",
     "text": [
      "[00:30:12] WARNING: ../src/learner.cc:1095: Starting in XGBoost 1.3.0, the default evaluation metric used with the objective 'binary:logistic' was changed from 'error' to 'logloss'. Explicitly set eval_metric if you'd like to restore the old behavior.\n",
      "Iteration - 88\n"
     ]
    },
    {
     "name": "stderr",
     "output_type": "stream",
     "text": [
      "\n",
      "Embedding neighbours hexes [Training data]: 100%|██████████| 1022/1022 [00:00<00:00, 4678.22it/s]\n",
      "1022it [00:00, 908365.90it/s]\n",
      "Loading station hexes: 100%|██████████| 292/292 [00:00<00:00, 639215.43it/s]\n",
      "Loading non-station hexes: 100%|██████████| 730/730 [00:00<00:00, 1516514.08it/s]"
     ]
    },
    {
     "name": "stdout",
     "output_type": "stream",
     "text": [
      "[00:30:13] WARNING: ../src/learner.cc:1095: Starting in XGBoost 1.3.0, the default evaluation metric used with the objective 'binary:logistic' was changed from 'error' to 'logloss'. Explicitly set eval_metric if you'd like to restore the old behavior.\n",
      "Iteration - 89\n"
     ]
    },
    {
     "name": "stderr",
     "output_type": "stream",
     "text": [
      "\n",
      "Embedding neighbours hexes [Training data]: 100%|██████████| 1022/1022 [00:00<00:00, 4028.04it/s]\n",
      "1022it [00:00, 572689.20it/s]\n",
      "Loading station hexes: 100%|██████████| 292/292 [00:00<00:00, 905870.39it/s]\n",
      "Loading non-station hexes: 100%|██████████| 730/730 [00:00<00:00, 844879.12it/s]"
     ]
    },
    {
     "name": "stdout",
     "output_type": "stream",
     "text": [
      "[00:30:15] WARNING: ../src/learner.cc:1095: Starting in XGBoost 1.3.0, the default evaluation metric used with the objective 'binary:logistic' was changed from 'error' to 'logloss'. Explicitly set eval_metric if you'd like to restore the old behavior.\n",
      "Iteration - 90\n"
     ]
    },
    {
     "name": "stderr",
     "output_type": "stream",
     "text": [
      "\n",
      "Embedding neighbours hexes [Training data]: 100%|██████████| 1022/1022 [00:00<00:00, 4209.73it/s]\n",
      "1022it [00:00, 932473.07it/s]\n",
      "Loading station hexes: 100%|██████████| 292/292 [00:00<00:00, 1387017.86it/s]\n",
      "Loading non-station hexes: 100%|██████████| 730/730 [00:00<00:00, 1613193.85it/s]"
     ]
    },
    {
     "name": "stdout",
     "output_type": "stream",
     "text": [
      "[00:30:16] WARNING: ../src/learner.cc:1095: Starting in XGBoost 1.3.0, the default evaluation metric used with the objective 'binary:logistic' was changed from 'error' to 'logloss'. Explicitly set eval_metric if you'd like to restore the old behavior.\n",
      "Iteration - 91\n"
     ]
    },
    {
     "name": "stderr",
     "output_type": "stream",
     "text": [
      "\n",
      "Embedding neighbours hexes [Training data]: 100%|██████████| 1022/1022 [00:00<00:00, 4635.59it/s]\n",
      "1022it [00:00, 929641.88it/s]\n",
      "Loading station hexes: 100%|██████████| 292/292 [00:00<00:00, 1278430.86it/s]\n",
      "Loading non-station hexes: 100%|██████████| 730/730 [00:00<00:00, 1797910.70it/s]"
     ]
    },
    {
     "name": "stdout",
     "output_type": "stream",
     "text": [
      "[00:30:17] WARNING: ../src/learner.cc:1095: Starting in XGBoost 1.3.0, the default evaluation metric used with the objective 'binary:logistic' was changed from 'error' to 'logloss'. Explicitly set eval_metric if you'd like to restore the old behavior.\n",
      "Iteration - 92\n"
     ]
    },
    {
     "name": "stderr",
     "output_type": "stream",
     "text": [
      "\n",
      "Embedding neighbours hexes [Training data]: 100%|██████████| 1022/1022 [00:00<00:00, 4266.82it/s]\n",
      "1022it [00:00, 813083.97it/s]\n",
      "Loading station hexes: 100%|██████████| 292/292 [00:00<00:00, 1240868.05it/s]\n",
      "Loading non-station hexes: 100%|██████████| 730/730 [00:00<00:00, 1671311.09it/s]"
     ]
    },
    {
     "name": "stdout",
     "output_type": "stream",
     "text": [
      "[00:30:19] WARNING: ../src/learner.cc:1095: Starting in XGBoost 1.3.0, the default evaluation metric used with the objective 'binary:logistic' was changed from 'error' to 'logloss'. Explicitly set eval_metric if you'd like to restore the old behavior.\n",
      "Iteration - 93\n"
     ]
    },
    {
     "name": "stderr",
     "output_type": "stream",
     "text": [
      "\n",
      "Embedding neighbours hexes [Training data]: 100%|██████████| 1022/1022 [00:00<00:00, 4586.07it/s]\n",
      "1022it [00:00, 983160.25it/s]\n",
      "Loading station hexes: 100%|██████████| 292/292 [00:00<00:00, 1300145.19it/s]\n",
      "Loading non-station hexes: 100%|██████████| 730/730 [00:00<00:00, 1151501.29it/s]"
     ]
    },
    {
     "name": "stdout",
     "output_type": "stream",
     "text": [
      "[00:30:20] WARNING: ../src/learner.cc:1095: Starting in XGBoost 1.3.0, the default evaluation metric used with the objective 'binary:logistic' was changed from 'error' to 'logloss'. Explicitly set eval_metric if you'd like to restore the old behavior.\n",
      "Iteration - 94\n"
     ]
    },
    {
     "name": "stderr",
     "output_type": "stream",
     "text": [
      "\n",
      "Embedding neighbours hexes [Training data]: 100%|██████████| 1022/1022 [00:00<00:00, 4422.05it/s]\n",
      "1022it [00:00, 1030427.57it/s]\n",
      "Loading station hexes: 100%|██████████| 292/292 [00:00<00:00, 1399699.16it/s]\n",
      "Loading non-station hexes: 100%|██████████| 730/730 [00:00<00:00, 1468509.31it/s]"
     ]
    },
    {
     "name": "stdout",
     "output_type": "stream",
     "text": [
      "[00:30:21] WARNING: ../src/learner.cc:1095: Starting in XGBoost 1.3.0, the default evaluation metric used with the objective 'binary:logistic' was changed from 'error' to 'logloss'. Explicitly set eval_metric if you'd like to restore the old behavior.\n",
      "Iteration - 95\n"
     ]
    },
    {
     "name": "stderr",
     "output_type": "stream",
     "text": [
      "\n",
      "Embedding neighbours hexes [Training data]: 100%|██████████| 1022/1022 [00:00<00:00, 4531.66it/s]\n",
      "1022it [00:00, 804689.07it/s]\n",
      "Loading station hexes: 100%|██████████| 292/292 [00:00<00:00, 820869.15it/s]\n",
      "Loading non-station hexes: 100%|██████████| 730/730 [00:00<00:00, 1229161.75it/s]"
     ]
    },
    {
     "name": "stdout",
     "output_type": "stream",
     "text": [
      "[00:30:23] WARNING: ../src/learner.cc:1095: Starting in XGBoost 1.3.0, the default evaluation metric used with the objective 'binary:logistic' was changed from 'error' to 'logloss'. Explicitly set eval_metric if you'd like to restore the old behavior.\n",
      "Iteration - 96\n"
     ]
    },
    {
     "name": "stderr",
     "output_type": "stream",
     "text": [
      "\n",
      "Embedding neighbours hexes [Training data]: 100%|██████████| 1022/1022 [00:00<00:00, 4298.06it/s]\n",
      "1022it [00:00, 792783.19it/s]\n",
      "Loading station hexes: 100%|██████████| 292/292 [00:00<00:00, 654239.73it/s]\n",
      "Loading non-station hexes: 100%|██████████| 730/730 [00:00<00:00, 1287028.97it/s]"
     ]
    },
    {
     "name": "stdout",
     "output_type": "stream",
     "text": [
      "[00:30:24] WARNING: ../src/learner.cc:1095: Starting in XGBoost 1.3.0, the default evaluation metric used with the objective 'binary:logistic' was changed from 'error' to 'logloss'. Explicitly set eval_metric if you'd like to restore the old behavior.\n",
      "Iteration - 97\n"
     ]
    },
    {
     "name": "stderr",
     "output_type": "stream",
     "text": [
      "\n",
      "Embedding neighbours hexes [Training data]: 100%|██████████| 1022/1022 [00:00<00:00, 4284.38it/s]\n",
      "1022it [00:00, 913787.83it/s]\n",
      "Loading station hexes: 100%|██████████| 292/292 [00:00<00:00, 1111376.38it/s]\n",
      "Loading non-station hexes: 100%|██████████| 730/730 [00:00<00:00, 1639979.60it/s]"
     ]
    },
    {
     "name": "stdout",
     "output_type": "stream",
     "text": [
      "[00:30:25] WARNING: ../src/learner.cc:1095: Starting in XGBoost 1.3.0, the default evaluation metric used with the objective 'binary:logistic' was changed from 'error' to 'logloss'. Explicitly set eval_metric if you'd like to restore the old behavior.\n",
      "Iteration - 98\n"
     ]
    },
    {
     "name": "stderr",
     "output_type": "stream",
     "text": [
      "\n",
      "Embedding neighbours hexes [Training data]: 100%|██████████| 1022/1022 [00:00<00:00, 4544.57it/s]\n",
      "1022it [00:00, 881830.63it/s]\n",
      "Loading station hexes: 100%|██████████| 292/292 [00:00<00:00, 560520.26it/s]\n",
      "Loading non-station hexes: 100%|██████████| 730/730 [00:00<00:00, 743526.45it/s]"
     ]
    },
    {
     "name": "stdout",
     "output_type": "stream",
     "text": [
      "[00:30:26] WARNING: ../src/learner.cc:1095: Starting in XGBoost 1.3.0, the default evaluation metric used with the objective 'binary:logistic' was changed from 'error' to 'logloss'. Explicitly set eval_metric if you'd like to restore the old behavior.\n",
      "Iteration - 99\n"
     ]
    },
    {
     "name": "stderr",
     "output_type": "stream",
     "text": [
      "\n",
      "Embedding neighbours hexes [Training data]: 100%|██████████| 1022/1022 [00:00<00:00, 4393.18it/s]\n",
      "1022it [00:00, 552322.99it/s]\n"
     ]
    },
    {
     "name": "stdout",
     "output_type": "stream",
     "text": [
      "[00:30:28] WARNING: ../src/learner.cc:1095: Starting in XGBoost 1.3.0, the default evaluation metric used with the objective 'binary:logistic' was changed from 'error' to 'logloss'. Explicitly set eval_metric if you'd like to restore the old behavior.\n"
     ]
    }
   ],
   "source": [
    "clf.predict_and_save_data(1, 100)"
   ]
  },
  {
   "cell_type": "markdown",
   "metadata": {},
   "source": [
    "## Run all single cities crossover"
   ]
  },
  {
   "cell_type": "code",
   "execution_count": 1,
   "metadata": {},
   "outputs": [],
   "source": [
    "from prediction_model.classifiers import OneCityClassifier\n",
    "from db_connector.models import PredictionResult"
   ]
  },
  {
   "cell_type": "code",
   "execution_count": 2,
   "metadata": {},
   "outputs": [
    {
     "name": "stdout",
     "output_type": "stream",
     "text": [
      "Skipping pair 1 - 1\n",
      "Skipping pair 1 - 2\n",
      "Skipping pair 1 - 3\n",
      "Skipping pair 1 - 4\n",
      "Skipping pair 1 - 5\n",
      "Skipping pair 1 - 6\n",
      "Skipping pair 1 - 7\n",
      "Skipping pair 1 - 8\n",
      "Skipping pair 1 - 9\n",
      "Skipping pair 1 - 10\n",
      "Skipping pair 1 - 11\n",
      "Skipping pair 1 - 12\n",
      "Skipping pair 1 - 13\n",
      "Skipping pair 1 - 14\n",
      "Skipping pair 1 - 15\n",
      "Skipping pair 1 - 16\n",
      "Skipping pair 1 - 17\n",
      "Skipping pair 1 - 18\n",
      "Skipping pair 1 - 19\n",
      "Skipping pair 1 - 20\n",
      "Skipping pair 1 - 21\n",
      "Skipping pair 1 - 22\n",
      "Skipping pair 1 - 23\n",
      "Skipping pair 1 - 24\n",
      "Skipping pair 1 - 25\n",
      "Skipping pair 1 - 26\n",
      "Skipping pair 1 - 27\n",
      "Skipping pair 1 - 28\n",
      "Skipping pair 1 - 29\n",
      "Skipping pair 1 - 30\n",
      "Skipping pair 1 - 31\n",
      "Skipping pair 1 - 32\n",
      "Skipping pair 1 - 33\n",
      "Skipping pair 1 - 34\n",
      "Hex cache size: 42436 / 42436\n",
      "Hex cache size: 99403 / 99403\n"
     ]
    },
    {
     "name": "stderr",
     "output_type": "stream",
     "text": [
      "Embedding neighbours hexes [Prediction data]: 100%|██████████| 56967/56967 [00:11<00:00, 4955.51it/s]\n",
      "Generating predictions [Barcelona] (area_id: 1): 100%|██████████| 20/20 [00:16<00:00,  1.20it/s]\n",
      "Saving results to DB [Barcelona] (area_id: 1): 100%|██████████| 57/57 [00:03<00:00, 15.83it/s]\n"
     ]
    },
    {
     "name": "stdout",
     "output_type": "stream",
     "text": [
      "Hex cache size: 99403 / 99403\n",
      "Hex cache size: 99403 / 99403\n"
     ]
    },
    {
     "name": "stderr",
     "output_type": "stream",
     "text": [
      "Embedding neighbours hexes [Prediction data]: 100%|██████████| 42436/42436 [00:09<00:00, 4645.28it/s]\n",
      "Generating predictions [Barcelona] (area_id: 2): 100%|██████████| 20/20 [00:22<00:00,  1.13s/it]\n",
      "Saving results to DB [Barcelona] (area_id: 2): 100%|██████████| 43/43 [00:02<00:00, 14.86it/s]\n"
     ]
    },
    {
     "name": "stdout",
     "output_type": "stream",
     "text": [
      "Hex cache size: 99403 / 99403\n"
     ]
    }
   ],
   "source": [
    "for i in range(1, 35):\n",
    "    for j in range(1, 35):\n",
    "        if PredictionResult.get_or_none(PredictionResult.classifier == i, PredictionResult.area == j) is not None:\n",
    "            print(f'Skipping pair {i} - {j}')\n",
    "            continue\n",
    "        clf = OneCityClassifier(i)\n",
    "        clf.predict_and_save_data(j, 20)"
   ]
  }
 ],
 "metadata": {
  "interpreter": {
   "hash": "e7b1d31e8087159dc95e4731063f606a4fbc39496a357249ffe609fb59e0896a"
  },
  "kernelspec": {
   "display_name": "Python 3.8.5 64-bit ('base': conda)",
   "name": "python3"
  },
  "language_info": {
   "codemirror_mode": {
    "name": "ipython",
    "version": 3
   },
   "file_extension": ".py",
   "mimetype": "text/x-python",
   "name": "python",
   "nbconvert_exporter": "python",
   "pygments_lexer": "ipython3",
   "version": "3.8.5"
  },
  "orig_nbformat": 4
 },
 "nbformat": 4,
 "nbformat_minor": 2
}
