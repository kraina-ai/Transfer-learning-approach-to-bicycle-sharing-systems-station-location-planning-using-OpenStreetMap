{
 "metadata": {
  "language_info": {
   "codemirror_mode": {
    "name": "ipython",
    "version": 3
   },
   "file_extension": ".py",
   "mimetype": "text/x-python",
   "name": "python",
   "nbconvert_exporter": "python",
   "pygments_lexer": "ipython3",
   "version": "3.8.5"
  },
  "orig_nbformat": 2,
  "kernelspec": {
   "name": "python385jvsc74a57bd0bc346ac4f0fa602f0832f03492fc478b53b4de00371d75702406557251e11c86",
   "display_name": "Python 3.8.5 64-bit ('anaconda3': virtualenv)"
  },
  "metadata": {
   "interpreter": {
    "hash": "bc346ac4f0fa602f0832f03492fc478b53b4de00371d75702406557251e11c86"
   }
  }
 },
 "nbformat": 4,
 "nbformat_minor": 2,
 "cells": [
  {
   "cell_type": "code",
   "execution_count": 5,
   "metadata": {},
   "outputs": [],
   "source": [
    "from pymongo import ASCENDING, GEOSPHERE, MongoClient\n",
    "import pandas as pd\n",
    "from alive_progress import alive_bar\n",
    "from shapely.geometry import Point, mapping\n",
    "import shapely\n",
    "import json\n",
    "from os import listdir\n",
    "from os.path import isfile, join\n",
    "from tqdm import tqdm\n",
    "import geopandas as gpd"
   ]
  },
  {
   "cell_type": "code",
   "execution_count": 6,
   "metadata": {},
   "outputs": [],
   "source": [
    "client = MongoClient('mongodb://localhost:27017/')"
   ]
  },
  {
   "cell_type": "code",
   "execution_count": 7,
   "metadata": {},
   "outputs": [],
   "source": [
    "db = client.osmDataDB"
   ]
  },
  {
   "cell_type": "code",
   "execution_count": 8,
   "metadata": {},
   "outputs": [],
   "source": [
    "coll_areas = db.areas"
   ]
  },
  {
   "cell_type": "code",
   "execution_count": 9,
   "metadata": {},
   "outputs": [],
   "source": [
    "coll_relations = db.relations"
   ]
  },
  {
   "cell_type": "code",
   "execution_count": 10,
   "metadata": {},
   "outputs": [],
   "source": [
    "coll_nextBikeRaw = db.nextBikeRaw"
   ]
  },
  {
   "cell_type": "code",
   "execution_count": 94,
   "metadata": {},
   "outputs": [
    {
     "output_type": "execute_result",
     "data": {
      "text/plain": [
       "'geometry_2dsphere'"
      ]
     },
     "metadata": {},
     "execution_count": 94
    }
   ],
   "source": [
    "coll_nextBikeRaw.create_index([(\"area_osm_id\", ASCENDING)])\n",
    "coll_nextBikeRaw.create_index([(\"geometry\", GEOSPHERE)])"
   ]
  },
  {
   "cell_type": "code",
   "execution_count": 11,
   "metadata": {},
   "outputs": [],
   "source": [
    "def check_duplicate_areas():\n",
    "    areas = coll_areas.find()\n",
    "    for area in areas:\n",
    "        query = { 'geometry': { '$geoIntersects': { '$geometry': area['geometry'] } } }\n",
    "        areas_prime = coll_areas.find(query)\n",
    "        for area_prime in areas_prime:\n",
    "            if area['osm_id'] != area_prime['osm_id']:\n",
    "                print(area['relation_name'], area['osm_id'], area_prime['relation_name'], area_prime['osm_id'])"
   ]
  },
  {
   "cell_type": "code",
   "execution_count": null,
   "metadata": {},
   "outputs": [],
   "source": []
  },
  {
   "cell_type": "code",
   "execution_count": 22,
   "metadata": {},
   "outputs": [
    {
     "output_type": "stream",
     "name": "stdout",
     "text": [
      "Munich, Germany 62428 München-Land, Landkreis München, Bayern, Deutschland 3146373\n",
      "München-Land, Landkreis München, Bayern, Deutschland 3146373 Munich, Germany 62428\n"
     ]
    }
   ],
   "source": [
    "check_duplicate_areas()"
   ]
  },
  {
   "cell_type": "code",
   "execution_count": 29,
   "metadata": {},
   "outputs": [],
   "source": [
    "def clean_orphan_records():\n",
    "    osm_ids = [doc['osm_id'] for doc in coll_areas.find()]\n",
    "    d = coll_relations.delete_many({ 'parent_osm_id': { '$nin': osm_ids } })\n",
    "    print(d.deleted_count, \" documents deleted\") "
   ]
  },
  {
   "cell_type": "code",
   "execution_count": 30,
   "metadata": {
    "tags": []
   },
   "outputs": [
    {
     "output_type": "stream",
     "name": "stdout",
     "text": [
      "0  documents deleted\n"
     ]
    }
   ],
   "source": [
    "clean_orphan_records()"
   ]
  },
  {
   "cell_type": "code",
   "execution_count": 27,
   "metadata": {},
   "outputs": [],
   "source": [
    "data_directory_path = '/mnt/Storage/PwrDatasets/BicycleSharing/stations'"
   ]
  },
  {
   "cell_type": "code",
   "execution_count": 28,
   "metadata": {},
   "outputs": [],
   "source": [
    "def get_area_id(point: Point):\n",
    "    # print(point)\n",
    "    query = { 'geometry': { '$geoIntersects': { '$geometry': mapping(point) } } }\n",
    "    area = coll_areas.find_one(query)\n",
    "    try:\n",
    "        return area['osm_id']\n",
    "    except:\n",
    "        print('missing area', point)\n",
    "        # print(query)\n",
    "        return None"
   ]
  },
  {
   "cell_type": "code",
   "execution_count": 29,
   "metadata": {},
   "outputs": [],
   "source": [
    "def get_point(lat, lon):\n",
    "    return Point(lon, lat)"
   ]
  },
  {
   "cell_type": "code",
   "execution_count": 30,
   "metadata": {
    "tags": []
   },
   "outputs": [
    {
     "output_type": "stream",
     "name": "stdout",
     "text": [
      "59518\n"
     ]
    }
   ],
   "source": [
    "osm_id = get_area_id(get_point(51.217820000000000000,4.420650000000000000))\n",
    "print(osm_id)"
   ]
  },
  {
   "cell_type": "code",
   "execution_count": 119,
   "metadata": {},
   "outputs": [],
   "source": [
    "def iterate_bulk_csv():\n",
    "    path = data_directory_path + '/bulk'\n",
    "    files = [join(path, f) for f in listdir(path) if isfile(join(path, f))]\n",
    "    dfs = []\n",
    "    fields = ['lat', 'lon', 'station_name', 'temporary']\n",
    "    for f in files:\n",
    "        # print(pd.read_csv(f, skipinitialspace=True, usecols=fields)['name'])\n",
    "        df = pd.read_csv(f, skipinitialspace=True, usecols=fields)\n",
    "        dfs.append(df)\n",
    "    df = pd.concat(dfs)\n",
    "    df = df[df.temporary != True]\n",
    "    # with alive_bar(len(df), title=f\"Saving stations to MongoDB\") as bar:\n",
    "    for index, row in tqdm(df.iterrows(), total=len(df)):\n",
    "        # print(row)\n",
    "        pt = get_point(row.lat, row.lon)\n",
    "        if (row.lat is int or row.lon is int):\n",
    "            print('INTEGER', pt)\n",
    "            continue\n",
    "        area_id = get_area_id(pt)\n",
    "        if area_id:\n",
    "            record = {\n",
    "                'area_osm_id': area_id,\n",
    "                'name': row.station_name,\n",
    "                'geometry': mapping(pt)\n",
    "            }\n",
    "            # print(record['name'])\n",
    "            coll_nextBikeRaw.replace_one({'geometry':record['geometry']}, record, True)\n",
    "            # bar()"
   ]
  },
  {
   "cell_type": "code",
   "execution_count": 120,
   "metadata": {
    "tags": []
   },
   "outputs": [
    {
     "output_type": "stream",
     "name": "stderr",
     "text": [
      "  1%|          | 86/11339 [00:00<00:27, 406.63it/s]missing area POINT (33.31502105305844 35.16707219939804)\n",
      "  7%|▋         | 772/11339 [00:02<00:29, 353.33it/s]missing area POINT (2.1341586 41.363279)\n",
      " 16%|█▋        | 1851/11339 [00:08<00:39, 243.08it/s]missing area POINT (4.290068267530001 50.7978663478)\n",
      " 19%|█▉        | 2181/11339 [00:09<00:33, 275.78it/s]missing area POINT (-3.166644 51.446057)\n",
      " 24%|██▍       | 2694/11339 [00:15<01:20, 107.59it/s]missing area POINT (-3.0583068367 55.94396074180001)\n",
      "missing area POINT (-3.06675391622 55.94388031689999)\n",
      "missing area POINT (-3.07310463368 55.9319804826)\n",
      " 31%|███       | 3471/11339 [00:19<00:44, 176.53it/s]missing area POINT (30.40983974933625 50.36055836832283)\n",
      " 54%|█████▍    | 6168/11339 [01:05<02:01, 42.71it/s]missing area POINT (37.36940999999999 55.59385)\n",
      " 55%|█████▍    | 6226/11339 [01:06<01:52, 45.25it/s]missing area POINT (37.40388 55.59981999999999)\n",
      " 80%|███████▉  | 9021/11339 [02:23<00:20, 112.77it/s]missing area POINT (16.88657104969025 52.35371753650325)\n",
      "missing area POINT (16.882107 52.352165)\n",
      "missing area POINT (16.88072 52.348828)\n",
      "missing area POINT (16.882574 52.34329)\n",
      "missing area POINT (16.892548 52.344134)\n",
      "missing area POINT (16.861076 52.349716)\n",
      "missing area POINT (16.88953 52.33300999999999)\n",
      "missing area POINT (16.89727 52.34819)\n",
      "missing area POINT (16.86261 52.3427)\n",
      "missing area POINT (16.87815 52.32742)\n",
      "missing area POINT (16.87191 52.33963)\n",
      "missing area POINT (16.80782 52.36555)\n",
      "missing area POINT (16.81169 52.37413)\n",
      " 83%|████████▎ | 9451/11339 [02:29<00:22, 85.04it/s]missing area POINT (24.03648734092712 56.92631339551439)\n",
      " 89%|████████▉ | 10094/11339 [02:36<00:12, 101.65it/s]missing area POINT (0.5478850000000001 44.869297)\n",
      " 90%|████████▉ | 10149/11339 [02:37<00:11, 99.68it/s]missing area POINT (1.482704 43.62900399999999)\n",
      " 98%|█████████▊| 11129/11339 [02:50<00:02, 100.06it/s]missing area POINT (21.01796150207519 52.06681812814481)\n",
      "missing area POINT (21.02705419063568 52.07282949167776)\n",
      "missing area POINT (21.052146 52.09932)\n",
      "missing area POINT (21.034699 52.062009)\n",
      "missing area POINT (21.02435 52.051776)\n",
      "missing area POINT (21.012316 52.076118)\n",
      " 99%|█████████▉| 11233/11339 [02:52<00:01, 81.37it/s]missing area POINT (16.961699 51.048391)\n",
      "100%|██████████| 11339/11339 [02:54<00:00, 65.10it/s]\n"
     ]
    }
   ],
   "source": [
    "iterate_bulk_csv()"
   ]
  },
  {
   "cell_type": "code",
   "execution_count": 63,
   "metadata": {},
   "outputs": [
    {
     "output_type": "execute_result",
     "data": {
      "text/plain": [
       "      id                    name        lat       lon  bikes  spaces  \\\n",
       "1      1        Puerta del Sol A  40.417214 -3.701834     28       1   \n",
       "2      2        Puerta del Sol B  40.417313 -3.701603     14      16   \n",
       "3      3             Miguel Moya  40.420589 -3.705842      8      15   \n",
       "4      4      Plaza Conde Suchil  40.430294 -3.706917      6       7   \n",
       "5      5                Malasaña  40.428552 -3.702587     12      11   \n",
       "..   ...                     ...        ...       ...    ...     ...   \n",
       "265  265                    INEF  40.438960 -3.729970     14       6   \n",
       "266  266  Ciudad Universitaria 1  40.443750 -3.726990      5      16   \n",
       "267  267  Ciudad Universitaria 2  40.443420 -3.726930     15       9   \n",
       "268  268       Facultad Biología  40.449120 -3.727310     15       6   \n",
       "269  269        Facultad Derecho  40.451090 -3.729370     17       5   \n",
       "\n",
       "     installed  locked  temporary  open_or_total_docks  bonus  ticket  xd  \n",
       "1         True   False      False                   30    NaN     NaN NaN  \n",
       "2         True   False      False                   30    NaN     NaN NaN  \n",
       "3         True   False      False                   24    NaN     NaN NaN  \n",
       "4         True   False      False                   18    NaN     NaN NaN  \n",
       "5         True   False      False                   24    NaN     NaN NaN  \n",
       "..         ...     ...        ...                  ...    ...     ...  ..  \n",
       "265       True   False      False                   24    NaN     NaN NaN  \n",
       "266       True   False      False                   24    NaN     NaN NaN  \n",
       "267       True   False      False                   24    NaN     NaN NaN  \n",
       "268       True   False      False                   24    NaN     NaN NaN  \n",
       "269       True   False      False                   24    NaN     NaN NaN  \n",
       "\n",
       "[264 rows x 13 columns]"
      ],
      "text/html": "<div>\n<style scoped>\n    .dataframe tbody tr th:only-of-type {\n        vertical-align: middle;\n    }\n\n    .dataframe tbody tr th {\n        vertical-align: top;\n    }\n\n    .dataframe thead th {\n        text-align: right;\n    }\n</style>\n<table border=\"1\" class=\"dataframe\">\n  <thead>\n    <tr style=\"text-align: right;\">\n      <th></th>\n      <th>id</th>\n      <th>name</th>\n      <th>lat</th>\n      <th>lon</th>\n      <th>bikes</th>\n      <th>spaces</th>\n      <th>installed</th>\n      <th>locked</th>\n      <th>temporary</th>\n      <th>open_or_total_docks</th>\n      <th>bonus</th>\n      <th>ticket</th>\n      <th>xd</th>\n    </tr>\n  </thead>\n  <tbody>\n    <tr>\n      <th>1</th>\n      <td>1</td>\n      <td>Puerta del Sol A</td>\n      <td>40.417214</td>\n      <td>-3.701834</td>\n      <td>28</td>\n      <td>1</td>\n      <td>True</td>\n      <td>False</td>\n      <td>False</td>\n      <td>30</td>\n      <td>NaN</td>\n      <td>NaN</td>\n      <td>NaN</td>\n    </tr>\n    <tr>\n      <th>2</th>\n      <td>2</td>\n      <td>Puerta del Sol B</td>\n      <td>40.417313</td>\n      <td>-3.701603</td>\n      <td>14</td>\n      <td>16</td>\n      <td>True</td>\n      <td>False</td>\n      <td>False</td>\n      <td>30</td>\n      <td>NaN</td>\n      <td>NaN</td>\n      <td>NaN</td>\n    </tr>\n    <tr>\n      <th>3</th>\n      <td>3</td>\n      <td>Miguel Moya</td>\n      <td>40.420589</td>\n      <td>-3.705842</td>\n      <td>8</td>\n      <td>15</td>\n      <td>True</td>\n      <td>False</td>\n      <td>False</td>\n      <td>24</td>\n      <td>NaN</td>\n      <td>NaN</td>\n      <td>NaN</td>\n    </tr>\n    <tr>\n      <th>4</th>\n      <td>4</td>\n      <td>Plaza Conde Suchil</td>\n      <td>40.430294</td>\n      <td>-3.706917</td>\n      <td>6</td>\n      <td>7</td>\n      <td>True</td>\n      <td>False</td>\n      <td>False</td>\n      <td>18</td>\n      <td>NaN</td>\n      <td>NaN</td>\n      <td>NaN</td>\n    </tr>\n    <tr>\n      <th>5</th>\n      <td>5</td>\n      <td>Malasaña</td>\n      <td>40.428552</td>\n      <td>-3.702587</td>\n      <td>12</td>\n      <td>11</td>\n      <td>True</td>\n      <td>False</td>\n      <td>False</td>\n      <td>24</td>\n      <td>NaN</td>\n      <td>NaN</td>\n      <td>NaN</td>\n    </tr>\n    <tr>\n      <th>...</th>\n      <td>...</td>\n      <td>...</td>\n      <td>...</td>\n      <td>...</td>\n      <td>...</td>\n      <td>...</td>\n      <td>...</td>\n      <td>...</td>\n      <td>...</td>\n      <td>...</td>\n      <td>...</td>\n      <td>...</td>\n      <td>...</td>\n    </tr>\n    <tr>\n      <th>265</th>\n      <td>265</td>\n      <td>INEF</td>\n      <td>40.438960</td>\n      <td>-3.729970</td>\n      <td>14</td>\n      <td>6</td>\n      <td>True</td>\n      <td>False</td>\n      <td>False</td>\n      <td>24</td>\n      <td>NaN</td>\n      <td>NaN</td>\n      <td>NaN</td>\n    </tr>\n    <tr>\n      <th>266</th>\n      <td>266</td>\n      <td>Ciudad Universitaria 1</td>\n      <td>40.443750</td>\n      <td>-3.726990</td>\n      <td>5</td>\n      <td>16</td>\n      <td>True</td>\n      <td>False</td>\n      <td>False</td>\n      <td>24</td>\n      <td>NaN</td>\n      <td>NaN</td>\n      <td>NaN</td>\n    </tr>\n    <tr>\n      <th>267</th>\n      <td>267</td>\n      <td>Ciudad Universitaria 2</td>\n      <td>40.443420</td>\n      <td>-3.726930</td>\n      <td>15</td>\n      <td>9</td>\n      <td>True</td>\n      <td>False</td>\n      <td>False</td>\n      <td>24</td>\n      <td>NaN</td>\n      <td>NaN</td>\n      <td>NaN</td>\n    </tr>\n    <tr>\n      <th>268</th>\n      <td>268</td>\n      <td>Facultad Biología</td>\n      <td>40.449120</td>\n      <td>-3.727310</td>\n      <td>15</td>\n      <td>6</td>\n      <td>True</td>\n      <td>False</td>\n      <td>False</td>\n      <td>24</td>\n      <td>NaN</td>\n      <td>NaN</td>\n      <td>NaN</td>\n    </tr>\n    <tr>\n      <th>269</th>\n      <td>269</td>\n      <td>Facultad Derecho</td>\n      <td>40.451090</td>\n      <td>-3.729370</td>\n      <td>17</td>\n      <td>5</td>\n      <td>True</td>\n      <td>False</td>\n      <td>False</td>\n      <td>24</td>\n      <td>NaN</td>\n      <td>NaN</td>\n      <td>NaN</td>\n    </tr>\n  </tbody>\n</table>\n<p>264 rows × 13 columns</p>\n</div>"
     },
     "metadata": {},
     "execution_count": 63
    }
   ],
   "source": [
    "pd.read_csv('/mnt/Storage/PwrDatasets/BicycleSharing/stations/bulk/madrid.csv')"
   ]
  },
  {
   "cell_type": "code",
   "execution_count": 67,
   "metadata": {},
   "outputs": [],
   "source": [
    "dijon = json.load(open('/mnt/Storage/PwrDatasets/BicycleSharing/stations/dijon.json'))\n",
    "lausanne_bern = json.load(open('/mnt/Storage/PwrDatasets/BicycleSharing/stations/lausanne_bern.json'))\n",
    "malmo = json.load(open('/mnt/Storage/PwrDatasets/BicycleSharing/stations/malmo.json'))"
   ]
  },
  {
   "cell_type": "code",
   "execution_count": 71,
   "metadata": {},
   "outputs": [],
   "source": [
    "dijon_parsed = [{\n",
    "    'name': x['infos']['nom'],\n",
    "    'lat': float(x['infos']['lat']),\n",
    "    'lon': float(x['infos']['lon'])\n",
    "} for x in dijon]"
   ]
  },
  {
   "cell_type": "code",
   "execution_count": 78,
   "metadata": {},
   "outputs": [],
   "source": [
    "lausanne_bern = [{\n",
    "    'name': x['id'],\n",
    "    'lat': float(x['lat']),\n",
    "    'lon': float(x['lon'])\n",
    "} for x in lausanne_bern]"
   ]
  },
  {
   "cell_type": "code",
   "execution_count": 80,
   "metadata": {},
   "outputs": [],
   "source": [
    "malmo = [{\n",
    "    'name': x['name'],\n",
    "    'lat': float(x['lat']),\n",
    "    'lon': float(x['lon'])\n",
    "} for x in malmo]"
   ]
  },
  {
   "cell_type": "code",
   "execution_count": 121,
   "metadata": {},
   "outputs": [
    {
     "output_type": "stream",
     "name": "stderr",
     "text": [
      "  9%|▉         | 64/684 [00:00<00:09, 62.68it/s]missing area POINT (8.957940000000001 46.0105808)\n",
      "missing area POINT (6.23856 46.39294)\n",
      "missing area POINT (6.5655126 46.5224054)\n",
      "missing area POINT (8.9192 45.9242)\n",
      "missing area POINT (8.927351 45.973369)\n",
      " 12%|█▏        | 84/684 [00:01<00:10, 57.84it/s]missing area POINT (8.917052 45.958424)\n",
      "missing area POINT (6.579268 46.526079)\n",
      "missing area POINT (8.959651300000001 46.0166117)\n",
      "missing area POINT (8.943799 45.991081)\n",
      " 15%|█▌        | 106/684 [00:01<00:08, 65.28it/s]missing area POINT (8.958952 46.013865)\n",
      "missing area POINT (8.962901 46.021942)\n",
      "missing area POINT (6.225766 46.383066)\n",
      "missing area POINT (7.15074 46.77787)\n",
      "missing area POINT (7.377833 46.235077)\n",
      "missing area POINT (8.945138999999999 45.999094)\n",
      "missing area POINT (7.147493 46.79816)\n",
      " 18%|█▊        | 120/684 [00:02<00:16, 34.36it/s]missing area POINT (6.19271 46.31526)\n",
      "missing area POINT (8.955118000000001 46.012252)\n",
      "missing area POINT (7.11461 46.81288)\n",
      " 20%|█▉        | 135/684 [00:02<00:11, 46.98it/s]missing area POINT (6.492569 46.511048)\n",
      "missing area POINT (7.151989 46.803943)\n",
      "missing area POINT (8.921806 46.032852)\n",
      "missing area POINT (7.358569 46.226775)\n",
      "missing area POINT (7.53985 46.283387)\n",
      "missing area POINT (7.373705 46.23055)\n",
      "missing area POINT (8.966678999999999 46.065999)\n",
      " 23%|██▎       | 158/684 [00:02<00:09, 54.84it/s]missing area POINT (6.20499 46.38065)\n",
      "missing area POINT (7.1505764 46.7804953)\n",
      "missing area POINT (6.32262 46.46063)\n",
      "missing area POINT (8.94848 45.998453)\n",
      "missing area POINT (6.23574 46.38362)\n",
      "missing area POINT (6.561272 46.517153)\n",
      "missing area POINT (7.15297 46.806876)\n",
      " 25%|██▌       | 174/684 [00:03<00:07, 63.80it/s]missing area POINT (7.162033 46.77173)\n",
      "missing area POINT (7.155941 46.808006)\n",
      "missing area POINT (8.918120999999999 45.982056)\n",
      "missing area POINT (7.155553 46.804568)\n",
      "missing area POINT (6.34011 46.45924)\n",
      "missing area POINT (6.278163 46.41609)\n",
      "missing area POINT (8.957374 46.005806)\n",
      " 27%|██▋       | 183/684 [00:03<00:07, 68.60it/s]missing area POINT (8.912639 46.000482)\n",
      "missing area POINT (6.16927 46.29934)\n",
      "missing area POINT (7.1322764 46.7931454)\n",
      "missing area POINT (7.35462 46.225614)\n",
      "missing area POINT (7.1509925 46.802604)\n",
      " 28%|██▊       | 191/684 [00:03<00:07, 65.84it/s]missing area POINT (6.499667 46.508486)\n",
      " 30%|██▉       | 204/684 [00:04<00:13, 34.68it/s]missing area POINT (7.132707 46.794595)\n",
      " 32%|███▏      | 218/684 [00:04<00:11, 40.50it/s]missing area POINT (6.23973 46.38356)\n",
      "missing area POINT (7.342806 46.226638)\n",
      "missing area POINT (6.571784 46.520202)\n",
      " 34%|███▍      | 231/684 [00:04<00:09, 46.63it/s]missing area POINT (6.27016 46.420183)\n",
      "missing area POINT (7.1160135 46.7899747)\n",
      "missing area POINT (8.947096 46.004469)\n",
      "missing area POINT (7.333028 46.224204)\n",
      "missing area POINT (7.161559 46.803797)\n",
      "missing area POINT (8.9668282 46.0159412)\n",
      "missing area POINT (7.14288 46.79619)\n",
      " 36%|███▌      | 245/684 [00:04<00:08, 49.63it/s]missing area POINT (8.96429 46.01876)\n",
      "missing area POINT (8.9657021 46.0121344)\n",
      "missing area POINT (7.532595 46.292365)\n",
      "missing area POINT (8.917196000000001 46.022676)\n",
      " 38%|███▊      | 260/684 [00:05<00:07, 55.80it/s]missing area POINT (8.932378 45.984764)\n",
      "missing area POINT (8.959918999999999 46.023159)\n",
      "missing area POINT (8.915525000000001 45.972202)\n",
      "missing area POINT (8.96008 46.009713)\n",
      "missing area POINT (6.26546 46.42391)\n",
      " 40%|████      | 274/684 [00:05<00:07, 55.07it/s]missing area POINT (7.150142 46.811754)\n",
      "missing area POINT (7.146355 46.802118)\n",
      "missing area POINT (8.942729 46.005726)\n",
      "missing area POINT (7.140663 46.80007)\n",
      "missing area POINT (8.931590999999999 46.009397)\n",
      " 41%|████      | 280/684 [00:05<00:07, 54.89it/s]missing area POINT (7.15966 46.80295)\n",
      "missing area POINT (7.136609 46.801805)\n",
      " 44%|████▍     | 301/684 [00:06<00:10, 37.29it/s]missing area POINT (8.900957 45.996253)\n",
      "missing area POINT (8.932433 46.040345)\n",
      "missing area POINT (8.966775 46.006076)\n",
      "missing area POINT (8.952597000000001 46.005413)\n",
      "missing area POINT (6.564945 46.518108)\n",
      " 46%|████▋     | 318/684 [00:06<00:08, 41.94it/s]missing area POINT (7.364306 46.238416)\n",
      " 49%|████▉     | 334/684 [00:06<00:06, 50.37it/s]missing area POINT (8.954822999999999 46.03702)\n",
      "missing area POINT (7.119618 46.798038)\n",
      "missing area POINT (7.151984 46.799339)\n",
      "missing area POINT (7.16038 46.776964)\n",
      "missing area POINT (7.386034 46.234697)\n",
      "missing area POINT (8.9575686 46.0084322)\n",
      "missing area POINT (6.336791 46.45543)\n",
      "missing area POINT (7.12996 46.816013)\n",
      "missing area POINT (8.979558000000001 46.037002)\n",
      " 52%|█████▏    | 359/684 [00:07<00:06, 53.63it/s]missing area POINT (6.50736 46.51856)\n",
      "missing area POINT (6.573253 46.521043)\n",
      " 54%|█████▍    | 372/684 [00:07<00:05, 56.93it/s]missing area POINT (6.496026 46.510581)\n",
      "missing area POINT (8.9512745 46.0082843)\n",
      "missing area POINT (8.955876 46.016524)\n",
      " 56%|█████▋    | 385/684 [00:07<00:05, 53.54it/s]missing area POINT (6.495352 46.50737)\n",
      " 58%|█████▊    | 399/684 [00:07<00:05, 54.83it/s]missing area POINT (7.14687 46.809589)\n",
      "missing area POINT (6.28774 46.425927)\n",
      "missing area POINT (8.971690000000001 46.020198)\n",
      "missing area POINT (7.156473 46.795871)\n",
      " 60%|██████    | 411/684 [00:08<00:09, 28.38it/s]missing area POINT (6.481123 46.502204)\n",
      "missing area POINT (7.533052 46.291525)\n",
      "missing area POINT (7.155715 46.815219)\n",
      " 63%|██████▎   | 428/684 [00:08<00:06, 40.04it/s]missing area POINT (7.114034 46.794798)\n",
      " 64%|██████▍   | 441/684 [00:09<00:05, 48.00it/s]missing area POINT (8.949714999999999 45.953905)\n",
      "missing area POINT (8.943486999999999 46.012555)\n",
      "missing area POINT (7.122294 46.800445)\n",
      " 67%|██████▋   | 459/684 [00:09<00:04, 49.33it/s]missing area POINT (8.875446999999999 45.977309)\n",
      "missing area POINT (7.359828 46.235671)\n",
      "missing area POINT (7.155003 46.79427)\n",
      " 69%|██████▉   | 472/684 [00:09<00:04, 52.32it/s]missing area POINT (6.23491 46.38421)\n",
      "missing area POINT (8.971603999999999 46.015758)\n",
      "missing area POINT (7.165191 46.805413)\n",
      " 72%|███████▏  | 492/684 [00:10<00:03, 57.34it/s]missing area POINT (7.151055 46.796242)\n",
      "missing area POINT (6.5261484 46.5175143)\n",
      "missing area POINT (8.88374 45.970318)\n",
      "missing area POINT (7.400189 46.231055)\n",
      "missing area POINT (8.968292 46.02398)\n",
      "missing area POINT (7.14049 46.79435)\n",
      "missing area POINT (6.27557 46.42329)\n",
      " 76%|███████▌  | 517/684 [00:10<00:03, 43.57it/s]missing area POINT (8.914699000000001 46.012749)\n",
      "missing area POINT (7.363252 46.232201)\n",
      "missing area POINT (6.19293 46.33296)\n",
      "missing area POINT (7.3595 46.2278)\n",
      "missing area POINT (6.568276 46.520723)\n",
      "missing area POINT (6.24357 46.38278)\n",
      "missing area POINT (6.499863 46.510562)\n",
      " 77%|███████▋  | 527/684 [00:11<00:03, 51.93it/s]missing area POINT (8.883592999999999 45.982042)\n",
      "missing area POINT (8.934162000000001 46.001154)\n",
      "missing area POINT (8.9638054 46.0090116)\n",
      "missing area POINT (6.584961 46.522591)\n",
      "missing area POINT (8.946661000000001 45.989126)\n",
      "missing area POINT (6.267441 46.417718)\n",
      " 81%|████████▏ | 557/684 [00:11<00:01, 66.54it/s]missing area POINT (6.564896 46.521978)\n",
      "missing area POINT (7.1584206 46.793372)\n",
      "missing area POINT (6.2585274 46.4223802)\n",
      "missing area POINT (7.522262 46.292116)\n",
      "missing area POINT (8.924531999999999 45.993326)\n",
      "missing area POINT (7.3507 46.2285)\n",
      "missing area POINT (7.358425 46.232469)\n",
      "missing area POINT (8.961709000000001 46.005849)\n",
      "missing area POINT (6.562162 46.518951)\n",
      "missing area POINT (6.23137 46.39236)\n",
      "missing area POINT (8.916114 46.020356)\n",
      "missing area POINT (6.2321083 46.3995398)\n",
      "missing area POINT (6.579676 46.519805)\n",
      "missing area POINT (8.941041999999999 46.016072)\n",
      "missing area POINT (6.23515 46.37679)\n",
      "missing area POINT (7.1730614 46.8104076)\n",
      "missing area POINT (7.167527 46.802937)\n",
      "missing area POINT (6.566487 46.532879)\n",
      " 83%|████████▎ | 567/684 [00:11<00:01, 73.39it/s]missing area POINT (6.578087 46.536889)\n",
      "missing area POINT (6.2137814 46.38347)\n",
      "missing area POINT (6.581345 46.521668)\n",
      "missing area POINT (8.952903600000001 46.0036519)\n",
      " 86%|████████▌ | 586/684 [00:11<00:01, 59.63it/s]missing area POINT (6.566695 46.52864)\n",
      "missing area POINT (7.1620248 46.806661)\n",
      "missing area POINT (6.26294 46.42121)\n",
      " 92%|█████████▏| 628/684 [00:12<00:00, 86.99it/s]missing area POINT (12.996309 55.616396)\n",
      "100%|██████████| 684/684 [00:12<00:00, 52.82it/s]\n"
     ]
    }
   ],
   "source": [
    "stations_json = dijon_parsed + lausanne_bern + malmo\n",
    "for row in tqdm(stations_json):\n",
    "    # print(row)\n",
    "    pt = get_point(row['lat'], row['lon'])\n",
    "    area_id = get_area_id(pt)\n",
    "    if area_id:\n",
    "        record = {\n",
    "            'area_osm_id': area_id,\n",
    "            'name': row['name'],\n",
    "            'geometry': mapping(pt)\n",
    "        }\n",
    "        coll_nextBikeRaw.replace_one({'geometry':record['geometry']}, record, True)"
   ]
  },
  {
   "cell_type": "code",
   "execution_count": 149,
   "metadata": {},
   "outputs": [],
   "source": [
    "records = [r for r in coll_nextBikeRaw.find()]"
   ]
  },
  {
   "cell_type": "code",
   "execution_count": 156,
   "metadata": {},
   "outputs": [],
   "source": [
    "for r in records:\n",
    "    r['geometry'] = shapely.geometry.shape(r['geometry'])\n",
    "    del r['_id']"
   ]
  },
  {
   "cell_type": "code",
   "execution_count": 157,
   "metadata": {},
   "outputs": [],
   "source": [
    "df = gpd.GeoDataFrame([r for r in records])"
   ]
  },
  {
   "cell_type": "code",
   "execution_count": 158,
   "metadata": {},
   "outputs": [
    {
     "output_type": "execute_result",
     "data": {
      "text/plain": [
       "       area_osm_id               name                   geometry\n",
       "0          1390623      Headford Road  POINT (-9.05069 53.27835)\n",
       "1          1390623          Cathedral  POINT (-9.05724 53.27584)\n",
       "2          1390623          Wood Quay  POINT (-9.05308 53.27638)\n",
       "3          1390623        County Hall  POINT (-9.04800 53.27600)\n",
       "4          1390623   Galway City Hall  POINT (-9.04300 53.27600)\n",
       "...            ...                ...                        ...\n",
       "11821     10663667  Helsingborgsgatan  POINT (13.01106 55.59574)\n",
       "11822     10663667           Moriskan  POINT (13.01159 55.59275)\n",
       "11823     10663667      Falsterboplan  POINT (13.01452 55.59045)\n",
       "11824     10663667     Spiggans plats  POINT (13.01976 55.60170)\n",
       "11825     10663667           Segepark  POINT (13.05207 55.61168)\n",
       "\n",
       "[11826 rows x 3 columns]"
      ],
      "text/html": "<div>\n<style scoped>\n    .dataframe tbody tr th:only-of-type {\n        vertical-align: middle;\n    }\n\n    .dataframe tbody tr th {\n        vertical-align: top;\n    }\n\n    .dataframe thead th {\n        text-align: right;\n    }\n</style>\n<table border=\"1\" class=\"dataframe\">\n  <thead>\n    <tr style=\"text-align: right;\">\n      <th></th>\n      <th>area_osm_id</th>\n      <th>name</th>\n      <th>geometry</th>\n    </tr>\n  </thead>\n  <tbody>\n    <tr>\n      <th>0</th>\n      <td>1390623</td>\n      <td>Headford Road</td>\n      <td>POINT (-9.05069 53.27835)</td>\n    </tr>\n    <tr>\n      <th>1</th>\n      <td>1390623</td>\n      <td>Cathedral</td>\n      <td>POINT (-9.05724 53.27584)</td>\n    </tr>\n    <tr>\n      <th>2</th>\n      <td>1390623</td>\n      <td>Wood Quay</td>\n      <td>POINT (-9.05308 53.27638)</td>\n    </tr>\n    <tr>\n      <th>3</th>\n      <td>1390623</td>\n      <td>County Hall</td>\n      <td>POINT (-9.04800 53.27600)</td>\n    </tr>\n    <tr>\n      <th>4</th>\n      <td>1390623</td>\n      <td>Galway City Hall</td>\n      <td>POINT (-9.04300 53.27600)</td>\n    </tr>\n    <tr>\n      <th>...</th>\n      <td>...</td>\n      <td>...</td>\n      <td>...</td>\n    </tr>\n    <tr>\n      <th>11821</th>\n      <td>10663667</td>\n      <td>Helsingborgsgatan</td>\n      <td>POINT (13.01106 55.59574)</td>\n    </tr>\n    <tr>\n      <th>11822</th>\n      <td>10663667</td>\n      <td>Moriskan</td>\n      <td>POINT (13.01159 55.59275)</td>\n    </tr>\n    <tr>\n      <th>11823</th>\n      <td>10663667</td>\n      <td>Falsterboplan</td>\n      <td>POINT (13.01452 55.59045)</td>\n    </tr>\n    <tr>\n      <th>11824</th>\n      <td>10663667</td>\n      <td>Spiggans plats</td>\n      <td>POINT (13.01976 55.60170)</td>\n    </tr>\n    <tr>\n      <th>11825</th>\n      <td>10663667</td>\n      <td>Segepark</td>\n      <td>POINT (13.05207 55.61168)</td>\n    </tr>\n  </tbody>\n</table>\n<p>11826 rows × 3 columns</p>\n</div>"
     },
     "metadata": {},
     "execution_count": 158
    }
   ],
   "source": [
    "df"
   ]
  },
  {
   "cell_type": "code",
   "execution_count": 159,
   "metadata": {},
   "outputs": [],
   "source": [
    "source_json = df.to_json(na='drop')\n",
    "with open('nextbike.geojson', 'w', encoding='utf-8') as source:\n",
    "    source.write(source_json)"
   ]
  },
  {
   "cell_type": "code",
   "execution_count": 25,
   "metadata": {},
   "outputs": [],
   "source": [
    "areas_records = [r for r in coll_areas.find()]"
   ]
  },
  {
   "cell_type": "code",
   "execution_count": 26,
   "metadata": {},
   "outputs": [],
   "source": [
    "for r in areas_records:\n",
    "    r['geometry'] = shapely.geometry.shape(r['geometry'])\n",
    "    del r['_id']"
   ]
  },
  {
   "cell_type": "code",
   "execution_count": 27,
   "metadata": {},
   "outputs": [
    {
     "output_type": "execute_result",
     "data": {
      "text/plain": [
       "     osm_id                                      relation_name  \\\n",
       "0   2805691                                    Wrocław, Poland   \n",
       "1    175342                                 Greater London, UK   \n",
       "2    109166                                    Vienna, Austria   \n",
       "3     59518                                   Antwerp, Belgium   \n",
       "4   2628520          Greater Nicosia, Nicosia District, Cyprus   \n",
       "..      ...                                                ...   \n",
       "61    44880                           Torino, Piemonte, Italia   \n",
       "62  1685958  Dijon, Côte-d'Or, Bourgogne-Franche-Comté, Fra...   \n",
       "63  1690227             Zürich, Schweiz/Suisse/Svizzera/Svizra   \n",
       "64  1686344         Bern/Berne, Schweiz/Suisse/Svizzera/Svizra   \n",
       "65  6205453  Ancien district de Lausanne, Epalinges, Distri...   \n",
       "\n",
       "                                  administration_name  \\\n",
       "0   Wrocław, powiat wrocławski, województwo dolnoś...   \n",
       "1             Greater London, England, United Kingdom   \n",
       "2                                    Wien, Österreich   \n",
       "3   Antwerpen, Vlaanderen, België / Belgique / Bel...   \n",
       "4   Λευκωσία - Lefkoşa, Λευκωσία, Κύπρος, Κύπρος -...   \n",
       "..                                                ...   \n",
       "61                           Torino, Piemonte, Italia   \n",
       "62  Dijon, Côte-d'Or, Bourgogne-Franche-Comté, Fra...   \n",
       "63             Zürich, Schweiz/Suisse/Svizzera/Svizra   \n",
       "64         Bern/Berne, Schweiz/Suisse/Svizzera/Svizra   \n",
       "65  Ancien district de Lausanne, Epalinges, Distri...   \n",
       "\n",
       "                                             geometry  \n",
       "0   POLYGON ((16.80734 51.13895, 16.80859 51.13887...  \n",
       "1   POLYGON ((-0.51038 51.46809, -0.51036 51.46795...  \n",
       "2   POLYGON ((16.18183 48.17112, 16.18190 48.17103...  \n",
       "3   POLYGON ((4.21758 51.37389, 4.21826 51.37221, ...  \n",
       "4   POLYGON ((33.26978 35.13287, 33.27003 35.13262...  \n",
       "..                                                ...  \n",
       "61  POLYGON ((6.62727 45.10680, 6.62728 45.10622, ...  \n",
       "62  POLYGON ((4.56872 47.32121, 4.56929 47.32079, ...  \n",
       "63  POLYGON ((8.35768 47.50253, 8.35783 47.50247, ...  \n",
       "64  MULTIPOLYGON (((6.86148 47.16563, 6.86152 47.1...  \n",
       "65  POLYGON ((6.56296 46.54493, 6.56299 46.54477, ...  \n",
       "\n",
       "[66 rows x 4 columns]"
      ],
      "text/html": "<div>\n<style scoped>\n    .dataframe tbody tr th:only-of-type {\n        vertical-align: middle;\n    }\n\n    .dataframe tbody tr th {\n        vertical-align: top;\n    }\n\n    .dataframe thead th {\n        text-align: right;\n    }\n</style>\n<table border=\"1\" class=\"dataframe\">\n  <thead>\n    <tr style=\"text-align: right;\">\n      <th></th>\n      <th>osm_id</th>\n      <th>relation_name</th>\n      <th>administration_name</th>\n      <th>geometry</th>\n    </tr>\n  </thead>\n  <tbody>\n    <tr>\n      <th>0</th>\n      <td>2805691</td>\n      <td>Wrocław, Poland</td>\n      <td>Wrocław, powiat wrocławski, województwo dolnoś...</td>\n      <td>POLYGON ((16.80734 51.13895, 16.80859 51.13887...</td>\n    </tr>\n    <tr>\n      <th>1</th>\n      <td>175342</td>\n      <td>Greater London, UK</td>\n      <td>Greater London, England, United Kingdom</td>\n      <td>POLYGON ((-0.51038 51.46809, -0.51036 51.46795...</td>\n    </tr>\n    <tr>\n      <th>2</th>\n      <td>109166</td>\n      <td>Vienna, Austria</td>\n      <td>Wien, Österreich</td>\n      <td>POLYGON ((16.18183 48.17112, 16.18190 48.17103...</td>\n    </tr>\n    <tr>\n      <th>3</th>\n      <td>59518</td>\n      <td>Antwerp, Belgium</td>\n      <td>Antwerpen, Vlaanderen, België / Belgique / Bel...</td>\n      <td>POLYGON ((4.21758 51.37389, 4.21826 51.37221, ...</td>\n    </tr>\n    <tr>\n      <th>4</th>\n      <td>2628520</td>\n      <td>Greater Nicosia, Nicosia District, Cyprus</td>\n      <td>Λευκωσία - Lefkoşa, Λευκωσία, Κύπρος, Κύπρος -...</td>\n      <td>POLYGON ((33.26978 35.13287, 33.27003 35.13262...</td>\n    </tr>\n    <tr>\n      <th>...</th>\n      <td>...</td>\n      <td>...</td>\n      <td>...</td>\n      <td>...</td>\n    </tr>\n    <tr>\n      <th>61</th>\n      <td>44880</td>\n      <td>Torino, Piemonte, Italia</td>\n      <td>Torino, Piemonte, Italia</td>\n      <td>POLYGON ((6.62727 45.10680, 6.62728 45.10622, ...</td>\n    </tr>\n    <tr>\n      <th>62</th>\n      <td>1685958</td>\n      <td>Dijon, Côte-d'Or, Bourgogne-Franche-Comté, Fra...</td>\n      <td>Dijon, Côte-d'Or, Bourgogne-Franche-Comté, Fra...</td>\n      <td>POLYGON ((4.56872 47.32121, 4.56929 47.32079, ...</td>\n    </tr>\n    <tr>\n      <th>63</th>\n      <td>1690227</td>\n      <td>Zürich, Schweiz/Suisse/Svizzera/Svizra</td>\n      <td>Zürich, Schweiz/Suisse/Svizzera/Svizra</td>\n      <td>POLYGON ((8.35768 47.50253, 8.35783 47.50247, ...</td>\n    </tr>\n    <tr>\n      <th>64</th>\n      <td>1686344</td>\n      <td>Bern/Berne, Schweiz/Suisse/Svizzera/Svizra</td>\n      <td>Bern/Berne, Schweiz/Suisse/Svizzera/Svizra</td>\n      <td>MULTIPOLYGON (((6.86148 47.16563, 6.86152 47.1...</td>\n    </tr>\n    <tr>\n      <th>65</th>\n      <td>6205453</td>\n      <td>Ancien district de Lausanne, Epalinges, Distri...</td>\n      <td>Ancien district de Lausanne, Epalinges, Distri...</td>\n      <td>POLYGON ((6.56296 46.54493, 6.56299 46.54477, ...</td>\n    </tr>\n  </tbody>\n</table>\n<p>66 rows × 4 columns</p>\n</div>"
     },
     "metadata": {},
     "execution_count": 27
    }
   ],
   "source": [
    "df_areas = gpd.GeoDataFrame([r for r in areas_records])\n",
    "df_areas"
   ]
  },
  {
   "cell_type": "code",
   "execution_count": 28,
   "metadata": {},
   "outputs": [],
   "source": [
    "source_json = df_areas.to_json(na='drop')\n",
    "with open('areas.geojson', 'w', encoding='utf-8') as source:\n",
    "    source.write(source_json)"
   ]
  },
  {
   "cell_type": "code",
   "execution_count": null,
   "metadata": {},
   "outputs": [],
   "source": []
  }
 ]
}