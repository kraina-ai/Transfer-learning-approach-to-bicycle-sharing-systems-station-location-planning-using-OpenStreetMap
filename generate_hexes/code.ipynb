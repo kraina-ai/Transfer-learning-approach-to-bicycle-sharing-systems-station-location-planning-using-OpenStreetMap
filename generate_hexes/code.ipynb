{
 "metadata": {
  "language_info": {
   "codemirror_mode": {
    "name": "ipython",
    "version": 3
   },
   "file_extension": ".py",
   "mimetype": "text/x-python",
   "name": "python",
   "nbconvert_exporter": "python",
   "pygments_lexer": "ipython3",
   "version": "3.8.5"
  },
  "orig_nbformat": 2,
  "kernelspec": {
   "name": "python385jvsc74a57bd0bc346ac4f0fa602f0832f03492fc478b53b4de00371d75702406557251e11c86",
   "display_name": "Python 3.8.5 64-bit ('base': conda)"
  },
  "metadata": {
   "interpreter": {
    "hash": "bc346ac4f0fa602f0832f03492fc478b53b4de00371d75702406557251e11c86"
   }
  }
 },
 "nbformat": 4,
 "nbformat_minor": 2,
 "cells": [
  {
   "cell_type": "code",
   "execution_count": 1,
   "metadata": {},
   "outputs": [],
   "source": [
    "%load_ext autoreload\n",
    "%autoreload 2\n",
    "\n",
    "from pymongo import ASCENDING, GEOSPHERE, MongoClient\n",
    "import pandas as pd\n",
    "from alive_progress import alive_bar\n",
    "from shapely.geometry import Point, mapping\n",
    "from keplergl import KeplerGl\n",
    "import shapely\n",
    "import json\n",
    "from os import listdir\n",
    "from os.path import isfile, join\n",
    "from tqdm import tqdm\n",
    "import geopandas as gpd\n",
    "from h3 import h3\n",
    "import math"
   ]
  },
  {
   "cell_type": "code",
   "execution_count": 2,
   "metadata": {},
   "outputs": [],
   "source": [
    "client = MongoClient('mongodb://localhost:27017/')\n",
    "\n",
    "db = client.osmDataDB\n",
    "coll_areas = db.areas\n",
    "coll_relations = db.relations\n",
    "coll_nextBikeRaw = db.nextBikeRaw\n",
    "coll_cities = db.cities\n",
    "coll_stations = db.stationsInCities"
   ]
  },
  {
   "cell_type": "code",
   "execution_count": 3,
   "metadata": {},
   "outputs": [],
   "source": [
    "RESOLUTIONS = [9, 10, 11]"
   ]
  },
  {
   "cell_type": "code",
   "execution_count": 4,
   "metadata": {},
   "outputs": [
    {
     "output_type": "stream",
     "name": "stdout",
     "text": [
      "9 174.37566800000002 151.01375828988122 7\n10 65.907807 57.07783516972185 18\n11 24.910561 21.57317864852189 47\n"
     ]
    }
   ],
   "source": [
    "NEIGHBORS = {}\n",
    "for res in RESOLUTIONS:\n",
    "    edge_size = h3.edge_length(res, unit='m')\n",
    "    h = edge_size * math.sqrt(3) / 2\n",
    "    k_neighbours = math.ceil(2000 / (h*2))\n",
    "    print(res, edge_size, h, k_neighbours)\n",
    "    NEIGHBORS[res] = k_neighbours"
   ]
  },
  {
   "cell_type": "code",
   "execution_count": 5,
   "metadata": {},
   "outputs": [],
   "source": [
    "def getHexes(city_id, resolution):\n",
    "    station_indexes = set()\n",
    "    all_indexes = set()\n",
    "    for st in coll_stations.find({ 'city_id': city_id }):\n",
    "        pt = shapely.geometry.shape(st['geometry'])\n",
    "        h = h3.geo_to_h3(pt.x, pt.y, resolution)\n",
    "        indexes = h3.hex_range(h, NEIGHBORS[resolution])\n",
    "        station_indexes.add(h)\n",
    "        all_indexes.update(indexes)\n",
    "    return station_indexes, all_indexes"
   ]
  },
  {
   "cell_type": "code",
   "execution_count": 6,
   "metadata": {},
   "outputs": [],
   "source": [
    "hexes_dict = {}"
   ]
  },
  {
   "cell_type": "code",
   "execution_count": 7,
   "metadata": {},
   "outputs": [
    {
     "output_type": "stream",
     "name": "stdout",
     "text": [
      "Antwerpen\n",
      "Barcelona\n",
      "Berlin\n",
      "Bern\n",
      "Bordeaux\n",
      "Brno\n",
      "Bruxelles\n",
      "Budapest\n",
      "Cardiff\n",
      "Dublin\n",
      "Gothenburg\n",
      "Helsinki\n",
      "Kyiv\n",
      "London\n",
      "Lyon\n",
      "Madrid\n",
      "Marseille\n",
      "Milan\n",
      "Moscow\n",
      "Munich\n",
      "Nantes\n",
      "Oslo\n",
      "Ostrava\n",
      "Paris\n",
      "Poznań\n",
      "Prague\n",
      "Seville\n",
      "Toulouse\n",
      "Valencia\n",
      "Vienna\n",
      "Warszawa\n",
      "Wrocław\n",
      "Zaragoza\n",
      "Zurich\n"
     ]
    }
   ],
   "source": [
    "for city in coll_cities.find({ 'accepted': True }):\n",
    "    print(city['city'])\n",
    "    hexes_dict[city['city']] = {}\n",
    "    for resolution in RESOLUTIONS:\n",
    "        hexes_dict[city['city']][resolution] = {}\n",
    "        stations, all_hexes = getHexes(city['city_id'], resolution)\n",
    "        hexes_dict[city['city']][resolution]['stations'] = stations\n",
    "        hexes_dict[city['city']][resolution]['all_hexes'] = all_hexes"
   ]
  },
  {
   "cell_type": "code",
   "execution_count": 11,
   "metadata": {},
   "outputs": [],
   "source": [
    "def get_parent_city_id(polygon_hex):\n",
    "    city = coll_cities.find_one({\n",
    "        \"geometry\": {\n",
    "            \"$geoIntersects\": {\n",
    "                \"$geometry\": shapely.geometry.mapping(polygon_hex)\n",
    "            }\n",
    "        }\n",
    "    })\n",
    "    city_id = None\n",
    "    if city is not None:\n",
    "        city_id = city['city_id']\n",
    "        # print(city['city'])\n",
    "    return city_id"
   ]
  },
  {
   "cell_type": "code",
   "execution_count": 23,
   "metadata": {},
   "outputs": [],
   "source": [
    "def is_in_city(polygon_hex, city_id):\n",
    "    city = coll_cities.find_one({\n",
    "        \"city_id\": city_id,\n",
    "        \"geometry\": {\n",
    "            \"$geoIntersects\": {\n",
    "                \"$geometry\": shapely.geometry.mapping(polygon_hex)\n",
    "            }\n",
    "        }\n",
    "    })\n",
    "    return city is not None"
   ]
  },
  {
   "cell_type": "code",
   "execution_count": 9,
   "metadata": {},
   "outputs": [],
   "source": [
    "current_res = 9"
   ]
  },
  {
   "cell_type": "code",
   "execution_count": 13,
   "metadata": {},
   "outputs": [
    {
     "output_type": "stream",
     "name": "stderr",
     "text": [
      "100%|██████████| 112017/112017 [31:37<00:00, 59.03it/s] \n",
      "100%|██████████| 9304/9304 [02:35<00:00, 59.95it/s] \n"
     ]
    }
   ],
   "source": [
    "polylines = []\n",
    "hexes = [h for dct in hexes_dict.values() for h in dct[current_res]['all_hexes']]\n",
    "for hex in tqdm(hexes):\n",
    "    polygons = h3.h3_set_to_multi_polygon([hex], geo_json=False)\n",
    "    # flatten polygons into loops.\n",
    "    outlines = [loop for polygon in polygons for loop in polygon]\n",
    "    polyline = [outline + [outline[0]] for outline in outlines][0]\n",
    "    polygon = shapely.geometry.Polygon(polyline)\n",
    "    city_id = get_parent_city_id(polygon)\n",
    "    if city_id is not None:\n",
    "        polylines.append(polygon)\n",
    "h3_gdf = gpd.GeoDataFrame({'geometry': polylines}, crs=\"EPSG:3857\")\n",
    "\n",
    "polylines = []\n",
    "stations = [h for dct in hexes_dict.values() for h in dct[current_res]['stations']]\n",
    "for hex in tqdm(stations):\n",
    "    polygons = h3.h3_set_to_multi_polygon([hex], geo_json=False)\n",
    "    # flatten polygons into loops.\n",
    "    outlines = [loop for polygon in polygons for loop in polygon]\n",
    "    polyline = [outline + [outline[0]] for outline in outlines][0]\n",
    "    polygon = shapely.geometry.Polygon(polyline)\n",
    "    city_id = get_parent_city_id(polygon)\n",
    "    if city_id is not None:\n",
    "        polylines.append(polygon)\n",
    "h3_gdf_2 = gpd.GeoDataFrame({'geometry': polylines}, crs=\"EPSG:3857\")"
   ]
  },
  {
   "cell_type": "code",
   "execution_count": 4,
   "metadata": {},
   "outputs": [
    {
     "output_type": "execute_result",
     "data": {
      "text/plain": [
       "'geometry_2dsphere'"
      ]
     },
     "metadata": {},
     "execution_count": 4
    }
   ],
   "source": [
    "coll_hexes = db.hexesInCities\n",
    "coll_hexes.create_index([(\"city_id\", ASCENDING)])\n",
    "coll_hexes.create_index([(\"hex_id\", ASCENDING)])\n",
    "coll_hexes.create_index([(\"geometry\", GEOSPHERE)])"
   ]
  },
  {
   "cell_type": "code",
   "execution_count": 29,
   "metadata": {},
   "outputs": [
    {
     "output_type": "stream",
     "name": "stderr",
     "text": [
      "Resolution: 9: 100%|██████████| 112017/112017 [27:14<00:00, 68.53it/s]\n",
      "Resolution: 10: 100%|██████████| 748123/748123 [2:36:36<00:00, 79.62it/s] \n",
      "Resolution: 11: 100%|██████████| 5137395/5137395 [21:16:07<00:00, 67.10it/s] \n"
     ]
    }
   ],
   "source": [
    "for res in RESOLUTIONS:\n",
    "    hexes = [h for dct in hexes_dict.values() for h in dct[res]['all_hexes']]\n",
    "    stations = [h for dct in hexes_dict.values() for h in dct[res]['stations']]\n",
    "    for hex in tqdm(hexes, desc=f\"Resolution: {res}\"):\n",
    "        has_station = hex in stations\n",
    "        polygons = h3.h3_set_to_multi_polygon([hex], geo_json=False)\n",
    "        outlines = [loop for polygon in polygons for loop in polygon]\n",
    "        polyline = [outline + [outline[0]] for outline in outlines][0]\n",
    "        polygon = shapely.geometry.Polygon(polyline)\n",
    "        city_id = get_parent_city_id(polygon)\n",
    "        if city_id is not None:\n",
    "            coll_hexes.insert_one({\n",
    "                'hex_id': hex,\n",
    "                'city_id': city_id,\n",
    "                'resolution': res,\n",
    "                'has_station': has_station,\n",
    "                'geometry': shapely.geometry.mapping(polygon)\n",
    "            })\n"
   ]
  },
  {
   "cell_type": "code",
   "execution_count": 5,
   "metadata": {},
   "outputs": [
    {
     "output_type": "execute_result",
     "data": {
      "text/plain": [
       "'geometry_2dsphere'"
      ]
     },
     "metadata": {},
     "execution_count": 5
    }
   ],
   "source": [
    "coll_hexes_filtered = db.hexesInCitiesFiltered\n",
    "coll_hexes_filtered.create_index([(\"city_id\", ASCENDING)])\n",
    "coll_hexes_filtered.create_index([(\"hex_id\", ASCENDING)])\n",
    "coll_hexes_filtered.create_index([(\"geometry\", GEOSPHERE)])"
   ]
  },
  {
   "cell_type": "code",
   "execution_count": 6,
   "metadata": {},
   "outputs": [
    {
     "output_type": "execute_result",
     "data": {
      "text/plain": [
       "'geometry_2dsphere'"
      ]
     },
     "metadata": {},
     "execution_count": 6
    }
   ],
   "source": [
    "coll_relations_filtered = db.relationsFiltered\n",
    "coll_relations_filtered.create_index([(\"city_id\", ASCENDING)])\n",
    "coll_relations_filtered.create_index([(\"osm_id\", ASCENDING)])\n",
    "# coll_relations_filtered.create_index([(\"hex_id\", ASCENDING)])\n",
    "coll_relations_filtered.create_index([(\"geometry\", GEOSPHERE)])"
   ]
  },
  {
   "cell_type": "code",
   "execution_count": 18,
   "metadata": {},
   "outputs": [],
   "source": [
    "import multiprocessing\n",
    "from pymongo import MongoClient\n",
    "from functools import partial\n",
    "from itertools import chain\n",
    "import time\n",
    "from tqdm.contrib.concurrent import process_map\n",
    "\n",
    "def chunks(l, n):\n",
    "    for i in range(0, len(l), n):\n",
    "        yield l[i:i + n]\n",
    "\n",
    "def parse_hex(chunk):\n",
    "    #define client inside function\n",
    "    client = client = MongoClient('localhost',27017,maxPoolSize=10000)\n",
    "    db = client.osmDataDB\n",
    "    coll_hexes = db.hexesInCities\n",
    "    coll_relations = db.relations\n",
    "    coll_hexes_filtered = db.hexesInCitiesFiltered\n",
    "    coll_relations_filtered = db.relationsFiltered\n",
    "    for _id in chunk:\n",
    "        hex = coll_hexes.find_one({ '_id': _id })\n",
    "        if coll_hexes_filtered.find_one({ 'hex_id': hex['hex_id'] }) is None:\n",
    "            relations = list(coll_relations.find({\n",
    "                \"geometry\": {\n",
    "                    \"$geoIntersects\": {\n",
    "                        \"$geometry\": hex['geometry']\n",
    "                    }\n",
    "                }\n",
    "            }))\n",
    "            if len(relations) > 0:\n",
    "                relations_to_add = []\n",
    "                for relation in relations:\n",
    "                    if coll_relations_filtered.find_one({ 'osm_id': relation['osm_id'] }) is None:\n",
    "                        relation['city_id'] = hex['city_id']\n",
    "                        del relation['_id']\n",
    "                        relations_to_add.append(relation)\n",
    "                if len(relations_to_add) > 0:\n",
    "                    coll_relations_filtered.insert_many(relations_to_add)\n",
    "                del hex['_id']\n",
    "                coll_hexes_filtered.insert_one(hex)"
   ]
  },
  {
   "cell_type": "code",
   "execution_count": 16,
   "metadata": {},
   "outputs": [],
   "source": [
    "result = coll_hexes.find({\"resolution\": { \"$gt\": 9 }},{\"_id\":1})\n",
    "hex_ids = [x[\"_id\"] for x in result]\n",
    "del result\n",
    "chunks_list = list(chunks(hex_ids,100))\n",
    "del hex_ids"
   ]
  },
  {
   "cell_type": "code",
   "execution_count": 19,
   "metadata": {},
   "outputs": [
    {
     "output_type": "stream",
     "name": "stderr",
     "text": [
      "<ipython-input-19-75d20c6237a4>:1: TqdmWarning: Iterable length 55840 > 1000 but `chunksize` is not set. This may seriously degrade multiprocess performance. Set `chunksize=1` or more.\n",
      "  process_map(parse_hex, chunks_list, max_workers=8)\n",
      "  0%|          | 180/55840 [01:00<5:12:54,  2.96it/s] \n",
      "Exception ignored in: Exception ignored in: Exception ignored in: <function WeakKeyDictionary.__init__.<locals>.remove at 0x7f241010e550><function WeakKeyDictionary.__init__.<locals>.remove at 0x7f241010e550><function WeakKeyDictionary.__init__.<locals>.remove at 0x7f241010e550>\n",
      "\n",
      "\n",
      "Traceback (most recent call last):\n",
      "Traceback (most recent call last):\n",
      "Traceback (most recent call last):\n",
      "  File \"/home/raczeq/anaconda3/lib/python3.8/weakref.py\", line 345, in remove\n",
      "  File \"/home/raczeq/anaconda3/lib/python3.8/weakref.py\", line 345, in remove\n",
      "  File \"/home/raczeq/anaconda3/lib/python3.8/weakref.py\", line 345, in remove\n",
      "    def remove(k, selfref=ref(self)):\n",
      "KeyboardInterrupt        def remove(k, selfref=ref(self)):def remove(k, selfref=ref(self)):\n",
      "KeyboardInterrupt\n",
      ": KeyboardInterrupt: : \n",
      "\n",
      "\n"
     ]
    }
   ],
   "source": [
    "process_map(parse_hex, chunks_list, max_workers=8)"
   ]
  },
  {
   "cell_type": "code",
   "execution_count": 14,
   "metadata": {},
   "outputs": [],
   "source": [
    "source_json = h3_gdf.to_json()\n",
    "with open(f'all_hexes_{current_res}.geojson', 'w', encoding='utf-8') as source:\n",
    "    source.write(source_json)\n",
    "\n",
    "source_json = h3_gdf_2.to_json()\n",
    "with open(f'station_hexes_{current_res}.geojson', 'w', encoding='utf-8') as source:\n",
    "    source.write(source_json)"
   ]
  },
  {
   "cell_type": "code",
   "execution_count": 14,
   "metadata": {},
   "outputs": [
    {
     "output_type": "stream",
     "name": "stdout",
     "text": [
      "User Guide: https://docs.kepler.gl/docs/keplergl-jupyter\n"
     ]
    },
    {
     "output_type": "display_data",
     "data": {
      "text/plain": "KeplerGl(data={'polylines': {'index': [0, 1, 2, 3, 4, 5, 6, 7, 8, 9, 10, 11, 12, 13, 14, 15, 16, 17, 18, 19, 2…",
      "application/vnd.jupyter.widget-view+json": {
       "version_major": 2,
       "version_minor": 0,
       "model_id": "a72cc131dd3f433b89a37f8e0a3cc02a"
      }
     },
     "metadata": {}
    }
   ],
   "source": [
    "map_1 = KeplerGl(height=800)\n",
    "map_1.add_data(data=h3_gdf, name='polylines')\n",
    "map_1.add_data(data=h3_gdf_2, name='stations')\n",
    "map_1"
   ]
  },
  {
   "cell_type": "code",
   "execution_count": 22,
   "metadata": {},
   "outputs": [],
   "source": [
    "def save_data(collection, filter, file_name):\n",
    "    records = [r for r in tqdm(collection.find(filter))]\n",
    "    features = []\n",
    "    for r in records:\n",
    "        # r['geometry'] = shapely.geometry.shape(r['geometry'])\n",
    "        geom = r['geometry']\n",
    "        del r['_id']\n",
    "        del r['geometry']\n",
    "        features.append({\n",
    "            \"type\": \"Feature\",\n",
    "            \"geometry\": geom,\n",
    "            \"properties\": r\n",
    "        })\n",
    "    full_dict = {\n",
    "        \"type\": \"FeatureCollection\",\n",
    "        \"features\": features\n",
    "    }\n",
    "    # df = gpd.GeoDataFrame(records)\n",
    "    df = gpd.GeoDataFrame.from_features(full_dict)\n",
    "    print(df)\n",
    "    # df.to_file(file_name, driver='GeoJSON')\n",
    "    try:\n",
    "        source_json = df.to_json(na='drop')\n",
    "    except:\n",
    "        source_json = df.to_json()\n",
    "    with open(file_name, 'w', encoding='utf-8') as source:\n",
    "        source.write(source_json)"
   ]
  },
  {
   "cell_type": "code",
   "execution_count": 18,
   "metadata": {},
   "outputs": [
    {
     "output_type": "stream",
     "name": "stderr",
     "text": [
      "153340it [00:03, 41061.17it/s]\n",
      "                                                 geometry  type      highway  \\\n",
      "0       LINESTRING (-0.08605 51.51087, -0.08621 51.51083)   way      primary   \n",
      "1       LINESTRING (-0.00140 51.47808, -0.00148 51.478...   way      footway   \n",
      "2                               POINT (-0.07376 51.55081)  node          NaN   \n",
      "3       LINESTRING (-0.04586 51.54384, -0.04588 51.543...   way  residential   \n",
      "4                               POINT (-0.00060 51.55666)  node          NaN   \n",
      "...                                                   ...   ...          ...   \n",
      "153335  LINESTRING (-0.06134 51.52942, -0.06155 51.52938)   way      service   \n",
      "153336  LINESTRING (-0.06072 51.52938, -0.06073 51.52939)   way      footway   \n",
      "153337                          POINT (-0.06119 51.52934)  node          NaN   \n",
      "153338                          POINT (-0.06116 51.52935)  node          NaN   \n",
      "153339                          POINT (-0.06113 51.52936)  node          NaN   \n",
      "\n",
      "        lit                  name  ref           source  surface maxspeed  \\\n",
      "0       yes    Gracechurch Street  A10  local knowledge  asphalt   20 mph   \n",
      "1       NaN                   NaN  NaN              GPS      NaN      NaN   \n",
      "2       NaN      Shacklewell Lane  NaN              NaN      NaN      NaN   \n",
      "3       yes            Poole Road  NaN              NaN  asphalt   20 mph   \n",
      "4       NaN  Langthorne Memorials  NaN              NaN      NaN      NaN   \n",
      "...     ...                   ...  ...              ...      ...      ...   \n",
      "153335  NaN                   NaN  NaN              NaN      NaN      NaN   \n",
      "153336  NaN                   NaN  NaN              NaN      NaN      NaN   \n",
      "153337  NaN                 Tikis  NaN              NaN      NaN      NaN   \n",
      "153338  NaN  Spotless Drycleaners  NaN              NaN      NaN      NaN   \n",
      "153339  NaN                   NaN  NaN              NaN      NaN      NaN   \n",
      "\n",
      "       oneway  ... capacity:coach maps health_specialty:traditional_medicine  \\\n",
      "0         yes  ...            NaN  NaN                                   NaN   \n",
      "1         NaN  ...            NaN  NaN                                   NaN   \n",
      "2         NaN  ...            NaN  NaN                                   NaN   \n",
      "3         NaN  ...            NaN  NaN                                   NaN   \n",
      "4         NaN  ...            NaN  NaN                                   NaN   \n",
      "...       ...  ...            ...  ...                                   ...   \n",
      "153335    NaN  ...            NaN  NaN                                   NaN   \n",
      "153336    NaN  ...            NaN  NaN                                   NaN   \n",
      "153337    NaN  ...            NaN  NaN                                   NaN   \n",
      "153338    NaN  ...            NaN  NaN                                   NaN   \n",
      "153339    NaN  ...            NaN  NaN                                   NaN   \n",
      "\n",
      "        website:en  stairs petanque  disused:operator disused:ref  \\\n",
      "0              NaN     NaN      NaN               NaN         NaN   \n",
      "1              NaN     NaN      NaN               NaN         NaN   \n",
      "2              NaN     NaN      NaN               NaN         NaN   \n",
      "3              NaN     NaN      NaN               NaN         NaN   \n",
      "4              NaN     NaN      NaN               NaN         NaN   \n",
      "...            ...     ...      ...               ...         ...   \n",
      "153335         NaN     NaN      NaN               NaN         NaN   \n",
      "153336         NaN     NaN      NaN               NaN         NaN   \n",
      "153337         NaN     NaN      NaN               NaN         NaN   \n",
      "153338         NaN     NaN      NaN               NaN         NaN   \n",
      "153339         NaN     NaN      NaN               NaN         NaN   \n",
      "\n",
      "       note:wheelchair  pitch:count  \n",
      "0                  NaN          NaN  \n",
      "1                  NaN          NaN  \n",
      "2                  NaN          NaN  \n",
      "3                  NaN          NaN  \n",
      "4                  NaN          NaN  \n",
      "...                ...          ...  \n",
      "153335             NaN          NaN  \n",
      "153336             NaN          NaN  \n",
      "153337             NaN          NaN  \n",
      "153338             NaN          NaN  \n",
      "153339             NaN          NaN  \n",
      "\n",
      "[153340 rows x 1546 columns]\n",
      "3490it [00:00, 3764.22it/s]\n",
      "                                               geometry           hex_id  \\\n",
      "0     POLYGON ((-0.12687 51.49683, -0.12592 51.49536...  897b8172e9bffff   \n",
      "1     POLYGON ((-0.13502 51.45411, -0.13422 51.45551...  897b8172d23ffff   \n",
      "2     POLYGON ((-0.16527 51.53282, -0.16448 51.53422...  897b817248fffff   \n",
      "3     POLYGON ((-0.06817 51.48727, -0.06896 51.48587...  897b8170ed3ffff   \n",
      "4     POLYGON ((-0.02052 51.52117, -0.01878 51.52110...  897b817adb7ffff   \n",
      "...                                                 ...              ...   \n",
      "3485  POLYGON ((-0.08238 51.50936, -0.08333 51.51083...  897b817000bffff   \n",
      "3486  POLYGON ((-0.10249 51.49584, -0.10329 51.49444...  897b81705abffff   \n",
      "3487  POLYGON ((-0.20997 51.44135, -0.20918 51.44276...  897b810c007ffff   \n",
      "3488  POLYGON ((-0.06353 51.53010, -0.06273 51.53150...  897b817152fffff   \n",
      "3489  POLYGON ((-0.23207 51.48102, -0.23032 51.48095...  897b810f1c7ffff   \n",
      "\n",
      "      city_id  resolution  has_station  \n",
      "0          30           9         True  \n",
      "1          30           9        False  \n",
      "2          30           9        False  \n",
      "3          30           9        False  \n",
      "4          30           9        False  \n",
      "...       ...         ...          ...  \n",
      "3485       30           9         True  \n",
      "3486       30           9         True  \n",
      "3487       30           9        False  \n",
      "3488       30           9        False  \n",
      "3489       30           9        False  \n",
      "\n",
      "[3490 rows x 5 columns]\n",
      "23282it [00:01, 20900.48it/s]\n",
      "                                                geometry           hex_id  \\\n",
      "0      POLYGON ((-0.16900 51.51187, -0.16848 51.51144...  8a7b810d659ffff   \n",
      "1      POLYGON ((-0.15867 51.49505, -0.15806 51.49523...  8a7b810d2117fff   \n",
      "2      POLYGON ((-0.21516 51.46905, -0.21464 51.46862...  8a7b810c68b7fff   \n",
      "3      POLYGON ((0.00859 51.51691, 0.00911 51.51648, ...  8a7b817a90affff   \n",
      "4      POLYGON ((-0.14340 51.53459, -0.14288 51.53416...  8a7b81726aeffff   \n",
      "...                                                  ...              ...   \n",
      "23277  POLYGON ((-0.06873 51.54607, -0.06925 51.54650...  8a7b81715caffff   \n",
      "23278  POLYGON ((-0.01117 51.48597, -0.01169 51.48640...  8a7b8171b027fff   \n",
      "23279  POLYGON ((-0.13240 51.50279, -0.13188 51.50236...  8a7b81721717fff   \n",
      "23280  POLYGON ((-0.03687 51.54845, -0.03739 51.54889...  8a7b81712a47fff   \n",
      "23281  POLYGON ((-0.12223 51.52389, -0.12162 51.52407...  8a7b81722377fff   \n",
      "\n",
      "       city_id  resolution  has_station  \n",
      "0           30          10        False  \n",
      "1           30          10         True  \n",
      "2           30          10        False  \n",
      "3           30          10        False  \n",
      "4           30          10        False  \n",
      "...        ...         ...          ...  \n",
      "23277       30          10        False  \n",
      "23278       30          10        False  \n",
      "23279       30          10        False  \n",
      "23280       30          10        False  \n",
      "23281       30          10        False  \n",
      "\n",
      "[23282 rows x 5 columns]\n",
      "138697it [00:03, 41783.33it/s]\n",
      "                                                 geometry           hex_id  \\\n",
      "0       POLYGON ((-0.22385 51.53009, -0.22360 51.53008...  8b7b810ab66bfff   \n",
      "1       POLYGON ((-0.16062 51.53160, -0.16037 51.53159...  8b7b81724142fff   \n",
      "2       POLYGON ((-0.06402 51.49325, -0.06377 51.49324...  8b7b8170331efff   \n",
      "3       POLYGON ((-0.18991 51.54325, -0.18966 51.54324...  8b7b81088595fff   \n",
      "4       POLYGON ((-0.04115 51.49006, -0.04091 51.49005...  8b7b8171d44efff   \n",
      "...                                                   ...              ...   \n",
      "138692  POLYGON ((-0.02871 51.50758, -0.02846 51.50757...  8b7b8171e34bfff   \n",
      "138693  POLYGON ((-0.21465 51.50409, -0.21440 51.50408...  8b7b810f2171fff   \n",
      "138694  POLYGON ((-0.12613 51.45047, -0.12588 51.45046...  8b7b81729875fff   \n",
      "138695  POLYGON ((-0.23125 51.47258, -0.23100 51.47257...  8b7b810f1ab6fff   \n",
      "138696  POLYGON ((-0.02498 51.47998, -0.02474 51.47997...  8b7b81719549fff   \n",
      "\n",
      "        city_id  resolution  has_station  \n",
      "0            30          11        False  \n",
      "1            30          11        False  \n",
      "2            30          11        False  \n",
      "3            30          11        False  \n",
      "4            30          11        False  \n",
      "...         ...         ...          ...  \n",
      "138692       30          11        False  \n",
      "138693       30          11        False  \n",
      "138694       30          11        False  \n",
      "138695       30          11        False  \n",
      "138696       30          11        False  \n",
      "\n",
      "[138697 rows x 5 columns]\n"
     ]
    }
   ],
   "source": [
    "save_data(coll_relations_filtered, {'city_id': 30}, 'london_relations.geojson')\n",
    "save_data(coll_hexes_filtered, {'city_id': 30, 'resolution': 9 }, 'london_hexes_9.geojson')\n",
    "save_data(coll_hexes_filtered, {'city_id': 30, 'resolution': 10 }, 'london_hexes_10.geojson')\n",
    "save_data(coll_hexes_filtered, {'city_id': 30, 'resolution': 11 }, 'london_hexes_11.geojson')\n",
    "# save_data()"
   ]
  },
  {
   "cell_type": "code",
   "execution_count": 23,
   "metadata": {},
   "outputs": [
    {
     "output_type": "stream",
     "name": "stderr",
     "text": [
      "97232it [00:02, 42110.13it/s]\n",
      "                                                geometry  type leisure  sport  \\\n",
      "0      POLYGON ((17.07156 51.14777, 17.07187 51.14765...   way   pitch  multi   \n",
      "1      LINESTRING (17.13018 51.15531, 17.13086 51.154...   way     NaN    NaN   \n",
      "2      LINESTRING (17.00134 51.18097, 17.00129 51.180...   way     NaN    NaN   \n",
      "3      LINESTRING (16.96709 51.13757, 16.96755 51.13757)   way     NaN    NaN   \n",
      "4                              POINT (17.03451 51.09924)  node     NaN    NaN   \n",
      "...                                                  ...   ...     ...    ...   \n",
      "97227  POLYGON ((17.00254 51.12034, 17.00232 51.11997...   way   pitch  multi   \n",
      "97228                          POINT (17.00227 51.12105)  node     NaN    NaN   \n",
      "97229                          POINT (17.00220 51.12098)  node     NaN    NaN   \n",
      "97230  LINESTRING (17.00205 51.12113, 17.00192 51.12152)   way     NaN    NaN   \n",
      "97231  LINESTRING (17.00228 51.12115, 17.00233 51.12100)   way     NaN    NaN   \n",
      "\n",
      "       surface      osm_id  parent_osm_id        category  city_id  highway  \\\n",
      "0       tartan   268977847        2805691         leisure       59      NaN   \n",
      "1          NaN    60284995        2805691      roads_walk       59  service   \n",
      "2        paved   653117508        2805691      roads_walk       59     path   \n",
      "3      asphalt   506915540        2805691      roads_walk       59  footway   \n",
      "4          NaN   184191112        2805691  transportation       59      NaN   \n",
      "...        ...         ...            ...             ...      ...      ...   \n",
      "97227      NaN   180301653        2805691         leisure       59      NaN   \n",
      "97228      NaN  7294607447        2805691       education       59      NaN   \n",
      "97229      NaN  6139976445        2805691           shops       59      NaN   \n",
      "97230      NaN   416590471        2805691      roads_walk       59  service   \n",
      "97231      NaN   518733454        2805691      roads_walk       59  footway   \n",
      "\n",
      "       ...  bath:type  nudism display service:bicycle:chain_tool  \\\n",
      "0      ...        NaN     NaN     NaN                        NaN   \n",
      "1      ...        NaN     NaN     NaN                        NaN   \n",
      "2      ...        NaN     NaN     NaN                        NaN   \n",
      "3      ...        NaN     NaN     NaN                        NaN   \n",
      "4      ...        NaN     NaN     NaN                        NaN   \n",
      "...    ...        ...     ...     ...                        ...   \n",
      "97227  ...        NaN     NaN     NaN                        NaN   \n",
      "97228  ...        NaN     NaN     NaN                        NaN   \n",
      "97229  ...        NaN     NaN     NaN                        NaN   \n",
      "97230  ...        NaN     NaN     NaN                        NaN   \n",
      "97231  ...        NaN     NaN     NaN                        NaN   \n",
      "\n",
      "      service:bicycle:cleaning athletics Pomnik maxspeed:bus:backward  \\\n",
      "0                          NaN       NaN    NaN                   NaN   \n",
      "1                          NaN       NaN    NaN                   NaN   \n",
      "2                          NaN       NaN    NaN                   NaN   \n",
      "3                          NaN       NaN    NaN                   NaN   \n",
      "4                          NaN       NaN    NaN                   NaN   \n",
      "...                        ...       ...    ...                   ...   \n",
      "97227                      NaN       NaN    NaN                   NaN   \n",
      "97228                      NaN       NaN    NaN                   NaN   \n",
      "97229                      NaN       NaN    NaN                   NaN   \n",
      "97230                      NaN       NaN    NaN                   NaN   \n",
      "97231                      NaN       NaN    NaN                   NaN   \n",
      "\n",
      "      maxspeed:hgv:backward:conditional maxspeed:trailer:backward  \n",
      "0                                   NaN                       NaN  \n",
      "1                                   NaN                       NaN  \n",
      "2                                   NaN                       NaN  \n",
      "3                                   NaN                       NaN  \n",
      "4                                   NaN                       NaN  \n",
      "...                                 ...                       ...  \n",
      "97227                               NaN                       NaN  \n",
      "97228                               NaN                       NaN  \n",
      "97229                               NaN                       NaN  \n",
      "97230                               NaN                       NaN  \n",
      "97231                               NaN                       NaN  \n",
      "\n",
      "[97232 rows x 905 columns]\n",
      "4132it [00:00, 16114.72it/s]\n",
      "                                               geometry           hex_id  \\\n",
      "0     POLYGON ((16.85351 51.13485, 16.85240 51.13600...  895243054d7ffff   \n",
      "1     POLYGON ((16.85541 51.15286, 16.85709 51.15333...  8952430737bffff   \n",
      "2     POLYGON ((17.01795 51.10759, 17.01684 51.10875...  89524317053ffff   \n",
      "3     POLYGON ((17.04189 51.14931, 17.04357 51.14978...  89524316667ffff   \n",
      "4     POLYGON ((16.89367 51.13289, 16.89535 51.13336...  89524307683ffff   \n",
      "...                                                 ...              ...   \n",
      "4127  POLYGON ((17.09237 51.06101, 17.09294 51.06263...  8952438d29bffff   \n",
      "4128  POLYGON ((16.97268 51.10816, 16.97436 51.10863...  8952431546fffff   \n",
      "4129  POLYGON ((16.94183 51.14483, 16.94351 51.14530...  89524315eafffff   \n",
      "4130  POLYGON ((17.00359 51.12259, 17.00469 51.12144...  89524317313ffff   \n",
      "4131  POLYGON ((17.13659 51.16837, 17.13827 51.16884...  8952438ea23ffff   \n",
      "\n",
      "      city_id  resolution  has_station  \n",
      "0          59           9        False  \n",
      "1          59           9        False  \n",
      "2          59           9        False  \n",
      "3          59           9         True  \n",
      "4          59           9        False  \n",
      "...       ...         ...          ...  \n",
      "4127       59           9        False  \n",
      "4128       59           9        False  \n",
      "4129       59           9        False  \n",
      "4130       59           9        False  \n",
      "4131       59           9        False  \n",
      "\n",
      "[4132 rows x 5 columns]\n",
      "23771it [00:00, 56494.38it/s]\n",
      "                                                geometry           hex_id  \\\n",
      "0      POLYGON ((17.03309 51.16167, 17.03253 51.16193...  8a5243163daffff   \n",
      "1      POLYGON ((16.99253 51.13349, 16.99310 51.13386...  8a5243146437fff   \n",
      "2      POLYGON ((17.01934 51.13219, 17.01879 51.13245...  8a5243171c47fff   \n",
      "3      POLYGON ((16.93054 51.13439, 16.92998 51.13465...  8a524315e6d7fff   \n",
      "4      POLYGON ((16.98168 51.06601, 16.98169 51.06663...  8a52431086affff   \n",
      "...                                                  ...              ...   \n",
      "23766  POLYGON ((16.95462 51.09271, 16.95463 51.09334...  8a5243152d47fff   \n",
      "23767  POLYGON ((16.98125 51.07632, 16.98126 51.07695...  8a524310b94ffff   \n",
      "23768  POLYGON ((17.02173 51.14558, 17.02229 51.14594...  8a5243171b47fff   \n",
      "23769  POLYGON ((16.97489 51.05848, 16.97433 51.05875...  8a524310a307fff   \n",
      "23770  POLYGON ((17.13004 51.13041, 17.12948 51.13005...  8a52438c006ffff   \n",
      "\n",
      "       city_id  resolution  has_station  \n",
      "0           59          10        False  \n",
      "1           59          10        False  \n",
      "2           59          10        False  \n",
      "3           59          10        False  \n",
      "4           59          10        False  \n",
      "...        ...         ...          ...  \n",
      "23766       59          10        False  \n",
      "23767       59          10        False  \n",
      "23768       59          10        False  \n",
      "23769       59          10        False  \n",
      "23770       59          10        False  \n",
      "\n",
      "[23771 rows x 5 columns]\n",
      "117191it [00:03, 36334.05it/s]\n",
      "                                                 geometry           hex_id  \\\n",
      "0       POLYGON ((17.00635 51.05803, 17.00611 51.05796...  8b524310c450fff   \n",
      "1       POLYGON ((17.12584 51.16496, 17.12569 51.16512...  8b52438cc120fff   \n",
      "2       POLYGON ((16.96853 51.13537, 16.96829 51.13530...  8b524315184cfff   \n",
      "3       POLYGON ((16.95392 51.14840, 16.95368 51.14833...  8b524315c09bfff   \n",
      "4       POLYGON ((17.03976 51.05205, 17.03951 51.05198...  8b524312e689fff   \n",
      "...                                                   ...              ...   \n",
      "117186  POLYGON ((17.01222 51.13104, 17.01198 51.13098...  8b5243171470fff   \n",
      "117187  POLYGON ((17.08927 51.12910, 17.08903 51.12903...  8b52438dd501fff   \n",
      "117188  POLYGON ((17.05743 51.05298, 17.05719 51.05292...  8b524312e812fff   \n",
      "117189  POLYGON ((16.87636 51.15161, 16.87612 51.15155...  8b524307075bfff   \n",
      "117190  POLYGON ((16.90915 51.14657, 16.90891 51.14650...  8b52430748e6fff   \n",
      "\n",
      "        city_id  resolution  has_station  \n",
      "0            59          11        False  \n",
      "1            59          11        False  \n",
      "2            59          11        False  \n",
      "3            59          11        False  \n",
      "4            59          11        False  \n",
      "...         ...         ...          ...  \n",
      "117186       59          11        False  \n",
      "117187       59          11        False  \n",
      "117188       59          11        False  \n",
      "117189       59          11        False  \n",
      "117190       59          11        False  \n",
      "\n",
      "[117191 rows x 5 columns]\n"
     ]
    }
   ],
   "source": [
    "save_data(coll_relations_filtered, {'city_id': 59}, 'wroclaw_relations.geojson')\n",
    "save_data(coll_hexes_filtered, {'city_id': 59, 'resolution': 9 }, 'wroclaw_hexes_9.geojson')\n",
    "save_data(coll_hexes_filtered, {'city_id': 59, 'resolution': 10 }, 'wroclaw_hexes_10.geojson')\n",
    "save_data(coll_hexes_filtered, {'city_id': 59, 'resolution': 11 }, 'wroclaw_hexes_11.geojson')"
   ]
  },
  {
   "cell_type": "code",
   "execution_count": null,
   "metadata": {},
   "outputs": [],
   "source": []
  }
 ]
}