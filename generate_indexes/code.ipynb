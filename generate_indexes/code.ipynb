{
 "metadata": {
  "language_info": {
   "codemirror_mode": {
    "name": "ipython",
    "version": 3
   },
   "file_extension": ".py",
   "mimetype": "text/x-python",
   "name": "python",
   "nbconvert_exporter": "python",
   "pygments_lexer": "ipython3",
   "version": "3.8.5"
  },
  "orig_nbformat": 2,
  "kernelspec": {
   "name": "python385jvsc74a57bd0bc346ac4f0fa602f0832f03492fc478b53b4de00371d75702406557251e11c86",
   "display_name": "Python 3.8.5 64-bit ('anaconda3': virtualenv)"
  },
  "metadata": {
   "interpreter": {
    "hash": "bc346ac4f0fa602f0832f03492fc478b53b4de00371d75702406557251e11c86"
   }
  }
 },
 "nbformat": 4,
 "nbformat_minor": 2,
 "cells": [
  {
   "cell_type": "code",
   "execution_count": 1,
   "metadata": {},
   "outputs": [],
   "source": [
    "from h3 import h3\n",
    "import s2\n",
    "import s2geometry"
   ]
  },
  {
   "cell_type": "code",
   "execution_count": 2,
   "metadata": {},
   "outputs": [],
   "source": [
    "from pymongo import MongoClient\n",
    "from keplergl import KeplerGl\n",
    "from shapely.geometry import Polygon, shape, mapping\n",
    "import geopandas as gpd"
   ]
  },
  {
   "cell_type": "code",
   "execution_count": 3,
   "metadata": {},
   "outputs": [],
   "source": [
    "client = MongoClient('mongodb://localhost:27017/')\n",
    "db = client.osmDataDB\n",
    "coll_areas = db.areas"
   ]
  },
  {
   "cell_type": "code",
   "execution_count": 4,
   "metadata": {},
   "outputs": [],
   "source": [
    "wroclaw = coll_areas.find_one({ 'osm_id': 2805691 })\n",
    "wroclaw_shp = wroclaw['geometry']\n",
    "wroclaw_geojson = {\n",
    "    \"type\": \"Feature\",\n",
    "    \"properties\": {\"name\": \"Wrocław\"},\n",
    "    \"geometry\": wroclaw_shp\n",
    "}"
   ]
  },
  {
   "cell_type": "code",
   "execution_count": 5,
   "metadata": {},
   "outputs": [],
   "source": [
    "wroclaw_polygon = shape(wroclaw_shp)\n",
    "buffered_polygon = wroclaw_polygon.buffer(0.005)\n",
    "wroclaw_gdf = gpd.GeoDataFrame({'geometry': [buffered_polygon]}, crs=\"EPSG:3857\")"
   ]
  },
  {
   "cell_type": "code",
   "execution_count": 6,
   "metadata": {},
   "outputs": [
    {
     "output_type": "execute_result",
     "data": {
      "text/plain": [
       "shapely.geometry.polygon.Polygon"
      ]
     },
     "metadata": {},
     "execution_count": 6
    }
   ],
   "source": [
    "type(buffered_polygon)"
   ]
  },
  {
   "cell_type": "code",
   "execution_count": 7,
   "metadata": {},
   "outputs": [],
   "source": [
    "polyline = wroclaw_shp['coordinates'][0]\n",
    "polyline.append(polyline[0])"
   ]
  },
  {
   "cell_type": "code",
   "execution_count": 8,
   "metadata": {},
   "outputs": [],
   "source": [
    "hexagons = list(h3.polyfill(mapping(buffered_polygon), 8))"
   ]
  },
  {
   "cell_type": "code",
   "execution_count": 19,
   "metadata": {},
   "outputs": [],
   "source": [
    "hexagons = list(h3.polyfill(wroclaw_shp, 8))\n",
    "hexagons_2 = list(h3.polyfill(wroclaw_shp, 11))"
   ]
  },
  {
   "cell_type": "code",
   "execution_count": 20,
   "metadata": {},
   "outputs": [],
   "source": [
    "polylines = []\n",
    "for hex in hexagons:\n",
    "    polygons = h3.h3_set_to_multi_polygon([hex], geo_json=False)\n",
    "    # flatten polygons into loops.\n",
    "    outlines = [loop for polygon in polygons for loop in polygon]\n",
    "    polyline = [outline + [outline[0]] for outline in outlines][0]\n",
    "    polylines.append(Polygon(polyline))\n",
    "polylines_2 = []\n",
    "for hex in hexagons_2:\n",
    "    polygons = h3.h3_set_to_multi_polygon([hex], geo_json=False)\n",
    "    # flatten polygons into loops.\n",
    "    outlines = [loop for polygon in polygons for loop in polygon]\n",
    "    polyline = [outline + [outline[0]] for outline in outlines][0]\n",
    "    polylines_2.append(Polygon(polyline))"
   ]
  },
  {
   "cell_type": "code",
   "execution_count": 21,
   "metadata": {},
   "outputs": [],
   "source": [
    "h3_gdf = gpd.GeoDataFrame({'geometry': polylines}, crs=\"EPSG:3857\")\n",
    "h3_gdf_2 = gpd.GeoDataFrame({'geometry': polylines_2}, crs=\"EPSG:3857\")"
   ]
  },
  {
   "cell_type": "code",
   "execution_count": 12,
   "metadata": {},
   "outputs": [
    {
     "output_type": "execute_result",
     "data": {
      "text/plain": [
       "                                              geometry\n",
       "0    POLYGON ((16.86391 51.16397, 16.86003 51.16581...\n",
       "1    POLYGON ((17.02701 51.06919, 17.02706 51.07359...\n",
       "2    POLYGON ((17.14866 51.09128, 17.15260 51.09384...\n",
       "3    POLYGON ((16.84023 51.14427, 16.84029 51.14866...\n",
       "4    POLYGON ((16.94898 51.08843, 16.94903 51.09283...\n",
       "..                                                 ...\n",
       "729  POLYGON ((17.13710 51.11002, 17.13320 51.11186...\n",
       "730  POLYGON ((16.90297 51.16318, 16.89903 51.16063...\n",
       "731  POLYGON ((17.03116 51.08935, 17.02721 51.08679...\n",
       "732  POLYGON ((16.86703 51.10070, 16.86708 51.10509...\n",
       "733  POLYGON ((16.89499 51.14930, 16.89504 51.15369...\n",
       "\n",
       "[734 rows x 1 columns]"
      ],
      "text/html": "<div>\n<style scoped>\n    .dataframe tbody tr th:only-of-type {\n        vertical-align: middle;\n    }\n\n    .dataframe tbody tr th {\n        vertical-align: top;\n    }\n\n    .dataframe thead th {\n        text-align: right;\n    }\n</style>\n<table border=\"1\" class=\"dataframe\">\n  <thead>\n    <tr style=\"text-align: right;\">\n      <th></th>\n      <th>geometry</th>\n    </tr>\n  </thead>\n  <tbody>\n    <tr>\n      <th>0</th>\n      <td>POLYGON ((16.86391 51.16397, 16.86003 51.16581...</td>\n    </tr>\n    <tr>\n      <th>1</th>\n      <td>POLYGON ((17.02701 51.06919, 17.02706 51.07359...</td>\n    </tr>\n    <tr>\n      <th>2</th>\n      <td>POLYGON ((17.14866 51.09128, 17.15260 51.09384...</td>\n    </tr>\n    <tr>\n      <th>3</th>\n      <td>POLYGON ((16.84023 51.14427, 16.84029 51.14866...</td>\n    </tr>\n    <tr>\n      <th>4</th>\n      <td>POLYGON ((16.94898 51.08843, 16.94903 51.09283...</td>\n    </tr>\n    <tr>\n      <th>...</th>\n      <td>...</td>\n    </tr>\n    <tr>\n      <th>729</th>\n      <td>POLYGON ((17.13710 51.11002, 17.13320 51.11186...</td>\n    </tr>\n    <tr>\n      <th>730</th>\n      <td>POLYGON ((16.90297 51.16318, 16.89903 51.16063...</td>\n    </tr>\n    <tr>\n      <th>731</th>\n      <td>POLYGON ((17.03116 51.08935, 17.02721 51.08679...</td>\n    </tr>\n    <tr>\n      <th>732</th>\n      <td>POLYGON ((16.86703 51.10070, 16.86708 51.10509...</td>\n    </tr>\n    <tr>\n      <th>733</th>\n      <td>POLYGON ((16.89499 51.14930, 16.89504 51.15369...</td>\n    </tr>\n  </tbody>\n</table>\n<p>734 rows × 1 columns</p>\n</div>"
     },
     "metadata": {},
     "execution_count": 12
    }
   ],
   "source": [
    "h3_gdf"
   ]
  },
  {
   "cell_type": "code",
   "execution_count": 23,
   "metadata": {},
   "outputs": [],
   "source": [
    "h3_gdf_2"
   ]
  },
  {
   "cell_type": "code",
   "execution_count": 22,
   "metadata": {},
   "outputs": [
    {
     "output_type": "stream",
     "name": "stdout",
     "text": [
      "User Guide: https://docs.kepler.gl/docs/keplergl-jupyter\n"
     ]
    },
    {
     "output_type": "display_data",
     "data": {
      "text/plain": "KeplerGl(data={'feature_2': {'type': 'Feature', 'properties': {'name': 'Wrocław'}, 'geometry': {'type': 'Polyg…",
      "application/vnd.jupyter.widget-view+json": {
       "version_major": 2,
       "version_minor": 0,
       "model_id": "31ae57c78c8d444585efecfe43ceb292"
      }
     },
     "metadata": {}
    }
   ],
   "source": [
    "map_1 = KeplerGl(height=800)\n",
    "map_1.add_data(data=wroclaw_geojson, name='feature_2')\n",
    "# map_1.add_data(data=wroclaw_gdf, name='wroclaw')\n",
    "map_1.add_data(data=h3_gdf, name='polylines')\n",
    "map_1.add_data(data=h3_gdf_2, name='polylines_2')\n",
    "# map_1.config = map_config\n",
    "map_1"
   ]
  },
  {
   "cell_type": "code",
   "execution_count": 120,
   "metadata": {},
   "outputs": [],
   "source": [
    "map_config = map_1.config"
   ]
  },
  {
   "cell_type": "code",
   "execution_count": 137,
   "metadata": {},
   "outputs": [
    {
     "output_type": "execute_result",
     "data": {
      "text/plain": [
       "2"
      ]
     },
     "metadata": {},
     "execution_count": 137
    }
   ],
   "source": [
    "len(wroclaw_shp['coordinates'][0][0])"
   ]
  },
  {
   "cell_type": "code",
   "execution_count": 143,
   "metadata": {},
   "outputs": [],
   "source": [
    "bbox = wroclaw_polygon.bounds"
   ]
  },
  {
   "cell_type": "code",
   "execution_count": 144,
   "metadata": {},
   "outputs": [
    {
     "output_type": "execute_result",
     "data": {
      "text/plain": [
       "(16.8073393, 51.0426686, 17.1762192, 51.2100604)"
      ]
     },
     "metadata": {},
     "execution_count": 144
    }
   ],
   "source": [
    "bbox"
   ]
  },
  {
   "cell_type": "code",
   "execution_count": 145,
   "metadata": {},
   "outputs": [],
   "source": [
    "rect = s2geometry.S2LatLngRect(\n",
    "        s2geometry.S2LatLng.FromDegrees(bbox[1], bbox[0]),\n",
    "        s2geometry.S2LatLng.FromDegrees(bbox[3], bbox[2]))"
   ]
  },
  {
   "cell_type": "code",
   "execution_count": 212,
   "metadata": {},
   "outputs": [],
   "source": [
    "coverer = s2geometry.S2RegionCoverer()\n",
    "coverer.set_min_level(14)\n",
    "coverer.set_max_level(14)\n",
    "coverer.set_max_cells(1000)"
   ]
  },
  {
   "cell_type": "code",
   "execution_count": 213,
   "metadata": {},
   "outputs": [],
   "source": [
    "covering = coverer.GetCovering(rect)"
   ]
  },
  {
   "cell_type": "code",
   "execution_count": 214,
   "metadata": {},
   "outputs": [],
   "source": [
    "s2polygons = []\n",
    "for cellid in covering:\n",
    "    new_cell = s2geometry.S2Cell(cellid)\n",
    "    vertices = []\n",
    "    for i in range(4):\n",
    "        vertex = new_cell.GetVertex(i)\n",
    "        latlng = s2geometry.S2LatLng(vertex)\n",
    "        vertices.append((latlng.lng().degrees(),\n",
    "                         latlng.lat().degrees()))\n",
    "    geo = Polygon(vertices)\n",
    "    s2polygons.append(geo)"
   ]
  },
  {
   "cell_type": "code",
   "execution_count": 215,
   "metadata": {},
   "outputs": [],
   "source": [
    "s2_gdf = gpd.GeoDataFrame({'geometry': s2polygons}, crs=\"EPSG:3857\")"
   ]
  },
  {
   "cell_type": "code",
   "execution_count": 216,
   "metadata": {},
   "outputs": [
    {
     "output_type": "execute_result",
     "data": {
      "text/plain": [
       "                                               geometry\n",
       "0     POLYGON ((16.83413 51.20596, 16.83719 51.21089...\n",
       "1     POLYGON ((16.82689 51.20702, 16.82995 51.21196...\n",
       "2     POLYGON ((16.81966 51.20809, 16.82271 51.21302...\n",
       "3     POLYGON ((16.81242 51.20916, 16.81548 51.21409...\n",
       "4     POLYGON ((16.80937 51.20423, 16.81242 51.20916...\n",
       "...                                                 ...\n",
       "1686  POLYGON ((17.15573 51.20104, 17.15884 51.20596...\n",
       "1687  POLYGON ((17.15884 51.20596, 17.16196 51.21088...\n",
       "1688  POLYGON ((17.16609 51.20487, 17.16921 51.20978...\n",
       "1689  POLYGON ((17.16921 51.20978, 17.17232 51.21470...\n",
       "1690  POLYGON ((17.17646 51.20869, 17.17957 51.21361...\n",
       "\n",
       "[1691 rows x 1 columns]"
      ],
      "text/html": "<div>\n<style scoped>\n    .dataframe tbody tr th:only-of-type {\n        vertical-align: middle;\n    }\n\n    .dataframe tbody tr th {\n        vertical-align: top;\n    }\n\n    .dataframe thead th {\n        text-align: right;\n    }\n</style>\n<table border=\"1\" class=\"dataframe\">\n  <thead>\n    <tr style=\"text-align: right;\">\n      <th></th>\n      <th>geometry</th>\n    </tr>\n  </thead>\n  <tbody>\n    <tr>\n      <th>0</th>\n      <td>POLYGON ((16.83413 51.20596, 16.83719 51.21089...</td>\n    </tr>\n    <tr>\n      <th>1</th>\n      <td>POLYGON ((16.82689 51.20702, 16.82995 51.21196...</td>\n    </tr>\n    <tr>\n      <th>2</th>\n      <td>POLYGON ((16.81966 51.20809, 16.82271 51.21302...</td>\n    </tr>\n    <tr>\n      <th>3</th>\n      <td>POLYGON ((16.81242 51.20916, 16.81548 51.21409...</td>\n    </tr>\n    <tr>\n      <th>4</th>\n      <td>POLYGON ((16.80937 51.20423, 16.81242 51.20916...</td>\n    </tr>\n    <tr>\n      <th>...</th>\n      <td>...</td>\n    </tr>\n    <tr>\n      <th>1686</th>\n      <td>POLYGON ((17.15573 51.20104, 17.15884 51.20596...</td>\n    </tr>\n    <tr>\n      <th>1687</th>\n      <td>POLYGON ((17.15884 51.20596, 17.16196 51.21088...</td>\n    </tr>\n    <tr>\n      <th>1688</th>\n      <td>POLYGON ((17.16609 51.20487, 17.16921 51.20978...</td>\n    </tr>\n    <tr>\n      <th>1689</th>\n      <td>POLYGON ((17.16921 51.20978, 17.17232 51.21470...</td>\n    </tr>\n    <tr>\n      <th>1690</th>\n      <td>POLYGON ((17.17646 51.20869, 17.17957 51.21361...</td>\n    </tr>\n  </tbody>\n</table>\n<p>1691 rows × 1 columns</p>\n</div>"
     },
     "metadata": {},
     "execution_count": 216
    }
   ],
   "source": [
    "s2_gdf"
   ]
  },
  {
   "cell_type": "code",
   "execution_count": 217,
   "metadata": {},
   "outputs": [],
   "source": [
    "pip = s2_gdf.intersects(wroclaw_polygon)"
   ]
  },
  {
   "cell_type": "code",
   "execution_count": 218,
   "metadata": {},
   "outputs": [],
   "source": [
    "ec_gdf = s2_gdf.loc[pip].copy()"
   ]
  },
  {
   "cell_type": "code",
   "execution_count": 219,
   "metadata": {},
   "outputs": [
    {
     "output_type": "execute_result",
     "data": {
      "text/plain": [
       "                                               geometry\n",
       "47    POLYGON ((16.88785 51.20339, 16.89091 51.20832...\n",
       "48    POLYGON ((16.88478 51.19846, 16.88785 51.20339...\n",
       "49    POLYGON ((16.89202 51.19739, 16.89508 51.20232...\n",
       "50    POLYGON ((16.89508 51.20232, 16.89815 51.20724...\n",
       "51    POLYGON ((16.89815 51.20724, 16.90122 51.21217...\n",
       "...                                                 ...\n",
       "1567  POLYGON ((17.01505 51.17907, 17.01814 51.18399...\n",
       "1568  POLYGON ((17.01814 51.18399, 17.02122 51.18892...\n",
       "1569  POLYGON ((17.02538 51.18291, 17.02847 51.18783...\n",
       "1603  POLYGON ((16.96946 51.20741, 16.97254 51.21234...\n",
       "1604  POLYGON ((16.96222 51.20849, 16.96529 51.21342...\n",
       "\n",
       "[1080 rows x 1 columns]"
      ],
      "text/html": "<div>\n<style scoped>\n    .dataframe tbody tr th:only-of-type {\n        vertical-align: middle;\n    }\n\n    .dataframe tbody tr th {\n        vertical-align: top;\n    }\n\n    .dataframe thead th {\n        text-align: right;\n    }\n</style>\n<table border=\"1\" class=\"dataframe\">\n  <thead>\n    <tr style=\"text-align: right;\">\n      <th></th>\n      <th>geometry</th>\n    </tr>\n  </thead>\n  <tbody>\n    <tr>\n      <th>47</th>\n      <td>POLYGON ((16.88785 51.20339, 16.89091 51.20832...</td>\n    </tr>\n    <tr>\n      <th>48</th>\n      <td>POLYGON ((16.88478 51.19846, 16.88785 51.20339...</td>\n    </tr>\n    <tr>\n      <th>49</th>\n      <td>POLYGON ((16.89202 51.19739, 16.89508 51.20232...</td>\n    </tr>\n    <tr>\n      <th>50</th>\n      <td>POLYGON ((16.89508 51.20232, 16.89815 51.20724...</td>\n    </tr>\n    <tr>\n      <th>51</th>\n      <td>POLYGON ((16.89815 51.20724, 16.90122 51.21217...</td>\n    </tr>\n    <tr>\n      <th>...</th>\n      <td>...</td>\n    </tr>\n    <tr>\n      <th>1567</th>\n      <td>POLYGON ((17.01505 51.17907, 17.01814 51.18399...</td>\n    </tr>\n    <tr>\n      <th>1568</th>\n      <td>POLYGON ((17.01814 51.18399, 17.02122 51.18892...</td>\n    </tr>\n    <tr>\n      <th>1569</th>\n      <td>POLYGON ((17.02538 51.18291, 17.02847 51.18783...</td>\n    </tr>\n    <tr>\n      <th>1603</th>\n      <td>POLYGON ((16.96946 51.20741, 16.97254 51.21234...</td>\n    </tr>\n    <tr>\n      <th>1604</th>\n      <td>POLYGON ((16.96222 51.20849, 16.96529 51.21342...</td>\n    </tr>\n  </tbody>\n</table>\n<p>1080 rows × 1 columns</p>\n</div>"
     },
     "metadata": {},
     "execution_count": 219
    }
   ],
   "source": [
    "ec_gdf"
   ]
  },
  {
   "cell_type": "code",
   "execution_count": 220,
   "metadata": {},
   "outputs": [
    {
     "output_type": "stream",
     "name": "stdout",
     "text": [
      "User Guide: https://docs.kepler.gl/docs/keplergl-jupyter\n"
     ]
    },
    {
     "output_type": "display_data",
     "data": {
      "text/plain": "KeplerGl(config={'version': 'v1', 'config': {'visState': {'filters': [], 'layers': [{'id': '08zph6d', 'type': …",
      "application/vnd.jupyter.widget-view+json": {
       "version_major": 2,
       "version_minor": 0,
       "model_id": "bdaf1100e6a24823af87a00948d8ee22"
      }
     },
     "metadata": {}
    }
   ],
   "source": [
    "map_1 = KeplerGl(height=800)\n",
    "map_1.add_data(data=wroclaw_geojson, name='feature_2')\n",
    "# map_1.add_data(data=wroclaw_gdf, name='wroclaw')\n",
    "map_1.add_data(data=ec_gdf, name='polylines')\n",
    "map_1.config = map_config\n",
    "map_1"
   ]
  },
  {
   "cell_type": "code",
   "execution_count": null,
   "metadata": {},
   "outputs": [],
   "source": []
  }
 ]
}