{
 "metadata": {
  "language_info": {
   "codemirror_mode": {
    "name": "ipython",
    "version": 3
   },
   "file_extension": ".py",
   "mimetype": "text/x-python",
   "name": "python",
   "nbconvert_exporter": "python",
   "pygments_lexer": "ipython3",
   "version": "3.8.5"
  },
  "orig_nbformat": 2,
  "kernelspec": {
   "name": "python385jvsc74a57bd0bc346ac4f0fa602f0832f03492fc478b53b4de00371d75702406557251e11c86",
   "display_name": "Python 3.8.5 64-bit ('base': conda)"
  },
  "metadata": {
   "interpreter": {
    "hash": "bc346ac4f0fa602f0832f03492fc478b53b4de00371d75702406557251e11c86"
   }
  }
 },
 "nbformat": 4,
 "nbformat_minor": 2,
 "cells": [
  {
   "cell_type": "code",
   "execution_count": 1,
   "metadata": {},
   "outputs": [],
   "source": [
    "%load_ext autoreload\n",
    "%autoreload 2"
   ]
  },
  {
   "cell_type": "code",
   "execution_count": 2,
   "metadata": {},
   "outputs": [],
   "source": [
    "from pymongo import ASCENDING, GEOSPHERE, MongoClient\n",
    "import pandas as pd\n",
    "from alive_progress import alive_bar\n",
    "from shapely.geometry import Point, mapping\n",
    "from keplergl import KeplerGl\n",
    "import shapely\n",
    "import json\n",
    "from os import listdir\n",
    "from os.path import isfile, join\n",
    "from tqdm import tqdm\n",
    "import geopandas as gpd\n",
    "from h3 import h3\n",
    "import math\n",
    "import sklearn\n",
    "import numpy as np\n",
    "import time"
   ]
  },
  {
   "cell_type": "code",
   "execution_count": 16,
   "metadata": {},
   "outputs": [],
   "source": [
    "RESOLUTION = 11"
   ]
  },
  {
   "cell_type": "code",
   "execution_count": 5,
   "metadata": {},
   "outputs": [],
   "source": [
    "client = MongoClient('mongodb://localhost:27017/')\n",
    "db = client.osmDataDB\n",
    "coll_cities = db.cities\n",
    "coll_relations = db.relations\n",
    "coll_cache = db.hexEmbeddingCache"
   ]
  },
  {
   "cell_type": "code",
   "execution_count": 6,
   "metadata": {},
   "outputs": [],
   "source": [
    "city = coll_cities.find_one({'city': 'Wrocław'})"
   ]
  },
  {
   "cell_type": "code",
   "execution_count": 12,
   "metadata": {},
   "outputs": [],
   "source": [
    "shp = shapely.geometry.shape(city['geometry'])\n",
    "buffered_polygon = shp.buffer(0.005)"
   ]
  },
  {
   "cell_type": "code",
   "execution_count": 17,
   "metadata": {},
   "outputs": [
    {
     "output_type": "execute_result",
     "data": {
      "text/plain": [
       "289883"
      ]
     },
     "metadata": {},
     "execution_count": 17
    }
   ],
   "source": [
    "indexes = h3.polyfill(shapely.geometry.mapping(buffered_polygon), RESOLUTION, geo_json_conformant=False)\n",
    "len(indexes)"
   ]
  },
  {
   "cell_type": "code",
   "execution_count": 20,
   "metadata": {},
   "outputs": [
    {
     "output_type": "stream",
     "name": "stderr",
     "text": [
      "  0%|          | 0/289883 [00:00<?, ?it/s]<ipython-input-20-72ed47bdec27>:9: DeprecationWarning: count is deprecated. Use Collection.count_documents instead.\n",
      "  cache_count = coll_cache.find({ 'hex_id': h }).count()\n",
      "100%|██████████| 289883/289883 [14:13<00:00, 339.49it/s]\n"
     ]
    }
   ],
   "source": [
    "# hexes = []\n",
    "hexes_shp = []\n",
    "for h in tqdm(indexes):\n",
    "    polygons = h3.h3_set_to_multi_polygon([h], geo_json=False)\n",
    "    outlines = [loop for polygon in polygons for loop in polygon]\n",
    "    polyline = [outline + [outline[0]] for outline in outlines][0]\n",
    "    polygon = shapely.geometry.Polygon(polyline)\n",
    "    if shp.intersects(polygon):\n",
    "        cache_count = coll_cache.find({ 'hex_id': h }).count()\n",
    "        # hexes.append({'hex_id': h, 'geometry': shapely.geometry.mapping(polygon)})\n",
    "        hexes_shp.append({'hex_id': h, 'geometry': polygon, 'count': cache_count })"
   ]
  },
  {
   "cell_type": "code",
   "execution_count": 21,
   "metadata": {},
   "outputs": [],
   "source": [
    "df = gpd.GeoDataFrame(hexes_shp)\n",
    "del df['hex_id']\n",
    "df.to_file(f\"wrocław_hexes_cache_{RESOLUTION}.geojson\", driver='GeoJSON')"
   ]
  },
  {
   "cell_type": "code",
   "execution_count": null,
   "metadata": {},
   "outputs": [],
   "source": []
  }
 ]
}