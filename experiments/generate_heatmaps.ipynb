{
 "metadata": {
  "language_info": {
   "codemirror_mode": {
    "name": "ipython",
    "version": 3
   },
   "file_extension": ".py",
   "mimetype": "text/x-python",
   "name": "python",
   "nbconvert_exporter": "python",
   "pygments_lexer": "ipython3",
   "version": "3.8.5"
  },
  "orig_nbformat": 2,
  "kernelspec": {
   "name": "python385jvsc74a57bd0bc346ac4f0fa602f0832f03492fc478b53b4de00371d75702406557251e11c86",
   "display_name": "Python 3.8.5 64-bit ('base': conda)"
  },
  "metadata": {
   "interpreter": {
    "hash": "bc346ac4f0fa602f0832f03492fc478b53b4de00371d75702406557251e11c86"
   }
  }
 },
 "nbformat": 4,
 "nbformat_minor": 2,
 "cells": [
  {
   "cell_type": "code",
   "execution_count": 1,
   "metadata": {},
   "outputs": [],
   "source": [
    "%load_ext autoreload\n",
    "%autoreload 2"
   ]
  },
  {
   "cell_type": "code",
   "execution_count": 2,
   "metadata": {},
   "outputs": [],
   "source": [
    "from pymongo import ASCENDING, GEOSPHERE, MongoClient\n",
    "import pandas as pd\n",
    "from alive_progress import alive_bar\n",
    "from shapely.geometry import Point, mapping\n",
    "from keplergl import KeplerGl\n",
    "import shapely\n",
    "import json\n",
    "from os import listdir\n",
    "from os.path import isfile, join\n",
    "from tqdm import tqdm\n",
    "import geopandas as gpd\n",
    "from h3 import h3\n",
    "import math\n",
    "import sklearn\n",
    "import numpy as np\n",
    "import time"
   ]
  },
  {
   "cell_type": "code",
   "execution_count": 3,
   "metadata": {},
   "outputs": [],
   "source": [
    "from sklearn.model_selection import train_test_split\n",
    "from sklearn.neighbors import KNeighborsClassifier\n",
    "from sklearn.ensemble import RandomForestClassifier, AdaBoostClassifier\n",
    "from sklearn.svm import SVC\n",
    "from sklearn.model_selection import cross_val_score, StratifiedKFold\n",
    "from sklearn.metrics import classification_report\n",
    "from sklearn.metrics import accuracy_score, f1_score\n",
    "from sklearn.preprocessing import MinMaxScaler\n",
    "\n",
    "from neighbour_embedding_methods import AverageDiminishingNeighbourEmbedding, AverageDiminishingSquqredNeighbourEmbedding, AverageNeighbourEmbedding, ConcatenateNeighbourEmbedding\n",
    "from custom_distance_metric import DistanceMetric\n",
    "from embedding_methods import BaseCountCategoryEmbedding, BaseShapeAnalyzerEmbedding, PerCategoryShapeAnalyzerEmbedding300\n",
    "from embedding_methods import PerCategoryFilteredShapeAnalyzerEmbedding300"
   ]
  },
  {
   "cell_type": "code",
   "execution_count": 93,
   "metadata": {},
   "outputs": [],
   "source": [
    "INBALANCE_RATIO = 5\n",
    "RESOLUTION = 10\n",
    "# NEIGHBORS = {\n",
    "#     9: [0,1,2,3],\n",
    "#     10: [0,2,4,6,8,10],1\n",
    "#     11: [0,5,10,15,20,25]\n",
    "# }\n",
    "NEIGHBORS = 10\n",
    "# NEIGHBORS = 0\n",
    "CLASSIFIER = RandomForestClassifier\n",
    "# NEIGHBORS_EMBEDDING_CLASS = ConcatenateNeighbourEmbedding\n",
    "NEIGHBORS_EMBEDDING_CLASS = AverageDiminishingSquqredNeighbourEmbedding\n",
    "EMBEDDING_CLASS = BaseCountCategoryEmbedding"
   ]
  },
  {
   "cell_type": "code",
   "execution_count": 5,
   "metadata": {},
   "outputs": [],
   "source": [
    "client = MongoClient('mongodb://localhost:27017/')\n",
    "db = client.osmDataDB\n",
    "coll_cities = db.cities\n",
    "coll_relations = db.relations"
   ]
  },
  {
   "cell_type": "code",
   "execution_count": 6,
   "metadata": {},
   "outputs": [],
   "source": [
    "# city = coll_cities.find_one({'city': 'Wrocław'})\n",
    "city = coll_cities.find_one({'city': 'Wrocław'})\n",
    "train_city_1 = coll_cities.find_one({'city': 'Wrocław'})\n",
    "train_city_2 = coll_cities.find_one({'city': 'Warszawa'})\n",
    "train_city_3 = coll_cities.find_one({'city': 'Poznań'})"
   ]
  },
  {
   "cell_type": "code",
   "execution_count": 7,
   "metadata": {},
   "outputs": [],
   "source": [
    "shp = shapely.geometry.shape(city['geometry'])"
   ]
  },
  {
   "cell_type": "code",
   "execution_count": 8,
   "metadata": {},
   "outputs": [],
   "source": [
    "buffered_polygon = shp.buffer(0.005)"
   ]
  },
  {
   "cell_type": "code",
   "execution_count": 9,
   "metadata": {},
   "outputs": [],
   "source": [
    "indexes = h3.polyfill(shapely.geometry.mapping(buffered_polygon), RESOLUTION, geo_json_conformant=False)"
   ]
  },
  {
   "cell_type": "code",
   "execution_count": 10,
   "metadata": {},
   "outputs": [
    {
     "output_type": "execute_result",
     "data": {
      "text/plain": [
       "41418"
      ]
     },
     "metadata": {},
     "execution_count": 10
    }
   ],
   "source": [
    "len(indexes)"
   ]
  },
  {
   "cell_type": "code",
   "execution_count": 11,
   "metadata": {},
   "outputs": [
    {
     "output_type": "stream",
     "name": "stderr",
     "text": [
      "100%|██████████| 41418/41418 [00:21<00:00, 1958.36it/s]\n"
     ]
    }
   ],
   "source": [
    "hexes = []\n",
    "hexes_shp = []\n",
    "for h in tqdm(indexes):\n",
    "    polygons = h3.h3_set_to_multi_polygon([h], geo_json=False)\n",
    "    outlines = [loop for polygon in polygons for loop in polygon]\n",
    "    polyline = [outline + [outline[0]] for outline in outlines][0]\n",
    "    polygon = shapely.geometry.Polygon(polyline)\n",
    "    if shp.intersects(polygon):\n",
    "        hexes.append({'hex_id': h, 'geometry': shapely.geometry.mapping(polygon)})\n",
    "        hexes_shp.append({'hex_id': h, 'geometry': polygon})"
   ]
  },
  {
   "cell_type": "code",
   "execution_count": 12,
   "metadata": {},
   "outputs": [
    {
     "output_type": "execute_result",
     "data": {
      "text/plain": [
       "36488"
      ]
     },
     "metadata": {},
     "execution_count": 12
    }
   ],
   "source": [
    "len(hexes)"
   ]
  },
  {
   "cell_type": "code",
   "execution_count": 13,
   "metadata": {},
   "outputs": [
    {
     "output_type": "execute_result",
     "data": {
      "text/plain": [
       "                hex_id                                           geometry\n",
       "0      8a524302daeffff  POLYGON ((16.92769 51.12943, 16.92713 51.12969...\n",
       "1      8a52438d9b67fff  POLYGON ((17.07880 51.15019, 17.07823 51.14983...\n",
       "2      8a524315d937fff  POLYGON ((16.96501 51.16857, 16.96445 51.16884...\n",
       "3      8a5243171d57fff  POLYGON ((17.02157 51.13177, 17.02213 51.13150...\n",
       "4      8a52438ebc87fff  POLYGON ((17.13998 51.17182, 17.13941 51.17145...\n",
       "...                ...                                                ...\n",
       "36483  8a5243166427fff  POLYGON ((17.04904 51.13899, 17.04848 51.13862...\n",
       "36484  8a5243060ceffff  POLYGON ((16.91283 51.19383, 16.91227 51.19409...\n",
       "36485  8a5243066167fff  POLYGON ((16.91826 51.18118, 16.91770 51.18144...\n",
       "36486  8a5243176107fff  POLYGON ((17.02565 51.09700, 17.02621 51.09737...\n",
       "36487  8a5243155177fff  POLYGON ((16.98409 51.12802, 16.98408 51.12739...\n",
       "\n",
       "[36488 rows x 2 columns]"
      ],
      "text/html": "<div>\n<style scoped>\n    .dataframe tbody tr th:only-of-type {\n        vertical-align: middle;\n    }\n\n    .dataframe tbody tr th {\n        vertical-align: top;\n    }\n\n    .dataframe thead th {\n        text-align: right;\n    }\n</style>\n<table border=\"1\" class=\"dataframe\">\n  <thead>\n    <tr style=\"text-align: right;\">\n      <th></th>\n      <th>hex_id</th>\n      <th>geometry</th>\n    </tr>\n  </thead>\n  <tbody>\n    <tr>\n      <th>0</th>\n      <td>8a524302daeffff</td>\n      <td>POLYGON ((16.92769 51.12943, 16.92713 51.12969...</td>\n    </tr>\n    <tr>\n      <th>1</th>\n      <td>8a52438d9b67fff</td>\n      <td>POLYGON ((17.07880 51.15019, 17.07823 51.14983...</td>\n    </tr>\n    <tr>\n      <th>2</th>\n      <td>8a524315d937fff</td>\n      <td>POLYGON ((16.96501 51.16857, 16.96445 51.16884...</td>\n    </tr>\n    <tr>\n      <th>3</th>\n      <td>8a5243171d57fff</td>\n      <td>POLYGON ((17.02157 51.13177, 17.02213 51.13150...</td>\n    </tr>\n    <tr>\n      <th>4</th>\n      <td>8a52438ebc87fff</td>\n      <td>POLYGON ((17.13998 51.17182, 17.13941 51.17145...</td>\n    </tr>\n    <tr>\n      <th>...</th>\n      <td>...</td>\n      <td>...</td>\n    </tr>\n    <tr>\n      <th>36483</th>\n      <td>8a5243166427fff</td>\n      <td>POLYGON ((17.04904 51.13899, 17.04848 51.13862...</td>\n    </tr>\n    <tr>\n      <th>36484</th>\n      <td>8a5243060ceffff</td>\n      <td>POLYGON ((16.91283 51.19383, 16.91227 51.19409...</td>\n    </tr>\n    <tr>\n      <th>36485</th>\n      <td>8a5243066167fff</td>\n      <td>POLYGON ((16.91826 51.18118, 16.91770 51.18144...</td>\n    </tr>\n    <tr>\n      <th>36486</th>\n      <td>8a5243176107fff</td>\n      <td>POLYGON ((17.02565 51.09700, 17.02621 51.09737...</td>\n    </tr>\n    <tr>\n      <th>36487</th>\n      <td>8a5243155177fff</td>\n      <td>POLYGON ((16.98409 51.12802, 16.98408 51.12739...</td>\n    </tr>\n  </tbody>\n</table>\n<p>36488 rows × 2 columns</p>\n</div>"
     },
     "metadata": {},
     "execution_count": 13
    }
   ],
   "source": [
    "df = gpd.GeoDataFrame(hexes_shp)\n",
    "df"
   ]
  },
  {
   "cell_type": "code",
   "execution_count": 15,
   "metadata": {},
   "outputs": [],
   "source": [
    "df.to_file(f\"wrocław_hexes_{RESOLUTION}.geojson\", driver='GeoJSON')"
   ]
  },
  {
   "cell_type": "code",
   "execution_count": 34,
   "metadata": {},
   "outputs": [],
   "source": [
    "def generate_xy(cites_ids, resolution, inbalance_ratio, neighbours, neighbour_embedding_cls, embedding_cls, id=None):\n",
    "    client = MongoClient('mongodb://localhost:27017/')\n",
    "    coll_hex = client.osmDataDB.hexesInCitiesFiltered\n",
    "    relation_embedder = embedding_cls()\n",
    "    relation_embedder.fit({ 'city_id': { '$in': cites_ids } })\n",
    "    all_stations = [hex for hex in coll_hex.find({ 'city_id': { '$in': cites_ids }, 'has_station': True, 'resolution': resolution })]\n",
    "    stations_length = len(all_stations)\n",
    "    non_stations_cursor = coll_hex.aggregate([\n",
    "        { '$match': { 'city_id': { '$in': cites_ids }, 'has_station': False, 'resolution': resolution } },\n",
    "        { '$sample': { 'size': stations_length * inbalance_ratio } }\n",
    "    ])\n",
    "    non_stations = [hex for hex in non_stations_cursor]\n",
    "    hex_id_list =  [h['hex_id'] for h in all_stations + non_stations]\n",
    "    y = np.array([1] * stations_length + [0] * len(non_stations))\n",
    "    # metric = DistanceMetric()\n",
    "    # metric.fit({ 'city_id': { '$in': cites_ids } })\n",
    "    y = np.array([1] * stations_length + [0] * len(non_stations))\n",
    "    embedder = neighbour_embedding_cls(relation_embedder)\n",
    "    vectors_list = [embedder.get_embedding(h, neighbours, relation_embedder) for h in tqdm(all_stations + non_stations, desc=f'[{id}] Embedding hexes {embedding_cls.__name__}')]\n",
    "    # vectors = np.stack(vectors_list, axis=0)\n",
    "    vectors = np.array(vectors_list)\n",
    "    # vectors[np.isfinite(vectors) == True] = 0\n",
    "    try:\n",
    "        vectors[np.isnan(vectors) == True] = 0\n",
    "    except:\n",
    "        print(vectors)\n",
    "    return vectors, y, hex_id_list"
   ]
  },
  {
   "cell_type": "code",
   "execution_count": 14,
   "metadata": {},
   "outputs": [],
   "source": [
    "from functools import partial\n",
    "from tqdm.contrib.concurrent import process_map \n",
    "\n",
    "relation_embedder = EMBEDDING_CLASS()\n",
    "relation_embedder.fit({}, filtered = False)\n",
    "embedder = NEIGHBORS_EMBEDDING_CLASS(relation_embedder)\n",
    "\n",
    "def _embed(h):\n",
    "    embedder.get_embedding(h, NEIGHBORS, relation_embedder, check_if_exists=False)\n",
    "    return 0\n",
    "\n",
    "def generate_x(hexes, neighbours, neighbour_embedding_cls, embedding_cls, id=None):\n",
    "    relation_embedder = embedding_cls()\n",
    "    relation_embedder.fit({}, filtered = False)\n",
    "    embedder = neighbour_embedding_cls(relation_embedder)\n",
    "    # _embed = partial(embedder.get_embedding, no_rings = neighbours, embedding_cls = relation_embedder, check_if_exists = False)\n",
    "    # vectors_list = process_map(_embed, hexes, max_workers=16)\n",
    "    vectors_list = [embedder.get_embedding(h, neighbours, relation_embedder, check_if_exists=False) for h in tqdm(hexes, desc=f'[{id}] Embedding hexes {embedding_cls.__name__}')]\n",
    "    vectors = np.array(vectors_list)\n",
    "    try:\n",
    "        vectors[np.isnan(vectors) == True] = 0\n",
    "    except:\n",
    "        print(vectors)\n",
    "    return vectors"
   ]
  },
  {
   "cell_type": "code",
   "execution_count": 15,
   "metadata": {},
   "outputs": [],
   "source": [
    "def normalize_x(x):\n",
    "    new_array = np.zeros(x.shape)\n",
    "    # print(x.shape, new_array.shape)\n",
    "    for i in tqdm(range(x.shape[1])):\n",
    "        vector = x[:,i].reshape((-1,1))\n",
    "        scaler = MinMaxScaler()\n",
    "        new_array[:,i] = scaler.fit_transform(vector).reshape((-1,))\n",
    "    return new_array"
   ]
  },
  {
   "cell_type": "code",
   "execution_count": 94,
   "metadata": {
    "tags": []
   },
   "outputs": [
    {
     "output_type": "stream",
     "name": "stderr",
     "text": [
      "[None] Embedding hexes BaseCountCategoryEmbedding: 100%|██████████| 1290/1290 [00:07<00:00, 171.51it/s]\n"
     ]
    }
   ],
   "source": [
    "# train_cities_ids = [train_city_1['city_id'], train_city_2['city_id'], train_city_3['city_id']]\n",
    "# train_cities_ids = [train_city_2['city_id'], train_city_3['city_id']]\n",
    "train_cities_ids = [train_city_1['city_id']]\n",
    "x, y, hex_ids = generate_xy(train_cities_ids, RESOLUTION, INBALANCE_RATIO, NEIGHBORS, NEIGHBORS_EMBEDDING_CLASS, EMBEDDING_CLASS)"
   ]
  },
  {
   "cell_type": "code",
   "execution_count": 17,
   "metadata": {
    "tags": []
   },
   "outputs": [
    {
     "output_type": "stream",
     "name": "stderr",
     "text": [
      "[None] Embedding hexes BaseCountCategoryEmbedding: 100%|██████████| 36488/36488 [03:12<00:00, 189.97it/s]\n"
     ]
    }
   ],
   "source": [
    "wroclaw_x = generate_x(hexes, NEIGHBORS, NEIGHBORS_EMBEDDING_CLASS, EMBEDDING_CLASS)\n",
    "# for n in range(NEIGHBORS):\n",
    "#     wroclaw_x = generate_x(hsexes, n, NEIGHBORS_EMBEDDING_CLASS, EMBEDDING_CLASS)"
   ]
  },
  {
   "cell_type": "code",
   "execution_count": 95,
   "metadata": {},
   "outputs": [
    {
     "output_type": "stream",
     "name": "stderr",
     "text": [
      "100%|██████████| 20/20 [00:00<00:00, 4706.09it/s]\n",
      "100%|██████████| 20/20 [00:00<00:00, 488.48it/s]\n"
     ]
    }
   ],
   "source": [
    "normalized_x = normalize_x(x)\n",
    "normalized_wroclaw_x = normalize_x(wroclaw_x)"
   ]
  },
  {
   "cell_type": "code",
   "execution_count": 148,
   "metadata": {},
   "outputs": [
    {
     "output_type": "stream",
     "name": "stderr",
     "text": [
      "100%|██████████| 36/36 [00:00<00:00, 46.68it/s]\n"
     ]
    }
   ],
   "source": [
    "normalized_all_x = normalize_x(np.vstack((x, wroclaw_x)))"
   ]
  },
  {
   "cell_type": "code",
   "execution_count": 149,
   "metadata": {},
   "outputs": [],
   "source": [
    "normalized_x = normalized_all_x[:x.shape[0],:]\n",
    "normalized_wroclaw_x = normalized_all_x[x.shape[0]:,:]"
   ]
  },
  {
   "cell_type": "code",
   "execution_count": 96,
   "metadata": {},
   "outputs": [
    {
     "output_type": "stream",
     "name": "stdout",
     "text": [
      "(1290, 20) (36488, 20)\n"
     ]
    }
   ],
   "source": [
    "print(normalized_x.shape, normalized_wroclaw_x.shape)"
   ]
  },
  {
   "cell_type": "code",
   "execution_count": 97,
   "metadata": {},
   "outputs": [],
   "source": [
    "clf = CLASSIFIER()"
   ]
  },
  {
   "cell_type": "code",
   "execution_count": 98,
   "metadata": {},
   "outputs": [
    {
     "output_type": "execute_result",
     "data": {
      "text/plain": [
       "RandomForestClassifier()"
      ]
     },
     "metadata": {},
     "execution_count": 98
    }
   ],
   "source": [
    "clf.fit(normalized_x, y)"
   ]
  },
  {
   "cell_type": "code",
   "execution_count": 99,
   "metadata": {},
   "outputs": [
    {
     "output_type": "execute_result",
     "data": {
      "text/plain": [
       "array([0, 1])"
      ]
     },
     "metadata": {},
     "execution_count": 99
    }
   ],
   "source": [
    "clf.classes_"
   ]
  },
  {
   "cell_type": "code",
   "execution_count": 100,
   "metadata": {},
   "outputs": [],
   "source": [
    "exists_index = list(clf.classes_).index(1)"
   ]
  },
  {
   "cell_type": "code",
   "execution_count": 101,
   "metadata": {},
   "outputs": [],
   "source": [
    "wroc_y = clf.predict_proba(normalized_wroclaw_x)"
   ]
  },
  {
   "cell_type": "code",
   "execution_count": 102,
   "metadata": {},
   "outputs": [
    {
     "output_type": "execute_result",
     "data": {
      "text/plain": [
       "array([[1.  , 0.  ],\n",
       "       [0.93, 0.07],\n",
       "       [0.97, 0.03],\n",
       "       ...,\n",
       "       [1.  , 0.  ],\n",
       "       [0.97, 0.03],\n",
       "       [0.85, 0.15]])"
      ]
     },
     "metadata": {},
     "execution_count": 102
    }
   ],
   "source": [
    "wroc_y"
   ]
  },
  {
   "cell_type": "code",
   "execution_count": 103,
   "metadata": {},
   "outputs": [
    {
     "output_type": "execute_result",
     "data": {
      "text/plain": [
       "array([0.  , 0.07, 0.03, ..., 0.  , 0.03, 0.15])"
      ]
     },
     "metadata": {},
     "execution_count": 103
    }
   ],
   "source": [
    "probs = wroc_y[:,1]\n",
    "probs"
   ]
  },
  {
   "cell_type": "code",
   "execution_count": 104,
   "metadata": {},
   "outputs": [
    {
     "output_type": "stream",
     "name": "stderr",
     "text": [
      "/home/raczeq/anaconda3/lib/python3.8/site-packages/seaborn/distributions.py:2551: FutureWarning: `distplot` is a deprecated function and will be removed in a future version. Please adapt your code to use either `displot` (a figure-level function with similar flexibility) or `histplot` (an axes-level function for histograms).\n  warnings.warn(msg, FutureWarning)\n"
     ]
    },
    {
     "output_type": "execute_result",
     "data": {
      "text/plain": [
       "<AxesSubplot:ylabel='Density'>"
      ]
     },
     "metadata": {},
     "execution_count": 104
    },
    {
     "output_type": "display_data",
     "data": {
      "text/plain": "<Figure size 432x288 with 1 Axes>",
      "image/svg+xml": "<?xml version=\"1.0\" encoding=\"utf-8\" standalone=\"no\"?>\n<!DOCTYPE svg PUBLIC \"-//W3C//DTD SVG 1.1//EN\"\n  \"http://www.w3.org/Graphics/SVG/1.1/DTD/svg11.dtd\">\n<!-- Created with matplotlib (https://matplotlib.org/) -->\n<svg height=\"248.518125pt\" version=\"1.1\" viewBox=\"0 0 382.603125 248.518125\" width=\"382.603125pt\" xmlns=\"http://www.w3.org/2000/svg\" xmlns:xlink=\"http://www.w3.org/1999/xlink\">\n <metadata>\n  <rdf:RDF xmlns:cc=\"http://creativecommons.org/ns#\" xmlns:dc=\"http://purl.org/dc/elements/1.1/\" xmlns:rdf=\"http://www.w3.org/1999/02/22-rdf-syntax-ns#\">\n   <cc:Work>\n    <dc:type rdf:resource=\"http://purl.org/dc/dcmitype/StillImage\"/>\n    <dc:date>2021-05-28T20:33:38.663796</dc:date>\n    <dc:format>image/svg+xml</dc:format>\n    <dc:creator>\n     <cc:Agent>\n      <dc:title>Matplotlib v3.3.2, https://matplotlib.org/</dc:title>\n     </cc:Agent>\n    </dc:creator>\n   </cc:Work>\n  </rdf:RDF>\n </metadata>\n <defs>\n  <style type=\"text/css\">*{stroke-linecap:butt;stroke-linejoin:round;}</style>\n </defs>\n <g id=\"figure_1\">\n  <g id=\"patch_1\">\n   <path d=\"M 0 248.518125 \nL 382.603125 248.518125 \nL 382.603125 0 \nL 0 0 \nz\n\" style=\"fill:none;\"/>\n  </g>\n  <g id=\"axes_1\">\n   <g id=\"patch_2\">\n    <path d=\"M 40.603125 224.64 \nL 375.403125 224.64 \nL 375.403125 7.2 \nL 40.603125 7.2 \nz\n\" style=\"fill:#ffffff;\"/>\n   </g>\n   <g id=\"patch_3\">\n    <path clip-path=\"url(#p897b65eb8d)\" d=\"M 70.701596 224.64 \nL 76.193657 224.64 \nL 76.193657 17.554286 \nL 70.701596 17.554286 \nz\n\" style=\"fill:#1f77b4;opacity:0.4;\"/>\n   </g>\n   <g id=\"patch_4\">\n    <path clip-path=\"url(#p897b65eb8d)\" d=\"M 76.193657 224.64 \nL 81.685719 224.64 \nL 81.685719 186.234143 \nL 76.193657 186.234143 \nz\n\" style=\"fill:#1f77b4;opacity:0.4;\"/>\n   </g>\n   <g id=\"patch_5\">\n    <path clip-path=\"url(#p897b65eb8d)\" d=\"M 81.685719 224.64 \nL 87.17778 224.64 \nL 87.17778 209.89573 \nL 81.685719 209.89573 \nz\n\" style=\"fill:#1f77b4;opacity:0.4;\"/>\n   </g>\n   <g id=\"patch_6\">\n    <path clip-path=\"url(#p897b65eb8d)\" d=\"M 87.17778 224.64 \nL 92.669841 224.64 \nL 92.669841 211.133958 \nL 87.17778 211.133958 \nz\n\" style=\"fill:#1f77b4;opacity:0.4;\"/>\n   </g>\n   <g id=\"patch_7\">\n    <path clip-path=\"url(#p897b65eb8d)\" d=\"M 92.669841 224.64 \nL 98.161902 224.64 \nL 98.161902 212.236916 \nL 92.669841 212.236916 \nz\n\" style=\"fill:#1f77b4;opacity:0.4;\"/>\n   </g>\n   <g id=\"patch_8\">\n    <path clip-path=\"url(#p897b65eb8d)\" d=\"M 98.161902 224.64 \nL 103.653963 224.64 \nL 103.653963 219.676685 \nL 98.161902 219.676685 \nz\n\" style=\"fill:#1f77b4;opacity:0.4;\"/>\n   </g>\n   <g id=\"patch_9\">\n    <path clip-path=\"url(#p897b65eb8d)\" d=\"M 103.653963 224.64 \nL 109.146024 224.64 \nL 109.146024 205.546327 \nL 103.653963 205.546327 \nz\n\" style=\"fill:#1f77b4;opacity:0.4;\"/>\n   </g>\n   <g id=\"patch_10\">\n    <path clip-path=\"url(#p897b65eb8d)\" d=\"M 109.146024 224.64 \nL 114.638085 224.64 \nL 114.638085 212.767585 \nL 109.146024 212.767585 \nz\n\" style=\"fill:#1f77b4;opacity:0.4;\"/>\n   </g>\n   <g id=\"patch_11\">\n    <path clip-path=\"url(#p897b65eb8d)\" d=\"M 114.638085 224.64 \nL 120.130147 224.64 \nL 120.130147 216.565509 \nL 114.638085 216.565509 \nz\n\" style=\"fill:#1f77b4;opacity:0.4;\"/>\n   </g>\n   <g id=\"patch_12\">\n    <path clip-path=\"url(#p897b65eb8d)\" d=\"M 120.130147 224.64 \nL 125.622208 224.64 \nL 125.622208 219.895196 \nL 120.130147 219.895196 \nz\n\" style=\"fill:#1f77b4;opacity:0.4;\"/>\n   </g>\n   <g id=\"patch_13\">\n    <path clip-path=\"url(#p897b65eb8d)\" d=\"M 125.622208 224.64 \nL 131.114269 224.64 \nL 131.114269 222.839888 \nL 125.622208 222.839888 \nz\n\" style=\"fill:#1f77b4;opacity:0.4;\"/>\n   </g>\n   <g id=\"patch_14\">\n    <path clip-path=\"url(#p897b65eb8d)\" d=\"M 131.114269 224.64 \nL 136.60633 224.64 \nL 136.60633 220.998155 \nL 131.114269 220.998155 \nz\n\" style=\"fill:#1f77b4;opacity:0.4;\"/>\n   </g>\n   <g id=\"patch_15\">\n    <path clip-path=\"url(#p897b65eb8d)\" d=\"M 136.60633 224.64 \nL 142.098391 224.64 \nL 142.098391 220.831671 \nL 136.60633 220.831671 \nz\n\" style=\"fill:#1f77b4;opacity:0.4;\"/>\n   </g>\n   <g id=\"patch_16\">\n    <path clip-path=\"url(#p897b65eb8d)\" d=\"M 142.098391 224.64 \nL 147.590452 224.64 \nL 147.590452 220.977344 \nL 142.098391 220.977344 \nz\n\" style=\"fill:#1f77b4;opacity:0.4;\"/>\n   </g>\n   <g id=\"patch_17\">\n    <path clip-path=\"url(#p897b65eb8d)\" d=\"M 147.590452 224.64 \nL 153.082513 224.64 \nL 153.082513 222.985562 \nL 147.590452 222.985562 \nz\n\" style=\"fill:#1f77b4;opacity:0.4;\"/>\n   </g>\n   <g id=\"patch_18\">\n    <path clip-path=\"url(#p897b65eb8d)\" d=\"M 153.082513 224.64 \nL 158.574575 224.64 \nL 158.574575 221.95544 \nL 153.082513 221.95544 \nz\n\" style=\"fill:#1f77b4;opacity:0.4;\"/>\n   </g>\n   <g id=\"patch_19\">\n    <path clip-path=\"url(#p897b65eb8d)\" d=\"M 158.574575 224.64 \nL 164.066636 224.64 \nL 164.066636 222.069898 \nL 158.574575 222.069898 \nz\n\" style=\"fill:#1f77b4;opacity:0.4;\"/>\n   </g>\n   <g id=\"patch_20\">\n    <path clip-path=\"url(#p897b65eb8d)\" d=\"M 164.066636 224.64 \nL 169.558697 224.64 \nL 169.558697 222.236382 \nL 164.066636 222.236382 \nz\n\" style=\"fill:#1f77b4;opacity:0.4;\"/>\n   </g>\n   <g id=\"patch_21\">\n    <path clip-path=\"url(#p897b65eb8d)\" d=\"M 169.558697 224.64 \nL 175.050758 224.64 \nL 175.050758 222.943941 \nL 169.558697 222.943941 \nz\n\" style=\"fill:#1f77b4;opacity:0.4;\"/>\n   </g>\n   <g id=\"patch_22\">\n    <path clip-path=\"url(#p897b65eb8d)\" d=\"M 175.050758 224.64 \nL 180.542819 224.64 \nL 180.542819 222.819077 \nL 175.050758 222.819077 \nz\n\" style=\"fill:#1f77b4;opacity:0.4;\"/>\n   </g>\n   <g id=\"patch_23\">\n    <path clip-path=\"url(#p897b65eb8d)\" d=\"M 180.542819 224.64 \nL 186.03488 224.64 \nL 186.03488 223.87001 \nL 180.542819 223.87001 \nz\n\" style=\"fill:#1f77b4;opacity:0.4;\"/>\n   </g>\n   <g id=\"patch_24\">\n    <path clip-path=\"url(#p897b65eb8d)\" d=\"M 186.03488 224.64 \nL 191.526942 224.64 \nL 191.526942 223.089615 \nL 186.03488 223.089615 \nz\n\" style=\"fill:#1f77b4;opacity:0.4;\"/>\n   </g>\n   <g id=\"patch_25\">\n    <path clip-path=\"url(#p897b65eb8d)\" d=\"M 191.526942 224.64 \nL 197.019003 224.64 \nL 197.019003 223.256099 \nL 191.526942 223.256099 \nz\n\" style=\"fill:#1f77b4;opacity:0.4;\"/>\n   </g>\n   <g id=\"patch_26\">\n    <path clip-path=\"url(#p897b65eb8d)\" d=\"M 197.019003 224.64 \nL 202.511064 224.64 \nL 202.511064 223.079209 \nL 197.019003 223.079209 \nz\n\" style=\"fill:#1f77b4;opacity:0.4;\"/>\n   </g>\n   <g id=\"patch_27\">\n    <path clip-path=\"url(#p897b65eb8d)\" d=\"M 202.511064 224.64 \nL 208.003125 224.64 \nL 208.003125 223.380962 \nL 202.511064 223.380962 \nz\n\" style=\"fill:#1f77b4;opacity:0.4;\"/>\n   </g>\n   <g id=\"patch_28\">\n    <path clip-path=\"url(#p897b65eb8d)\" d=\"M 208.003125 224.64 \nL 213.495186 224.64 \nL 213.495186 224.036494 \nL 208.003125 224.036494 \nz\n\" style=\"fill:#1f77b4;opacity:0.4;\"/>\n   </g>\n   <g id=\"patch_29\">\n    <path clip-path=\"url(#p897b65eb8d)\" d=\"M 213.495186 224.64 \nL 218.987247 224.64 \nL 218.987247 223.505825 \nL 213.495186 223.505825 \nz\n\" style=\"fill:#1f77b4;opacity:0.4;\"/>\n   </g>\n   <g id=\"patch_30\">\n    <path clip-path=\"url(#p897b65eb8d)\" d=\"M 218.987247 224.64 \nL 224.479308 224.64 \nL 224.479308 223.651499 \nL 218.987247 223.651499 \nz\n\" style=\"fill:#1f77b4;opacity:0.4;\"/>\n   </g>\n   <g id=\"patch_31\">\n    <path clip-path=\"url(#p897b65eb8d)\" d=\"M 224.479308 224.64 \nL 229.97137 224.64 \nL 229.97137 223.620283 \nL 224.479308 223.620283 \nz\n\" style=\"fill:#1f77b4;opacity:0.4;\"/>\n   </g>\n   <g id=\"patch_32\">\n    <path clip-path=\"url(#p897b65eb8d)\" d=\"M 229.97137 224.64 \nL 235.463431 224.64 \nL 235.463431 224.171763 \nL 229.97137 224.171763 \nz\n\" style=\"fill:#1f77b4;opacity:0.4;\"/>\n   </g>\n   <g id=\"patch_33\">\n    <path clip-path=\"url(#p897b65eb8d)\" d=\"M 235.463431 224.64 \nL 240.955492 224.64 \nL 240.955492 223.630689 \nL 235.463431 223.630689 \nz\n\" style=\"fill:#1f77b4;opacity:0.4;\"/>\n   </g>\n   <g id=\"patch_34\">\n    <path clip-path=\"url(#p897b65eb8d)\" d=\"M 240.955492 224.64 \nL 246.447553 224.64 \nL 246.447553 223.87001 \nL 240.955492 223.87001 \nz\n\" style=\"fill:#1f77b4;opacity:0.4;\"/>\n   </g>\n   <g id=\"patch_35\">\n    <path clip-path=\"url(#p897b65eb8d)\" d=\"M 246.447553 224.64 \nL 251.939614 224.64 \nL 251.939614 223.734741 \nL 246.447553 223.734741 \nz\n\" style=\"fill:#1f77b4;opacity:0.4;\"/>\n   </g>\n   <g id=\"patch_36\">\n    <path clip-path=\"url(#p897b65eb8d)\" d=\"M 251.939614 224.64 \nL 257.431675 224.64 \nL 257.431675 224.005278 \nL 251.939614 224.005278 \nz\n\" style=\"fill:#1f77b4;opacity:0.4;\"/>\n   </g>\n   <g id=\"patch_37\">\n    <path clip-path=\"url(#p897b65eb8d)\" d=\"M 257.431675 224.64 \nL 262.923737 224.64 \nL 262.923737 223.974063 \nL 257.431675 223.974063 \nz\n\" style=\"fill:#1f77b4;opacity:0.4;\"/>\n   </g>\n   <g id=\"patch_38\">\n    <path clip-path=\"url(#p897b65eb8d)\" d=\"M 262.923737 224.64 \nL 268.415798 224.64 \nL 268.415798 224.202979 \nL 262.923737 224.202979 \nz\n\" style=\"fill:#1f77b4;opacity:0.4;\"/>\n   </g>\n   <g id=\"patch_39\">\n    <path clip-path=\"url(#p897b65eb8d)\" d=\"M 268.415798 224.64 \nL 273.907859 224.64 \nL 273.907859 224.015684 \nL 268.415798 224.015684 \nz\n\" style=\"fill:#1f77b4;opacity:0.4;\"/>\n   </g>\n   <g id=\"patch_40\">\n    <path clip-path=\"url(#p897b65eb8d)\" d=\"M 273.907859 224.64 \nL 279.39992 224.64 \nL 279.39992 224.202979 \nL 273.907859 224.202979 \nz\n\" style=\"fill:#1f77b4;opacity:0.4;\"/>\n   </g>\n   <g id=\"patch_41\">\n    <path clip-path=\"url(#p897b65eb8d)\" d=\"M 279.39992 224.64 \nL 284.891981 224.64 \nL 284.891981 224.26541 \nL 279.39992 224.26541 \nz\n\" style=\"fill:#1f77b4;opacity:0.4;\"/>\n   </g>\n   <g id=\"patch_42\">\n    <path clip-path=\"url(#p897b65eb8d)\" d=\"M 284.891981 224.64 \nL 290.384042 224.64 \nL 290.384042 224.317437 \nL 284.891981 224.317437 \nz\n\" style=\"fill:#1f77b4;opacity:0.4;\"/>\n   </g>\n   <g id=\"patch_43\">\n    <path clip-path=\"url(#p897b65eb8d)\" d=\"M 290.384042 224.64 \nL 295.876103 224.64 \nL 295.876103 224.473516 \nL 290.384042 224.473516 \nz\n\" style=\"fill:#1f77b4;opacity:0.4;\"/>\n   </g>\n   <g id=\"patch_44\">\n    <path clip-path=\"url(#p897b65eb8d)\" d=\"M 295.876103 224.64 \nL 301.368165 224.64 \nL 301.368165 224.26541 \nL 295.876103 224.26541 \nz\n\" style=\"fill:#1f77b4;opacity:0.4;\"/>\n   </g>\n   <g id=\"patch_45\">\n    <path clip-path=\"url(#p897b65eb8d)\" d=\"M 301.368165 224.64 \nL 306.860226 224.64 \nL 306.860226 224.317437 \nL 301.368165 224.317437 \nz\n\" style=\"fill:#1f77b4;opacity:0.4;\"/>\n   </g>\n   <g id=\"patch_46\">\n    <path clip-path=\"url(#p897b65eb8d)\" d=\"M 306.860226 224.64 \nL 312.352287 224.64 \nL 312.352287 224.307031 \nL 306.860226 224.307031 \nz\n\" style=\"fill:#1f77b4;opacity:0.4;\"/>\n   </g>\n   <g id=\"patch_47\">\n    <path clip-path=\"url(#p897b65eb8d)\" d=\"M 312.352287 224.64 \nL 317.844348 224.64 \nL 317.844348 224.525542 \nL 312.352287 224.525542 \nz\n\" style=\"fill:#1f77b4;opacity:0.4;\"/>\n   </g>\n   <g id=\"patch_48\">\n    <path clip-path=\"url(#p897b65eb8d)\" d=\"M 317.844348 224.64 \nL 323.336409 224.64 \nL 323.336409 224.255005 \nL 317.844348 224.255005 \nz\n\" style=\"fill:#1f77b4;opacity:0.4;\"/>\n   </g>\n   <g id=\"patch_49\">\n    <path clip-path=\"url(#p897b65eb8d)\" d=\"M 323.336409 224.64 \nL 328.82847 224.64 \nL 328.82847 224.452705 \nL 323.336409 224.452705 \nz\n\" style=\"fill:#1f77b4;opacity:0.4;\"/>\n   </g>\n   <g id=\"patch_50\">\n    <path clip-path=\"url(#p897b65eb8d)\" d=\"M 328.82847 224.64 \nL 334.320531 224.64 \nL 334.320531 224.525542 \nL 328.82847 224.525542 \nz\n\" style=\"fill:#1f77b4;opacity:0.4;\"/>\n   </g>\n   <g id=\"patch_51\">\n    <path clip-path=\"url(#p897b65eb8d)\" d=\"M 334.320531 224.64 \nL 339.812593 224.64 \nL 339.812593 224.577568 \nL 334.320531 224.577568 \nz\n\" style=\"fill:#1f77b4;opacity:0.4;\"/>\n   </g>\n   <g id=\"patch_52\">\n    <path clip-path=\"url(#p897b65eb8d)\" d=\"M 339.812593 224.64 \nL 345.304654 224.64 \nL 345.304654 224.587974 \nL 339.812593 224.587974 \nz\n\" style=\"fill:#1f77b4;opacity:0.4;\"/>\n   </g>\n   <g id=\"matplotlib.axis_1\">\n    <g id=\"xtick_1\">\n     <g id=\"line2d_1\">\n      <defs>\n       <path d=\"M 0 0 \nL 0 3.5 \n\" id=\"mc5a22d65f0\" style=\"stroke:#000000;stroke-width:0.8;\"/>\n      </defs>\n      <g>\n       <use style=\"stroke:#000000;stroke-width:0.8;\" x=\"70.701596\" xlink:href=\"#mc5a22d65f0\" y=\"224.64\"/>\n      </g>\n     </g>\n     <g id=\"text_1\">\n      <!-- 0.0 -->\n      <g transform=\"translate(62.750034 239.238437)scale(0.1 -0.1)\">\n       <defs>\n        <path d=\"M 31.78125 66.40625 \nQ 24.171875 66.40625 20.328125 58.90625 \nQ 16.5 51.421875 16.5 36.375 \nQ 16.5 21.390625 20.328125 13.890625 \nQ 24.171875 6.390625 31.78125 6.390625 \nQ 39.453125 6.390625 43.28125 13.890625 \nQ 47.125 21.390625 47.125 36.375 \nQ 47.125 51.421875 43.28125 58.90625 \nQ 39.453125 66.40625 31.78125 66.40625 \nz\nM 31.78125 74.21875 \nQ 44.046875 74.21875 50.515625 64.515625 \nQ 56.984375 54.828125 56.984375 36.375 \nQ 56.984375 17.96875 50.515625 8.265625 \nQ 44.046875 -1.421875 31.78125 -1.421875 \nQ 19.53125 -1.421875 13.0625 8.265625 \nQ 6.59375 17.96875 6.59375 36.375 \nQ 6.59375 54.828125 13.0625 64.515625 \nQ 19.53125 74.21875 31.78125 74.21875 \nz\n\" id=\"DejaVuSans-48\"/>\n        <path d=\"M 10.6875 12.40625 \nL 21 12.40625 \nL 21 0 \nL 10.6875 0 \nz\n\" id=\"DejaVuSans-46\"/>\n       </defs>\n       <use xlink:href=\"#DejaVuSans-48\"/>\n       <use x=\"63.623047\" xlink:href=\"#DejaVuSans-46\"/>\n       <use x=\"95.410156\" xlink:href=\"#DejaVuSans-48\"/>\n      </g>\n     </g>\n    </g>\n    <g id=\"xtick_2\">\n     <g id=\"line2d_2\">\n      <g>\n       <use style=\"stroke:#000000;stroke-width:0.8;\" x=\"131.724498\" xlink:href=\"#mc5a22d65f0\" y=\"224.64\"/>\n      </g>\n     </g>\n     <g id=\"text_2\">\n      <!-- 0.2 -->\n      <g transform=\"translate(123.772935 239.238437)scale(0.1 -0.1)\">\n       <defs>\n        <path d=\"M 19.1875 8.296875 \nL 53.609375 8.296875 \nL 53.609375 0 \nL 7.328125 0 \nL 7.328125 8.296875 \nQ 12.9375 14.109375 22.625 23.890625 \nQ 32.328125 33.6875 34.8125 36.53125 \nQ 39.546875 41.84375 41.421875 45.53125 \nQ 43.3125 49.21875 43.3125 52.78125 \nQ 43.3125 58.59375 39.234375 62.25 \nQ 35.15625 65.921875 28.609375 65.921875 \nQ 23.96875 65.921875 18.8125 64.3125 \nQ 13.671875 62.703125 7.8125 59.421875 \nL 7.8125 69.390625 \nQ 13.765625 71.78125 18.9375 73 \nQ 24.125 74.21875 28.421875 74.21875 \nQ 39.75 74.21875 46.484375 68.546875 \nQ 53.21875 62.890625 53.21875 53.421875 \nQ 53.21875 48.921875 51.53125 44.890625 \nQ 49.859375 40.875 45.40625 35.40625 \nQ 44.1875 33.984375 37.640625 27.21875 \nQ 31.109375 20.453125 19.1875 8.296875 \nz\n\" id=\"DejaVuSans-50\"/>\n       </defs>\n       <use xlink:href=\"#DejaVuSans-48\"/>\n       <use x=\"63.623047\" xlink:href=\"#DejaVuSans-46\"/>\n       <use x=\"95.410156\" xlink:href=\"#DejaVuSans-50\"/>\n      </g>\n     </g>\n    </g>\n    <g id=\"xtick_3\">\n     <g id=\"line2d_3\">\n      <g>\n       <use style=\"stroke:#000000;stroke-width:0.8;\" x=\"192.7474\" xlink:href=\"#mc5a22d65f0\" y=\"224.64\"/>\n      </g>\n     </g>\n     <g id=\"text_3\">\n      <!-- 0.4 -->\n      <g transform=\"translate(184.795837 239.238437)scale(0.1 -0.1)\">\n       <defs>\n        <path d=\"M 37.796875 64.3125 \nL 12.890625 25.390625 \nL 37.796875 25.390625 \nz\nM 35.203125 72.90625 \nL 47.609375 72.90625 \nL 47.609375 25.390625 \nL 58.015625 25.390625 \nL 58.015625 17.1875 \nL 47.609375 17.1875 \nL 47.609375 0 \nL 37.796875 0 \nL 37.796875 17.1875 \nL 4.890625 17.1875 \nL 4.890625 26.703125 \nz\n\" id=\"DejaVuSans-52\"/>\n       </defs>\n       <use xlink:href=\"#DejaVuSans-48\"/>\n       <use x=\"63.623047\" xlink:href=\"#DejaVuSans-46\"/>\n       <use x=\"95.410156\" xlink:href=\"#DejaVuSans-52\"/>\n      </g>\n     </g>\n    </g>\n    <g id=\"xtick_4\">\n     <g id=\"line2d_4\">\n      <g>\n       <use style=\"stroke:#000000;stroke-width:0.8;\" x=\"253.770301\" xlink:href=\"#mc5a22d65f0\" y=\"224.64\"/>\n      </g>\n     </g>\n     <g id=\"text_4\">\n      <!-- 0.6 -->\n      <g transform=\"translate(245.818739 239.238437)scale(0.1 -0.1)\">\n       <defs>\n        <path d=\"M 33.015625 40.375 \nQ 26.375 40.375 22.484375 35.828125 \nQ 18.609375 31.296875 18.609375 23.390625 \nQ 18.609375 15.53125 22.484375 10.953125 \nQ 26.375 6.390625 33.015625 6.390625 \nQ 39.65625 6.390625 43.53125 10.953125 \nQ 47.40625 15.53125 47.40625 23.390625 \nQ 47.40625 31.296875 43.53125 35.828125 \nQ 39.65625 40.375 33.015625 40.375 \nz\nM 52.59375 71.296875 \nL 52.59375 62.3125 \nQ 48.875 64.0625 45.09375 64.984375 \nQ 41.3125 65.921875 37.59375 65.921875 \nQ 27.828125 65.921875 22.671875 59.328125 \nQ 17.53125 52.734375 16.796875 39.40625 \nQ 19.671875 43.65625 24.015625 45.921875 \nQ 28.375 48.1875 33.59375 48.1875 \nQ 44.578125 48.1875 50.953125 41.515625 \nQ 57.328125 34.859375 57.328125 23.390625 \nQ 57.328125 12.15625 50.6875 5.359375 \nQ 44.046875 -1.421875 33.015625 -1.421875 \nQ 20.359375 -1.421875 13.671875 8.265625 \nQ 6.984375 17.96875 6.984375 36.375 \nQ 6.984375 53.65625 15.1875 63.9375 \nQ 23.390625 74.21875 37.203125 74.21875 \nQ 40.921875 74.21875 44.703125 73.484375 \nQ 48.484375 72.75 52.59375 71.296875 \nz\n\" id=\"DejaVuSans-54\"/>\n       </defs>\n       <use xlink:href=\"#DejaVuSans-48\"/>\n       <use x=\"63.623047\" xlink:href=\"#DejaVuSans-46\"/>\n       <use x=\"95.410156\" xlink:href=\"#DejaVuSans-54\"/>\n      </g>\n     </g>\n    </g>\n    <g id=\"xtick_5\">\n     <g id=\"line2d_5\">\n      <g>\n       <use style=\"stroke:#000000;stroke-width:0.8;\" x=\"314.793203\" xlink:href=\"#mc5a22d65f0\" y=\"224.64\"/>\n      </g>\n     </g>\n     <g id=\"text_5\">\n      <!-- 0.8 -->\n      <g transform=\"translate(306.84164 239.238437)scale(0.1 -0.1)\">\n       <defs>\n        <path d=\"M 31.78125 34.625 \nQ 24.75 34.625 20.71875 30.859375 \nQ 16.703125 27.09375 16.703125 20.515625 \nQ 16.703125 13.921875 20.71875 10.15625 \nQ 24.75 6.390625 31.78125 6.390625 \nQ 38.8125 6.390625 42.859375 10.171875 \nQ 46.921875 13.96875 46.921875 20.515625 \nQ 46.921875 27.09375 42.890625 30.859375 \nQ 38.875 34.625 31.78125 34.625 \nz\nM 21.921875 38.8125 \nQ 15.578125 40.375 12.03125 44.71875 \nQ 8.5 49.078125 8.5 55.328125 \nQ 8.5 64.0625 14.71875 69.140625 \nQ 20.953125 74.21875 31.78125 74.21875 \nQ 42.671875 74.21875 48.875 69.140625 \nQ 55.078125 64.0625 55.078125 55.328125 \nQ 55.078125 49.078125 51.53125 44.71875 \nQ 48 40.375 41.703125 38.8125 \nQ 48.828125 37.15625 52.796875 32.3125 \nQ 56.78125 27.484375 56.78125 20.515625 \nQ 56.78125 9.90625 50.3125 4.234375 \nQ 43.84375 -1.421875 31.78125 -1.421875 \nQ 19.734375 -1.421875 13.25 4.234375 \nQ 6.78125 9.90625 6.78125 20.515625 \nQ 6.78125 27.484375 10.78125 32.3125 \nQ 14.796875 37.15625 21.921875 38.8125 \nz\nM 18.3125 54.390625 \nQ 18.3125 48.734375 21.84375 45.5625 \nQ 25.390625 42.390625 31.78125 42.390625 \nQ 38.140625 42.390625 41.71875 45.5625 \nQ 45.3125 48.734375 45.3125 54.390625 \nQ 45.3125 60.0625 41.71875 63.234375 \nQ 38.140625 66.40625 31.78125 66.40625 \nQ 25.390625 66.40625 21.84375 63.234375 \nQ 18.3125 60.0625 18.3125 54.390625 \nz\n\" id=\"DejaVuSans-56\"/>\n       </defs>\n       <use xlink:href=\"#DejaVuSans-48\"/>\n       <use x=\"63.623047\" xlink:href=\"#DejaVuSans-46\"/>\n       <use x=\"95.410156\" xlink:href=\"#DejaVuSans-56\"/>\n      </g>\n     </g>\n    </g>\n   </g>\n   <g id=\"matplotlib.axis_2\">\n    <g id=\"ytick_1\">\n     <g id=\"line2d_6\">\n      <defs>\n       <path d=\"M 0 0 \nL -3.5 0 \n\" id=\"mc336688aff\" style=\"stroke:#000000;stroke-width:0.8;\"/>\n      </defs>\n      <g>\n       <use style=\"stroke:#000000;stroke-width:0.8;\" x=\"40.603125\" xlink:href=\"#mc336688aff\" y=\"224.64\"/>\n      </g>\n     </g>\n     <g id=\"text_6\">\n      <!-- 0 -->\n      <g transform=\"translate(27.240625 228.439219)scale(0.1 -0.1)\">\n       <use xlink:href=\"#DejaVuSans-48\"/>\n      </g>\n     </g>\n    </g>\n    <g id=\"ytick_2\">\n     <g id=\"line2d_7\">\n      <g>\n       <use style=\"stroke:#000000;stroke-width:0.8;\" x=\"40.603125\" xlink:href=\"#mc336688aff\" y=\"190.469921\"/>\n      </g>\n     </g>\n     <g id=\"text_7\">\n      <!-- 5 -->\n      <g transform=\"translate(27.240625 194.269139)scale(0.1 -0.1)\">\n       <defs>\n        <path d=\"M 10.796875 72.90625 \nL 49.515625 72.90625 \nL 49.515625 64.59375 \nL 19.828125 64.59375 \nL 19.828125 46.734375 \nQ 21.96875 47.46875 24.109375 47.828125 \nQ 26.265625 48.1875 28.421875 48.1875 \nQ 40.625 48.1875 47.75 41.5 \nQ 54.890625 34.8125 54.890625 23.390625 \nQ 54.890625 11.625 47.5625 5.09375 \nQ 40.234375 -1.421875 26.90625 -1.421875 \nQ 22.3125 -1.421875 17.546875 -0.640625 \nQ 12.796875 0.140625 7.71875 1.703125 \nL 7.71875 11.625 \nQ 12.109375 9.234375 16.796875 8.0625 \nQ 21.484375 6.890625 26.703125 6.890625 \nQ 35.15625 6.890625 40.078125 11.328125 \nQ 45.015625 15.765625 45.015625 23.390625 \nQ 45.015625 31 40.078125 35.4375 \nQ 35.15625 39.890625 26.703125 39.890625 \nQ 22.75 39.890625 18.8125 39.015625 \nQ 14.890625 38.140625 10.796875 36.28125 \nz\n\" id=\"DejaVuSans-53\"/>\n       </defs>\n       <use xlink:href=\"#DejaVuSans-53\"/>\n      </g>\n     </g>\n    </g>\n    <g id=\"ytick_3\">\n     <g id=\"line2d_8\">\n      <g>\n       <use style=\"stroke:#000000;stroke-width:0.8;\" x=\"40.603125\" xlink:href=\"#mc336688aff\" y=\"156.299841\"/>\n      </g>\n     </g>\n     <g id=\"text_8\">\n      <!-- 10 -->\n      <g transform=\"translate(20.878125 160.09906)scale(0.1 -0.1)\">\n       <defs>\n        <path d=\"M 12.40625 8.296875 \nL 28.515625 8.296875 \nL 28.515625 63.921875 \nL 10.984375 60.40625 \nL 10.984375 69.390625 \nL 28.421875 72.90625 \nL 38.28125 72.90625 \nL 38.28125 8.296875 \nL 54.390625 8.296875 \nL 54.390625 0 \nL 12.40625 0 \nz\n\" id=\"DejaVuSans-49\"/>\n       </defs>\n       <use xlink:href=\"#DejaVuSans-49\"/>\n       <use x=\"63.623047\" xlink:href=\"#DejaVuSans-48\"/>\n      </g>\n     </g>\n    </g>\n    <g id=\"ytick_4\">\n     <g id=\"line2d_9\">\n      <g>\n       <use style=\"stroke:#000000;stroke-width:0.8;\" x=\"40.603125\" xlink:href=\"#mc336688aff\" y=\"122.129762\"/>\n      </g>\n     </g>\n     <g id=\"text_9\">\n      <!-- 15 -->\n      <g transform=\"translate(20.878125 125.928981)scale(0.1 -0.1)\">\n       <use xlink:href=\"#DejaVuSans-49\"/>\n       <use x=\"63.623047\" xlink:href=\"#DejaVuSans-53\"/>\n      </g>\n     </g>\n    </g>\n    <g id=\"ytick_5\">\n     <g id=\"line2d_10\">\n      <g>\n       <use style=\"stroke:#000000;stroke-width:0.8;\" x=\"40.603125\" xlink:href=\"#mc336688aff\" y=\"87.959683\"/>\n      </g>\n     </g>\n     <g id=\"text_10\">\n      <!-- 20 -->\n      <g transform=\"translate(20.878125 91.758901)scale(0.1 -0.1)\">\n       <use xlink:href=\"#DejaVuSans-50\"/>\n       <use x=\"63.623047\" xlink:href=\"#DejaVuSans-48\"/>\n      </g>\n     </g>\n    </g>\n    <g id=\"ytick_6\">\n     <g id=\"line2d_11\">\n      <g>\n       <use style=\"stroke:#000000;stroke-width:0.8;\" x=\"40.603125\" xlink:href=\"#mc336688aff\" y=\"53.789603\"/>\n      </g>\n     </g>\n     <g id=\"text_11\">\n      <!-- 25 -->\n      <g transform=\"translate(20.878125 57.588822)scale(0.1 -0.1)\">\n       <use xlink:href=\"#DejaVuSans-50\"/>\n       <use x=\"63.623047\" xlink:href=\"#DejaVuSans-53\"/>\n      </g>\n     </g>\n    </g>\n    <g id=\"ytick_7\">\n     <g id=\"line2d_12\">\n      <g>\n       <use style=\"stroke:#000000;stroke-width:0.8;\" x=\"40.603125\" xlink:href=\"#mc336688aff\" y=\"19.619524\"/>\n      </g>\n     </g>\n     <g id=\"text_12\">\n      <!-- 30 -->\n      <g transform=\"translate(20.878125 23.418743)scale(0.1 -0.1)\">\n       <defs>\n        <path d=\"M 40.578125 39.3125 \nQ 47.65625 37.796875 51.625 33 \nQ 55.609375 28.21875 55.609375 21.1875 \nQ 55.609375 10.40625 48.1875 4.484375 \nQ 40.765625 -1.421875 27.09375 -1.421875 \nQ 22.515625 -1.421875 17.65625 -0.515625 \nQ 12.796875 0.390625 7.625 2.203125 \nL 7.625 11.71875 \nQ 11.71875 9.328125 16.59375 8.109375 \nQ 21.484375 6.890625 26.8125 6.890625 \nQ 36.078125 6.890625 40.9375 10.546875 \nQ 45.796875 14.203125 45.796875 21.1875 \nQ 45.796875 27.640625 41.28125 31.265625 \nQ 36.765625 34.90625 28.71875 34.90625 \nL 20.21875 34.90625 \nL 20.21875 43.015625 \nL 29.109375 43.015625 \nQ 36.375 43.015625 40.234375 45.921875 \nQ 44.09375 48.828125 44.09375 54.296875 \nQ 44.09375 59.90625 40.109375 62.90625 \nQ 36.140625 65.921875 28.71875 65.921875 \nQ 24.65625 65.921875 20.015625 65.03125 \nQ 15.375 64.15625 9.8125 62.3125 \nL 9.8125 71.09375 \nQ 15.4375 72.65625 20.34375 73.4375 \nQ 25.25 74.21875 29.59375 74.21875 \nQ 40.828125 74.21875 47.359375 69.109375 \nQ 53.90625 64.015625 53.90625 55.328125 \nQ 53.90625 49.265625 50.4375 45.09375 \nQ 46.96875 40.921875 40.578125 39.3125 \nz\n\" id=\"DejaVuSans-51\"/>\n       </defs>\n       <use xlink:href=\"#DejaVuSans-51\"/>\n       <use x=\"63.623047\" xlink:href=\"#DejaVuSans-48\"/>\n      </g>\n     </g>\n    </g>\n    <g id=\"text_13\">\n     <!-- Density -->\n     <g transform=\"translate(14.798438 134.928594)rotate(-90)scale(0.1 -0.1)\">\n      <defs>\n       <path d=\"M 19.671875 64.796875 \nL 19.671875 8.109375 \nL 31.59375 8.109375 \nQ 46.6875 8.109375 53.6875 14.9375 \nQ 60.6875 21.78125 60.6875 36.53125 \nQ 60.6875 51.171875 53.6875 57.984375 \nQ 46.6875 64.796875 31.59375 64.796875 \nz\nM 9.8125 72.90625 \nL 30.078125 72.90625 \nQ 51.265625 72.90625 61.171875 64.09375 \nQ 71.09375 55.28125 71.09375 36.53125 \nQ 71.09375 17.671875 61.125 8.828125 \nQ 51.171875 0 30.078125 0 \nL 9.8125 0 \nz\n\" id=\"DejaVuSans-68\"/>\n       <path d=\"M 56.203125 29.59375 \nL 56.203125 25.203125 \nL 14.890625 25.203125 \nQ 15.484375 15.921875 20.484375 11.0625 \nQ 25.484375 6.203125 34.421875 6.203125 \nQ 39.59375 6.203125 44.453125 7.46875 \nQ 49.3125 8.734375 54.109375 11.28125 \nL 54.109375 2.78125 \nQ 49.265625 0.734375 44.1875 -0.34375 \nQ 39.109375 -1.421875 33.890625 -1.421875 \nQ 20.796875 -1.421875 13.15625 6.1875 \nQ 5.515625 13.8125 5.515625 26.8125 \nQ 5.515625 40.234375 12.765625 48.109375 \nQ 20.015625 56 32.328125 56 \nQ 43.359375 56 49.78125 48.890625 \nQ 56.203125 41.796875 56.203125 29.59375 \nz\nM 47.21875 32.234375 \nQ 47.125 39.59375 43.09375 43.984375 \nQ 39.0625 48.390625 32.421875 48.390625 \nQ 24.90625 48.390625 20.390625 44.140625 \nQ 15.875 39.890625 15.1875 32.171875 \nz\n\" id=\"DejaVuSans-101\"/>\n       <path d=\"M 54.890625 33.015625 \nL 54.890625 0 \nL 45.90625 0 \nL 45.90625 32.71875 \nQ 45.90625 40.484375 42.875 44.328125 \nQ 39.84375 48.1875 33.796875 48.1875 \nQ 26.515625 48.1875 22.3125 43.546875 \nQ 18.109375 38.921875 18.109375 30.90625 \nL 18.109375 0 \nL 9.078125 0 \nL 9.078125 54.6875 \nL 18.109375 54.6875 \nL 18.109375 46.1875 \nQ 21.34375 51.125 25.703125 53.5625 \nQ 30.078125 56 35.796875 56 \nQ 45.21875 56 50.046875 50.171875 \nQ 54.890625 44.34375 54.890625 33.015625 \nz\n\" id=\"DejaVuSans-110\"/>\n       <path d=\"M 44.28125 53.078125 \nL 44.28125 44.578125 \nQ 40.484375 46.53125 36.375 47.5 \nQ 32.28125 48.484375 27.875 48.484375 \nQ 21.1875 48.484375 17.84375 46.4375 \nQ 14.5 44.390625 14.5 40.28125 \nQ 14.5 37.15625 16.890625 35.375 \nQ 19.28125 33.59375 26.515625 31.984375 \nL 29.59375 31.296875 \nQ 39.15625 29.25 43.1875 25.515625 \nQ 47.21875 21.78125 47.21875 15.09375 \nQ 47.21875 7.46875 41.1875 3.015625 \nQ 35.15625 -1.421875 24.609375 -1.421875 \nQ 20.21875 -1.421875 15.453125 -0.5625 \nQ 10.6875 0.296875 5.421875 2 \nL 5.421875 11.28125 \nQ 10.40625 8.6875 15.234375 7.390625 \nQ 20.0625 6.109375 24.8125 6.109375 \nQ 31.15625 6.109375 34.5625 8.28125 \nQ 37.984375 10.453125 37.984375 14.40625 \nQ 37.984375 18.0625 35.515625 20.015625 \nQ 33.0625 21.96875 24.703125 23.78125 \nL 21.578125 24.515625 \nQ 13.234375 26.265625 9.515625 29.90625 \nQ 5.8125 33.546875 5.8125 39.890625 \nQ 5.8125 47.609375 11.28125 51.796875 \nQ 16.75 56 26.8125 56 \nQ 31.78125 56 36.171875 55.265625 \nQ 40.578125 54.546875 44.28125 53.078125 \nz\n\" id=\"DejaVuSans-115\"/>\n       <path d=\"M 9.421875 54.6875 \nL 18.40625 54.6875 \nL 18.40625 0 \nL 9.421875 0 \nz\nM 9.421875 75.984375 \nL 18.40625 75.984375 \nL 18.40625 64.59375 \nL 9.421875 64.59375 \nz\n\" id=\"DejaVuSans-105\"/>\n       <path d=\"M 18.3125 70.21875 \nL 18.3125 54.6875 \nL 36.8125 54.6875 \nL 36.8125 47.703125 \nL 18.3125 47.703125 \nL 18.3125 18.015625 \nQ 18.3125 11.328125 20.140625 9.421875 \nQ 21.96875 7.515625 27.59375 7.515625 \nL 36.8125 7.515625 \nL 36.8125 0 \nL 27.59375 0 \nQ 17.1875 0 13.234375 3.875 \nQ 9.28125 7.765625 9.28125 18.015625 \nL 9.28125 47.703125 \nL 2.6875 47.703125 \nL 2.6875 54.6875 \nL 9.28125 54.6875 \nL 9.28125 70.21875 \nz\n\" id=\"DejaVuSans-116\"/>\n       <path d=\"M 32.171875 -5.078125 \nQ 28.375 -14.84375 24.75 -17.8125 \nQ 21.140625 -20.796875 15.09375 -20.796875 \nL 7.90625 -20.796875 \nL 7.90625 -13.28125 \nL 13.1875 -13.28125 \nQ 16.890625 -13.28125 18.9375 -11.515625 \nQ 21 -9.765625 23.484375 -3.21875 \nL 25.09375 0.875 \nL 2.984375 54.6875 \nL 12.5 54.6875 \nL 29.59375 11.921875 \nL 46.6875 54.6875 \nL 56.203125 54.6875 \nz\n\" id=\"DejaVuSans-121\"/>\n      </defs>\n      <use xlink:href=\"#DejaVuSans-68\"/>\n      <use x=\"77.001953\" xlink:href=\"#DejaVuSans-101\"/>\n      <use x=\"138.525391\" xlink:href=\"#DejaVuSans-110\"/>\n      <use x=\"201.904297\" xlink:href=\"#DejaVuSans-115\"/>\n      <use x=\"254.003906\" xlink:href=\"#DejaVuSans-105\"/>\n      <use x=\"281.787109\" xlink:href=\"#DejaVuSans-116\"/>\n      <use x=\"320.996094\" xlink:href=\"#DejaVuSans-121\"/>\n     </g>\n    </g>\n   </g>\n   <g id=\"line2d_13\">\n    <path clip-path=\"url(#p897b65eb8d)\" d=\"M 55.821307 223.837824 \nL 57.350772 222.692834 \nL 58.880238 220.333378 \nL 60.409703 215.956767 \nL 61.939169 208.67006 \nL 63.468634 197.827301 \nL 64.9981 183.503582 \nL 68.057031 150.34634 \nL 69.586496 136.843429 \nL 71.115962 129.059947 \nL 72.645427 128.408753 \nL 74.174893 134.565559 \nL 75.704358 145.701048 \nL 78.763289 172.795343 \nL 80.292755 184.652352 \nL 81.82222 194.038206 \nL 83.351686 200.891899 \nL 84.881151 205.570421 \nL 86.410617 208.580729 \nL 87.940083 210.416167 \nL 89.469548 211.486559 \nL 90.999014 212.101262 \nL 92.528479 212.470972 \nL 95.58741 212.866222 \nL 97.116876 212.907932 \nL 98.646341 212.798314 \nL 100.175807 212.519949 \nL 104.764203 211.328986 \nL 106.293669 211.218883 \nL 107.823134 211.415103 \nL 109.3526 211.923362 \nL 110.882065 212.686144 \nL 113.940996 214.606396 \nL 116.999927 216.54345 \nL 120.058858 218.210409 \nL 123.117789 219.522106 \nL 126.17672 220.439878 \nL 129.235651 220.977322 \nL 132.294582 221.220535 \nL 138.412444 221.321349 \nL 146.059772 221.464821 \nL 152.177634 221.85657 \nL 158.295496 222.23718 \nL 169.001755 222.72361 \nL 175.119617 223.011557 \nL 188.884806 223.269714 \nL 247.004495 223.909949 \nL 277.593806 224.227709 \nL 288.300064 224.334448 \nL 326.536702 224.460551 \nL 340.301892 224.588888 \nL 360.184943 224.639832 \nL 360.184943 224.639832 \n\" style=\"fill:none;stroke:#1f77b4;stroke-linecap:square;stroke-width:1.5;\"/>\n   </g>\n   <g id=\"patch_53\">\n    <path d=\"M 40.603125 224.64 \nL 40.603125 7.2 \n\" style=\"fill:none;stroke:#000000;stroke-linecap:square;stroke-linejoin:miter;stroke-width:0.8;\"/>\n   </g>\n   <g id=\"patch_54\">\n    <path d=\"M 375.403125 224.64 \nL 375.403125 7.2 \n\" style=\"fill:none;stroke:#000000;stroke-linecap:square;stroke-linejoin:miter;stroke-width:0.8;\"/>\n   </g>\n   <g id=\"patch_55\">\n    <path d=\"M 40.603125 224.64 \nL 375.403125 224.64 \n\" style=\"fill:none;stroke:#000000;stroke-linecap:square;stroke-linejoin:miter;stroke-width:0.8;\"/>\n   </g>\n   <g id=\"patch_56\">\n    <path d=\"M 40.603125 7.2 \nL 375.403125 7.2 \n\" style=\"fill:none;stroke:#000000;stroke-linecap:square;stroke-linejoin:miter;stroke-width:0.8;\"/>\n   </g>\n  </g>\n </g>\n <defs>\n  <clipPath id=\"p897b65eb8d\">\n   <rect height=\"217.44\" width=\"334.8\" x=\"40.603125\" y=\"7.2\"/>\n  </clipPath>\n </defs>\n</svg>\n",
      "image/png": "[encoded data removed]"
     },
     "metadata": {
      "needs_background": "light"
     }
    }
   ],
   "source": [
    "import seaborn as sns\n",
    "sns.distplot(probs)"
   ]
  },
  {
   "cell_type": "code",
   "execution_count": 105,
   "metadata": {},
   "outputs": [],
   "source": [
    "new_list = []\n",
    "for h, y in zip(hexes_shp, wroc_y):\n",
    "    h['probability'] = y[exists_index]\n",
    "    new_list.append(h)"
   ]
  },
  {
   "cell_type": "code",
   "execution_count": 106,
   "metadata": {},
   "outputs": [],
   "source": [
    "new_df = gpd.GeoDataFrame(new_list)"
   ]
  },
  {
   "cell_type": "code",
   "execution_count": 107,
   "metadata": {},
   "outputs": [],
   "source": [
    "del new_df['hex_id']"
   ]
  },
  {
   "cell_type": "code",
   "execution_count": 108,
   "metadata": {},
   "outputs": [],
   "source": [
    "new_df.to_file(f\"wrocław_hexes_probability_{RESOLUTION}_cc_rf_imb{INBALANCE_RATIO}.geojson\", driver='GeoJSON')"
   ]
  },
  {
   "cell_type": "code",
   "execution_count": 66,
   "metadata": {},
   "outputs": [
    {
     "output_type": "stream",
     "name": "stderr",
     "text": [
      "100%|██████████| 3918/3918 [00:00<00:00, 5498.57it/s]\n"
     ]
    }
   ],
   "source": [
    "coll_areas = db.areas\n",
    "swidnica = coll_areas.find_one({'osm_id': 3017761 })\n",
    "shp = shapely.geometry.shape(swidnica['geometry'])\n",
    "buffered_polygon = shp.buffer(0.005)\n",
    "indexes = h3.polyfill(shapely.geometry.mapping(buffered_polygon), RESOLUTION, geo_json_conformant=False)\n",
    "\n",
    "swidnica_hexes = []\n",
    "swidnica_hexes_shp = []\n",
    "for h in tqdm(indexes):\n",
    "    polygons = h3.h3_set_to_multi_polygon([h], geo_json=False)\n",
    "    outlines = [loop for polygon in polygons for loop in polygon]\n",
    "    polyline = [outline + [outline[0]] for outline in outlines][0]\n",
    "    polygon = shapely.geometry.Polygon(polyline)\n",
    "    if shp.intersects(polygon):\n",
    "        swidnica_hexes.append({'hex_id': h, 'geometry': shapely.geometry.mapping(polygon)})\n",
    "        swidnica_hexes_shp.append({'hex_id': h, 'geometry': polygon})"
   ]
  },
  {
   "cell_type": "code",
   "execution_count": 67,
   "metadata": {
    "tags": [
     "outputPrepend"
    ]
   },
   "outputs": [
    {
     "output_type": "stream",
     "name": "stderr",
     "text": [
      "a52437b3baffff\n",
      "No relations for hex 8a52437b3b1ffff\n",
      "No relations for hex 8a5243786d37fff\n",
      "No relations for hex 8a52437b3a6ffff\n",
      "No relations for hex 8a52437b3b5ffff\n",
      "No relations for hex 8a5243786c27fff\n",
      "No relations for hex 8a5243786c07fff\n",
      "No relations for hex 8a52437b3b57fff\n",
      "No relations for hex 8a5243786d07fff\n",
      "No relations for hex 8a52437b3b87fff\n",
      "No relations for hex 8a52437b3a67fff\n",
      "No relations for hex 8a52437b3b07fff\n",
      "No relations for hex 8a52437b3ba7fff\n",
      "No relations for hex 8a5243786d77fff\n",
      "No relations for hex 8a52437b3b2ffff\n",
      "No relations for hex 8a52437b3b77fff\n",
      "No relations for hex 8a52437b169ffff\n",
      "No relations for hex 8a5243786d27fff\n",
      "No relations for hex 8a52437b1697fff\n",
      "No relations for hex 8a5243786d57fff\n",
      "No relations for hex 8a52437b3b4ffff\n",
      "No relations for hex 8a5243786d2ffff\n",
      "No relations for hex 8a5243786c0ffff\n",
      "No relations for hex 8a52437b3bb7fff\n",
      "No relations for hex 8a5243786c2ffff\n",
      "No relations for hex 8a52437b3b47fff\n",
      "No relations for hex 8a52437b3b17fff\n",
      "No relations for hex 8a52437b16d7fff\n",
      "No relations for hex 8a52437b3b6ffff\n",
      "No relations for hex 8a52437b3b27fff\n",
      "No relations for hex 8a52437b1687fff\n",
      "No relations for hex 8a52437b3b67fff\n",
      "No relations for hex 8a52437b385ffff\n",
      "No relations for hex 8a5243786ceffff\n",
      "No relations for hex 8a52437b168ffff\n",
      "No relations for hex 8a52437b38effff\n",
      "No relations for hex 8a52437b16b7fff\n",
      "No relations for hex 8a52437b14dffff\n",
      "No relations for hex 8a52437b16dffff\n",
      "No relations for hex 8a52437b3b37fff\n",
      "No relations for hex 8a5243786d5ffff\n",
      "No relations for hex 8a5243786c57fff\n",
      "No relations for hex 8a52437b14d7fff\n",
      "No relations for hex 8a52437b384ffff\n",
      "No relations for hex 8a5243786d67fff\n",
      "No relations for hex 8a5243786d47fff\n",
      "No relations for hex 8a5243786c77fff\n",
      "No relations for hex 8a5243786c5ffff\n",
      "No relations for hex 8a52437b14cffff\n",
      "No relations for hex 8a52437b14c7fff\n",
      "No relations for hex 8a52437b3857fff\n",
      "No relations for hex 8a5243786d4ffff\n",
      "No relations for hex 8a52437b1797fff\n",
      "No relations for hex 8a5243786c47fff\n",
      "No relations for hex 8a52437b38e7fff\n",
      "No relations for hex 8a52437b14f7fff\n",
      "No relations for hex 8a5243786c67fff\n",
      "No relations for hex 8a52437b16cffff\n",
      "No relations for hex 8a5243786997fff\n",
      "No relations for hex 8a52437b16f7fff\n",
      "No relations for hex 8a52437b3847fff\n",
      "No relations for hex 8a52437861b7fff\n",
      "No relations for hex 8a5243786d6ffff\n",
      "No relations for hex 8a52437b16affff\n",
      "No relations for hex 8a52437b148ffff\n",
      "[None] Embedding hexes BaseCountCategoryEmbedding:  11%|█         | 311/2808 [02:13<22:05,  1.88it/s]No relations for hex 8a52437b179ffff\n",
      "No relations for hex 8a52437b16a7fff\n",
      "No relations for hex 8a52437b149ffff\n",
      "No relations for hex 8a52437b386ffff\n",
      "No relations for hex 8a52437b16c7fff\n",
      "[None] Embedding hexes BaseCountCategoryEmbedding:  11%|█         | 314/2808 [02:13<16:07,  2.58it/s]No relations for hex 8a52434c974ffff\n",
      "No relations for hex 8a52434c93b7fff\n",
      "No relations for hex 8a52434c9397fff\n",
      "No relations for hex 8a52434c976ffff\n",
      "No relations for hex 8a52434c90effff\n",
      "No relations for hex 8a52434c975ffff\n",
      "No relations for hex 8a52434c905ffff\n",
      "No relations for hex 8a52434c904ffff\n",
      "No relations for hex 8a52434c90cffff\n",
      "No relations for hex 8a52434c9767fff\n",
      "No relations for hex 8a52434c9747fff\n",
      "[None] Embedding hexes BaseCountCategoryEmbedding:  11%|█▏        | 316/2808 [02:14<13:30,  3.07it/s]No relations for hex 8a52434c962ffff\n",
      "No relations for hex 8a52434c9757fff\n",
      "[None] Embedding hexes BaseCountCategoryEmbedding:  11%|█▏        | 317/2808 [02:14<13:09,  3.15it/s]No relations for hex 8a5243796daffff\n",
      "No relations for hex 8a5243796d17fff\n",
      "No relations for hex 8a5243796d87fff\n",
      "No relations for hex 8a5243796da7fff\n",
      "[None] Embedding hexes BaseCountCategoryEmbedding:  12%|█▏        | 336/2808 [02:19<10:31,  3.92it/s]No relations for hex 8a524379a407fff\n",
      "No relations for hex 8a524379a42ffff\n",
      "No relations for hex 8a524379a017fff\n",
      "No relations for hex 8a524379a15ffff\n",
      "No relations for hex 8a524379a55ffff\n",
      "No relations for hex 8a524379a54ffff\n",
      "No relations for hex 8a524379a167fff\n",
      "No relations for hex 8a524379a0b7fff\n",
      "No relations for hex 8a524379a147fff\n",
      "No relations for hex 8a524379a007fff\n",
      "No relations for hex 8a524379a02ffff\n",
      "No relations for hex 8a524379a0a7fff\n",
      "No relations for hex 8a524379a16ffff\n",
      "No relations for hex 8a524379a087fff\n",
      "No relations for hex 8a524379a077fff\n",
      "No relations for hex 8a524379a0affff\n",
      "No relations for hex 8a524379a40ffff\n",
      "No relations for hex 8a524379a41ffff\n",
      "No relations for hex 8a524379ab97fff\n",
      "[None] Embedding hexes BaseCountCategoryEmbedding:  12%|█▏        | 337/2808 [02:20<13:30,  3.05it/s]No relations for hex 8a524379a00ffff\n",
      "No relations for hex 8a524379a067fff\n",
      "No relations for hex 8a524379a467fff\n",
      "No relations for hex 8a524379a097fff\n",
      "No relations for hex 8a524379a01ffff\n",
      "No relations for hex 8a524379a417fff\n",
      "No relations for hex 8a524379a14ffff\n",
      "No relations for hex 8a524379a477fff\n",
      "[None] Embedding hexes BaseCountCategoryEmbedding:  15%|█▍        | 416/2808 [02:40<10:17,  3.88it/s]No relations for hex 8a525cb688f7fff\n",
      "No relations for hex 8a525cb6c6a7fff\n",
      "No relations for hex 8a525cb6c6c7fff\n",
      "No relations for hex 8a525cb68997fff\n",
      "No relations for hex 8a525cb688a7fff\n",
      "No relations for hex 8a525cb6c6cffff\n",
      "No relations for hex 8a525cb6c6affff\n",
      "No relations for hex 8a525cb6899ffff\n",
      "No relations for hex 8a525cb688affff\n",
      "No relations for hex 8a525cb6c6f7fff\n",
      "No relations for hex 8a525cb688d7fff\n",
      "No relations for hex 8a525cb68887fff\n",
      "No relations for hex 8a525cb6c687fff\n",
      "No relations for hex 8a525cb68d67fff\n",
      "No relations for hex 8a525cb6c79ffff\n",
      "[None] Embedding hexes BaseCountCategoryEmbedding:  15%|█▍        | 417/2808 [02:41<13:44,  2.90it/s]No relations for hex 8a525cb6c68ffff\n",
      "No relations for hex 8a525cb688c7fff\n",
      "No relations for hex 8a525cb688effff\n",
      "No relations for hex 8a525cb6c787fff\n",
      "No relations for hex 8a525cb6c6dffff\n",
      "No relations for hex 8a525cb6c7a7fff\n",
      "No relations for hex 8a525cb6888ffff\n",
      "No relations for hex 8a525cb6885ffff\n",
      "No relations for hex 8a525cb688b7fff\n",
      "No relations for hex 8a525cb6c6d7fff\n",
      "No relations for hex 8a525cb68d6ffff\n",
      "No relations for hex 8a525cb6c6b7fff\n",
      "[None] Embedding hexes BaseCountCategoryEmbedding:  16%|█▌        | 444/2808 [02:48<11:39,  3.38it/s]No relations for hex 8a52437b22affff\n",
      "No relations for hex 8a52437b2277fff\n",
      "No relations for hex 8a52437b220ffff\n",
      "No relations for hex 8a52437b221ffff\n",
      "No relations for hex 8a52437b2207fff\n",
      "No relations for hex 8a52437b2217fff\n",
      "No relations for hex 8a52437b222ffff\n",
      "No relations for hex 8a52437b2267fff\n",
      "No relations for hex 8a52437b235ffff\n",
      "No relations for hex 8a52437b22a7fff\n",
      "[None] Embedding hexes BaseCountCategoryEmbedding:  17%|█▋        | 464/2808 [02:53<10:54,  3.58it/s]No relations for hex 8a524379c0affff\n",
      "[None] Embedding hexes BaseCountCategoryEmbedding:  17%|█▋        | 465/2808 [02:53<11:21,  3.44it/s]No relations for hex 8a524379855ffff\n",
      "No relations for hex 8a5243798547fff\n",
      "No relations for hex 8a5243798ccffff\n",
      "No relations for hex 8a5243798567fff\n",
      "No relations for hex 8a5243798477fff\n",
      "[None] Embedding hexes BaseCountCategoryEmbedding:  17%|█▋        | 466/2808 [02:54<11:14,  3.47it/s]No relations for hex 8a524379c89ffff\n",
      "No relations for hex 8a524379c887fff\n",
      "[None] Embedding hexes BaseCountCategoryEmbedding:  17%|█▋        | 477/2808 [02:57<10:06,  3.84it/s]No relations for hex 8a52437b2237fff\n",
      "No relations for hex 8a52437b238ffff\n",
      "No relations for hex 8a52437b239ffff\n",
      "No relations for hex 8a52437b2777fff\n",
      "No relations for hex 8a52437b23affff\n",
      "No relations for hex 8a52437b2227fff\n",
      "No relations for hex 8a52437b2387fff\n",
      "No relations for hex 8a52437b2787fff\n",
      "No relations for hex 8a52437b271ffff\n",
      "No relations for hex 8a52437b231ffff\n",
      "No relations for hex 8a52437b27affff\n",
      "No relations for hex 8a52437b2767fff\n",
      "No relations for hex 8a52437b2797fff\n",
      "No relations for hex 8a52437b270ffff\n",
      "[None] Embedding hexes BaseCountCategoryEmbedding:  17%|█▋        | 478/2808 [02:57<11:57,  3.25it/s]No relations for hex 8a52437b2397fff\n",
      "[None] Embedding hexes BaseCountCategoryEmbedding:  17%|█▋        | 479/2808 [02:57<12:07,  3.20it/s]No relations for hex 8a52437b3c77fff\n",
      "No relations for hex 8a52437b3c1ffff\n",
      "No relations for hex 8a52437b3c0ffff\n",
      "No relations for hex 8a52437b3c87fff\n",
      "No relations for hex 8a52437b3caffff\n",
      "No relations for hex 8a52437b3c97fff\n",
      "[None] Embedding hexes BaseCountCategoryEmbedding:  19%|█▉        | 530/2808 [03:11<09:39,  3.93it/s]No relations for hex 8a52437b230ffff\n",
      "No relations for hex 8a52437b2357fff\n",
      "[None] Embedding hexes BaseCountCategoryEmbedding:  19%|█▉        | 545/2808 [03:14<09:51,  3.83it/s]No relations for hex 8a52434c9aaffff\n",
      "No relations for hex 8a52434c9a87fff\n",
      "[None] Embedding hexes BaseCountCategoryEmbedding:  19%|█▉        | 546/2808 [03:15<10:29,  3.59it/s]No relations for hex 8a52437861a7fff\n",
      "No relations for hex 8a5243786187fff\n",
      "[None] Embedding hexes BaseCountCategoryEmbedding:  20%|██        | 572/2808 [03:21<09:40,  3.85it/s]No relations for hex 8a52437b234ffff\n",
      "[None] Embedding hexes BaseCountCategoryEmbedding:  21%|██        | 586/2808 [03:25<10:30,  3.53it/s]No relations for hex 8a52434c90c7fff\n",
      "No relations for hex 8a52434c90dffff\n",
      "No relations for hex 8a52434c9777fff\n",
      "[None] Embedding hexes BaseCountCategoryEmbedding:  21%|██        | 589/2808 [03:26<10:15,  3.61it/s]No relations for hex 8a5243796d97fff\n",
      "[None] Embedding hexes BaseCountCategoryEmbedding:  21%|██        | 591/2808 [03:27<10:17,  3.59it/s]No relations for hex 8a524379c0f7fff\n",
      "[None] Embedding hexes BaseCountCategoryEmbedding:  21%|██▏       | 601/2808 [03:29<10:33,  3.48it/s]No relations for hex 8a52434c9607fff\n",
      "No relations for hex 8a52434c968ffff\n",
      "No relations for hex 8a52434c96affff\n",
      "No relations for hex 8a52434c9617fff\n",
      "No relations for hex 8a52434c9627fff\n",
      "No relations for hex 8a52434c9637fff\n",
      "[None] Embedding hexes BaseCountCategoryEmbedding:  22%|██▏       | 612/2808 [03:32<09:58,  3.67it/s]No relations for hex 8a52437b3c67fff\n",
      "No relations for hex 8a52437b3897fff\n",
      "[None] Embedding hexes BaseCountCategoryEmbedding:  22%|██▏       | 626/2808 [03:36<10:44,  3.39it/s]No relations for hex 8a525cb65c27fff\n",
      "No relations for hex 8a52434cb61ffff\n",
      "No relations for hex 8a525cb6552ffff\n",
      "No relations for hex 8a525cb65c07fff\n",
      "No relations for hex 8a525cb65c1ffff\n",
      "No relations for hex 8a525cb65d2ffff\n",
      "No relations for hex 8a525cb65d0ffff\n",
      "No relations for hex 8a52434cb6f7fff\n",
      "No relations for hex 8a52434cb6d7fff\n",
      "No relations for hex 8a525cb65cf7fff\n",
      "No relations for hex 8a525cb65cd7fff\n",
      "[None] Embedding hexes BaseCountCategoryEmbedding:  23%|██▎       | 648/2808 [03:42<09:56,  3.62it/s]No relations for hex 8a524379ab17fff\n",
      "No relations for hex 8a524379ab87fff\n",
      "No relations for hex 8a524379abaffff\n",
      "[None] Embedding hexes BaseCountCategoryEmbedding:  24%|██▎       | 662/2808 [03:45<09:23,  3.81it/s]No relations for hex 8a52434cb76ffff\n",
      "[None] Embedding hexes BaseCountCategoryEmbedding:  24%|██▎       | 663/2808 [03:46<10:36,  3.37it/s]No relations for hex 8a52437862cffff\n",
      "No relations for hex 8a524378639ffff\n",
      "No relations for hex 8a52437862c7fff\n",
      "No relations for hex 8a52437862affff\n",
      "No relations for hex 8a5243786397fff\n",
      "No relations for hex 8a52437862a7fff\n",
      "No relations for hex 8a52437860c7fff\n",
      "No relations for hex 8a52437860cffff\n",
      "No relations for hex 8a52437862f7fff\n",
      "No relations for hex 8a52437860affff\n",
      "No relations for hex 8a52437860f7fff\n",
      "[None] Embedding hexes BaseCountCategoryEmbedding:  25%|██▍       | 689/2808 [03:52<09:33,  3.70it/s]No relations for hex 8a52434cb367fff\n",
      "[None] Embedding hexes BaseCountCategoryEmbedding:  25%|██▌       | 706/2808 [03:57<09:06,  3.85it/s]No relations for hex 8a524379c017fff\n",
      "No relations for hex 8a524379c01ffff\n",
      "[None] Embedding hexes BaseCountCategoryEmbedding:  26%|██▌       | 722/2808 [04:01<09:44,  3.57it/s]No relations for hex 8a52437b381ffff\n",
      "No relations for hex 8a52437b1497fff\n",
      "No relations for hex 8a52437b380ffff\n",
      "No relations for hex 8a52437b3867fff\n",
      "No relations for hex 8a52437b38affff\n",
      "No relations for hex 8a52437b3887fff\n",
      "No relations for hex 8a52437b3877fff\n",
      "[None] Embedding hexes BaseCountCategoryEmbedding:  26%|██▋       | 744/2808 [04:07<08:52,  3.88it/s]No relations for hex 8a52434c9a17fff\n",
      "No relations for hex 8a52434c9aa7fff\n",
      "[None] Embedding hexes BaseCountCategoryEmbedding:  28%|██▊       | 773/2808 [04:14<08:54,  3.81it/s]No relations for hex 8a524379a59ffff\n",
      "No relations for hex 8a524379a4a7fff\n",
      "No relations for hex 8a524379a4affff\n",
      "No relations for hex 8a524379a09ffff\n",
      "No relations for hex 8a524379a08ffff\n",
      "No relations for hex 8a524379a48ffff\n",
      "No relations for hex 8a524379a447fff\n",
      "No relations for hex 8a524379a46ffff\n",
      "No relations for hex 8a524379a4b7fff\n",
      "No relations for hex 8a524379a487fff\n",
      "No relations for hex 8a524379a0f7fff\n",
      "No relations for hex 8a524379a0e7fff\n",
      "No relations for hex 8a525cb6996ffff\n",
      "[None] Embedding hexes BaseCountCategoryEmbedding:  28%|██▊       | 774/2808 [04:15<10:49,  3.13it/s]No relations for hex 8a524379a457fff\n",
      "No relations for hex 8a524379a057fff\n",
      "No relations for hex 8a524379a4e7fff\n",
      "No relations for hex 8a524379a4f7fff\n",
      "[None] Embedding hexes BaseCountCategoryEmbedding:  28%|██▊       | 794/2808 [04:20<08:32,  3.93it/s]No relations for hex 8a524379ab9ffff\n",
      "[None] Embedding hexes BaseCountCategoryEmbedding:  30%|██▉       | 838/2808 [04:31<08:41,  3.77it/s]No relations for hex 8a524379c11ffff\n",
      "No relations for hex 8a524379c107fff\n",
      "No relations for hex 8a524379c037fff\n",
      "[None] Embedding hexes BaseCountCategoryEmbedding:  30%|███       | 851/2808 [04:35<08:25,  3.88it/s]No relations for hex 8a525cb61377fff\n",
      "[None] Embedding hexes BaseCountCategoryEmbedding:  31%|███       | 859/2808 [04:37<09:32,  3.41it/s]No relations for hex 8a52437b20dffff\n",
      "No relations for hex 8a52437b2347fff\n",
      "No relations for hex 8a52437b272ffff\n",
      "No relations for hex 8a52437b23b7fff\n",
      "No relations for hex 8a52437b2307fff\n",
      "No relations for hex 8a52437b20cffff\n",
      "No relations for hex 8a52437b27a7fff\n",
      "No relations for hex 8a52437b2317fff\n",
      "No relations for hex 8a52437b2377fff\n",
      "No relations for hex 8a52437b2707fff\n",
      "No relations for hex 8a52437b232ffff\n",
      "No relations for hex 8a52437b2717fff\n",
      "No relations for hex 8a52437b23a7fff\n",
      "[None] Embedding hexes BaseCountCategoryEmbedding:  31%|███       | 864/2808 [04:38<09:08,  3.55it/s]No relations for hex 8a52437b3c17fff\n",
      "No relations for hex 8a52437b3cb7fff\n",
      "No relations for hex 8a52437b3d5ffff\n",
      "No relations for hex 8a52437b3c07fff\n",
      "No relations for hex 8a52437b3c2ffff\n",
      "No relations for hex 8a52437b3ca7fff\n",
      "[None] Embedding hexes BaseCountCategoryEmbedding:  32%|███▏      | 890/2808 [04:45<08:41,  3.68it/s]No relations for hex 8a524379a047fff\n",
      "[None] Embedding hexes BaseCountCategoryEmbedding:  35%|███▌      | 983/2808 [05:09<08:28,  3.59it/s]No relations for hex 8a52434cb30ffff\n",
      "No relations for hex 8a52434cb31ffff\n",
      "No relations for hex 8a52434cb397fff\n",
      "No relations for hex 8a52434cb387fff\n",
      "No relations for hex 8a52434cb3affff\n",
      "[None] Embedding hexes BaseCountCategoryEmbedding:  35%|███▌      | 988/2808 [05:10<08:20,  3.63it/s]No relations for hex 8a52434c9b67fff\n",
      "[None] Embedding hexes BaseCountCategoryEmbedding:  36%|███▌      | 1002/2808 [05:14<07:52,  3.82it/s]No relations for hex 8a52437b1487fff\n",
      "[None] Embedding hexes BaseCountCategoryEmbedding:  36%|███▌      | 1005/2808 [05:15<08:12,  3.66it/s]No relations for hex 8a524379c82ffff\n",
      "No relations for hex 8a524379c817fff\n",
      "No relations for hex 8a524379c807fff\n",
      "[None] Embedding hexes BaseCountCategoryEmbedding:  38%|███▊      | 1058/2808 [05:29<07:32,  3.86it/s]No relations for hex 8a525cb69d2ffff\n",
      "[None] Embedding hexes BaseCountCategoryEmbedding:  38%|███▊      | 1071/2808 [05:33<07:31,  3.84it/s]No relations for hex 8a525cb654effff\n",
      "No relations for hex 8a525cb657b7fff\n",
      "[None] Embedding hexes BaseCountCategoryEmbedding:  39%|███▉      | 1098/2808 [05:39<07:15,  3.93it/s]No relations for hex 8a524379c0dffff\n",
      "[None] Embedding hexes BaseCountCategoryEmbedding:  44%|████▎     | 1224/2808 [06:12<06:37,  3.99it/s]No relations for hex 8a524379aab7fff\n",
      "[None] Embedding hexes BaseCountCategoryEmbedding:  46%|████▌     | 1298/2808 [06:30<06:27,  3.89it/s]No relations for hex 8a524379c127fff\n",
      "[None] Embedding hexes BaseCountCategoryEmbedding:  48%|████▊     | 1357/2808 [06:45<06:43,  3.59it/s]No relations for hex 8a524378225ffff\n",
      "No relations for hex 8a5243782247fff\n",
      "No relations for hex 8a5243782267fff\n",
      "No relations for hex 8a524378236ffff\n",
      "No relations for hex 8a5243782a67fff\n",
      "No relations for hex 8a5243783d97fff\n",
      "No relations for hex 8a524378234ffff\n",
      "No relations for hex 8a5243782a5ffff\n",
      "No relations for hex 8a5243783db7fff\n",
      "No relations for hex 8a5243782a47fff\n",
      "No relations for hex 8a52437835b7fff\n",
      "[None] Embedding hexes BaseCountCategoryEmbedding:  49%|████▉     | 1375/2808 [06:50<06:53,  3.47it/s]No relations for hex 8a52434c970ffff\n",
      "[None] Embedding hexes BaseCountCategoryEmbedding:  49%|████▉     | 1379/2808 [06:51<06:44,  3.53it/s]No relations for hex 8a525cb69d67fff\n",
      "No relations for hex 8a525cb69997fff\n",
      "[None] Embedding hexes BaseCountCategoryEmbedding:  50%|████▉     | 1397/2808 [06:56<06:15,  3.76it/s]No relations for hex 8a5243782b4ffff\n",
      "[None] Embedding hexes BaseCountCategoryEmbedding:  53%|█████▎    | 1480/2808 [07:17<05:48,  3.81it/s]No relations for hex 8a52434c906ffff\n",
      "No relations for hex 8a52434c9047fff\n",
      "No relations for hex 8a52434c9057fff\n",
      "[None] Embedding hexes BaseCountCategoryEmbedding:  57%|█████▋    | 1614/2808 [07:52<05:21,  3.71it/s]No relations for hex 8a525cb6135ffff\n",
      "No relations for hex 8a525cb61357fff\n",
      "No relations for hex 8a525cb61277fff\n",
      "No relations for hex 8a525cb6122ffff\n",
      "[None] Embedding hexes BaseCountCategoryEmbedding:  58%|█████▊    | 1617/2808 [07:52<05:16,  3.76it/s]No relations for hex 8a524379c947fff\n",
      "[None] Embedding hexes BaseCountCategoryEmbedding:  59%|█████▉    | 1665/2808 [08:05<04:56,  3.85it/s]No relations for hex 8a525cb69d07fff\n",
      "[None] Embedding hexes BaseCountCategoryEmbedding:  60%|█████▉    | 1681/2808 [08:10<05:27,  3.44it/s]No relations for hex 8a52434c972ffff\n",
      "No relations for hex 8a52434c90d7fff\n",
      "[None] Embedding hexes BaseCountCategoryEmbedding:  63%|██████▎   | 1776/2808 [08:35<04:19,  3.98it/s]No relations for hex 8a524379c88ffff\n",
      "[None] Embedding hexes BaseCountCategoryEmbedding:  65%|██████▍   | 1820/2808 [08:46<04:12,  3.91it/s]No relations for hex 8a52437b3d4ffff\n",
      "[None] Embedding hexes BaseCountCategoryEmbedding:  69%|██████▉   | 1951/2808 [09:19<03:47,  3.77it/s]No relations for hex 8a524379c95ffff\n",
      "[None] Embedding hexes BaseCountCategoryEmbedding:  74%|███████▎  | 2069/2808 [09:50<03:06,  3.97it/s]No relations for hex 8a524379c747fff\n",
      "No relations for hex 8a524379c767fff\n",
      "[None] Embedding hexes BaseCountCategoryEmbedding:  76%|███████▋  | 2143/2808 [10:09<02:50,  3.89it/s]No relations for hex 8a525cb68a07fff\n",
      "No relations for hex 8a525cb68a57fff\n",
      "No relations for hex 8a525cb68a37fff\n",
      "No relations for hex 8a525cb68ba7fff\n",
      "No relations for hex 8a525cb68a0ffff\n",
      "[None] Embedding hexes BaseCountCategoryEmbedding:  79%|███████▊  | 2205/2808 [10:24<02:21,  4.25it/s]No relations for hex 8a525cb6550ffff\n",
      "[None] Embedding hexes BaseCountCategoryEmbedding:  79%|███████▉  | 2221/2808 [10:28<02:24,  4.05it/s]No relations for hex 8a52434c9a97fff\n",
      "[None] Embedding hexes BaseCountCategoryEmbedding:  83%|████████▎ | 2324/2808 [10:53<02:04,  3.89it/s]No relations for hex 8a524379c0c7fff\n",
      "[None] Embedding hexes BaseCountCategoryEmbedding:  84%|████████▍ | 2354/2808 [11:01<01:58,  3.84it/s]No relations for hex 8a524379c007fff\n",
      "[None] Embedding hexes BaseCountCategoryEmbedding:  86%|████████▌ | 2402/2808 [11:13<01:37,  4.18it/s]No relations for hex 8a525cb65427fff\n",
      "[None] Embedding hexes BaseCountCategoryEmbedding:  90%|████████▉ | 2515/2808 [11:40<01:13,  3.96it/s]No relations for hex 8a525cb68a5ffff\n",
      "[None] Embedding hexes BaseCountCategoryEmbedding:  91%|█████████ | 2544/2808 [11:47<01:27,  3.03it/s]No relations for hex 8a52437984d7fff\n",
      "[None] Embedding hexes BaseCountCategoryEmbedding:  95%|█████████▍| 2665/2808 [12:17<00:34,  4.11it/s]No relations for hex 8a5243796db7fff\n",
      "[None] Embedding hexes BaseCountCategoryEmbedding:  97%|█████████▋| 2730/2808 [12:34<00:20,  3.89it/s]No relations for hex 8a5243783597fff\n",
      "[None] Embedding hexes BaseCountCategoryEmbedding: 100%|██████████| 2808/2808 [12:53<00:00,  3.63it/s]\n"
     ]
    }
   ],
   "source": [
    "swidnica_x = generate_x(swidnica_hexes, NEIGHBORS, NEIGHBORS_EMBEDDING_CLASS, EMBEDDING_CLASS)"
   ]
  },
  {
   "cell_type": "code",
   "execution_count": 74,
   "metadata": {},
   "outputs": [
    {
     "output_type": "stream",
     "name": "stderr",
     "text": [
      "100%|██████████| 20/20 [00:00<00:00, 3757.33it/s]\n",
      "100%|██████████| 20/20 [00:00<00:00, 3920.46it/s]\n"
     ]
    }
   ],
   "source": [
    "normalized_x = normalize_x(x)\n",
    "normalized_swidnica_x = normalize_x(swidnica_x)"
   ]
  },
  {
   "cell_type": "code",
   "execution_count": 75,
   "metadata": {},
   "outputs": [
    {
     "output_type": "execute_result",
     "data": {
      "text/plain": [
       "(860, 20)"
      ]
     },
     "metadata": {},
     "execution_count": 75
    }
   ],
   "source": [
    "normalized_x.shape"
   ]
  },
  {
   "cell_type": "code",
   "execution_count": 77,
   "metadata": {},
   "outputs": [],
   "source": [
    "clf = CLASSIFIER()\n",
    "clf.fit(normalized_x, y)\n",
    "exists_index = list(clf.classes_).index(1)\n",
    "swidnica_y = clf.predict_proba(normalized_swidnica_x)\n",
    "new_list = []\n",
    "for h, y in zip(swidnica_hexes_shp, swidnica_y):\n",
    "    h['probability'] = y[exists_index]\n",
    "    new_list.append(h)\n",
    "\n",
    "new_df = gpd.GeoDataFrame(new_list)\n",
    "del new_df['hex_id']\n",
    "new_df.to_file(f\"swidnica_hexes_probability_{RESOLUTION}_normalized_concatenate_based_on_wroclaw_inb{INBALANCE_RATIO}.geojson\", driver='GeoJSON')"
   ]
  },
  {
   "cell_type": "code",
   "execution_count": null,
   "metadata": {},
   "outputs": [],
   "source": []
  }
 ]
}